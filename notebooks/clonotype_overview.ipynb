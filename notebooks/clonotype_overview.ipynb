{
 "cells": [
  {
   "cell_type": "code",
   "execution_count": 2,
   "metadata": {},
   "outputs": [],
   "source": [
    "import pandas as pd\n",
    "import numpy as np\n",
    "import matplotlib.pyplot as plt\n",
    "import seaborn as sns"
   ]
  },
  {
   "cell_type": "markdown",
   "metadata": {},
   "source": [
    "# Load data"
   ]
  },
  {
   "cell_type": "code",
   "execution_count": 3,
   "metadata": {},
   "outputs": [],
   "source": [
    "df = pd.read_csv(\"src/clonotypes.csv\", header=0) # [\"clonotype_id\", \"frequency\", \"proportion\", \"cdr3s_aa_A\", \"cdr3s_aa_B\", \"cdr3_nt_A\", \"cdr3_nt_B\"]"
   ]
  },
  {
   "cell_type": "code",
   "execution_count": 5,
   "metadata": {},
   "outputs": [],
   "source": [
    "pmhc_barcodes = np.loadtxt(\"/Volumes/tuba/herpov/tcr-pmhc-sc-project/data/exp3_MHC/processed/longranger_clean/tmp/unique_gems_min_2.lst\", dtype=np.str)"
   ]
  },
  {
   "cell_type": "code",
   "execution_count": 6,
   "metadata": {
    "scrolled": true
   },
   "outputs": [
    {
     "data": {
      "text/html": [
       "<div>\n",
       "<style scoped>\n",
       "    .dataframe tbody tr th:only-of-type {\n",
       "        vertical-align: middle;\n",
       "    }\n",
       "\n",
       "    .dataframe tbody tr th {\n",
       "        vertical-align: top;\n",
       "    }\n",
       "\n",
       "    .dataframe thead th {\n",
       "        text-align: right;\n",
       "    }\n",
       "</style>\n",
       "<table border=\"1\" class=\"dataframe\">\n",
       "  <thead>\n",
       "    <tr style=\"text-align: right;\">\n",
       "      <th></th>\n",
       "      <th>clonotype_id</th>\n",
       "      <th>frequency</th>\n",
       "      <th>proportion</th>\n",
       "      <th>cdr3s_aa</th>\n",
       "      <th>cdr3s_nt</th>\n",
       "    </tr>\n",
       "  </thead>\n",
       "  <tbody>\n",
       "    <tr>\n",
       "      <th>0</th>\n",
       "      <td>clonotype1</td>\n",
       "      <td>461</td>\n",
       "      <td>0.109112</td>\n",
       "      <td>TRA:CAASNLVF;TRB:CASSLVVVDEQFF</td>\n",
       "      <td>TRA:TGTGCAGCAAGTAATCTGGTCTTT;TRB:TGTGCCAGCAGCT...</td>\n",
       "    </tr>\n",
       "    <tr>\n",
       "      <th>1</th>\n",
       "      <td>clonotype2</td>\n",
       "      <td>333</td>\n",
       "      <td>0.078817</td>\n",
       "      <td>TRA:CAAKSDSGGGADGLTF;TRB:CASSAWTSNRDEQFF</td>\n",
       "      <td>TRA:TGTGCAGCAAAATCGGATTCAGGAGGAGGTGCTGACGGACTC...</td>\n",
       "    </tr>\n",
       "    <tr>\n",
       "      <th>2</th>\n",
       "      <td>clonotype3</td>\n",
       "      <td>125</td>\n",
       "      <td>0.029586</td>\n",
       "      <td>TRA:CALYNTDKLIF;TRB:CASSPTSGSVYEQYF</td>\n",
       "      <td>TRA:TGTGCTCTTTATAACACCGACAAGCTCATCTTT;TRB:TGTG...</td>\n",
       "    </tr>\n",
       "    <tr>\n",
       "      <th>3</th>\n",
       "      <td>clonotype4</td>\n",
       "      <td>86</td>\n",
       "      <td>0.020355</td>\n",
       "      <td>TRA:CVYNQGGKLIF;TRB:CASSQARDPTGELFF</td>\n",
       "      <td>TRA:TGTGTTTATAACCAGGGAGGAAAGCTTATCTTC;TRB:TGTG...</td>\n",
       "    </tr>\n",
       "    <tr>\n",
       "      <th>4</th>\n",
       "      <td>clonotype5</td>\n",
       "      <td>73</td>\n",
       "      <td>0.017278</td>\n",
       "      <td>TRA:CAYRSEWRDDKIIF;TRB:CASSPPIAGGPYNEQFF</td>\n",
       "      <td>TRA:TGTGCTTATAGGAGCGAGTGGAGAGATGACAAGATCATCTTT...</td>\n",
       "    </tr>\n",
       "  </tbody>\n",
       "</table>\n",
       "</div>"
      ],
      "text/plain": [
       "  clonotype_id  frequency  proportion  \\\n",
       "0   clonotype1        461    0.109112   \n",
       "1   clonotype2        333    0.078817   \n",
       "2   clonotype3        125    0.029586   \n",
       "3   clonotype4         86    0.020355   \n",
       "4   clonotype5         73    0.017278   \n",
       "\n",
       "                                   cdr3s_aa  \\\n",
       "0            TRA:CAASNLVF;TRB:CASSLVVVDEQFF   \n",
       "1  TRA:CAAKSDSGGGADGLTF;TRB:CASSAWTSNRDEQFF   \n",
       "2       TRA:CALYNTDKLIF;TRB:CASSPTSGSVYEQYF   \n",
       "3       TRA:CVYNQGGKLIF;TRB:CASSQARDPTGELFF   \n",
       "4  TRA:CAYRSEWRDDKIIF;TRB:CASSPPIAGGPYNEQFF   \n",
       "\n",
       "                                            cdr3s_nt  \n",
       "0  TRA:TGTGCAGCAAGTAATCTGGTCTTT;TRB:TGTGCCAGCAGCT...  \n",
       "1  TRA:TGTGCAGCAAAATCGGATTCAGGAGGAGGTGCTGACGGACTC...  \n",
       "2  TRA:TGTGCTCTTTATAACACCGACAAGCTCATCTTT;TRB:TGTG...  \n",
       "3  TRA:TGTGTTTATAACCAGGGAGGAAAGCTTATCTTC;TRB:TGTG...  \n",
       "4  TRA:TGTGCTTATAGGAGCGAGTGGAGAGATGACAAGATCATCTTT...  "
      ]
     },
     "execution_count": 6,
     "metadata": {},
     "output_type": "execute_result"
    }
   ],
   "source": [
    "df.head()"
   ]
  },
  {
   "cell_type": "code",
   "execution_count": 7,
   "metadata": {},
   "outputs": [
    {
     "data": {
      "text/plain": [
       "array(['AAACCTGAGAATCTCC-1', 'AAACCTGAGAATTGTG-1', 'AAACCTGAGACAGGCT-1',\n",
       "       ..., 'TTTGTCATCTTAACCT-1', 'TTTGTCATCTTCGGTC-1',\n",
       "       'TTTGTCATCTTTAGTC-1'], dtype='<U18')"
      ]
     },
     "execution_count": 7,
     "metadata": {},
     "output_type": "execute_result"
    }
   ],
   "source": [
    "pmhc_barcodes"
   ]
  },
  {
   "cell_type": "markdown",
   "metadata": {},
   "source": [
    "# Prepare data"
   ]
  },
  {
   "cell_type": "markdown",
   "metadata": {},
   "source": [
    "Raw data consists of columns with multiple sequences of TRAs and TRBs. These sequences are split to form new columns. The number of sequences is not constant and therefore some of the produced columns may contain None values."
   ]
  },
  {
   "cell_type": "code",
   "execution_count": null,
   "metadata": {},
   "outputs": [],
   "source": [
    "cdr3s_aa = df[\"cdr3s_aa\"].str.split(\";\", n = -1, expand = True) # OBS! also split on tab?!\n",
    "cdr3s_nt = df[\"cdr3s_nt\"].str.split(\";\", n = -1, expand = True)"
   ]
  },
  {
   "cell_type": "code",
   "execution_count": null,
   "metadata": {},
   "outputs": [],
   "source": [
    "print(\"Raw DF dimensions: \", df.shape)\n",
    "print(\"CDR3s_aa dimensions: \", cdr3s_aa.shape)\n",
    "print(\"CDR3s_nt dimensions: \", cdr3s_nt.shape)"
   ]
  },
  {
   "cell_type": "code",
   "execution_count": null,
   "metadata": {},
   "outputs": [],
   "source": [
    "cdr3s_aa.columns=['aa0', 'aa1', 'aa2', 'aa3', 'aa4', 'aa5']\n",
    "cdr3s_nt.columns=['nt0', 'nt1', 'nt2', 'nt3', 'nt4', 'nt5']"
   ]
  },
  {
   "cell_type": "code",
   "execution_count": null,
   "metadata": {},
   "outputs": [],
   "source": [
    "df = pd.concat([df, cdr3s_aa, cdr3s_nt], axis=1)\n",
    "df.drop(labels=[\"cdr3s_aa\", \"cdr3s_nt\"], axis=\"columns\", inplace=True)\n",
    "df.head()"
   ]
  },
  {
   "cell_type": "markdown",
   "metadata": {},
   "source": [
    "## Variables"
   ]
  },
  {
   "cell_type": "code",
   "execution_count": null,
   "metadata": {},
   "outputs": [],
   "source": [
    "aa_columns = list(range(3, 9))\n",
    "nt_columns = list(range(9, 15))"
   ]
  },
  {
   "cell_type": "markdown",
   "metadata": {},
   "source": [
    "# Counts of alpha & beta chains (aa) registered per clonotype"
   ]
  },
  {
   "cell_type": "markdown",
   "metadata": {},
   "source": [
    "Count the number of clonotypes represented with different number of TRA and TRBs.\n",
    "The counts are gathered in a dataframe df_counts.\n",
    "The rows represent different numbers of TRAs.\n",
    "The columns represent different numbers of TRBs."
   ]
  },
  {
   "cell_type": "code",
   "execution_count": null,
   "metadata": {},
   "outputs": [],
   "source": [
    "df_counts = pd.DataFrame(0, columns=[0,1,2,3,4,5], index=[0,1,2,3,4,5])\n",
    "\n",
    "# Collect indexes of clonotypes that have missing chains\n",
    "index_TRA = list()\n",
    "index_TRB = list()\n",
    "\n",
    "# NB! Assumption of column indexes\n",
    "for i in range(df.shape[0]):\n",
    "    count_TRA = sum(df.iloc[i][aa_columns].str.startswith('TRA:', na=False))\n",
    "    count_TRB = sum(df.iloc[i][aa_columns].str.startswith('TRB:', na=False))\n",
    "    df_counts.iloc[count_TRA, count_TRB] += 1\n",
    "    \n",
    "    if count_TRA == 0 and count_TRB:\n",
    "        index_TRB.append(i)\n",
    "    elif count_TRB == 0 and count_TRA:\n",
    "        index_TRA.append(i)"
   ]
  },
  {
   "cell_type": "code",
   "execution_count": null,
   "metadata": {},
   "outputs": [],
   "source": [
    "df_counts.columns = ['0 TRBs', '1 TRB', '2 TRBs', '3 TRBs', '4 TRBs', '5 TRBs']\n",
    "df_counts.index = ['0 TRAs', '1 TRA', '2 TRAs', '3 TRAs', '4 TRAs', '5 TRAs']\n",
    "df_counts"
   ]
  },
  {
   "cell_type": "code",
   "execution_count": null,
   "metadata": {},
   "outputs": [],
   "source": [
    "df_counts.plot.bar()\n",
    "plt.show()"
   ]
  },
  {
   "cell_type": "markdown",
   "metadata": {},
   "source": [
    "# Number of clonotypes with missing alpha chain and recursive beta chain"
   ]
  },
  {
   "cell_type": "code",
   "execution_count": null,
   "metadata": {},
   "outputs": [],
   "source": [
    "df.iloc[index_TRA].head()"
   ]
  },
  {
   "cell_type": "code",
   "execution_count": null,
   "metadata": {},
   "outputs": [],
   "source": [
    "recurrent_indexes = list()\n",
    "\n",
    "for i in index_TRA:\n",
    "    cdr3_seqs = df.iloc[i, nt_columns][df.iloc[i, nt_columns].str.startswith('TRA:', na=False)].values\n",
    "    for nt_seq in cdr3_seqs:\n",
    "        assert nt_seq[0:4] == 'TRA:' and len(nt_seq) > 4, nt_seq[0:4]\n",
    "        remaining_clones = df.iloc[[remaining_element for remaining_element in list(df.index) if remaining_element not in index_TRA]]\n",
    "        recurrent_indexes.append(list(remaining_clones[remaining_clones.eq(nt_seq).any(1)].index))\n",
    "recurrent_indexes"
   ]
  },
  {
   "cell_type": "markdown",
   "metadata": {},
   "source": [
    "# Number of clonotypes with missing beta chain and recursive alpha chain"
   ]
  },
  {
   "cell_type": "code",
   "execution_count": null,
   "metadata": {
    "scrolled": true
   },
   "outputs": [],
   "source": [
    "lrange(2)"
   ]
  },
  {
   "cell_type": "code",
   "execution_count": null,
   "metadata": {},
   "outputs": [],
   "source": []
  },
  {
   "cell_type": "markdown",
   "metadata": {},
   "source": [
    "# Trials and errors"
   ]
  },
  {
   "cell_type": "markdown",
   "metadata": {},
   "source": [
    "# Counts of alpha chains (AA) registered per clonotype"
   ]
  },
  {
   "cell_type": "markdown",
   "metadata": {},
   "source": [
    "TRA_aa_0 = sum( ~df['aa0'].str.startswith('TRA', na=False) & ~df['aa1'].str.startswith('TRA', na=False) & ~df['aa2'].str.startswith('TRA', na=False) & ~df['aa3'].str.startswith('TRA', na=False) & ~df['aa4'].str.startswith('TRA', na=False) & ~df['aa5'].str.startswith('TRA', na=False))\n",
    "TRA_aa_1 = sum( df['aa0'].str.startswith('TRA', na=False) & ~df['aa1'].str.startswith('TRA', na=False) & ~df['aa2'].str.startswith('TRA', na=False) & ~df['aa3'].str.startswith('TRA', na=False) & ~df['aa4'].str.startswith('TRA', na=False) & ~df['aa5'].str.startswith('TRA', na=False))\n",
    "TRA_aa_2 = sum( df['aa0'].str.startswith('TRA', na=False) & df['aa1'].str.startswith('TRA', na=False) & ~df['aa2'].str.startswith('TRA', na=False) & ~df['aa3'].str.startswith('TRA', na=False) & ~df['aa4'].str.startswith('TRA', na=False) & ~df['aa5'].str.startswith('TRA', na=False))\n",
    "TRA_aa_3 = sum( df['aa0'].str.startswith('TRA', na=False) & df['aa1'].str.startswith('TRA', na=False) & df['aa2'].str.startswith('TRA', na=False) & ~df['aa3'].str.startswith('TRA', na=False) & ~df['aa4'].str.startswith('TRA', na=False) & ~df['aa5'].str.startswith('TRA', na=False))\n",
    "TRA_aa_4 = sum( df['aa0'].str.startswith('TRA', na=False) & df['aa1'].str.startswith('TRA', na=False) & df['aa2'].str.startswith('TRA', na=False) & df['aa3'].str.startswith('TRA', na=False) & ~df['aa4'].str.startswith('TRA', na=False) & ~df['aa5'].str.startswith('TRA', na=False))\n",
    "TRA_aa_5 = sum( df['aa0'].str.startswith('TRA', na=False) & df['aa1'].str.startswith('TRA', na=False) & df['aa2'].str.startswith('TRA', na=False) & df['aa3'].str.startswith('TRA', na=False) & df['aa4'].str.startswith('TRA', na=False) & ~df['aa5'].str.startswith('TRA', na=False))\n",
    "TRA_aa_6 = sum( df['aa0'].str.startswith('TRA', na=False) & df['aa1'].str.startswith('TRA', na=False) & df['aa2'].str.startswith('TRA', na=False) & df['aa3'].str.startswith('TRA', na=False) & df['aa4'].str.startswith('TRA', na=False) & df['aa5'].str.startswith('TRA', na=False))"
   ]
  },
  {
   "cell_type": "markdown",
   "metadata": {
    "scrolled": true
   },
   "source": [
    "print(\"# Clonotypes with 0 alpha chain: %d\" %TRA_aa_0)\n",
    "print(\"# Clonotypes with 1 alpha chain: %d\" %TRA_aa_1)\n",
    "print(\"# Clonotypes with 2 alpha chain: %d\" %TRA_aa_2)\n",
    "print(\"# Clonotypes with 3 alpha chain: %d\" %TRA_aa_3)\n",
    "print(\"# Clonotypes with 4 alpha chain: %d\" %TRA_aa_4)\n",
    "print(\"# Clonotypes with 5 alpha chain: %d\" %TRA_aa_5)\n",
    "print(\"# Clonotypes with 6 alpha chain: %d\" %TRA_aa_6)"
   ]
  },
  {
   "cell_type": "markdown",
   "metadata": {},
   "source": [
    "# Counts of beta chains (AA) registered per clonotype"
   ]
  },
  {
   "cell_type": "markdown",
   "metadata": {
    "collapsed": true
   },
   "source": [
    "TRB_aa_0 = sum( ~df['aa0'].str.startswith('TRB', na=False) & ~df['aa1'].str.startswith('TRB', na=False) & ~df['aa2'].str.startswith('TRB', na=False) & ~df['aa3'].str.startswith('TRB', na=False) & ~df['aa4'].str.startswith('TRB', na=False) & ~df['aa5'].str.startswith('TRB', na=False))\n",
    "TRB_aa_1 = sum( df['aa0'].str.startswith('TRB', na=False) & ~df['aa1'].str.startswith('TRB', na=False) & ~df['aa2'].str.startswith('TRB', na=False) & ~df['aa3'].str.startswith('TRB', na=False) & ~df['aa4'].str.startswith('TRB', na=False) & ~df['aa5'].str.startswith('TRB', na=False))\n",
    "TRB_aa_2 = sum( df['aa0'].str.startswith('TRB', na=False) & df['aa1'].str.startswith('TRB', na=False) & ~df['aa2'].str.startswith('TRB', na=False) & ~df['aa3'].str.startswith('TRB', na=False) & ~df['aa4'].str.startswith('TRB', na=False) & ~df['aa5'].str.startswith('TRB', na=False))\n",
    "TRB_aa_3 = sum( df['aa0'].str.startswith('TRB', na=False) & df['aa1'].str.startswith('TRB', na=False) & df['aa2'].str.startswith('TRB', na=False) & ~df['aa3'].str.startswith('TRB', na=False) & ~df['aa4'].str.startswith('TRB', na=False) & ~df['aa5'].str.startswith('TRB', na=False))\n",
    "TRB_aa_4 = sum( df['aa0'].str.startswith('TRB', na=False) & df['aa1'].str.startswith('TRB', na=False) & df['aa2'].str.startswith('TRB', na=False) & df['aa3'].str.startswith('TRB', na=False) & ~df['aa4'].str.startswith('TRB', na=False) & ~df['aa5'].str.startswith('TRB', na=False))\n",
    "TRB_aa_5 = sum( df['aa0'].str.startswith('TRB', na=False) & df['aa1'].str.startswith('TRB', na=False) & df['aa2'].str.startswith('TRB', na=False) & df['aa3'].str.startswith('TRB', na=False) & df['aa4'].str.startswith('TRB', na=False) & ~df['aa5'].str.startswith('TRB', na=False))\n",
    "TRB_aa_6 = sum( df['aa0'].str.startswith('TRB', na=False) & df['aa1'].str.startswith('TRB', na=False) & df['aa2'].str.startswith('TRB', na=False) & df['aa3'].str.startswith('TRB', na=False) & df['aa4'].str.startswith('TRB', na=False) & df['aa5'].str.startswith('TRB', na=False))"
   ]
  },
  {
   "cell_type": "markdown",
   "metadata": {},
   "source": [
    "print(\"# Clonotypes with 0 beta chain: %d\" %TRB_aa_0)\n",
    "print(\"# Clonotypes with 1 beta chain: %d\" %TRB_aa_1)\n",
    "print(\"# Clonotypes with 2 beta chain: %d\" %TRB_aa_2)\n",
    "print(\"# Clonotypes with 3 beta chain: %d\" %TRB_aa_3)\n",
    "print(\"# Clonotypes with 4 beta chain: %d\" %TRB_aa_4)\n",
    "print(\"# Clonotypes with 5 beta chain: %d\" %TRB_aa_5)\n",
    "print(\"# Clonotypes with 6 beta chain: %d\" %TRB_aa_6)"
   ]
  },
  {
   "cell_type": "markdown",
   "metadata": {},
   "source": [
    "# Counts of alpha chains (nt) registered per clonotype"
   ]
  },
  {
   "cell_type": "markdown",
   "metadata": {
    "collapsed": true
   },
   "source": [
    "TRA_nt_0 = sum( ~df['nt0'].str.startswith('TRA', na=False) & ~df['nt1'].str.startswith('TRA', na=False) & ~df['nt2'].str.startswith('TRA', na=False) & ~df['nt3'].str.startswith('TRA', na=False) & ~df['nt4'].str.startswith('TRA', na=False) & ~df['nt5'].str.startswith('TRA', na=False))\n",
    "TRA_nt_1 = sum( df['nt0'].str.startswith('TRA', na=False) & ~df['nt1'].str.startswith('TRA', na=False) & ~df['nt2'].str.startswith('TRA', na=False) & ~df['nt3'].str.startswith('TRA', na=False) & ~df['nt4'].str.startswith('TRA', na=False) & ~df['nt5'].str.startswith('TRA', na=False))\n",
    "TRA_nt_2 = sum( df['nt0'].str.startswith('TRA', na=False) & df['nt1'].str.startswith('TRA', na=False) & ~df['nt2'].str.startswith('TRA', na=False) & ~df['nt3'].str.startswith('TRA', na=False) & ~df['nt4'].str.startswith('TRA', na=False) & ~df['nt5'].str.startswith('TRA', na=False))\n",
    "TRA_nt_3 = sum( df['nt0'].str.startswith('TRA', na=False) & df['nt1'].str.startswith('TRA', na=False) & df['nt2'].str.startswith('TRA', na=False) & ~df['nt3'].str.startswith('TRA', na=False) & ~df['nt4'].str.startswith('TRA', na=False) & ~df['nt5'].str.startswith('TRA', na=False))\n",
    "TRA_nt_4 = sum( df['nt0'].str.startswith('TRA', na=False) & df['nt1'].str.startswith('TRA', na=False) & df['nt2'].str.startswith('TRA', na=False) & df['nt3'].str.startswith('TRA', na=False) & ~df['nt4'].str.startswith('TRA', na=False) & ~df['nt5'].str.startswith('TRA', na=False))\n",
    "TRA_nt_5 = sum( df['nt0'].str.startswith('TRA', na=False) & df['nt1'].str.startswith('TRA', na=False) & df['nt2'].str.startswith('TRA', na=False) & df['nt3'].str.startswith('TRA', na=False) & df['nt4'].str.startswith('TRA', na=False) & ~df['nt5'].str.startswith('TRA', na=False))\n",
    "TRA_nt_6 = sum( df['nt0'].str.startswith('TRA', na=False) & df['nt1'].str.startswith('TRA', na=False) & df['nt2'].str.startswith('TRA', na=False) & df['nt3'].str.startswith('TRA', na=False) & df['nt4'].str.startswith('TRA', na=False) & df['nt5'].str.startswith('TRA', na=False))"
   ]
  },
  {
   "cell_type": "markdown",
   "metadata": {},
   "source": [
    "print(\"# Clonotypes with 0 alpha chain: %d\" %TRA_nt_0)\n",
    "print(\"# Clonotypes with 1 alpha chain: %d\" %TRA_nt_1)\n",
    "print(\"# Clonotypes with 2 alpha chain: %d\" %TRA_nt_2)\n",
    "print(\"# Clonotypes with 3 alpha chain: %d\" %TRA_nt_3)\n",
    "print(\"# Clonotypes with 4 alpha chain: %d\" %TRA_nt_4)\n",
    "print(\"# Clonotypes with 5 alpha chain: %d\" %TRA_nt_5)\n",
    "print(\"# Clonotypes with 6 alpha chain: %d\" %TRA_nt_6)"
   ]
  },
  {
   "cell_type": "markdown",
   "metadata": {},
   "source": [
    "# Number of beta chains (nt) registered in each clonotype"
   ]
  },
  {
   "cell_type": "markdown",
   "metadata": {
    "collapsed": true
   },
   "source": [
    "TRB_nt_0 = sum( ~df['nt0'].str.startswith('TRB', na=False) & ~df['nt1'].str.startswith('TRB', na=False) & ~df['nt2'].str.startswith('TRB', na=False) & ~df['nt3'].str.startswith('TRB', na=False) & ~df['nt4'].str.startswith('TRB', na=False) & ~df['nt5'].str.startswith('TRB', na=False))\n",
    "TRB_nt_1 = sum( df['nt0'].str.startswith('TRB', na=False) & ~df['nt1'].str.startswith('TRB', na=False) & ~df['nt2'].str.startswith('TRB', na=False) & ~df['nt3'].str.startswith('TRB', na=False) & ~df['nt4'].str.startswith('TRB', na=False) & ~df['nt5'].str.startswith('TRB', na=False))\n",
    "TRB_nt_2 = sum( df['nt0'].str.startswith('TRB', na=False) & df['nt1'].str.startswith('TRB', na=False) & ~df['nt2'].str.startswith('TRB', na=False) & ~df['nt3'].str.startswith('TRB', na=False) & ~df['nt4'].str.startswith('TRB', na=False) & ~df['nt5'].str.startswith('TRB', na=False))\n",
    "TRB_nt_3 = sum( df['nt0'].str.startswith('TRB', na=False) & df['nt1'].str.startswith('TRB', na=False) & df['nt2'].str.startswith('TRB', na=False) & ~df['nt3'].str.startswith('TRB', na=False) & ~df['nt4'].str.startswith('TRB', na=False) & ~df['nt5'].str.startswith('TRB', na=False))\n",
    "TRB_nt_4 = sum( df['nt0'].str.startswith('TRB', na=False) & df['nt1'].str.startswith('TRB', na=False) & df['nt2'].str.startswith('TRB', na=False) & df['nt3'].str.startswith('TRB', na=False) & ~df['nt4'].str.startswith('TRB', na=False) & ~df['nt5'].str.startswith('TRB', na=False))\n",
    "TRB_nt_5 = sum( df['nt0'].str.startswith('TRB', na=False) & df['nt1'].str.startswith('TRB', na=False) & df['nt2'].str.startswith('TRB', na=False) & df['nt3'].str.startswith('TRB', na=False) & df['nt4'].str.startswith('TRB', na=False) & ~df['nt5'].str.startswith('TRB', na=False))\n",
    "TRB_nt_6 = sum( df['nt0'].str.startswith('TRB', na=False) & df['nt1'].str.startswith('TRB', na=False) & df['nt2'].str.startswith('TRB', na=False) & df['nt3'].str.startswith('TRB', na=False) & df['nt4'].str.startswith('TRB', na=False) & df['nt5'].str.startswith('TRB', na=False))"
   ]
  },
  {
   "cell_type": "markdown",
   "metadata": {
    "collapsed": true
   },
   "source": [
    "TRB_nt_0 = ~df['nt0'].str.startswith('TRB', na=False) & ~df['nt1'].str.startswith('TRB', na=False) & ~df['nt2'].str.startswith('TRB', na=False) & ~df['nt3'].str.startswith('TRB', na=False) & ~df['nt4'].str.startswith('TRB', na=False) & ~df['nt5'].str.startswith('TRB', na=False)\n",
    "TRB_nt_1 = df['nt0'].str.startswith('TRB', na=False) & ~df['nt1'].str.startswith('TRB', na=False) & ~df['nt2'].str.startswith('TRB', na=False) & ~df['nt3'].str.startswith('TRB', na=False) & ~df['nt4'].str.startswith('TRB', na=False) & ~df['nt5'].str.startswith('TRB', na=False)\n",
    "TRB_nt_2 = df['nt0'].str.startswith('TRB', na=False) & df['nt1'].str.startswith('TRB', na=False) & ~df['nt2'].str.startswith('TRB', na=False) & ~df['nt3'].str.startswith('TRB', na=False) & ~df['nt4'].str.startswith('TRB', na=False) & ~df['nt5'].str.startswith('TRB', na=False)\n",
    "TRB_nt_3 = df['nt0'].str.startswith('TRB', na=False) & df['nt1'].str.startswith('TRB', na=False) & df['nt2'].str.startswith('TRB', na=False) & ~df['nt3'].str.startswith('TRB', na=False) & ~df['nt4'].str.startswith('TRB', na=False) & ~df['nt5'].str.startswith('TRB', na=False)\n",
    "TRB_nt_4 = df['nt0'].str.startswith('TRB', na=False) & df['nt1'].str.startswith('TRB', na=False) & df['nt2'].str.startswith('TRB', na=False) & df['nt3'].str.startswith('TRB', na=False) & ~df['nt4'].str.startswith('TRB', na=False) & ~df['nt5'].str.startswith('TRB', na=False)\n",
    "TRB_nt_5 = df['nt0'].str.startswith('TRB', na=False) & df['nt1'].str.startswith('TRB', na=False) & df['nt2'].str.startswith('TRB', na=False) & df['nt3'].str.startswith('TRB', na=False) & df['nt4'].str.startswith('TRB', na=False) & ~df['nt5'].str.startswith('TRB', na=False)\n",
    "TRB_nt_6 = df['nt0'].str.startswith('TRB', na=False) & df['nt1'].str.startswith('TRB', na=False) & df['nt2'].str.startswith('TRB', na=False) & df['nt3'].str.startswith('TRB', na=False) & df['nt4'].str.startswith('TRB', na=False) & df['nt5'].str.startswith('TRB', na=False)"
   ]
  },
  {
   "cell_type": "markdown",
   "metadata": {},
   "source": [
    "print(\"# Clonotypes with 0 beta chain: %d\" %sum(TRB_nt_0))\n",
    "print(\"# Clonotypes with 1 beta chain: %d\" %sum(TRB_nt_1))\n",
    "print(\"# Clonotypes with 2 beta chain: %d\" %sum(TRB_nt_2))\n",
    "print(\"# Clonotypes with 3 beta chain: %d\" %sum(TRB_nt_3))\n",
    "print(\"# Clonotypes with 4 beta chain: %d\" %sum(TRB_nt_4))\n",
    "print(\"# Clonotypes with 5 beta chain: %d\" %sum(TRB_nt_5))\n",
    "print(\"# Clonotypes with 6 beta chain: %d\" %sum(TRB_nt_6))"
   ]
  },
  {
   "cell_type": "code",
   "execution_count": null,
   "metadata": {},
   "outputs": [],
   "source": []
  },
  {
   "cell_type": "code",
   "execution_count": null,
   "metadata": {},
   "outputs": [],
   "source": [
    "import functools\n",
    "mask = functools.reduce(np.logical_or, [df['aa{}'.format(i)].str.startswith('TRA:', na=False) for i in range(6)])\n",
    "df.loc[mask].head()"
   ]
  },
  {
   "cell_type": "code",
   "execution_count": null,
   "metadata": {},
   "outputs": [],
   "source": [
    "# assuming AA seqs are in column 3-8\n",
    "sum(df.iloc[i][list(range(3,9))].str.startswith('TRA:', na=False))"
   ]
  },
  {
   "cell_type": "code",
   "execution_count": null,
   "metadata": {},
   "outputs": [],
   "source": [
    "cdr3s_aa.head()"
   ]
  },
  {
   "cell_type": "code",
   "execution_count": null,
   "metadata": {},
   "outputs": [],
   "source": [
    "cdr3s_aa[~cdr3s_aa.isnull()].tail()"
   ]
  },
  {
   "cell_type": "markdown",
   "metadata": {
    "collapsed": true
   },
   "source": [
    "df[\"cdr3s_aa_A\"] = cdr3s_aa[0].str.split(\":\", n = 1, expand = True)[1]\n",
    "df[\"cdr3s_aa_B\"] = cdr3s_aa[1].str.split(\":\", n = 1, expand = True)[1]"
   ]
  },
  {
   "cell_type": "markdown",
   "metadata": {},
   "source": [
    "df[\"cdr3s_nt_A\"] = cdr3s_nt[0].str.split(\":\", n = 1, expand = True)[1]\n",
    "df[\"cdr3s_nt_B\"] = cdr3s_nt[1].str.split(\":\", n = 1, expand = True)[1]"
   ]
  },
  {
   "cell_type": "code",
   "execution_count": null,
   "metadata": {},
   "outputs": [],
   "source": [
    "df.head()"
   ]
  },
  {
   "cell_type": "code",
   "execution_count": null,
   "metadata": {},
   "outputs": [],
   "source": [
    "df.tail()"
   ]
  },
  {
   "cell_type": "code",
   "execution_count": null,
   "metadata": {},
   "outputs": [],
   "source": [
    "df.shape"
   ]
  },
  {
   "cell_type": "code",
   "execution_count": null,
   "metadata": {},
   "outputs": [],
   "source": [
    "print(\"# Entries:\\t\\t\\t %d\" %df.shape[0])\n",
    "print(\"# Unique clonotypes:\\t\\t %d\" %df[\"clonotype_id\"].unique().shape[0])\n",
    "print(\"# Unique alpha CDR3 (AA):\\t %d\" %df[\"cdr3s_aa_A\"].unique().shape[0])\n",
    "print(\"# Unique beta CDR3 (AA):\\t %d\" %df[\"cdr3s_aa_B\"].unique().shape[0])\n",
    "print(\"# Unique alpha CDR3 (nt):\\t %d\" %df[\"cdr3s_nt_A\"].unique().shape[0])\n",
    "print(\"# Unique beta CDR3 (nt):\\t %d\" %df[\"cdr3s_nt_B\"].unique().shape[0])"
   ]
  },
  {
   "cell_type": "code",
   "execution_count": null,
   "metadata": {},
   "outputs": [],
   "source": [
    "print(\"# Missing alpha:\\t\\t %d\" %sum(df[\"cdr3s_aa_A\"].isnull()))\n",
    "print(\"# Missing alpha:\\t\\t %d\" %sum(df[\"cdr3s_nt_A\"].isnull()))\n",
    "print(\"# Missing beta:\\t\\t %d\" %sum(df[\"cdr3s_aa_B\"].isnull()))\n",
    "print(\"# Missing beta:\\t\\t %d\" %sum(df[\"cdr3s_nt_B\"].isnull()))"
   ]
  },
  {
   "cell_type": "code",
   "execution_count": null,
   "metadata": {},
   "outputs": [],
   "source": [
    "print(\"# recurrent TCA nt seqs:\\t %d\" %sum(df[df[\"cdr3s_aa_B\"].isnull()][\"cdr3s_nt_A\"].isin(df[~df[\"cdr3s_aa_B\"].isnull()][\"cdr3s_nt_A\"].unique())))\n",
    "print(\"# recurrent TCA AA seqs:\\t %d\" %sum(df[df[\"cdr3s_aa_B\"].isnull()][\"cdr3s_aa_A\"].isin(df[~df[\"cdr3s_aa_B\"].isnull()][\"cdr3s_aa_A\"].unique())))\n",
    "\n",
    "      "
   ]
  },
  {
   "cell_type": "code",
   "execution_count": null,
   "metadata": {},
   "outputs": [],
   "source": [
    "df['count_A_reoccurrence'] = df.groupby(['cdr3s_nt_A']).size().reset_index(name='count_A_reoccurrence')['count_A_reoccurrence']\n",
    "df['count_B_reoccurrence'] = df.groupby(['cdr3s_nt_B']).size().reset_index(name='count_B_reoccurrence')['count_B_reoccurrence']"
   ]
  },
  {
   "cell_type": "code",
   "execution_count": null,
   "metadata": {},
   "outputs": [],
   "source": [
    "df.head()"
   ]
  },
  {
   "cell_type": "code",
   "execution_count": null,
   "metadata": {
    "scrolled": true
   },
   "outputs": [],
   "source": [
    "df.sort_values('count_A_reoccurrence', ascending = False).head(40)"
   ]
  },
  {
   "cell_type": "code",
   "execution_count": null,
   "metadata": {},
   "outputs": [],
   "source": [
    "test = pd.DataFrame({'A':['a','b'], 'B':['a','d']})\n",
    "test\n"
   ]
  },
  {
   "cell_type": "code",
   "execution_count": null,
   "metadata": {},
   "outputs": [],
   "source": [
    "test[test.eq('d').any(1)]"
   ]
  },
  {
   "cell_type": "code",
   "execution_count": null,
   "metadata": {},
   "outputs": [],
   "source": [
    "test['A'].isin(test['B'])"
   ]
  },
  {
   "cell_type": "code",
   "execution_count": null,
   "metadata": {},
   "outputs": [],
   "source": [
    "test.iloc[[remaining_element for remaining_element in list(test.index) if remaining_element not in [1]]]"
   ]
  },
  {
   "cell_type": "code",
   "execution_count": null,
   "metadata": {},
   "outputs": [],
   "source": [
    "test.iloc[lambda x: x.index ]"
   ]
  },
  {
   "cell_type": "code",
   "execution_count": null,
   "metadata": {},
   "outputs": [],
   "source": []
  }
 ],
 "metadata": {
  "kernelspec": {
   "display_name": "Python 3",
   "language": "python",
   "name": "python3"
  },
  "language_info": {
   "codemirror_mode": {
    "name": "ipython",
    "version": 3
   },
   "file_extension": ".py",
   "mimetype": "text/x-python",
   "name": "python",
   "nbconvert_exporter": "python",
   "pygments_lexer": "ipython3",
   "version": "3.7.3"
  }
 },
 "nbformat": 4,
 "nbformat_minor": 2
}
