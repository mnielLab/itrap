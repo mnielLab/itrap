{
 "cells": [
  {
   "cell_type": "code",
   "execution_count": 1,
   "metadata": {},
   "outputs": [],
   "source": [
    "import numpy as np\n",
    "import pandas as pd\n",
    "import matplotlib.pyplot as plt\n",
    "import matplotlib as mpl\n",
    "import re\n",
    "from ast import literal_eval\n",
    "import seaborn as sns\n",
    "from matplotlib_venn import venn3, venn3_unweighted"
   ]
  },
  {
   "cell_type": "code",
   "execution_count": 2,
   "metadata": {},
   "outputs": [],
   "source": [
    "def HLA_cd8_converter(x):\n",
    "    #define format of datetime\n",
    "    return x.replace(\"[\",\"\").replace(\"]\",\"\").replace(\",\", \"\").replace(\"'\",\"\").split(\" \")\n",
    "\n",
    "def cdr3_lst_converter(x):\n",
    "    #define format of datetime\n",
    "    return x.replace(\"[\",\"\").replace(\"]\",\"\").replace(\"'\",\"\").split(\" \")\n",
    "\n",
    "def epitope_converter(x):\n",
    "    #define format of datetime\n",
    "    return [y for y in x.replace(\"[\",\"\").replace(\"]\",\"\").replace(\"\\n\",\"\").split(\"'\") if (y != '') & (y != ' ')]\n",
    "\n",
    "def peptide_hla_converter(x):\n",
    "    return re.findall(\"\\w+\\s{1}\\w{1}\\d+\", x.replace(\"[\",\"\").replace(\"]\",\"\").replace(\"\\n\",\"\").replace(\"'\",\"\"))\n",
    "\n",
    "def literal_converter(val):\n",
    "    # replace NaN with '' and perform literal eval on the rest\n",
    "    return [] if val == '' else literal_eval(val)\n",
    "\n",
    "converters = {'peptide_HLA_lst': peptide_hla_converter,\n",
    "              'umi_count_lst_mhc': literal_eval,\n",
    "              'umi_count_lst_TRA': literal_converter,'umi_count_lst_TRB': literal_converter,\n",
    "              'cdr3_lst_TRA': cdr3_lst_converter,\n",
    "              'cdr3_lst_TRB': cdr3_lst_converter,\n",
    "              'HLA_lst_mhc': cdr3_lst_converter,'HLA_cd8': HLA_cd8_converter} #"
   ]
  },
  {
   "cell_type": "markdown",
   "metadata": {},
   "source": [
    "# Confusion Plot"
   ]
  },
  {
   "cell_type": "markdown",
   "metadata": {},
   "source": [
    "## Input"
   ]
  },
  {
   "cell_type": "code",
   "execution_count": 3,
   "metadata": {},
   "outputs": [],
   "source": [
    "VALID = '../experiments/exp13/run1_archive/cat/eval_clonotypes/valid_ct.csv'"
   ]
  },
  {
   "cell_type": "markdown",
   "metadata": {},
   "source": [
    "## Load"
   ]
  },
  {
   "cell_type": "code",
   "execution_count": 4,
   "metadata": {},
   "outputs": [],
   "source": [
    "df = pd.read_csv(VALID, converters=converters)"
   ]
  },
  {
   "cell_type": "code",
   "execution_count": 5,
   "metadata": {},
   "outputs": [],
   "source": [
    "df['pMHC category'] = np.where(df.multiplets_mhc, 'multiplet','singlet')"
   ]
  },
  {
   "cell_type": "code",
   "execution_count": 6,
   "metadata": {},
   "outputs": [],
   "source": [
    "#df['TCR category'] = np.where(df.tcr_category == 'unique chains', 'single chains', df.tcr_category)"
   ]
  },
  {
   "cell_type": "markdown",
   "metadata": {},
   "source": [
    "## Main"
   ]
  },
  {
   "cell_type": "code",
   "execution_count": 7,
   "metadata": {},
   "outputs": [
    {
     "data": {
      "text/html": [
       "<div>\n",
       "<style scoped>\n",
       "    .dataframe tbody tr th:only-of-type {\n",
       "        vertical-align: middle;\n",
       "    }\n",
       "\n",
       "    .dataframe tbody tr th {\n",
       "        vertical-align: top;\n",
       "    }\n",
       "\n",
       "    .dataframe thead th {\n",
       "        text-align: right;\n",
       "    }\n",
       "</style>\n",
       "<table border=\"1\" class=\"dataframe\">\n",
       "  <thead>\n",
       "    <tr style=\"text-align: right;\">\n",
       "      <th>tcr_category</th>\n",
       "      <th>missing chain</th>\n",
       "      <th>multiple chains</th>\n",
       "      <th>unique chains</th>\n",
       "    </tr>\n",
       "    <tr>\n",
       "      <th>pMHC category</th>\n",
       "      <th></th>\n",
       "      <th></th>\n",
       "      <th></th>\n",
       "    </tr>\n",
       "  </thead>\n",
       "  <tbody>\n",
       "    <tr>\n",
       "      <th>multiplet</th>\n",
       "      <td>1368</td>\n",
       "      <td>273</td>\n",
       "      <td>2428</td>\n",
       "    </tr>\n",
       "    <tr>\n",
       "      <th>singlet</th>\n",
       "      <td>1402</td>\n",
       "      <td>148</td>\n",
       "      <td>1492</td>\n",
       "    </tr>\n",
       "  </tbody>\n",
       "</table>\n",
       "</div>"
      ],
      "text/plain": [
       "tcr_category   missing chain  multiple chains  unique chains\n",
       "pMHC category                                               \n",
       "multiplet               1368              273           2428\n",
       "singlet                 1402              148           1492"
      ]
     },
     "execution_count": 7,
     "metadata": {},
     "output_type": "execute_result"
    }
   ],
   "source": [
    "matrix = (df.fillna(0).groupby(['pMHC category','tcr_category']).gem.size().to_frame().reset_index()\n",
    "          .pivot(index='pMHC category', columns='tcr_category', values='gem'))\n",
    "\n",
    "matrix"
   ]
  },
  {
   "cell_type": "code",
   "execution_count": 8,
   "metadata": {},
   "outputs": [],
   "source": [
    "sns.set_style('ticks', {'axes.edgecolor': '0',  \n",
    "                        'xtick.color': '0',\n",
    "                        'ytick.color': '0'})\n",
    "sns.set_context(\"paper\",font_scale=2)"
   ]
  },
  {
   "cell_type": "code",
   "execution_count": 16,
   "metadata": {},
   "outputs": [
    {
     "data": {
      "image/png": "[encoded data removed]",
      "text/plain": [
       "<Figure size 432x288 with 1 Axes>"
      ]
     },
     "metadata": {},
     "output_type": "display_data"
    }
   ],
   "source": [
    "#plt.style.use('ggplot')\n",
    "mpl.rcParams['axes.grid'] = False\n",
    "\n",
    "fig, ax = plt.subplots() #figsize=(2.4,3.6) #figsize=(10,10)\n",
    "im = ax.imshow(matrix, interpolation='nearest', cmap='viridis')\n",
    "\n",
    "# Loop over data dimensions and create text annotations.\n",
    "for i in range(matrix.shape[0]):\n",
    "    for j in range(matrix.shape[1]):\n",
    "        text = ax.text(j, i, \"%.f\" %matrix.iloc[i, j],\n",
    "                       ha=\"center\", va=\"center\", color=\"w\")\n",
    "\n",
    "ax.set_xticks(np.arange(matrix.shape[1]))\n",
    "ax.set_yticks(np.arange(matrix.shape[0]))\n",
    "       \n",
    "ax.set_xticklabels(['\\n'.join(l.split()) for l in matrix.columns]) #, rotation=40, ha='right' #sorted(df.tcr_category.value_counts().index)\n",
    "ax.set_yticklabels(matrix.index, rotation=90, va='center') #sorted(df.multiplets_mhc.value_counts().index)\n",
    "#\n",
    "# HACK: with matplotlib==3.1.1 the yaxis is cropped..?\n",
    "ax.set_ylim(sorted((-0.5, matrix.shape[0]-0.5), reverse=True))\n",
    "\n",
    "sns.despine(left=True,top=True,bottom=True,right=True)\n",
    "\n",
    "plt.xlabel('TCR chain annotations') #A- and B-c\n",
    "plt.ylabel('pMHC annotations')\n",
    "plt.savefig('../experiments/exp13/run1_archive/plt/reports/confusion_multiplets/manual.pdf', bbox_inches='tight')\n",
    "plt.savefig('../experiments/exp13/run1_archive/plt/reports/confusion_multiplets/manual.png', bbox_inches='tight', dpi=300)\n",
    "plt.show()"
   ]
  },
  {
   "cell_type": "markdown",
   "metadata": {},
   "source": [
    "# Venn diagram"
   ]
  },
  {
   "cell_type": "markdown",
   "metadata": {},
   "source": [
    "## Input"
   ]
  },
  {
   "cell_type": "code",
   "execution_count": 6,
   "metadata": {},
   "outputs": [],
   "source": [
    "#RAW_DATA = '../experiments/exp13/run1_archive/cat/tables/tcr_barcode.csv'\n",
    "RAW_DATA = '../experiments/exp13/run3/cat/tables/tcr_barcode.csv'"
   ]
  },
  {
   "cell_type": "markdown",
   "metadata": {},
   "source": [
    "## Load"
   ]
  },
  {
   "cell_type": "code",
   "execution_count": 7,
   "metadata": {},
   "outputs": [
    {
     "name": "stderr",
     "output_type": "stream",
     "text": [
      "/home/people/herpov/.conda/envs/snakemake/lib/python3.7/site-packages/IPython/core/interactiveshell.py:3296: DtypeWarning: Columns (1,4,5,6,7,9,10,11,13,15,17,19,20,21,23,25,27,28,30,31,32,33,34,35,36,37,38,39,42,44,45,49,50,58,59,60,61,62,63,64,65,66,67) have mixed types.Specify dtype option on import or set low_memory=False.\n",
      "  exec(code_obj, self.user_global_ns, self.user_ns)\n"
     ]
    }
   ],
   "source": [
    "df = pd.read_csv(RAW_DATA)"
   ]
  },
  {
   "cell_type": "code",
   "execution_count": 18,
   "metadata": {},
   "outputs": [],
   "source": [
    "gem_tcr = df.dropna(subset=['ct']).gem\n",
    "gem_mhc = df.dropna(subset=['peptide_HLA']).gem\n",
    "gem_cd8 = df.dropna(subset=['sample_id']).gem"
   ]
  },
  {
   "cell_type": "code",
   "execution_count": 54,
   "metadata": {},
   "outputs": [
    {
     "data": {
      "image/png": "[encoded data removed]",
      "text/plain": [
       "<Figure size 432x288 with 1 Axes>"
      ]
     },
     "metadata": {},
     "output_type": "display_data"
    }
   ],
   "source": [
    "# # Plot\n",
    "a, b, c = set(gem_tcr), set(gem_mhc), set(gem_cd8)\n",
    "\n",
    "ab = a.intersection(b)\n",
    "ac = a.intersection(c)\n",
    "bc = b.intersection(c)\n",
    "\n",
    "abc = len(ab.intersection(c))\n",
    "ab_c = len(ab) - abc\n",
    "ac_b = len(ac) - abc\n",
    "bc_a = len(bc) - abc\n",
    "a_bc = len(a) - ab_c - ac_b - abc\n",
    "b_ac = len(b) - ab_c - bc_a - abc\n",
    "c_ab = len(c) - ac_b - bc_a - abc\n",
    "\n",
    "#### OBS OBS OBS ####\n",
    "a_bc = 4\n",
    "#####################\n",
    "\n",
    "#venn3(subsets = (a_bc, b_ac, ab_c, c_ab, ac_b, bc_a, abc), set_labels = ('TCR', 'pMHC', 'Hashing Ab'))\n",
    "#title = \"GEMs containing TCR, pMHC, and/or Ab BCs\"\n",
    "#plt.title(title)\n",
    "#plt.savefig(snakemake.output.w, bbox_inches='tight')\n",
    "\n",
    "v = venn3_unweighted(subsets = (a_bc, b_ac, ab_c, c_ab, ac_b, bc_a, abc),\n",
    "                     set_labels = ('TCR', 'pMHC', 'Hashing'))\n",
    "title = \"GEMs containing TCR, pMHC, and/or Ab BCs\"\n",
    "#plt.title(title)\n",
    "\n",
    "v.get_patch_by_id('100').set_color('none')\n",
    "v.get_patch_by_id('010').set_color('none')\n",
    "v.get_patch_by_id('110').set_color('none')\n",
    "v.get_patch_by_id('101').set_color('none')\n",
    "v.get_patch_by_id('011').set_color('none')\n",
    "v.get_patch_by_id('001').set_color('none')\n",
    "v.get_patch_by_id('111').set_color('none')\n",
    "\n",
    "v.get_patch_by_id('100').set_edgecolor('black')\n",
    "v.get_patch_by_id('010').set_edgecolor('black')\n",
    "v.get_patch_by_id('110').set_edgecolor('black')\n",
    "v.get_patch_by_id('101').set_edgecolor('black')\n",
    "v.get_patch_by_id('011').set_edgecolor('black')\n",
    "v.get_patch_by_id('001').set_edgecolor('black')\n",
    "v.get_patch_by_id('111').set_edgecolor('black')\n",
    "v.get_patch_by_id('111').set_edgecolor('black')\n",
    "\n",
    "v.get_patch_by_id('100').set_alpha(1)\n",
    "v.get_patch_by_id('010').set_alpha(1)\n",
    "v.get_patch_by_id('110').set_alpha(1)\n",
    "v.get_patch_by_id('101').set_alpha(1)\n",
    "v.get_patch_by_id('011').set_alpha(1)\n",
    "v.get_patch_by_id('001').set_alpha(1)\n",
    "v.get_patch_by_id('111').set_alpha(1)\n",
    "\n",
    "v.get_patch_by_id('100').set_lw(1.5)\n",
    "v.get_patch_by_id('010').set_lw(1.5)\n",
    "v.get_patch_by_id('110').set_lw(1.5)\n",
    "v.get_patch_by_id('101').set_lw(1.5)\n",
    "v.get_patch_by_id('011').set_lw(1.5)\n",
    "v.get_patch_by_id('001').set_lw(1.5)\n",
    "v.get_patch_by_id('111').set_lw(1.5)\n",
    "\n",
    "for text in v.set_labels:\n",
    "    text.set_fontsize(16)\n",
    "\n",
    "for text in v.subset_labels:\n",
    "    text.set_fontsize(14)\n",
    "    \n",
    "#Move the numbers in the circles  \n",
    "pos = v.get_label_by_id(\"101\").get_position()\n",
    "v.get_label_by_id(\"101\").set_position((pos[0], -0.23))\n",
    "pos = v.get_label_by_id(\"011\").get_position()\n",
    "v.get_label_by_id(\"011\").set_position((pos[0], -0.23))\n",
    "\n",
    "#plt.savefig('../experiments/exp13/run1_archive/plt/venn/TCR_MHC_AB.manual.pdf', bbox_inches='tight')\n",
    "#plt.savefig('../experiments/exp13/run1_archive/plt/venn/TCR_MHC_AB.manual.png', bbox_inches='tight', dpi=300)"
   ]
  },
  {
   "cell_type": "code",
   "execution_count": 27,
   "metadata": {},
   "outputs": [
    {
     "data": {
      "text/plain": [
       "['__class__',\n",
       " '__delattr__',\n",
       " '__dict__',\n",
       " '__dir__',\n",
       " '__doc__',\n",
       " '__eq__',\n",
       " '__format__',\n",
       " '__ge__',\n",
       " '__getattribute__',\n",
       " '__getstate__',\n",
       " '__gt__',\n",
       " '__hash__',\n",
       " '__init__',\n",
       " '__init_subclass__',\n",
       " '__le__',\n",
       " '__lt__',\n",
       " '__module__',\n",
       " '__ne__',\n",
       " '__new__',\n",
       " '__reduce__',\n",
       " '__reduce_ex__',\n",
       " '__repr__',\n",
       " '__setattr__',\n",
       " '__sizeof__',\n",
       " '__str__',\n",
       " '__subclasshook__',\n",
       " '__weakref__',\n",
       " '_agg_filter',\n",
       " '_alias_map',\n",
       " '_alpha',\n",
       " '_animated',\n",
       " '_axes',\n",
       " '_bbox_patch',\n",
       " '_cached',\n",
       " '_clipon',\n",
       " '_clippath',\n",
       " '_color',\n",
       " '_contains',\n",
       " '_draw_bbox',\n",
       " '_fontproperties',\n",
       " '_get_dist_to_box',\n",
       " '_get_layout',\n",
       " '_get_multialignment',\n",
       " '_get_rendered_text_width',\n",
       " '_get_wrap_line_width',\n",
       " '_get_wrapped_text',\n",
       " '_get_xy_display',\n",
       " '_gid',\n",
       " '_horizontalalignment',\n",
       " '_in_layout',\n",
       " '_label',\n",
       " '_linespacing',\n",
       " '_mouseover',\n",
       " '_multialignment',\n",
       " '_oid',\n",
       " '_path_effects',\n",
       " '_picker',\n",
       " '_prop_order',\n",
       " '_propobservers',\n",
       " '_rasterized',\n",
       " '_remove_method',\n",
       " '_renderer',\n",
       " '_rotation',\n",
       " '_rotation_mode',\n",
       " '_set_gc_clip',\n",
       " '_sketch',\n",
       " '_snap',\n",
       " '_stale',\n",
       " '_sticky_edges',\n",
       " '_text',\n",
       " '_transform',\n",
       " '_transformSet',\n",
       " '_update_clip_properties',\n",
       " '_url',\n",
       " '_usetex',\n",
       " '_verticalalignment',\n",
       " '_visible',\n",
       " '_wrap',\n",
       " '_x',\n",
       " '_y',\n",
       " 'add_callback',\n",
       " 'aname',\n",
       " 'axes',\n",
       " 'clipbox',\n",
       " 'contains',\n",
       " 'convert_xunits',\n",
       " 'convert_yunits',\n",
       " 'draw',\n",
       " 'eventson',\n",
       " 'figure',\n",
       " 'findobj',\n",
       " 'format_cursor_data',\n",
       " 'get_agg_filter',\n",
       " 'get_alpha',\n",
       " 'get_animated',\n",
       " 'get_bbox_patch',\n",
       " 'get_children',\n",
       " 'get_clip_box',\n",
       " 'get_clip_on',\n",
       " 'get_clip_path',\n",
       " 'get_color',\n",
       " 'get_contains',\n",
       " 'get_cursor_data',\n",
       " 'get_family',\n",
       " 'get_figure',\n",
       " 'get_font_properties',\n",
       " 'get_fontfamily',\n",
       " 'get_fontname',\n",
       " 'get_fontproperties',\n",
       " 'get_fontsize',\n",
       " 'get_fontstyle',\n",
       " 'get_fontvariant',\n",
       " 'get_fontweight',\n",
       " 'get_gid',\n",
       " 'get_ha',\n",
       " 'get_horizontalalignment',\n",
       " 'get_in_layout',\n",
       " 'get_label',\n",
       " 'get_name',\n",
       " 'get_path_effects',\n",
       " 'get_picker',\n",
       " 'get_position',\n",
       " 'get_prop_tup',\n",
       " 'get_rasterized',\n",
       " 'get_rotation',\n",
       " 'get_rotation_mode',\n",
       " 'get_size',\n",
       " 'get_sketch_params',\n",
       " 'get_snap',\n",
       " 'get_stretch',\n",
       " 'get_style',\n",
       " 'get_text',\n",
       " 'get_tightbbox',\n",
       " 'get_transform',\n",
       " 'get_transformed_clip_path_and_affine',\n",
       " 'get_unitless_position',\n",
       " 'get_url',\n",
       " 'get_usetex',\n",
       " 'get_va',\n",
       " 'get_variant',\n",
       " 'get_verticalalignment',\n",
       " 'get_visible',\n",
       " 'get_weight',\n",
       " 'get_window_extent',\n",
       " 'get_wrap',\n",
       " 'get_zorder',\n",
       " 'have_units',\n",
       " 'hitlist',\n",
       " 'is_figure_set',\n",
       " 'is_math_text',\n",
       " 'is_transform_set',\n",
       " 'mouseover',\n",
       " 'pchanged',\n",
       " 'pick',\n",
       " 'pickable',\n",
       " 'properties',\n",
       " 'remove',\n",
       " 'remove_callback',\n",
       " 'set',\n",
       " 'set_agg_filter',\n",
       " 'set_alpha',\n",
       " 'set_animated',\n",
       " 'set_backgroundcolor',\n",
       " 'set_bbox',\n",
       " 'set_clip_box',\n",
       " 'set_clip_on',\n",
       " 'set_clip_path',\n",
       " 'set_color',\n",
       " 'set_contains',\n",
       " 'set_family',\n",
       " 'set_figure',\n",
       " 'set_font_properties',\n",
       " 'set_fontfamily',\n",
       " 'set_fontname',\n",
       " 'set_fontproperties',\n",
       " 'set_fontsize',\n",
       " 'set_fontstretch',\n",
       " 'set_fontstyle',\n",
       " 'set_fontvariant',\n",
       " 'set_fontweight',\n",
       " 'set_gid',\n",
       " 'set_ha',\n",
       " 'set_horizontalalignment',\n",
       " 'set_in_layout',\n",
       " 'set_label',\n",
       " 'set_linespacing',\n",
       " 'set_ma',\n",
       " 'set_multialignment',\n",
       " 'set_name',\n",
       " 'set_path_effects',\n",
       " 'set_picker',\n",
       " 'set_position',\n",
       " 'set_rasterized',\n",
       " 'set_rotation',\n",
       " 'set_rotation_mode',\n",
       " 'set_size',\n",
       " 'set_sketch_params',\n",
       " 'set_snap',\n",
       " 'set_stretch',\n",
       " 'set_style',\n",
       " 'set_text',\n",
       " 'set_transform',\n",
       " 'set_url',\n",
       " 'set_usetex',\n",
       " 'set_va',\n",
       " 'set_variant',\n",
       " 'set_verticalalignment',\n",
       " 'set_visible',\n",
       " 'set_weight',\n",
       " 'set_wrap',\n",
       " 'set_x',\n",
       " 'set_y',\n",
       " 'set_zorder',\n",
       " 'stale',\n",
       " 'stale_callback',\n",
       " 'sticky_edges',\n",
       " 'update',\n",
       " 'update_bbox_position_size',\n",
       " 'update_from',\n",
       " 'zorder']"
      ]
     },
     "execution_count": 27,
     "metadata": {},
     "output_type": "execute_result"
    }
   ],
   "source": [
    "x = v.get_label_by_id(\"100\")\n",
    "dir(x)"
   ]
  },
  {
   "cell_type": "markdown",
   "metadata": {},
   "source": [
    "# Plot distribution of hashing UMI"
   ]
  },
  {
   "cell_type": "code",
   "execution_count": 8,
   "metadata": {},
   "outputs": [
    {
     "data": {
      "text/plain": [
       "7255"
      ]
     },
     "execution_count": 8,
     "metadata": {},
     "output_type": "execute_result"
    }
   ],
   "source": [
    "sum(df.label == 1)"
   ]
  },
  {
   "cell_type": "code",
   "execution_count": 9,
   "metadata": {},
   "outputs": [
    {
     "data": {
      "text/plain": [
       "714884"
      ]
     },
     "execution_count": 9,
     "metadata": {},
     "output_type": "execute_result"
    }
   ],
   "source": [
    "sum(df.label != 1)"
   ]
  },
  {
   "cell_type": "code",
   "execution_count": 10,
   "metadata": {},
   "outputs": [],
   "source": [
    "#df = df[df.label == 1].copy()"
   ]
  },
  {
   "cell_type": "code",
   "execution_count": 11,
   "metadata": {},
   "outputs": [],
   "source": [
    "df['hashing_category'] = np.where(df.ct.isna(), 'TCR-void','TCR-occupied')"
   ]
  },
  {
   "cell_type": "code",
   "execution_count": 12,
   "metadata": {},
   "outputs": [
    {
     "data": {
      "text/html": [
       "<div>\n",
       "<style scoped>\n",
       "    .dataframe tbody tr th:only-of-type {\n",
       "        vertical-align: middle;\n",
       "    }\n",
       "\n",
       "    .dataframe tbody tr th {\n",
       "        vertical-align: top;\n",
       "    }\n",
       "\n",
       "    .dataframe thead th {\n",
       "        text-align: right;\n",
       "    }\n",
       "</style>\n",
       "<table border=\"1\" class=\"dataframe\">\n",
       "  <thead>\n",
       "    <tr style=\"text-align: right;\">\n",
       "      <th>hashing_category</th>\n",
       "      <th>TCR-occupied</th>\n",
       "      <th>TCR-void</th>\n",
       "    </tr>\n",
       "  </thead>\n",
       "  <tbody>\n",
       "    <tr>\n",
       "      <th>umi_count_cd8</th>\n",
       "      <td>[2059.0, 838.0, 4134.0, 6479.0, 1234.0, 1514.0...</td>\n",
       "      <td>[2.0, 24.0, 20.0, 7.0, 18.0, 23.0, 1.0, 958.0,...</td>\n",
       "    </tr>\n",
       "  </tbody>\n",
       "</table>\n",
       "</div>"
      ],
      "text/plain": [
       "hashing_category                                       TCR-occupied  \\\n",
       "umi_count_cd8     [2059.0, 838.0, 4134.0, 6479.0, 1234.0, 1514.0...   \n",
       "\n",
       "hashing_category                                           TCR-void  \n",
       "umi_count_cd8     [2.0, 24.0, 20.0, 7.0, 18.0, 23.0, 1.0, 958.0,...  "
      ]
     },
     "execution_count": 12,
     "metadata": {},
     "output_type": "execute_result"
    }
   ],
   "source": [
    "tmp = df.groupby('hashing_category').umi_count_cd8.apply(list).to_frame().T\n",
    "tmp"
   ]
  },
  {
   "cell_type": "code",
   "execution_count": 13,
   "metadata": {},
   "outputs": [
    {
     "data": {
      "text/html": [
       "<div>\n",
       "<style scoped>\n",
       "    .dataframe tbody tr th:only-of-type {\n",
       "        vertical-align: middle;\n",
       "    }\n",
       "\n",
       "    .dataframe tbody tr th {\n",
       "        vertical-align: top;\n",
       "    }\n",
       "\n",
       "    .dataframe thead th {\n",
       "        text-align: right;\n",
       "    }\n",
       "</style>\n",
       "<table border=\"1\" class=\"dataframe\">\n",
       "  <thead>\n",
       "    <tr style=\"text-align: right;\">\n",
       "      <th></th>\n",
       "      <th>UMI</th>\n",
       "      <th>var</th>\n",
       "    </tr>\n",
       "  </thead>\n",
       "  <tbody>\n",
       "    <tr>\n",
       "      <th>0</th>\n",
       "      <td>2059.0</td>\n",
       "      <td>TCR-occupied\\nGEMs</td>\n",
       "    </tr>\n",
       "    <tr>\n",
       "      <th>1</th>\n",
       "      <td>838.0</td>\n",
       "      <td>TCR-occupied\\nGEMs</td>\n",
       "    </tr>\n",
       "    <tr>\n",
       "      <th>2</th>\n",
       "      <td>4134.0</td>\n",
       "      <td>TCR-occupied\\nGEMs</td>\n",
       "    </tr>\n",
       "    <tr>\n",
       "      <th>3</th>\n",
       "      <td>6479.0</td>\n",
       "      <td>TCR-occupied\\nGEMs</td>\n",
       "    </tr>\n",
       "    <tr>\n",
       "      <th>4</th>\n",
       "      <td>1234.0</td>\n",
       "      <td>TCR-occupied\\nGEMs</td>\n",
       "    </tr>\n",
       "    <tr>\n",
       "      <th>...</th>\n",
       "      <td>...</td>\n",
       "      <td>...</td>\n",
       "    </tr>\n",
       "    <tr>\n",
       "      <th>13764</th>\n",
       "      <td>19.0</td>\n",
       "      <td>TCR-occupied\\nGEMs</td>\n",
       "    </tr>\n",
       "    <tr>\n",
       "      <th>13765</th>\n",
       "      <td>7070.0</td>\n",
       "      <td>TCR-occupied\\nGEMs</td>\n",
       "    </tr>\n",
       "    <tr>\n",
       "      <th>13766</th>\n",
       "      <td>36.0</td>\n",
       "      <td>TCR-occupied\\nGEMs</td>\n",
       "    </tr>\n",
       "    <tr>\n",
       "      <th>13767</th>\n",
       "      <td>24.0</td>\n",
       "      <td>TCR-occupied\\nGEMs</td>\n",
       "    </tr>\n",
       "    <tr>\n",
       "      <th>13768</th>\n",
       "      <td>634.0</td>\n",
       "      <td>TCR-occupied\\nGEMs</td>\n",
       "    </tr>\n",
       "  </tbody>\n",
       "</table>\n",
       "<p>13769 rows × 2 columns</p>\n",
       "</div>"
      ],
      "text/plain": [
       "          UMI                 var\n",
       "0      2059.0  TCR-occupied\\nGEMs\n",
       "1       838.0  TCR-occupied\\nGEMs\n",
       "2      4134.0  TCR-occupied\\nGEMs\n",
       "3      6479.0  TCR-occupied\\nGEMs\n",
       "4      1234.0  TCR-occupied\\nGEMs\n",
       "...       ...                 ...\n",
       "13764    19.0  TCR-occupied\\nGEMs\n",
       "13765  7070.0  TCR-occupied\\nGEMs\n",
       "13766    36.0  TCR-occupied\\nGEMs\n",
       "13767    24.0  TCR-occupied\\nGEMs\n",
       "13768   634.0  TCR-occupied\\nGEMs\n",
       "\n",
       "[13769 rows x 2 columns]"
      ]
     },
     "execution_count": 13,
     "metadata": {},
     "output_type": "execute_result"
    }
   ],
   "source": [
    "tmp_o = tmp['TCR-occupied'].explode().to_frame().reset_index(drop=True)\n",
    "tmp_o['var'] = 'TCR-occupied\\nGEMs'\n",
    "tmp_o.rename(columns={'TCR-occupied':'UMI'}, inplace=True)\n",
    "tmp_o"
   ]
  },
  {
   "cell_type": "code",
   "execution_count": 14,
   "metadata": {},
   "outputs": [
    {
     "data": {
      "text/html": [
       "<div>\n",
       "<style scoped>\n",
       "    .dataframe tbody tr th:only-of-type {\n",
       "        vertical-align: middle;\n",
       "    }\n",
       "\n",
       "    .dataframe tbody tr th {\n",
       "        vertical-align: top;\n",
       "    }\n",
       "\n",
       "    .dataframe thead th {\n",
       "        text-align: right;\n",
       "    }\n",
       "</style>\n",
       "<table border=\"1\" class=\"dataframe\">\n",
       "  <thead>\n",
       "    <tr style=\"text-align: right;\">\n",
       "      <th></th>\n",
       "      <th>UMI</th>\n",
       "      <th>var</th>\n",
       "    </tr>\n",
       "  </thead>\n",
       "  <tbody>\n",
       "    <tr>\n",
       "      <th>0</th>\n",
       "      <td>2.0</td>\n",
       "      <td>TCR-void\\nGEMs</td>\n",
       "    </tr>\n",
       "    <tr>\n",
       "      <th>1</th>\n",
       "      <td>24.0</td>\n",
       "      <td>TCR-void\\nGEMs</td>\n",
       "    </tr>\n",
       "    <tr>\n",
       "      <th>2</th>\n",
       "      <td>20.0</td>\n",
       "      <td>TCR-void\\nGEMs</td>\n",
       "    </tr>\n",
       "    <tr>\n",
       "      <th>3</th>\n",
       "      <td>7.0</td>\n",
       "      <td>TCR-void\\nGEMs</td>\n",
       "    </tr>\n",
       "    <tr>\n",
       "      <th>4</th>\n",
       "      <td>18.0</td>\n",
       "      <td>TCR-void\\nGEMs</td>\n",
       "    </tr>\n",
       "    <tr>\n",
       "      <th>...</th>\n",
       "      <td>...</td>\n",
       "      <td>...</td>\n",
       "    </tr>\n",
       "    <tr>\n",
       "      <th>708365</th>\n",
       "      <td>5.0</td>\n",
       "      <td>TCR-void\\nGEMs</td>\n",
       "    </tr>\n",
       "    <tr>\n",
       "      <th>708366</th>\n",
       "      <td>35.0</td>\n",
       "      <td>TCR-void\\nGEMs</td>\n",
       "    </tr>\n",
       "    <tr>\n",
       "      <th>708367</th>\n",
       "      <td>3.0</td>\n",
       "      <td>TCR-void\\nGEMs</td>\n",
       "    </tr>\n",
       "    <tr>\n",
       "      <th>708368</th>\n",
       "      <td>16.0</td>\n",
       "      <td>TCR-void\\nGEMs</td>\n",
       "    </tr>\n",
       "    <tr>\n",
       "      <th>708369</th>\n",
       "      <td>3.0</td>\n",
       "      <td>TCR-void\\nGEMs</td>\n",
       "    </tr>\n",
       "  </tbody>\n",
       "</table>\n",
       "<p>708370 rows × 2 columns</p>\n",
       "</div>"
      ],
      "text/plain": [
       "         UMI             var\n",
       "0        2.0  TCR-void\\nGEMs\n",
       "1       24.0  TCR-void\\nGEMs\n",
       "2       20.0  TCR-void\\nGEMs\n",
       "3        7.0  TCR-void\\nGEMs\n",
       "4       18.0  TCR-void\\nGEMs\n",
       "...      ...             ...\n",
       "708365   5.0  TCR-void\\nGEMs\n",
       "708366  35.0  TCR-void\\nGEMs\n",
       "708367   3.0  TCR-void\\nGEMs\n",
       "708368  16.0  TCR-void\\nGEMs\n",
       "708369   3.0  TCR-void\\nGEMs\n",
       "\n",
       "[708370 rows x 2 columns]"
      ]
     },
     "execution_count": 14,
     "metadata": {},
     "output_type": "execute_result"
    }
   ],
   "source": [
    "tmp_v = tmp['TCR-void'].explode().to_frame().reset_index(drop=True)\n",
    "tmp_v['var'] = 'TCR-void\\nGEMs'\n",
    "tmp_v.rename(columns={'TCR-void':'UMI'}, inplace=True)\n",
    "tmp_v"
   ]
  },
  {
   "cell_type": "code",
   "execution_count": 15,
   "metadata": {},
   "outputs": [
    {
     "data": {
      "text/html": [
       "<div>\n",
       "<style scoped>\n",
       "    .dataframe tbody tr th:only-of-type {\n",
       "        vertical-align: middle;\n",
       "    }\n",
       "\n",
       "    .dataframe tbody tr th {\n",
       "        vertical-align: top;\n",
       "    }\n",
       "\n",
       "    .dataframe thead th {\n",
       "        text-align: right;\n",
       "    }\n",
       "</style>\n",
       "<table border=\"1\" class=\"dataframe\">\n",
       "  <thead>\n",
       "    <tr style=\"text-align: right;\">\n",
       "      <th></th>\n",
       "      <th>UMI</th>\n",
       "      <th>var</th>\n",
       "    </tr>\n",
       "  </thead>\n",
       "  <tbody>\n",
       "    <tr>\n",
       "      <th>0</th>\n",
       "      <td>2059.0</td>\n",
       "      <td>TCR-occupied\\nGEMs</td>\n",
       "    </tr>\n",
       "    <tr>\n",
       "      <th>1</th>\n",
       "      <td>838.0</td>\n",
       "      <td>TCR-occupied\\nGEMs</td>\n",
       "    </tr>\n",
       "    <tr>\n",
       "      <th>2</th>\n",
       "      <td>4134.0</td>\n",
       "      <td>TCR-occupied\\nGEMs</td>\n",
       "    </tr>\n",
       "    <tr>\n",
       "      <th>3</th>\n",
       "      <td>6479.0</td>\n",
       "      <td>TCR-occupied\\nGEMs</td>\n",
       "    </tr>\n",
       "    <tr>\n",
       "      <th>4</th>\n",
       "      <td>1234.0</td>\n",
       "      <td>TCR-occupied\\nGEMs</td>\n",
       "    </tr>\n",
       "    <tr>\n",
       "      <th>...</th>\n",
       "      <td>...</td>\n",
       "      <td>...</td>\n",
       "    </tr>\n",
       "    <tr>\n",
       "      <th>722134</th>\n",
       "      <td>5.0</td>\n",
       "      <td>TCR-void\\nGEMs</td>\n",
       "    </tr>\n",
       "    <tr>\n",
       "      <th>722135</th>\n",
       "      <td>35.0</td>\n",
       "      <td>TCR-void\\nGEMs</td>\n",
       "    </tr>\n",
       "    <tr>\n",
       "      <th>722136</th>\n",
       "      <td>3.0</td>\n",
       "      <td>TCR-void\\nGEMs</td>\n",
       "    </tr>\n",
       "    <tr>\n",
       "      <th>722137</th>\n",
       "      <td>16.0</td>\n",
       "      <td>TCR-void\\nGEMs</td>\n",
       "    </tr>\n",
       "    <tr>\n",
       "      <th>722138</th>\n",
       "      <td>3.0</td>\n",
       "      <td>TCR-void\\nGEMs</td>\n",
       "    </tr>\n",
       "  </tbody>\n",
       "</table>\n",
       "<p>722139 rows × 2 columns</p>\n",
       "</div>"
      ],
      "text/plain": [
       "           UMI                 var\n",
       "0       2059.0  TCR-occupied\\nGEMs\n",
       "1        838.0  TCR-occupied\\nGEMs\n",
       "2       4134.0  TCR-occupied\\nGEMs\n",
       "3       6479.0  TCR-occupied\\nGEMs\n",
       "4       1234.0  TCR-occupied\\nGEMs\n",
       "...        ...                 ...\n",
       "722134     5.0      TCR-void\\nGEMs\n",
       "722135    35.0      TCR-void\\nGEMs\n",
       "722136     3.0      TCR-void\\nGEMs\n",
       "722137    16.0      TCR-void\\nGEMs\n",
       "722138     3.0      TCR-void\\nGEMs\n",
       "\n",
       "[722139 rows x 2 columns]"
      ]
     },
     "execution_count": 15,
     "metadata": {},
     "output_type": "execute_result"
    }
   ],
   "source": [
    "plt_df = pd.concat([tmp_o, tmp_v], ignore_index=True)\n",
    "plt_df.UMI = plt_df.UMI.astype(float)\n",
    "plt_df"
   ]
  },
  {
   "cell_type": "code",
   "execution_count": 16,
   "metadata": {},
   "outputs": [],
   "source": [
    "#plt_df.umi_mod = np.where(plt_df.UMI > )"
   ]
  },
  {
   "cell_type": "code",
   "execution_count": 17,
   "metadata": {},
   "outputs": [],
   "source": [
    "sns.set_style('ticks', {'axes.edgecolor': '0',  \n",
    "                        'xtick.color': '0',\n",
    "                        'ytick.color': '0'})\n",
    "rc = {\"font.size\":12,\n",
    "      \"axes.labelsize\":12,\n",
    "      \"axes.titlesize\":14,\n",
    "      \"xtick.labelsize\":10,\n",
    "      \"ytick.labelsize\":10,\n",
    "      \"legend.fontsize\":10,\n",
    "      \"legend.title_fontsize\":12}\n",
    "sns.set_context(\"paper\",font_scale=2)"
   ]
  },
  {
   "cell_type": "code",
   "execution_count": 20,
   "metadata": {},
   "outputs": [
    {
     "name": "stdout",
     "output_type": "stream",
     "text": [
      "(-2193.25, 46080.25)\n"
     ]
    },
    {
     "data": {
      "image/png": "[encoded data removed]",
      "text/plain": [
       "<Figure size 432x288 with 1 Axes>"
      ]
     },
     "metadata": {},
     "output_type": "display_data"
    }
   ],
   "source": [
    "#fig = plt.figure(figsize=(3.6,2.4))\n",
    "ax = sns.boxplot(data=plt_df, y='UMI',x='var', palette=['grey'])\n",
    "print(ax.get_ylim())\n",
    "plt.ylim(-200, 5000)\n",
    "plt.xlabel('')\n",
    "plt.ylabel('Hashing UMI count')\n",
    "sns.despine()\n",
    "# #plt.savefig('../experiments/exp13/run1_archive/plt/reports/hashing_umi_dist.png',bbox_inches='tight', dpi=300)\n",
    "# #plt.savefig('../experiments/exp13/run1_archive/plt/reports/hashing_umi_dist.pdf',bbox_inches='tight')\n",
    "plt.savefig('../experiments/exp13/run3/plt/venn/hashing_umi_dist.png',bbox_inches='tight', dpi=300)\n",
    "# #plt.savefig('../experiments/exp13/run3/plt/venn/hashing_umi_dist.pdf',bbox_inches='tight')"
   ]
  },
  {
   "cell_type": "code",
   "execution_count": 21,
   "metadata": {},
   "outputs": [],
   "source": [
    "from scipy.stats import wilcoxon"
   ]
  },
  {
   "cell_type": "code",
   "execution_count": 25,
   "metadata": {},
   "outputs": [],
   "source": [
    "from scipy.stats import mannwhitneyu\n",
    "u, p = mannwhitneyu(tmp_o.UMI, tmp_v.UMI) #, alternative='greater'"
   ]
  },
  {
   "cell_type": "code",
   "execution_count": 26,
   "metadata": {},
   "outputs": [
    {
     "data": {
      "text/plain": [
       "243042947.5"
      ]
     },
     "execution_count": 26,
     "metadata": {},
     "output_type": "execute_result"
    }
   ],
   "source": [
    "u"
   ]
  },
  {
   "cell_type": "code",
   "execution_count": 27,
   "metadata": {},
   "outputs": [
    {
     "data": {
      "text/plain": [
       "0.0"
      ]
     },
     "execution_count": 27,
     "metadata": {},
     "output_type": "execute_result"
    }
   ],
   "source": [
    "p"
   ]
  },
  {
   "cell_type": "code",
   "execution_count": null,
   "metadata": {},
   "outputs": [],
   "source": []
  }
 ],
 "metadata": {
  "kernelspec": {
   "display_name": "Python 3",
   "language": "python",
   "name": "python3"
  },
  "language_info": {
   "codemirror_mode": {
    "name": "ipython",
    "version": 3
   },
   "file_extension": ".py",
   "mimetype": "text/x-python",
   "name": "python",
   "nbconvert_exporter": "python",
   "pygments_lexer": "ipython3",
   "version": "3.7.3"
  }
 },
 "nbformat": 4,
 "nbformat_minor": 4
}
