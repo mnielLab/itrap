{
 "cells": [
  {
   "cell_type": "code",
   "execution_count": 1,
   "id": "d4192600",
   "metadata": {},
   "outputs": [],
   "source": [
    "import pandas as pd\n",
    "import numpy as np\n",
    "import matplotlib.pyplot as plt"
   ]
  },
  {
   "cell_type": "markdown",
   "id": "dc7a1036",
   "metadata": {},
   "source": [
    "# Input"
   ]
  },
  {
   "cell_type": "code",
   "execution_count": 2,
   "id": "85da3407",
   "metadata": {},
   "outputs": [],
   "source": [
    "EXT_EVAL = '/Volumes/tuba/herpov/tcr-pmhc-sc-project/data/netTCR-2.0/test/ext_eval_paired_data.csv'\n",
    "MIRA_EVAL = '/Volumes/tuba/herpov/tcr-pmhc-sc-project/data/netTCR-2.0/test/mira_eval_threshold90.csv'"
   ]
  },
  {
   "cell_type": "code",
   "execution_count": 3,
   "id": "e65a99c2",
   "metadata": {},
   "outputs": [],
   "source": [
    "AB_ALPHA = '/Volumes/tuba/herpov/tcr-pmhc-sc-project/data/netTCR-2.0/train/train_ab_90_alpha.csv'\n",
    "AB_BETA = '/Volumes/tuba/herpov/tcr-pmhc-sc-project/data/netTCR-2.0/train/train_ab_90_beta.csv'\n",
    "AB_AB = '/Volumes/tuba/herpov/tcr-pmhc-sc-project/data/netTCR-2.0/train/train_ab_90_alphabeta.csv'\n",
    "BETA = '/Volumes/tuba/herpov/tcr-pmhc-sc-project/data/netTCR-2.0/train/train_beta_90.csv'"
   ]
  },
  {
   "cell_type": "code",
   "execution_count": 61,
   "id": "b30339ab",
   "metadata": {},
   "outputs": [],
   "source": [
    "EXP9 = 'check_cdr3s.csv'"
   ]
  },
  {
   "cell_type": "code",
   "execution_count": 62,
   "id": "dc6c4055",
   "metadata": {},
   "outputs": [],
   "source": [
    "NETTCR_AB = '/Volumes/tuba/herpov/tcr-pmhc-sc-project/data/netTCR-2.0/nettcr_predictions.csv'"
   ]
  },
  {
   "cell_type": "markdown",
   "id": "f704f45b",
   "metadata": {},
   "source": [
    "# Load"
   ]
  },
  {
   "cell_type": "code",
   "execution_count": null,
   "id": "f4a5f5b9",
   "metadata": {},
   "outputs": [],
   "source": [
    "ext_eval = pd.read_csv(EXT_EVAL, usecols=['CDR3a','CDR3b'])\n",
    "mira_eval = pd.read_csv(MIRA_EVAL, sep=';', usecols=['CDR3']).rename(columns={'CDR3':'CDR3b'})"
   ]
  },
  {
   "cell_type": "code",
   "execution_count": 39,
   "id": "eab1e244",
   "metadata": {},
   "outputs": [],
   "source": [
    "ab_a = pd.read_csv(AB_ALPHA, usecols=['CDR3a','CDR3b'])\n",
    "ab_b = pd.read_csv(AB_BETA, usecols=['CDR3a','CDR3b'])\n",
    "ab_ab = pd.read_csv(AB_AB, usecols=['CDR3a','CDR3b'])\n",
    "beta = pd.read_csv(BETA, sep=';', usecols=['CDR3']).rename(columns={'CDR3':'CDR3b'})"
   ]
  },
  {
   "cell_type": "code",
   "execution_count": 63,
   "id": "0481f50a",
   "metadata": {},
   "outputs": [],
   "source": [
    "nettcr = pd.read_csv(NETTCR_AB)"
   ]
  },
  {
   "cell_type": "code",
   "execution_count": 57,
   "id": "f63fb132",
   "metadata": {},
   "outputs": [],
   "source": [
    "test = pd.concat([ext_eval, mira_eval]).drop_duplicates()\n",
    "train = pd.concat([ab_a, ab_b, ab_ab, beta]).drop_duplicates()"
   ]
  },
  {
   "cell_type": "code",
   "execution_count": 67,
   "id": "56af0b85",
   "metadata": {},
   "outputs": [
    {
     "data": {
      "text/html": [
       "<div>\n",
       "<style scoped>\n",
       "    .dataframe tbody tr th:only-of-type {\n",
       "        vertical-align: middle;\n",
       "    }\n",
       "\n",
       "    .dataframe tbody tr th {\n",
       "        vertical-align: top;\n",
       "    }\n",
       "\n",
       "    .dataframe thead th {\n",
       "        text-align: right;\n",
       "    }\n",
       "</style>\n",
       "<table border=\"1\" class=\"dataframe\">\n",
       "  <thead>\n",
       "    <tr style=\"text-align: right;\">\n",
       "      <th></th>\n",
       "      <th>CDR3a</th>\n",
       "      <th>CDR3b</th>\n",
       "    </tr>\n",
       "  </thead>\n",
       "  <tbody>\n",
       "    <tr>\n",
       "      <th>0</th>\n",
       "      <td>ALSVRPGGGADGLT</td>\n",
       "      <td>ASSFEAGYHEQY</td>\n",
       "    </tr>\n",
       "    <tr>\n",
       "      <th>1</th>\n",
       "      <td>AVNARSGYSTLT</td>\n",
       "      <td>ASSEGRLAGGGGETQY</td>\n",
       "    </tr>\n",
       "    <tr>\n",
       "      <th>2</th>\n",
       "      <td>AVAAYNDYKLS</td>\n",
       "      <td>ASSIYSGSSTDTQY</td>\n",
       "    </tr>\n",
       "    <tr>\n",
       "      <th>3</th>\n",
       "      <td>ATDGRGSNYKLT</td>\n",
       "      <td>ASSQDGTSGRYIQY</td>\n",
       "    </tr>\n",
       "    <tr>\n",
       "      <th>4</th>\n",
       "      <td>ALSGAGETSGSRLT</td>\n",
       "      <td>ATSGVDVNYGYT</td>\n",
       "    </tr>\n",
       "    <tr>\n",
       "      <th>...</th>\n",
       "      <td>...</td>\n",
       "      <td>...</td>\n",
       "    </tr>\n",
       "    <tr>\n",
       "      <th>53945</th>\n",
       "      <td>NaN</td>\n",
       "      <td>AISETGTSGNTIY</td>\n",
       "    </tr>\n",
       "    <tr>\n",
       "      <th>53946</th>\n",
       "      <td>NaN</td>\n",
       "      <td>ASSLGRAADIQY</td>\n",
       "    </tr>\n",
       "    <tr>\n",
       "      <th>53947</th>\n",
       "      <td>NaN</td>\n",
       "      <td>ASRYRGGSSYEQY</td>\n",
       "    </tr>\n",
       "    <tr>\n",
       "      <th>53948</th>\n",
       "      <td>NaN</td>\n",
       "      <td>ASSQDLGGPVEQF</td>\n",
       "    </tr>\n",
       "    <tr>\n",
       "      <th>53949</th>\n",
       "      <td>NaN</td>\n",
       "      <td>ASSLVDENIQY</td>\n",
       "    </tr>\n",
       "  </tbody>\n",
       "</table>\n",
       "<p>77563 rows × 2 columns</p>\n",
       "</div>"
      ],
      "text/plain": [
       "                CDR3a             CDR3b\n",
       "0      ALSVRPGGGADGLT      ASSFEAGYHEQY\n",
       "1        AVNARSGYSTLT  ASSEGRLAGGGGETQY\n",
       "2         AVAAYNDYKLS    ASSIYSGSSTDTQY\n",
       "3        ATDGRGSNYKLT    ASSQDGTSGRYIQY\n",
       "4      ALSGAGETSGSRLT      ATSGVDVNYGYT\n",
       "...               ...               ...\n",
       "53945             NaN     AISETGTSGNTIY\n",
       "53946             NaN      ASSLGRAADIQY\n",
       "53947             NaN     ASRYRGGSSYEQY\n",
       "53948             NaN     ASSQDLGGPVEQF\n",
       "53949             NaN       ASSLVDENIQY\n",
       "\n",
       "[77563 rows x 2 columns]"
      ]
     },
     "execution_count": 67,
     "metadata": {},
     "output_type": "execute_result"
    }
   ],
   "source": [
    "train"
   ]
  },
  {
   "cell_type": "code",
   "execution_count": 65,
   "id": "13376856",
   "metadata": {},
   "outputs": [
    {
     "data": {
      "text/html": [
       "<div>\n",
       "<style scoped>\n",
       "    .dataframe tbody tr th:only-of-type {\n",
       "        vertical-align: middle;\n",
       "    }\n",
       "\n",
       "    .dataframe tbody tr th {\n",
       "        vertical-align: top;\n",
       "    }\n",
       "\n",
       "    .dataframe thead th {\n",
       "        text-align: right;\n",
       "    }\n",
       "</style>\n",
       "<table border=\"1\" class=\"dataframe\">\n",
       "  <thead>\n",
       "    <tr style=\"text-align: right;\">\n",
       "      <th></th>\n",
       "      <th>peptide</th>\n",
       "      <th>CDR3a</th>\n",
       "      <th>CDR3b</th>\n",
       "      <th>prediction</th>\n",
       "      <th>percentile_rank</th>\n",
       "    </tr>\n",
       "  </thead>\n",
       "  <tbody>\n",
       "    <tr>\n",
       "      <th>0</th>\n",
       "      <td>GILGFVFTL</td>\n",
       "      <td>CAVNYGNKLVF</td>\n",
       "      <td>CASSLVAGAPSEQYF</td>\n",
       "      <td>0.577492</td>\n",
       "      <td>0.006</td>\n",
       "    </tr>\n",
       "    <tr>\n",
       "      <th>1</th>\n",
       "      <td>NLVPMVATV</td>\n",
       "      <td>CAVNYGNKLVF</td>\n",
       "      <td>CASSLVAGAPSEQYF</td>\n",
       "      <td>0.480218</td>\n",
       "      <td>0.003</td>\n",
       "    </tr>\n",
       "    <tr>\n",
       "      <th>2</th>\n",
       "      <td>GLCTLVAML</td>\n",
       "      <td>CAVNYGNKLVF</td>\n",
       "      <td>CASSLVAGAPSEQYF</td>\n",
       "      <td>0.473742</td>\n",
       "      <td>0.003</td>\n",
       "    </tr>\n",
       "    <tr>\n",
       "      <th>3</th>\n",
       "      <td>GILGFVFTL</td>\n",
       "      <td>CALRDMEYGNKLVF</td>\n",
       "      <td>CASSLIVSGGANEQFF</td>\n",
       "      <td>0.736257</td>\n",
       "      <td>0.001</td>\n",
       "    </tr>\n",
       "    <tr>\n",
       "      <th>4</th>\n",
       "      <td>NLVPMVATV</td>\n",
       "      <td>CALRDMEYGNKLVF</td>\n",
       "      <td>CASSLIVSGGANEQFF</td>\n",
       "      <td>0.602393</td>\n",
       "      <td>0.003</td>\n",
       "    </tr>\n",
       "    <tr>\n",
       "      <th>...</th>\n",
       "      <td>...</td>\n",
       "      <td>...</td>\n",
       "      <td>...</td>\n",
       "      <td>...</td>\n",
       "      <td>...</td>\n",
       "    </tr>\n",
       "    <tr>\n",
       "      <th>115</th>\n",
       "      <td>NLVPMVATV</td>\n",
       "      <td>CASLLIIQGAQKLVF</td>\n",
       "      <td>CASSVGQGRSYEQYF</td>\n",
       "      <td>0.208433</td>\n",
       "      <td>0.055</td>\n",
       "    </tr>\n",
       "    <tr>\n",
       "      <th>116</th>\n",
       "      <td>GLCTLVAML</td>\n",
       "      <td>CASLLIIQGAQKLVF</td>\n",
       "      <td>CASSVGQGRSYEQYF</td>\n",
       "      <td>0.204579</td>\n",
       "      <td>0.055</td>\n",
       "    </tr>\n",
       "    <tr>\n",
       "      <th>117</th>\n",
       "      <td>GILGFVFTL</td>\n",
       "      <td>CATVSRMDSSYKLIF</td>\n",
       "      <td>CASSLIGQGLGDEQFF</td>\n",
       "      <td>0.175838</td>\n",
       "      <td>0.043</td>\n",
       "    </tr>\n",
       "    <tr>\n",
       "      <th>118</th>\n",
       "      <td>NLVPMVATV</td>\n",
       "      <td>CATVSRMDSSYKLIF</td>\n",
       "      <td>CASSLIGQGLGDEQFF</td>\n",
       "      <td>0.411940</td>\n",
       "      <td>0.005</td>\n",
       "    </tr>\n",
       "    <tr>\n",
       "      <th>119</th>\n",
       "      <td>GLCTLVAML</td>\n",
       "      <td>CATVSRMDSSYKLIF</td>\n",
       "      <td>CASSLIGQGLGDEQFF</td>\n",
       "      <td>0.412152</td>\n",
       "      <td>0.005</td>\n",
       "    </tr>\n",
       "  </tbody>\n",
       "</table>\n",
       "<p>120 rows × 5 columns</p>\n",
       "</div>"
      ],
      "text/plain": [
       "       peptide            CDR3a             CDR3b  prediction  percentile_rank\n",
       "0    GILGFVFTL      CAVNYGNKLVF   CASSLVAGAPSEQYF    0.577492            0.006\n",
       "1    NLVPMVATV      CAVNYGNKLVF   CASSLVAGAPSEQYF    0.480218            0.003\n",
       "2    GLCTLVAML      CAVNYGNKLVF   CASSLVAGAPSEQYF    0.473742            0.003\n",
       "3    GILGFVFTL   CALRDMEYGNKLVF  CASSLIVSGGANEQFF    0.736257            0.001\n",
       "4    NLVPMVATV   CALRDMEYGNKLVF  CASSLIVSGGANEQFF    0.602393            0.003\n",
       "..         ...              ...               ...         ...              ...\n",
       "115  NLVPMVATV  CASLLIIQGAQKLVF   CASSVGQGRSYEQYF    0.208433            0.055\n",
       "116  GLCTLVAML  CASLLIIQGAQKLVF   CASSVGQGRSYEQYF    0.204579            0.055\n",
       "117  GILGFVFTL  CATVSRMDSSYKLIF  CASSLIGQGLGDEQFF    0.175838            0.043\n",
       "118  NLVPMVATV  CATVSRMDSSYKLIF  CASSLIGQGLGDEQFF    0.411940            0.005\n",
       "119  GLCTLVAML  CATVSRMDSSYKLIF  CASSLIGQGLGDEQFF    0.412152            0.005\n",
       "\n",
       "[120 rows x 5 columns]"
      ]
     },
     "execution_count": 65,
     "metadata": {},
     "output_type": "execute_result"
    }
   ],
   "source": [
    "nettcr"
   ]
  },
  {
   "cell_type": "markdown",
   "id": "3cc783a6",
   "metadata": {},
   "source": [
    "# Check for overlap"
   ]
  },
  {
   "cell_type": "markdown",
   "id": "f1a13291",
   "metadata": {},
   "source": [
    "Check if any of the train alpha and beta is in my data"
   ]
  },
  {
   "cell_type": "code",
   "execution_count": 79,
   "id": "9871789e",
   "metadata": {},
   "outputs": [
    {
     "data": {
      "text/plain": [
       "False"
      ]
     },
     "execution_count": 79,
     "metadata": {},
     "output_type": "execute_result"
    }
   ],
   "source": [
    "any(pd.merge(nettcr.drop_duplicates(subset=['CDR3a','CDR3b']),\n",
    "             train.drop_duplicates(), on=['CDR3a','CDR3b'], how='left', indicator=True)._merge == 'both')"
   ]
  },
  {
   "cell_type": "markdown",
   "id": "105a02fc",
   "metadata": {},
   "source": [
    "Check if any of the train CDR3b is in my data"
   ]
  },
  {
   "cell_type": "code",
   "execution_count": 78,
   "id": "a29a19ed",
   "metadata": {},
   "outputs": [
    {
     "data": {
      "text/plain": [
       "False"
      ]
     },
     "execution_count": 78,
     "metadata": {},
     "output_type": "execute_result"
    }
   ],
   "source": [
    "any(pd.merge(nettcr.drop_duplicates(subset=['CDR3a','CDR3b']),\n",
    "             train.drop_duplicates(), on=['CDR3b'], how='left', indicator=True)._merge == 'both')"
   ]
  },
  {
   "cell_type": "markdown",
   "id": "e28688f9",
   "metadata": {},
   "source": [
    "Check if any of the test alpha and beta is in my data"
   ]
  },
  {
   "cell_type": "code",
   "execution_count": 80,
   "id": "99c33b40",
   "metadata": {},
   "outputs": [
    {
     "data": {
      "text/plain": [
       "False"
      ]
     },
     "execution_count": 80,
     "metadata": {},
     "output_type": "execute_result"
    }
   ],
   "source": [
    "any(pd.merge(nettcr.drop_duplicates(subset=['CDR3a','CDR3b']),\n",
    "             test.drop_duplicates(), on=['CDR3a','CDR3b'], how='left', indicator=True)._merge == 'both')"
   ]
  },
  {
   "cell_type": "markdown",
   "id": "e86d5c08",
   "metadata": {},
   "source": [
    "Check if any of the test CDR3b is in my data"
   ]
  },
  {
   "cell_type": "code",
   "execution_count": 81,
   "id": "11ae8c9a",
   "metadata": {},
   "outputs": [
    {
     "data": {
      "text/plain": [
       "False"
      ]
     },
     "execution_count": 81,
     "metadata": {},
     "output_type": "execute_result"
    }
   ],
   "source": [
    "any(pd.merge(nettcr.drop_duplicates(subset=['CDR3a','CDR3b']),\n",
    "             test.drop_duplicates(), on=['CDR3b'], how='left', indicator=True)._merge == 'both')"
   ]
  },
  {
   "cell_type": "code",
   "execution_count": null,
   "id": "a2ec4174",
   "metadata": {},
   "outputs": [],
   "source": []
  }
 ],
 "metadata": {
  "kernelspec": {
   "display_name": "Python 3",
   "language": "python",
   "name": "python3"
  },
  "language_info": {
   "codemirror_mode": {
    "name": "ipython",
    "version": 3
   },
   "file_extension": ".py",
   "mimetype": "text/x-python",
   "name": "python",
   "nbconvert_exporter": "python",
   "pygments_lexer": "ipython3",
   "version": "3.7.4"
  }
 },
 "nbformat": 4,
 "nbformat_minor": 5
}
