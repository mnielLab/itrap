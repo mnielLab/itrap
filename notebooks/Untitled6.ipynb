{
 "cells": [
  {
   "cell_type": "code",
   "execution_count": 2,
   "metadata": {},
   "outputs": [],
   "source": [
    "import numpy as np\n",
    "import pandas as pd\n",
    "#import pyreadr\n",
    "from scipy.io import mmread"
   ]
  },
  {
   "cell_type": "code",
   "execution_count": 3,
   "metadata": {},
   "outputs": [],
   "source": [
    "DF = '/home/tuba/herpov/tcr-pmhc-sc-project/experiments/exp13/run2/cat/tables/tcr_barcode.csv'\n",
    "HTO = '/home/tuba/herpov/tcr-pmhc-sc-project/experiments/exp13/run2/lib/barcode_specificity_annotations.xlsx'\n",
    "B = '/home/tuba/herpov/tcr-pmhc-sc-project/experiments/exp13/run2/brc/count/features.10x.tsv.gz'\n",
    "G = '/home/tuba/herpov/tcr-pmhc-sc-project/experiments/exp13/run2/brc/count/barcodes.10x.tsv.gz'\n",
    "M = '/home/tuba/herpov/tcr-pmhc-sc-project/experiments/exp13/run2/brc/count/matrix.10x.mtx.gz'"
   ]
  },
  {
   "cell_type": "code",
   "execution_count": 4,
   "metadata": {},
   "outputs": [],
   "source": [
    "# ## Load\n",
    "df = pd.read_csv(DF)\n",
    "gems = df.dropna(subset=['ct','peptide_HLA'], how='any').gem\n",
    "\n",
    "hto_df = pd.read_excel(HTO, sheet_name=1, names=['barcode','sample_id','HLA_A','HLA_B','HLA_C','comment'])\n",
    "htos = hto_df.barcode\n",
    "\n",
    "#g = np.loadtxt(G, dtype='U36')\n",
    "#b = pd.read_csv(B, sep='\\t', header=None, names=['barcode','name','feature'])\n",
    "#m = mmread(M)\n",
    "#matrix = pd.DataFrame(m.toarray(), index=b.barcode, columns=g)"
   ]
  },
  {
   "cell_type": "code",
   "execution_count": null,
   "metadata": {},
   "outputs": [],
   "source": []
  }
 ],
 "metadata": {
  "kernelspec": {
   "display_name": "Python 3",
   "language": "python",
   "name": "python3"
  },
  "language_info": {
   "codemirror_mode": {
    "name": "ipython",
    "version": 3
   },
   "file_extension": ".py",
   "mimetype": "text/x-python",
   "name": "python",
   "nbconvert_exporter": "python",
   "pygments_lexer": "ipython3",
   "version": "3.7.3"
  }
 },
 "nbformat": 4,
 "nbformat_minor": 4
}
