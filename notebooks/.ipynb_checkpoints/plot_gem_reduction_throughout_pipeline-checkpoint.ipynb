{
 "cells": [
  {
   "cell_type": "code",
   "execution_count": 1,
   "metadata": {},
   "outputs": [],
   "source": [
    "import numpy as np\n",
    "import pandas as pd\n",
    "import matplotlib.pyplot as plt"
   ]
  },
  {
   "cell_type": "code",
   "execution_count": 2,
   "metadata": {},
   "outputs": [],
   "source": [
    "plt.style.use('ggplot')"
   ]
  },
  {
   "cell_type": "markdown",
   "metadata": {},
   "source": [
    "# Args"
   ]
  },
  {
   "cell_type": "code",
   "execution_count": 7,
   "metadata": {},
   "outputs": [],
   "source": [
    "EXP = 'exp3/'\n",
    "PRJ = 'gem_reduction_throughout_pipeline/'"
   ]
  },
  {
   "cell_type": "markdown",
   "metadata": {},
   "source": [
    "# Plotting dir"
   ]
  },
  {
   "cell_type": "code",
   "execution_count": 38,
   "metadata": {},
   "outputs": [],
   "source": [
    "FIG_DIR = \"/Volumes/tuba/herpov/tcr-pmhc-sc-project/plots/\" + EXP + PRJ\n",
    "FIG_SUND = \"/Volumes/sund/Public/T-cells-and-cancer/herpov/plots/\" + EXP + PRJ"
   ]
  },
  {
   "cell_type": "markdown",
   "metadata": {},
   "source": [
    "# Input data"
   ]
  },
  {
   "cell_type": "code",
   "execution_count": 24,
   "metadata": {},
   "outputs": [],
   "source": [
    "gems_raw_fil = \"/Volumes/tuba/herpov/tcr-pmhc-sc-project/data/exp3_MHC/gem_lists/gems_raw.lst\"\n",
    "gems_ann_fil = \"/Volumes/tuba/herpov/tcr-pmhc-sc-project/data/exp3_MHC/gem_lists/gems_annotated.lst\"\n",
    "gems_crd_fil = \"/Volumes/tuba/herpov/tcr-pmhc-sc-project/data/exp3_MHC/gem_lists/gems_annotated_credible.lst\"\n",
    "gems_m10_fil = \"/Volumes/tuba/herpov/tcr-pmhc-sc-project/data/exp3_MHC/gem_lists/gems_annotated_credible_min10.lst\""
   ]
  },
  {
   "cell_type": "markdown",
   "metadata": {},
   "source": [
    "# Output data"
   ]
  },
  {
   "cell_type": "code",
   "execution_count": null,
   "metadata": {},
   "outputs": [],
   "source": []
  },
  {
   "cell_type": "markdown",
   "metadata": {},
   "source": [
    "# Import input"
   ]
  },
  {
   "cell_type": "code",
   "execution_count": 14,
   "metadata": {},
   "outputs": [],
   "source": [
    "gems_raw = np.loadtxt(gems_raw_fil, dtype=str)"
   ]
  },
  {
   "cell_type": "code",
   "execution_count": 20,
   "metadata": {},
   "outputs": [],
   "source": [
    "gems_ann = np.loadtxt(gems_ann_fil, dtype=str)"
   ]
  },
  {
   "cell_type": "code",
   "execution_count": 21,
   "metadata": {},
   "outputs": [],
   "source": [
    "gems_crd = np.loadtxt(gems_crd_fil, dtype=str)"
   ]
  },
  {
   "cell_type": "code",
   "execution_count": 25,
   "metadata": {},
   "outputs": [],
   "source": [
    "gems_m10 = np.loadtxt(gems_m10_fil, dtype=str)"
   ]
  },
  {
   "cell_type": "markdown",
   "metadata": {},
   "source": [
    "# Main"
   ]
  },
  {
   "cell_type": "markdown",
   "metadata": {},
   "source": [
    "## MHC barcode GEMs"
   ]
  },
  {
   "cell_type": "code",
   "execution_count": 26,
   "metadata": {},
   "outputs": [],
   "source": [
    "# Number of unique GEMs in raw reads\n",
    "n_gems_raw = len(set(gems_raw))\n",
    "n_gems_ann = len(set(gems_ann))\n",
    "n_gems_crd = len(set(gems_crd))\n",
    "n_gems_m10 = len(set(gems_m10))"
   ]
  },
  {
   "cell_type": "code",
   "execution_count": 27,
   "metadata": {},
   "outputs": [
    {
     "name": "stdout",
     "output_type": "stream",
     "text": [
      "108512\n",
      "41463\n",
      "973\n",
      "774\n"
     ]
    }
   ],
   "source": [
    "print(n_gems_raw)\n",
    "print(n_gems_ann)\n",
    "print(n_gems_crd)\n",
    "print(n_gems_m10)"
   ]
  },
  {
   "cell_type": "code",
   "execution_count": 39,
   "metadata": {},
   "outputs": [
    {
     "data": {
      "image/png": "[encoded data removed]",
      "text/plain": [
       "<Figure size 432x288 with 1 Axes>"
      ]
     },
     "metadata": {},
     "output_type": "display_data"
    }
   ],
   "source": [
    "version = 1\n",
    "\n",
    "x = ['raw reads', 'annotated reads', 'credible annotated reads', 'min. 10 reads per GEM']\n",
    "y = [n_gems_raw, n_gems_ann, n_gems_crd, n_gems_m10]\n",
    "plt.bar(x, y)\n",
    "plt.xticks(rotation=45, ha='right')\n",
    "plt.ylabel(\"Unique GEM counts\")\n",
    "plt.title(\"GEM reduction throughout pipeline\")\n",
    "plt.savefig(FIG_SUND + \"v%i.pdf\" %(version), bbox_inches='tight')\n",
    "plt.show()"
   ]
  },
  {
   "cell_type": "code",
   "execution_count": 41,
   "metadata": {},
   "outputs": [],
   "source": [
    "np.savetxt(FIG_SUND + \"counts.txt\", y, fmt='%i')"
   ]
  },
  {
   "cell_type": "markdown",
   "metadata": {},
   "source": [
    "# Raw reads, 108512\n",
    "Count derived from processed/longranger_clean. Thus the longranger annotation of GEMs\n",
    "# Annotated reads, 41463\n",
    "Count derived from the reads that could in any way be annotated by BLAST\n",
    "# Credible reads, 973\n",
    "Count derived from the reads that could be annotated unambiguously and therefore were credible\n",
    "# Min 10, 774\n",
    "Contains only GEMs that were sequenced with 10 or more barcode reads"
   ]
  },
  {
   "cell_type": "code",
   "execution_count": null,
   "metadata": {},
   "outputs": [],
   "source": []
  }
 ],
 "metadata": {
  "kernelspec": {
   "display_name": "Python 3",
   "language": "python",
   "name": "python3"
  },
  "language_info": {
   "codemirror_mode": {
    "name": "ipython",
    "version": 3
   },
   "file_extension": ".py",
   "mimetype": "text/x-python",
   "name": "python",
   "nbconvert_exporter": "python",
   "pygments_lexer": "ipython3",
   "version": "3.7.3"
  }
 },
 "nbformat": 4,
 "nbformat_minor": 2
}
