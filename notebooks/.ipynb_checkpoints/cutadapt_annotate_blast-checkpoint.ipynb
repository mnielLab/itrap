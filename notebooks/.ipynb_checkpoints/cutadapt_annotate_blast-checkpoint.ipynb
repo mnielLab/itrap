{
 "cells": [
  {
   "cell_type": "code",
   "execution_count": 2,
   "metadata": {},
   "outputs": [],
   "source": [
    "import numpy as np\n",
    "import pandas as pd"
   ]
  },
  {
   "cell_type": "markdown",
   "metadata": {},
   "source": [
    "# Args"
   ]
  },
  {
   "cell_type": "code",
   "execution_count": 3,
   "metadata": {},
   "outputs": [],
   "source": [
    "EXP = \"exp2\"\n",
    "PLATFORM = \"_ILLUMINA\""
   ]
  },
  {
   "cell_type": "markdown",
   "metadata": {},
   "source": [
    "# Input"
   ]
  },
  {
   "cell_type": "code",
   "execution_count": 8,
   "metadata": {},
   "outputs": [],
   "source": [
    "blast_annotations = \"/Volumes/tuba/herpov/tcr-pmhc-sc-project/data/\" + EXP + \"_MHC\" + PLATFORM + \"/blast/expected_templates/ILLUMINA-MHC-2.blast.tsv\""
   ]
  },
  {
   "cell_type": "code",
   "execution_count": 16,
   "metadata": {},
   "outputs": [],
   "source": [
    "HEAD_FILE = \"/Volumes/tuba/herpov/tcr-pmhc-sc-project/data/\" + EXP + \"_MHC\" + PLATFORM + \"/cutadapt_naming/no_adapters/headers/annotated_headers.lst\""
   ]
  },
  {
   "cell_type": "markdown",
   "metadata": {},
   "source": [
    "# Output"
   ]
  },
  {
   "cell_type": "code",
   "execution_count": 10,
   "metadata": {},
   "outputs": [],
   "source": [
    "head_blast_annotations = \"/Volumes/tuba/herpov/tcr-pmhc-sc-project/data/\" + EXP + \"_MHC\" + PLATFORM + \"/blast/expected_templates/blast.annotated.tsv\""
   ]
  },
  {
   "cell_type": "markdown",
   "metadata": {},
   "source": [
    "# Main"
   ]
  },
  {
   "cell_type": "code",
   "execution_count": 12,
   "metadata": {},
   "outputs": [],
   "source": [
    "blast_df = pd.read_csv(blast_annotations, sep=\"\\t\", names=['query_id', 'template_id', 'identity',\n",
    "                                                             'alignment_length','mismatches', 'gap_openings',\n",
    "                                                             'q_alignment_start','q_alignment_end',\n",
    "                                                             't_alignment_start', 't_alignment_end','e-value',\n",
    "                                                             'bit_score'])"
   ]
  },
  {
   "cell_type": "code",
   "execution_count": 17,
   "metadata": {},
   "outputs": [],
   "source": [
    "head_df = pd.read_csv(HEAD_FILE, sep=\" \", names=['query_id', 'gem', 'tso', 'b_primer', 'anneal', 'cd8_primer', 'mhc_primer'])\n",
    "head_df['a_primer'] = np.where(head_df.cd8_primer == 'no_adapter', head_df.mhc_primer, head_df.cd8_primer)\n",
    "head_df.replace('no_adapter', np.NaN, inplace=True)\n",
    "head_df['match'] = head_df.loc[:, ['tso', 'b_primer', 'anneal', 'a_primer']].count(axis=1)"
   ]
  },
  {
   "cell_type": "code",
   "execution_count": 18,
   "metadata": {},
   "outputs": [
    {
     "data": {
      "text/html": [
       "<div>\n",
       "<style scoped>\n",
       "    .dataframe tbody tr th:only-of-type {\n",
       "        vertical-align: middle;\n",
       "    }\n",
       "\n",
       "    .dataframe tbody tr th {\n",
       "        vertical-align: top;\n",
       "    }\n",
       "\n",
       "    .dataframe thead th {\n",
       "        text-align: right;\n",
       "    }\n",
       "</style>\n",
       "<table border=\"1\" class=\"dataframe\">\n",
       "  <thead>\n",
       "    <tr style=\"text-align: right;\">\n",
       "      <th></th>\n",
       "      <th>query_id</th>\n",
       "      <th>gem</th>\n",
       "      <th>tso</th>\n",
       "      <th>b_primer</th>\n",
       "      <th>anneal</th>\n",
       "      <th>cd8_primer</th>\n",
       "      <th>mhc_primer</th>\n",
       "      <th>a_primer</th>\n",
       "      <th>match</th>\n",
       "    </tr>\n",
       "  </thead>\n",
       "  <tbody>\n",
       "  </tbody>\n",
       "</table>\n",
       "</div>"
      ],
      "text/plain": [
       "Empty DataFrame\n",
       "Columns: [query_id, gem, tso, b_primer, anneal, cd8_primer, mhc_primer, a_primer, match]\n",
       "Index: []"
      ]
     },
     "execution_count": 18,
     "metadata": {},
     "output_type": "execute_result"
    }
   ],
   "source": [
    "head_df.head()"
   ]
  },
  {
   "cell_type": "code",
   "execution_count": 7,
   "metadata": {},
   "outputs": [],
   "source": [
    "blast_df.replace({\"gem\": r\"^BX:Z:\"}, {\"gem\": \"\"}, regex=True, inplace=True)\n",
    "doublets = blast_df.duplicated(['query_id', 'gem', 'bit_score'], keep=False) #, 't_alignment_start', 't_alignment_end', 'q_alignment_start', 'q_alignment_end', 'match'\n",
    "blast_df['credible_alignment'] = np.where(doublets, False, True)\n",
    "blast_df.sort_values(by=['gem', 'query_id', 'bit_score', 'alignment_length'], ascending=False, inplace=True) #\n",
    "blast_df.drop_duplicates(['query_id'], inplace=True)\n",
    "blast_df['barcode'], blast_df['sample'] = blast_df.template_id.str.split(\"_\", n=1).str"
   ]
  },
  {
   "cell_type": "code",
   "execution_count": 8,
   "metadata": {},
   "outputs": [],
   "source": [
    "blast_df.to_csv(clean_blast_annotations, sep=\"\\t\", index=False)"
   ]
  },
  {
   "cell_type": "code",
   "execution_count": null,
   "metadata": {},
   "outputs": [],
   "source": []
  }
 ],
 "metadata": {
  "kernelspec": {
   "display_name": "Python 3",
   "language": "python",
   "name": "python3"
  },
  "language_info": {
   "codemirror_mode": {
    "name": "ipython",
    "version": 3
   },
   "file_extension": ".py",
   "mimetype": "text/x-python",
   "name": "python",
   "nbconvert_exporter": "python",
   "pygments_lexer": "ipython3",
   "version": "3.7.3"
  }
 },
 "nbformat": 4,
 "nbformat_minor": 2
}
