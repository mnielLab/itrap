{
 "cells": [
  {
   "cell_type": "code",
   "execution_count": 1,
   "metadata": {},
   "outputs": [],
   "source": [
    "import numpy as np\n",
    "import pandas as pd\n",
    "\n",
    "from Bio import SeqIO\n",
    "from Bio.Seq import Seq\n",
    "from Bio.SeqRecord import SeqRecord"
   ]
  },
  {
   "cell_type": "code",
   "execution_count": 2,
   "metadata": {},
   "outputs": [],
   "source": [
    "transtable = str.maketrans(\"ACTG\",\"TGAC\")"
   ]
  },
  {
   "cell_type": "markdown",
   "metadata": {},
   "source": [
    "# Doc string"
   ]
  },
  {
   "cell_type": "code",
   "execution_count": 3,
   "metadata": {},
   "outputs": [
    {
     "data": {
      "text/plain": [
       "'\\nConstruct a database of all possible reads from the different combinations of oligo A, oligo B, primers, and samples\\n'"
      ]
     },
     "execution_count": 3,
     "metadata": {},
     "output_type": "execute_result"
    }
   ],
   "source": [
    "\"\"\"\n",
    "Construct a database of all possible reads from the different combinations of oligo A, oligo B, primers, and samples\n",
    "\"\"\""
   ]
  },
  {
   "cell_type": "markdown",
   "metadata": {},
   "source": [
    "# Args\n",
    "TSO, PRIMER_R4, B_OLIGO are same sense as iontorrent seq data\n",
    "\n",
    "\n",
    "ANNEAL, A_OLIGO, PRIMER_P1 are negative sense of seq data"
   ]
  },
  {
   "cell_type": "code",
   "execution_count": null,
   "metadata": {},
   "outputs": [],
   "source": [
    "EXP = \"exp2_MHC_ILLUMINA\""
   ]
  },
  {
   "cell_type": "code",
   "execution_count": 4,
   "metadata": {},
   "outputs": [],
   "source": [
    "N6 = \"NNNNNN\"\n",
    "TSO = \"TTTCTTATATGGG\"\n",
    "PRIMER_R4 = \"CGAGTACCATGGGCGTAAC\"\n",
    "ANNEAL = \"GTGTGACCTTCCCCAAAAGGCGTAG\".translate(transtable)[::-1]\n",
    "PRIMER_P1_MHC = \"GAAGTTCCAGCCAGCGTC\".translate(transtable)[::-1] # Used only for MHC barcodes\n",
    "PRIMER_P1_CD8 = \"GTAAAAGATCCCAGGTTTCATC\".translate(transtable)[::-1] # Used only for CD8 barcodes\n",
    "CD8_BARCODE = \"A4000\""
   ]
  },
  {
   "cell_type": "code",
   "execution_count": 5,
   "metadata": {},
   "outputs": [
    {
     "name": "stdout",
     "output_type": "stream",
     "text": [
      "CTACGCCTTTTGGGGAAGGTCACAC\n",
      "GATGAAACCTGGGATCTTTTAC\n",
      "GACGCTGGCTGGAACTTC\n"
     ]
    }
   ],
   "source": [
    "print(ANNEAL)\n",
    "print(PRIMER_P1_CD8)\n",
    "print(PRIMER_P1_MHC)"
   ]
  },
  {
   "cell_type": "code",
   "execution_count": 6,
   "metadata": {},
   "outputs": [
    {
     "data": {
      "text/plain": [
       "'AGAGGTTTCCAAAAAAATGGCGCTAAGGCCGAGAG'"
      ]
     },
     "execution_count": 6,
     "metadata": {},
     "output_type": "execute_result"
    }
   ],
   "source": [
    "# CD8 oligo A\n",
    "\"CTCTCGGCCTTAGCGCCATTTTTTTGGAAACCTCT\".translate(transtable)[::-1]"
   ]
  },
  {
   "cell_type": "markdown",
   "metadata": {},
   "source": [
    "# Load data"
   ]
  },
  {
   "cell_type": "code",
   "execution_count": 7,
   "metadata": {},
   "outputs": [],
   "source": [
    "OLIGO_A_SEQS = \"../data/exp3_MHC/barcode_library/oligo_a.fa\"\n",
    "OLIGO_B_SEQS = \"../data/exp3_MHC/barcode_library/oligo_b.fa\"\n",
    "SAMPLE_SEQS = \"../data/exp3_MHC/barcode_library/sample.fa\"\n",
    "OVERREP_SEQS = \"../data/exp3_MHC/fastqc/IONTORRENT.R1.gems.no_umi.no_adapters_fastqc/overrepresented_sequences.txt\""
   ]
  },
  {
   "cell_type": "markdown",
   "metadata": {},
   "source": [
    "## Output files"
   ]
  },
  {
   "cell_type": "code",
   "execution_count": 8,
   "metadata": {},
   "outputs": [],
   "source": [
    "BARCODE_TEMPLATES = \"../data/exp3_MHC/barcode_library/barcode_templates.fa\""
   ]
  },
  {
   "cell_type": "code",
   "execution_count": 9,
   "metadata": {},
   "outputs": [],
   "source": [
    "EXPECTED_TEMPLATES = \"../data/\" + EXP + \"/blast/expected_templates/templates.fa\"\n",
    "REVERSED_TEMPLATES = \"../data/\" + EXP + \"/blast/reversed_templates/templates.fa\"\n",
    "REV_TEMPLATES_START = \"../data/\" + EXP + \"/blast/rev_templates_start/templates.fa\"\n",
    "OVERREP_SEQ_TEMPLATES = \"../data/\" + EXP + \"/blast/overrep_seq_templates/templates.fa\""
   ]
  },
  {
   "cell_type": "markdown",
   "metadata": {},
   "source": [
    "# Import data"
   ]
  },
  {
   "cell_type": "code",
   "execution_count": null,
   "metadata": {},
   "outputs": [],
   "source": [
    "oligo_a_records = list()\n",
    "for record in SeqIO.parse(OLIGO_A_SEQS, \"fasta\"):\n",
    "    record.seq = record.seq.reverse_complement()\n",
    "    oligo_a_records.append(record)"
   ]
  },
  {
   "cell_type": "code",
   "execution_count": null,
   "metadata": {},
   "outputs": [],
   "source": [
    "oligo_b_records = list()\n",
    "for record in SeqIO.parse(OLIGO_B_SEQS, \"fasta\"):\n",
    "    oligo_b_records.append(record)"
   ]
  },
  {
   "cell_type": "code",
   "execution_count": null,
   "metadata": {},
   "outputs": [],
   "source": [
    "sample_records = list()\n",
    "for record in SeqIO.parse(SAMPLE_SEQS, \"fasta\"):\n",
    "    record.seq = record.seq.reverse_complement()\n",
    "    sample_records.append(record)"
   ]
  },
  {
   "cell_type": "markdown",
   "metadata": {},
   "source": [
    "# Construct templates"
   ]
  },
  {
   "cell_type": "code",
   "execution_count": null,
   "metadata": {},
   "outputs": [],
   "source": [
    "template_records = list()\n",
    "for oligo_a_record in oligo_a_records:\n",
    "    if oligo_a_record.id.endswith(CD8_BARCODE):\n",
    "        primer_p1 = PRIMER_P1_CD8\n",
    "    else:\n",
    "        primer_p1 = PRIMER_P1_MHC           \n",
    "    for oligo_b_record in oligo_b_records:\n",
    "        for sample_record in sample_records:\n",
    "            template_seq = Seq(TSO + PRIMER_R4 + N6) + oligo_b_record.seq + Seq(ANNEAL) + oligo_a_record.seq + Seq(N6 + primer_p1) + sample_record.seq\n",
    "            template_id = oligo_a_record.id.split(\"-\")[-1] + oligo_b_record.id.split(\"-\")[-1] + \"_\" + sample_record.id\n",
    "            template_records.append(SeqRecord(template_seq, id=template_id))\n",
    "            print(SeqRecord(template_seq, id=template_id).format(\"fasta\"))"
   ]
  },
  {
   "cell_type": "code",
   "execution_count": null,
   "metadata": {},
   "outputs": [],
   "source": [
    "SeqIO.write(template_records, BARCODE_TEMPLATES, \"fasta\")"
   ]
  },
  {
   "cell_type": "code",
   "execution_count": null,
   "metadata": {},
   "outputs": [],
   "source": [
    "SeqIO.write(template_records, EXPECTED_TEMPLATES, \"fasta\")"
   ]
  },
  {
   "cell_type": "markdown",
   "metadata": {},
   "source": [
    "# Import erroneous data"
   ]
  },
  {
   "cell_type": "code",
   "execution_count": 10,
   "metadata": {},
   "outputs": [],
   "source": [
    "oligo_a_records = list()\n",
    "for record in SeqIO.parse(OLIGO_A_SEQS, \"fasta\"):\n",
    "    oligo_a_records.append(record)"
   ]
  },
  {
   "cell_type": "code",
   "execution_count": 11,
   "metadata": {},
   "outputs": [],
   "source": [
    "oligo_b_records = list()\n",
    "for record in SeqIO.parse(OLIGO_B_SEQS, \"fasta\"):\n",
    "    record.seq = record.seq.reverse_complement()\n",
    "    oligo_b_records.append(record)"
   ]
  },
  {
   "cell_type": "code",
   "execution_count": 12,
   "metadata": {},
   "outputs": [],
   "source": [
    "sample_records = list()\n",
    "for record in SeqIO.parse(SAMPLE_SEQS, \"fasta\"):\n",
    "    sample_records.append(record)"
   ]
  },
  {
   "cell_type": "code",
   "execution_count": null,
   "metadata": {},
   "outputs": [],
   "source": [
    "acc2seq = dict()\n",
    "overrep_acc = dict()\n",
    "\n",
    "with open(OVERREP_SEQS) as fh:\n",
    "    for line in fh:\n",
    "        if line.startswith(\">>\") or line.startswith(\"#\"):\n",
    "            continue\n",
    "        \n",
    "        fields = line.strip().split(\"\\t\")\n",
    "        \n",
    "        if len(fields) < 4:\n",
    "            continue\n",
    "            \n",
    "        seq = fields[0]\n",
    "        acc = fields[3].split(\" \")[-1][1:-1]\n",
    "        \n",
    "        if acc in overrep_acc:\n",
    "            overrep_acc[acc] += 1\n",
    "        else:\n",
    "            overrep_acc[acc] = 1\n",
    "            \n",
    "        acc2seq[acc + \"_\" + str(overrep_acc[acc])] = seq\n",
    "        \n",
    "acc2seq"
   ]
  },
  {
   "cell_type": "markdown",
   "metadata": {},
   "source": [
    "# Construct erroneous templates"
   ]
  },
  {
   "cell_type": "markdown",
   "metadata": {},
   "source": [
    "## Reversed template start"
   ]
  },
  {
   "cell_type": "code",
   "execution_count": null,
   "metadata": {},
   "outputs": [],
   "source": [
    "template_records = list()\n",
    "for primer_p1 in [PRIMER_P1_MHC, PRIMER_P1_CD8]:\n",
    "    template_seq = Seq(TSO + primer_p1.translate(transtable)[::-1])\n",
    "    template_id = \"TSO+PRIMER_A\"\n",
    "    template_records.append(SeqRecord(template_seq, id=template_id))\n",
    "    \n",
    "    for sample_record in sample_records:\n",
    "        template_seq = Seq(TSO) + sample_record.seq + Seq(primer_p1)\n",
    "        template_id = \"TSO_\" + sample_record.id + \"_PRIMER_A\"\n",
    "        template_records.append(SeqRecord(template_seq, id=template_id))"
   ]
  },
  {
   "cell_type": "code",
   "execution_count": null,
   "metadata": {},
   "outputs": [],
   "source": [
    "SeqIO.write(template_records, REV_TEMPLATES_START, \"fasta\")"
   ]
  },
  {
   "cell_type": "markdown",
   "metadata": {},
   "source": [
    "## Reversed template (whole)"
   ]
  },
  {
   "cell_type": "code",
   "execution_count": 13,
   "metadata": {},
   "outputs": [],
   "source": [
    "template_records = list()\n",
    "for oligo_a_record in oligo_a_records:\n",
    "    if oligo_a_record.id.endswith(CD8_BARCODE):\n",
    "        primer_p1 = PRIMER_P1_CD8\n",
    "    else:\n",
    "        primer_p1 = PRIMER_P1_MHC           \n",
    "    for oligo_b_record in oligo_b_records:\n",
    "        for sample_record in sample_records:\n",
    "            template_seq = Seq(TSO) + sample_record.seq + Seq(primer_p1 + N6) + oligo_a_record.seq + Seq(ANNEAL.translate(transtable)[::-1]) + oligo_b_record.seq + Seq(N6 + PRIMER_R4)\n",
    "            template_id = oligo_a_record.id.split(\"-\")[-1] + oligo_b_record.id.split(\"-\")[-1] + \"_\" + sample_record.id\n",
    "            template_records.append(SeqRecord(template_seq, id=template_id))"
   ]
  },
  {
   "cell_type": "code",
   "execution_count": 14,
   "metadata": {},
   "outputs": [
    {
     "data": {
      "text/plain": [
       "675"
      ]
     },
     "execution_count": 14,
     "metadata": {},
     "output_type": "execute_result"
    }
   ],
   "source": [
    "SeqIO.write(template_records, REVERSED_TEMPLATES, \"fasta\")"
   ]
  },
  {
   "cell_type": "markdown",
   "metadata": {},
   "source": [
    "## Overrepresented sequences as templates"
   ]
  },
  {
   "cell_type": "code",
   "execution_count": null,
   "metadata": {},
   "outputs": [],
   "source": [
    "template_records = list()\n",
    "for acc, seq in acc2seq.items():\n",
    "    template_seq = Seq(seq)\n",
    "    template_id = acc\n",
    "    template_records.append(SeqRecord(template_seq, id=template_id))"
   ]
  },
  {
   "cell_type": "code",
   "execution_count": null,
   "metadata": {},
   "outputs": [],
   "source": [
    "SeqIO.write(template_records, OVERREP_SEQ_TEMPLATES, \"fasta\")"
   ]
  },
  {
   "cell_type": "code",
   "execution_count": null,
   "metadata": {},
   "outputs": [],
   "source": []
  }
 ],
 "metadata": {
  "kernelspec": {
   "display_name": "Python 3",
   "language": "python",
   "name": "python3"
  },
  "language_info": {
   "codemirror_mode": {
    "name": "ipython",
    "version": 3
   },
   "file_extension": ".py",
   "mimetype": "text/x-python",
   "name": "python",
   "nbconvert_exporter": "python",
   "pygments_lexer": "ipython3",
   "version": "3.7.3"
  }
 },
 "nbformat": 4,
 "nbformat_minor": 2
}
