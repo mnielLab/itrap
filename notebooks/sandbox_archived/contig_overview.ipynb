{
 "cells": [
  {
   "cell_type": "code",
   "execution_count": 1,
   "metadata": {},
   "outputs": [],
   "source": [
    "import pandas as pd\n",
    "import numpy as np\n",
    "import matplotlib.pyplot as plt"
   ]
  },
  {
   "cell_type": "markdown",
   "metadata": {},
   "source": [
    "# Args"
   ]
  },
  {
   "cell_type": "code",
   "execution_count": 2,
   "metadata": {},
   "outputs": [],
   "source": [
    "EXP = \"exp5\""
   ]
  },
  {
   "cell_type": "markdown",
   "metadata": {},
   "source": [
    "# Input"
   ]
  },
  {
   "cell_type": "code",
   "execution_count": 3,
   "metadata": {},
   "outputs": [],
   "source": [
    "file = \"/Volumes/tuba/herpov/tcr-pmhc-sc-project/data/\" + EXP + \"_TCR/processed/cellranger_out/TCR_VDJ/outs/all_contig_annotations.csv\"#\"src/MS_2x150_TCR_190501/all_contig_annotations.csv\" # /Volumes/tuba \"src/all_contig_annotations.csv\" #\n",
    "figs = \"/Volumes/tuba/herpov/tcr-pmhc-sc-project/plots/\" + EXP + \"/\"#\"../fig/plots/MS_2x150_TCR_190501/\" #\"../fig/plots/Exp2_init/\" #"
   ]
  },
  {
   "cell_type": "markdown",
   "metadata": {},
   "source": [
    "# Output"
   ]
  },
  {
   "cell_type": "code",
   "execution_count": 4,
   "metadata": {},
   "outputs": [],
   "source": [
    "file_dir = \"/Volumes/tuba/herpov/tcr-pmhc-sc-project/data/\" + EXP + \"_TCR/processed/gem_filtration_lists/\"\n",
    "#           /Volumes/tuba/herpov/tcr-pmhc-sc-project/data/exp5       _TCR/processed/gem_filtration_lists\n",
    "#          '/Volumes/tuba/herpov/tcr-pmhc-sc-project/data/exp5       _TCR/processed/gem_filtration_lists/ready_for_use.lst'"
   ]
  },
  {
   "cell_type": "code",
   "execution_count": 5,
   "metadata": {},
   "outputs": [
    {
     "data": {
      "text/plain": [
       "'/Volumes/tuba/herpov/tcr-pmhc-sc-project/data/exp5_TCR/processed/gem_filtration_lists/'"
      ]
     },
     "execution_count": 5,
     "metadata": {},
     "output_type": "execute_result"
    }
   ],
   "source": [
    "file_dir"
   ]
  },
  {
   "cell_type": "code",
   "execution_count": 6,
   "metadata": {},
   "outputs": [],
   "source": [
    "df = pd.read_csv(file, header=0)"
   ]
  },
  {
   "cell_type": "code",
   "execution_count": 7,
   "metadata": {},
   "outputs": [],
   "source": [
    "#pmhc_barcodes = np.loadtxt(\"/Volumes/tuba/herpov/tcr-pmhc-sc-project/data/exp3_MHC/processed/longranger_clean/tmp/unique_gems_min_2.lst\", dtype=np.str)"
   ]
  },
  {
   "cell_type": "markdown",
   "metadata": {},
   "source": [
    "# Dataframe insights"
   ]
  },
  {
   "cell_type": "code",
   "execution_count": 7,
   "metadata": {},
   "outputs": [
    {
     "data": {
      "text/html": [
       "<div>\n",
       "<style scoped>\n",
       "    .dataframe tbody tr th:only-of-type {\n",
       "        vertical-align: middle;\n",
       "    }\n",
       "\n",
       "    .dataframe tbody tr th {\n",
       "        vertical-align: top;\n",
       "    }\n",
       "\n",
       "    .dataframe thead th {\n",
       "        text-align: right;\n",
       "    }\n",
       "</style>\n",
       "<table border=\"1\" class=\"dataframe\">\n",
       "  <thead>\n",
       "    <tr style=\"text-align: right;\">\n",
       "      <th></th>\n",
       "      <th>barcode</th>\n",
       "      <th>is_cell</th>\n",
       "      <th>contig_id</th>\n",
       "      <th>high_confidence</th>\n",
       "      <th>length</th>\n",
       "      <th>chain</th>\n",
       "      <th>v_gene</th>\n",
       "      <th>d_gene</th>\n",
       "      <th>j_gene</th>\n",
       "      <th>c_gene</th>\n",
       "      <th>full_length</th>\n",
       "      <th>productive</th>\n",
       "      <th>cdr3</th>\n",
       "      <th>cdr3_nt</th>\n",
       "      <th>reads</th>\n",
       "      <th>umis</th>\n",
       "      <th>raw_clonotype_id</th>\n",
       "      <th>raw_consensus_id</th>\n",
       "    </tr>\n",
       "  </thead>\n",
       "  <tbody>\n",
       "    <tr>\n",
       "      <th>0</th>\n",
       "      <td>AAACCTGAGATGTCGG-1</td>\n",
       "      <td>True</td>\n",
       "      <td>AAACCTGAGATGTCGG-1_contig_1</td>\n",
       "      <td>True</td>\n",
       "      <td>535</td>\n",
       "      <td>TRB</td>\n",
       "      <td>TRBV9</td>\n",
       "      <td>TRBD2</td>\n",
       "      <td>TRBJ2-1</td>\n",
       "      <td>TRBC2</td>\n",
       "      <td>True</td>\n",
       "      <td>True</td>\n",
       "      <td>CASSAWTSNRDEQFF</td>\n",
       "      <td>TGTGCCAGCAGCGCCTGGACTAGTAATCGGGATGAGCAGTTCTTC</td>\n",
       "      <td>1900</td>\n",
       "      <td>12</td>\n",
       "      <td>clonotype4</td>\n",
       "      <td>clonotype4_consensus_1</td>\n",
       "    </tr>\n",
       "    <tr>\n",
       "      <th>1</th>\n",
       "      <td>AAACCTGAGATGTCGG-1</td>\n",
       "      <td>True</td>\n",
       "      <td>AAACCTGAGATGTCGG-1_contig_2</td>\n",
       "      <td>False</td>\n",
       "      <td>325</td>\n",
       "      <td>TRB</td>\n",
       "      <td>None</td>\n",
       "      <td>None</td>\n",
       "      <td>TRBJ2-3</td>\n",
       "      <td>TRBC2</td>\n",
       "      <td>False</td>\n",
       "      <td>None</td>\n",
       "      <td>None</td>\n",
       "      <td>None</td>\n",
       "      <td>734</td>\n",
       "      <td>2</td>\n",
       "      <td>clonotype4</td>\n",
       "      <td>None</td>\n",
       "    </tr>\n",
       "    <tr>\n",
       "      <th>2</th>\n",
       "      <td>AAACCTGAGGATCGCA-1</td>\n",
       "      <td>True</td>\n",
       "      <td>AAACCTGAGGATCGCA-1_contig_1</td>\n",
       "      <td>True</td>\n",
       "      <td>675</td>\n",
       "      <td>TRB</td>\n",
       "      <td>TRBV9</td>\n",
       "      <td>TRBD2</td>\n",
       "      <td>TRBJ2-1</td>\n",
       "      <td>TRBC2</td>\n",
       "      <td>True</td>\n",
       "      <td>True</td>\n",
       "      <td>CASSAWTSNRDEQFF</td>\n",
       "      <td>TGTGCCAGCAGCGCCTGGACTAGTAATCGGGATGAGCAGTTCTTC</td>\n",
       "      <td>3190</td>\n",
       "      <td>20</td>\n",
       "      <td>clonotype1</td>\n",
       "      <td>clonotype1_consensus_1</td>\n",
       "    </tr>\n",
       "    <tr>\n",
       "      <th>3</th>\n",
       "      <td>AAACCTGAGGATCGCA-1</td>\n",
       "      <td>True</td>\n",
       "      <td>AAACCTGAGGATCGCA-1_contig_2</td>\n",
       "      <td>True</td>\n",
       "      <td>536</td>\n",
       "      <td>TRA</td>\n",
       "      <td>TRAV29DV5</td>\n",
       "      <td>None</td>\n",
       "      <td>TRAJ45</td>\n",
       "      <td>TRAC</td>\n",
       "      <td>True</td>\n",
       "      <td>True</td>\n",
       "      <td>CAAKSDSGGGADGLTF</td>\n",
       "      <td>TGTGCAGCAAAATCGGATTCAGGAGGAGGTGCTGACGGACTCACCTTT</td>\n",
       "      <td>2387</td>\n",
       "      <td>10</td>\n",
       "      <td>clonotype1</td>\n",
       "      <td>clonotype1_consensus_2</td>\n",
       "    </tr>\n",
       "    <tr>\n",
       "      <th>4</th>\n",
       "      <td>AAACCTGAGGATCGCA-1</td>\n",
       "      <td>True</td>\n",
       "      <td>AAACCTGAGGATCGCA-1_contig_3</td>\n",
       "      <td>True</td>\n",
       "      <td>449</td>\n",
       "      <td>TRB</td>\n",
       "      <td>None</td>\n",
       "      <td>None</td>\n",
       "      <td>TRBJ2-3</td>\n",
       "      <td>TRBC2</td>\n",
       "      <td>False</td>\n",
       "      <td>None</td>\n",
       "      <td>None</td>\n",
       "      <td>None</td>\n",
       "      <td>853</td>\n",
       "      <td>5</td>\n",
       "      <td>clonotype1</td>\n",
       "      <td>None</td>\n",
       "    </tr>\n",
       "  </tbody>\n",
       "</table>\n",
       "</div>"
      ],
      "text/plain": [
       "              barcode  is_cell                    contig_id  high_confidence  \\\n",
       "0  AAACCTGAGATGTCGG-1     True  AAACCTGAGATGTCGG-1_contig_1             True   \n",
       "1  AAACCTGAGATGTCGG-1     True  AAACCTGAGATGTCGG-1_contig_2            False   \n",
       "2  AAACCTGAGGATCGCA-1     True  AAACCTGAGGATCGCA-1_contig_1             True   \n",
       "3  AAACCTGAGGATCGCA-1     True  AAACCTGAGGATCGCA-1_contig_2             True   \n",
       "4  AAACCTGAGGATCGCA-1     True  AAACCTGAGGATCGCA-1_contig_3             True   \n",
       "\n",
       "   length chain     v_gene d_gene   j_gene c_gene  full_length productive  \\\n",
       "0     535   TRB      TRBV9  TRBD2  TRBJ2-1  TRBC2         True       True   \n",
       "1     325   TRB       None   None  TRBJ2-3  TRBC2        False       None   \n",
       "2     675   TRB      TRBV9  TRBD2  TRBJ2-1  TRBC2         True       True   \n",
       "3     536   TRA  TRAV29DV5   None   TRAJ45   TRAC         True       True   \n",
       "4     449   TRB       None   None  TRBJ2-3  TRBC2        False       None   \n",
       "\n",
       "               cdr3                                           cdr3_nt  reads  \\\n",
       "0   CASSAWTSNRDEQFF     TGTGCCAGCAGCGCCTGGACTAGTAATCGGGATGAGCAGTTCTTC   1900   \n",
       "1              None                                              None    734   \n",
       "2   CASSAWTSNRDEQFF     TGTGCCAGCAGCGCCTGGACTAGTAATCGGGATGAGCAGTTCTTC   3190   \n",
       "3  CAAKSDSGGGADGLTF  TGTGCAGCAAAATCGGATTCAGGAGGAGGTGCTGACGGACTCACCTTT   2387   \n",
       "4              None                                              None    853   \n",
       "\n",
       "   umis raw_clonotype_id        raw_consensus_id  \n",
       "0    12       clonotype4  clonotype4_consensus_1  \n",
       "1     2       clonotype4                    None  \n",
       "2    20       clonotype1  clonotype1_consensus_1  \n",
       "3    10       clonotype1  clonotype1_consensus_2  \n",
       "4     5       clonotype1                    None  "
      ]
     },
     "execution_count": 7,
     "metadata": {},
     "output_type": "execute_result"
    }
   ],
   "source": [
    "df.head()"
   ]
  },
  {
   "cell_type": "code",
   "execution_count": 15,
   "metadata": {
    "scrolled": true
   },
   "outputs": [
    {
     "data": {
      "text/plain": [
       "barcode             object\n",
       "is_cell               bool\n",
       "contig_id           object\n",
       "high_confidence       bool\n",
       "length               int64\n",
       "chain               object\n",
       "v_gene              object\n",
       "d_gene              object\n",
       "j_gene              object\n",
       "c_gene              object\n",
       "full_length           bool\n",
       "productive          object\n",
       "cdr3                object\n",
       "cdr3_nt             object\n",
       "reads                int64\n",
       "umis                 int64\n",
       "raw_clonotype_id    object\n",
       "raw_consensus_id    object\n",
       "dtype: object"
      ]
     },
     "execution_count": 15,
     "metadata": {},
     "output_type": "execute_result"
    }
   ],
   "source": [
    "df.dtypes"
   ]
  },
  {
   "cell_type": "markdown",
   "metadata": {},
   "source": [
    "# Counts of contigs per barcode"
   ]
  },
  {
   "cell_type": "code",
   "execution_count": null,
   "metadata": {},
   "outputs": [],
   "source": [
    "plt.hist(df.barcode.value_counts().tolist(), bins=list(range(1,max(df.barcode.value_counts().tolist()))))\n",
    "plt.xlabel(\"Counts of entries per barcode\")\n",
    "plt.ylabel(\"Counts\")\n",
    "plt.title(\"Several barcodes are represented with multiple entries (contigs)\")\n",
    "\n",
    "plt.tight_layout()\n",
    "plt.savefig(figs + \"entries_per_barcode.png\")"
   ]
  },
  {
   "cell_type": "markdown",
   "metadata": {},
   "source": [
    "# Counts of GEM annotations: cell and productive"
   ]
  },
  {
   "cell_type": "code",
   "execution_count": null,
   "metadata": {},
   "outputs": [],
   "source": [
    "print(\"# Entries:\\t\\t\\t\\t %d\" %df.shape[0])\n",
    "gems = float(df[\"barcode\"].unique().shape[0])\n",
    "print(\"# GEMs:\\t\\t\\t\\t\\t %d\" %gems)\n",
    "\n",
    "#print(\"# Entries annotated with cells:\\t\\t %d\" %df[df.is_cell==True].shape[0])\n",
    "print(\"# GEMs annotated with cells:\\t\\t %d (%.2f)\" %(df[df.is_cell==True][\"barcode\"].unique().shape[0], df[df.is_cell==True][\"barcode\"].unique().shape[0]/gems*30))\n",
    "\n",
    "#print(\"# Entries annotated without cells:\\t %d\" %df[df.is_cell==False].shape[0])\n",
    "print(\"# GEMs annotated without cells:\\t\\t %d (%.2f)\" %(df[df.is_cell==False][\"barcode\"].unique().shape[0], df[df.is_cell==False][\"barcode\"].unique().shape[0]/gems*30))\n",
    "\n",
    "#print(\"# Entries annotated with productive TCR:\\t\\t %d\" %df[(df.productive==\"True\")].shape[0])\n",
    "print(\"# GEMs annotated with productive TCR:\\t\\t\\t %d (%.2f)\" %(df[(df.productive==\"True\")][\"barcode\"].unique().shape[0], df[(df.productive==\"True\")][\"barcode\"].unique().shape[0]/gems*30))\n",
    "\n",
    "#print(\"# Entries annotated with cells and productive TCR:\\t %d\" %df[(df.is_cell==True) & (df.productive==\"True\")].shape[0])\n",
    "print(\"# GEMs annotated with cells and productive TCR:\\t\\t %d (%.2f)\" %(df[(df.is_cell==True) & (df.productive==\"True\")][\"barcode\"].unique().shape[0], df[(df.is_cell==True) & (df.productive==\"True\")][\"barcode\"].unique().shape[0]/gems*30))\n",
    "print(\"# GEMs annotated with cells and productive TCR:\\t\\t %d (%.2f)\" %(len(set(df[(df.is_cell==True)][\"barcode\"].unique()).intersection(set(df[df.productive==\"True\"][\"barcode\"].unique()))), df[(df.is_cell==True) & (df.productive==\"True\")][\"barcode\"].unique().shape[0]/gems*30))\n",
    "\n",
    "#print(\"# Entries annotated without cells and productive TCR:\\t %d\" %df[(df.is_cell==False) & (df.productive==\"True\")].shape[0])\n",
    "print(\"# GEMs annotated without cells BUT productive TCR:\\t %d (%.2f)\" %(df[(df.is_cell==False) & (df.productive==\"True\")][\"barcode\"].unique().shape[0], df[(df.is_cell==False) & (df.productive==\"True\")][\"barcode\"].unique().shape[0]/gems*30))\n",
    "print(\"# GEMs annotated without cells and unproductive TCR:\\t %d (%.2f)\" %(df[(df.is_cell==False) & (df.productive==\"False\")][\"barcode\"].unique().shape[0], df[(df.is_cell==False) & (df.productive==\"False\")][\"barcode\"].unique().shape[0]/gems*30))\n",
    "\n",
    "print(\"# GEMs annotated without CDR3 BUT productive TCR:\\t %d (%.2f)\" %(df[(df.cdr3==\"\") & (df.productive==\"True\")][\"barcode\"].unique().shape[0], df[(df.cdr3==\"\") & (df.productive==\"True\")][\"barcode\"].unique().shape[0]/gems*30))\n",
    "\n",
    "print(\"# Entries annotated with cells and TRA:\\t\\t %d (%.2f)\" %(df[(df.is_cell==True) & (df.chain==\"TRA\")].shape[0], df[(df.is_cell==True) & (df.chain==\"TRA\")].shape[0]/gems*30))\n",
    "print(\"# Entries annotated with cells and productive TRA:\\t %d (%.2f)\" %(df[(df.is_cell==True) & (df.productive==\"True\") & (df.chain==\"TRA\")].shape[0], df[(df.is_cell==True) & (df.productive==\"True\") & (df.chain==\"TRA\")].shape[0]/gems*30))\n",
    "print(\"# GEMs annotated with cells and multiple productive TRAs:\\t %d (%.2f)\" %(df[(df.is_cell==True) & (df.productive==\"True\") & (df.chain==\"TRA\")].shape[0] - df[(df.is_cell==True) & (df.productive==\"True\") & (df.chain==\"TRA\")][\"barcode\"].unique().shape[0], (df[(df.is_cell==True) & (df.productive==\"True\") & (df.chain==\"TRA\")].shape[0] - df[(df.is_cell==True) & (df.productive==\"True\") & (df.chain==\"TRA\")][\"barcode\"].unique().shape[0])/gems*30))\n",
    "print(\"# GEMs annotated with cells and at least one productive TRA:\\t %d (%.2f)\" %(df[(df.is_cell==True) & (df.productive==\"True\") & (df.chain==\"TRA\")][\"barcode\"].unique().shape[0], df[(df.is_cell==True) & (df.productive==\"True\") & (df.chain==\"TRA\")][\"barcode\"].unique().shape[0]/gems*30))\n",
    "print(\"# GEMs annotated with at least one productive TRA:\\t %d (%.2f)\" %(df[(df.productive==\"True\") & (df.chain==\"TRA\")][\"barcode\"].unique().shape[0], df[(df.productive==\"True\") & (df.chain==\"TRA\")][\"barcode\"].unique().shape[0]/gems*30))\n",
    "\n",
    "\n",
    "print(\"# GEMs annotated with cells and TRB:\\t\\t %d (%.2f)\" %(df[(df.is_cell==True) & (df.chain==\"TRB\")].shape[0], df[(df.is_cell==True) & (df.chain==\"TRB\")].shape[0]/gems*30))\n",
    "print(\"# GEMs annotated with cells and productive TRB:\\t %d (%.2f)\" %(df[(df.is_cell==True) & (df.productive==\"True\") & (df.chain==\"TRB\")].shape[0], df[(df.is_cell==True) & (df.productive==\"True\") & (df.chain==\"TRB\")].shape[0]/gems*30))\n",
    "print(\"# GEMs annotated with cells and multiple productive TRBs:\\t %d (%.2f)\" %(df[(df.is_cell==True) & (df.productive==\"True\") & (df.chain==\"TRB\")].shape[0] - df[(df.is_cell==True) & (df.productive==\"True\") & (df.chain==\"TRB\")][\"barcode\"].unique().shape[0], (df[(df.is_cell==True) & (df.productive==\"True\") & (df.chain==\"TRB\")].shape[0] - df[(df.is_cell==True) & (df.productive==\"True\") & (df.chain==\"TRB\")][\"barcode\"].unique().shape[0])/gems*30))\n",
    "print(\"# GEMs annotated with cells and at least one productive TRB:\\t %d (%.2f)\" %(df[(df.is_cell==True) & (df.productive==\"True\") & (df.chain==\"TRB\")][\"barcode\"].unique().shape[0], df[(df.is_cell==True) & (df.productive==\"True\") & (df.chain==\"TRB\")][\"barcode\"].unique().shape[0]/gems*30))\n",
    "print(\"# GEMs annotated with at least one productive TRB:\\t %d (%.2f)\" %(df[(df.productive==\"True\") & (df.chain==\"TRB\")][\"barcode\"].unique().shape[0], df[(df.productive==\"True\") & (df.chain==\"TRB\")][\"barcode\"].unique().shape[0]/gems*30))\n",
    "\n",
    "\n",
    "print(\"# GEMs annotated with cells and at least one productive TRA and TRB:\\t %d (%.2f)\" %(len(set(df[(df.is_cell==True) & (df.productive==\"True\") & (df.chain==\"TRA\")][\"barcode\"]).intersection(set(df[(df.is_cell==True) & (df.productive==\"True\") & (df.chain==\"TRB\")][\"barcode\"]))), len(set(df[(df.is_cell==True) & (df.productive==\"True\") & (df.chain==\"TRA\")][\"barcode\"]).intersection(set(df[(df.is_cell==True) & (df.productive==\"True\") & (df.chain==\"TRB\")][\"barcode\"])))/gems*30)) \n",
    "print(\"# GEMs annotated with at least one productive TRA and TRB:\\t %d (%.2f)\" %(len(set(df[(df.productive==\"True\") & (df.chain==\"TRA\")][\"barcode\"]).intersection(set(df[(df.productive==\"True\") & (df.chain==\"TRB\")][\"barcode\"]))), len(set(df[(df.is_cell==True) & (df.productive==\"True\") & (df.chain==\"TRA\")][\"barcode\"]).intersection(set(df[(df.is_cell==True) & (df.productive==\"True\") & (df.chain==\"TRB\")][\"barcode\"])))/gems*30)) \n",
    "\n",
    "\n",
    "print(\"# GEMs annotated with high confidence:\\t\\t %d (%.2f)\" %(df[(df.high_confidence==True)][\"barcode\"].unique().shape[0], df[(df.high_confidence==True)][\"barcode\"].unique().shape[0]/gems*30))\n",
    "print(\"# GEMs annotated with cells and high confidence:\\t\\t %d (%.2f)\" %(df[(df.is_cell==True) & (df.high_confidence==True)][\"barcode\"].unique().shape[0], df[(df.is_cell==True) & (df.high_confidence==True)][\"barcode\"].unique().shape[0]/gems*30))\n",
    "print(\"# GEMs annotated with high confidence and productive:\\t\\t %d (%.2f)\" %(df[(df.productive==\"True\") & (df.high_confidence==True)][\"barcode\"].unique().shape[0], df[(df.productive==\"True\") & (df.high_confidence==True)][\"barcode\"].unique().shape[0]/gems*30))\n",
    "\n",
    "print(\"# GEMs annotated with cells, productive TCR and full length:\\t\\t %d (%.2f)\" %(df[(df.is_cell==True) & (df.productive==\"True\") & (df.full_length==True)][\"barcode\"].unique().shape[0], df[(df.is_cell==True) & (df.productive==\"True\")][\"barcode\"].unique().shape[0]/gems*30))\n",
    "print(\"# GEMs annotated with cells, productive TCR and full length:\\t\\t %d (%.2f)\" %(df[(df.is_cell==True) & (df.productive==\"True\") & (df.full_length==False)][\"barcode\"].unique().shape[0], df[(df.is_cell==True) & (df.productive==\"True\")][\"barcode\"].unique().shape[0]/gems*30))\n"
   ]
  },
  {
   "cell_type": "code",
   "execution_count": null,
   "metadata": {
    "scrolled": true
   },
   "outputs": [],
   "source": [
    "df[(df.is_cell==False) & (df.productive==\"True\")].head()"
   ]
  },
  {
   "cell_type": "code",
   "execution_count": null,
   "metadata": {},
   "outputs": [],
   "source": [
    "print(\"# GEMs annotated with CDR3:\\t\\t %d\" %(df[(df.cdr3!=\"\")][\"barcode\"].unique().shape[0]))\n",
    "print(\"# GEMs annotated with cells and CDR3:\\t\\t %d\" %(df[(df.is_cell==True) & (df.cdr3!=\"\")][\"barcode\"].unique().shape[0]))\n",
    "print(\"# GEMs annotated with CDR3 and productive:\\t\\t %d\" %(df[(df.productive==\"True\") & (df.cdr3!=\"\")][\"barcode\"].unique().shape[0]))\n",
    "\n",
    "print(\"# GEMs annotated with no cells and unproductive:\\t %d\" %(df[(df.is_cell==False) & (df.productive==\"False\")][\"barcode\"].unique().shape[0]))\n",
    "print(\"# GEMs annotated with cells but unproductive:\\t %d\" %(df[(df.is_cell==True) & (df.productive==\"False\")][\"barcode\"].unique().shape[0]))"
   ]
  },
  {
   "cell_type": "code",
   "execution_count": null,
   "metadata": {},
   "outputs": [],
   "source": [
    "print(len(set(df[\"barcode\"].unique()) - set(df[(df.is_cell==True) | (df.productive==\"True\")][\"barcode\"].unique())))\n",
    "bc = set(df[\"barcode\"].unique()) - set(df[(df.is_cell==True) | (df.productive==\"True\")][\"barcode\"].unique())\n",
    "df[df[\"barcode\"].isin(bc)].head()"
   ]
  },
  {
   "cell_type": "code",
   "execution_count": null,
   "metadata": {},
   "outputs": [],
   "source": [
    "print(\"# GEMs annotated without cells and unproductive:\\t %d\" %(len(set(df[\"barcode\"].unique()) - set(df[(df.is_cell==True) | (df.productive==\"True\")][\"barcode\"].unique()))))\n",
    "print(\"# GEMs annotated high confidence:\\t %d\" %(df[df[\"barcode\"].isin(bc)][df.high_confidence==True][\"barcode\"].unique().shape[0]))\n",
    "\n",
    "print(\"# GEMs annotated productive None:\\t %d\" %(df[df[\"barcode\"].isin(bc)][df.productive==\"None\"][\"barcode\"].unique().shape[0]))\n",
    "print(\"# GEMs annotated not full length:\\t %d (%.2f)\" %(df[df[\"barcode\"].isin(bc)][df.full_length==False][\"barcode\"].unique().shape[0], df[df[\"barcode\"].isin(bc)][df.full_length==False][\"barcode\"].unique().shape[0]/gems*30))\n",
    "print(\"# GEMs annotated full length and productive None:\\t %d\" %(df[df[\"barcode\"].isin(bc)][(df.full_length==True) & (df.productive==\"None\")][\"barcode\"].unique().shape[0]))\n",
    "print(\"# GEMs annotated not full length and productive None:\\t %d\" %(df[df[\"barcode\"].isin(bc)][(df.full_length==False) & (df.productive==\"None\")][\"barcode\"].unique().shape[0]))\n",
    "print(\"# GEMs annotated not full length and productive False:\\t %d\" %(df[df[\"barcode\"].isin(bc)][(df.full_length==False) & (df.productive==\"False\")][\"barcode\"].unique().shape[0]))\n",
    "\n",
    "\n",
    "\n",
    "\n",
    "print(\"# GEMs annotated not full length:\\t %d\" %(df[(df.full_length==False)][\"barcode\"].unique().shape[0]))\n",
    "print(\"# GEMs annotated not full length and productive:\\t %d\" %(df[(df.full_length==False) & (df.productive==\"True\")][\"barcode\"].unique().shape[0]))\n",
    "print(\"# GEMs annotated with cells but not full length:\\t %d\" %(df[(df.full_length==False) & (df.is_cell==True)][\"barcode\"].unique().shape[0]))\n"
   ]
  },
  {
   "cell_type": "code",
   "execution_count": null,
   "metadata": {},
   "outputs": [],
   "source": [
    "df[(df.full_length==False)].head()"
   ]
  },
  {
   "cell_type": "markdown",
   "metadata": {},
   "source": [
    "# Count TCR GEMs overlapping with pMHC GEMs"
   ]
  },
  {
   "cell_type": "code",
   "execution_count": null,
   "metadata": {},
   "outputs": [],
   "source": [
    "print(\"# TCR GEMs: \", str(len(df.barcode.unique())))\n",
    "print(\"# MHC GEMs: \", str(len(pmhc_barcodes)))\n",
    "print(\"Intersection: \", str(len(np.intersect1d(np.sort(df.barcode.unique()), pmhc_barcodes, assume_unique=True))))"
   ]
  },
  {
   "cell_type": "markdown",
   "metadata": {},
   "source": [
    "# Comparing attribute distributions between cell annotations"
   ]
  },
  {
   "cell_type": "markdown",
   "metadata": {},
   "source": [
    "## UMI based stats"
   ]
  },
  {
   "cell_type": "code",
   "execution_count": null,
   "metadata": {
    "scrolled": true
   },
   "outputs": [],
   "source": [
    "fig = plt.figure(figsize=(5,10))\n",
    "plt.subplot(3,2,1)\n",
    "plt.hist(df[df.is_cell==True][\"umis\"], alpha=0.5, bins=list(range(df[\"umis\"].max()+1)), label=\"Is cell\")\n",
    "plt.legend()\n",
    "plt.subplot(3,2,2)\n",
    "plt.hist(df[df.is_cell==False][\"umis\"], alpha=0.5, bins=list(range(5)), color=\"orange\", label=\"Is not cell\")\n",
    "plt.legend()\n",
    "\n",
    "plt.subplot(3,2,3)\n",
    "plt.hist(df[df.high_confidence==True][\"umis\"], alpha=0.5, bins=list(range(65)), label=\"High confidence\")\n",
    "plt.legend()\n",
    "plt.subplot(3,2,4)\n",
    "plt.hist(df[df.high_confidence==False][\"umis\"], alpha=0.5, bins=list(range(9)), color=\"orange\", label=\"Low confidence\")\n",
    "plt.legend()\n",
    "\n",
    "plt.subplot(3,2,5)\n",
    "plt.hist(df[df.productive==\"True\"][\"umis\"], alpha=0.5, bins=list(range(150)), label=\"Productive\")\n",
    "plt.legend()\n",
    "plt.subplot(3,2,6)\n",
    "plt.hist(df[df.productive!=\"True\"][\"umis\"], alpha=0.5, bins=list(range(20)), color=\"orange\", label=\"Unpoductive\")\n",
    "plt.legend()\n",
    "plt.xlabel(\"UMIs\")\n",
    "\n",
    "plt.tight_layout()\n",
    "plt.savefig(figs + \"umi_distributions.png\")"
   ]
  },
  {
   "cell_type": "code",
   "execution_count": null,
   "metadata": {
    "scrolled": true
   },
   "outputs": [],
   "source": [
    "print(df[(df.is_cell==True) & (df.umis==1)].shape)\n",
    "print(df[(df.high_confidence==True) & (df.umis==1)].shape)\n",
    "print(df[(df.productive==\"True\") & (df.umis==1)].shape)"
   ]
  },
  {
   "cell_type": "code",
   "execution_count": null,
   "metadata": {},
   "outputs": [],
   "source": [
    "print(df[(df.is_cell==True) & (df.umis==1)][\"barcode\"].unique().shape)\n",
    "print(df[(df.is_cell==False) & (df.umis==1)][\"barcode\"].unique().shape)\n",
    "print(df[(df.is_cell==True) & (df.umis>1)][\"barcode\"].unique().shape)\n",
    "print(df[(df.is_cell==False) & (df.umis>1)][\"barcode\"].unique().shape)"
   ]
  },
  {
   "cell_type": "markdown",
   "metadata": {},
   "source": [
    "## Read length based stats"
   ]
  },
  {
   "cell_type": "code",
   "execution_count": null,
   "metadata": {},
   "outputs": [],
   "source": [
    "fig = plt.figure(figsize=(5,10))\n",
    "plt.subplot(3,2,1)\n",
    "plt.hist(df[(df.is_cell==True) & (df.full_length==True)][\"length\"], alpha=0.5, label=\"Full length\")\n",
    "plt.hist(df[(df.is_cell==True) & (df.full_length==False)][\"length\"], alpha=0.5, label=\"Not full length\")\n",
    "plt.legend()\n",
    "plt.xlim(0,1050)\n",
    "plt.title(\"Is cell\")\n",
    "plt.subplot(3,2,2)\n",
    "plt.hist(df[(df.is_cell==False) & (df.full_length==True)][\"length\"], alpha=0.5, label=\"Full length\")\n",
    "plt.hist(df[(df.is_cell==False) & (df.full_length==False)][\"length\"], alpha=0.5, label=\"Not full length\")\n",
    "plt.legend()\n",
    "plt.xlim(0,1050)\n",
    "plt.title(\"Is not cell\")\n",
    "\n",
    "plt.subplot(3,2,3)\n",
    "plt.hist(df[(df.high_confidence==True) & (df.full_length==True)][\"length\"], alpha=0.5, label=\"Full length\")\n",
    "plt.hist(df[(df.high_confidence==True) & (df.full_length==False)][\"length\"], alpha=0.5, label=\"Not full length\")\n",
    "plt.legend()\n",
    "plt.xlim(0,1050)\n",
    "plt.title(\"High confidence\")\n",
    "plt.subplot(3,2,4)\n",
    "plt.hist(df[(df.high_confidence==False) & (df.full_length==True)][\"length\"], alpha=0.5, label=\"Full length\")\n",
    "plt.hist(df[(df.high_confidence==False) & (df.full_length==False)][\"length\"], alpha=0.5, label=\"Not full length\")\n",
    "plt.legend()\n",
    "plt.xlim(0,1050)\n",
    "plt.title(\"Low confidence\")\n",
    "\n",
    "plt.subplot(3,2,5)\n",
    "plt.hist(df[(df.productive==\"True\") & (df.full_length==True)][\"length\"], alpha=0.5, label=\"Full length\")\n",
    "plt.hist(df[(df.productive==\"True\") & (df.full_length==False)][\"length\"], alpha=0.5, label=\"Not full length\")\n",
    "plt.legend()\n",
    "plt.xlim(0,1050)\n",
    "plt.title(\"Productive\")\n",
    "plt.subplot(3,2,6)\n",
    "plt.hist(df[(df.productive!=\"True\") & (df.full_length==True)][\"length\"], alpha=0.5, label=\"Full length\")\n",
    "plt.hist(df[(df.productive!=\"True\") & (df.full_length==False)][\"length\"], alpha=0.5, label=\"Not full length\")\n",
    "plt.legend()\n",
    "plt.xlim(0,1050)\n",
    "plt.xlabel(\"read length\")\n",
    "plt.title(\"Unproductive\")\n",
    "\n",
    "plt.tight_layout()\n",
    "#plt.savefig(\"../fig/plots/read_length_distributions.png\")"
   ]
  },
  {
   "cell_type": "code",
   "execution_count": null,
   "metadata": {},
   "outputs": [],
   "source": [
    "fig = plt.figure(figsize=(5,10))\n",
    "plt.subplot(3,2,1)\n",
    "plt.hist(df[(df.is_cell==True) & (df.full_length==True)][\"length\"], density=True, alpha=0.5, label=\"Full length\")\n",
    "plt.hist(df[(df.is_cell==True) & (df.full_length==False)][\"length\"], density=True, alpha=0.5, label=\"Not full length\")\n",
    "plt.legend()\n",
    "plt.xlim(0,1050)\n",
    "plt.title(\"Is cell\")\n",
    "plt.subplot(3,2,2)\n",
    "plt.hist(df[(df.is_cell==False) & (df.full_length==True)][\"length\"], density=True, alpha=0.5, label=\"Full length\")\n",
    "plt.hist(df[(df.is_cell==False) & (df.full_length==False)][\"length\"], density=True, alpha=0.5, label=\"Not full length\")\n",
    "plt.legend()\n",
    "plt.xlim(0,1050)\n",
    "plt.title(\"Is not cell\")\n",
    "\n",
    "plt.subplot(3,2,3)\n",
    "plt.hist(df[(df.high_confidence==True) & (df.full_length==True)][\"length\"], density=True, alpha=0.5, label=\"Full length\")\n",
    "plt.hist(df[(df.high_confidence==True) & (df.full_length==False)][\"length\"], density=True, alpha=0.5, label=\"Not full length\")\n",
    "plt.legend()\n",
    "plt.xlim(0,1050)\n",
    "plt.title(\"High confidence\")\n",
    "plt.subplot(3,2,4)\n",
    "plt.hist(df[(df.high_confidence==False) & (df.full_length==True)][\"length\"], density=True, alpha=0.5, label=\"Full length\")\n",
    "plt.hist(df[(df.high_confidence==False) & (df.full_length==False)][\"length\"], density=True, alpha=0.5, label=\"Not full length\")\n",
    "plt.legend()\n",
    "plt.xlim(0,1050)\n",
    "plt.title(\"Low confidence\")\n",
    "\n",
    "plt.subplot(3,2,5)\n",
    "plt.hist(df[(df.productive==\"True\") & (df.full_length==True)][\"length\"], density=True, alpha=0.5, label=\"Full length\")\n",
    "#plt.hist(df[(df.productive==\"True\") & (df.full_length==False)][\"length\"], density=True, alpha=0.5, label=\"Not full length\")\n",
    "plt.legend()\n",
    "plt.xlim(0,1050)\n",
    "plt.title(\"Productive\")\n",
    "plt.subplot(3,2,6)\n",
    "plt.hist(df[(df.productive!=\"True\") & (df.full_length==True)][\"length\"], density=True, alpha=0.5, label=\"Full length\")\n",
    "plt.hist(df[(df.productive!=\"True\") & (df.full_length==False)][\"length\"], density=True, alpha=0.5, label=\"Not full length\")\n",
    "plt.legend()\n",
    "plt.xlim(0,1050)\n",
    "plt.xlabel(\"read length\")\n",
    "plt.title(\"Unproductive\")\n",
    "\n",
    "plt.tight_layout()\n",
    "plt.savefig(\"../fig/plots/read_length_distributions_normalized.png\")"
   ]
  },
  {
   "cell_type": "markdown",
   "metadata": {},
   "source": [
    "# Is cell stats"
   ]
  },
  {
   "cell_type": "code",
   "execution_count": null,
   "metadata": {},
   "outputs": [],
   "source": [
    "prev_barcode = df['barcode'][0]\n",
    "is_cell_annotations = list() #df['is_cell'][0]\n",
    "annotations_stats = dict()\n",
    "\n",
    "for idx, row in df.iterrows():\n",
    "    if row['barcode'] != prev_barcode:\n",
    "        annotations_stats[prev_barcode] = [len(set(is_cell_annotations)), any(is_cell_annotations)]\n",
    "        \n",
    "        is_cell_annotations = list()\n",
    "    \n",
    "    is_cell_annotations.append(row['is_cell'])\n",
    "        \n",
    "    prev_barcode = row['barcode']\n",
    "    \n",
    "annotations_stats[prev_barcode] = [len(set(is_cell_annotations)), any(is_cell_annotations)]"
   ]
  },
  {
   "cell_type": "markdown",
   "metadata": {},
   "source": [
    "## Checking congruence of is_cell annotations within contigs"
   ]
  },
  {
   "cell_type": "code",
   "execution_count": null,
   "metadata": {},
   "outputs": [],
   "source": [
    "is_cell_df = pd.DataFrame.from_dict(annotations_stats, columns=[\"congruens\",\"annotation\"], orient='index')\n",
    "print(is_cell_df.nunique())\n",
    "is_cell_df.tail()"
   ]
  },
  {
   "cell_type": "code",
   "execution_count": null,
   "metadata": {},
   "outputs": [],
   "source": [
    "print(\"Count of GEMs with congruent 'is_cell'-annotation: %d\" %is_cell_df.congruens.sum())\n",
    "print(\"Count of GEMs with True 'is_cell'-annotation: %d\" %is_cell_df.annotation.sum())"
   ]
  },
  {
   "cell_type": "code",
   "execution_count": null,
   "metadata": {},
   "outputs": [],
   "source": [
    "is_cell_df.annotation.sum() # Count number of false/positive"
   ]
  },
  {
   "cell_type": "markdown",
   "metadata": {},
   "source": [
    "### Plotting contigs per GEM for true cells"
   ]
  },
  {
   "cell_type": "code",
   "execution_count": null,
   "metadata": {},
   "outputs": [],
   "source": [
    "%%time\n",
    "\n",
    "cell_positive_barcode_df = df.loc[df['barcode'].isin(is_cell_df[is_cell_df.annotation == True].index)]\n",
    "\n",
    "prev_barcode = cell_positive_barcode_df['barcode'].iloc[0]\n",
    "max_umi_count = list()\n",
    "umis = list()\n",
    "\n",
    "# Plot\n",
    "fig = plt.figure(figsize=(10,5))\n",
    "\n",
    "i = 0\n",
    "for idx, row in cell_positive_barcode_df.iterrows():\n",
    "    if row['barcode'] != prev_barcode:\n",
    "        if any(df[(df.barcode == prev_barcode) & (df.chain == 'TRA')].productive) and any(df[(df.barcode == prev_barcode) & (df.chain == 'TRB')].productive):\n",
    "            plt.scatter(i, max(umis), s=2, color=\"c\")\n",
    "        elif any(df[(df.barcode == prev_barcode) & (df.chain == 'TRA')].productive) or any(df[(df.barcode == prev_barcode) & (df.chain == 'TRB')].productive):\n",
    "            plt.scatter(i, max(umis), s=2, color=\"fuchsia\")\n",
    "        else:\n",
    "            plt.scatter(i, max(umis), s=2, color=\"k\")\n",
    "            print(\"black\")\n",
    "            \n",
    "        max_umi_count.append(max(umis))    \n",
    "        umis = list()\n",
    "        i += 1\n",
    "        \n",
    "    umis.append(row['umis'])\n",
    "    \n",
    "    prev_barcode = row['barcode']\n",
    "    \n",
    "    \n",
    "if any(df[(df.barcode == prev_barcode) & (df.chain == 'TRA')].productive) and any(df[(df.barcode == prev_barcode) & (df.chain == 'TRB')].productive):\n",
    "    plt.scatter(i, max(umis), s=2, color=\"c\")\n",
    "elif any(df[(df.barcode == prev_barcode) & (df.chain == 'TRA')].productive) or any(df[(df.barcode == prev_barcode) & (df.chain == 'TRB')].productive):\n",
    "    plt.scatter(i, max(umis), s=2, color=\"fuchsia\")\n",
    "else:\n",
    "    plt.scatter(i, max(umis), s=2, color=\"k\")\n",
    "    print(\"black\")\n",
    "max_umi_count.append(max(umis))\n",
    "\n",
    "plt.axhline(y=1.5, color='crimson', lw=0.5)\n",
    "plt.xlabel(\"GEMs annotated with cells\")\n",
    "plt.ylabel('Max UMIs')\n",
    "plt.title('Max UMIs per GEM when annotated with cells')\n",
    "plt.tight_layout()\n",
    "#plt.savefig(figs + \"umis_per_GEM_with_cells.png\")\n",
    "\n",
    "from collections import Counter\n",
    "print(Counter(max_umi_count).keys())\n",
    "print(Counter(max_umi_count).values())\n",
    "\n",
    "fig = plt.figure()\n",
    "plt.hist(max_umi_count, bins=list(range(1, max(max_umi_count)+2)))\n",
    "plt.xlabel(\"Maximum UMI count per barcode\")\n",
    "plt.ylabel(\"Counts\")\n",
    "plt.title(\"Distribution of maximum UMI count per barcode\")\n",
    "plt.tight_layout()\n",
    "#plt.savefig(figs + \"max_umi_distribution_with_cells.png\")"
   ]
  },
  {
   "cell_type": "markdown",
   "metadata": {},
   "source": [
    "### Plotting contigs per GEM for false cells"
   ]
  },
  {
   "cell_type": "code",
   "execution_count": null,
   "metadata": {},
   "outputs": [],
   "source": [
    "%%time\n",
    "\n",
    "cell_negative_barcode_df = df.loc[df['barcode'].isin(is_cell_df[is_cell_df.annotation == False].index)]\n",
    "\n",
    "prev_barcode = cell_negative_barcode_df['barcode'].iloc[0]\n",
    "max_umi_count = list()\n",
    "sum_umi_count = list()\n",
    "umis = list()\n",
    "\n",
    "green_gems, pink_gems, orange_gems = 0, 0, 0\n",
    "remaining_gems = 0\n",
    "\n",
    "# Plot\n",
    "fig_max, ax_max = plt.subplots(figsize=(10,5))\n",
    "fig_sum, ax_sum = plt.subplots(figsize=(10,5))\n",
    "\n",
    "i = 0\n",
    "for idx, row in cell_negative_barcode_df.iterrows():\n",
    "    if row['barcode'] != prev_barcode:\n",
    "        if any(df[(df.barcode == prev_barcode) & (df.chain == 'TRA')].productive) and any(df[(df.barcode == prev_barcode) & (df.chain == 'TRB')].productive):\n",
    "            ax_max.scatter(i, max(umis), s=2, color=\"c\")\n",
    "            ax_sum.scatter(i, sum(umis), s=2, color=\"c\")\n",
    "            green_gems += 1\n",
    "        elif any(df[(df.barcode == prev_barcode) & (df.chain == 'TRA')].productive) or any(df[(df.barcode == prev_barcode) & (df.chain == 'TRB')].productive):\n",
    "            ax_max.scatter(i, max(umis), s=2, color=\"fuchsia\")\n",
    "            ax_sum.scatter(i, sum(umis), s=2, color=\"fuchsia\")\n",
    "            pink_gems += 1\n",
    "        elif any(df[(df.barcode == prev_barcode) & (df.chain == 'TRA')].chain) and any(df[(df.barcode == prev_barcode) & (df.chain == 'TRB')].chain):\n",
    "            ax_max.scatter(i, max(umis), s=2, color=\"darkorange\", label=\"Productive TCR alpha or beta\")\n",
    "            ax_sum.scatter(i, sum(umis), s=2, color=\"darkorange\", label=\"Productive TCR alpha or beta\")\n",
    "            orange_gems += 1\n",
    "        else:\n",
    "            ax_max.scatter(i, max(umis), s=2, color=\"k\")\n",
    "            ax_sum.scatter(i, sum(umis), s=2, color=\"k\")\n",
    "            remaining_gems += 1\n",
    "            \n",
    "        max_umi_count.append(max(umis))\n",
    "        sum_umi_count.append(sum(umis))\n",
    "        umis = list()\n",
    "        i += 1\n",
    "        \n",
    "    umis.append(row['umis'])\n",
    "    \n",
    "    prev_barcode = row['barcode']\n",
    "    \n",
    "    \n",
    "if any(df[(df.barcode == prev_barcode) & (df.chain == 'TRA')].productive) and any(df[(df.barcode == prev_barcode) & (df.chain == 'TRB')].productive):\n",
    "    ax_max.scatter(i, max(umis), s=2, color=\"c\")\n",
    "    ax_sum.scatter(i, sum(umis), s=2, color=\"c\")\n",
    "    green_gems += 1\n",
    "elif any(df[(df.barcode == prev_barcode) & (df.chain == 'TRA')].productive) or any(df[(df.barcode == prev_barcode) & (df.chain == 'TRB')].productive):\n",
    "    ax_max.scatter(i, max(umis), s=2, color=\"fuchsia\")\n",
    "    ax_sum.scatter(i, sum(umis), s=2, color=\"fuchsia\")\n",
    "    pink_gems += 1\n",
    "elif any(df[(df.barcode == prev_barcode) & (df.chain == 'TRA')].chain) and any(df[(df.barcode == prev_barcode) & (df.chain == 'TRB')].chain):\n",
    "    ax_max.scatter(i, max(umis), s=2, color=\"darkorange\", label=\"Productive TCR alpha or beta\")\n",
    "    ax_sum.scatter(i, sum(umis), s=2, color=\"darkorange\", label=\"Productive TCR alpha or beta\")\n",
    "    orange_gems += 1\n",
    "else:\n",
    "    ax_max.scatter(i, max(umis), s=2, color=\"k\")\n",
    "    ax_sum.scatter(i, max(umis), s=2, color=\"k\")\n",
    "    remaining_gems += 1\n",
    "    \n",
    "max_umi_count.append(max(umis))\n",
    "sum_umi_count.append(sum(umis))\n",
    "\n",
    "ax_max.axhline(y=1.5, color='crimson', lw=0.5)\n",
    "ax_max.set_xlabel(\"GEMs annotated with cells\")\n",
    "ax_max.set_ylabel('Max UMIs')\n",
    "ax_max.set_title('Maximum UMIs per GEM when annotated with NO cells')\n",
    "fig_max.savefig(figs + \"max_umis_per_GEM_without_cells.png\")\n",
    "\n",
    "ax_sum.axhline(y=1.5, color='crimson', lw=0.5)\n",
    "ax_sum.set_xlabel(\"GEMs annotated with cells\")\n",
    "ax_sum.set_ylabel('Summed UMIs')\n",
    "ax_sum.set_title('Summed UMIs per GEM when annotated with NO cells')\n",
    "fig_sum.savefig(figs + \"summed_umis_per_GEM_without_cells.png\")\n",
    "\n",
    "print(\"green \", str(green_gems))\n",
    "print(\"pink \", str(pink_gems))\n",
    "print(\"orange \", str(orange_gems))\n",
    "print(\"remaining \", str(remaining_gems))\n",
    "\n",
    "from collections import Counter\n",
    "print(Counter(max_umi_count).keys())\n",
    "print(Counter(max_umi_count).values())\n",
    "\n",
    "fig = plt.figure()\n",
    "plt.hist(max_umi_count, bins=list(range(1, max(max_umi_count)+2)))\n",
    "plt.xlabel(\"Maximum UMI count per barcode\")\n",
    "plt.ylabel(\"Counts\")\n",
    "plt.title(\"Distribution of maximum UMI count per barcode\")\n",
    "plt.tight_layout()\n",
    "plt.savefig(figs + \"max_umi_distribution_without_cells.png\")\n",
    "\n",
    "print(Counter(sum_umi_count).keys())\n",
    "print(Counter(sum_umi_count).values())\n",
    "\n",
    "fig = plt.figure()\n",
    "plt.hist(sum_umi_count, bins=list(range(1, max(sum_umi_count)+2)))\n",
    "plt.xlabel(\"Summed UMI count per barcode\")\n",
    "plt.ylabel(\"Counts\")\n",
    "plt.title(\"Distribution of summed UMI count per barcode when NO cells\")\n",
    "plt.tight_layout()\n",
    "plt.savefig(figs + \"sum_umi_distribution_without_cells.png\")"
   ]
  },
  {
   "cell_type": "markdown",
   "metadata": {},
   "source": [
    "# Rescue strategies"
   ]
  },
  {
   "cell_type": "markdown",
   "metadata": {},
   "source": [
    "## How many correctly TCR annotated GEMs\n",
    "Correct annotation:\n",
    "At least one productive TCR alpha and beta, respectively"
   ]
  },
  {
   "cell_type": "code",
   "execution_count": 8,
   "metadata": {},
   "outputs": [
    {
     "name": "stdout",
     "output_type": "stream",
     "text": [
      "{}\n",
      "[]\n"
     ]
    }
   ],
   "source": [
    "TCR_stats = dict()\n",
    "ready_for_use = dict()\n",
    "print(ready_for_use)\n",
    "\n",
    "unproductive = dict()\n",
    "unproductive_cropped = dict()\n",
    "\n",
    "nonproductive = dict()\n",
    "nonproductive_cropped = dict()\n",
    "\n",
    "s_unproductive = dict()\n",
    "s_unproductive_cropped = dict()\n",
    "\n",
    "s_nonproductive = dict()\n",
    "s_nonproductive_cropped = dict()\n",
    "\n",
    "sc = dict()\n",
    "sc_unproductive = dict()\n",
    "sc_unproductive_cropped = dict()\n",
    "\n",
    "sc_nonproductive = dict()\n",
    "sc_nonproductive_cropped = dict()\n",
    "\n",
    "\n",
    "remaining_gems = list()\n",
    "print(remaining_gems)\n",
    "\n",
    "for bc in df.barcode.unique():\n",
    "    if sum(df[(df.barcode == bc) & (df.productive == \"True\") & (df.full_length == True)].chain == \"TRA\") > 0 and sum(df[(df.barcode == bc) & (df.productive == \"True\") & (df.full_length == True)].chain == \"TRB\") > 0:\n",
    "        ready_for_use[bc] = [sum(df[(df.barcode == bc) & (df.productive == \"True\") & (df.full_length == True)].chain == \"TRA\"), sum(df[(df.barcode == bc) & (df.productive == \"True\") & (df.full_length == True)].chain == \"TRB\")]\n",
    "\n",
    "    elif sum(df[(df.barcode == bc) & (df.productive == \"True\") & (df.full_length == True)].chain == \"TRA\") > 0 and sum(df[(df.barcode == bc) & (df.productive == \"False\") & (df.full_length == True)].chain == \"TRB\") > 0:\n",
    "        s_unproductive[bc] = [sum(df[(df.barcode == bc) & (df.productive == \"True\") & (df.full_length == True)].chain == \"TRA\"), sum(df[(df.barcode == bc) & (df.productive == \"False\") & (df.full_length == True)].chain == \"TRB\")]\n",
    "    elif sum(df[(df.barcode == bc) & (df.productive == \"False\") & (df.full_length == True)].chain == \"TRA\") > 0 and sum(df[(df.barcode == bc) & (df.productive == \"True\") & (df.full_length == True)].chain == \"TRB\") > 0:\n",
    "        s_unproductive[bc] = [sum(df[(df.barcode == bc) & (df.productive == \"False\") & (df.full_length == True)].chain == \"TRA\"), sum(df[(df.barcode == bc) & (df.productive == \"True\") & (df.full_length == True)].chain == \"TRB\")]\n",
    "\n",
    "    elif sum(df[(df.barcode == bc) & (df.productive == \"True\") & (df.full_length == True)].chain == \"TRA\") > 0 and sum(df[(df.barcode == bc) & (df.productive == \"None\") & (df.full_length == True)].chain == \"TRB\") > 0:\n",
    "        s_nonproductive[bc] = [sum(df[(df.barcode == bc) & (df.productive == \"True\") & (df.full_length == True)].chain == \"TRA\"), sum(df[(df.barcode == bc) & (df.productive == \"None\") & (df.full_length == True)].chain == \"TRB\")]\n",
    "    elif sum(df[(df.barcode == bc) & (df.productive == \"None\") & (df.full_length == True)].chain == \"TRA\") > 0 and sum(df[(df.barcode == bc) & (df.productive == \"True\") & (df.full_length == True)].chain == \"TRB\") > 0:\n",
    "        s_nonproductive[bc] = [sum(df[(df.barcode == bc) & (df.productive == \"None\") & (df.full_length == True)].chain == \"TRA\"), sum(df[(df.barcode == bc) & (df.productive == \"True\") & (df.full_length == True)].chain == \"TRB\")]\n",
    "\n",
    "    elif sum(df[(df.barcode == bc) & (df.productive == \"True\") & (df.full_length == True)].chain == \"TRA\") > 0 and sum(df[(df.barcode == bc) & (df.productive == \"False\") & (df.full_length == False)].chain == \"TRB\") > 0:\n",
    "        s_unproductive_cropped[bc] = [sum(df[(df.barcode == bc) & (df.productive == \"True\") & (df.full_length == True)].chain == \"TRA\"), sum(df[(df.barcode == bc) & (df.productive == \"False\") & (df.full_length == False)].chain == \"TRB\")]\n",
    "    elif sum(df[(df.barcode == bc) & (df.productive == \"False\") & (df.full_length == False)].chain == \"TRA\") > 0 and sum(df[(df.barcode == bc) & (df.productive == \"True\") & (df.full_length == True)].chain == \"TRB\") > 0:\n",
    "        s_unproductive_cropped[bc] = [sum(df[(df.barcode == bc) & (df.productive == \"False\") & (df.full_length == False)].chain == \"TRA\"), sum(df[(df.barcode == bc) & (df.productive == \"True\") & (df.full_length == True)].chain == \"TRB\")]\n",
    "\n",
    "    elif sum(df[(df.barcode == bc) & (df.productive == \"True\") & (df.full_length == True)].chain == \"TRA\") > 0 and sum(df[(df.barcode == bc) & (df.productive == \"None\") & (df.full_length == False)].chain == \"TRB\") > 0:\n",
    "        s_nonproductive_cropped[bc] = [sum(df[(df.barcode == bc) & (df.productive == \"True\") & (df.full_length == True)].chain == \"TRA\"), sum(df[(df.barcode == bc) & (df.productive == \"None\") & (df.full_length == False)].chain == \"TRB\")]\n",
    "    elif sum(df[(df.barcode == bc) & (df.productive == \"None\") & (df.full_length == False)].chain == \"TRA\") > 0 and sum(df[(df.barcode == bc) & (df.productive == \"True\") & (df.full_length == True)].chain == \"TRB\") > 0:\n",
    "        s_nonproductive_cropped[bc] = [sum(df[(df.barcode == bc) & (df.productive == \"None\") & (df.full_length == False)].chain == \"TRA\"), sum(df[(df.barcode == bc) & (df.productive == \"True\") & (df.full_length == True)].chain == \"TRB\")]\n",
    "\n",
    "    elif sum(df[(df.barcode == bc) & (df.productive == \"False\") & (df.full_length == True)].chain == \"TRA\") > 0 and sum(df[(df.barcode == bc) & (df.productive == \"False\") & (df.full_length == True)].chain == \"TRB\") > 0:\n",
    "        unproductive[bc] = [sum(df[(df.barcode == bc) & (df.productive == \"False\") & (df.full_length == True)].chain == \"TRA\"), sum(df[(df.barcode == bc) & (df.productive == \"False\") & (df.full_length == True)].chain == \"TRB\")]\n",
    "    elif sum(df[(df.barcode == bc) & (df.productive == \"False\") & (df.full_length == False)].chain == \"TRA\") > 0 and sum(df[(df.barcode == bc) & (df.productive == \"False\") & (df.full_length == False)].chain == \"TRB\") > 0:\n",
    "        unproductive_cropped[bc] = [sum(df[(df.barcode == bc) & (df.productive == \"False\") & (df.full_length == False)].chain == \"TRA\"), sum(df[(df.barcode == bc) & (df.productive == \"False\") & (df.full_length == False)].chain == \"TRB\")]\n",
    "\n",
    "    elif sum(df[(df.barcode == bc) & (df.productive == \"None\") & (df.full_length == True)].chain == \"TRA\") > 0 and sum(df[(df.barcode == bc) & (df.productive == \"None\") & (df.full_length == True)].chain == \"TRB\") > 0:\n",
    "        nonproductive[bc] = [sum(df[(df.barcode == bc) & (df.productive == \"None\") & (df.full_length == True)].chain == \"TRA\"), sum(df[(df.barcode == bc) & (df.productive == \"None\") & (df.full_length == True)].chain == \"TRB\")]\n",
    "    elif sum(df[(df.barcode == bc) & (df.productive == \"None\") & (df.full_length == False)].chain == \"TRA\") > 0 and sum(df[(df.barcode == bc) & (df.productive == \"None\") & (df.full_length == False)].chain == \"TRB\") > 0:\n",
    "        nonproductive_cropped[bc] = [sum(df[(df.barcode == bc) & (df.productive == \"None\") & (df.full_length == False)].chain == \"TRA\"), sum(df[(df.barcode == bc) & (df.productive == \"None\") & (df.full_length == False)].chain == \"TRB\")]\n",
    "\n",
    "\n",
    "    elif sum(df[(df.barcode == bc) & (df.productive == \"True\") & (df.full_length == True)].chain == \"TRA\") > 0 and sum(df[(df.barcode == bc)].chain == \"TRB\") == 0:\n",
    "        sc[bc] = [sum(df[(df.barcode == bc) & (df.productive == \"True\") & (df.full_length == True)].chain == \"TRA\"), sum(df[(df.barcode == bc)].chain == \"TRB\")]\n",
    "    elif sum(df[(df.barcode == bc)].chain == \"TRA\") == 0 and sum(df[(df.barcode == bc) & (df.productive == \"True\") & (df.full_length == True)].chain == \"TRB\") > 0:\n",
    "        sc[bc] = [sum(df[(df.barcode == bc)].chain == \"TRA\"), sum(df[(df.barcode == bc) & (df.productive == \"True\") & (df.full_length == True)].chain == \"TRB\")]\n",
    "\n",
    "    elif sum(df[(df.barcode == bc) & (df.productive == \"False\") & (df.full_length == True)].chain == \"TRA\") > 0 and sum(df[(df.barcode == bc)].chain == \"TRB\") == 0:\n",
    "        sc_unproductive[bc] = [sum(df[(df.barcode == bc) & (df.productive == \"False\") & (df.full_length == True)].chain == \"TRA\"), sum(df[(df.barcode == bc)].chain == \"TRB\")]\n",
    "    elif sum(df[(df.barcode == bc)].chain == \"TRA\") == 0 and sum(df[(df.barcode == bc) & (df.productive == \"False\") & (df.full_length == True)].chain == \"TRB\") > 0:\n",
    "        sc_unproductive[bc] = [sum(df[(df.barcode == bc)].chain == \"TRA\"), sum(df[(df.barcode == bc) & (df.productive == \"False\") & (df.full_length == True)].chain == \"TRB\")]\n",
    "\n",
    "    elif sum(df[(df.barcode == bc) & (df.productive == \"False\") & (df.full_length == False)].chain == \"TRA\") > 0 and sum(df[(df.barcode == bc)].chain == \"TRB\") == 0:\n",
    "        sc_unproductive_cropped[bc] = [sum(df[(df.barcode == bc) & (df.productive == \"False\") & (df.full_length == False)].chain == \"TRA\"), sum(df[(df.barcode == bc)].chain == \"TRB\")]\n",
    "    elif sum(df[(df.barcode == bc)].chain == \"TRA\") == 0 and sum(df[(df.barcode == bc) & (df.productive == \"False\") & (df.full_length == False)].chain == \"TRB\") > 0:\n",
    "        sc_unproductive_cropped[bc] = [sum(df[(df.barcode == bc)].chain == \"TRA\"), sum(df[(df.barcode == bc) & (df.productive == \"False\") & (df.full_length == False)].chain == \"TRB\")]\n",
    "   \n",
    "    elif sum(df[(df.barcode == bc) & (df.productive == \"None\") & (df.full_length == True)].chain == \"TRA\") > 0 and sum(df[(df.barcode == bc)].chain == \"TRB\") == 0:\n",
    "        sc_nonproductive[bc] = [sum(df[(df.barcode == bc) & (df.productive == \"None\") & (df.full_length == True)].chain == \"TRA\"), sum(df[(df.barcode == bc)].chain == \"TRB\")]\n",
    "    elif sum(df[(df.barcode == bc)].chain == \"TRA\") == 0 and sum(df[(df.barcode == bc) & (df.productive == \"None\") & (df.full_length == True)].chain == \"TRB\") > 0:\n",
    "        sc_nonproductive[bc] = [sum(df[(df.barcode == bc)].chain == \"TRA\"), sum(df[(df.barcode == bc) & (df.productive == \"None\") & (df.full_length == True)].chain == \"TRB\")]\n",
    "\n",
    "    elif sum(df[(df.barcode == bc) & (df.productive == \"None\") & (df.full_length == False)].chain == \"TRA\") > 0 and sum(df[(df.barcode == bc)].chain == \"TRB\") == 0:\n",
    "        sc_nonproductive_cropped[bc] = [sum(df[(df.barcode == bc) & (df.productive == \"None\") & (df.full_length == False)].chain == \"TRA\"), sum(df[(df.barcode == bc)].chain == \"TRB\")]\n",
    "    elif sum(df[(df.barcode == bc)].chain == \"TRA\") == 0 and sum(df[(df.barcode == bc) & (df.productive == \"None\") & (df.full_length == False)].chain == \"TRB\") > 0:\n",
    "        sc_nonproductive_cropped[bc] = [sum(df[(df.barcode == bc)].chain == \"TRA\"), sum(df[(df.barcode == bc) & (df.productive == \"None\") & (df.full_length == False)].chain == \"TRB\")]\n",
    "\n",
    "\n",
    "    else:\n",
    "        remaining_gems.append(bc)\n",
    "    #print(remaining_gems)\n",
    "\n",
    "    #productive_TCA = sum(df[(df.barcode == bc) & (df.chain == 'TRA')].productive == \"True\")\n",
    "    #productive_TCB = sum(df[(df.barcode == bc) & (df.chain == 'TRB')].productive == \"True\")\n",
    "    #annotated_TCA = sum(df[(df.barcode == bc) & (df.chain == 'TRA')].full_length == True)\n",
    "    #annotated_TCB = sum(df[(df.barcode == bc) & (df.chain == 'TRB')].full_length == True)\n",
    "    #\n",
    "    #TCR_stats[bc] = 0\n",
    "        \n",
    "\n",
    "#df[(df.barcode == bc) & (df.chain == 'TRA')].productive) and any(df[(df.barcode == bc) & (df.chain == 'TRB')].productive)\n",
    "\n"
   ]
  },
  {
   "cell_type": "code",
   "execution_count": 9,
   "metadata": {},
   "outputs": [
    {
     "data": {
      "text/plain": [
       "1860"
      ]
     },
     "execution_count": 9,
     "metadata": {},
     "output_type": "execute_result"
    }
   ],
   "source": [
    "len(sc)"
   ]
  },
  {
   "cell_type": "code",
   "execution_count": 10,
   "metadata": {},
   "outputs": [
    {
     "ename": "NameError",
     "evalue": "name 'pmhc_barcodes' is not defined",
     "output_type": "error",
     "traceback": [
      "\u001b[0;31m---------------------------------------------------------------------------\u001b[0m",
      "\u001b[0;31mNameError\u001b[0m                                 Traceback (most recent call last)",
      "\u001b[0;32m<ipython-input-10-837a5c17512f>\u001b[0m in \u001b[0;36m<module>\u001b[0;34m\u001b[0m\n\u001b[1;32m      1\u001b[0m \u001b[0;31m#print(\"# Barcodes: \", len(df.barcode.unique()), len(np.intersect1d(np.sort(df.barcode.unique()), pmhc_barcodes, assume_unique=True)))\u001b[0m\u001b[0;34m\u001b[0m\u001b[0;34m\u001b[0m\u001b[0;34m\u001b[0m\u001b[0m\n\u001b[0;32m----> 2\u001b[0;31m \u001b[0mprint\u001b[0m\u001b[0;34m(\u001b[0m\u001b[0;34m\"# Ready f.u. \"\u001b[0m\u001b[0;34m,\u001b[0m \u001b[0mlen\u001b[0m\u001b[0;34m(\u001b[0m\u001b[0mready_for_use\u001b[0m\u001b[0;34m)\u001b[0m\u001b[0;34m,\u001b[0m \u001b[0mlen\u001b[0m\u001b[0;34m(\u001b[0m\u001b[0mnp\u001b[0m\u001b[0;34m.\u001b[0m\u001b[0mintersect1d\u001b[0m\u001b[0;34m(\u001b[0m\u001b[0mnp\u001b[0m\u001b[0;34m.\u001b[0m\u001b[0msort\u001b[0m\u001b[0;34m(\u001b[0m\u001b[0mnp\u001b[0m\u001b[0;34m.\u001b[0m\u001b[0marray\u001b[0m\u001b[0;34m(\u001b[0m\u001b[0mlist\u001b[0m\u001b[0;34m(\u001b[0m\u001b[0mready_for_use\u001b[0m\u001b[0;34m)\u001b[0m\u001b[0;34m)\u001b[0m\u001b[0;34m)\u001b[0m\u001b[0;34m,\u001b[0m \u001b[0mpmhc_barcodes\u001b[0m\u001b[0;34m,\u001b[0m \u001b[0massume_unique\u001b[0m\u001b[0;34m=\u001b[0m\u001b[0;32mTrue\u001b[0m\u001b[0;34m)\u001b[0m\u001b[0;34m)\u001b[0m\u001b[0;34m)\u001b[0m\u001b[0;34m\u001b[0m\u001b[0;34m\u001b[0m\u001b[0m\n\u001b[0m\u001b[1;32m      3\u001b[0m \u001b[0mprint\u001b[0m\u001b[0;34m(\u001b[0m\u001b[0;34m\"# s. unprod. \"\u001b[0m\u001b[0;34m,\u001b[0m \u001b[0mlen\u001b[0m\u001b[0;34m(\u001b[0m\u001b[0ms_unproductive\u001b[0m\u001b[0;34m)\u001b[0m\u001b[0;34m,\u001b[0m \u001b[0mlen\u001b[0m\u001b[0;34m(\u001b[0m\u001b[0mnp\u001b[0m\u001b[0;34m.\u001b[0m\u001b[0mintersect1d\u001b[0m\u001b[0;34m(\u001b[0m\u001b[0mnp\u001b[0m\u001b[0;34m.\u001b[0m\u001b[0msort\u001b[0m\u001b[0;34m(\u001b[0m\u001b[0mnp\u001b[0m\u001b[0;34m.\u001b[0m\u001b[0marray\u001b[0m\u001b[0;34m(\u001b[0m\u001b[0mlist\u001b[0m\u001b[0;34m(\u001b[0m\u001b[0ms_unproductive\u001b[0m\u001b[0;34m)\u001b[0m\u001b[0;34m)\u001b[0m\u001b[0;34m)\u001b[0m\u001b[0;34m,\u001b[0m \u001b[0mpmhc_barcodes\u001b[0m\u001b[0;34m,\u001b[0m \u001b[0massume_unique\u001b[0m\u001b[0;34m=\u001b[0m\u001b[0;32mTrue\u001b[0m\u001b[0;34m)\u001b[0m\u001b[0;34m)\u001b[0m\u001b[0;34m)\u001b[0m\u001b[0;34m\u001b[0m\u001b[0;34m\u001b[0m\u001b[0m\n\u001b[1;32m      4\u001b[0m \u001b[0mprint\u001b[0m\u001b[0;34m(\u001b[0m\u001b[0;34m\"# s. unpr.cr \"\u001b[0m\u001b[0;34m,\u001b[0m \u001b[0mlen\u001b[0m\u001b[0;34m(\u001b[0m\u001b[0ms_unproductive_cropped\u001b[0m\u001b[0;34m)\u001b[0m\u001b[0;34m,\u001b[0m \u001b[0mlen\u001b[0m\u001b[0;34m(\u001b[0m\u001b[0mnp\u001b[0m\u001b[0;34m.\u001b[0m\u001b[0mintersect1d\u001b[0m\u001b[0;34m(\u001b[0m\u001b[0mnp\u001b[0m\u001b[0;34m.\u001b[0m\u001b[0msort\u001b[0m\u001b[0;34m(\u001b[0m\u001b[0mnp\u001b[0m\u001b[0;34m.\u001b[0m\u001b[0marray\u001b[0m\u001b[0;34m(\u001b[0m\u001b[0mlist\u001b[0m\u001b[0;34m(\u001b[0m\u001b[0ms_unproductive_cropped\u001b[0m\u001b[0;34m)\u001b[0m\u001b[0;34m)\u001b[0m\u001b[0;34m)\u001b[0m\u001b[0;34m,\u001b[0m \u001b[0mpmhc_barcodes\u001b[0m\u001b[0;34m,\u001b[0m \u001b[0massume_unique\u001b[0m\u001b[0;34m=\u001b[0m\u001b[0;32mTrue\u001b[0m\u001b[0;34m)\u001b[0m\u001b[0;34m)\u001b[0m\u001b[0;34m)\u001b[0m\u001b[0;34m\u001b[0m\u001b[0;34m\u001b[0m\u001b[0m\n\u001b[1;32m      5\u001b[0m \u001b[0mprint\u001b[0m\u001b[0;34m(\u001b[0m\u001b[0;34m\"# s. nonprod \"\u001b[0m\u001b[0;34m,\u001b[0m \u001b[0mlen\u001b[0m\u001b[0;34m(\u001b[0m\u001b[0ms_nonproductive\u001b[0m\u001b[0;34m)\u001b[0m\u001b[0;34m,\u001b[0m \u001b[0mlen\u001b[0m\u001b[0;34m(\u001b[0m\u001b[0mnp\u001b[0m\u001b[0;34m.\u001b[0m\u001b[0mintersect1d\u001b[0m\u001b[0;34m(\u001b[0m\u001b[0mnp\u001b[0m\u001b[0;34m.\u001b[0m\u001b[0msort\u001b[0m\u001b[0;34m(\u001b[0m\u001b[0mnp\u001b[0m\u001b[0;34m.\u001b[0m\u001b[0marray\u001b[0m\u001b[0;34m(\u001b[0m\u001b[0mlist\u001b[0m\u001b[0;34m(\u001b[0m\u001b[0ms_nonproductive\u001b[0m\u001b[0;34m)\u001b[0m\u001b[0;34m)\u001b[0m\u001b[0;34m)\u001b[0m\u001b[0;34m,\u001b[0m \u001b[0mpmhc_barcodes\u001b[0m\u001b[0;34m,\u001b[0m \u001b[0massume_unique\u001b[0m\u001b[0;34m=\u001b[0m\u001b[0;32mTrue\u001b[0m\u001b[0;34m)\u001b[0m\u001b[0;34m)\u001b[0m\u001b[0;34m)\u001b[0m\u001b[0;34m\u001b[0m\u001b[0;34m\u001b[0m\u001b[0m\n",
      "\u001b[0;31mNameError\u001b[0m: name 'pmhc_barcodes' is not defined"
     ]
    }
   ],
   "source": [
    "#print(\"# Barcodes: \", len(df.barcode.unique()), len(np.intersect1d(np.sort(df.barcode.unique()), pmhc_barcodes, assume_unique=True)))\n",
    "print(\"# Ready f.u. \", len(ready_for_use), len(np.intersect1d(np.sort(np.array(list(ready_for_use))), pmhc_barcodes, assume_unique=True)))\n",
    "print(\"# s. unprod. \", len(s_unproductive), len(np.intersect1d(np.sort(np.array(list(s_unproductive))), pmhc_barcodes, assume_unique=True)))\n",
    "print(\"# s. unpr.cr \", len(s_unproductive_cropped), len(np.intersect1d(np.sort(np.array(list(s_unproductive_cropped))), pmhc_barcodes, assume_unique=True)))\n",
    "print(\"# s. nonprod \", len(s_nonproductive), len(np.intersect1d(np.sort(np.array(list(s_nonproductive))), pmhc_barcodes, assume_unique=True)))\n",
    "print(\"# s. nonprod.cr \", len(s_nonproductive_cropped), len(np.intersect1d(np.sort(np.array(list(s_nonproductive_cropped))), pmhc_barcodes, assume_unique=True)))\n",
    "print(\"# unproductive \", len(unproductive), len(np.intersect1d(np.sort(np.array(list(unproductive))), pmhc_barcodes, assume_unique=True)))\n",
    "print(\"# unprod. crop \", len(unproductive_cropped), len(np.intersect1d(np.sort(np.array(list(unproductive_cropped))), pmhc_barcodes, assume_unique=True)))\n",
    "print(\"# nonproductive \", len(nonproductive), len(np.intersect1d(np.sort(np.array(list(nonproductive))), pmhc_barcodes, assume_unique=True)))\n",
    "print(\"# nonprod. crop \", len(nonproductive_cropped), len(np.intersect1d(np.sort(np.array(list(nonproductive_cropped))), pmhc_barcodes, assume_unique=True)))\n",
    "print(\"# single chain \", len(sc), len(np.intersect1d(np.sort(np.array(list(sc))), pmhc_barcodes, assume_unique=True)))\n",
    "print(\"# sc unprod \", len(sc_unproductive), len(np.intersect1d(np.sort(np.array(list(sc_unproductive))), pmhc_barcodes, assume_unique=True)))\n",
    "print(\"# sc.unprod.crop \", len(sc_unproductive_cropped), len(np.intersect1d(np.sort(np.array(list(sc_unproductive_cropped))), pmhc_barcodes, assume_unique=True)))\n",
    "print(\"# sc.nonproduct \", len(sc_nonproductive), len(np.intersect1d(np.sort(np.array(list(sc_nonproductive))), pmhc_barcodes, assume_unique=True)))\n",
    "print(\"# sc.nonprod.crop \", len(sc_nonproductive_cropped), len(np.intersect1d(np.sort(np.array(list(sc_nonproductive_cropped))), pmhc_barcodes, assume_unique=True)))\n",
    "print(\"# remaining \", len(remaining_gems), len(np.intersect1d(np.sort(np.array(list(remaining_gems))), pmhc_barcodes, assume_unique=True)))"
   ]
  },
  {
   "cell_type": "code",
   "execution_count": 11,
   "metadata": {},
   "outputs": [
    {
     "data": {
      "text/plain": [
       "(4052,)"
      ]
     },
     "execution_count": 11,
     "metadata": {},
     "output_type": "execute_result"
    }
   ],
   "source": [
    "np.array(list(ready_for_use.keys())).shape"
   ]
  },
  {
   "cell_type": "code",
   "execution_count": 13,
   "metadata": {},
   "outputs": [
    {
     "data": {
      "text/plain": [
       "'/Volumes/tuba/herpov/tcr-pmhc-sc-project/data/exp5_TCR/processed/gem_filtration_lists/'"
      ]
     },
     "execution_count": 13,
     "metadata": {},
     "output_type": "execute_result"
    }
   ],
   "source": [
    "file_dir"
   ]
  },
  {
   "cell_type": "code",
   "execution_count": 12,
   "metadata": {},
   "outputs": [
    {
     "ename": "NotADirectoryError",
     "evalue": "[Errno 20] Not a directory: '/Volumes/tuba/herpov/tcr-pmhc-sc-project/data/exp5_TCR/processed/gem_filtration_lists/ready_for_use.lst'",
     "output_type": "error",
     "traceback": [
      "\u001b[0;31m---------------------------------------------------------------------------\u001b[0m",
      "\u001b[0;31mNotADirectoryError\u001b[0m                        Traceback (most recent call last)",
      "\u001b[0;32m<ipython-input-12-699966b3d878>\u001b[0m in \u001b[0;36m<module>\u001b[0;34m\u001b[0m\n\u001b[0;32m----> 1\u001b[0;31m \u001b[0;32mwith\u001b[0m \u001b[0mopen\u001b[0m\u001b[0;34m(\u001b[0m\u001b[0mfile_dir\u001b[0m \u001b[0;34m+\u001b[0m \u001b[0;34m\"ready_for_use.lst\"\u001b[0m\u001b[0;34m,\u001b[0m \u001b[0;34m'w'\u001b[0m\u001b[0;34m)\u001b[0m \u001b[0;32mas\u001b[0m \u001b[0mf\u001b[0m\u001b[0;34m:\u001b[0m\u001b[0;34m\u001b[0m\u001b[0;34m\u001b[0m\u001b[0m\n\u001b[0m\u001b[1;32m      2\u001b[0m     \u001b[0;32mfor\u001b[0m \u001b[0mitem\u001b[0m \u001b[0;32min\u001b[0m \u001b[0mready_for_use\u001b[0m\u001b[0;34m:\u001b[0m\u001b[0;34m\u001b[0m\u001b[0;34m\u001b[0m\u001b[0m\n\u001b[1;32m      3\u001b[0m         \u001b[0mf\u001b[0m\u001b[0;34m.\u001b[0m\u001b[0mwrite\u001b[0m\u001b[0;34m(\u001b[0m\u001b[0;34m\"%s\\n\"\u001b[0m \u001b[0;34m%\u001b[0m \u001b[0mitem\u001b[0m\u001b[0;34m)\u001b[0m\u001b[0;34m\u001b[0m\u001b[0;34m\u001b[0m\u001b[0m\n\u001b[1;32m      4\u001b[0m \u001b[0;31m#with open(file_dir + \"s_unproductive.lst\", 'w') as f:\u001b[0m\u001b[0;34m\u001b[0m\u001b[0;34m\u001b[0m\u001b[0;34m\u001b[0m\u001b[0m\n\u001b[1;32m      5\u001b[0m \u001b[0;31m#    for item in s_unproductive:\u001b[0m\u001b[0;34m\u001b[0m\u001b[0;34m\u001b[0m\u001b[0;34m\u001b[0m\u001b[0m\n",
      "\u001b[0;31mNotADirectoryError\u001b[0m: [Errno 20] Not a directory: '/Volumes/tuba/herpov/tcr-pmhc-sc-project/data/exp5_TCR/processed/gem_filtration_lists/ready_for_use.lst'"
     ]
    }
   ],
   "source": [
    "with open(file_dir + \"ready_for_use.lst\", 'w') as f:\n",
    "    for item in ready_for_use:\n",
    "        f.write(\"%s\\n\" % item)\n",
    "#with open(file_dir + \"s_unproductive.lst\", 'w') as f:\n",
    "#    for item in s_unproductive:\n",
    "#        f.write(\"%s\\n\" % item)\n",
    "#with open(file_dir + \"s_unproductive_cropped.lst\", 'w') as f:\n",
    "#    for item in s_unproductive_cropped:\n",
    "#        f.write(\"%s\\n\" % item)\n",
    "#with open(file_dir + \"s_nonproductive.lst\", 'w') as f:\n",
    "#    for item in s_nonproductive:\n",
    "#        f.write(\"%s\\n\" % item)\n",
    "#with open(file_dir + \"s_nonproductive_cropped.lst\", 'w') as f:\n",
    "#    for item in s_nonproductive_cropped:\n",
    "#        f.write(\"%s\\n\" % item)\n",
    "#with open(file_dir + \"unproductive.lst\", 'w') as f:\n",
    "#    for item in unproductive:\n",
    "#        f.write(\"%s\\n\" % item)\n",
    "#with open(file_dir + \"unproductive_cropped.lst\", 'w') as f:\n",
    "#    for item in unproductive_cropped:\n",
    "#        f.write(\"%s\\n\" % item)\n",
    "#with open(file_dir + \"nonproductive.lst\", 'w') as f:\n",
    "#    for item in nonproductive:\n",
    "#        f.write(\"%s\\n\" % item)\n",
    "#with open(file_dir + \"nonproductive_cropped.lst\", 'w') as f:\n",
    "#    for item in nonproductive_cropped:\n",
    "#        f.write(\"%s\\n\" % item)\n",
    "#with open(file_dir + \"sc.lst\", 'w') as f:\n",
    "#    for item in sc:\n",
    "#        f.write(\"%s\\n\" % item)\n",
    "#with open(file_dir + \"sc_unproductive.lst\", 'w') as f:\n",
    "#    for item in sc_unproductive:\n",
    "#        f.write(\"%s\\n\" % item)\n",
    "#with open(file_dir + \"sc_unproductive_cropped.lst\", 'w') as f:\n",
    "#    for item in sc_unproductive_cropped:\n",
    "#        f.write(\"%s\\n\" % item)\n",
    "#with open(file_dir + \"sc_nonproductive.lst\", 'w') as f:\n",
    "#    for item in sc_nonproductive:\n",
    "#        f.write(\"%s\\n\" % item)\n",
    "#with open(file_dir + \"sc_nonproductive_cropped.lst\", 'w') as f:\n",
    "#    for item in sc_nonproductive_cropped:\n",
    "#        f.write(\"%s\\n\" % item)\n",
    "#with open(file_dir + \"remaining_gems.lst\", 'w') as f:\n",
    "#    for item in remaining_gems:\n",
    "#        f.write(\"%s\\n\" % item)"
   ]
  },
  {
   "cell_type": "code",
   "execution_count": null,
   "metadata": {
    "scrolled": false
   },
   "outputs": [],
   "source": [
    "df[df.barcode.isin(sc) & (df.is_cell == False)].barcode.unique().shape"
   ]
  },
  {
   "cell_type": "code",
   "execution_count": null,
   "metadata": {},
   "outputs": [],
   "source": [
    "ready_df = pd.DataFrame.from_dict(ready_for_use, columns=[\"alpha\",\"beta\"], orient='index')\n",
    "print(ready_df.nunique())\n",
    "ready_df.hist(bins=list(range(1, 7)))"
   ]
  },
  {
   "cell_type": "code",
   "execution_count": null,
   "metadata": {},
   "outputs": [],
   "source": [
    "\"AAACGGGAGACTTTCG-1\" in s_unproductive"
   ]
  },
  {
   "cell_type": "code",
   "execution_count": null,
   "metadata": {
    "scrolled": true
   },
   "outputs": [],
   "source": [
    "df[(df.full_length == False)].head(20)"
   ]
  },
  {
   "cell_type": "code",
   "execution_count": null,
   "metadata": {},
   "outputs": [],
   "source": [
    "prev_barcode = df.iloc[0].barcode\n",
    "df[(df.productive == \"None\") & (df.full_length == False) & (df.raw_clonotype_id == \"None\")]"
   ]
  },
  {
   "cell_type": "code",
   "execution_count": null,
   "metadata": {},
   "outputs": [],
   "source": [
    "df[df.barcode == \"AACACGTAGCAGCCTC-1\"]"
   ]
  },
  {
   "cell_type": "code",
   "execution_count": null,
   "metadata": {},
   "outputs": [],
   "source": []
  }
 ],
 "metadata": {
  "kernelspec": {
   "display_name": "Python 3",
   "language": "python",
   "name": "python3"
  },
  "language_info": {
   "codemirror_mode": {
    "name": "ipython",
    "version": 3
   },
   "file_extension": ".py",
   "mimetype": "text/x-python",
   "name": "python",
   "nbconvert_exporter": "python",
   "pygments_lexer": "ipython3",
   "version": "3.7.4"
  }
 },
 "nbformat": 4,
 "nbformat_minor": 2
}
