{
 "cells": [
  {
   "cell_type": "code",
   "execution_count": 1,
   "metadata": {},
   "outputs": [],
   "source": [
    "import numpy as np\n",
    "import pandas as pd\n",
    "import json\n",
    "import h5py\n",
    "import os\n",
    "import re\n",
    "import matplotlib.pyplot as plt\n",
    "from matplotlib.backends.backend_pdf import PdfPages"
   ]
  },
  {
   "cell_type": "markdown",
   "metadata": {},
   "source": [
    "## Load evaluation score"
   ]
  },
  {
   "cell_type": "code",
   "execution_count": 2,
   "metadata": {
    "scrolled": true
   },
   "outputs": [],
   "source": [
    "def load_eval_scores(model_dir):\n",
    "    filenames = os.listdir(model_dir)\n",
    "    \n",
    "    scores = pd.DataFrame(columns=range(3))\n",
    "    epochs = pd.DataFrame(columns=range(3))\n",
    "\n",
    "    idx_regex = re.compile(\"(\\S+)\\_(\\d)\\.h5\") # OBS! May need changing\n",
    "\n",
    "    for run, filename in enumerate(filenames):\n",
    "        idx_match = idx_regex.search(filename)\n",
    "        if idx_match is not None:\n",
    "            idx = idx_match.group(1)\n",
    "            fld = int(idx_match.group(2))\n",
    "                        \n",
    "            #if run > 200:\n",
    "            fh = h5py.File(model_dir + filename, 'r')\n",
    "            try:\n",
    "                scores.loc[idx, fld] = fh[\"performance\"].attrs[\"optimal_acc\"]\n",
    "                epochs.loc[idx, fld] = len(fh[\"performance\"][\"acc\"])\n",
    "            except KeyError:\n",
    "                fh.close()\n",
    "                pass\n",
    "            else:\n",
    "                fh.close()\n",
    "                    \n",
    "    return scores, epochs"
   ]
  },
  {
   "cell_type": "markdown",
   "metadata": {},
   "source": [
    "## Load hyper-parameter grid"
   ]
  },
  {
   "cell_type": "code",
   "execution_count": 3,
   "metadata": {},
   "outputs": [],
   "source": [
    "def load_grid(filename, prior=True):\n",
    "    with open(filename, 'r') as f:\n",
    "        param_grid = json.load(f)\n",
    "    \n",
    "    if prior:\n",
    "        param_grid.update({u'padding':[u'valid', u'same']})\n",
    "\n",
    "        filter_dict = dict()\n",
    "        for i, combination in enumerate(param_grid[u'filters']):\n",
    "            filter_dict[str(i)] = combination\n",
    "        param_grid[u'filters'] = list(range(i+1))\n",
    "\n",
    "        cfs = list()\n",
    "        for cf in param_grid[u'conv_filters']:\n",
    "            cfs.append(tuple(cf))\n",
    "        param_grid[u'conv_filters'] = cfs\n",
    "        \n",
    "        return param_grid, filter_dict\n",
    "    \n",
    "    else:\n",
    "        return param_grid"
   ]
  },
  {
   "cell_type": "markdown",
   "metadata": {},
   "source": [
    "## Frame hyper-parameters"
   ]
  },
  {
   "cell_type": "code",
   "execution_count": 4,
   "metadata": {},
   "outputs": [],
   "source": [
    "def frame_params(param_directory, parameters, filter_dict):\n",
    "    import os\n",
    "    import re\n",
    "    \n",
    "    \"\"\"\n",
    "    Load all dicts into a df\n",
    "    Each column is a parameter key\n",
    "    Each row is a model\n",
    "    The elements of the dataframe consists of values of each parameters used with that model\n",
    "    \"\"\"\n",
    "    \n",
    "    idx_regex = re.compile(\"(\\S+)\\.json\")\n",
    "    \n",
    "    param_files = os.listdir(param_directory)\n",
    "    \n",
    "    # Define empty dataframe\n",
    "    df = pd.DataFrame(columns=parameters)\n",
    "    \n",
    "    for filename in param_files:\n",
    "        idx_match = idx_regex.search(filename)\n",
    "        if idx_match is not None:\n",
    "            idx = idx_match.group(1)\n",
    "                        \n",
    "            param_settings = load_grid(param_directory + filename, prior=False)\n",
    "\n",
    "            try:\n",
    "                filters = param_settings.pop(u'filters')\n",
    "                convflt = param_settings.pop(u'conv_filters')\n",
    "            except KeyError:\n",
    "                continue\n",
    "                pass\n",
    "            \n",
    "            try:\n",
    "                filter_comb = filter_dict.keys()[filter_dict.values().index(filters)]\n",
    "            except ValueError:\n",
    "                print(filters)\n",
    "                print(param_settings)\n",
    "                continue\n",
    "                pass\n",
    "\n",
    "            df.loc[idx, param_settings.keys()] = param_settings.values()\n",
    "            df.loc[idx, u'padding'] = filters[4]\n",
    "            df.loc[idx, u'filters'] = filter_comb\n",
    "            df.at[idx, u'conv_filters'] = tuple(convflt)\n",
    "            \n",
    "    return df"
   ]
  },
  {
   "cell_type": "markdown",
   "metadata": {},
   "source": [
    "## Combine average performance score with parameter frame"
   ]
  },
  {
   "cell_type": "code",
   "execution_count": 5,
   "metadata": {},
   "outputs": [],
   "source": [
    "def sort_according_to_score(df, scores):\n",
    "    scores['avg_score'] = scores.mean(axis=1)\n",
    "    scores['std'] = scores.std(axis=1)\n",
    "    \n",
    "    scores.sort_values(by='avg_score', ascending=False, inplace=True)\n",
    "    \n",
    "    return df.reindex(scores.index), scores"
   ]
  },
  {
   "cell_type": "markdown",
   "metadata": {},
   "source": [
    "## Score landscape"
   ]
  },
  {
   "cell_type": "code",
   "execution_count": 6,
   "metadata": {},
   "outputs": [],
   "source": [
    "def plot_score_landscape(avg_scores, std, upper_bound, lower_bound):\n",
    "    \n",
    "    fig = plt.figure(figsize=(20,10))\n",
    "    \n",
    "    ind = np.arange(len(avg_scores))\n",
    "    plt.plot(ind, avg_scores, color='lightblue', label='Mean accuracy')\n",
    "    plt.fill_between(ind, avg_scores-std, avg_scores+std, alpha=.1)\n",
    "    plt.xticks(ind[::10], rotation=30, horizontalalignment='right')\n",
    "    plt.xlabel(\"models\")\n",
    "    plt.ylabel(\"scores\")\n",
    "    plt.axvline(upper_bound, color='k', linestyle='dashed')\n",
    "    plt.axvline(lower_bound, color='k', linestyle='dashed')\n",
    "    plt.title(\"Average accuracy score landscape\")\n",
    "    plt.legend(loc='upper right', bbox_to_anchor=(1., 1))\n",
    "    plt.tight_layout\n",
    "\n",
    "    plt.savefig(\"/home/hrp/Master/data/plots/hyperparam_eval/refine/performance_pr_hyperparam_set.png\")\n",
    "    pp = PdfPages(\"/home/hrp/Master/data/plots/hyperparam_eval/refine/performance_pr_hyperparam_set.pdf\")\n",
    "    pp.savefig()\n",
    "    pp.close()\n",
    "    plt.clf()\n",
    "    plt.cla()\n",
    "    plt.close()\n",
    "    \n",
    "    fig = plt.figure(figsize=(5,3))\n",
    "    \n",
    "    ind = np.arange(len(avg_scores))\n",
    "    plt.plot(ind, avg_scores, color='lightblue', label='Mean accuracy')\n",
    "    plt.fill_between(ind, avg_scores-std, avg_scores+std, alpha=.1)\n",
    "    plt.xticks(ind[::50], rotation=30, horizontalalignment='right')\n",
    "    plt.xlabel(\"models\")\n",
    "    plt.ylabel(\"scores\")\n",
    "    plt.axvline(upper_bound, color='k', linestyle='dashed', linewidth=1.0)\n",
    "    plt.axvline(lower_bound, color='k', linestyle='dashed', linewidth=1.0)\n",
    "    plt.title(\"Average accuracy score landscape\")\n",
    "    plt.legend(loc='lower left')#, bbox_to_anchor=(1., 1)\n",
    "    plt.tight_layout()\n",
    "\n",
    "    plt.savefig(\"/home/hrp/Master/data/plots/hyperparam_eval/refine/performance_pr_hyperparam_set_mini.png\")\n",
    "    pp = PdfPages(\"/home/hrp/Master/data/plots/hyperparam_eval/refine/performance_pr_hyperparam_set_mini.pdf\")\n",
    "    pp.savefig()\n",
    "    pp.close()\n",
    "    plt.clf()\n",
    "    plt.cla()\n",
    "    plt.close()"
   ]
  },
  {
   "cell_type": "code",
   "execution_count": 7,
   "metadata": {},
   "outputs": [],
   "source": [
    "def get_priors(df_colnames, param_grid):\n",
    "    from collections import Counter\n",
    "    \n",
    "    expectations = []\n",
    "    \n",
    "    for col in df_colnames:\n",
    "        parameters_exp = sorted(Counter(param_grid[col]).items())\n",
    "        total = np.sum(Counter(param_grid[col]).values())\n",
    "        expected = {str(k): [v, v/float(total)] for (k, v) in parameters_exp}\n",
    "        expectations.append(expected)\n",
    "        \n",
    "    return expectations"
   ]
  },
  {
   "cell_type": "code",
   "execution_count": 8,
   "metadata": {},
   "outputs": [],
   "source": [
    "def define_sample_populations(df_upper, df_lower): \n",
    "    from collections import Counter\n",
    "    \n",
    "    observations_upper = []\n",
    "    observations_lower = []\n",
    "    \n",
    "    for col in df_upper:\n",
    "        parameters_obs_up = sorted(Counter(df_upper[col]).items())\n",
    "        observed_up = {str(k): v for (k, v) in parameters_obs_up}\n",
    "        observations_upper.append(observed_up)\n",
    "\n",
    "        parameters_obs_low = sorted(Counter(df_lower[col]).items())\n",
    "        observed_low = {str(k): v for (k, v) in parameters_obs_low}\n",
    "        observations_lower.append(observed_low)\n",
    "    \n",
    "    return observations_upper, observations_lower"
   ]
  },
  {
   "cell_type": "markdown",
   "metadata": {},
   "source": [
    "## Bayesian statistics"
   ]
  },
  {
   "cell_type": "code",
   "execution_count": 9,
   "metadata": {},
   "outputs": [],
   "source": [
    "def infer_binomial_proportions(variable, n_pop1, n_obs1, n_pop2, n_obs2, n_trials=10000, p_hit=0.5, sig_level=0.05):\n",
    "    \"\"\"\n",
    "    Bayesian Analysis inferring two binomial proportions using PyMC.\n",
    "    \n",
    "    Arguments:\n",
    "        n_pop1       Size of first population.\n",
    "        n_obs1       Observed or counted hits (success) from the first population.\n",
    "        n_pop2       Size of second population.\n",
    "        n_obs2       Observed or counted hits (success) from the second population.\n",
    "        n_trials     Number of trials for binomial simulation. default = 10000.\n",
    "        p_hit        Probability of success. default = 0.5.\n",
    "        sig_level    Signinificance level plotted: default = 0.05.\n",
    "        save_fig     Save output figures in png-format.\n",
    "    Plots posterior with a 95% confidence interval. \n",
    "    If this interval contains 0, then the difference is NOT significant.\n",
    "    \"\"\"\n",
    "    \n",
    "    import pymc3 as pm\n",
    "    import scipy as sp\n",
    "    import scipy.stats as stats\n",
    "    from scipy.stats import beta\n",
    "    from scipy.stats import binom\n",
    "    \n",
    "    with pm.Model() as model:\n",
    "        \n",
    "        # Define the prior (here a binomial distribution as approximation)\n",
    "        success_freqs = np.random.binomial(n_trials, p_hit, size=n_trials)/float(n_trials)\n",
    "        # Parameter estimates for generic data\n",
    "        al, be, loc, scale = sp.stats.beta.fit(success_freqs)\n",
    "        mean = beta.mean(al, be, loc, scale)\n",
    "        std = beta.std(al, be, loc, scale)\n",
    "        print \"Generated beta prior with mean: {0} and std: {1}\".format(mean, std)\n",
    "        \n",
    "        # Expected value of parameters (success frequencies)\n",
    "        theta1 = pm.Beta('theta1', mu=mean, sd=std)\n",
    "        theta2 = pm.Beta('theta2', mu=mean, sd=std)\n",
    "        \n",
    "        # define the likelihood of estimated parameters given data\n",
    "        y1 = pm.Binomial(\"y1\", p=theta1, n=n_pop1, observed=n_obs1)\n",
    "        y2 = pm.Binomial(\"y2\", p=theta2, n=n_pop2, observed=n_obs2)\n",
    "\n",
    "        # Maximum a posteriori methods (generate a MCMC chain)\n",
    "        start = pm.find_MAP()  # Find starting value by optimization\n",
    "        trace = pm.sample(1000, pm.Metropolis(), progressbar=False, cores=1)  # Use Metropolis sampling\n",
    "        \n",
    "    pm.traceplot(trace)\n",
    "    plt.tight_layout\n",
    "    plt.savefig(\"/home/hrp/Master/data/plots/hyperparam_eval/refine/hyperparam_trace_\" + '_'.join(variable) + \".png\")\n",
    "    pp = PdfPages(\"/home/hrp/Master/data/plots/hyperparam_eval/refine/hyperparam_trace_\" + '_'.join(variable) + \".pdf\")\n",
    "    pp.savefig()\n",
    "    pp.close()\n",
    "    plt.clf()\n",
    "    plt.cla()\n",
    "    plt.close()\n",
    "    \n",
    "    # create an array with the posterior sample\n",
    "    theta1_sample = trace['theta1']\n",
    "    theta2_sample = trace['theta2']\n",
    "\n",
    "    # plot the trajectory of the last 500 sampled values.\n",
    "    plt.plot(theta1_sample[:-500], theta2_sample[:-500], marker='o',  color='skyblue')\n",
    "    plt.xlim(0, 1)\n",
    "    plt.ylim(0, 1)\n",
    "    plt.xlabel(r'$\\theta1$')\n",
    "    plt.ylabel(r'$\\theta2$')\n",
    "\n",
    "    # display means in plot.\n",
    "    plt.plot(0, label='means = %.3f, %.3f' % (np.mean(theta1_sample), np.mean(theta2_sample)), alpha=0.0)\n",
    "    plt.title(' '.join(variable))\n",
    "    plt.tight_layout\n",
    "    plt.savefig(\"/home/hrp/Master/data/plots/hyperparam_eval/refine/hyperparam_trajectory_\" + '_'.join(variable) + \".png\")\n",
    "    pp = PdfPages(\"/home/hrp/Master/data/plots/hyperparam_eval/refine/hyperparam_trajectory_\" + '_'.join(variable) + \".pdf\")\n",
    "    pp.savefig()\n",
    "    pp.close()\n",
    "    plt.clf()\n",
    "    plt.cla()\n",
    "    plt.close()\n",
    "\n",
    "    # plot a histogram of the posterior differences of theta values.\n",
    "    theta_diff = theta1_sample - theta2_sample\n",
    "    pm.plot_posterior(theta_diff, ref_val=0.0, bins=30, color='skyblue', alpha_level=sig_level)\n",
    "    plt.xlabel(r'$\\theta_1 - \\theta_2$')\n",
    "    plt.title(' '.join(variable))\n",
    "    plt.tight_layout\n",
    "\n",
    "    plt.savefig(\"/home/hrp/Master/data/plots/hyperparam_eval/refine/post_diff_hist_\" + '_'.join(variable) + \".png\")\n",
    "    pp = PdfPages(\"/home/hrp/Master/data/plots/hyperparam_eval/refine/post_diff_hist_\" + '_'.join(variable) + \".pdf\")\n",
    "    pp.savefig()\n",
    "    pp.close()\n",
    "    plt.clf()\n",
    "    plt.cla()\n",
    "    plt.close()"
   ]
  },
  {
   "cell_type": "markdown",
   "metadata": {},
   "source": [
    "# Input arguments"
   ]
  },
  {
   "cell_type": "code",
   "execution_count": 10,
   "metadata": {},
   "outputs": [],
   "source": [
    "model_dir = \"/home/hrp/Master/data/models/3xConv/refine/v0.1/\""
   ]
  },
  {
   "cell_type": "code",
   "execution_count": 11,
   "metadata": {},
   "outputs": [],
   "source": [
    "param_directory = \"/home/hrp/Master/data/grid_search/3xConv/refine/v0.1/\""
   ]
  },
  {
   "cell_type": "code",
   "execution_count": 12,
   "metadata": {},
   "outputs": [],
   "source": [
    "upper_bound = 50\n",
    "lower_bound = 150\n",
    "# Temp\n",
    "upper_bound = 60\n",
    "lower_bound = 300"
   ]
  },
  {
   "cell_type": "markdown",
   "metadata": {},
   "source": [
    "# Main"
   ]
  },
  {
   "cell_type": "code",
   "execution_count": 13,
   "metadata": {},
   "outputs": [],
   "source": [
    "scores, epochs = load_eval_scores(model_dir)"
   ]
  },
  {
   "cell_type": "code",
   "execution_count": 14,
   "metadata": {},
   "outputs": [
    {
     "data": {
      "image/png": "[encoded data removed]",
      "text/plain": [
       "<Figure size 432x288 with 1 Axes>"
      ]
     },
     "metadata": {},
     "output_type": "display_data"
    }
   ],
   "source": [
    "ax = epochs.plot.hist(bins=100, alpha=0.3)"
   ]
  },
  {
   "cell_type": "code",
   "execution_count": 15,
   "metadata": {},
   "outputs": [
    {
     "name": "stdout",
     "output_type": "stream",
     "text": [
      "0\n",
      "35\n",
      "200\n",
      "95.92349726775956\n",
      "0    200\n",
      "dtype: object\n",
      "1\n",
      "29\n",
      "200\n",
      "96.09444444444445\n",
      "0    200\n",
      "dtype: object\n",
      "2\n",
      "24\n",
      "200\n",
      "96.12747875354107\n",
      "0    200\n",
      "dtype: object\n",
      "0    95.923497\n",
      "1    96.094444\n",
      "2    96.127479\n",
      "dtype: float64\n"
     ]
    }
   ],
   "source": [
    "print(\"0\")\n",
    "print(epochs[0].min())\n",
    "print(epochs[0].max())\n",
    "print(epochs[0].mean())\n",
    "print(epochs[0].mode())\n",
    "print(\"1\")\n",
    "print(epochs[1].min())\n",
    "print(epochs[1].max())\n",
    "print(epochs[1].mean())\n",
    "print(epochs[1].mode())\n",
    "print(\"2\")\n",
    "print(epochs[2].min())\n",
    "print(epochs[2].max())\n",
    "print(epochs[2].mean())\n",
    "print(epochs[2].mode())\n",
    "print(epochs.mean())"
   ]
  },
  {
   "cell_type": "code",
   "execution_count": 16,
   "metadata": {},
   "outputs": [],
   "source": [
    "param_grid, filter_dict = load_grid(param_directory + 'grid.json')"
   ]
  },
  {
   "cell_type": "code",
   "execution_count": 17,
   "metadata": {},
   "outputs": [
    {
     "data": {
      "text/plain": [
       "[('20', [[100, 10], [1, 1], [1, 2], [1, 2], u'valid']),\n",
       " ('21', [[100, 5], [1, 1], [1, 2], [1, 2], u'valid']),\n",
       " ('22', [[1, 21], [1, 1], [2, 1], [2, 1], u'valid']),\n",
       " ('23', [[10, 21], [1, 1], [2, 1], [2, 1], u'valid']),\n",
       " ('1', [[10, 5], [10, 1], [1, 2], [1, 2], u'same']),\n",
       " ('0', [[10, 10], [10, 1], [1, 2], [1, 2], u'same']),\n",
       " ('3', [[10, 5], [5, 1], [1, 2], [1, 2], u'same']),\n",
       " ('2', [[10, 10], [5, 1], [1, 2], [1, 2], u'same']),\n",
       " ('5', [[10, 5], [2, 1], [5, 2], [1, 2], u'valid']),\n",
       " ('4', [[10, 10], [2, 1], [5, 2], [1, 2], u'valid']),\n",
       " ('7', [[5, 5], [5, 1], [1, 2], [1, 2], u'same']),\n",
       " ('6', [[5, 10], [5, 1], [1, 2], [1, 2], u'same']),\n",
       " ('9', [[1, 10], [1, 1], [100, 2], [1, 2], u'valid']),\n",
       " ('8', [[1, 10], [1, 1], [100, 2], [1, 2], u'same']),\n",
       " ('11', [[1, 5], [1, 1], [100, 2], [1, 2], u'valid']),\n",
       " ('10', [[1, 5], [1, 1], [100, 2], [1, 2], u'same']),\n",
       " ('13', [[1, 10], [1, 1], [50, 2], [50, 2], u'valid']),\n",
       " ('12', [[1, 10], [1, 1], [50, 2], [50, 2], u'same']),\n",
       " ('15', [[1, 5], [1, 1], [50, 2], [50, 2], u'valid']),\n",
       " ('14', [[1, 5], [1, 1], [50, 2], [50, 2], u'same']),\n",
       " ('17', [[1, 10], [1, 1], [50, 2], [25, 2], u'valid']),\n",
       " ('16', [[1, 10], [1, 1], [50, 2], [25, 2], u'same']),\n",
       " ('19', [[1, 5], [1, 1], [50, 2], [25, 2], u'valid']),\n",
       " ('18', [[1, 5], [1, 1], [50, 2], [25, 2], u'same'])]"
      ]
     },
     "execution_count": 17,
     "metadata": {},
     "output_type": "execute_result"
    }
   ],
   "source": [
    "filter_dict.items()"
   ]
  },
  {
   "cell_type": "code",
   "execution_count": 18,
   "metadata": {},
   "outputs": [
    {
     "name": "stdout",
     "output_type": "stream",
     "text": [
      "[[[10, 10], [10, 1], [1, 2], [1, 2], u'same'], [[10, 5], [10, 1], [1, 2], [1, 2], u'same'], [[10, 10], [5, 1], [1, 2], [1, 2], u'same'], [[10, 5], [5, 1], [1, 2], [1, 2], u'same'], [[10, 10], [2, 1], [5, 2], [1, 2], u'valid'], [[10, 5], [2, 1], [5, 2], [1, 2], u'valid'], [[5, 10], [5, 1], [1, 2], [1, 2], u'same'], [[5, 5], [5, 1], [1, 2], [1, 2], u'same'], [[1, 10], [1, 1], [100, 2], [1, 2], u'same'], [[1, 10], [1, 1], [100, 2], [1, 2], u'valid'], [[1, 5], [1, 1], [100, 2], [1, 2], u'same'], [[1, 5], [1, 1], [100, 2], [1, 2], u'valid'], [[1, 10], [1, 1], [50, 2], [50, 2], u'same'], [[1, 10], [1, 1], [50, 2], [50, 2], u'valid'], [[1, 5], [1, 1], [50, 2], [50, 2], u'same'], [[1, 5], [1, 1], [50, 2], [50, 2], u'valid'], [[1, 10], [1, 1], [50, 2], [25, 2], u'same'], [[1, 10], [1, 1], [50, 2], [25, 2], u'valid'], [[1, 5], [1, 1], [50, 2], [25, 2], u'same'], [[1, 5], [1, 1], [50, 2], [25, 2], u'valid'], [[100, 10], [1, 1], [1, 2], [1, 2], u'valid'], [[100, 5], [1, 1], [1, 2], [1, 2], u'valid'], [[1, 21], [1, 1], [2, 1], [2, 1], u'valid'], [[10, 21], [1, 1], [2, 1], [2, 1], u'valid']]\n",
      "{u'dense_activation_func': [u'swish'], u'batch_size': [1024], u'dense_dim': [16, 32], u'conv_pooling': [u'max', u'avg'], u'conv_activation_func': [u'tanh']}\n"
     ]
    }
   ],
   "source": [
    "df = frame_params(param_directory, param_grid.keys(), filter_dict)"
   ]
  },
  {
   "cell_type": "code",
   "execution_count": 19,
   "metadata": {},
   "outputs": [],
   "source": [
    "df, scores = sort_according_to_score(df, scores)"
   ]
  },
  {
   "cell_type": "code",
   "execution_count": 20,
   "metadata": {},
   "outputs": [
    {
     "data": {
      "text/html": [
       "<div>\n",
       "<style scoped>\n",
       "    .dataframe tbody tr th:only-of-type {\n",
       "        vertical-align: middle;\n",
       "    }\n",
       "\n",
       "    .dataframe tbody tr th {\n",
       "        vertical-align: top;\n",
       "    }\n",
       "\n",
       "    .dataframe thead th {\n",
       "        text-align: right;\n",
       "    }\n",
       "</style>\n",
       "<table border=\"1\" class=\"dataframe\">\n",
       "  <thead>\n",
       "    <tr style=\"text-align: right;\">\n",
       "      <th></th>\n",
       "      <th>dense_activation_func</th>\n",
       "      <th>batch_size</th>\n",
       "      <th>dense_dim</th>\n",
       "      <th>padding</th>\n",
       "      <th>conv_pooling</th>\n",
       "      <th>conv_activation_func</th>\n",
       "      <th>filters</th>\n",
       "      <th>conv_filters</th>\n",
       "    </tr>\n",
       "  </thead>\n",
       "  <tbody>\n",
       "    <tr>\n",
       "      <th>c719a088-6dbf-47d9-85fd-6481d2422fdc</th>\n",
       "      <td>swish</td>\n",
       "      <td>1024</td>\n",
       "      <td>32</td>\n",
       "      <td>valid</td>\n",
       "      <td>max</td>\n",
       "      <td>tanh</td>\n",
       "      <td>22</td>\n",
       "      <td>(50, 30, 10)</td>\n",
       "    </tr>\n",
       "    <tr>\n",
       "      <th>1bb71b5b-e583-495e-877d-03db4c55f9d0</th>\n",
       "      <td>swish</td>\n",
       "      <td>1024</td>\n",
       "      <td>32</td>\n",
       "      <td>valid</td>\n",
       "      <td>max</td>\n",
       "      <td>tanh</td>\n",
       "      <td>22</td>\n",
       "      <td>(30, 30, 30)</td>\n",
       "    </tr>\n",
       "    <tr>\n",
       "      <th>09db1f5c-251b-40ed-90eb-a64125d081ce</th>\n",
       "      <td>swish</td>\n",
       "      <td>1024</td>\n",
       "      <td>32</td>\n",
       "      <td>valid</td>\n",
       "      <td>max</td>\n",
       "      <td>tanh</td>\n",
       "      <td>22</td>\n",
       "      <td>(30, 30, 30)</td>\n",
       "    </tr>\n",
       "    <tr>\n",
       "      <th>94270d71-bdeb-48a3-8283-7166fef3ea91</th>\n",
       "      <td>swish</td>\n",
       "      <td>1024</td>\n",
       "      <td>16</td>\n",
       "      <td>valid</td>\n",
       "      <td>max</td>\n",
       "      <td>tanh</td>\n",
       "      <td>22</td>\n",
       "      <td>(30, 30, 30)</td>\n",
       "    </tr>\n",
       "    <tr>\n",
       "      <th>37063097-97f7-4d98-966a-497f5b088441</th>\n",
       "      <td>swish</td>\n",
       "      <td>1024</td>\n",
       "      <td>32</td>\n",
       "      <td>valid</td>\n",
       "      <td>max</td>\n",
       "      <td>tanh</td>\n",
       "      <td>22</td>\n",
       "      <td>(30, 30, 30)</td>\n",
       "    </tr>\n",
       "    <tr>\n",
       "      <th>8c5b2e42-3f74-4b62-8795-6e9d98714e86</th>\n",
       "      <td>swish</td>\n",
       "      <td>1024</td>\n",
       "      <td>16</td>\n",
       "      <td>valid</td>\n",
       "      <td>avg</td>\n",
       "      <td>tanh</td>\n",
       "      <td>22</td>\n",
       "      <td>(50, 30, 10)</td>\n",
       "    </tr>\n",
       "    <tr>\n",
       "      <th>87600cb6-a259-4d9e-8aa9-e8d40e544937</th>\n",
       "      <td>swish</td>\n",
       "      <td>1024</td>\n",
       "      <td>32</td>\n",
       "      <td>valid</td>\n",
       "      <td>max</td>\n",
       "      <td>tanh</td>\n",
       "      <td>22</td>\n",
       "      <td>(30, 30, 30)</td>\n",
       "    </tr>\n",
       "    <tr>\n",
       "      <th>de9f9149-39e1-4231-b316-3d0043a864f9</th>\n",
       "      <td>swish</td>\n",
       "      <td>1024</td>\n",
       "      <td>32</td>\n",
       "      <td>valid</td>\n",
       "      <td>max</td>\n",
       "      <td>tanh</td>\n",
       "      <td>22</td>\n",
       "      <td>(30, 20, 10)</td>\n",
       "    </tr>\n",
       "    <tr>\n",
       "      <th>ae30d30b-0d0b-473b-8520-5b82489add2e</th>\n",
       "      <td>swish</td>\n",
       "      <td>1024</td>\n",
       "      <td>16</td>\n",
       "      <td>same</td>\n",
       "      <td>max</td>\n",
       "      <td>tanh</td>\n",
       "      <td>16</td>\n",
       "      <td>(30, 20, 10)</td>\n",
       "    </tr>\n",
       "    <tr>\n",
       "      <th>a22775e7-1cdf-4c1f-a5ab-06ccd2d302be</th>\n",
       "      <td>swish</td>\n",
       "      <td>1024</td>\n",
       "      <td>16</td>\n",
       "      <td>valid</td>\n",
       "      <td>max</td>\n",
       "      <td>tanh</td>\n",
       "      <td>22</td>\n",
       "      <td>(50, 30, 10)</td>\n",
       "    </tr>\n",
       "    <tr>\n",
       "      <th>0119e64f-2aab-420c-86d6-ccba3467a70e</th>\n",
       "      <td>swish</td>\n",
       "      <td>1024</td>\n",
       "      <td>32</td>\n",
       "      <td>same</td>\n",
       "      <td>max</td>\n",
       "      <td>tanh</td>\n",
       "      <td>16</td>\n",
       "      <td>(30, 30, 30)</td>\n",
       "    </tr>\n",
       "    <tr>\n",
       "      <th>53be6aa6-1005-45d0-861e-25057d50c4f2</th>\n",
       "      <td>swish</td>\n",
       "      <td>1024</td>\n",
       "      <td>32</td>\n",
       "      <td>same</td>\n",
       "      <td>max</td>\n",
       "      <td>tanh</td>\n",
       "      <td>16</td>\n",
       "      <td>(30, 30, 30)</td>\n",
       "    </tr>\n",
       "    <tr>\n",
       "      <th>7cd35b84-6f8f-4ceb-94ea-a81cb0cd99f0</th>\n",
       "      <td>swish</td>\n",
       "      <td>1024</td>\n",
       "      <td>32</td>\n",
       "      <td>valid</td>\n",
       "      <td>avg</td>\n",
       "      <td>tanh</td>\n",
       "      <td>22</td>\n",
       "      <td>(30, 20, 10)</td>\n",
       "    </tr>\n",
       "    <tr>\n",
       "      <th>ea5a7960-02ba-4c05-8eed-9883c0132825</th>\n",
       "      <td>swish</td>\n",
       "      <td>1024</td>\n",
       "      <td>32</td>\n",
       "      <td>valid</td>\n",
       "      <td>avg</td>\n",
       "      <td>tanh</td>\n",
       "      <td>22</td>\n",
       "      <td>(30, 30, 30)</td>\n",
       "    </tr>\n",
       "    <tr>\n",
       "      <th>67c293c1-4f64-455e-b912-c2100a287d86</th>\n",
       "      <td>swish</td>\n",
       "      <td>1024</td>\n",
       "      <td>16</td>\n",
       "      <td>valid</td>\n",
       "      <td>avg</td>\n",
       "      <td>tanh</td>\n",
       "      <td>22</td>\n",
       "      <td>(50, 30, 10)</td>\n",
       "    </tr>\n",
       "    <tr>\n",
       "      <th>6420f071-061e-4911-8cc4-6f492f9513ba</th>\n",
       "      <td>swish</td>\n",
       "      <td>1024</td>\n",
       "      <td>32</td>\n",
       "      <td>valid</td>\n",
       "      <td>max</td>\n",
       "      <td>tanh</td>\n",
       "      <td>22</td>\n",
       "      <td>(50, 30, 10)</td>\n",
       "    </tr>\n",
       "    <tr>\n",
       "      <th>f8061169-8b0e-4867-a0cc-a18c1713dba0</th>\n",
       "      <td>swish</td>\n",
       "      <td>1024</td>\n",
       "      <td>16</td>\n",
       "      <td>valid</td>\n",
       "      <td>avg</td>\n",
       "      <td>tanh</td>\n",
       "      <td>22</td>\n",
       "      <td>(30, 30, 30)</td>\n",
       "    </tr>\n",
       "    <tr>\n",
       "      <th>a96a8a1a-669c-44aa-9b81-c0c1c596f1ca</th>\n",
       "      <td>swish</td>\n",
       "      <td>1024</td>\n",
       "      <td>32</td>\n",
       "      <td>valid</td>\n",
       "      <td>max</td>\n",
       "      <td>tanh</td>\n",
       "      <td>22</td>\n",
       "      <td>(30, 30, 30)</td>\n",
       "    </tr>\n",
       "    <tr>\n",
       "      <th>111f2bbb-269a-406c-8dc1-9b40ffb1a7e2</th>\n",
       "      <td>swish</td>\n",
       "      <td>1024</td>\n",
       "      <td>32</td>\n",
       "      <td>valid</td>\n",
       "      <td>max</td>\n",
       "      <td>tanh</td>\n",
       "      <td>22</td>\n",
       "      <td>(30, 30, 30)</td>\n",
       "    </tr>\n",
       "    <tr>\n",
       "      <th>1efc979b-d320-489b-ae05-fadf37cd391e</th>\n",
       "      <td>swish</td>\n",
       "      <td>1024</td>\n",
       "      <td>32</td>\n",
       "      <td>valid</td>\n",
       "      <td>avg</td>\n",
       "      <td>tanh</td>\n",
       "      <td>22</td>\n",
       "      <td>(30, 20, 10)</td>\n",
       "    </tr>\n",
       "  </tbody>\n",
       "</table>\n",
       "</div>"
      ],
      "text/plain": [
       "                                     dense_activation_func batch_size  \\\n",
       "c719a088-6dbf-47d9-85fd-6481d2422fdc                 swish       1024   \n",
       "1bb71b5b-e583-495e-877d-03db4c55f9d0                 swish       1024   \n",
       "09db1f5c-251b-40ed-90eb-a64125d081ce                 swish       1024   \n",
       "94270d71-bdeb-48a3-8283-7166fef3ea91                 swish       1024   \n",
       "37063097-97f7-4d98-966a-497f5b088441                 swish       1024   \n",
       "8c5b2e42-3f74-4b62-8795-6e9d98714e86                 swish       1024   \n",
       "87600cb6-a259-4d9e-8aa9-e8d40e544937                 swish       1024   \n",
       "de9f9149-39e1-4231-b316-3d0043a864f9                 swish       1024   \n",
       "ae30d30b-0d0b-473b-8520-5b82489add2e                 swish       1024   \n",
       "a22775e7-1cdf-4c1f-a5ab-06ccd2d302be                 swish       1024   \n",
       "0119e64f-2aab-420c-86d6-ccba3467a70e                 swish       1024   \n",
       "53be6aa6-1005-45d0-861e-25057d50c4f2                 swish       1024   \n",
       "7cd35b84-6f8f-4ceb-94ea-a81cb0cd99f0                 swish       1024   \n",
       "ea5a7960-02ba-4c05-8eed-9883c0132825                 swish       1024   \n",
       "67c293c1-4f64-455e-b912-c2100a287d86                 swish       1024   \n",
       "6420f071-061e-4911-8cc4-6f492f9513ba                 swish       1024   \n",
       "f8061169-8b0e-4867-a0cc-a18c1713dba0                 swish       1024   \n",
       "a96a8a1a-669c-44aa-9b81-c0c1c596f1ca                 swish       1024   \n",
       "111f2bbb-269a-406c-8dc1-9b40ffb1a7e2                 swish       1024   \n",
       "1efc979b-d320-489b-ae05-fadf37cd391e                 swish       1024   \n",
       "\n",
       "                                     dense_dim padding conv_pooling  \\\n",
       "c719a088-6dbf-47d9-85fd-6481d2422fdc        32   valid          max   \n",
       "1bb71b5b-e583-495e-877d-03db4c55f9d0        32   valid          max   \n",
       "09db1f5c-251b-40ed-90eb-a64125d081ce        32   valid          max   \n",
       "94270d71-bdeb-48a3-8283-7166fef3ea91        16   valid          max   \n",
       "37063097-97f7-4d98-966a-497f5b088441        32   valid          max   \n",
       "8c5b2e42-3f74-4b62-8795-6e9d98714e86        16   valid          avg   \n",
       "87600cb6-a259-4d9e-8aa9-e8d40e544937        32   valid          max   \n",
       "de9f9149-39e1-4231-b316-3d0043a864f9        32   valid          max   \n",
       "ae30d30b-0d0b-473b-8520-5b82489add2e        16    same          max   \n",
       "a22775e7-1cdf-4c1f-a5ab-06ccd2d302be        16   valid          max   \n",
       "0119e64f-2aab-420c-86d6-ccba3467a70e        32    same          max   \n",
       "53be6aa6-1005-45d0-861e-25057d50c4f2        32    same          max   \n",
       "7cd35b84-6f8f-4ceb-94ea-a81cb0cd99f0        32   valid          avg   \n",
       "ea5a7960-02ba-4c05-8eed-9883c0132825        32   valid          avg   \n",
       "67c293c1-4f64-455e-b912-c2100a287d86        16   valid          avg   \n",
       "6420f071-061e-4911-8cc4-6f492f9513ba        32   valid          max   \n",
       "f8061169-8b0e-4867-a0cc-a18c1713dba0        16   valid          avg   \n",
       "a96a8a1a-669c-44aa-9b81-c0c1c596f1ca        32   valid          max   \n",
       "111f2bbb-269a-406c-8dc1-9b40ffb1a7e2        32   valid          max   \n",
       "1efc979b-d320-489b-ae05-fadf37cd391e        32   valid          avg   \n",
       "\n",
       "                                     conv_activation_func filters  \\\n",
       "c719a088-6dbf-47d9-85fd-6481d2422fdc                 tanh      22   \n",
       "1bb71b5b-e583-495e-877d-03db4c55f9d0                 tanh      22   \n",
       "09db1f5c-251b-40ed-90eb-a64125d081ce                 tanh      22   \n",
       "94270d71-bdeb-48a3-8283-7166fef3ea91                 tanh      22   \n",
       "37063097-97f7-4d98-966a-497f5b088441                 tanh      22   \n",
       "8c5b2e42-3f74-4b62-8795-6e9d98714e86                 tanh      22   \n",
       "87600cb6-a259-4d9e-8aa9-e8d40e544937                 tanh      22   \n",
       "de9f9149-39e1-4231-b316-3d0043a864f9                 tanh      22   \n",
       "ae30d30b-0d0b-473b-8520-5b82489add2e                 tanh      16   \n",
       "a22775e7-1cdf-4c1f-a5ab-06ccd2d302be                 tanh      22   \n",
       "0119e64f-2aab-420c-86d6-ccba3467a70e                 tanh      16   \n",
       "53be6aa6-1005-45d0-861e-25057d50c4f2                 tanh      16   \n",
       "7cd35b84-6f8f-4ceb-94ea-a81cb0cd99f0                 tanh      22   \n",
       "ea5a7960-02ba-4c05-8eed-9883c0132825                 tanh      22   \n",
       "67c293c1-4f64-455e-b912-c2100a287d86                 tanh      22   \n",
       "6420f071-061e-4911-8cc4-6f492f9513ba                 tanh      22   \n",
       "f8061169-8b0e-4867-a0cc-a18c1713dba0                 tanh      22   \n",
       "a96a8a1a-669c-44aa-9b81-c0c1c596f1ca                 tanh      22   \n",
       "111f2bbb-269a-406c-8dc1-9b40ffb1a7e2                 tanh      22   \n",
       "1efc979b-d320-489b-ae05-fadf37cd391e                 tanh      22   \n",
       "\n",
       "                                      conv_filters  \n",
       "c719a088-6dbf-47d9-85fd-6481d2422fdc  (50, 30, 10)  \n",
       "1bb71b5b-e583-495e-877d-03db4c55f9d0  (30, 30, 30)  \n",
       "09db1f5c-251b-40ed-90eb-a64125d081ce  (30, 30, 30)  \n",
       "94270d71-bdeb-48a3-8283-7166fef3ea91  (30, 30, 30)  \n",
       "37063097-97f7-4d98-966a-497f5b088441  (30, 30, 30)  \n",
       "8c5b2e42-3f74-4b62-8795-6e9d98714e86  (50, 30, 10)  \n",
       "87600cb6-a259-4d9e-8aa9-e8d40e544937  (30, 30, 30)  \n",
       "de9f9149-39e1-4231-b316-3d0043a864f9  (30, 20, 10)  \n",
       "ae30d30b-0d0b-473b-8520-5b82489add2e  (30, 20, 10)  \n",
       "a22775e7-1cdf-4c1f-a5ab-06ccd2d302be  (50, 30, 10)  \n",
       "0119e64f-2aab-420c-86d6-ccba3467a70e  (30, 30, 30)  \n",
       "53be6aa6-1005-45d0-861e-25057d50c4f2  (30, 30, 30)  \n",
       "7cd35b84-6f8f-4ceb-94ea-a81cb0cd99f0  (30, 20, 10)  \n",
       "ea5a7960-02ba-4c05-8eed-9883c0132825  (30, 30, 30)  \n",
       "67c293c1-4f64-455e-b912-c2100a287d86  (50, 30, 10)  \n",
       "6420f071-061e-4911-8cc4-6f492f9513ba  (50, 30, 10)  \n",
       "f8061169-8b0e-4867-a0cc-a18c1713dba0  (30, 30, 30)  \n",
       "a96a8a1a-669c-44aa-9b81-c0c1c596f1ca  (30, 30, 30)  \n",
       "111f2bbb-269a-406c-8dc1-9b40ffb1a7e2  (30, 30, 30)  \n",
       "1efc979b-d320-489b-ae05-fadf37cd391e  (30, 20, 10)  "
      ]
     },
     "execution_count": 20,
     "metadata": {},
     "output_type": "execute_result"
    }
   ],
   "source": [
    "df.head(20)"
   ]
  },
  {
   "cell_type": "code",
   "execution_count": 21,
   "metadata": {},
   "outputs": [
    {
     "name": "stdout",
     "output_type": "stream",
     "text": [
      "0.9898588085009851\n",
      "0.9170959156411918\n",
      "366\n"
     ]
    }
   ],
   "source": [
    "print(scores[\"avg_score\"].max())\n",
    "print(scores[\"avg_score\"].min())\n",
    "print(len(scores[\"avg_score\"]))"
   ]
  },
  {
   "cell_type": "code",
   "execution_count": 22,
   "metadata": {},
   "outputs": [],
   "source": [
    "plot_score_landscape(np.array(scores[\"avg_score\"].astype(float)), np.array(scores[\"std\"].astype(float)), upper_bound, lower_bound)"
   ]
  },
  {
   "cell_type": "code",
   "execution_count": null,
   "metadata": {},
   "outputs": [],
   "source": [
    "expectations = get_priors(df.columns, param_grid)"
   ]
  },
  {
   "cell_type": "code",
   "execution_count": null,
   "metadata": {},
   "outputs": [],
   "source": [
    "df_upper = df.head(upper_bound)\n",
    "df_lower = df.tail(len(df) - lower_bound)"
   ]
  },
  {
   "cell_type": "code",
   "execution_count": null,
   "metadata": {},
   "outputs": [],
   "source": [
    "observations_upper, observations_lower = define_sample_populations(df_upper, df_lower)"
   ]
  },
  {
   "cell_type": "code",
   "execution_count": null,
   "metadata": {},
   "outputs": [],
   "source": [
    "assert len(expectations)==len(observations_lower)==len(observations_upper)"
   ]
  },
  {
   "cell_type": "code",
   "execution_count": null,
   "metadata": {},
   "outputs": [],
   "source": [
    "for i in range(len(df.columns)):\n",
    "    for key in expectations[i]:\n",
    "        print df.columns[i], key\n",
    "        p_prior = np.round(expectations[i][key][1], 3)\n",
    "        print \"prior probability: \", p_prior\n",
    "        \n",
    "        try:\n",
    "            obs_up = observations_upper[i][key]\n",
    "        except KeyError:\n",
    "            obs_up = 0\n",
    "        try:\n",
    "            obs_low = observations_lower[i][key]\n",
    "        except KeyError:\n",
    "            obs_low = 0\n",
    "            \n",
    "        print \"upper: {0}/{1} ({2}), lower: {3}/{4} ({5})\".format(obs_up, len(df_upper), obs_up/float(len(df_upper)), obs_low, len(df_lower), obs_low/float(len(df_lower)))\n",
    "        \n",
    "        infer_binomial_proportions(variable=[df.columns[i], key],\n",
    "                                   n_pop1=len(df_upper), \n",
    "                                   n_obs1=obs_up, \n",
    "                                   n_pop2=len(df_lower), \n",
    "                                   n_obs2=obs_low, \n",
    "                                   n_trials=len(df), \n",
    "                                   p_hit=p_prior,\n",
    "                                   sig_level=0.1)"
   ]
  },
  {
   "cell_type": "code",
   "execution_count": null,
   "metadata": {},
   "outputs": [],
   "source": [
    "1/16.0"
   ]
  },
  {
   "cell_type": "code",
   "execution_count": null,
   "metadata": {},
   "outputs": [],
   "source": [
    "3**8"
   ]
  },
  {
   "cell_type": "code",
   "execution_count": null,
   "metadata": {},
   "outputs": [],
   "source": [
    "230/6561.0"
   ]
  },
  {
   "cell_type": "code",
   "execution_count": null,
   "metadata": {},
   "outputs": [],
   "source": [
    "4*4*3*3*4*2*2*2"
   ]
  },
  {
   "cell_type": "code",
   "execution_count": null,
   "metadata": {},
   "outputs": [],
   "source": [
    "230/4608.0"
   ]
  },
  {
   "cell_type": "code",
   "execution_count": null,
   "metadata": {},
   "outputs": [],
   "source": [
    "40000*0.04991319444444445"
   ]
  },
  {
   "cell_type": "code",
   "execution_count": null,
   "metadata": {},
   "outputs": [],
   "source": [
    "2*3*2*24"
   ]
  },
  {
   "cell_type": "code",
   "execution_count": null,
   "metadata": {},
   "outputs": [],
   "source": [
    "import random\n",
    "from itertools import product\n",
    "\n",
    "a = [0.1,0.2,0.3]\n",
    "b = dict(lr=a)\n",
    "grid = list(product(*b.values()))\n",
    "print(grid)\n",
    "a[random.sample(range(len(a)),1)[0]]"
   ]
  },
  {
   "cell_type": "code",
   "execution_count": null,
   "metadata": {},
   "outputs": [],
   "source": [
    "1/8.0"
   ]
  },
  {
   "cell_type": "code",
   "execution_count": null,
   "metadata": {},
   "outputs": [],
   "source": []
  }
 ],
 "metadata": {
  "kernelspec": {
   "display_name": "thesis",
   "language": "python",
   "name": "thesis"
  },
  "language_info": {
   "codemirror_mode": {
    "name": "ipython",
    "version": 2
   },
   "file_extension": ".py",
   "mimetype": "text/x-python",
   "name": "python",
   "nbconvert_exporter": "python",
   "pygments_lexer": "ipython2",
   "version": "2.7.12"
  }
 },
 "nbformat": 4,
 "nbformat_minor": 2
}
