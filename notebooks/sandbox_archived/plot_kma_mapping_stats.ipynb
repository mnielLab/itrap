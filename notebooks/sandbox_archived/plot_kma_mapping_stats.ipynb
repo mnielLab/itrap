{
 "cells": [
  {
   "cell_type": "code",
   "execution_count": 1,
   "metadata": {},
   "outputs": [],
   "source": [
    "import numpy as np\n",
    "import pandas as pd\n",
    "import matplotlib.pyplot as plt\n",
    "import math"
   ]
  },
  {
   "cell_type": "code",
   "execution_count": 2,
   "metadata": {},
   "outputs": [],
   "source": [
    "import matplotlib.patches as patches\n",
    "import matplotlib.patheffects as PathEffects"
   ]
  },
  {
   "cell_type": "code",
   "execution_count": 3,
   "metadata": {},
   "outputs": [],
   "source": [
    "plt.style.use('ggplot')\n",
    "cc = plt.rcParams['axes.prop_cycle'].by_key()['color'] * 2"
   ]
  },
  {
   "cell_type": "markdown",
   "metadata": {},
   "source": [
    "# Args"
   ]
  },
  {
   "cell_type": "code",
   "execution_count": 4,
   "metadata": {},
   "outputs": [],
   "source": [
    "PLATFORM = \"IONTORRENT\"\n",
    "EXP = \"exp3\"\n",
    "MAPPING = 'KMA' # BLAST\n",
    "BARCODE_SYSTEM = 'AKB' #'10x'\n",
    "PRJ = \"mapping\""
   ]
  },
  {
   "cell_type": "markdown",
   "metadata": {},
   "source": [
    "## Input"
   ]
  },
  {
   "cell_type": "code",
   "execution_count": 5,
   "metadata": {},
   "outputs": [],
   "source": [
    "kma_fil = (\"/Volumes/tuba/herpov/tcr-pmhc-sc-project/data/\" + EXP + \"_MHC_\" + PLATFORM +\n",
    "           \"/mapping/KMA-1t1/output/mapping.clean.gz\")"
   ]
  },
  {
   "cell_type": "markdown",
   "metadata": {},
   "source": [
    "## Output"
   ]
  },
  {
   "cell_type": "code",
   "execution_count": null,
   "metadata": {},
   "outputs": [],
   "source": []
  },
  {
   "cell_type": "markdown",
   "metadata": {},
   "source": [
    "## Load data"
   ]
  },
  {
   "cell_type": "code",
   "execution_count": 6,
   "metadata": {},
   "outputs": [],
   "source": [
    "df = pd.read_csv(kma_fil)"
   ]
  },
  {
   "cell_type": "code",
   "execution_count": 7,
   "metadata": {},
   "outputs": [
    {
     "data": {
      "text/html": [
       "<div>\n",
       "<style scoped>\n",
       "    .dataframe tbody tr th:only-of-type {\n",
       "        vertical-align: middle;\n",
       "    }\n",
       "\n",
       "    .dataframe tbody tr th {\n",
       "        vertical-align: top;\n",
       "    }\n",
       "\n",
       "    .dataframe thead th {\n",
       "        text-align: right;\n",
       "    }\n",
       "</style>\n",
       "<table border=\"1\" class=\"dataframe\">\n",
       "  <thead>\n",
       "    <tr style=\"text-align: right;\">\n",
       "      <th></th>\n",
       "      <th>uncertainty</th>\n",
       "      <th>score</th>\n",
       "      <th>t_alignment_start</th>\n",
       "      <th>t_alignment_end</th>\n",
       "      <th>template_id</th>\n",
       "      <th>read_header</th>\n",
       "      <th>query_id</th>\n",
       "      <th>gem</th>\n",
       "      <th>credible_alignment</th>\n",
       "      <th>alignment_length</th>\n",
       "      <th>barcode</th>\n",
       "      <th>sample</th>\n",
       "    </tr>\n",
       "  </thead>\n",
       "  <tbody>\n",
       "    <tr>\n",
       "      <td>0</td>\n",
       "      <td>15</td>\n",
       "      <td>37</td>\n",
       "      <td>88</td>\n",
       "      <td>137</td>\n",
       "      <td>A1064B288_sample</td>\n",
       "      <td>HBBAF:02644:01966 BX:Z:TTAGGACCAACGATCT-1</td>\n",
       "      <td>HBBAF:02644:01966</td>\n",
       "      <td>TTAGGACCAACGATCT-1</td>\n",
       "      <td>False</td>\n",
       "      <td>49</td>\n",
       "      <td>A1064B288</td>\n",
       "      <td>sample</td>\n",
       "    </tr>\n",
       "    <tr>\n",
       "      <td>1</td>\n",
       "      <td>15</td>\n",
       "      <td>37</td>\n",
       "      <td>88</td>\n",
       "      <td>137</td>\n",
       "      <td>A1064B288_sample</td>\n",
       "      <td>HBBAF:00780:01765 BX:Z:TTAGGACCAACGATCT-1</td>\n",
       "      <td>HBBAF:00780:01765</td>\n",
       "      <td>TTAGGACCAACGATCT-1</td>\n",
       "      <td>False</td>\n",
       "      <td>49</td>\n",
       "      <td>A1064B288</td>\n",
       "      <td>sample</td>\n",
       "    </tr>\n",
       "    <tr>\n",
       "      <td>2</td>\n",
       "      <td>1</td>\n",
       "      <td>98</td>\n",
       "      <td>0</td>\n",
       "      <td>114</td>\n",
       "      <td>A1064B288_sample</td>\n",
       "      <td>HBBAF:03518:01259 BX:Z:GCTGCAGGTACCGCTG-1</td>\n",
       "      <td>HBBAF:03518:01259</td>\n",
       "      <td>GCTGCAGGTACCGCTG-1</td>\n",
       "      <td>True</td>\n",
       "      <td>114</td>\n",
       "      <td>A1064B288</td>\n",
       "      <td>sample</td>\n",
       "    </tr>\n",
       "    <tr>\n",
       "      <td>3</td>\n",
       "      <td>1</td>\n",
       "      <td>101</td>\n",
       "      <td>0</td>\n",
       "      <td>129</td>\n",
       "      <td>A1064B288_sample</td>\n",
       "      <td>HBBAF:03366:00950 BX:Z:GCTGCAGGTACCGCTG-1</td>\n",
       "      <td>HBBAF:03366:00950</td>\n",
       "      <td>GCTGCAGGTACCGCTG-1</td>\n",
       "      <td>True</td>\n",
       "      <td>129</td>\n",
       "      <td>A1064B288</td>\n",
       "      <td>sample</td>\n",
       "    </tr>\n",
       "    <tr>\n",
       "      <td>4</td>\n",
       "      <td>1</td>\n",
       "      <td>92</td>\n",
       "      <td>0</td>\n",
       "      <td>105</td>\n",
       "      <td>A1064B288_sample</td>\n",
       "      <td>HBBAF:03285:01256 BX:Z:GCTGCAGGTACCGCTG-1</td>\n",
       "      <td>HBBAF:03285:01256</td>\n",
       "      <td>GCTGCAGGTACCGCTG-1</td>\n",
       "      <td>True</td>\n",
       "      <td>105</td>\n",
       "      <td>A1064B288</td>\n",
       "      <td>sample</td>\n",
       "    </tr>\n",
       "    <tr>\n",
       "      <td>...</td>\n",
       "      <td>...</td>\n",
       "      <td>...</td>\n",
       "      <td>...</td>\n",
       "      <td>...</td>\n",
       "      <td>...</td>\n",
       "      <td>...</td>\n",
       "      <td>...</td>\n",
       "      <td>...</td>\n",
       "      <td>...</td>\n",
       "      <td>...</td>\n",
       "      <td>...</td>\n",
       "      <td>...</td>\n",
       "    </tr>\n",
       "    <tr>\n",
       "      <td>260414</td>\n",
       "      <td>1</td>\n",
       "      <td>70</td>\n",
       "      <td>40</td>\n",
       "      <td>141</td>\n",
       "      <td>A4000B302_sample</td>\n",
       "      <td>HBBAF:00373:00554 BX:Z:CGCGTTTTCTAACGGT-1</td>\n",
       "      <td>HBBAF:00373:00554</td>\n",
       "      <td>CGCGTTTTCTAACGGT-1</td>\n",
       "      <td>True</td>\n",
       "      <td>101</td>\n",
       "      <td>A4000B302</td>\n",
       "      <td>sample</td>\n",
       "    </tr>\n",
       "    <tr>\n",
       "      <td>260415</td>\n",
       "      <td>1</td>\n",
       "      <td>72</td>\n",
       "      <td>6</td>\n",
       "      <td>101</td>\n",
       "      <td>A4000B302_sample</td>\n",
       "      <td>HBBAF:02522:03334 BX:Z:GGCAATTAGCCATCGC-1</td>\n",
       "      <td>HBBAF:02522:03334</td>\n",
       "      <td>GGCAATTAGCCATCGC-1</td>\n",
       "      <td>True</td>\n",
       "      <td>95</td>\n",
       "      <td>A4000B302</td>\n",
       "      <td>sample</td>\n",
       "    </tr>\n",
       "    <tr>\n",
       "      <td>260416</td>\n",
       "      <td>1</td>\n",
       "      <td>113</td>\n",
       "      <td>0</td>\n",
       "      <td>138</td>\n",
       "      <td>A4000B302_sample</td>\n",
       "      <td>HBBAF:02655:02122 BX:Z:ACTTTCAAGATCCGAG-1</td>\n",
       "      <td>HBBAF:02655:02122</td>\n",
       "      <td>ACTTTCAAGATCCGAG-1</td>\n",
       "      <td>True</td>\n",
       "      <td>138</td>\n",
       "      <td>A4000B302</td>\n",
       "      <td>sample</td>\n",
       "    </tr>\n",
       "    <tr>\n",
       "      <td>260417</td>\n",
       "      <td>1</td>\n",
       "      <td>116</td>\n",
       "      <td>0</td>\n",
       "      <td>141</td>\n",
       "      <td>A4000B302_sample</td>\n",
       "      <td>HBBAF:01027:02674 BX:Z:ACTTTCAAGATCCGAG-1</td>\n",
       "      <td>HBBAF:01027:02674</td>\n",
       "      <td>ACTTTCAAGATCCGAG-1</td>\n",
       "      <td>True</td>\n",
       "      <td>141</td>\n",
       "      <td>A4000B302</td>\n",
       "      <td>sample</td>\n",
       "    </tr>\n",
       "    <tr>\n",
       "      <td>260418</td>\n",
       "      <td>1</td>\n",
       "      <td>111</td>\n",
       "      <td>0</td>\n",
       "      <td>141</td>\n",
       "      <td>A4000B302_sample</td>\n",
       "      <td>HBBAF:02062:03089 BX:Z:AAGCCGCTCGGCGGTT-1</td>\n",
       "      <td>HBBAF:02062:03089</td>\n",
       "      <td>AAGCCGCTCGGCGGTT-1</td>\n",
       "      <td>True</td>\n",
       "      <td>141</td>\n",
       "      <td>A4000B302</td>\n",
       "      <td>sample</td>\n",
       "    </tr>\n",
       "  </tbody>\n",
       "</table>\n",
       "<p>260419 rows × 12 columns</p>\n",
       "</div>"
      ],
      "text/plain": [
       "        uncertainty  score  t_alignment_start  t_alignment_end  \\\n",
       "0                15     37                 88              137   \n",
       "1                15     37                 88              137   \n",
       "2                 1     98                  0              114   \n",
       "3                 1    101                  0              129   \n",
       "4                 1     92                  0              105   \n",
       "...             ...    ...                ...              ...   \n",
       "260414            1     70                 40              141   \n",
       "260415            1     72                  6              101   \n",
       "260416            1    113                  0              138   \n",
       "260417            1    116                  0              141   \n",
       "260418            1    111                  0              141   \n",
       "\n",
       "             template_id                                read_header  \\\n",
       "0       A1064B288_sample  HBBAF:02644:01966 BX:Z:TTAGGACCAACGATCT-1   \n",
       "1       A1064B288_sample  HBBAF:00780:01765 BX:Z:TTAGGACCAACGATCT-1   \n",
       "2       A1064B288_sample  HBBAF:03518:01259 BX:Z:GCTGCAGGTACCGCTG-1   \n",
       "3       A1064B288_sample  HBBAF:03366:00950 BX:Z:GCTGCAGGTACCGCTG-1   \n",
       "4       A1064B288_sample  HBBAF:03285:01256 BX:Z:GCTGCAGGTACCGCTG-1   \n",
       "...                  ...                                        ...   \n",
       "260414  A4000B302_sample  HBBAF:00373:00554 BX:Z:CGCGTTTTCTAACGGT-1   \n",
       "260415  A4000B302_sample  HBBAF:02522:03334 BX:Z:GGCAATTAGCCATCGC-1   \n",
       "260416  A4000B302_sample  HBBAF:02655:02122 BX:Z:ACTTTCAAGATCCGAG-1   \n",
       "260417  A4000B302_sample  HBBAF:01027:02674 BX:Z:ACTTTCAAGATCCGAG-1   \n",
       "260418  A4000B302_sample  HBBAF:02062:03089 BX:Z:AAGCCGCTCGGCGGTT-1   \n",
       "\n",
       "                 query_id                 gem  credible_alignment  \\\n",
       "0       HBBAF:02644:01966  TTAGGACCAACGATCT-1               False   \n",
       "1       HBBAF:00780:01765  TTAGGACCAACGATCT-1               False   \n",
       "2       HBBAF:03518:01259  GCTGCAGGTACCGCTG-1                True   \n",
       "3       HBBAF:03366:00950  GCTGCAGGTACCGCTG-1                True   \n",
       "4       HBBAF:03285:01256  GCTGCAGGTACCGCTG-1                True   \n",
       "...                   ...                 ...                 ...   \n",
       "260414  HBBAF:00373:00554  CGCGTTTTCTAACGGT-1                True   \n",
       "260415  HBBAF:02522:03334  GGCAATTAGCCATCGC-1                True   \n",
       "260416  HBBAF:02655:02122  ACTTTCAAGATCCGAG-1                True   \n",
       "260417  HBBAF:01027:02674  ACTTTCAAGATCCGAG-1                True   \n",
       "260418  HBBAF:02062:03089  AAGCCGCTCGGCGGTT-1                True   \n",
       "\n",
       "        alignment_length    barcode  sample  \n",
       "0                     49  A1064B288  sample  \n",
       "1                     49  A1064B288  sample  \n",
       "2                    114  A1064B288  sample  \n",
       "3                    129  A1064B288  sample  \n",
       "4                    105  A1064B288  sample  \n",
       "...                  ...        ...     ...  \n",
       "260414               101  A4000B302  sample  \n",
       "260415                95  A4000B302  sample  \n",
       "260416               138  A4000B302  sample  \n",
       "260417               141  A4000B302  sample  \n",
       "260418               141  A4000B302  sample  \n",
       "\n",
       "[260419 rows x 12 columns]"
      ]
     },
     "execution_count": 7,
     "metadata": {},
     "output_type": "execute_result"
    }
   ],
   "source": [
    "df"
   ]
  },
  {
   "cell_type": "markdown",
   "metadata": {},
   "source": [
    "# Main"
   ]
  },
  {
   "cell_type": "markdown",
   "metadata": {},
   "source": [
    "## Uncertainty distribution"
   ]
  },
  {
   "cell_type": "code",
   "execution_count": 18,
   "metadata": {},
   "outputs": [
    {
     "data": {
      "image/png": "[encoded data removed]",
      "text/plain": [
       "<Figure size 432x288 with 1 Axes>"
      ]
     },
     "metadata": {},
     "output_type": "display_data"
    }
   ],
   "source": [
    "plt.bar(df.uncertainty.value_counts().index, df.uncertainty.value_counts().values)\n",
    "plt.title(\"Distribution of uncertainties in mapping\")\n",
    "plt.xlabel('Uncertainty')\n",
    "plt.ylabel('Read counts')\n",
    "plt.show()"
   ]
  },
  {
   "cell_type": "markdown",
   "metadata": {},
   "source": [
    "## Distribution of reads per template"
   ]
  },
  {
   "cell_type": "code",
   "execution_count": 38,
   "metadata": {},
   "outputs": [
    {
     "data": {
      "image/png": "[encoded data removed]",
      "text/plain": [
       "<Figure size 1440x504 with 1 Axes>"
      ]
     },
     "metadata": {},
     "output_type": "display_data"
    }
   ],
   "source": [
    "x = df.groupby('barcode').size().index\n",
    "y = df.groupby('barcode').size().values\n",
    "plt.figure(figsize=(20,7))\n",
    "plt.bar(x,y)\n",
    "plt.xlim(-0.5, len(x)-0.5)\n",
    "plt.xticks(rotation=90, fontsize=8)\n",
    "plt.xlabel(\"Barcode templates\")\n",
    "plt.ylabel(\"Read counts\")\n",
    "plt.title(\"Read counts per barcode template\")\n",
    "plt.show()"
   ]
  },
  {
   "cell_type": "code",
   "execution_count": 30,
   "metadata": {},
   "outputs": [
    {
     "data": {
      "text/plain": [
       "<BarContainer object of 8762 artists>"
      ]
     },
     "execution_count": 30,
     "metadata": {},
     "output_type": "execute_result"
    },
    {
     "data": {
      "image/png": "[encoded data removed]",
      "text/plain": [
       "<Figure size 432x288 with 1 Axes>"
      ]
     },
     "metadata": {},
     "output_type": "display_data"
    }
   ],
   "source": [
    "x = df.groupby(['gem']).query_id.unique().apply(len).index\n",
    "y = df.groupby(['gem']).query_id.unique().apply(len).values\n",
    "plt.bar(x,y)"
   ]
  },
  {
   "cell_type": "code",
   "execution_count": null,
   "metadata": {},
   "outputs": [],
   "source": [
    "x = df.groupby('barcode').gem.size().index\n",
    "y = df.groupby('barcode').gem.size().values\n",
    "plt.figure(figsize=(20,7))\n",
    "plt.bar(x,y)\n",
    "plt.xlim(-0.5, len(x)-0.5)\n",
    "plt.xticks(rotation=90, fontsize=8)\n",
    "plt.xlabel(\"Barcode templates\")\n",
    "plt.ylabel(\"Read counts\")\n",
    "plt.title(\"Read counts per barcode template\")\n",
    "plt.show()"
   ]
  },
  {
   "cell_type": "markdown",
   "metadata": {},
   "source": [
    "## Alignment"
   ]
  },
  {
   "cell_type": "code",
   "execution_count": 16,
   "metadata": {},
   "outputs": [],
   "source": [
    "data_categories = {'expected_templates':{'TSO':(0, 13, cc[3]),\n",
    "                                         'Primer_B':(13, 19, cc[0]),\n",
    "                                         'N6':(32, 6, cc[4]),\n",
    "                                         'Oligo_B':(38, 25, cc[2]),\n",
    "                                         'Anneal':(63, 25, cc[1]),\n",
    "                                         'Oligo_A':(88, 25, cc[2]),\n",
    "                                         'N6-':(113, 6, cc[4]),\n",
    "                                         'Primer_A':(119, 18, cc[0]),\n",
    "                                         'ID':(137, 8, cc[5])}}"
   ]
  },
  {
   "cell_type": "code",
   "execution_count": 34,
   "metadata": {},
   "outputs": [
    {
     "data": {
      "text/plain": [
       "(260419, 12)"
      ]
     },
     "execution_count": 34,
     "metadata": {},
     "output_type": "execute_result"
    }
   ],
   "source": [
    "df.shape"
   ]
  },
  {
   "cell_type": "code",
   "execution_count": 8,
   "metadata": {},
   "outputs": [],
   "source": [
    "df = df.head(n=3)"
   ]
  },
  {
   "cell_type": "code",
   "execution_count": 9,
   "metadata": {},
   "outputs": [
    {
     "name": "stderr",
     "output_type": "stream",
     "text": [
      "/Users/herpov/opt/anaconda3/lib/python3.7/site-packages/ipykernel_launcher.py:1: SettingWithCopyWarning: \n",
      "A value is trying to be set on a copy of a slice from a DataFrame.\n",
      "Try using .loc[row_indexer,col_indexer] = value instead\n",
      "\n",
      "See the caveats in the documentation: http://pandas.pydata.org/pandas-docs/stable/user_guide/indexing.html#returning-a-view-versus-a-copy\n",
      "  \"\"\"Entry point for launching an IPython kernel.\n"
     ]
    }
   ],
   "source": [
    "df['colors'] = df.uncertainty / df.uncertainty.max()"
   ]
  },
  {
   "cell_type": "code",
   "execution_count": 10,
   "metadata": {},
   "outputs": [
    {
     "data": {
      "text/plain": [
       "[1, 15]"
      ]
     },
     "execution_count": 10,
     "metadata": {},
     "output_type": "execute_result"
    }
   ],
   "source": [
    "sorted(df.uncertainty.unique())"
   ]
  },
  {
   "cell_type": "code",
   "execution_count": 11,
   "metadata": {},
   "outputs": [
    {
     "data": {
      "text/html": [
       "<div>\n",
       "<style scoped>\n",
       "    .dataframe tbody tr th:only-of-type {\n",
       "        vertical-align: middle;\n",
       "    }\n",
       "\n",
       "    .dataframe tbody tr th {\n",
       "        vertical-align: top;\n",
       "    }\n",
       "\n",
       "    .dataframe thead th {\n",
       "        text-align: right;\n",
       "    }\n",
       "</style>\n",
       "<table border=\"1\" class=\"dataframe\">\n",
       "  <thead>\n",
       "    <tr style=\"text-align: right;\">\n",
       "      <th></th>\n",
       "      <th>uncertainty</th>\n",
       "      <th>score</th>\n",
       "      <th>t_alignment_start</th>\n",
       "      <th>t_alignment_end</th>\n",
       "      <th>template_id</th>\n",
       "      <th>read_header</th>\n",
       "      <th>query_id</th>\n",
       "      <th>gem</th>\n",
       "      <th>credible_alignment</th>\n",
       "      <th>alignment_length</th>\n",
       "      <th>barcode</th>\n",
       "      <th>sample</th>\n",
       "      <th>colors</th>\n",
       "    </tr>\n",
       "  </thead>\n",
       "  <tbody>\n",
       "    <tr>\n",
       "      <td>0</td>\n",
       "      <td>15</td>\n",
       "      <td>37</td>\n",
       "      <td>88</td>\n",
       "      <td>137</td>\n",
       "      <td>A1064B288_sample</td>\n",
       "      <td>HBBAF:02644:01966 BX:Z:TTAGGACCAACGATCT-1</td>\n",
       "      <td>HBBAF:02644:01966</td>\n",
       "      <td>TTAGGACCAACGATCT-1</td>\n",
       "      <td>False</td>\n",
       "      <td>49</td>\n",
       "      <td>A1064B288</td>\n",
       "      <td>sample</td>\n",
       "      <td>1.000000</td>\n",
       "    </tr>\n",
       "    <tr>\n",
       "      <td>1</td>\n",
       "      <td>15</td>\n",
       "      <td>37</td>\n",
       "      <td>88</td>\n",
       "      <td>137</td>\n",
       "      <td>A1064B288_sample</td>\n",
       "      <td>HBBAF:00780:01765 BX:Z:TTAGGACCAACGATCT-1</td>\n",
       "      <td>HBBAF:00780:01765</td>\n",
       "      <td>TTAGGACCAACGATCT-1</td>\n",
       "      <td>False</td>\n",
       "      <td>49</td>\n",
       "      <td>A1064B288</td>\n",
       "      <td>sample</td>\n",
       "      <td>1.000000</td>\n",
       "    </tr>\n",
       "    <tr>\n",
       "      <td>2</td>\n",
       "      <td>1</td>\n",
       "      <td>98</td>\n",
       "      <td>0</td>\n",
       "      <td>114</td>\n",
       "      <td>A1064B288_sample</td>\n",
       "      <td>HBBAF:03518:01259 BX:Z:GCTGCAGGTACCGCTG-1</td>\n",
       "      <td>HBBAF:03518:01259</td>\n",
       "      <td>GCTGCAGGTACCGCTG-1</td>\n",
       "      <td>True</td>\n",
       "      <td>114</td>\n",
       "      <td>A1064B288</td>\n",
       "      <td>sample</td>\n",
       "      <td>0.066667</td>\n",
       "    </tr>\n",
       "  </tbody>\n",
       "</table>\n",
       "</div>"
      ],
      "text/plain": [
       "   uncertainty  score  t_alignment_start  t_alignment_end       template_id  \\\n",
       "0           15     37                 88              137  A1064B288_sample   \n",
       "1           15     37                 88              137  A1064B288_sample   \n",
       "2            1     98                  0              114  A1064B288_sample   \n",
       "\n",
       "                                 read_header           query_id  \\\n",
       "0  HBBAF:02644:01966 BX:Z:TTAGGACCAACGATCT-1  HBBAF:02644:01966   \n",
       "1  HBBAF:00780:01765 BX:Z:TTAGGACCAACGATCT-1  HBBAF:00780:01765   \n",
       "2  HBBAF:03518:01259 BX:Z:GCTGCAGGTACCGCTG-1  HBBAF:03518:01259   \n",
       "\n",
       "                  gem  credible_alignment  alignment_length    barcode  \\\n",
       "0  TTAGGACCAACGATCT-1               False                49  A1064B288   \n",
       "1  TTAGGACCAACGATCT-1               False                49  A1064B288   \n",
       "2  GCTGCAGGTACCGCTG-1                True               114  A1064B288   \n",
       "\n",
       "   sample    colors  \n",
       "0  sample  1.000000  \n",
       "1  sample  1.000000  \n",
       "2  sample  0.066667  "
      ]
     },
     "execution_count": 11,
     "metadata": {},
     "output_type": "execute_result"
    }
   ],
   "source": [
    "df"
   ]
  },
  {
   "cell_type": "code",
   "execution_count": 12,
   "metadata": {},
   "outputs": [],
   "source": [
    "plt.rcParams[\"axes.prop_cycle\"] = plt.cycler(\"color\", plt.cm.viridis(np.linspace(0,1,2)))"
   ]
  },
  {
   "cell_type": "code",
   "execution_count": 13,
   "metadata": {},
   "outputs": [],
   "source": [
    "cc2 = plt.rcParams['axes.prop_cycle'].by_key()['color']"
   ]
  },
  {
   "cell_type": "code",
   "execution_count": 14,
   "metadata": {},
   "outputs": [
    {
     "data": {
      "text/plain": [
       "[array([0.267004, 0.004874, 0.329415, 1.      ]),\n",
       " array([0.993248, 0.906157, 0.143936, 1.      ])]"
      ]
     },
     "execution_count": 14,
     "metadata": {},
     "output_type": "execute_result"
    }
   ],
   "source": [
    "cc2"
   ]
  },
  {
   "cell_type": "code",
   "execution_count": 63,
   "metadata": {},
   "outputs": [
    {
     "name": "stdout",
     "output_type": "stream",
     "text": [
      "TSO (0, 13, '#777777')\n",
      "Primer_B (13, 19, '#E24A33')\n",
      "N6 (32, 6, '#FBC15E')\n",
      "Oligo_B (38, 25, '#988ED5')\n",
      "Anneal (63, 25, '#348ABD')\n",
      "Oligo_A (88, 25, '#988ED5')\n",
      "N6- (113, 6, '#FBC15E')\n",
      "Primer_A (119, 18, '#E24A33')\n",
      "ID (137, 8, '#8EBA42')\n"
     ]
    },
    {
     "data": {
      "image/png": "[encoded data removed]",
      "text/plain": [
       "<Figure size 1008x432 with 3 Axes>"
      ]
     },
     "metadata": {},
     "output_type": "display_data"
    }
   ],
   "source": [
    "for data_category in data_categories:\n",
    "    \n",
    "    ################################################################################################################\n",
    "    ###                                                PLOTTING                                                  ###\n",
    "    ################################################################################################################\n",
    "    \n",
    "\n",
    "    # Plot\n",
    "    title = \"Alignment positions\"\n",
    "    # Set up the axes with gridspec\n",
    "    fig = plt.figure(figsize=(14, 6))\n",
    "    grid = plt.GridSpec(2, 1, hspace=0.25, height_ratios=[10,1])\n",
    "    # Main\n",
    "    main_ax = plt.subplot(grid[0, 0])\n",
    "    \n",
    "    for i, u in enumerate(sorted(df.uncertainty.unique())):\n",
    "        main = plt.plot([df[df.uncertainty == u].t_alignment_start.to_list(), df[df.uncertainty == u].t_alignment_end.to_list()],\n",
    "                        [df[df.uncertainty == u].score.to_list(),df[df.uncertainty == u].score.to_list()],\n",
    "                        '.-', linewidth=0.2, c=cc2[i])\n",
    "        #plt.scatter([], [], c=cc2[i], label=\"%i\" %i)\n",
    "    main = plt.xlim(-3,149) # Variable!\n",
    "    main = plt.xlabel(\"Alignment positions in template\")\n",
    "    main = plt.ylabel(\"Alignment positions in query\")\n",
    "    main = plt.title(title)\n",
    "    # Add colorbar\n",
    "    sm = plt.cm.ScalarMappable(cmap='viridis', norm=plt.Normalize(vmin=1, vmax=df.uncertainty.max()))\n",
    "    cbaxes = fig.add_axes([0.9, 0.27, 0.01, 0.61]) #[x-pos,y-pos,width]\n",
    "    cbar = plt.colorbar(sm, cax = cbaxes) #pad=-0.0005\n",
    "    cbar.set_ticks(df.uncertainty.values)\n",
    "    cbar.set_ticklabels(df.uncertainty.values)\n",
    "    cbar.ax.set_ylabel('# of equally likely template matches', rotation=90) #270\n",
    "    # Add legend\n",
    "    #plt.legend(scatterpoints=1, frameon=False, labelspacing=1, title='No. matches', bbox_to_anchor=(1.005, 0.5), loc='center left') #, borderaxespad=0.\n",
    "    # Subs\n",
    "    subs_ax = plt.subplot(grid[1, 0], yticklabels=[], yticks=[], sharex=main_ax)\n",
    "    # Add template design\n",
    "    for k, v in data_categories[data_category].items():\n",
    "        print(k,v)\n",
    "        # Create a Rectangle patch\n",
    "        rect = patches.Rectangle((v[0],0),v[1],1, fill=True, color=v[2]) #linewidth=1,edgecolor='r',facecolor='none'\n",
    "        subs_ax.add_patch(rect)\n",
    "        # Add text\n",
    "        block = \" \".join(k.split(\"_\")).split(\"-\")[0]\n",
    "        txt = subs_ax.text(v[1]/2.0+v[0], 0.5, block, horizontalalignment='center', verticalalignment='center', color='white',\n",
    "                           size=15, weight='heavy')\n",
    "        txt.set_path_effects([PathEffects.withStroke(linewidth=0.5, foreground='black')])       \n",
    "\n",
    "    #plt.savefig(FIG_DIR + \"_\".join(title.split(\" \")) + \"_\" + data_category + \".png\", bbox_inches='tight')\n",
    "    plt.show()"
   ]
  },
  {
   "cell_type": "code",
   "execution_count": null,
   "metadata": {},
   "outputs": [],
   "source": []
  }
 ],
 "metadata": {
  "kernelspec": {
   "display_name": "Python 3",
   "language": "python",
   "name": "python3"
  },
  "language_info": {
   "codemirror_mode": {
    "name": "ipython",
    "version": 3
   },
   "file_extension": ".py",
   "mimetype": "text/x-python",
   "name": "python",
   "nbconvert_exporter": "python",
   "pygments_lexer": "ipython3",
   "version": "3.7.4"
  }
 },
 "nbformat": 4,
 "nbformat_minor": 2
}
