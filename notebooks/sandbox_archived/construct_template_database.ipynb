{
 "cells": [
  {
   "cell_type": "code",
   "execution_count": 1,
   "metadata": {},
   "outputs": [
    {
     "ename": "ModuleNotFoundError",
     "evalue": "No module named 'Bio'",
     "output_type": "error",
     "traceback": [
      "\u001b[0;31m---------------------------------------------------------------------------\u001b[0m",
      "\u001b[0;31mModuleNotFoundError\u001b[0m                       Traceback (most recent call last)",
      "\u001b[0;32m<ipython-input-1-186cfc73df14>\u001b[0m in \u001b[0;36m<module>\u001b[0;34m\u001b[0m\n\u001b[1;32m      2\u001b[0m \u001b[0;32mimport\u001b[0m \u001b[0mpandas\u001b[0m \u001b[0;32mas\u001b[0m \u001b[0mpd\u001b[0m\u001b[0;34m\u001b[0m\u001b[0;34m\u001b[0m\u001b[0m\n\u001b[1;32m      3\u001b[0m \u001b[0;34m\u001b[0m\u001b[0m\n\u001b[0;32m----> 4\u001b[0;31m \u001b[0;32mfrom\u001b[0m \u001b[0mBio\u001b[0m \u001b[0;32mimport\u001b[0m \u001b[0mSeqIO\u001b[0m\u001b[0;34m\u001b[0m\u001b[0;34m\u001b[0m\u001b[0m\n\u001b[0m\u001b[1;32m      5\u001b[0m \u001b[0;32mfrom\u001b[0m \u001b[0mBio\u001b[0m\u001b[0;34m.\u001b[0m\u001b[0mSeq\u001b[0m \u001b[0;32mimport\u001b[0m \u001b[0mSeq\u001b[0m\u001b[0;34m\u001b[0m\u001b[0;34m\u001b[0m\u001b[0m\n\u001b[1;32m      6\u001b[0m \u001b[0;32mfrom\u001b[0m \u001b[0mBio\u001b[0m\u001b[0;34m.\u001b[0m\u001b[0mSeqRecord\u001b[0m \u001b[0;32mimport\u001b[0m \u001b[0mSeqRecord\u001b[0m\u001b[0;34m\u001b[0m\u001b[0;34m\u001b[0m\u001b[0m\n",
      "\u001b[0;31mModuleNotFoundError\u001b[0m: No module named 'Bio'"
     ]
    }
   ],
   "source": [
    "import numpy as np\n",
    "import pandas as pd\n",
    "\n",
    "from Bio import SeqIO\n",
    "from Bio.Seq import Seq\n",
    "from Bio.SeqRecord import SeqRecord"
   ]
  },
  {
   "cell_type": "code",
   "execution_count": 124,
   "metadata": {},
   "outputs": [],
   "source": [
    "transtable = str.maketrans(\"ACTG\",\"TGAC\")"
   ]
  },
  {
   "cell_type": "markdown",
   "metadata": {},
   "source": [
    "# Doc string"
   ]
  },
  {
   "cell_type": "code",
   "execution_count": 125,
   "metadata": {},
   "outputs": [
    {
     "data": {
      "text/plain": [
       "'\\nConstruct a database of all possible reads from the different combinations of oligo A, oligo B, primers, and samples\\n'"
      ]
     },
     "execution_count": 125,
     "metadata": {},
     "output_type": "execute_result"
    }
   ],
   "source": [
    "\"\"\"\n",
    "Construct a database of all possible reads from the different combinations of oligo A, oligo B, primers, and samples\n",
    "\"\"\""
   ]
  },
  {
   "cell_type": "markdown",
   "metadata": {},
   "source": [
    "# Args\n",
    "TSO, PRIMER_R4, B_OLIGO are same sense as iontorrent seq data\n",
    "\n",
    "\n",
    "ANNEAL, A_OLIGO, PRIMER_P1 are negative sense of seq data"
   ]
  },
  {
   "cell_type": "code",
   "execution_count": 169,
   "metadata": {},
   "outputs": [],
   "source": [
    "EXP = \"exp5_MHC_ILLUMINA\""
   ]
  },
  {
   "cell_type": "markdown",
   "metadata": {},
   "source": [
    "## Amalies design"
   ]
  },
  {
   "cell_type": "code",
   "execution_count": 170,
   "metadata": {},
   "outputs": [],
   "source": [
    "N6 = \"NNNNNN\"\n",
    "TSO = \"TTTCTTATATGGG\"\n",
    "PRIMER_R4 = \"CGAGTACCATGGGCGTAAC\"\n",
    "ANNEAL = \"GTGTGACCTTCCCCAAAAGGCGTAG\".translate(transtable)[::-1]\n",
    "PRIMER_P1_MHC = \"GAAGTTCCAGCCAGCGTC\".translate(transtable)[::-1] # Used only for MHC barcodes\n",
    "PRIMER_P1_CD8 = \"GTAAAAGATCCCAGGTTTCATC\".translate(transtable)[::-1] # Used only for CD8 barcodes\n",
    "CD8_BARCODE = \"A4000\""
   ]
  },
  {
   "cell_type": "markdown",
   "metadata": {},
   "source": [
    "## 10x design # CITEseq\n",
    "https://citeseq.files.wordpress.com/2018/11/eccite_schemes.pdf\n",
    "reads are as illustrated in top sequences."
   ]
  },
  {
   "cell_type": "code",
   "execution_count": 171,
   "metadata": {},
   "outputs": [],
   "source": [
    "TSO = \"TTTCTTATATGGG\"\n",
    "FREE_END_MHC = \"TGGAATTCTCGGGTGCCAAGGAACTCCAGTCAC\" #ADT cDNA additive primer + extra anneal seq\n",
    "FREE_END_CD8 = \"GTGACTGGAGTTCAGACGTGTGCTCTTCCGATCT\".translate(transtable)[::-1] #HTO cDNA additive primer \n",
    "P7 = \"ATCTCGTATGCCGTCTTCTGCTTG\"\n",
    "i7_MHC = \"CGTGAT\".translate(transtable)[::-1]\n",
    "i7_CD8 = \"CGAGTAAT\".translate(transtable)[::-1]\n",
    "CDB_BARCODE_ID_10x = \"HASH\""
   ]
  },
  {
   "cell_type": "code",
   "execution_count": 172,
   "metadata": {},
   "outputs": [],
   "source": [
    "# i7_MHC = \"CAAGCAGAAGACGGCATACGAGATCGTGATGTGACTGGAGTTCCTTGGCACCCGAGAATTCCA\".translate(transtable)[::-1] # Almost full seq of the end of final read given by Amalie \n",
    "# i7_CD8 = \"CAAGCAGAAGACGGCATACGAGATCGAGTAATGTGACTGGAGTTCAGACGTGTGC\".translate(transtable)[::-1] # Almost full seq of the end of final read given by Amalie "
   ]
  },
  {
   "cell_type": "code",
   "execution_count": 173,
   "metadata": {},
   "outputs": [
    {
     "name": "stdout",
     "output_type": "stream",
     "text": [
      "CCTCGCCTCAAC\n",
      "GATCCGAGACAA\n",
      "GTTACGCGACAT\n"
     ]
    }
   ],
   "source": [
    "# Barcodes\n",
    "print('GTTGAGGCGAGG'.translate(transtable)[::-1])\n",
    "print('TTGTCTCGGATC'.translate(transtable)[::-1])\n",
    "print('ATGTCGCGTAAC'.translate(transtable)[::-1])"
   ]
  },
  {
   "cell_type": "markdown",
   "metadata": {},
   "source": [
    "# Load data"
   ]
  },
  {
   "cell_type": "code",
   "execution_count": 174,
   "metadata": {},
   "outputs": [],
   "source": [
    "BARCODE_SETUP = \"/Volumes/tuba/herpov/tcr-pmhc-sc-project/data/\" + EXP + \"/barcode_library/oligo.lst\""
   ]
  },
  {
   "cell_type": "code",
   "execution_count": 175,
   "metadata": {},
   "outputs": [],
   "source": [
    "OLIGO_10x = \"../data/\" + EXP + \"/barcode_library/oligo_10x.fa\"\n",
    "OLIGO_A_SEQS = \"../data/\" + EXP + \"/barcode_library/oligo_a.fa\"\n",
    "OLIGO_B_SEQS = \"../data/\" + EXP + \"/barcode_library/oligo_b.fa\"\n",
    "SAMPLE_SEQS = \"../data/\" + EXP + \"/barcode_library/sample.fa\"\n",
    "#OVERREP_SEQS = \"../data/\" + EXP + \"/fastqc/IONTORRENT.R1.gems.no_umi.no_adapters_fastqc/overrepresented_sequences.txt\""
   ]
  },
  {
   "cell_type": "markdown",
   "metadata": {},
   "source": [
    "## Output files"
   ]
  },
  {
   "cell_type": "code",
   "execution_count": 176,
   "metadata": {},
   "outputs": [],
   "source": [
    "BARCODE_TEMPLATES = \"../data/\" + EXP + \"/barcode_library/barcode_templates.fa\""
   ]
  },
  {
   "cell_type": "code",
   "execution_count": 177,
   "metadata": {},
   "outputs": [],
   "source": [
    "#EXPECTED_TEMPLATES = \"../data/\" + EXP + \"/blast/expected_templates/templates.fa\"\n",
    "#REVERSED_TEMPLATES = \"../data/\" + EXP + \"/blast/reversed_templates/templates.fa\"\n",
    "#REV_TEMPLATES_START = \"../data/\" + EXP + \"/blast/rev_templates_start/templates.fa\"\n",
    "#OVERREP_SEQ_TEMPLATES = \"../data/\" + EXP + \"/blast/overrep_seq_templates/templates.fa\""
   ]
  },
  {
   "cell_type": "markdown",
   "metadata": {},
   "source": [
    "# Import data"
   ]
  },
  {
   "cell_type": "code",
   "execution_count": 178,
   "metadata": {},
   "outputs": [],
   "source": [
    "oligos = np.loadtxt(BARCODE_SETUP, dtype='str')\n",
    "oligos = set(oligos)"
   ]
  },
  {
   "cell_type": "code",
   "execution_count": 179,
   "metadata": {},
   "outputs": [
    {
     "data": {
      "text/plain": [
       "{'A1064',\n",
       " 'A1065',\n",
       " 'A1066',\n",
       " 'A4000',\n",
       " 'ADT_5000',\n",
       " 'ADT_5001',\n",
       " 'ADT_5002',\n",
       " 'B288',\n",
       " 'B290',\n",
       " 'HASH_5003',\n",
       " 'HASH_5004'}"
      ]
     },
     "execution_count": 179,
     "metadata": {},
     "output_type": "execute_result"
    }
   ],
   "source": [
    "oligos"
   ]
  },
  {
   "cell_type": "code",
   "execution_count": 180,
   "metadata": {},
   "outputs": [],
   "source": [
    "oligo_a_records = list()\n",
    "for record in SeqIO.parse(OLIGO_A_SEQS, \"fasta\"):\n",
    "    if record.id.split('-')[-1] in oligos:\n",
    "        record.seq = record.seq.reverse_complement()\n",
    "        oligo_a_records.append(record)"
   ]
  },
  {
   "cell_type": "code",
   "execution_count": 181,
   "metadata": {},
   "outputs": [],
   "source": [
    "oligo_b_records = list()\n",
    "for record in SeqIO.parse(OLIGO_B_SEQS, \"fasta\"):\n",
    "    if record.id.split('-')[-1] in oligos:\n",
    "        oligo_b_records.append(record)"
   ]
  },
  {
   "cell_type": "code",
   "execution_count": 182,
   "metadata": {},
   "outputs": [],
   "source": [
    "sample_records = list()\n",
    "for record in SeqIO.parse(SAMPLE_SEQS, \"fasta\"):\n",
    "    if record.id.split('-')[-1] in oligos:\n",
    "        record.seq = record.seq.reverse_complement()\n",
    "        sample_records.append(record)"
   ]
  },
  {
   "cell_type": "code",
   "execution_count": 183,
   "metadata": {},
   "outputs": [],
   "source": [
    "oligo_10x_records = list()\n",
    "for record in SeqIO.parse(OLIGO_10x, \"fasta\"):\n",
    "    if record.id.split('-')[-1] in oligos:\n",
    "        record.seq = record.seq.reverse_complement()\n",
    "        oligo_10x_records.append(record)"
   ]
  },
  {
   "cell_type": "markdown",
   "metadata": {},
   "source": [
    "# Construct templates\n",
    "We will exclude sample IDs since they pollute the annotations"
   ]
  },
  {
   "cell_type": "code",
   "execution_count": 186,
   "metadata": {},
   "outputs": [],
   "source": [
    "template_records = list()"
   ]
  },
  {
   "cell_type": "code",
   "execution_count": 187,
   "metadata": {},
   "outputs": [
    {
     "name": "stdout",
     "output_type": "stream",
     "text": [
      ">A1064B288 <unknown description>\n",
      "TTTCTTATATGGGCGAGTACCATGGGCGTAACNNNNNNCTTGGCAATCCATGCTCCCATT\n",
      "TGGCTACGCCTTTTGGGGAAGGTCACACTTGTCATAAGGAGATAGCTACTACGNNNNNNG\n",
      "ACGCTGGCTGGAACTTC\n",
      "\n",
      ">A1065B288 <unknown description>\n",
      "TTTCTTATATGGGCGAGTACCATGGGCGTAACNNNNNNCTTGGCAATCCATGCTCCCATT\n",
      "TGGCTACGCCTTTTGGGGAAGGTCACACCGGTAGTTACTTGCACTTTGCGGTCNNNNNNG\n",
      "ACGCTGGCTGGAACTTC\n",
      "\n",
      ">A1066B288 <unknown description>\n",
      "TTTCTTATATGGGCGAGTACCATGGGCGTAACNNNNNNCTTGGCAATCCATGCTCCCATT\n",
      "TGGCTACGCCTTTTGGGGAAGGTCACACGCTTGCAGGCAGATAATAACAAGCGNNNNNNG\n",
      "ACGCTGGCTGGAACTTC\n",
      "\n",
      ">A4000B288 <unknown description>\n",
      "TTTCTTATATGGGCGAGTACCATGGGCGTAACNNNNNNCTTGGCAATCCATGCTCCCATT\n",
      "TGGCTACGCCTTTTGGGGAAGGTCACACGGTTATCAAGGTCCTATACCCGCAGNNNNNNG\n",
      "ATGAAACCTGGGATCTTTTAC\n",
      "\n",
      ">A4000B290 <unknown description>\n",
      "TTTCTTATATGGGCGAGTACCATGGGCGTAACNNNNNNGCCTGTAGTCCCACGCGATCTA\n",
      "ACACTACGCCTTTTGGGGAAGGTCACACGGTTATCAAGGTCCTATACCCGCAGNNNNNNG\n",
      "ATGAAACCTGGGATCTTTTAC\n",
      "\n"
     ]
    }
   ],
   "source": [
    "for oligo_a_record in oligo_a_records:\n",
    "    if oligo_a_record.id.endswith(CD8_BARCODE):\n",
    "        primer_p1 = PRIMER_P1_CD8\n",
    "    else:\n",
    "        primer_p1 = PRIMER_P1_MHC           \n",
    "    for oligo_b_record in oligo_b_records:\n",
    "        if oligo_b_record.id.split(\"-\")[-1] == 'B290' and oligo_a_record.id.split(\"-\")[-1] != 'A4000':\n",
    "            continue\n",
    "        #for sample_record in sample_records:\n",
    "        template_seq = Seq(TSO + PRIMER_R4 + N6) + oligo_b_record.seq + Seq(ANNEAL) + oligo_a_record.seq + Seq(N6 + primer_p1) #+ sample_record.seq\n",
    "        template_id = oligo_a_record.id.split(\"-\")[-1] + oligo_b_record.id.split(\"-\")[-1] #+ \"_\" + sample_record.id\n",
    "        template_records.append(SeqRecord(template_seq, id=template_id))\n",
    "        print(SeqRecord(template_seq, id=template_id).format(\"fasta\"))"
   ]
  },
  {
   "cell_type": "code",
   "execution_count": 188,
   "metadata": {},
   "outputs": [
    {
     "name": "stdout",
     "output_type": "stream",
     "text": [
      ">ADT_5000 <unknown description>\n",
      "TTTCTTATATGGGCCTCGCCTCAACTGGAATTCTCGGGTGCCAAGGAACTCCAGTCACAT\n",
      "CACGATCTCGTATGCCGTCTTCTGCTTG\n",
      "\n",
      ">ADT_5001 <unknown description>\n",
      "TTTCTTATATGGGGATCCGAGACAATGGAATTCTCGGGTGCCAAGGAACTCCAGTCACAT\n",
      "CACGATCTCGTATGCCGTCTTCTGCTTG\n",
      "\n",
      ">ADT_5002 <unknown description>\n",
      "TTTCTTATATGGGGTTACGCGACATTGGAATTCTCGGGTGCCAAGGAACTCCAGTCACAT\n",
      "CACGATCTCGTATGCCGTCTTCTGCTTG\n",
      "\n",
      ">HASH_5003 <unknown description>\n",
      "TTTCTTATATGGGAGTAGTTCCTGTAGATCGGAAGAGCACACGTCTGAACTCCAGTCACA\n",
      "TTACTCGATCTCGTATGCCGTCTTCTGCTTG\n",
      "\n",
      ">HASH_5004 <unknown description>\n",
      "TTTCTTATATGGGATTAGGTCTCGCAGATCGGAAGAGCACACGTCTGAACTCCAGTCACA\n",
      "TTACTCGATCTCGTATGCCGTCTTCTGCTTG\n",
      "\n"
     ]
    }
   ],
   "source": [
    "for oligo in oligo_10x_records:\n",
    "    if oligo.id.startswith(CDB_BARCODE_ID_10x):\n",
    "        free_end = FREE_END_CD8\n",
    "        i7 = i7_CD8\n",
    "    else:\n",
    "        free_end = FREE_END_MHC\n",
    "        i7 = i7_MHC\n",
    "        \n",
    "    template_seq = Seq(TSO) + oligo.seq + Seq(free_end + i7 + P7)\n",
    "    template_id = oligo.id\n",
    "    template_records.append(SeqRecord(template_seq, id=template_id))\n",
    "    print(SeqRecord(template_seq, id=template_id).format(\"fasta\"))"
   ]
  },
  {
   "cell_type": "code",
   "execution_count": 189,
   "metadata": {},
   "outputs": [
    {
     "data": {
      "text/plain": [
       "10"
      ]
     },
     "execution_count": 189,
     "metadata": {},
     "output_type": "execute_result"
    }
   ],
   "source": [
    "SeqIO.write(template_records, BARCODE_TEMPLATES, \"fasta\")"
   ]
  },
  {
   "cell_type": "code",
   "execution_count": 16,
   "metadata": {},
   "outputs": [
    {
     "data": {
      "text/plain": [
       "135"
      ]
     },
     "execution_count": 16,
     "metadata": {},
     "output_type": "execute_result"
    }
   ],
   "source": [
    "#SeqIO.write(template_records, EXPECTED_TEMPLATES, \"fasta\")"
   ]
  },
  {
   "cell_type": "markdown",
   "metadata": {},
   "source": [
    "# Import erroneous data"
   ]
  },
  {
   "cell_type": "code",
   "execution_count": 10,
   "metadata": {},
   "outputs": [],
   "source": [
    "oligo_a_records = list()\n",
    "for record in SeqIO.parse(OLIGO_A_SEQS, \"fasta\"):\n",
    "    oligo_a_records.append(record)"
   ]
  },
  {
   "cell_type": "code",
   "execution_count": 11,
   "metadata": {},
   "outputs": [],
   "source": [
    "oligo_b_records = list()\n",
    "for record in SeqIO.parse(OLIGO_B_SEQS, \"fasta\"):\n",
    "    record.seq = record.seq.reverse_complement()\n",
    "    oligo_b_records.append(record)"
   ]
  },
  {
   "cell_type": "code",
   "execution_count": 12,
   "metadata": {},
   "outputs": [],
   "source": [
    "sample_records = list()\n",
    "for record in SeqIO.parse(SAMPLE_SEQS, \"fasta\"):\n",
    "    sample_records.append(record)"
   ]
  },
  {
   "cell_type": "code",
   "execution_count": null,
   "metadata": {},
   "outputs": [],
   "source": [
    "acc2seq = dict()\n",
    "overrep_acc = dict()\n",
    "\n",
    "with open(OVERREP_SEQS) as fh:\n",
    "    for line in fh:\n",
    "        if line.startswith(\">>\") or line.startswith(\"#\"):\n",
    "            continue\n",
    "        \n",
    "        fields = line.strip().split(\"\\t\")\n",
    "        \n",
    "        if len(fields) < 4:\n",
    "            continue\n",
    "            \n",
    "        seq = fields[0]\n",
    "        acc = fields[3].split(\" \")[-1][1:-1]\n",
    "        \n",
    "        if acc in overrep_acc:\n",
    "            overrep_acc[acc] += 1\n",
    "        else:\n",
    "            overrep_acc[acc] = 1\n",
    "            \n",
    "        acc2seq[acc + \"_\" + str(overrep_acc[acc])] = seq\n",
    "        \n",
    "acc2seq"
   ]
  },
  {
   "cell_type": "markdown",
   "metadata": {},
   "source": [
    "# Construct erroneous templates"
   ]
  },
  {
   "cell_type": "markdown",
   "metadata": {},
   "source": [
    "## Reversed template start"
   ]
  },
  {
   "cell_type": "code",
   "execution_count": null,
   "metadata": {},
   "outputs": [],
   "source": [
    "template_records = list()\n",
    "for primer_p1 in [PRIMER_P1_MHC, PRIMER_P1_CD8]:\n",
    "    template_seq = Seq(TSO + primer_p1.translate(transtable)[::-1])\n",
    "    template_id = \"TSO+PRIMER_A\"\n",
    "    template_records.append(SeqRecord(template_seq, id=template_id))\n",
    "    \n",
    "    for sample_record in sample_records:\n",
    "        template_seq = Seq(TSO) + sample_record.seq + Seq(primer_p1)\n",
    "        template_id = \"TSO_\" + sample_record.id + \"_PRIMER_A\"\n",
    "        template_records.append(SeqRecord(template_seq, id=template_id))"
   ]
  },
  {
   "cell_type": "code",
   "execution_count": null,
   "metadata": {},
   "outputs": [],
   "source": [
    "SeqIO.write(template_records, REV_TEMPLATES_START, \"fasta\")"
   ]
  },
  {
   "cell_type": "markdown",
   "metadata": {},
   "source": [
    "## Reversed template (whole)"
   ]
  },
  {
   "cell_type": "code",
   "execution_count": 13,
   "metadata": {},
   "outputs": [],
   "source": [
    "template_records = list()\n",
    "for oligo_a_record in oligo_a_records:\n",
    "    if oligo_a_record.id.endswith(CD8_BARCODE):\n",
    "        primer_p1 = PRIMER_P1_CD8\n",
    "    else:\n",
    "        primer_p1 = PRIMER_P1_MHC           \n",
    "    for oligo_b_record in oligo_b_records:\n",
    "        for sample_record in sample_records:\n",
    "            template_seq = Seq(TSO) + sample_record.seq + Seq(primer_p1 + N6) + oligo_a_record.seq + Seq(ANNEAL.translate(transtable)[::-1]) + oligo_b_record.seq + Seq(N6 + PRIMER_R4)\n",
    "            template_id = oligo_a_record.id.split(\"-\")[-1] + oligo_b_record.id.split(\"-\")[-1] + \"_\" + sample_record.id\n",
    "            template_records.append(SeqRecord(template_seq, id=template_id))"
   ]
  },
  {
   "cell_type": "code",
   "execution_count": 14,
   "metadata": {},
   "outputs": [
    {
     "data": {
      "text/plain": [
       "675"
      ]
     },
     "execution_count": 14,
     "metadata": {},
     "output_type": "execute_result"
    }
   ],
   "source": [
    "SeqIO.write(template_records, REVERSED_TEMPLATES, \"fasta\")"
   ]
  },
  {
   "cell_type": "markdown",
   "metadata": {},
   "source": [
    "## Overrepresented sequences as templates"
   ]
  },
  {
   "cell_type": "code",
   "execution_count": null,
   "metadata": {},
   "outputs": [],
   "source": [
    "template_records = list()\n",
    "for acc, seq in acc2seq.items():\n",
    "    template_seq = Seq(seq)\n",
    "    template_id = acc\n",
    "    template_records.append(SeqRecord(template_seq, id=template_id))"
   ]
  },
  {
   "cell_type": "code",
   "execution_count": null,
   "metadata": {},
   "outputs": [],
   "source": [
    "SeqIO.write(template_records, OVERREP_SEQ_TEMPLATES, \"fasta\")"
   ]
  },
  {
   "cell_type": "code",
   "execution_count": null,
   "metadata": {},
   "outputs": [],
   "source": []
  }
 ],
 "metadata": {
  "kernelspec": {
   "display_name": "Python 3",
   "language": "python",
   "name": "python3"
  },
  "language_info": {
   "codemirror_mode": {
    "name": "ipython",
    "version": 3
   },
   "file_extension": ".py",
   "mimetype": "text/x-python",
   "name": "python",
   "nbconvert_exporter": "python",
   "pygments_lexer": "ipython3",
   "version": "3.7.4"
  }
 },
 "nbformat": 4,
 "nbformat_minor": 2
}
