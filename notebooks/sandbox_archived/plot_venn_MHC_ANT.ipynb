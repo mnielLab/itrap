{
 "cells": [
  {
   "cell_type": "code",
   "execution_count": 1,
   "metadata": {},
   "outputs": [],
   "source": [
    "import numpy as np\n",
    "import pandas as pd\n",
    "import matplotlib.pyplot as plt\n",
    "from matplotlib_venn import venn3\n",
    "from matplotlib_venn import venn2"
   ]
  },
  {
   "cell_type": "markdown",
   "metadata": {},
   "source": [
    "# Args"
   ]
  },
  {
   "cell_type": "code",
   "execution_count": 2,
   "metadata": {},
   "outputs": [],
   "source": [
    "PLATFORM = \"IONTORRENT\"\n",
    "EXP = \"exp6\"\n",
    "MAPPING = 'KMA' # BLAST\n",
    "BARCODE_SYSTEM = 'AKB' #'10x'"
   ]
  },
  {
   "cell_type": "markdown",
   "metadata": {},
   "source": [
    "# Input"
   ]
  },
  {
   "cell_type": "code",
   "execution_count": 3,
   "metadata": {},
   "outputs": [],
   "source": [
    "IN_FIL = (\"/Volumes/tuba/herpov/tcr-pmhc-sc-project/data/\" + EXP + \"_MHC_\" + PLATFORM +\n",
    "          \"/mapping/KMA-1t1/output/mapping.clean.\" + BARCODE_SYSTEM + \".augmented.gz\")"
   ]
  },
  {
   "cell_type": "markdown",
   "metadata": {},
   "source": [
    "# Load"
   ]
  },
  {
   "cell_type": "code",
   "execution_count": 4,
   "metadata": {},
   "outputs": [],
   "source": [
    "df = pd.read_csv(IN_FIL, sep=\"\\t\")"
   ]
  },
  {
   "cell_type": "code",
   "execution_count": 5,
   "metadata": {},
   "outputs": [
    {
     "data": {
      "text/html": [
       "<div>\n",
       "<style scoped>\n",
       "    .dataframe tbody tr th:only-of-type {\n",
       "        vertical-align: middle;\n",
       "    }\n",
       "\n",
       "    .dataframe tbody tr th {\n",
       "        vertical-align: top;\n",
       "    }\n",
       "\n",
       "    .dataframe thead th {\n",
       "        text-align: right;\n",
       "    }\n",
       "</style>\n",
       "<table border=\"1\" class=\"dataframe\">\n",
       "  <thead>\n",
       "    <tr style=\"text-align: right;\">\n",
       "      <th></th>\n",
       "      <th>gem</th>\n",
       "      <th>credible_alignment_mhc</th>\n",
       "      <th>credible_alignment_cd8</th>\n",
       "      <th>template_id_mhc</th>\n",
       "      <th>read_counts_mhc</th>\n",
       "      <th>read_count_diff_mhc</th>\n",
       "      <th>single_barcode_mhc</th>\n",
       "      <th>read_counts_lst_mhc</th>\n",
       "      <th>template_lst_mhc</th>\n",
       "      <th>template_id_cd8</th>\n",
       "      <th>...</th>\n",
       "      <th>peptide</th>\n",
       "      <th>HLA</th>\n",
       "      <th>epitope</th>\n",
       "      <th>epitope_lst</th>\n",
       "      <th>Unnamed: 21</th>\n",
       "      <th>ADIR</th>\n",
       "      <th>HA-1</th>\n",
       "      <th>HA-2</th>\n",
       "      <th>v14</th>\n",
       "      <th>v15</th>\n",
       "    </tr>\n",
       "  </thead>\n",
       "  <tbody>\n",
       "    <tr>\n",
       "      <td>0</td>\n",
       "      <td>AAACCTGCAGGAACGT-1</td>\n",
       "      <td>True</td>\n",
       "      <td>NaN</td>\n",
       "      <td>A1068B288_sample</td>\n",
       "      <td>1.0</td>\n",
       "      <td>1.0</td>\n",
       "      <td>True</td>\n",
       "      <td>[1]</td>\n",
       "      <td>['A1068B288_sample']</td>\n",
       "      <td>NaN</td>\n",
       "      <td>...</td>\n",
       "      <td>SVAPALALFPA</td>\n",
       "      <td>A0201</td>\n",
       "      <td>ADIR</td>\n",
       "      <td>['ADIR']</td>\n",
       "      <td>NaN</td>\n",
       "      <td>1.0</td>\n",
       "      <td>NaN</td>\n",
       "      <td>NaN</td>\n",
       "      <td>NaN</td>\n",
       "      <td>NaN</td>\n",
       "    </tr>\n",
       "    <tr>\n",
       "      <td>1</td>\n",
       "      <td>AAACCTGTCTGCGGCA-1</td>\n",
       "      <td>True</td>\n",
       "      <td>NaN</td>\n",
       "      <td>A1068B288_sample</td>\n",
       "      <td>1.0</td>\n",
       "      <td>1.0</td>\n",
       "      <td>True</td>\n",
       "      <td>[1]</td>\n",
       "      <td>['A1068B288_sample']</td>\n",
       "      <td>NaN</td>\n",
       "      <td>...</td>\n",
       "      <td>SVAPALALFPA</td>\n",
       "      <td>A0201</td>\n",
       "      <td>ADIR</td>\n",
       "      <td>['ADIR']</td>\n",
       "      <td>NaN</td>\n",
       "      <td>1.0</td>\n",
       "      <td>NaN</td>\n",
       "      <td>NaN</td>\n",
       "      <td>NaN</td>\n",
       "      <td>NaN</td>\n",
       "    </tr>\n",
       "    <tr>\n",
       "      <td>2</td>\n",
       "      <td>AAACGGGAGGGAACGG-1</td>\n",
       "      <td>True</td>\n",
       "      <td>NaN</td>\n",
       "      <td>A1068B288_sample</td>\n",
       "      <td>454.0</td>\n",
       "      <td>1.0</td>\n",
       "      <td>True</td>\n",
       "      <td>[454]</td>\n",
       "      <td>['A1068B288_sample']</td>\n",
       "      <td>NaN</td>\n",
       "      <td>...</td>\n",
       "      <td>SVAPALALFPA</td>\n",
       "      <td>A0201</td>\n",
       "      <td>ADIR</td>\n",
       "      <td>['ADIR']</td>\n",
       "      <td>NaN</td>\n",
       "      <td>454.0</td>\n",
       "      <td>NaN</td>\n",
       "      <td>NaN</td>\n",
       "      <td>NaN</td>\n",
       "      <td>NaN</td>\n",
       "    </tr>\n",
       "    <tr>\n",
       "      <td>3</td>\n",
       "      <td>AAACGGGTCTAAGCCA-1</td>\n",
       "      <td>True</td>\n",
       "      <td>NaN</td>\n",
       "      <td>A1064B288_sample</td>\n",
       "      <td>1.0</td>\n",
       "      <td>1.0</td>\n",
       "      <td>True</td>\n",
       "      <td>[1]</td>\n",
       "      <td>['A1064B288_sample']</td>\n",
       "      <td>NaN</td>\n",
       "      <td>...</td>\n",
       "      <td>VTEHDTLLY</td>\n",
       "      <td>A0101</td>\n",
       "      <td>v15</td>\n",
       "      <td>['v15']</td>\n",
       "      <td>NaN</td>\n",
       "      <td>NaN</td>\n",
       "      <td>NaN</td>\n",
       "      <td>NaN</td>\n",
       "      <td>NaN</td>\n",
       "      <td>1.0</td>\n",
       "    </tr>\n",
       "    <tr>\n",
       "      <td>4</td>\n",
       "      <td>AAAGATGAGGCTACGA-1</td>\n",
       "      <td>True</td>\n",
       "      <td>NaN</td>\n",
       "      <td>A1069B288_sample</td>\n",
       "      <td>1.0</td>\n",
       "      <td>1.0</td>\n",
       "      <td>True</td>\n",
       "      <td>[1]</td>\n",
       "      <td>['A1069B288_sample']</td>\n",
       "      <td>NaN</td>\n",
       "      <td>...</td>\n",
       "      <td>NaN</td>\n",
       "      <td>NaN</td>\n",
       "      <td>NaN</td>\n",
       "      <td>[nan]</td>\n",
       "      <td>1.0</td>\n",
       "      <td>NaN</td>\n",
       "      <td>NaN</td>\n",
       "      <td>NaN</td>\n",
       "      <td>NaN</td>\n",
       "      <td>NaN</td>\n",
       "    </tr>\n",
       "    <tr>\n",
       "      <td>...</td>\n",
       "      <td>...</td>\n",
       "      <td>...</td>\n",
       "      <td>...</td>\n",
       "      <td>...</td>\n",
       "      <td>...</td>\n",
       "      <td>...</td>\n",
       "      <td>...</td>\n",
       "      <td>...</td>\n",
       "      <td>...</td>\n",
       "      <td>...</td>\n",
       "      <td>...</td>\n",
       "      <td>...</td>\n",
       "      <td>...</td>\n",
       "      <td>...</td>\n",
       "      <td>...</td>\n",
       "      <td>...</td>\n",
       "      <td>...</td>\n",
       "      <td>...</td>\n",
       "      <td>...</td>\n",
       "      <td>...</td>\n",
       "      <td>...</td>\n",
       "    </tr>\n",
       "    <tr>\n",
       "      <td>1401</td>\n",
       "      <td>TTTACTGGTAAACGCG-1</td>\n",
       "      <td>NaN</td>\n",
       "      <td>True</td>\n",
       "      <td>NaN</td>\n",
       "      <td>NaN</td>\n",
       "      <td>NaN</td>\n",
       "      <td>NaN</td>\n",
       "      <td>NaN</td>\n",
       "      <td>NaN</td>\n",
       "      <td>A4000B289_sample</td>\n",
       "      <td>...</td>\n",
       "      <td>NaN</td>\n",
       "      <td>NaN</td>\n",
       "      <td>NaN</td>\n",
       "      <td>NaN</td>\n",
       "      <td>NaN</td>\n",
       "      <td>NaN</td>\n",
       "      <td>NaN</td>\n",
       "      <td>NaN</td>\n",
       "      <td>NaN</td>\n",
       "      <td>NaN</td>\n",
       "    </tr>\n",
       "    <tr>\n",
       "      <td>1402</td>\n",
       "      <td>TTTATGCAGTGCAGAC-1</td>\n",
       "      <td>NaN</td>\n",
       "      <td>True</td>\n",
       "      <td>NaN</td>\n",
       "      <td>NaN</td>\n",
       "      <td>NaN</td>\n",
       "      <td>NaN</td>\n",
       "      <td>NaN</td>\n",
       "      <td>NaN</td>\n",
       "      <td>A4000B288_sample</td>\n",
       "      <td>...</td>\n",
       "      <td>NaN</td>\n",
       "      <td>NaN</td>\n",
       "      <td>NaN</td>\n",
       "      <td>NaN</td>\n",
       "      <td>NaN</td>\n",
       "      <td>NaN</td>\n",
       "      <td>NaN</td>\n",
       "      <td>NaN</td>\n",
       "      <td>NaN</td>\n",
       "      <td>NaN</td>\n",
       "    </tr>\n",
       "    <tr>\n",
       "      <td>1403</td>\n",
       "      <td>TTTCCTCCAAACCCAT-1</td>\n",
       "      <td>NaN</td>\n",
       "      <td>True</td>\n",
       "      <td>NaN</td>\n",
       "      <td>NaN</td>\n",
       "      <td>NaN</td>\n",
       "      <td>NaN</td>\n",
       "      <td>NaN</td>\n",
       "      <td>NaN</td>\n",
       "      <td>A4000B295_sample</td>\n",
       "      <td>...</td>\n",
       "      <td>NaN</td>\n",
       "      <td>NaN</td>\n",
       "      <td>NaN</td>\n",
       "      <td>NaN</td>\n",
       "      <td>NaN</td>\n",
       "      <td>NaN</td>\n",
       "      <td>NaN</td>\n",
       "      <td>NaN</td>\n",
       "      <td>NaN</td>\n",
       "      <td>NaN</td>\n",
       "    </tr>\n",
       "    <tr>\n",
       "      <td>1404</td>\n",
       "      <td>TTTGGTTGTCCAGTGC-1</td>\n",
       "      <td>NaN</td>\n",
       "      <td>True</td>\n",
       "      <td>NaN</td>\n",
       "      <td>NaN</td>\n",
       "      <td>NaN</td>\n",
       "      <td>NaN</td>\n",
       "      <td>NaN</td>\n",
       "      <td>NaN</td>\n",
       "      <td>A4000B297_sample</td>\n",
       "      <td>...</td>\n",
       "      <td>NaN</td>\n",
       "      <td>NaN</td>\n",
       "      <td>NaN</td>\n",
       "      <td>NaN</td>\n",
       "      <td>NaN</td>\n",
       "      <td>NaN</td>\n",
       "      <td>NaN</td>\n",
       "      <td>NaN</td>\n",
       "      <td>NaN</td>\n",
       "      <td>NaN</td>\n",
       "    </tr>\n",
       "    <tr>\n",
       "      <td>1405</td>\n",
       "      <td>TTTGTCACATGCGCAC-1</td>\n",
       "      <td>NaN</td>\n",
       "      <td>True</td>\n",
       "      <td>NaN</td>\n",
       "      <td>NaN</td>\n",
       "      <td>NaN</td>\n",
       "      <td>NaN</td>\n",
       "      <td>NaN</td>\n",
       "      <td>NaN</td>\n",
       "      <td>A4000B294_sample</td>\n",
       "      <td>...</td>\n",
       "      <td>NaN</td>\n",
       "      <td>NaN</td>\n",
       "      <td>NaN</td>\n",
       "      <td>NaN</td>\n",
       "      <td>NaN</td>\n",
       "      <td>NaN</td>\n",
       "      <td>NaN</td>\n",
       "      <td>NaN</td>\n",
       "      <td>NaN</td>\n",
       "      <td>NaN</td>\n",
       "    </tr>\n",
       "  </tbody>\n",
       "</table>\n",
       "<p>1406 rows × 27 columns</p>\n",
       "</div>"
      ],
      "text/plain": [
       "                     gem credible_alignment_mhc credible_alignment_cd8  \\\n",
       "0     AAACCTGCAGGAACGT-1                   True                    NaN   \n",
       "1     AAACCTGTCTGCGGCA-1                   True                    NaN   \n",
       "2     AAACGGGAGGGAACGG-1                   True                    NaN   \n",
       "3     AAACGGGTCTAAGCCA-1                   True                    NaN   \n",
       "4     AAAGATGAGGCTACGA-1                   True                    NaN   \n",
       "...                  ...                    ...                    ...   \n",
       "1401  TTTACTGGTAAACGCG-1                    NaN                   True   \n",
       "1402  TTTATGCAGTGCAGAC-1                    NaN                   True   \n",
       "1403  TTTCCTCCAAACCCAT-1                    NaN                   True   \n",
       "1404  TTTGGTTGTCCAGTGC-1                    NaN                   True   \n",
       "1405  TTTGTCACATGCGCAC-1                    NaN                   True   \n",
       "\n",
       "       template_id_mhc  read_counts_mhc  read_count_diff_mhc  \\\n",
       "0     A1068B288_sample              1.0                  1.0   \n",
       "1     A1068B288_sample              1.0                  1.0   \n",
       "2     A1068B288_sample            454.0                  1.0   \n",
       "3     A1064B288_sample              1.0                  1.0   \n",
       "4     A1069B288_sample              1.0                  1.0   \n",
       "...                ...              ...                  ...   \n",
       "1401               NaN              NaN                  NaN   \n",
       "1402               NaN              NaN                  NaN   \n",
       "1403               NaN              NaN                  NaN   \n",
       "1404               NaN              NaN                  NaN   \n",
       "1405               NaN              NaN                  NaN   \n",
       "\n",
       "     single_barcode_mhc read_counts_lst_mhc      template_lst_mhc  \\\n",
       "0                  True                 [1]  ['A1068B288_sample']   \n",
       "1                  True                 [1]  ['A1068B288_sample']   \n",
       "2                  True               [454]  ['A1068B288_sample']   \n",
       "3                  True                 [1]  ['A1064B288_sample']   \n",
       "4                  True                 [1]  ['A1069B288_sample']   \n",
       "...                 ...                 ...                   ...   \n",
       "1401                NaN                 NaN                   NaN   \n",
       "1402                NaN                 NaN                   NaN   \n",
       "1403                NaN                 NaN                   NaN   \n",
       "1404                NaN                 NaN                   NaN   \n",
       "1405                NaN                 NaN                   NaN   \n",
       "\n",
       "       template_id_cd8  ...      peptide    HLA epitope epitope_lst  \\\n",
       "0                  NaN  ...  SVAPALALFPA  A0201    ADIR    ['ADIR']   \n",
       "1                  NaN  ...  SVAPALALFPA  A0201    ADIR    ['ADIR']   \n",
       "2                  NaN  ...  SVAPALALFPA  A0201    ADIR    ['ADIR']   \n",
       "3                  NaN  ...    VTEHDTLLY  A0101     v15     ['v15']   \n",
       "4                  NaN  ...          NaN    NaN     NaN       [nan]   \n",
       "...                ...  ...          ...    ...     ...         ...   \n",
       "1401  A4000B289_sample  ...          NaN    NaN     NaN         NaN   \n",
       "1402  A4000B288_sample  ...          NaN    NaN     NaN         NaN   \n",
       "1403  A4000B295_sample  ...          NaN    NaN     NaN         NaN   \n",
       "1404  A4000B297_sample  ...          NaN    NaN     NaN         NaN   \n",
       "1405  A4000B294_sample  ...          NaN    NaN     NaN         NaN   \n",
       "\n",
       "     Unnamed: 21   ADIR  HA-1 HA-2 v14  v15  \n",
       "0            NaN    1.0   NaN  NaN NaN  NaN  \n",
       "1            NaN    1.0   NaN  NaN NaN  NaN  \n",
       "2            NaN  454.0   NaN  NaN NaN  NaN  \n",
       "3            NaN    NaN   NaN  NaN NaN  1.0  \n",
       "4            1.0    NaN   NaN  NaN NaN  NaN  \n",
       "...          ...    ...   ...  ...  ..  ...  \n",
       "1401         NaN    NaN   NaN  NaN NaN  NaN  \n",
       "1402         NaN    NaN   NaN  NaN NaN  NaN  \n",
       "1403         NaN    NaN   NaN  NaN NaN  NaN  \n",
       "1404         NaN    NaN   NaN  NaN NaN  NaN  \n",
       "1405         NaN    NaN   NaN  NaN NaN  NaN  \n",
       "\n",
       "[1406 rows x 27 columns]"
      ]
     },
     "execution_count": 5,
     "metadata": {},
     "output_type": "execute_result"
    }
   ],
   "source": [
    "df"
   ]
  },
  {
   "cell_type": "code",
   "execution_count": 6,
   "metadata": {},
   "outputs": [],
   "source": [
    "gem_mhc = df[df.template_id_mhc.notnull()].gem\n",
    "gem_cd8 = df[df.template_id_cd8.notnull()].gem"
   ]
  },
  {
   "cell_type": "code",
   "execution_count": 7,
   "metadata": {},
   "outputs": [
    {
     "data": {
      "image/png": "[encoded data removed]",
      "text/plain": [
       "<Figure size 432x288 with 1 Axes>"
      ]
     },
     "metadata": {},
     "output_type": "display_data"
    }
   ],
   "source": [
    "a, b = set(gem_mhc), set(gem_cd8)\n",
    "\n",
    "ab = len(a.intersection(b))\n",
    "a_b = len(a) - ab\n",
    "b_a = len(b) - ab\n",
    "\n",
    "title = \"Intersection of MHC-Antibody GEMs\"\n",
    "venn2(subsets = (a_b, b_a, ab), set_labels = ('MHC', 'antibody'))\n",
    "#title = a_tit + \" & \" + tit\n",
    "plt.title(title)\n",
    "#plt.savefig(FIG_SUND + \"v%i.%i.raw.pdf\" %(version, name), bbox_inches='tight')\n",
    "plt.show()"
   ]
  },
  {
   "cell_type": "code",
   "execution_count": 8,
   "metadata": {},
   "outputs": [
    {
     "data": {
      "text/plain": [
       "gem                 template_id_mhc   template_id_cd8 \n",
       "AACCGCGCAAGCCATT-1  A1068B288_sample  A4000B288_sample    1\n",
       "AACTCTTAGCAATCTC-1  A1069B288_sample  A4000B290_sample    1\n",
       "ACATGGTTCTTGCATT-1  A1065B288_sample  A4000B295_sample    1\n",
       "ACGAGCCCAAAGCAAT-1  A1068B288_sample  A4000B302_sample    1\n",
       "ACTTACTGTCGAACAG-1  A1067B288_sample  A4000B288_sample    1\n",
       "AGCATACCATAGACTC-1  A1069B288_sample  A4000B302_sample    1\n",
       "AGCTCTCTCTGCGGCA-1  A1068B288_sample  A4000B298_sample    1\n",
       "AGGTCATTCACGCATA-1  A1065B288_sample  A4000B295_sample    1\n",
       "CACAAACTCTGGCGAC-1  A1064B288_sample  A4000B291_sample    1\n",
       "CAGCTAAAGGGATCTG-1  A1066B288_sample  A4000B288_sample    1\n",
       "CATCGAATCACATACG-1  A1064B288_sample  A4000B302_sample    1\n",
       "CGGACTGAGTTGAGTA-1  A1069B288_sample  A4000B290_sample    1\n",
       "CTAGTGAAGCACCGCT-1  A1065B288_sample  A4000B293_sample    1\n",
       "CTCACACAGCGTGTCC-1  A1068B288_sample  A4000B290_sample    1\n",
       "CTTAACTTCACATGCA-1  A1064B288_sample  A4000B300_sample    1\n",
       "GCATACATCTCGAGTA-1  A1069B288_sample  A4000B294_sample    1\n",
       "GCTCCTAAGAAACCTA-1  A1067B288_sample  A4000B288_sample    1\n",
       "GGCAATTGTTGGTAAA-1  A1067B288_sample  A4000B288_sample    1\n",
       "GGCTGGTTCTGCTGCT-1  A1067B288_sample  A4000B288_sample    1\n",
       "GGGTCTGAGAGAACAG-1  A1064B288_sample  A4000B298_sample    1\n",
       "GTCTTCGAGCTAACAA-1  A1069B288_sample  A4000B293_sample    1\n",
       "TAGACCAGTTCCTCCA-1  A1068B288_sample  A4000B302_sample    1\n",
       "TAGTGGTCAAATCCGT-1  A1067B288_sample  A4000B288_sample    1\n",
       "TCAGATGCAATCACAC-1  A1066B288_sample  A4000B290_sample    1\n",
       "TCATTTGAGGAGTTGC-1  A1066B288_sample  A4000B288_sample    1\n",
       "TCGTAGAAGCTAGTGG-1  A1068B288_sample  A4000B302_sample    1\n",
       "TCTTCGGGTATATGGA-1  A1067B288_sample  A4000B301_sample    1\n",
       "dtype: int64"
      ]
     },
     "execution_count": 8,
     "metadata": {},
     "output_type": "execute_result"
    }
   ],
   "source": [
    "df.groupby(['gem','template_id_mhc','template_id_cd8']).size()"
   ]
  },
  {
   "cell_type": "code",
   "execution_count": 11,
   "metadata": {},
   "outputs": [],
   "source": [
    "df.groupby(['gem','template_id_mhc']).read_counts_mhc.apply(np.array).to_frame().to_csv(\"mhc_read_counts.csv\")"
   ]
  },
  {
   "cell_type": "code",
   "execution_count": 12,
   "metadata": {},
   "outputs": [],
   "source": [
    "df.groupby(['gem','template_id_cd8']).read_counts_cd8.apply(np.array).to_frame().to_csv(\"cd8_read_counts.csv\")"
   ]
  },
  {
   "cell_type": "code",
   "execution_count": 14,
   "metadata": {},
   "outputs": [],
   "source": [
    "df.groupby(['template_id_mhc', 'template_id_cd8']).gem.size().to_frame().to_csv(\"gems_per_combination.csv\")"
   ]
  },
  {
   "cell_type": "code",
   "execution_count": 17,
   "metadata": {},
   "outputs": [],
   "source": [
    "df.groupby('template_id_mhc').gem.size().to_frame().to_csv(\"mhc_gem_counts.csv\")"
   ]
  },
  {
   "cell_type": "code",
   "execution_count": 18,
   "metadata": {},
   "outputs": [],
   "source": [
    "df.groupby('template_id_cd8').gem.size().to_frame().to_csv(\"cd8_gem_counts.csv\")"
   ]
  },
  {
   "cell_type": "code",
   "execution_count": 13,
   "metadata": {},
   "outputs": [
    {
     "data": {
      "text/plain": [
       "gem                 template_id_mhc \n",
       "AAACCTGCAGGAACGT-1  A1068B288_sample    1\n",
       "AAACCTGTCTGCGGCA-1  A1068B288_sample    1\n",
       "AAACGGGAGGGAACGG-1  A1068B288_sample    1\n",
       "AAACGGGTCTAAGCCA-1  A1064B288_sample    1\n",
       "AAAGATGAGGCTACGA-1  A1069B288_sample    1\n",
       "                                       ..\n",
       "TTTGCGCGTTTGACTG-1  A1069B288_sample    1\n",
       "TTTGCGCGTTTGAGCT-1  A1069B288_sample    1\n",
       "TTTGGTTCACATCCAA-1  A1069B288_sample    1\n",
       "TTTGGTTGTAAACGCG-1  A1068B288_sample    1\n",
       "TTTGGTTTCTTTACGT-1  A1068B288_sample    1\n",
       "Length: 959, dtype: int64"
      ]
     },
     "execution_count": 13,
     "metadata": {},
     "output_type": "execute_result"
    }
   ],
   "source": [
    "df.groupby(['gem','template_id_mhc']).size()"
   ]
  },
  {
   "cell_type": "code",
   "execution_count": 15,
   "metadata": {},
   "outputs": [
    {
     "data": {
      "text/plain": [
       "474"
      ]
     },
     "execution_count": 15,
     "metadata": {},
     "output_type": "execute_result"
    }
   ],
   "source": [
    "df.groupby(['gem','template_id_cd8']).size().sum()"
   ]
  },
  {
   "cell_type": "code",
   "execution_count": 27,
   "metadata": {},
   "outputs": [
    {
     "data": {
      "text/plain": [
       "1406"
      ]
     },
     "execution_count": 27,
     "metadata": {},
     "output_type": "execute_result"
    }
   ],
   "source": [
    "df.groupby(['gem']).template_lst_mhc.apply(len).sum()"
   ]
  },
  {
   "cell_type": "code",
   "execution_count": 18,
   "metadata": {},
   "outputs": [
    {
     "data": {
      "text/plain": [
       "Index(['gem', 'credible_alignment_mhc', 'credible_alignment_cd8',\n",
       "       'template_id_mhc', 'read_counts_mhc', 'read_count_diff_mhc',\n",
       "       'single_barcode_mhc', 'read_counts_lst_mhc', 'template_lst_mhc',\n",
       "       'template_id_cd8', 'read_counts_cd8', 'read_count_diff_cd8',\n",
       "       'single_barcode_cd8', 'read_counts_lst_cd8', 'template_lst_cd8',\n",
       "       'detected_response', 'peptide_assayed', 'peptide', 'HLA', 'epitope',\n",
       "       'epitope_lst', 'Unnamed: 21', 'ADIR', 'HA-1', 'HA-2', 'v14', 'v15'],\n",
       "      dtype='object')"
      ]
     },
     "execution_count": 18,
     "metadata": {},
     "output_type": "execute_result"
    }
   ],
   "source": [
    "df.columns"
   ]
  },
  {
   "cell_type": "code",
   "execution_count": null,
   "metadata": {},
   "outputs": [],
   "source": []
  }
 ],
 "metadata": {
  "kernelspec": {
   "display_name": "Python 3",
   "language": "python",
   "name": "python3"
  },
  "language_info": {
   "codemirror_mode": {
    "name": "ipython",
    "version": 3
   },
   "file_extension": ".py",
   "mimetype": "text/x-python",
   "name": "python",
   "nbconvert_exporter": "python",
   "pygments_lexer": "ipython3",
   "version": "3.7.4"
  }
 },
 "nbformat": 4,
 "nbformat_minor": 2
}
