{
 "cells": [
  {
   "cell_type": "code",
   "execution_count": 1,
   "metadata": {},
   "outputs": [],
   "source": [
    "import numpy as np\n",
    "import pandas as pd\n",
    "import matplotlib.pyplot as plt"
   ]
  },
  {
   "cell_type": "code",
   "execution_count": 2,
   "metadata": {},
   "outputs": [],
   "source": [
    "plt.style.use('ggplot')"
   ]
  },
  {
   "cell_type": "code",
   "execution_count": 11,
   "metadata": {},
   "outputs": [],
   "source": [
    "from ipynb.fs.full.D_plot_specificity_matrix_utils import epitope_sorter_index"
   ]
  },
  {
   "cell_type": "markdown",
   "metadata": {},
   "source": [
    "# Args"
   ]
  },
  {
   "cell_type": "code",
   "execution_count": 3,
   "metadata": {},
   "outputs": [],
   "source": [
    "EXP = \"exp3\"\n",
    "PLATFORM = \"IONTORRENT\""
   ]
  },
  {
   "cell_type": "code",
   "execution_count": 4,
   "metadata": {},
   "outputs": [],
   "source": [
    "MAPPING = 'BLAST' # BLAST\n",
    "BARCODE_SYSTEM = 'AKB' #'AKB' #"
   ]
  },
  {
   "cell_type": "markdown",
   "metadata": {},
   "source": [
    "## Input"
   ]
  },
  {
   "cell_type": "code",
   "execution_count": 5,
   "metadata": {},
   "outputs": [],
   "source": [
    "IN_FILE = (\"/Volumes/tuba/herpov/tcr-pmhc-sc-project/data/\" +\n",
    "           EXP + \"_CAT_\" + PLATFORM + \"_\" + MAPPING + \"_\" + BARCODE_SYSTEM +\n",
    "           \"/tables/tcr_barcode.clean.csv\")"
   ]
  },
  {
   "cell_type": "markdown",
   "metadata": {},
   "source": [
    "## Output"
   ]
  },
  {
   "cell_type": "code",
   "execution_count": 6,
   "metadata": {},
   "outputs": [],
   "source": [
    "OUT_DIR = (\"/Volumes/tuba/herpov/tcr-pmhc-sc-project/data/\" +\n",
    "           EXP + \"_CAT_\" + PLATFORM + \"_\" + MAPPING + \"_\" + BARCODE_SYSTEM + \"/similarity_assessment/\")"
   ]
  },
  {
   "cell_type": "code",
   "execution_count": null,
   "metadata": {},
   "outputs": [],
   "source": []
  },
  {
   "cell_type": "code",
   "execution_count": 6,
   "metadata": {},
   "outputs": [],
   "source": [
    "all_on_all_alpha = OUT_DIR + \"m1.all.a.txt\"\n",
    "all_on_all_beta = OUT_DIR + \"m1.all.b.txt\""
   ]
  },
  {
   "cell_type": "code",
   "execution_count": 7,
   "metadata": {},
   "outputs": [],
   "source": [
    "tcr_sim_per_peptide = OUT_DIR + \"m2.txt\""
   ]
  },
  {
   "cell_type": "code",
   "execution_count": 8,
   "metadata": {},
   "outputs": [],
   "source": [
    "peptide_multiple = OUT_DIR + \"m3.multiple.txt\""
   ]
  },
  {
   "cell_type": "code",
   "execution_count": 9,
   "metadata": {},
   "outputs": [],
   "source": [
    "peptide_singlet = OUT_DIR + \"m3.singlet.txt\""
   ]
  },
  {
   "cell_type": "markdown",
   "metadata": {},
   "source": [
    "# Import input data"
   ]
  },
  {
   "cell_type": "code",
   "execution_count": 16,
   "metadata": {},
   "outputs": [],
   "source": [
    "df = pd.read_csv(IN_FILE, usecols=['gem', 'clonotype', 'cdr3_TRA', 'cdr3_TRB', 'epitope', 'peptide'])"
   ]
  },
  {
   "cell_type": "markdown",
   "metadata": {},
   "source": [
    "# Main"
   ]
  },
  {
   "cell_type": "markdown",
   "metadata": {},
   "source": [
    "Remove GEMs with unpaired TCR chains"
   ]
  },
  {
   "cell_type": "code",
   "execution_count": 18,
   "metadata": {},
   "outputs": [],
   "source": [
    "df.replace({'cdr3_TRA': \"\", 'cdr3_TRB': \"\"}, np.nan, inplace=True)\n",
    "df.dropna(subset=(['cdr3_TRA', 'cdr3_TRB']), inplace=True)"
   ]
  },
  {
   "cell_type": "markdown",
   "metadata": {},
   "source": [
    "Sort according to plots"
   ]
  },
  {
   "cell_type": "code",
   "execution_count": 19,
   "metadata": {},
   "outputs": [],
   "source": [
    "df['epitope_rank'] = epitope_sorter_index(df)\n",
    "df.sort_values(by=['epitope_rank', 'clonotype'], inplace=True)\n",
    "df.reset_index(drop=True, inplace=True)"
   ]
  },
  {
   "cell_type": "markdown",
   "metadata": {},
   "source": [
    "Write temporary file"
   ]
  },
  {
   "cell_type": "code",
   "execution_count": 56,
   "metadata": {},
   "outputs": [],
   "source": [
    "matrix = {'A': df[['gem','cdr3_TRA']].copy(), 'B': df[['gem','cdr3_TRB']].copy()}"
   ]
  },
  {
   "cell_type": "code",
   "execution_count": null,
   "metadata": {},
   "outputs": [],
   "source": [
    "np.savetxt('tmp_A2', np.array([df.cdr3_TRA]), fmt='%s')\n",
    "np.savetxt('tmp_B2', np.array([df.cdr3_TRB]), fmt='%s')"
   ]
  },
  {
   "cell_type": "code",
   "execution_count": 38,
   "metadata": {},
   "outputs": [
    {
     "name": "stdout",
     "output_type": "stream",
     "text": [
      "['CAVRSAYSGAGSYQLTF']\n"
     ]
    }
   ],
   "source": [
    "for index, row in df.iterrows(): #\n",
    "\n",
    "    tcr = row.clonotype\n",
    "    \n",
    "    # assert that each clonotype only contains a single combination of TRA and TRB\n",
    "    assert df[df.clonotype==tcr].groupby(['cdr3_TRA', 'cdr3_TRB']).size().values.shape == (1,), \"clonotype was annotated with multiple cdr3 chains\"\n",
    "\n",
    "    for chain in ['A', 'B']:\n",
    "        F1 = 'tmp_%s1' %chain\n",
    "        F2 = 'tmp_%s2' %chain\n",
    "        cdr3_name = 'cdr3_TR%s' %chain\n",
    "        \n",
    "        np.savetxt(F1, np.array([row[cdr3_name]]), fmt='%s') #np.savetxt('tmp_A1', np.array([row.cdr3_TRA]), fmt='%s')\n",
    "        \n",
    "        sim_df = run_cmd(cmd)\n",
    "        \n",
    "        assert sim_df.shape[0] == matrix['chain'].shape[0], \"The sizes do not match\"\n",
    "        assert sim_df.seq1.unique()[0] == row[cdr3_name], \"The tested sequence does not match the CDR3 sequence\"\n",
    "        \n",
    "\n",
    "        matrix['chain'] = pd.concat([matrix['chain'], sim_df[['similarity']]])\n",
    "        assert df.shape[0] == matrix['chain'].shape[0], \"The sizes do not match\"\n",
    "        \n",
    "        matrix['chain'].rename(columns={'similarity': row.gem}, inplace=True)\n",
    "        \n",
    "    \n",
    "    \n",
    "    break\n",
    "\n",
    "matrix['A'].set_index(['gem'], inplace=True)\n",
    "matrix['B'].set_index(['gem'], inplace=True)\n",
    "\n",
    "matrix_C = matrix['A'].add(matrix['B'])\n",
    "\n",
    "matrix_C.to_csv(OUT_DIR + 'MC.csv', index=True) # GEMs are indexes, thus DO write index to file"
   ]
  },
  {
   "cell_type": "markdown",
   "metadata": {},
   "source": [
    "OBS! Remove all tmp files when script is done!"
   ]
  },
  {
   "cell_type": "code",
   "execution_count": 64,
   "metadata": {},
   "outputs": [],
   "source": [
    "df1 = pd.DataFrame([('A',2),('B',4),('C',6)], columns=['a','b'])\n",
    "df2 = pd.DataFrame([('D',20),('D',40),('D',60)], columns=['a','b'])\n",
    "df_add = df1.add(df2, fill_value=0)"
   ]
  },
  {
   "cell_type": "code",
   "execution_count": 62,
   "metadata": {},
   "outputs": [
    {
     "data": {
      "text/html": [
       "<div>\n",
       "<style scoped>\n",
       "    .dataframe tbody tr th:only-of-type {\n",
       "        vertical-align: middle;\n",
       "    }\n",
       "\n",
       "    .dataframe tbody tr th {\n",
       "        vertical-align: top;\n",
       "    }\n",
       "\n",
       "    .dataframe thead th {\n",
       "        text-align: right;\n",
       "    }\n",
       "</style>\n",
       "<table border=\"1\" class=\"dataframe\">\n",
       "  <thead>\n",
       "    <tr style=\"text-align: right;\">\n",
       "      <th></th>\n",
       "      <th>a</th>\n",
       "      <th>b</th>\n",
       "    </tr>\n",
       "  </thead>\n",
       "  <tbody>\n",
       "    <tr>\n",
       "      <th>0</th>\n",
       "      <td>AD</td>\n",
       "      <td>22</td>\n",
       "    </tr>\n",
       "    <tr>\n",
       "      <th>1</th>\n",
       "      <td>BD</td>\n",
       "      <td>44</td>\n",
       "    </tr>\n",
       "    <tr>\n",
       "      <th>2</th>\n",
       "      <td>CD</td>\n",
       "      <td>66</td>\n",
       "    </tr>\n",
       "  </tbody>\n",
       "</table>\n",
       "</div>"
      ],
      "text/plain": [
       "    a   b\n",
       "0  AD  22\n",
       "1  BD  44\n",
       "2  CD  66"
      ]
     },
     "execution_count": 62,
     "metadata": {},
     "output_type": "execute_result"
    }
   ],
   "source": [
    "df_add"
   ]
  },
  {
   "cell_type": "code",
   "execution_count": 14,
   "metadata": {},
   "outputs": [
    {
     "data": {
      "text/plain": [
       "epitope  cdr3_TRA          \n",
       "CLYBL    CAAKSDSGGGADGLTF       5\n",
       "         CAVRDISARLMF           1\n",
       "v13      CAAKSDSGGGADGLTF      61\n",
       "         CAAPRMEYGNKLVF         1\n",
       "         CAASENNDMRF            1\n",
       "         CAASIRNTGGFKTIF        1\n",
       "         CAESPPTGANNLFF         1\n",
       "         CAFEAGNQFYF            4\n",
       "         CAFRARVDYGGSQGNLIF     1\n",
       "         CAGARGETSGSRLTF        1\n",
       "         CAGEEWDDYKLSF          1\n",
       "         CAGGGSSNTGKLIF        36\n",
       "         CAHLDSNYQLIW           1\n",
       "         CALRSHNTNAGKSTF        1\n",
       "         CAMSAYYGQNFVF          1\n",
       "         CARGFLNYGGSQGNLIF      1\n",
       "         CARNTGNQFYF           17\n",
       "         CASLGAGTALIF           1\n",
       "         CAVRDGQKLLF            1\n",
       "         CAVRDISARLMF          16\n",
       "         CAVRPIQGAQKLVF         1\n",
       "         CAVSDPLVF              1\n",
       "         CAVSLGGGYNKLIF         1\n",
       "         CGAVAPWGGATNKLIF       1\n",
       "         CILDNNNDMRF            1\n",
       "         CVVNDPDKLIF            1\n",
       "         CVVNRRQAGTALIF        24\n",
       "dtype: int64"
      ]
     },
     "execution_count": 14,
     "metadata": {},
     "output_type": "execute_result"
    }
   ],
   "source": [
    "df.groupby(['epitope', 'cdr3_TRA']).size()"
   ]
  },
  {
   "cell_type": "code",
   "execution_count": 20,
   "metadata": {},
   "outputs": [
    {
     "data": {
      "text/plain": [
       "array(['clonotype1', 'clonotype1', 'clonotype1', ..., 'clonotype97',\n",
       "       'clonotype977', 'clonotype985'], dtype=object)"
      ]
     },
     "execution_count": 20,
     "metadata": {},
     "output_type": "execute_result"
    }
   ],
   "source": [
    "df.clonotype.values"
   ]
  },
  {
   "cell_type": "code",
   "execution_count": 67,
   "metadata": {},
   "outputs": [
    {
     "data": {
      "text/html": [
       "<div>\n",
       "<style scoped>\n",
       "    .dataframe tbody tr th:only-of-type {\n",
       "        vertical-align: middle;\n",
       "    }\n",
       "\n",
       "    .dataframe tbody tr th {\n",
       "        vertical-align: top;\n",
       "    }\n",
       "\n",
       "    .dataframe thead th {\n",
       "        text-align: right;\n",
       "    }\n",
       "</style>\n",
       "<table border=\"1\" class=\"dataframe\">\n",
       "  <thead>\n",
       "    <tr style=\"text-align: right;\">\n",
       "      <th></th>\n",
       "      <th>gem</th>\n",
       "      <th>clonotype</th>\n",
       "      <th>cdr3_TRA</th>\n",
       "      <th>cdr3_TRB</th>\n",
       "      <th>peptide</th>\n",
       "      <th>epitope</th>\n",
       "      <th>epitope_rank</th>\n",
       "    </tr>\n",
       "  </thead>\n",
       "  <tbody>\n",
       "    <tr>\n",
       "      <th>1365</th>\n",
       "      <td>GCGAGAAAGAACTGTA-1</td>\n",
       "      <td>clonotype30</td>\n",
       "      <td>CVVSAGGNARLMF</td>\n",
       "      <td>CASSEDRGPYNGETQYF</td>\n",
       "      <td>SLAAYIPRL</td>\n",
       "      <td>CLYBL</td>\n",
       "      <td>0.0</td>\n",
       "    </tr>\n",
       "    <tr>\n",
       "      <th>1037</th>\n",
       "      <td>CTAGAGTCAACGATCT-1</td>\n",
       "      <td>clonotype30</td>\n",
       "      <td>CLVGYNTDKLIF</td>\n",
       "      <td>CASSEDRGPYNGETQYF</td>\n",
       "      <td>VTEHDTLLY</td>\n",
       "      <td>v15</td>\n",
       "      <td>2.0</td>\n",
       "    </tr>\n",
       "    <tr>\n",
       "      <th>41</th>\n",
       "      <td>AACGTTGAGATATGGT-1</td>\n",
       "      <td>clonotype30</td>\n",
       "      <td>CVVSAGGNARLMF</td>\n",
       "      <td>CASSEDRGPYNGETQYF</td>\n",
       "      <td>RLPRIFCSC</td>\n",
       "      <td>MELPEP-041</td>\n",
       "      <td>NaN</td>\n",
       "    </tr>\n",
       "    <tr>\n",
       "      <th>310</th>\n",
       "      <td>AGCAGCCTCCGCAAGC-1</td>\n",
       "      <td>clonotype30</td>\n",
       "      <td>CVVSAGGNARLMF</td>\n",
       "      <td>CASSEDRGPYNGETQYF</td>\n",
       "      <td>KTWGQYWQV</td>\n",
       "      <td>MELPEP-044</td>\n",
       "      <td>NaN</td>\n",
       "    </tr>\n",
       "  </tbody>\n",
       "</table>\n",
       "</div>"
      ],
      "text/plain": [
       "                     gem    clonotype       cdr3_TRA           cdr3_TRB  \\\n",
       "1365  GCGAGAAAGAACTGTA-1  clonotype30  CVVSAGGNARLMF  CASSEDRGPYNGETQYF   \n",
       "1037  CTAGAGTCAACGATCT-1  clonotype30   CLVGYNTDKLIF  CASSEDRGPYNGETQYF   \n",
       "41    AACGTTGAGATATGGT-1  clonotype30  CVVSAGGNARLMF  CASSEDRGPYNGETQYF   \n",
       "310   AGCAGCCTCCGCAAGC-1  clonotype30  CVVSAGGNARLMF  CASSEDRGPYNGETQYF   \n",
       "\n",
       "        peptide     epitope  epitope_rank  \n",
       "1365  SLAAYIPRL       CLYBL           0.0  \n",
       "1037  VTEHDTLLY         v15           2.0  \n",
       "41    RLPRIFCSC  MELPEP-041           NaN  \n",
       "310   KTWGQYWQV  MELPEP-044           NaN  "
      ]
     },
     "execution_count": 67,
     "metadata": {},
     "output_type": "execute_result"
    }
   ],
   "source": [
    "df[df.clonotype=='clonotype30']"
   ]
  },
  {
   "cell_type": "code",
   "execution_count": null,
   "metadata": {},
   "outputs": [],
   "source": []
  }
 ],
 "metadata": {
  "kernelspec": {
   "display_name": "Python 3",
   "language": "python",
   "name": "python3"
  },
  "language_info": {
   "codemirror_mode": {
    "name": "ipython",
    "version": 3
   },
   "file_extension": ".py",
   "mimetype": "text/x-python",
   "name": "python",
   "nbconvert_exporter": "python",
   "pygments_lexer": "ipython3",
   "version": "3.7.3"
  }
 },
 "nbformat": 4,
 "nbformat_minor": 2
}
