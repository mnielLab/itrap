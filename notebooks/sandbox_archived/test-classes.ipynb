{
 "cells": [
  {
   "cell_type": "code",
   "execution_count": 1,
   "metadata": {},
   "outputs": [],
   "source": [
    "import pandas as pd\n",
    "import numpy as np\n",
    "import re\n",
    "from ast import literal_eval\n",
    "import itertools"
   ]
  },
  {
   "cell_type": "code",
   "execution_count": 2,
   "metadata": {},
   "outputs": [],
   "source": [
    "import os\n",
    "import sys\n",
    "module_path = os.path.abspath(os.path.join('../scripts/'))\n",
    "if module_path not in sys.path:\n",
    "    sys.path.append(module_path) #\"/Volumes/tuba/herpov/tcr-pmhc-sc-project/scripts/\"\n",
    "from F_imputations import Impute"
   ]
  },
  {
   "cell_type": "code",
   "execution_count": 3,
   "metadata": {},
   "outputs": [],
   "source": [
    "def cdr3_lst_converter(x):\n",
    "    #define format of datetime\n",
    "    return x.replace(\"[\",\"\").replace(\"]\",\"\").replace(\"'\",\"\").split(\" \")\n",
    "\n",
    "def peptide_hla_converter(x):\n",
    "    return re.findall(\"\\w+\\s{1}\\w{1}\\d+\", x.replace(\"[\",\"\").replace(\"]\",\"\").replace(\"'\",\"\"))\n",
    "\n",
    "def literal_converter(val):\n",
    "    try:\n",
    "        return literal_eval(val)\n",
    "    except SyntaxError:\n",
    "        return np.nan\n",
    "    except ValueError:\n",
    "        return np.nan\n",
    "\n",
    "converters={'peptide_HLA_lst': peptide_hla_converter, 'cdr3_lst_TRA': cdr3_lst_converter, 'cdr3_lst_TRB': cdr3_lst_converter, 'umi_count_lst_mhc': literal_eval, 'umi_count_lst_TRA': literal_converter, 'umi_count_lst_TRB': literal_converter} #"
   ]
  },
  {
   "cell_type": "code",
   "execution_count": 4,
   "metadata": {},
   "outputs": [],
   "source": [
    "def calc_binding_concordance(df, clonotype_fmt):\n",
    "    #assert df.size > 0, \"df empty\"\n",
    "    gems_per_specificity = df.groupby([clonotype_fmt,'peptide']).gem.count().to_dict()\n",
    "    df['gems_per_specificity'] = df.set_index([clonotype_fmt,'peptide']).index.map(gems_per_specificity)\n",
    "\n",
    "    gems_per_clonotype = df.groupby([clonotype_fmt]).gem.count().to_dict()\n",
    "    df['gems_per_clonotype'] = df[clonotype_fmt].map(gems_per_clonotype)\n",
    "    \n",
    "    df['binding_concordance'] = df.gems_per_specificity / df.gems_per_clonotype"
   ]
  },
  {
   "cell_type": "code",
   "execution_count": 5,
   "metadata": {},
   "outputs": [],
   "source": [
    "EXP = \"exp3\""
   ]
  },
  {
   "cell_type": "code",
   "execution_count": 6,
   "metadata": {},
   "outputs": [],
   "source": [
    "library = \"/Volumes/tuba/herpov/tcr-pmhc-sc-project/data/exp3_TCR/library/CDR3_beta1_29_20.xlsx\""
   ]
  },
  {
   "cell_type": "code",
   "execution_count": 7,
   "metadata": {},
   "outputs": [],
   "source": [
    "TCR_BARCODE = \"/Volumes/tuba/herpov/tcr-pmhc-sc-project/data/\" + EXP + \"_CAT_IONTORRENT_KMA_AKB/tables/tcr_barcode.cleaned.csv\"\n",
    "ORIGINAL    = \"/Volumes/tuba/herpov/tcr-pmhc-sc-project/data/\" + EXP + \"_TCR/processed/cellranger_out/TCR_VDJ/outs/all_contig_annotations.csv\"\n",
    "SIM_TRA     = \"/Volumes/tuba/herpov/tcr-pmhc-sc-project/kernel_similarity_tra.{}.tab\".format(EXP)\n",
    "SIM_TRB     = \"/Volumes/tuba/herpov/tcr-pmhc-sc-project/kernel_similarity_trb.{}.tab\".format(EXP)"
   ]
  },
  {
   "cell_type": "code",
   "execution_count": 8,
   "metadata": {},
   "outputs": [],
   "source": [
    "df = pd.read_csv(TCR_BARCODE, converters=converters)\n",
    "#calc_binding_concordance(df, 'ct')\n",
    "#df['chain_count_TRA'] = df.apply(lambda x: len(x.cdr3_lst_TRA) if x.cdr3_lst_TRA[0] != '' else 0, axis=1)\n",
    "#df['chain_count_TRB'] = df.apply(lambda x: len(x.cdr3_lst_TRB) if x.cdr3_lst_TRB[0] != '' else 0, axis=1)"
   ]
  },
  {
   "cell_type": "code",
   "execution_count": 9,
   "metadata": {},
   "outputs": [],
   "source": [
    "sim_tra = pd.read_csv(SIM_TRA, index_col=0)\n",
    "sim_trb = pd.read_csv(SIM_TRB, index_col=0)"
   ]
  },
  {
   "cell_type": "code",
   "execution_count": 10,
   "metadata": {},
   "outputs": [],
   "source": [
    "df = Impute.prepare_dataframe(df)"
   ]
  },
  {
   "cell_type": "code",
   "execution_count": 11,
   "metadata": {},
   "outputs": [],
   "source": [
    "inst = Impute(df)"
   ]
  },
  {
   "cell_type": "code",
   "execution_count": 12,
   "metadata": {},
   "outputs": [],
   "source": [
    "inst.get_reference()"
   ]
  },
  {
   "cell_type": "code",
   "execution_count": 13,
   "metadata": {},
   "outputs": [],
   "source": [
    "inst.get_hit('TRA_NA')\n",
    "inst.get_hit('TRB_NA')\n",
    "inst.get_hit('TRA')\n",
    "inst.get_hit('TRB')\n",
    "inst.get_hit('PEP')"
   ]
  },
  {
   "cell_type": "code",
   "execution_count": 14,
   "metadata": {},
   "outputs": [],
   "source": [
    "inst.modify()"
   ]
  },
  {
   "cell_type": "code",
   "execution_count": 15,
   "metadata": {
    "scrolled": false
   },
   "outputs": [
    {
     "data": {
      "text/html": [
       "<div>\n",
       "<style scoped>\n",
       "    .dataframe tbody tr th:only-of-type {\n",
       "        vertical-align: middle;\n",
       "    }\n",
       "\n",
       "    .dataframe tbody tr th {\n",
       "        vertical-align: top;\n",
       "    }\n",
       "\n",
       "    .dataframe thead th {\n",
       "        text-align: right;\n",
       "    }\n",
       "</style>\n",
       "<table border=\"1\" class=\"dataframe\">\n",
       "  <thead>\n",
       "    <tr style=\"text-align: right;\">\n",
       "      <th></th>\n",
       "      <th>gem</th>\n",
       "      <th>peptide</th>\n",
       "      <th>epitope</th>\n",
       "      <th>cdr3_TRA</th>\n",
       "      <th>cdr3_TRB</th>\n",
       "      <th>peptide_HLA</th>\n",
       "      <th>umi_count_TRA</th>\n",
       "      <th>umi_count_TRB</th>\n",
       "      <th>umi_count_mhc</th>\n",
       "      <th>ct</th>\n",
       "    </tr>\n",
       "  </thead>\n",
       "  <tbody>\n",
       "    <tr>\n",
       "      <td>0</td>\n",
       "      <td>AAACCTGAGGTCATCT-1</td>\n",
       "      <td>YSEHPTFTSQY</td>\n",
       "      <td>v9</td>\n",
       "      <td>CAVRSAYSGAGSYQLTF</td>\n",
       "      <td>unknown</td>\n",
       "      <td>YSEHPTFTSQY A0101</td>\n",
       "      <td>1.0</td>\n",
       "      <td>NaN</td>\n",
       "      <td>1.0</td>\n",
       "      <td>42</td>\n",
       "    </tr>\n",
       "    <tr>\n",
       "      <td>1</td>\n",
       "      <td>AAACCTGAGTTCGATC-1</td>\n",
       "      <td>YSEHPTFTSQY</td>\n",
       "      <td>v9</td>\n",
       "      <td>CALNTGGFKTIF</td>\n",
       "      <td>CASSPPFLAGSGSSYEQYF</td>\n",
       "      <td>YSEHPTFTSQY A0101</td>\n",
       "      <td>4.0</td>\n",
       "      <td>5.0</td>\n",
       "      <td>2.0</td>\n",
       "      <td>35</td>\n",
       "    </tr>\n",
       "    <tr>\n",
       "      <td>2</td>\n",
       "      <td>AAACCTGCAGTAACGG-1</td>\n",
       "      <td>VTEHDTLLY</td>\n",
       "      <td>v15</td>\n",
       "      <td>CAVNIEGQKLLF</td>\n",
       "      <td>unknown</td>\n",
       "      <td>VTEHDTLLY A0101</td>\n",
       "      <td>1.0</td>\n",
       "      <td>NaN</td>\n",
       "      <td>1.0</td>\n",
       "      <td>129</td>\n",
       "    </tr>\n",
       "    <tr>\n",
       "      <td>3</td>\n",
       "      <td>AAACCTGGTCTTGTCC-1</td>\n",
       "      <td>IPSINVHHY</td>\n",
       "      <td>v35</td>\n",
       "      <td>CAAKSDSGGGADGLTF</td>\n",
       "      <td>CASSAWTSNRDEQFF</td>\n",
       "      <td>IPSINVHHY B3501</td>\n",
       "      <td>3.0</td>\n",
       "      <td>5.0</td>\n",
       "      <td>1.0</td>\n",
       "      <td>1</td>\n",
       "    </tr>\n",
       "    <tr>\n",
       "      <td>4</td>\n",
       "      <td>AAACCTGTCCATGAGT-1</td>\n",
       "      <td>VTEHDTLLY</td>\n",
       "      <td>v15</td>\n",
       "      <td>CAAGGGGNKLTF</td>\n",
       "      <td>CASSWRGSSSYEQYF</td>\n",
       "      <td>VTEHDTLLY A0101</td>\n",
       "      <td>2.0</td>\n",
       "      <td>4.0</td>\n",
       "      <td>1.0</td>\n",
       "      <td>45</td>\n",
       "    </tr>\n",
       "    <tr>\n",
       "      <td>...</td>\n",
       "      <td>...</td>\n",
       "      <td>...</td>\n",
       "      <td>...</td>\n",
       "      <td>...</td>\n",
       "      <td>...</td>\n",
       "      <td>...</td>\n",
       "      <td>...</td>\n",
       "      <td>...</td>\n",
       "      <td>...</td>\n",
       "      <td>...</td>\n",
       "    </tr>\n",
       "    <tr>\n",
       "      <td>3592</td>\n",
       "      <td>TTTGCGCTCAGCACAT-1</td>\n",
       "      <td>SLAAYIPRL</td>\n",
       "      <td>CLYBL</td>\n",
       "      <td>unknown</td>\n",
       "      <td>CASSPRVYGELFF</td>\n",
       "      <td>SLAAYIPRL A0201</td>\n",
       "      <td>NaN</td>\n",
       "      <td>1.0</td>\n",
       "      <td>3.0</td>\n",
       "      <td>27</td>\n",
       "    </tr>\n",
       "    <tr>\n",
       "      <td>3593</td>\n",
       "      <td>TTTGCGCTCATCGGAT-1</td>\n",
       "      <td>QIDVSQFGSY</td>\n",
       "      <td>134 (I-A22)neo26</td>\n",
       "      <td>unknown</td>\n",
       "      <td>CASSLLGTSGTGNEQFF</td>\n",
       "      <td>QIDVSQFGSY A0101</td>\n",
       "      <td>NaN</td>\n",
       "      <td>1.0</td>\n",
       "      <td>1.0</td>\n",
       "      <td>9</td>\n",
       "    </tr>\n",
       "    <tr>\n",
       "      <td>3594</td>\n",
       "      <td>TTTGGTTCAGATAATG-1</td>\n",
       "      <td>YSEHPTFTSQY</td>\n",
       "      <td>v9</td>\n",
       "      <td>unknown</td>\n",
       "      <td>CSGIVDYGYTF</td>\n",
       "      <td>YSEHPTFTSQY A0101</td>\n",
       "      <td>NaN</td>\n",
       "      <td>1.0</td>\n",
       "      <td>1.0</td>\n",
       "      <td>163</td>\n",
       "    </tr>\n",
       "    <tr>\n",
       "      <td>3595</td>\n",
       "      <td>TTTGGTTGTTCCGGCA-1</td>\n",
       "      <td>RAKFKQLL</td>\n",
       "      <td>v17</td>\n",
       "      <td>unknown</td>\n",
       "      <td>CATSGESGGLKGYNEQFF</td>\n",
       "      <td>RAKFKQLL B0801</td>\n",
       "      <td>NaN</td>\n",
       "      <td>1.0</td>\n",
       "      <td>1.0</td>\n",
       "      <td>571</td>\n",
       "    </tr>\n",
       "    <tr>\n",
       "      <td>3596</td>\n",
       "      <td>TTTGTCATCAAGCCTA-1</td>\n",
       "      <td>QIDVSQFGSY</td>\n",
       "      <td>134 (I-A22)neo26</td>\n",
       "      <td>unknown</td>\n",
       "      <td>CASSVTRDRTNTGELFF</td>\n",
       "      <td>QIDVSQFGSY A0101</td>\n",
       "      <td>NaN</td>\n",
       "      <td>5.0</td>\n",
       "      <td>3.0</td>\n",
       "      <td>595</td>\n",
       "    </tr>\n",
       "  </tbody>\n",
       "</table>\n",
       "<p>3597 rows × 10 columns</p>\n",
       "</div>"
      ],
      "text/plain": [
       "                     gem      peptide           epitope           cdr3_TRA  \\\n",
       "0     AAACCTGAGGTCATCT-1  YSEHPTFTSQY                v9  CAVRSAYSGAGSYQLTF   \n",
       "1     AAACCTGAGTTCGATC-1  YSEHPTFTSQY                v9       CALNTGGFKTIF   \n",
       "2     AAACCTGCAGTAACGG-1    VTEHDTLLY               v15       CAVNIEGQKLLF   \n",
       "3     AAACCTGGTCTTGTCC-1    IPSINVHHY               v35   CAAKSDSGGGADGLTF   \n",
       "4     AAACCTGTCCATGAGT-1    VTEHDTLLY               v15       CAAGGGGNKLTF   \n",
       "...                  ...          ...               ...                ...   \n",
       "3592  TTTGCGCTCAGCACAT-1    SLAAYIPRL             CLYBL            unknown   \n",
       "3593  TTTGCGCTCATCGGAT-1   QIDVSQFGSY  134 (I-A22)neo26            unknown   \n",
       "3594  TTTGGTTCAGATAATG-1  YSEHPTFTSQY                v9            unknown   \n",
       "3595  TTTGGTTGTTCCGGCA-1     RAKFKQLL               v17            unknown   \n",
       "3596  TTTGTCATCAAGCCTA-1   QIDVSQFGSY  134 (I-A22)neo26            unknown   \n",
       "\n",
       "                 cdr3_TRB        peptide_HLA  umi_count_TRA  umi_count_TRB  \\\n",
       "0                 unknown  YSEHPTFTSQY A0101            1.0            NaN   \n",
       "1     CASSPPFLAGSGSSYEQYF  YSEHPTFTSQY A0101            4.0            5.0   \n",
       "2                 unknown    VTEHDTLLY A0101            1.0            NaN   \n",
       "3         CASSAWTSNRDEQFF    IPSINVHHY B3501            3.0            5.0   \n",
       "4         CASSWRGSSSYEQYF    VTEHDTLLY A0101            2.0            4.0   \n",
       "...                   ...                ...            ...            ...   \n",
       "3592        CASSPRVYGELFF    SLAAYIPRL A0201            NaN            1.0   \n",
       "3593    CASSLLGTSGTGNEQFF   QIDVSQFGSY A0101            NaN            1.0   \n",
       "3594          CSGIVDYGYTF  YSEHPTFTSQY A0101            NaN            1.0   \n",
       "3595   CATSGESGGLKGYNEQFF     RAKFKQLL B0801            NaN            1.0   \n",
       "3596    CASSVTRDRTNTGELFF   QIDVSQFGSY A0101            NaN            5.0   \n",
       "\n",
       "      umi_count_mhc   ct  \n",
       "0               1.0   42  \n",
       "1               2.0   35  \n",
       "2               1.0  129  \n",
       "3               1.0    1  \n",
       "4               1.0   45  \n",
       "...             ...  ...  \n",
       "3592            3.0   27  \n",
       "3593            1.0    9  \n",
       "3594            1.0  163  \n",
       "3595            1.0  571  \n",
       "3596            3.0  595  \n",
       "\n",
       "[3597 rows x 10 columns]"
      ]
     },
     "execution_count": 15,
     "metadata": {},
     "output_type": "execute_result"
    }
   ],
   "source": [
    "inst.df"
   ]
  },
  {
   "cell_type": "code",
   "execution_count": 16,
   "metadata": {},
   "outputs": [
    {
     "data": {
      "text/html": [
       "<div>\n",
       "<style scoped>\n",
       "    .dataframe tbody tr th:only-of-type {\n",
       "        vertical-align: middle;\n",
       "    }\n",
       "\n",
       "    .dataframe tbody tr th {\n",
       "        vertical-align: top;\n",
       "    }\n",
       "\n",
       "    .dataframe thead th {\n",
       "        text-align: right;\n",
       "    }\n",
       "</style>\n",
       "<table border=\"1\" class=\"dataframe\">\n",
       "  <thead>\n",
       "    <tr style=\"text-align: right;\">\n",
       "      <th></th>\n",
       "      <th>ref</th>\n",
       "      <th>TRA_NA</th>\n",
       "      <th>TRB_NA</th>\n",
       "      <th>TRA</th>\n",
       "      <th>TRB</th>\n",
       "      <th>PEP</th>\n",
       "    </tr>\n",
       "  </thead>\n",
       "  <tbody>\n",
       "    <tr>\n",
       "      <td>potential</td>\n",
       "      <td>551</td>\n",
       "      <td>573</td>\n",
       "      <td>145</td>\n",
       "      <td>129</td>\n",
       "      <td>116</td>\n",
       "      <td>717</td>\n",
       "    </tr>\n",
       "    <tr>\n",
       "      <td>imputations</td>\n",
       "      <td>551</td>\n",
       "      <td>61</td>\n",
       "      <td>11</td>\n",
       "      <td>11</td>\n",
       "      <td>12</td>\n",
       "      <td>219</td>\n",
       "    </tr>\n",
       "    <tr>\n",
       "      <td>percent</td>\n",
       "      <td>100.00</td>\n",
       "      <td>10.65</td>\n",
       "      <td>7.59</td>\n",
       "      <td>8.53</td>\n",
       "      <td>10.34</td>\n",
       "      <td>30.54</td>\n",
       "    </tr>\n",
       "    <tr>\n",
       "      <td>corrected</td>\n",
       "      <td>0</td>\n",
       "      <td>61</td>\n",
       "      <td>11</td>\n",
       "      <td>7</td>\n",
       "      <td>1</td>\n",
       "      <td>21</td>\n",
       "    </tr>\n",
       "  </tbody>\n",
       "</table>\n",
       "</div>"
      ],
      "text/plain": [
       "                ref TRA_NA TRB_NA   TRA    TRB    PEP\n",
       "potential       551    573    145   129    116    717\n",
       "imputations     551     61     11    11     12    219\n",
       "percent      100.00  10.65   7.59  8.53  10.34  30.54\n",
       "corrected         0     61     11     7      1     21"
      ]
     },
     "execution_count": 16,
     "metadata": {},
     "output_type": "execute_result"
    }
   ],
   "source": [
    "inst.stats"
   ]
  },
  {
   "cell_type": "code",
   "execution_count": 27,
   "metadata": {},
   "outputs": [],
   "source": [
    "def lol():\n",
    "    print('hello')"
   ]
  },
  {
   "cell_type": "code",
   "execution_count": 38,
   "metadata": {},
   "outputs": [],
   "source": [
    "class Employee:\n",
    "    \n",
    "    num_of_emps = 0\n",
    "    raise_amount = 1.04\n",
    "    empls = list()\n",
    "    \n",
    "    def __init__(self, first, last, pay):\n",
    "        self.first = first\n",
    "        self.last = last\n",
    "        self.pay = pay\n",
    "        self.email = '{}.{}@company.com'.format(first, last)\n",
    "        self.empls.append(first)\n",
    "        \n",
    "        Employee.num_of_emps += 1\n",
    "        \n",
    "    def fullname(self):\n",
    "        return '{} {}'.format(self.first, self.last)\n",
    "    \n",
    "    def test(self, txt):\n",
    "        print(txt)\n",
    "    \n",
    "    def testme(self):\n",
    "        return self.test"
   ]
  },
  {
   "cell_type": "code",
   "execution_count": 39,
   "metadata": {},
   "outputs": [],
   "source": [
    "inst = Employee('Helle', 'Povlsen', 10000000000)"
   ]
  },
  {
   "cell_type": "code",
   "execution_count": 40,
   "metadata": {},
   "outputs": [],
   "source": [
    "a = inst.testme()"
   ]
  },
  {
   "cell_type": "code",
   "execution_count": 41,
   "metadata": {},
   "outputs": [
    {
     "name": "stdout",
     "output_type": "stream",
     "text": [
      "lol\n"
     ]
    }
   ],
   "source": [
    "a('lol')"
   ]
  },
  {
   "cell_type": "code",
   "execution_count": 83,
   "metadata": {},
   "outputs": [],
   "source": [
    "class Developer(Employee):\n",
    "    pass"
   ]
  },
  {
   "cell_type": "code",
   "execution_count": 48,
   "metadata": {},
   "outputs": [],
   "source": [
    "class Manager(Employee):\n",
    "\n",
    "    def __init__(self, first, last, pay, employees=None):\n",
    "        super().__init__(first, last, pay)\n",
    "        if employees is None:\n",
    "            self.employees = []\n",
    "        else:\n",
    "            self.employees = employees\n",
    "\n",
    "    def add_emp(self, emp):\n",
    "        if emp not in self.employees:\n",
    "            self.employees.append(emp)\n",
    "            \n",
    "    def print_emps(self):\n",
    "        lol = list()\n",
    "        for emp in self.employees:\n",
    "            lol.append(emp)\n",
    "        return emp"
   ]
  },
  {
   "cell_type": "code",
   "execution_count": 84,
   "metadata": {},
   "outputs": [
    {
     "data": {
      "text/plain": [
       "0"
      ]
     },
     "execution_count": 84,
     "metadata": {},
     "output_type": "execute_result"
    }
   ],
   "source": [
    "Employee.num_of_emps"
   ]
  },
  {
   "cell_type": "code",
   "execution_count": 85,
   "metadata": {},
   "outputs": [
    {
     "data": {
      "text/plain": [
       "[]"
      ]
     },
     "execution_count": 85,
     "metadata": {},
     "output_type": "execute_result"
    }
   ],
   "source": [
    "Employee.empls"
   ]
  },
  {
   "cell_type": "code",
   "execution_count": 86,
   "metadata": {},
   "outputs": [
    {
     "data": {
      "text/plain": [
       "<__main__.Employee at 0x104b67310>"
      ]
     },
     "execution_count": 86,
     "metadata": {},
     "output_type": "execute_result"
    }
   ],
   "source": [
    "Employee('Helle', 'Povlsen', 10000000000)"
   ]
  },
  {
   "cell_type": "code",
   "execution_count": 87,
   "metadata": {},
   "outputs": [
    {
     "name": "stdout",
     "output_type": "stream",
     "text": [
      "1\n"
     ]
    }
   ],
   "source": [
    "print(Employee.num_of_emps)"
   ]
  },
  {
   "cell_type": "code",
   "execution_count": 88,
   "metadata": {},
   "outputs": [
    {
     "data": {
      "text/plain": [
       "['Helle']"
      ]
     },
     "execution_count": 88,
     "metadata": {},
     "output_type": "execute_result"
    }
   ],
   "source": [
    "Employee.empls"
   ]
  },
  {
   "cell_type": "code",
   "execution_count": 89,
   "metadata": {},
   "outputs": [
    {
     "data": {
      "text/plain": [
       "<__main__.Developer at 0x104b6b1d0>"
      ]
     },
     "execution_count": 89,
     "metadata": {},
     "output_type": "execute_result"
    }
   ],
   "source": [
    "Developer('Lola', 'Povlsen', 10000000000)"
   ]
  },
  {
   "cell_type": "code",
   "execution_count": 90,
   "metadata": {},
   "outputs": [
    {
     "name": "stdout",
     "output_type": "stream",
     "text": [
      "2\n"
     ]
    }
   ],
   "source": [
    "print(Employee.num_of_emps)"
   ]
  },
  {
   "cell_type": "code",
   "execution_count": 93,
   "metadata": {},
   "outputs": [
    {
     "data": {
      "text/plain": [
       "['Helle', 'Lola', 'Corey', 'Test']"
      ]
     },
     "execution_count": 93,
     "metadata": {},
     "output_type": "execute_result"
    }
   ],
   "source": [
    "Employee.empls"
   ]
  },
  {
   "cell_type": "code",
   "execution_count": 92,
   "metadata": {},
   "outputs": [],
   "source": [
    "dev_1 = Employee('Corey', 'Schafer', 50000)\n",
    "dev_2 = Employee('Test', 'Employee', 60000)\n",
    "\n",
    "mgr_1 = Manager('Sue', 'Smith', 90000, [dev_1])"
   ]
  },
  {
   "cell_type": "code",
   "execution_count": 55,
   "metadata": {},
   "outputs": [
    {
     "data": {
      "text/plain": [
       "<__main__.Employee at 0x104c5c110>"
      ]
     },
     "execution_count": 55,
     "metadata": {},
     "output_type": "execute_result"
    }
   ],
   "source": [
    "mgr_1.print_emps()"
   ]
  },
  {
   "cell_type": "code",
   "execution_count": 51,
   "metadata": {},
   "outputs": [
    {
     "data": {
      "text/plain": [
       "'Sue Smith'"
      ]
     },
     "execution_count": 51,
     "metadata": {},
     "output_type": "execute_result"
    }
   ],
   "source": [
    "mgr_1.fullname()"
   ]
  },
  {
   "cell_type": "code",
   "execution_count": 108,
   "metadata": {},
   "outputs": [
    {
     "name": "stdout",
     "output_type": "stream",
     "text": [
      "['Joe', 'Bob', 'Jan']\n",
      "3\n",
      "al\n"
     ]
    }
   ],
   "source": [
    "class Person:\n",
    "    all_names = []\n",
    "    num_persons = 0\n",
    "\n",
    "    def __init__(self, name):\n",
    "        self.name = name\n",
    "        Person.all_names.append(name)\n",
    "        Person.num_persons += 1\n",
    "\n",
    "joe = Person('Joe')\n",
    "bob = Person('Bob')\n",
    "bob = Person('Jan')\n",
    "Person.peptide = 'al'\n",
    "print(Person.all_names)\n",
    "print(Person.num_persons)\n",
    "print(Person.peptide)\n",
    "## ['Joe', 'Bob']"
   ]
  },
  {
   "cell_type": "code",
   "execution_count": 117,
   "metadata": {},
   "outputs": [],
   "source": [
    "class Tester:\n",
    "    def __init__(self):\n",
    "        self.cdr3_TRAs = glob_var1\n",
    "        self.cdr3_TRBs = glob_var2\n",
    "\n",
    "    def print_smth(self):\n",
    "        print('can I print a global variable?', glob_var)"
   ]
  },
  {
   "cell_type": "code",
   "execution_count": 118,
   "metadata": {},
   "outputs": [],
   "source": [
    "glob_var = 2\n",
    "glob_var1 = [1,2,3]\n",
    "glob_var2 = [4,5,6]"
   ]
  },
  {
   "cell_type": "code",
   "execution_count": 119,
   "metadata": {},
   "outputs": [],
   "source": [
    "job1 = Tester()"
   ]
  },
  {
   "cell_type": "code",
   "execution_count": 120,
   "metadata": {},
   "outputs": [
    {
     "name": "stdout",
     "output_type": "stream",
     "text": [
      "can I print a global variable? 2\n"
     ]
    }
   ],
   "source": [
    "job1.print_smth()"
   ]
  },
  {
   "cell_type": "code",
   "execution_count": 121,
   "metadata": {},
   "outputs": [
    {
     "data": {
      "text/plain": [
       "[1, 2, 3]"
      ]
     },
     "execution_count": 121,
     "metadata": {},
     "output_type": "execute_result"
    }
   ],
   "source": [
    "job1.cdr3_TRAs"
   ]
  },
  {
   "cell_type": "code",
   "execution_count": 101,
   "metadata": {},
   "outputs": [],
   "source": [
    "class A:\n",
    "    class_var1 = set()\n",
    "    \n",
    "    def __init__(self):\n",
    "        self.a = 1\n",
    "    \n",
    "    def setb(self, var):\n",
    "        A.b = var\n",
    "        \n",
    "    @classmethod\n",
    "    def setc(cls, var):\n",
    "        cls.c = var\n",
    "        \n",
    "    @staticmethod\n",
    "    def setd(var):\n",
    "        return var*2\n",
    "    \n",
    "    @property\n",
    "    def evar(self):\n",
    "        A.class_var1.update([2])\n",
    "        return 3\n",
    "    \n",
    "    def setf(self):\n",
    "        self.f = self.evar + 1"
   ]
  },
  {
   "cell_type": "code",
   "execution_count": 102,
   "metadata": {},
   "outputs": [],
   "source": [
    "d = A()"
   ]
  },
  {
   "cell_type": "code",
   "execution_count": 106,
   "metadata": {},
   "outputs": [
    {
     "data": {
      "text/plain": [
       "{2}"
      ]
     },
     "execution_count": 106,
     "metadata": {},
     "output_type": "execute_result"
    }
   ],
   "source": [
    "A.class_var1"
   ]
  },
  {
   "cell_type": "code",
   "execution_count": 97,
   "metadata": {},
   "outputs": [],
   "source": [
    "d.setf()"
   ]
  },
  {
   "cell_type": "code",
   "execution_count": 98,
   "metadata": {},
   "outputs": [
    {
     "data": {
      "text/plain": [
       "4"
      ]
     },
     "execution_count": 98,
     "metadata": {},
     "output_type": "execute_result"
    }
   ],
   "source": [
    "d.f"
   ]
  },
  {
   "cell_type": "code",
   "execution_count": 105,
   "metadata": {},
   "outputs": [
    {
     "data": {
      "text/plain": [
       "3"
      ]
     },
     "execution_count": 105,
     "metadata": {},
     "output_type": "execute_result"
    }
   ],
   "source": [
    "d.evar"
   ]
  },
  {
   "cell_type": "code",
   "execution_count": 74,
   "metadata": {},
   "outputs": [
    {
     "data": {
      "text/plain": [
       "1"
      ]
     },
     "execution_count": 74,
     "metadata": {},
     "output_type": "execute_result"
    }
   ],
   "source": [
    "d.a"
   ]
  },
  {
   "cell_type": "code",
   "execution_count": 76,
   "metadata": {},
   "outputs": [],
   "source": [
    "d.setb(3)"
   ]
  },
  {
   "cell_type": "code",
   "execution_count": 77,
   "metadata": {},
   "outputs": [
    {
     "data": {
      "text/plain": [
       "3"
      ]
     },
     "execution_count": 77,
     "metadata": {},
     "output_type": "execute_result"
    }
   ],
   "source": [
    "A.b"
   ]
  },
  {
   "cell_type": "code",
   "execution_count": 67,
   "metadata": {},
   "outputs": [
    {
     "data": {
      "text/plain": [
       "3"
      ]
     },
     "execution_count": 67,
     "metadata": {},
     "output_type": "execute_result"
    }
   ],
   "source": [
    "d.b"
   ]
  },
  {
   "cell_type": "code",
   "execution_count": 68,
   "metadata": {},
   "outputs": [],
   "source": [
    "A.static_elem = 'lol'"
   ]
  },
  {
   "cell_type": "code",
   "execution_count": 71,
   "metadata": {},
   "outputs": [
    {
     "data": {
      "text/plain": [
       "'lol'"
      ]
     },
     "execution_count": 71,
     "metadata": {},
     "output_type": "execute_result"
    }
   ],
   "source": [
    "A.static_elem"
   ]
  },
  {
   "cell_type": "code",
   "execution_count": 79,
   "metadata": {},
   "outputs": [],
   "source": [
    "A.setc(4)"
   ]
  },
  {
   "cell_type": "code",
   "execution_count": 80,
   "metadata": {},
   "outputs": [
    {
     "data": {
      "text/plain": [
       "4"
      ]
     },
     "execution_count": 80,
     "metadata": {},
     "output_type": "execute_result"
    }
   ],
   "source": [
    "A.c"
   ]
  },
  {
   "cell_type": "code",
   "execution_count": 82,
   "metadata": {},
   "outputs": [
    {
     "data": {
      "text/plain": [
       "8"
      ]
     },
     "execution_count": 82,
     "metadata": {},
     "output_type": "execute_result"
    }
   ],
   "source": [
    "A.setd(4)"
   ]
  },
  {
   "cell_type": "code",
   "execution_count": 85,
   "metadata": {},
   "outputs": [],
   "source": [
    "A.setb(d, 2)"
   ]
  },
  {
   "cell_type": "code",
   "execution_count": 100,
   "metadata": {},
   "outputs": [
    {
     "data": {
      "text/plain": [
       "{2}"
      ]
     },
     "execution_count": 100,
     "metadata": {},
     "output_type": "execute_result"
    }
   ],
   "source": [
    "a = set()\n",
    "a.update([2])\n",
    "a"
   ]
  },
  {
   "cell_type": "code",
   "execution_count": null,
   "metadata": {},
   "outputs": [],
   "source": []
  }
 ],
 "metadata": {
  "kernelspec": {
   "display_name": "Python 3",
   "language": "python",
   "name": "python3"
  },
  "language_info": {
   "codemirror_mode": {
    "name": "ipython",
    "version": 3
   },
   "file_extension": ".py",
   "mimetype": "text/x-python",
   "name": "python",
   "nbconvert_exporter": "python",
   "pygments_lexer": "ipython3",
   "version": "3.7.4"
  }
 },
 "nbformat": 4,
 "nbformat_minor": 2
}
