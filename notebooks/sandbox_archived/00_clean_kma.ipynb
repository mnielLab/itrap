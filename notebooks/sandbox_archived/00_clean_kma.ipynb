{
 "cells": [
  {
   "cell_type": "markdown",
   "metadata": {},
   "source": [
    "# OBS! Is now a python script"
   ]
  },
  {
   "cell_type": "code",
   "execution_count": 16,
   "metadata": {},
   "outputs": [],
   "source": [
    "import numpy as np\n",
    "import pandas as pd"
   ]
  },
  {
   "cell_type": "markdown",
   "metadata": {},
   "source": [
    "# Args"
   ]
  },
  {
   "cell_type": "code",
   "execution_count": 17,
   "metadata": {},
   "outputs": [],
   "source": [
    "EXP = \"exp3\"\n",
    "PLATFORM = \"IONTORRENT\"#\"ILLUMINA\""
   ]
  },
  {
   "cell_type": "markdown",
   "metadata": {},
   "source": [
    "# Input"
   ]
  },
  {
   "cell_type": "code",
   "execution_count": 18,
   "metadata": {},
   "outputs": [],
   "source": [
    "kma_fil = \"/Volumes/tuba/herpov/tcr-pmhc-sc-project/data/\" + EXP + \"_MHC_\" + PLATFORM + \"/mapping/KMA-1t1/output/mapping.frag.gz\""
   ]
  },
  {
   "cell_type": "markdown",
   "metadata": {},
   "source": [
    "# Output"
   ]
  },
  {
   "cell_type": "code",
   "execution_count": 19,
   "metadata": {},
   "outputs": [],
   "source": [
    "clean_fil = \"/Volumes/tuba/herpov/tcr-pmhc-sc-project/data/\" + EXP + \"_MHC_\" + PLATFORM + \"/mapping/KMA-1t1/output/mapping.clean.gz\""
   ]
  },
  {
   "cell_type": "markdown",
   "metadata": {},
   "source": [
    "# Main"
   ]
  },
  {
   "cell_type": "code",
   "execution_count": 20,
   "metadata": {},
   "outputs": [],
   "source": [
    "df = pd.read_csv(kma_fil, sep='\\t', usecols = (1, 2, 3, 4, 5, 6), names = ('uncertainty', 'score', 't_alignment_start', 't_alignment_end', 'template_id', 'read_header'))"
   ]
  },
  {
   "cell_type": "code",
   "execution_count": 25,
   "metadata": {},
   "outputs": [
    {
     "data": {
      "text/html": [
       "<div>\n",
       "<style scoped>\n",
       "    .dataframe tbody tr th:only-of-type {\n",
       "        vertical-align: middle;\n",
       "    }\n",
       "\n",
       "    .dataframe tbody tr th {\n",
       "        vertical-align: top;\n",
       "    }\n",
       "\n",
       "    .dataframe thead th {\n",
       "        text-align: right;\n",
       "    }\n",
       "</style>\n",
       "<table border=\"1\" class=\"dataframe\">\n",
       "  <thead>\n",
       "    <tr style=\"text-align: right;\">\n",
       "      <th></th>\n",
       "      <th>uncertainty</th>\n",
       "      <th>score</th>\n",
       "      <th>t_alignment_start</th>\n",
       "      <th>t_alignment_end</th>\n",
       "      <th>template_id</th>\n",
       "      <th>read_header</th>\n",
       "      <th>query_id</th>\n",
       "      <th>gem</th>\n",
       "      <th>credible_alignment</th>\n",
       "      <th>alignment_length</th>\n",
       "      <th>barcode</th>\n",
       "      <th>sample</th>\n",
       "    </tr>\n",
       "  </thead>\n",
       "  <tbody>\n",
       "    <tr>\n",
       "      <th>0</th>\n",
       "      <td>15</td>\n",
       "      <td>37</td>\n",
       "      <td>88</td>\n",
       "      <td>137</td>\n",
       "      <td>A1064B288_sample</td>\n",
       "      <td>HBBAF:02644:01966 BX:Z:TTAGGACCAACGATCT-1</td>\n",
       "      <td>HBBAF:02644:01966</td>\n",
       "      <td>TTAGGACCAACGATCT-1</td>\n",
       "      <td>False</td>\n",
       "      <td>49</td>\n",
       "      <td>A1064B288</td>\n",
       "      <td>sample</td>\n",
       "    </tr>\n",
       "    <tr>\n",
       "      <th>1</th>\n",
       "      <td>15</td>\n",
       "      <td>37</td>\n",
       "      <td>88</td>\n",
       "      <td>137</td>\n",
       "      <td>A1064B288_sample</td>\n",
       "      <td>HBBAF:00780:01765 BX:Z:TTAGGACCAACGATCT-1</td>\n",
       "      <td>HBBAF:00780:01765</td>\n",
       "      <td>TTAGGACCAACGATCT-1</td>\n",
       "      <td>False</td>\n",
       "      <td>49</td>\n",
       "      <td>A1064B288</td>\n",
       "      <td>sample</td>\n",
       "    </tr>\n",
       "    <tr>\n",
       "      <th>2</th>\n",
       "      <td>1</td>\n",
       "      <td>98</td>\n",
       "      <td>0</td>\n",
       "      <td>114</td>\n",
       "      <td>A1064B288_sample</td>\n",
       "      <td>HBBAF:03518:01259 BX:Z:GCTGCAGGTACCGCTG-1</td>\n",
       "      <td>HBBAF:03518:01259</td>\n",
       "      <td>GCTGCAGGTACCGCTG-1</td>\n",
       "      <td>True</td>\n",
       "      <td>114</td>\n",
       "      <td>A1064B288</td>\n",
       "      <td>sample</td>\n",
       "    </tr>\n",
       "    <tr>\n",
       "      <th>3</th>\n",
       "      <td>1</td>\n",
       "      <td>101</td>\n",
       "      <td>0</td>\n",
       "      <td>129</td>\n",
       "      <td>A1064B288_sample</td>\n",
       "      <td>HBBAF:03366:00950 BX:Z:GCTGCAGGTACCGCTG-1</td>\n",
       "      <td>HBBAF:03366:00950</td>\n",
       "      <td>GCTGCAGGTACCGCTG-1</td>\n",
       "      <td>True</td>\n",
       "      <td>129</td>\n",
       "      <td>A1064B288</td>\n",
       "      <td>sample</td>\n",
       "    </tr>\n",
       "    <tr>\n",
       "      <th>4</th>\n",
       "      <td>1</td>\n",
       "      <td>92</td>\n",
       "      <td>0</td>\n",
       "      <td>105</td>\n",
       "      <td>A1064B288_sample</td>\n",
       "      <td>HBBAF:03285:01256 BX:Z:GCTGCAGGTACCGCTG-1</td>\n",
       "      <td>HBBAF:03285:01256</td>\n",
       "      <td>GCTGCAGGTACCGCTG-1</td>\n",
       "      <td>True</td>\n",
       "      <td>105</td>\n",
       "      <td>A1064B288</td>\n",
       "      <td>sample</td>\n",
       "    </tr>\n",
       "  </tbody>\n",
       "</table>\n",
       "</div>"
      ],
      "text/plain": [
       "   uncertainty  score  t_alignment_start  t_alignment_end       template_id  \\\n",
       "0           15     37                 88              137  A1064B288_sample   \n",
       "1           15     37                 88              137  A1064B288_sample   \n",
       "2            1     98                  0              114  A1064B288_sample   \n",
       "3            1    101                  0              129  A1064B288_sample   \n",
       "4            1     92                  0              105  A1064B288_sample   \n",
       "\n",
       "                                 read_header           query_id  \\\n",
       "0  HBBAF:02644:01966 BX:Z:TTAGGACCAACGATCT-1  HBBAF:02644:01966   \n",
       "1  HBBAF:00780:01765 BX:Z:TTAGGACCAACGATCT-1  HBBAF:00780:01765   \n",
       "2  HBBAF:03518:01259 BX:Z:GCTGCAGGTACCGCTG-1  HBBAF:03518:01259   \n",
       "3  HBBAF:03366:00950 BX:Z:GCTGCAGGTACCGCTG-1  HBBAF:03366:00950   \n",
       "4  HBBAF:03285:01256 BX:Z:GCTGCAGGTACCGCTG-1  HBBAF:03285:01256   \n",
       "\n",
       "                  gem  credible_alignment  alignment_length    barcode  sample  \n",
       "0  TTAGGACCAACGATCT-1               False                49  A1064B288  sample  \n",
       "1  TTAGGACCAACGATCT-1               False                49  A1064B288  sample  \n",
       "2  GCTGCAGGTACCGCTG-1                True               114  A1064B288  sample  \n",
       "3  GCTGCAGGTACCGCTG-1                True               129  A1064B288  sample  \n",
       "4  GCTGCAGGTACCGCTG-1                True               105  A1064B288  sample  "
      ]
     },
     "execution_count": 25,
     "metadata": {},
     "output_type": "execute_result"
    }
   ],
   "source": [
    "df.head()"
   ]
  },
  {
   "cell_type": "code",
   "execution_count": 22,
   "metadata": {},
   "outputs": [
    {
     "data": {
      "text/plain": [
       "(260419, 6)"
      ]
     },
     "execution_count": 22,
     "metadata": {},
     "output_type": "execute_result"
    }
   ],
   "source": [
    "df.shape"
   ]
  },
  {
   "cell_type": "code",
   "execution_count": 23,
   "metadata": {},
   "outputs": [],
   "source": [
    "df['query_id'], df['gem'] = df['read_header'].str.split(\" \", n = 1).str\n",
    "df.replace({\"gem\": r\"^BX:Z:\"}, {\"gem\": \"\"}, regex=True, inplace=True)\n",
    "assert df.duplicated(['query_id']).sum() == 0\n",
    "\n",
    "df['credible_alignment'] = np.where(df['uncertainty'] == 1, True, False)\n",
    "df['alignment_length'] = df['t_alignment_end'] - df['t_alignment_start']\n",
    "df['template_id'] = df.template_id.str.split(\" \", n=1,expand=True)[0] + \"_sample\" #HACK\n",
    "df['barcode'], df['sample'] = df.template_id.str.rsplit(\"_\", n=1).str"
   ]
  },
  {
   "cell_type": "code",
   "execution_count": 24,
   "metadata": {},
   "outputs": [
    {
     "data": {
      "text/plain": [
       "(260419, 12)"
      ]
     },
     "execution_count": 24,
     "metadata": {},
     "output_type": "execute_result"
    }
   ],
   "source": [
    "df.shape"
   ]
  },
  {
   "cell_type": "code",
   "execution_count": 26,
   "metadata": {},
   "outputs": [],
   "source": [
    "df.to_csv(clean_fil, index=False)"
   ]
  },
  {
   "cell_type": "code",
   "execution_count": null,
   "metadata": {},
   "outputs": [],
   "source": []
  }
 ],
 "metadata": {
  "kernelspec": {
   "display_name": "Python 3",
   "language": "python",
   "name": "python3"
  },
  "language_info": {
   "codemirror_mode": {
    "name": "ipython",
    "version": 3
   },
   "file_extension": ".py",
   "mimetype": "text/x-python",
   "name": "python",
   "nbconvert_exporter": "python",
   "pygments_lexer": "ipython3",
   "version": "3.7.3"
  }
 },
 "nbformat": 4,
 "nbformat_minor": 2
}
