{
 "cells": [
  {
   "cell_type": "code",
   "execution_count": 1,
   "metadata": {},
   "outputs": [],
   "source": [
    "import numpy as np\n",
    "import pandas as pd\n",
    "import json\n",
    "import h5py\n",
    "import os\n",
    "import re\n",
    "import matplotlib.pyplot as plt\n",
    "from matplotlib.backends.backend_pdf import PdfPages"
   ]
  },
  {
   "cell_type": "markdown",
   "metadata": {},
   "source": [
    "## Load evaluation score"
   ]
  },
  {
   "cell_type": "code",
   "execution_count": 2,
   "metadata": {
    "scrolled": true
   },
   "outputs": [],
   "source": [
    "def load_eval_scores(model_dir):\n",
    "    filenames = os.listdir(model_dir)\n",
    "    \n",
    "    scores = pd.DataFrame(columns=range(3))\n",
    "    epochs = pd.DataFrame(columns=range(3))\n",
    "\n",
    "    idx_regex = re.compile(\"(\\S+)\\_(\\d)\\.h5\") # OBS! May need changing\n",
    "\n",
    "    for run, filename in enumerate(filenames):\n",
    "        idx_match = idx_regex.search(filename)\n",
    "        if idx_match is not None:\n",
    "            idx = idx_match.group(1)\n",
    "            fld = int(idx_match.group(2))\n",
    "                        \n",
    "            #if run > 200:\n",
    "            fh = h5py.File(model_dir + filename, 'r')\n",
    "            try:\n",
    "                scores.loc[idx, fld] = fh[\"performance\"].attrs[\"optimal_acc\"]\n",
    "                epochs.loc[idx, fld] = len(fh[\"performance\"][\"acc\"])\n",
    "            except KeyError:\n",
    "                fh.close()\n",
    "                pass\n",
    "            else:\n",
    "                fh.close()\n",
    "                \n",
    "                    \n",
    "    return scores, epochs"
   ]
  },
  {
   "cell_type": "markdown",
   "metadata": {},
   "source": [
    "## Load hyper-parameter grid"
   ]
  },
  {
   "cell_type": "code",
   "execution_count": 3,
   "metadata": {},
   "outputs": [],
   "source": [
    "def load_grid(filename):\n",
    "    with open(filename, 'r') as f:\n",
    "        param_grid = json.load(f)\n",
    "        \n",
    "    return param_grid"
   ]
  },
  {
   "cell_type": "markdown",
   "metadata": {},
   "source": [
    "## Frame hyper-parameters"
   ]
  },
  {
   "cell_type": "code",
   "execution_count": 4,
   "metadata": {},
   "outputs": [],
   "source": [
    "def frame_params(param_directory, parameters):\n",
    "    import os\n",
    "    import re\n",
    "    \n",
    "    \"\"\"\n",
    "    Load all dicts into a df\n",
    "    Each column is a parameter key\n",
    "    Each row is a model\n",
    "    The elements of the dataframe consists of values of each parameters used with that model\n",
    "    \"\"\"\n",
    "    \n",
    "    idx_regex = re.compile(\"(\\S+)\\.json\")\n",
    "    \n",
    "    param_files = os.listdir(param_directory)\n",
    "    \n",
    "    # Define empty dataframe\n",
    "    df = pd.DataFrame(columns=parameters)\n",
    "    \n",
    "    for filename in param_files:\n",
    "        idx_match = idx_regex.search(filename)\n",
    "        if idx_match is not None:\n",
    "            idx = idx_match.group(1)\n",
    "                        \n",
    "            param_settings = load_grid(param_directory + filename)\n",
    "            \n",
    "            df.loc[idx, param_settings.keys()] = param_settings.values()\n",
    "            \n",
    "            \n",
    "    return df"
   ]
  },
  {
   "cell_type": "markdown",
   "metadata": {},
   "source": [
    "## Combine average performance score with parameter frame"
   ]
  },
  {
   "cell_type": "code",
   "execution_count": 5,
   "metadata": {},
   "outputs": [],
   "source": [
    "def sort_according_to_score(df, scores):\n",
    "    scores['avg_score'] = scores.mean(axis=1)\n",
    "    scores['std'] = scores.std(axis=1)\n",
    "    \n",
    "    scores.sort_values(by='avg_score', ascending=False, inplace=True)\n",
    "    \n",
    "    return df.reindex(scores.index), scores"
   ]
  },
  {
   "cell_type": "markdown",
   "metadata": {},
   "source": [
    "## Score landscape"
   ]
  },
  {
   "cell_type": "code",
   "execution_count": 6,
   "metadata": {},
   "outputs": [],
   "source": [
    "def plot_score_landscape(avg_scores, std, upper_bound, lower_bound):\n",
    "    \n",
    "    fig = plt.figure(figsize=(20,10))\n",
    "    \n",
    "    ind = np.arange(len(avg_scores))\n",
    "    plt.plot(ind, avg_scores, color='lightblue', label='Mean accuracy')\n",
    "    plt.fill_between(ind, avg_scores-std, avg_scores+std, alpha=.1)\n",
    "    plt.xticks(ind[::50], rotation=30, horizontalalignment='right')\n",
    "    plt.xlabel(\"models\")\n",
    "    plt.ylabel(\"scores\")\n",
    "    plt.axvline(upper_bound, color='k', linestyle='dashed')\n",
    "    plt.axvline(lower_bound, color='k', linestyle='dashed')\n",
    "    plt.title(\"Average accuracy score landscape\")\n",
    "    plt.legend(loc='upper right', bbox_to_anchor=(1., 1))\n",
    "    plt.tight_layout()\n",
    "\n",
    "    plt.savefig(\"/home/hrp/Master/data/plots/hyperparam_eval/fine/performance_pr_hyperparam_set.png\")\n",
    "    pp = PdfPages(\"/home/hrp/Master/data/plots/hyperparam_eval/fine/performance_pr_hyperparam_set.pdf\")\n",
    "    pp.savefig()\n",
    "    pp.close()\n",
    "    plt.clf()\n",
    "    plt.cla()\n",
    "    plt.close()\n",
    "    \n",
    "    fig = plt.figure(figsize=(5,3))\n",
    "    \n",
    "    ind = np.arange(len(avg_scores))\n",
    "    plt.plot(ind, avg_scores, color='lightblue', label='Mean accuracy')\n",
    "    plt.fill_between(ind, avg_scores-std, avg_scores+std, alpha=.1)\n",
    "    plt.xticks(ind[::100], rotation=30, horizontalalignment='right')\n",
    "    plt.xlabel(\"models\")\n",
    "    plt.ylabel(\"scores\")\n",
    "    plt.axvline(upper_bound, color='k', linestyle='dashed', linewidth=1.0)\n",
    "    plt.axvline(lower_bound, color='k', linestyle='dashed', linewidth=1.0)\n",
    "    plt.title(\"Average accuracy score landscape\")\n",
    "    plt.legend(loc='lower left')#, bbox_to_anchor=(1., 1)\n",
    "    plt.tight_layout()\n",
    "\n",
    "    plt.savefig(\"/home/hrp/Master/data/plots/hyperparam_eval/fine/performance_pr_hyperparam_set_mini.png\")\n",
    "    pp = PdfPages(\"/home/hrp/Master/data/plots/hyperparam_eval/fine/performance_pr_hyperparam_set_mini.pdf\")\n",
    "    pp.savefig()\n",
    "    pp.close()\n",
    "    plt.clf()\n",
    "    plt.cla()\n",
    "    plt.close()"
   ]
  },
  {
   "cell_type": "code",
   "execution_count": 7,
   "metadata": {},
   "outputs": [],
   "source": [
    "def get_priors(df_colnames, param_grid):\n",
    "    from collections import Counter\n",
    "    \n",
    "    expectations = []\n",
    "    \n",
    "    for col in df_colnames:\n",
    "        parameters_exp = sorted(Counter(param_grid[col]).items())\n",
    "        total = np.sum(Counter(param_grid[col]).values())\n",
    "        expected = {str(k): [v, v/float(total)] for (k, v) in parameters_exp}\n",
    "        expectations.append(expected)\n",
    "        \n",
    "    return expectations"
   ]
  },
  {
   "cell_type": "code",
   "execution_count": 8,
   "metadata": {},
   "outputs": [],
   "source": [
    "def define_sample_populations(df_upper, df_lower): \n",
    "    from collections import Counter\n",
    "    \n",
    "    observations_upper = []\n",
    "    observations_lower = []\n",
    "    \n",
    "    for col in df_upper:\n",
    "        parameters_obs_up = sorted(Counter(df_upper[col]).items())\n",
    "        observed_up = {str(k): v for (k, v) in parameters_obs_up}\n",
    "        observations_upper.append(observed_up)\n",
    "\n",
    "        parameters_obs_low = sorted(Counter(df_lower[col]).items())\n",
    "        observed_low = {str(k): v for (k, v) in parameters_obs_low}\n",
    "        observations_lower.append(observed_low)\n",
    "    \n",
    "    return observations_upper, observations_lower"
   ]
  },
  {
   "cell_type": "markdown",
   "metadata": {},
   "source": [
    "## Bayesian statistics"
   ]
  },
  {
   "cell_type": "code",
   "execution_count": 9,
   "metadata": {},
   "outputs": [],
   "source": [
    "def infer_binomial_proportions(variable, n_pop1, n_obs1, n_pop2, n_obs2, n_trials=10000, p_hit=0.5, sig_level=0.05):\n",
    "    \"\"\"\n",
    "    Bayesian Analysis inferring two binomial proportions using PyMC.\n",
    "    \n",
    "    Arguments:\n",
    "        n_pop1       Size of first population.\n",
    "        n_obs1       Observed or counted hits (success) from the first population.\n",
    "        n_pop2       Size of second population.\n",
    "        n_obs2       Observed or counted hits (success) from the second population.\n",
    "        n_trials     Number of trials for binomial simulation. default = 10000.\n",
    "        p_hit        Probability of success. default = 0.5.\n",
    "        sig_level    Signinificance level plotted: default = 0.05.\n",
    "        save_fig     Save output figures in png-format.\n",
    "    Plots posterior with a 95% confidence interval. \n",
    "    If this interval contains 0, then the difference is NOT significant.\n",
    "    \"\"\"\n",
    "    \n",
    "    import pymc3 as pm\n",
    "    import scipy as sp\n",
    "    import scipy.stats as stats\n",
    "    from scipy.stats import beta\n",
    "    from scipy.stats import binom\n",
    "    \n",
    "    with pm.Model() as model:\n",
    "        \n",
    "        # Define the prior (here a binomial distribution as approximation)\n",
    "        success_freqs = np.random.binomial(n_trials, p_hit, size=n_trials)/float(n_trials)\n",
    "        # Parameter estimates for generic data\n",
    "        al, be, loc, scale = sp.stats.beta.fit(success_freqs)\n",
    "        mean = beta.mean(al, be, loc, scale)\n",
    "        std = beta.std(al, be, loc, scale)\n",
    "        print \"Generated beta prior with mean: {0} and std: {1}\".format(mean, std)\n",
    "        \n",
    "        # Expected value of parameters (success frequencies)\n",
    "        theta1 = pm.Beta('theta1', mu=mean, sd=std)\n",
    "        theta2 = pm.Beta('theta2', mu=mean, sd=std)\n",
    "        \n",
    "        # define the likelihood of estimated parameters given data\n",
    "        y1 = pm.Binomial(\"y1\", p=theta1, n=n_pop1, observed=n_obs1)\n",
    "        y2 = pm.Binomial(\"y2\", p=theta2, n=n_pop2, observed=n_obs2)\n",
    "\n",
    "        # Maximum a posteriori methods (generate a MCMC chain)\n",
    "        start = pm.find_MAP()  # Find starting value by optimization\n",
    "        trace = pm.sample(1000, pm.Metropolis(), progressbar=False, cores=1)  # Use Metropolis sampling\n",
    "        \n",
    "    pm.traceplot(trace)\n",
    "    plt.tight_layout\n",
    "    plt.savefig(\"/home/hrp/Master/data/plots/hyperparam_eval/fine/hyperparam_trace_\" + '_'.join(variable) + \".png\")\n",
    "    pp = PdfPages(\"/home/hrp/Master/data/plots/hyperparam_eval/fine/hyperparam_trace_\" + '_'.join(variable) + \".pdf\")\n",
    "    pp.savefig()\n",
    "    pp.close()\n",
    "    plt.clf()\n",
    "    plt.cla()\n",
    "    plt.close()\n",
    "    \n",
    "    # create an array with the posterior sample\n",
    "    theta1_sample = trace['theta1']\n",
    "    theta2_sample = trace['theta2']\n",
    "\n",
    "    # plot the trajectory of the last 500 sampled values.\n",
    "    plt.plot(theta1_sample[:-500], theta2_sample[:-500], marker='o',  color='skyblue')\n",
    "    plt.xlim(0, 1)\n",
    "    plt.ylim(0, 1)\n",
    "    plt.xlabel(r'$\\theta1$')\n",
    "    plt.ylabel(r'$\\theta2$')\n",
    "\n",
    "    # display means in plot.\n",
    "    plt.plot(0, label='means = %.3f, %.3f' % (np.mean(theta1_sample), np.mean(theta2_sample)), alpha=0.0)\n",
    "    plt.title(' '.join(variable))\n",
    "    plt.tight_layout\n",
    "    plt.savefig(\"/home/hrp/Master/data/plots/hyperparam_eval/fine/hyperparam_trajectory_\" + '_'.join(variable) + \".png\")\n",
    "    pp = PdfPages(\"/home/hrp/Master/data/plots/hyperparam_eval/fine/hyperparam_trajectory_\" + '_'.join(variable) + \".pdf\")\n",
    "    pp.savefig()\n",
    "    pp.close()\n",
    "    plt.clf()\n",
    "    plt.cla()\n",
    "    plt.close()\n",
    "\n",
    "    # plot a histogram of the posterior differences of theta values.\n",
    "    theta_diff = theta1_sample - theta2_sample\n",
    "    pm.plot_posterior(theta_diff, ref_val=0.0, bins=30, color='skyblue', alpha_level=sig_level)\n",
    "    plt.xlabel(r'$\\theta_1 - \\theta_2$')\n",
    "    plt.title(' '.join(variable))\n",
    "    plt.tight_layout\n",
    "\n",
    "    plt.savefig(\"/home/hrp/Master/data/plots/hyperparam_eval/fine/post_diff_hist_\" + '_'.join(variable) + \".png\")\n",
    "    pp = PdfPages(\"/home/hrp/Master/data/plots/hyperparam_eval/fine/post_diff_hist_\" + '_'.join(variable) + \".pdf\")\n",
    "    pp.savefig()\n",
    "    pp.close()\n",
    "    plt.clf()\n",
    "    plt.cla()\n",
    "    plt.close()"
   ]
  },
  {
   "cell_type": "code",
   "execution_count": 10,
   "metadata": {},
   "outputs": [],
   "source": [
    "import pymc3 as pm\n",
    "#?pm.sample"
   ]
  },
  {
   "cell_type": "markdown",
   "metadata": {},
   "source": [
    "# Input arguments"
   ]
  },
  {
   "cell_type": "code",
   "execution_count": 11,
   "metadata": {},
   "outputs": [],
   "source": [
    "model_dir = \"/home/hrp/Master/data/models/3xConv/fine/v0.1/\""
   ]
  },
  {
   "cell_type": "code",
   "execution_count": 12,
   "metadata": {},
   "outputs": [],
   "source": [
    "param_directory = \"/home/hrp/Master/data/grid_search/3xConv/fine/v0.1/\""
   ]
  },
  {
   "cell_type": "code",
   "execution_count": 13,
   "metadata": {},
   "outputs": [],
   "source": [
    "upper_bound = 100\n",
    "lower_bound = 700"
   ]
  },
  {
   "cell_type": "markdown",
   "metadata": {},
   "source": [
    "# Main"
   ]
  },
  {
   "cell_type": "code",
   "execution_count": 14,
   "metadata": {},
   "outputs": [],
   "source": [
    "scores, epochs = load_eval_scores(model_dir)"
   ]
  },
  {
   "cell_type": "code",
   "execution_count": 15,
   "metadata": {},
   "outputs": [
    {
     "data": {
      "image/png": "[encoded data removed]",
      "text/plain": [
       "<Figure size 432x288 with 1 Axes>"
      ]
     },
     "metadata": {},
     "output_type": "display_data"
    }
   ],
   "source": [
    "ax = epochs.plot.hist(bins=100, alpha=0.3)"
   ]
  },
  {
   "cell_type": "code",
   "execution_count": 24,
   "metadata": {},
   "outputs": [
    {
     "name": "stdout",
     "output_type": "stream",
     "text": [
      "0\n",
      "28\n",
      "170\n",
      "119.49033816425121\n",
      "0    119\n",
      "dtype: object\n",
      "1\n",
      "29\n",
      "178\n",
      "118.42857142857143\n",
      "0    114\n",
      "1    116\n",
      "dtype: object\n",
      "2\n",
      "29\n",
      "166\n",
      "116.81895504252734\n",
      "0    118\n",
      "dtype: object\n",
      "0    119.490338\n",
      "1    118.428571\n",
      "2    116.818955\n",
      "dtype: float64\n",
      "0    170.0\n",
      "1    178.0\n",
      "2    166.0\n",
      "dtype: float64\n"
     ]
    }
   ],
   "source": [
    "print(\"0\")\n",
    "print(epochs[0].min())\n",
    "print(epochs[0].max())\n",
    "print(epochs[0].mean())\n",
    "print(epochs[0].mode())\n",
    "print(\"1\")\n",
    "print(epochs[1].min())\n",
    "print(epochs[1].max())\n",
    "print(epochs[1].mean())\n",
    "print(epochs[1].mode())\n",
    "print(\"2\")\n",
    "print(epochs[2].min())\n",
    "print(epochs[2].max())\n",
    "print(epochs[2].mean())\n",
    "print(epochs[2].mode())\n",
    "print(epochs.mean())\n",
    "print(epochs.max())"
   ]
  },
  {
   "cell_type": "code",
   "execution_count": 17,
   "metadata": {},
   "outputs": [],
   "source": [
    "param_grid = load_grid(param_directory + 'grid.json')"
   ]
  },
  {
   "cell_type": "code",
   "execution_count": 18,
   "metadata": {},
   "outputs": [],
   "source": [
    "df = frame_params(param_directory, param_grid.keys())"
   ]
  },
  {
   "cell_type": "code",
   "execution_count": 19,
   "metadata": {},
   "outputs": [],
   "source": [
    "df, scores = sort_according_to_score(df, scores)"
   ]
  },
  {
   "cell_type": "code",
   "execution_count": 20,
   "metadata": {},
   "outputs": [
    {
     "data": {
      "text/html": [
       "<div>\n",
       "<style scoped>\n",
       "    .dataframe tbody tr th:only-of-type {\n",
       "        vertical-align: middle;\n",
       "    }\n",
       "\n",
       "    .dataframe tbody tr th {\n",
       "        vertical-align: top;\n",
       "    }\n",
       "\n",
       "    .dataframe thead th {\n",
       "        text-align: right;\n",
       "    }\n",
       "</style>\n",
       "<table border=\"1\" class=\"dataframe\">\n",
       "  <thead>\n",
       "    <tr style=\"text-align: right;\">\n",
       "      <th></th>\n",
       "      <th>learning_rate</th>\n",
       "      <th>batch_size</th>\n",
       "    </tr>\n",
       "  </thead>\n",
       "  <tbody>\n",
       "    <tr>\n",
       "      <th>32197112-c82a-4014-a93c-d6217ed1d3c3</th>\n",
       "      <td>0.005</td>\n",
       "      <td>1024</td>\n",
       "    </tr>\n",
       "    <tr>\n",
       "      <th>01e3ad14-074e-4330-961f-a7fe691b3b50</th>\n",
       "      <td>0.001</td>\n",
       "      <td>1024</td>\n",
       "    </tr>\n",
       "    <tr>\n",
       "      <th>97688d8f-013a-4c0b-857a-20ce8c019fce</th>\n",
       "      <td>0.001</td>\n",
       "      <td>1024</td>\n",
       "    </tr>\n",
       "    <tr>\n",
       "      <th>38ba73b8-5744-4c69-80ff-ff5f10e24290</th>\n",
       "      <td>0.0005</td>\n",
       "      <td>1024</td>\n",
       "    </tr>\n",
       "    <tr>\n",
       "      <th>0328e5d2-4a4a-49c8-9d7d-f7335e36b599</th>\n",
       "      <td>0.0001</td>\n",
       "      <td>1024</td>\n",
       "    </tr>\n",
       "    <tr>\n",
       "      <th>d83eaa22-00ab-4230-aa9e-63c0b2d9affd</th>\n",
       "      <td>0.0001</td>\n",
       "      <td>1024</td>\n",
       "    </tr>\n",
       "    <tr>\n",
       "      <th>0d940211-be54-4aec-bf31-c602330f429c</th>\n",
       "      <td>0.0001</td>\n",
       "      <td>1024</td>\n",
       "    </tr>\n",
       "    <tr>\n",
       "      <th>499170e0-ef03-494a-b86e-64e3b127bffd</th>\n",
       "      <td>0.005</td>\n",
       "      <td>1024</td>\n",
       "    </tr>\n",
       "    <tr>\n",
       "      <th>a667fe83-fd4d-4aea-b434-39eff43d8f77</th>\n",
       "      <td>0.0005</td>\n",
       "      <td>1024</td>\n",
       "    </tr>\n",
       "    <tr>\n",
       "      <th>2cea0276-3ffc-4503-9eb1-666f377b7cc3</th>\n",
       "      <td>0.001</td>\n",
       "      <td>1024</td>\n",
       "    </tr>\n",
       "    <tr>\n",
       "      <th>a5a20c67-d98d-4a1d-8146-2c7cab14d4e5</th>\n",
       "      <td>0.0005</td>\n",
       "      <td>1024</td>\n",
       "    </tr>\n",
       "    <tr>\n",
       "      <th>bc40c624-cfb3-4c8e-845f-e6dd24a80339</th>\n",
       "      <td>0.0005</td>\n",
       "      <td>1024</td>\n",
       "    </tr>\n",
       "    <tr>\n",
       "      <th>5ebe6812-55f1-4588-b16d-760e385cecd3</th>\n",
       "      <td>0.0001</td>\n",
       "      <td>1024</td>\n",
       "    </tr>\n",
       "    <tr>\n",
       "      <th>8f529fa3-3680-4f2f-b51a-fc5c977475b8</th>\n",
       "      <td>0.001</td>\n",
       "      <td>1024</td>\n",
       "    </tr>\n",
       "    <tr>\n",
       "      <th>d89e2370-578e-46e1-b74a-a2924dbe7c7c</th>\n",
       "      <td>0.001</td>\n",
       "      <td>1024</td>\n",
       "    </tr>\n",
       "    <tr>\n",
       "      <th>8d72ef0c-b62a-4198-b19b-6f3e2e8aef86</th>\n",
       "      <td>0.0001</td>\n",
       "      <td>1024</td>\n",
       "    </tr>\n",
       "    <tr>\n",
       "      <th>544fcb97-be16-4ab6-9e1d-4f95bee32edf</th>\n",
       "      <td>0.0005</td>\n",
       "      <td>1024</td>\n",
       "    </tr>\n",
       "    <tr>\n",
       "      <th>390a0a59-99b6-43fb-ace8-43a9b574b68a</th>\n",
       "      <td>0.0005</td>\n",
       "      <td>1024</td>\n",
       "    </tr>\n",
       "    <tr>\n",
       "      <th>502b0f95-05c0-4273-88c9-06a16ad34ed9</th>\n",
       "      <td>0.0005</td>\n",
       "      <td>1024</td>\n",
       "    </tr>\n",
       "    <tr>\n",
       "      <th>69d3e621-6fae-4927-9f9a-228d616791c4</th>\n",
       "      <td>0.0005</td>\n",
       "      <td>1024</td>\n",
       "    </tr>\n",
       "  </tbody>\n",
       "</table>\n",
       "</div>"
      ],
      "text/plain": [
       "                                     learning_rate batch_size\n",
       "32197112-c82a-4014-a93c-d6217ed1d3c3         0.005       1024\n",
       "01e3ad14-074e-4330-961f-a7fe691b3b50         0.001       1024\n",
       "97688d8f-013a-4c0b-857a-20ce8c019fce         0.001       1024\n",
       "38ba73b8-5744-4c69-80ff-ff5f10e24290        0.0005       1024\n",
       "0328e5d2-4a4a-49c8-9d7d-f7335e36b599        0.0001       1024\n",
       "d83eaa22-00ab-4230-aa9e-63c0b2d9affd        0.0001       1024\n",
       "0d940211-be54-4aec-bf31-c602330f429c        0.0001       1024\n",
       "499170e0-ef03-494a-b86e-64e3b127bffd         0.005       1024\n",
       "a667fe83-fd4d-4aea-b434-39eff43d8f77        0.0005       1024\n",
       "2cea0276-3ffc-4503-9eb1-666f377b7cc3         0.001       1024\n",
       "a5a20c67-d98d-4a1d-8146-2c7cab14d4e5        0.0005       1024\n",
       "bc40c624-cfb3-4c8e-845f-e6dd24a80339        0.0005       1024\n",
       "5ebe6812-55f1-4588-b16d-760e385cecd3        0.0001       1024\n",
       "8f529fa3-3680-4f2f-b51a-fc5c977475b8         0.001       1024\n",
       "d89e2370-578e-46e1-b74a-a2924dbe7c7c         0.001       1024\n",
       "8d72ef0c-b62a-4198-b19b-6f3e2e8aef86        0.0001       1024\n",
       "544fcb97-be16-4ab6-9e1d-4f95bee32edf        0.0005       1024\n",
       "390a0a59-99b6-43fb-ace8-43a9b574b68a        0.0005       1024\n",
       "502b0f95-05c0-4273-88c9-06a16ad34ed9        0.0005       1024\n",
       "69d3e621-6fae-4927-9f9a-228d616791c4        0.0005       1024"
      ]
     },
     "execution_count": 20,
     "metadata": {},
     "output_type": "execute_result"
    }
   ],
   "source": [
    "df.head(20)"
   ]
  },
  {
   "cell_type": "code",
   "execution_count": 21,
   "metadata": {},
   "outputs": [
    {
     "name": "stdout",
     "output_type": "stream",
     "text": [
      "0.9813172950371286\n",
      "0.9902841659133025\n",
      "828\n"
     ]
    }
   ],
   "source": [
    "print(scores[\"avg_score\"].min())\n",
    "print(scores[\"avg_score\"].max())\n",
    "print(len(scores[\"avg_score\"]))"
   ]
  },
  {
   "cell_type": "code",
   "execution_count": 22,
   "metadata": {},
   "outputs": [],
   "source": [
    "plot_score_landscape(np.array(scores[\"avg_score\"].astype(float)), np.array(scores[\"std\"].astype(float)), upper_bound, lower_bound)"
   ]
  },
  {
   "cell_type": "code",
   "execution_count": null,
   "metadata": {},
   "outputs": [],
   "source": [
    "expectations = get_priors(df.columns, param_grid)"
   ]
  },
  {
   "cell_type": "code",
   "execution_count": null,
   "metadata": {},
   "outputs": [],
   "source": [
    "df_upper = df.head(upper_bound)\n",
    "df_lower = df.tail(len(df) - lower_bound)"
   ]
  },
  {
   "cell_type": "code",
   "execution_count": null,
   "metadata": {},
   "outputs": [],
   "source": [
    "observations_upper, observations_lower = define_sample_populations(df_upper, df_lower)"
   ]
  },
  {
   "cell_type": "code",
   "execution_count": null,
   "metadata": {},
   "outputs": [],
   "source": [
    "assert len(expectations)==len(observations_lower)==len(observations_upper)"
   ]
  },
  {
   "cell_type": "code",
   "execution_count": null,
   "metadata": {},
   "outputs": [],
   "source": [
    "\n",
    "for i in range(len(df.columns)):\n",
    "    for key in expectations[i]:\n",
    "        print df.columns[i], key\n",
    "        p_prior = np.round(expectations[i][key][1], 3)\n",
    "        print \"prior probability: \", p_prior\n",
    "        \n",
    "        try:\n",
    "            obs_up = observations_upper[i][key]\n",
    "        except KeyError:\n",
    "            obs_up = 0\n",
    "        try:\n",
    "            obs_low = observations_lower[i][key]\n",
    "        except KeyError:\n",
    "            obs_low = 0\n",
    "            \n",
    "        print \"upper: {0}/{1} ({2}), lower: {3}/{4} ({5})\".format(obs_up, len(df_upper), obs_up/float(len(df_upper)), obs_low, len(df_lower), obs_low/float(len(df_lower)))\n",
    "        \n",
    "        infer_binomial_proportions(variable=[df.columns[i], key],\n",
    "                                   n_pop1=len(df_upper), \n",
    "                                   n_obs1=obs_up, \n",
    "                                   n_pop2=len(df_lower), \n",
    "                                   n_obs2=obs_low, \n",
    "                                   n_trials=len(df), \n",
    "                                   p_hit=p_prior,\n",
    "                                   sig_level=0.1)"
   ]
  },
  {
   "cell_type": "code",
   "execution_count": null,
   "metadata": {},
   "outputs": [],
   "source": [
    "1/16.0"
   ]
  },
  {
   "cell_type": "code",
   "execution_count": null,
   "metadata": {},
   "outputs": [],
   "source": [
    "3**8"
   ]
  },
  {
   "cell_type": "code",
   "execution_count": null,
   "metadata": {},
   "outputs": [],
   "source": [
    "230/6561.0"
   ]
  },
  {
   "cell_type": "code",
   "execution_count": null,
   "metadata": {},
   "outputs": [],
   "source": [
    "4*4*3*3*4*2*2*2"
   ]
  },
  {
   "cell_type": "code",
   "execution_count": null,
   "metadata": {},
   "outputs": [],
   "source": [
    "230/4608.0"
   ]
  },
  {
   "cell_type": "code",
   "execution_count": null,
   "metadata": {},
   "outputs": [],
   "source": [
    "40000*0.04991319444444445"
   ]
  },
  {
   "cell_type": "code",
   "execution_count": null,
   "metadata": {},
   "outputs": [],
   "source": [
    "2*3*2*24"
   ]
  },
  {
   "cell_type": "code",
   "execution_count": null,
   "metadata": {},
   "outputs": [],
   "source": [
    "import random\n",
    "from itertools import product\n",
    "\n",
    "a = [0.1,0.2,0.3]\n",
    "b = dict(lr=a)\n",
    "grid = list(product(*b.values()))\n",
    "print(grid)\n",
    "a[random.sample(range(len(a)),1)[0]]"
   ]
  },
  {
   "cell_type": "code",
   "execution_count": null,
   "metadata": {},
   "outputs": [],
   "source": [
    "1/8.0"
   ]
  },
  {
   "cell_type": "code",
   "execution_count": null,
   "metadata": {},
   "outputs": [],
   "source": []
  }
 ],
 "metadata": {
  "kernelspec": {
   "display_name": "thesis",
   "language": "python",
   "name": "thesis"
  },
  "language_info": {
   "codemirror_mode": {
    "name": "ipython",
    "version": 2
   },
   "file_extension": ".py",
   "mimetype": "text/x-python",
   "name": "python",
   "nbconvert_exporter": "python",
   "pygments_lexer": "ipython2",
   "version": "2.7.12"
  }
 },
 "nbformat": 4,
 "nbformat_minor": 2
}
