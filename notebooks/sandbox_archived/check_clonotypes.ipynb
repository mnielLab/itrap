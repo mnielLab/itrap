{
 "cells": [
  {
   "cell_type": "code",
   "execution_count": 1,
   "metadata": {},
   "outputs": [],
   "source": [
    "import pandas as pd\n",
    "import numpy as np\n",
    "import matplotlib.pyplot as plt"
   ]
  },
  {
   "cell_type": "code",
   "execution_count": 2,
   "metadata": {},
   "outputs": [],
   "source": [
    "plt.style.use('ggplot')"
   ]
  },
  {
   "cell_type": "markdown",
   "metadata": {},
   "source": [
    "# Args"
   ]
  },
  {
   "cell_type": "code",
   "execution_count": 5,
   "metadata": {},
   "outputs": [],
   "source": [
    "EXP = 'exp6'"
   ]
  },
  {
   "cell_type": "markdown",
   "metadata": {},
   "source": [
    "# Input"
   ]
  },
  {
   "cell_type": "code",
   "execution_count": 19,
   "metadata": {},
   "outputs": [],
   "source": [
    "unique_gem_file = \"/Volumes/tuba/herpov/tcr-pmhc-sc-project/data/\" + EXP + \"_CAT_IONTORRENT_KMA_AKB/specificity_matrix/peptide_per_clonotype_by_gem_size/num_clonotype/exclude_ambiguous_and_single-chain_TCRs/unique_gems/b1.t1.ecs_False.ess_False.lst\""
   ]
  },
  {
   "cell_type": "code",
   "execution_count": 20,
   "metadata": {},
   "outputs": [],
   "source": [
    "RAW_FILE = \"/Volumes/tuba/herpov/tcr-pmhc-sc-project/data/\" + EXP + \"_TCR/processed/cellranger_out/TCR_VDJ/outs/all_contig_annotations.csv\""
   ]
  },
  {
   "cell_type": "markdown",
   "metadata": {},
   "source": [
    "# Load"
   ]
  },
  {
   "cell_type": "code",
   "execution_count": 21,
   "metadata": {},
   "outputs": [],
   "source": [
    "df = pd.read_csv(RAW_FILE)"
   ]
  },
  {
   "cell_type": "code",
   "execution_count": 22,
   "metadata": {},
   "outputs": [],
   "source": [
    "unique_gems = np.loadtxt(unique_gem_file, dtype='U18')"
   ]
  },
  {
   "cell_type": "code",
   "execution_count": 23,
   "metadata": {},
   "outputs": [
    {
     "data": {
      "text/html": [
       "<div>\n",
       "<style scoped>\n",
       "    .dataframe tbody tr th:only-of-type {\n",
       "        vertical-align: middle;\n",
       "    }\n",
       "\n",
       "    .dataframe tbody tr th {\n",
       "        vertical-align: top;\n",
       "    }\n",
       "\n",
       "    .dataframe thead th {\n",
       "        text-align: right;\n",
       "    }\n",
       "</style>\n",
       "<table border=\"1\" class=\"dataframe\">\n",
       "  <thead>\n",
       "    <tr style=\"text-align: right;\">\n",
       "      <th></th>\n",
       "      <th>barcode</th>\n",
       "      <th>is_cell</th>\n",
       "      <th>contig_id</th>\n",
       "      <th>high_confidence</th>\n",
       "      <th>length</th>\n",
       "      <th>chain</th>\n",
       "      <th>v_gene</th>\n",
       "      <th>d_gene</th>\n",
       "      <th>j_gene</th>\n",
       "      <th>c_gene</th>\n",
       "      <th>full_length</th>\n",
       "      <th>productive</th>\n",
       "      <th>cdr3</th>\n",
       "      <th>cdr3_nt</th>\n",
       "      <th>reads</th>\n",
       "      <th>umis</th>\n",
       "      <th>raw_clonotype_id</th>\n",
       "      <th>raw_consensus_id</th>\n",
       "    </tr>\n",
       "  </thead>\n",
       "  <tbody>\n",
       "    <tr>\n",
       "      <td>0</td>\n",
       "      <td>AAACCTGAGTAGATGT-1</td>\n",
       "      <td>True</td>\n",
       "      <td>AAACCTGAGTAGATGT-1_contig_1</td>\n",
       "      <td>True</td>\n",
       "      <td>535</td>\n",
       "      <td>TRB</td>\n",
       "      <td>TRBV2</td>\n",
       "      <td>TRBD1</td>\n",
       "      <td>TRBJ1-5</td>\n",
       "      <td>TRBC1</td>\n",
       "      <td>True</td>\n",
       "      <td>True</td>\n",
       "      <td>CASSDAGTGYQPQHF</td>\n",
       "      <td>TGTGCCAGCAGTGATGCTGGGACAGGGTATCAGCCCCAGCATTTT</td>\n",
       "      <td>7094</td>\n",
       "      <td>5</td>\n",
       "      <td>clonotype22</td>\n",
       "      <td>clonotype22_consensus_2</td>\n",
       "    </tr>\n",
       "    <tr>\n",
       "      <td>1</td>\n",
       "      <td>AAACCTGAGTAGATGT-1</td>\n",
       "      <td>True</td>\n",
       "      <td>AAACCTGAGTAGATGT-1_contig_2</td>\n",
       "      <td>True</td>\n",
       "      <td>269</td>\n",
       "      <td>TRB</td>\n",
       "      <td>None</td>\n",
       "      <td>None</td>\n",
       "      <td>TRBJ2-3</td>\n",
       "      <td>TRBC2</td>\n",
       "      <td>False</td>\n",
       "      <td>None</td>\n",
       "      <td>None</td>\n",
       "      <td>None</td>\n",
       "      <td>1624</td>\n",
       "      <td>2</td>\n",
       "      <td>clonotype22</td>\n",
       "      <td>None</td>\n",
       "    </tr>\n",
       "    <tr>\n",
       "      <td>2</td>\n",
       "      <td>AAACCTGAGTAGATGT-1</td>\n",
       "      <td>True</td>\n",
       "      <td>AAACCTGAGTAGATGT-1_contig_3</td>\n",
       "      <td>False</td>\n",
       "      <td>506</td>\n",
       "      <td>TRB</td>\n",
       "      <td>TRBV7-3</td>\n",
       "      <td>TRBD2</td>\n",
       "      <td>TRBJ2-7</td>\n",
       "      <td>TRBC2</td>\n",
       "      <td>True</td>\n",
       "      <td>False</td>\n",
       "      <td>CQQGGEPPSYEQYF</td>\n",
       "      <td>TGCCAGCAGGGCGGGGAACCCCCCTCCTACGAGCAGTACTTC</td>\n",
       "      <td>1358</td>\n",
       "      <td>1</td>\n",
       "      <td>clonotype22</td>\n",
       "      <td>None</td>\n",
       "    </tr>\n",
       "    <tr>\n",
       "      <td>3</td>\n",
       "      <td>AAACCTGAGTAGATGT-1</td>\n",
       "      <td>True</td>\n",
       "      <td>AAACCTGAGTAGATGT-1_contig_4</td>\n",
       "      <td>True</td>\n",
       "      <td>588</td>\n",
       "      <td>TRA</td>\n",
       "      <td>TRAV38-2DV8</td>\n",
       "      <td>None</td>\n",
       "      <td>TRAJ48</td>\n",
       "      <td>TRAC</td>\n",
       "      <td>True</td>\n",
       "      <td>True</td>\n",
       "      <td>CAYRSANFGNEKLTF</td>\n",
       "      <td>TGTGCTTATAGGTCCGCTAACTTTGGAAATGAGAAATTAACCTTT</td>\n",
       "      <td>13508</td>\n",
       "      <td>11</td>\n",
       "      <td>clonotype22</td>\n",
       "      <td>clonotype22_consensus_1</td>\n",
       "    </tr>\n",
       "    <tr>\n",
       "      <td>4</td>\n",
       "      <td>AAACCTGAGTAGATGT-1</td>\n",
       "      <td>True</td>\n",
       "      <td>AAACCTGAGTAGATGT-1_contig_5</td>\n",
       "      <td>True</td>\n",
       "      <td>753</td>\n",
       "      <td>TRA</td>\n",
       "      <td>TRAV8-6</td>\n",
       "      <td>None</td>\n",
       "      <td>TRAJ35</td>\n",
       "      <td>TRAC</td>\n",
       "      <td>True</td>\n",
       "      <td>None</td>\n",
       "      <td>None</td>\n",
       "      <td>None</td>\n",
       "      <td>3274</td>\n",
       "      <td>3</td>\n",
       "      <td>clonotype22</td>\n",
       "      <td>None</td>\n",
       "    </tr>\n",
       "    <tr>\n",
       "      <td>...</td>\n",
       "      <td>...</td>\n",
       "      <td>...</td>\n",
       "      <td>...</td>\n",
       "      <td>...</td>\n",
       "      <td>...</td>\n",
       "      <td>...</td>\n",
       "      <td>...</td>\n",
       "      <td>...</td>\n",
       "      <td>...</td>\n",
       "      <td>...</td>\n",
       "      <td>...</td>\n",
       "      <td>...</td>\n",
       "      <td>...</td>\n",
       "      <td>...</td>\n",
       "      <td>...</td>\n",
       "      <td>...</td>\n",
       "      <td>...</td>\n",
       "      <td>...</td>\n",
       "    </tr>\n",
       "    <tr>\n",
       "      <td>7355</td>\n",
       "      <td>TTTGTCAGTGAAAGAG-1</td>\n",
       "      <td>False</td>\n",
       "      <td>TTTGTCAGTGAAAGAG-1_contig_1</td>\n",
       "      <td>True</td>\n",
       "      <td>508</td>\n",
       "      <td>TRB</td>\n",
       "      <td>TRBV10-3</td>\n",
       "      <td>TRBD1</td>\n",
       "      <td>TRBJ2-2</td>\n",
       "      <td>TRBC2</td>\n",
       "      <td>True</td>\n",
       "      <td>True</td>\n",
       "      <td>CAIRKQDQNTGELFF</td>\n",
       "      <td>TGTGCCATCAGAAAACAGGACCAAAACACCGGGGAGCTGTTTTTT</td>\n",
       "      <td>1144</td>\n",
       "      <td>1</td>\n",
       "      <td>None</td>\n",
       "      <td>None</td>\n",
       "    </tr>\n",
       "    <tr>\n",
       "      <td>7356</td>\n",
       "      <td>TTTGTCAGTGCAACGA-1</td>\n",
       "      <td>False</td>\n",
       "      <td>TTTGTCAGTGCAACGA-1_contig_1</td>\n",
       "      <td>True</td>\n",
       "      <td>502</td>\n",
       "      <td>TRB</td>\n",
       "      <td>TRBV7-9</td>\n",
       "      <td>None</td>\n",
       "      <td>TRBJ2-1</td>\n",
       "      <td>TRBC2</td>\n",
       "      <td>True</td>\n",
       "      <td>True</td>\n",
       "      <td>CASSLVVVDEQFF</td>\n",
       "      <td>TGTGCCAGCAGCTTAGTCGTTGTGGATGAGCAGTTCTTC</td>\n",
       "      <td>1185</td>\n",
       "      <td>1</td>\n",
       "      <td>None</td>\n",
       "      <td>None</td>\n",
       "    </tr>\n",
       "    <tr>\n",
       "      <td>7357</td>\n",
       "      <td>TTTGTCAGTGGCCCTA-1</td>\n",
       "      <td>False</td>\n",
       "      <td>TTTGTCAGTGGCCCTA-1_contig_1</td>\n",
       "      <td>True</td>\n",
       "      <td>507</td>\n",
       "      <td>TRB</td>\n",
       "      <td>TRBV7-2</td>\n",
       "      <td>None</td>\n",
       "      <td>TRBJ2-7</td>\n",
       "      <td>TRBC2</td>\n",
       "      <td>True</td>\n",
       "      <td>True</td>\n",
       "      <td>CASSLFPGDSSYEQYF</td>\n",
       "      <td>TGTGCCAGCAGCTTATTTCCCGGAGACTCTTCCTACGAGCAGTACTTC</td>\n",
       "      <td>338</td>\n",
       "      <td>1</td>\n",
       "      <td>None</td>\n",
       "      <td>None</td>\n",
       "    </tr>\n",
       "    <tr>\n",
       "      <td>7358</td>\n",
       "      <td>TTTGTCAGTTACGACT-1</td>\n",
       "      <td>False</td>\n",
       "      <td>TTTGTCAGTTACGACT-1_contig_1</td>\n",
       "      <td>True</td>\n",
       "      <td>486</td>\n",
       "      <td>TRA</td>\n",
       "      <td>TRAV12-1</td>\n",
       "      <td>None</td>\n",
       "      <td>TRAJ31</td>\n",
       "      <td>TRAC</td>\n",
       "      <td>True</td>\n",
       "      <td>True</td>\n",
       "      <td>CVVNNARLMF</td>\n",
       "      <td>TGTGTGGTTAACAATGCCAGACTCATGTTT</td>\n",
       "      <td>1416</td>\n",
       "      <td>1</td>\n",
       "      <td>None</td>\n",
       "      <td>None</td>\n",
       "    </tr>\n",
       "    <tr>\n",
       "      <td>7359</td>\n",
       "      <td>TTTGTCAGTTTGGCGC-1</td>\n",
       "      <td>False</td>\n",
       "      <td>TTTGTCAGTTTGGCGC-1_contig_1</td>\n",
       "      <td>True</td>\n",
       "      <td>508</td>\n",
       "      <td>TRA</td>\n",
       "      <td>TRAV38-1</td>\n",
       "      <td>None</td>\n",
       "      <td>TRAJ34</td>\n",
       "      <td>TRAC</td>\n",
       "      <td>True</td>\n",
       "      <td>True</td>\n",
       "      <td>CAFRSNTDKLIF</td>\n",
       "      <td>TGTGCTTTCAGGTCCAACACCGACAAGCTCATCTTT</td>\n",
       "      <td>1638</td>\n",
       "      <td>1</td>\n",
       "      <td>None</td>\n",
       "      <td>None</td>\n",
       "    </tr>\n",
       "  </tbody>\n",
       "</table>\n",
       "<p>7360 rows × 18 columns</p>\n",
       "</div>"
      ],
      "text/plain": [
       "                 barcode  is_cell                    contig_id  \\\n",
       "0     AAACCTGAGTAGATGT-1     True  AAACCTGAGTAGATGT-1_contig_1   \n",
       "1     AAACCTGAGTAGATGT-1     True  AAACCTGAGTAGATGT-1_contig_2   \n",
       "2     AAACCTGAGTAGATGT-1     True  AAACCTGAGTAGATGT-1_contig_3   \n",
       "3     AAACCTGAGTAGATGT-1     True  AAACCTGAGTAGATGT-1_contig_4   \n",
       "4     AAACCTGAGTAGATGT-1     True  AAACCTGAGTAGATGT-1_contig_5   \n",
       "...                  ...      ...                          ...   \n",
       "7355  TTTGTCAGTGAAAGAG-1    False  TTTGTCAGTGAAAGAG-1_contig_1   \n",
       "7356  TTTGTCAGTGCAACGA-1    False  TTTGTCAGTGCAACGA-1_contig_1   \n",
       "7357  TTTGTCAGTGGCCCTA-1    False  TTTGTCAGTGGCCCTA-1_contig_1   \n",
       "7358  TTTGTCAGTTACGACT-1    False  TTTGTCAGTTACGACT-1_contig_1   \n",
       "7359  TTTGTCAGTTTGGCGC-1    False  TTTGTCAGTTTGGCGC-1_contig_1   \n",
       "\n",
       "      high_confidence  length chain       v_gene d_gene   j_gene c_gene  \\\n",
       "0                True     535   TRB        TRBV2  TRBD1  TRBJ1-5  TRBC1   \n",
       "1                True     269   TRB         None   None  TRBJ2-3  TRBC2   \n",
       "2               False     506   TRB      TRBV7-3  TRBD2  TRBJ2-7  TRBC2   \n",
       "3                True     588   TRA  TRAV38-2DV8   None   TRAJ48   TRAC   \n",
       "4                True     753   TRA      TRAV8-6   None   TRAJ35   TRAC   \n",
       "...               ...     ...   ...          ...    ...      ...    ...   \n",
       "7355             True     508   TRB     TRBV10-3  TRBD1  TRBJ2-2  TRBC2   \n",
       "7356             True     502   TRB      TRBV7-9   None  TRBJ2-1  TRBC2   \n",
       "7357             True     507   TRB      TRBV7-2   None  TRBJ2-7  TRBC2   \n",
       "7358             True     486   TRA     TRAV12-1   None   TRAJ31   TRAC   \n",
       "7359             True     508   TRA     TRAV38-1   None   TRAJ34   TRAC   \n",
       "\n",
       "      full_length productive              cdr3  \\\n",
       "0            True       True   CASSDAGTGYQPQHF   \n",
       "1           False       None              None   \n",
       "2            True      False    CQQGGEPPSYEQYF   \n",
       "3            True       True   CAYRSANFGNEKLTF   \n",
       "4            True       None              None   \n",
       "...           ...        ...               ...   \n",
       "7355         True       True   CAIRKQDQNTGELFF   \n",
       "7356         True       True     CASSLVVVDEQFF   \n",
       "7357         True       True  CASSLFPGDSSYEQYF   \n",
       "7358         True       True        CVVNNARLMF   \n",
       "7359         True       True      CAFRSNTDKLIF   \n",
       "\n",
       "                                               cdr3_nt  reads  umis  \\\n",
       "0        TGTGCCAGCAGTGATGCTGGGACAGGGTATCAGCCCCAGCATTTT   7094     5   \n",
       "1                                                 None   1624     2   \n",
       "2           TGCCAGCAGGGCGGGGAACCCCCCTCCTACGAGCAGTACTTC   1358     1   \n",
       "3        TGTGCTTATAGGTCCGCTAACTTTGGAAATGAGAAATTAACCTTT  13508    11   \n",
       "4                                                 None   3274     3   \n",
       "...                                                ...    ...   ...   \n",
       "7355     TGTGCCATCAGAAAACAGGACCAAAACACCGGGGAGCTGTTTTTT   1144     1   \n",
       "7356           TGTGCCAGCAGCTTAGTCGTTGTGGATGAGCAGTTCTTC   1185     1   \n",
       "7357  TGTGCCAGCAGCTTATTTCCCGGAGACTCTTCCTACGAGCAGTACTTC    338     1   \n",
       "7358                    TGTGTGGTTAACAATGCCAGACTCATGTTT   1416     1   \n",
       "7359              TGTGCTTTCAGGTCCAACACCGACAAGCTCATCTTT   1638     1   \n",
       "\n",
       "     raw_clonotype_id         raw_consensus_id  \n",
       "0         clonotype22  clonotype22_consensus_2  \n",
       "1         clonotype22                     None  \n",
       "2         clonotype22                     None  \n",
       "3         clonotype22  clonotype22_consensus_1  \n",
       "4         clonotype22                     None  \n",
       "...               ...                      ...  \n",
       "7355             None                     None  \n",
       "7356             None                     None  \n",
       "7357             None                     None  \n",
       "7358             None                     None  \n",
       "7359             None                     None  \n",
       "\n",
       "[7360 rows x 18 columns]"
      ]
     },
     "execution_count": 23,
     "metadata": {},
     "output_type": "execute_result"
    }
   ],
   "source": [
    "df"
   ]
  },
  {
   "cell_type": "code",
   "execution_count": 24,
   "metadata": {},
   "outputs": [
    {
     "data": {
      "text/plain": [
       "(76,)"
      ]
     },
     "execution_count": 24,
     "metadata": {},
     "output_type": "execute_result"
    }
   ],
   "source": [
    "unique_gems.shape"
   ]
  },
  {
   "cell_type": "markdown",
   "metadata": {},
   "source": [
    "# Main"
   ]
  },
  {
   "cell_type": "code",
   "execution_count": 26,
   "metadata": {},
   "outputs": [],
   "source": [
    "df = df[df.barcode.isin(unique_gems)]"
   ]
  },
  {
   "cell_type": "code",
   "execution_count": 39,
   "metadata": {
    "scrolled": false
   },
   "outputs": [],
   "source": [
    "KLLEIAPNC = df[df.raw_clonotype_id.isin(['clonotype4','clonotype88','clonotype5','clonotype3']) & ~(df.cdr3 == 'None')]\n",
    "YIGEVLVSV = df[df.raw_clonotype_id.isin(['clonotype10','clonotype39','clonotype16']) & ~(df.cdr3 == 'None')]\n",
    "VLHDDLLEA = df[df.raw_clonotype_id.isin(['clonotype2','clonotype19','clonotype14']) & ~(df.cdr3 == 'None')]\n",
    "SVAPALALFPA = df[df.raw_clonotype_id.isin(['clonotype5','clonotype73','clonotype77','clonotype102','clonotype2', 'clonotype3']) & ~(df.cdr3 == 'None')]"
   ]
  },
  {
   "cell_type": "code",
   "execution_count": 44,
   "metadata": {},
   "outputs": [
    {
     "data": {
      "text/plain": [
       "chain  v_gene    d_gene  j_gene   c_gene  cdr3                    \n",
       "TRA    TRAV1-2   None    TRAJ33   TRAC    CAVMDSNYQLIW                 1\n",
       "       TRAV17    None    TRAJ12   TRAC    CATVLRMDSSYKLIF             18\n",
       "       TRAV22    None    TRAJ58   TRAC    CSNSGSRLTF                  11\n",
       "       TRAV9-2   None    TRAJ10   TRAC    CALTGGGNKLTF                 2\n",
       "TRB    TRBV10-3  TRBD1   TRBJ2-2  TRBC2   CAIRKQDQNTGELFF              2\n",
       "       TRBV18    TRBD2   TRBJ2-1  TRBC2   CEEIRQLISVPAPGLAGLTMSSSS     1\n",
       "       TRBV20-1  TRBD1   TRBJ2-3  TRBC2   CSARETGGGESDTQYF             1\n",
       "       TRBV4-1   None    TRBJ1-4  TRBC1   CASSQGTAEKLFF               11\n",
       "       TRBV7-9   TRBD2   TRBJ2-1  TRBC2   CASSQIGEGHGDEQFF            18\n",
       "Name: barcode, dtype: int64"
      ]
     },
     "execution_count": 44,
     "metadata": {},
     "output_type": "execute_result"
    }
   ],
   "source": [
    "KLLEIAPNC.groupby(['chain','v_gene','d_gene','j_gene','c_gene', 'cdr3']).barcode.nunique()"
   ]
  },
  {
   "cell_type": "code",
   "execution_count": 45,
   "metadata": {},
   "outputs": [
    {
     "data": {
      "text/plain": [
       "chain  v_gene   d_gene  j_gene   c_gene  cdr3               \n",
       "TRA    TRAV17   None    TRAJ44   TRAC    CATVASKLTF             2\n",
       "       TRAV3    None    TRAJ24   TRAC    CAVSLN*QLGEIAVWSRDP    1\n",
       "       TRAV5    None    TRAJ42   TRAC    CAETAGYGGSQGNLIF       2\n",
       "TRB    TRBV18   TRBD2   TRBJ2-1  TRBC2   CASSRTSGANNEQFF        2\n",
       "       TRBV7-9  TRBD1   TRBJ2-1  TRBC2   CASTPTGLGVDEQFF        2\n",
       "Name: barcode, dtype: int64"
      ]
     },
     "execution_count": 45,
     "metadata": {},
     "output_type": "execute_result"
    }
   ],
   "source": [
    "YIGEVLVSV.groupby(['chain','v_gene','d_gene','j_gene','c_gene', 'cdr3']).barcode.nunique()"
   ]
  },
  {
   "cell_type": "code",
   "execution_count": 46,
   "metadata": {},
   "outputs": [
    {
     "data": {
      "text/plain": [
       "chain  v_gene    d_gene  j_gene   c_gene  cdr3            \n",
       "TRA    TRAV1-1   None    TRAJ36   TRAC    CAVTPGANNLFF         1\n",
       "       TRAV12-1  None    TRAJ9    TRAC    CVVNIPQNTGGFKTIF     3\n",
       "       TRAV13-1  None    TRAJ47   TRAC    CAASNLVF            17\n",
       "TRB    TRBV10-2  TRBD1   TRBJ1-2  TRBC1   CASSPGTGTYGYTF       3\n",
       "       TRBV2     TRBD1   TRBJ2-5  TRBC2   CASSEATGTGETQYF      1\n",
       "       TRBV7-9   None    TRBJ2-1  TRBC2   CASSLVVVDEQFF       17\n",
       "Name: barcode, dtype: int64"
      ]
     },
     "execution_count": 46,
     "metadata": {},
     "output_type": "execute_result"
    }
   ],
   "source": [
    "VLHDDLLEA.groupby(['chain','v_gene','d_gene','j_gene','c_gene', 'cdr3']).barcode.nunique()"
   ]
  },
  {
   "cell_type": "code",
   "execution_count": 47,
   "metadata": {},
   "outputs": [
    {
     "data": {
      "text/plain": [
       "chain  v_gene    d_gene  j_gene   c_gene  cdr3                    \n",
       "TRA    TRAV1-2   None    TRAJ16   TRAC    CASSDGQKLLF                  1\n",
       "       TRAV13-1  None    TRAJ47   TRAC    CAASNLVF                    18\n",
       "       TRAV17    None    TRAJ12   TRAC    CATVLRMDSSYKLIF             18\n",
       "       TRAV22    None    TRAJ58   TRAC    CSNSGSRLTF                  11\n",
       "       TRAV27    None    TRAJ54   TRAC    CAGLPIIQGAQKLVF              1\n",
       "TRB    TRBV18    TRBD2   TRBJ2-1  TRBC2   CEEIRQLISVPAPGLAGLTMSSSS     1\n",
       "       TRBV30    TRBD2   TRBJ2-1  TRBC2   CAWSADTPGGNEQFF              1\n",
       "       TRBV4-1   None    TRBJ1-4  TRBC1   CASSQGTAEKLFF               12\n",
       "       TRBV5-1   None    TRBJ1-1  TRBC1   CASKTEVLFNTEAFF              1\n",
       "       TRBV7-9   None    TRBJ2-1  TRBC2   CASSLVVVDEQFF               17\n",
       "                 TRBD2   TRBJ2-1  TRBC2   CASSQIGEGHGDEQFF            18\n",
       "Name: barcode, dtype: int64"
      ]
     },
     "execution_count": 47,
     "metadata": {},
     "output_type": "execute_result"
    }
   ],
   "source": [
    "SVAPALALFPA.groupby(['chain','v_gene','d_gene','j_gene','c_gene', 'cdr3']).barcode.nunique()"
   ]
  },
  {
   "cell_type": "code",
   "execution_count": null,
   "metadata": {},
   "outputs": [],
   "source": []
  },
  {
   "cell_type": "code",
   "execution_count": null,
   "metadata": {},
   "outputs": [],
   "source": []
  },
  {
   "cell_type": "code",
   "execution_count": null,
   "metadata": {},
   "outputs": [],
   "source": []
  }
 ],
 "metadata": {
  "kernelspec": {
   "display_name": "Python 3",
   "language": "python",
   "name": "python3"
  },
  "language_info": {
   "codemirror_mode": {
    "name": "ipython",
    "version": 3
   },
   "file_extension": ".py",
   "mimetype": "text/x-python",
   "name": "python",
   "nbconvert_exporter": "python",
   "pygments_lexer": "ipython3",
   "version": "3.7.4"
  }
 },
 "nbformat": 4,
 "nbformat_minor": 2
}
