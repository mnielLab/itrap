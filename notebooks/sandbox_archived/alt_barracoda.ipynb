{
 "cells": [
  {
   "cell_type": "code",
   "execution_count": 1,
   "metadata": {},
   "outputs": [],
   "source": [
    "import numpy as np\n",
    "import pandas as pd\n",
    "\n",
    "from Bio import SeqIO\n",
    "from Bio import pairwise2"
   ]
  },
  {
   "cell_type": "code",
   "execution_count": 2,
   "metadata": {},
   "outputs": [],
   "source": [
    "transtable = str.maketrans(\"ACTG\",\"TGAC\")"
   ]
  },
  {
   "cell_type": "markdown",
   "metadata": {},
   "source": [
    "# Doc string"
   ]
  },
  {
   "cell_type": "code",
   "execution_count": 3,
   "metadata": {},
   "outputs": [
    {
     "data": {
      "text/plain": [
       "'\\nNew barracoda!\\n\\nProcedure for each read:\\nDetect b_oligo and a_oligo\\n'"
      ]
     },
     "execution_count": 3,
     "metadata": {},
     "output_type": "execute_result"
    }
   ],
   "source": [
    "\"\"\"\n",
    "New barracoda!\n",
    "\n",
    "Procedure for each read:\n",
    "Detect b_oligo and a_oligo\n",
    "\"\"\""
   ]
  },
  {
   "cell_type": "markdown",
   "metadata": {},
   "source": [
    "# Args\n",
    "TSO, PRIMER_R4, B_OLIGO are same sense as iontorrent seq data\n",
    "\n",
    "\n",
    "ANNEARL, A_OLIGO, PRIMER_P1 are negative sense of seq data"
   ]
  },
  {
   "cell_type": "code",
   "execution_count": 4,
   "metadata": {},
   "outputs": [],
   "source": [
    "TSO = \"TTTCTTATATGGG\"\n",
    "PRIMER_R4 = \"CGAGTACCATGGGCGTAAC\"\n",
    "ANNEAL = \"GTGTGACCTTCCCCAAAAGGCGTAG\".translate(transtable)[::-1]\n",
    "PRIMER_P1 = \"GAAGTTCCAGCCAGCGTC\".translate(transtable)[::-1] # Used only for MHC barcodes\n",
    "PRIMER_P1 = \"GTAAAAGATCCCAGGTTTCATC\".translate(transtable)[::-1] # Used only for CD8 barcodes\n",
    "PRIMER = TSO + PRIMER_R4"
   ]
  },
  {
   "cell_type": "code",
   "execution_count": 5,
   "metadata": {},
   "outputs": [
    {
     "data": {
      "text/plain": [
       "'CTACGCCTTTTGGGGAAGGTCACAC'"
      ]
     },
     "execution_count": 5,
     "metadata": {},
     "output_type": "execute_result"
    }
   ],
   "source": [
    "ANNEAL"
   ]
  },
  {
   "cell_type": "code",
   "execution_count": 6,
   "metadata": {},
   "outputs": [
    {
     "data": {
      "text/plain": [
       "'GGTTATCAAGGTCCTATACCCGCAG'"
      ]
     },
     "execution_count": 6,
     "metadata": {},
     "output_type": "execute_result"
    }
   ],
   "source": [
    "# CD8 oligo A\n",
    "\"CTGCGGGTATAGGACCTTGATAACC\".translate(transtable)[::-1]"
   ]
  },
  {
   "cell_type": "code",
   "execution_count": 7,
   "metadata": {},
   "outputs": [
    {
     "data": {
      "text/plain": [
       "'TGGAATTCTCGGGTGCCAAGGAACTCCAGTCACATCACGATCTCGTATGCCGTCTTCTGCTTG'"
      ]
     },
     "execution_count": 7,
     "metadata": {},
     "output_type": "execute_result"
    }
   ],
   "source": [
    "\"CAAGCAGAAGACGGCATACGAGATCGTGATGTGACTGGAGTTCCTTGGCACCCGAGAATTCCA\".translate(transtable)[::-1]"
   ]
  },
  {
   "cell_type": "markdown",
   "metadata": {},
   "source": [
    "# Load data"
   ]
  },
  {
   "cell_type": "code",
   "execution_count": 5,
   "metadata": {},
   "outputs": [],
   "source": [
    "BARCODE_READS = \"../data/exp3_MHC/processed/longranger_clean/tmp/grep-anneal-reads-both-ends.fa\"\n",
    "OLIGO_A_SEQS = \"../data/exp3_MHC/barcode_library/oligo_a.fa\"\n",
    "OLIGO_B_SEQS = \"../data/exp3_MHC/barcode_library/oligo_b.fa\"\n",
    "SAMPLE_SEQS = \"../data/exp3_MHC/barcode_library/sample.fa\""
   ]
  },
  {
   "cell_type": "markdown",
   "metadata": {},
   "source": [
    "# Import data"
   ]
  },
  {
   "cell_type": "code",
   "execution_count": 6,
   "metadata": {},
   "outputs": [],
   "source": [
    "oligo_a_records = list()\n",
    "for record in SeqIO.parse(OLIGO_A_SEQS, \"fasta\"):\n",
    "    record.seq = record.seq.reverse_complement()\n",
    "    oligo_a_records.append(record)"
   ]
  },
  {
   "cell_type": "code",
   "execution_count": 7,
   "metadata": {},
   "outputs": [],
   "source": [
    "oligo_b_records = list()\n",
    "for record in SeqIO.parse(OLIGO_B_SEQS, \"fasta\"):\n",
    "    oligo_b_records.append(record)"
   ]
  },
  {
   "cell_type": "code",
   "execution_count": 8,
   "metadata": {},
   "outputs": [],
   "source": [
    "sample_records = list()\n",
    "for record in SeqIO.parse(SAMPLE_SEQS, \"fasta\"):\n",
    "    sample_records.append(record)"
   ]
  },
  {
   "cell_type": "code",
   "execution_count": null,
   "metadata": {
    "scrolled": true
   },
   "outputs": [],
   "source": [
    "for seq_record in SeqIO.parse(OLIGO_A_SEQS, \"fasta\"):\n",
    "    print(seq_record.id)\n",
    "    print(repr(seq_record.seq))\n",
    "    print(len(seq_record))"
   ]
  },
  {
   "cell_type": "markdown",
   "metadata": {},
   "source": [
    "# Find oligos and positions"
   ]
  },
  {
   "cell_type": "code",
   "execution_count": 9,
   "metadata": {},
   "outputs": [],
   "source": [
    "def get_best_alignment(barcode_record, query_records, query_name):\n",
    "    \"\"\"\n",
    "    Pairwise alignments to identify which query_record is source of the barcode.\n",
    "    The best score desides which record. The score, the alignment length, the start and end positions are annotated\n",
    "    \"\"\"\n",
    "    \n",
    "    best_alignment = [('',  '', 0, 0, 0)]\n",
    "    for record in query_records:\n",
    "        alignment_score = pairwise2.align.localxd(barcode_record.seq, record.seq, -0.4, -0.1, -4, -1, score_only=True)\n",
    "        if alignment_score > best_alignment[0][2]:\n",
    "            best_alignment = pairwise2.align.localxd(barcode_record.seq, record.seq, -0.4, -0.1, -4, -1, score_only=False)\n",
    "            query_len = len(record.seq)\n",
    "\n",
    "    assert best_alignment[0][4] != 0\n",
    "    assert len(best_alignment[0][0]) == len(best_alignment[0][1])\n",
    "    \n",
    "    return pd.Series([barcode_record.id,\n",
    "                      record.id,\n",
    "                      query_name,\n",
    "                      query_len,\n",
    "                      best_alignment[0][2],\n",
    "                      best_alignment[0][3],\n",
    "                      best_alignment[0][4],\n",
    "                      len(best_alignment[0][0])],\n",
    "                      index = (\"barcode_id\", \"query_id\", \"query\", \"query_len\", \"align_score\", \"align_start\", \"align_end\", \"align_len\"))"
   ]
  },
  {
   "cell_type": "code",
   "execution_count": null,
   "metadata": {},
   "outputs": [],
   "source": [
    "chunk_size = 10\n",
    "column_dtypes = {\"barcode_id\": \"object\",\n",
    "                 \"query_id\": \"object\",\n",
    "                 \"query\": \"object\",\n",
    "                 \"query_len\": \"int64\",\n",
    "                 \"align_score\": \"float64\",\n",
    "                 \"align_start\": \"int64\",\n",
    "                 \"align_end\": \"int64\",\n",
    "                 \"align_len\": \"int64\"}\n",
    "\n",
    "align_df = pd.DataFrame(columns=(\"barcode_id\", \"query_id\", \"query\", \"query_len\", \"align_score\", \"align_start\", \"align_end\", \"align_len\"))\n"
   ]
  },
  {
   "cell_type": "code",
   "execution_count": null,
   "metadata": {},
   "outputs": [],
   "source": [
    "align_df"
   ]
  },
  {
   "cell_type": "code",
   "execution_count": 14,
   "metadata": {},
   "outputs": [
    {
     "data": {
      "text/html": [
       "<div>\n",
       "<style scoped>\n",
       "    .dataframe tbody tr th:only-of-type {\n",
       "        vertical-align: middle;\n",
       "    }\n",
       "\n",
       "    .dataframe tbody tr th {\n",
       "        vertical-align: top;\n",
       "    }\n",
       "\n",
       "    .dataframe thead th {\n",
       "        text-align: right;\n",
       "    }\n",
       "</style>\n",
       "<table border=\"1\" class=\"dataframe\">\n",
       "  <thead>\n",
       "    <tr style=\"text-align: right;\">\n",
       "      <th></th>\n",
       "      <th>barcode_id</th>\n",
       "      <th>query_id</th>\n",
       "      <th>query</th>\n",
       "      <th>query_len</th>\n",
       "      <th>align_score</th>\n",
       "      <th>align_start</th>\n",
       "      <th>align_end</th>\n",
       "      <th>align_len</th>\n",
       "    </tr>\n",
       "  </thead>\n",
       "  <tbody>\n",
       "    <tr>\n",
       "      <th>0</th>\n",
       "      <td>HBBAF:00130:00791</td>\n",
       "      <td>2OS-AB1-A4000</td>\n",
       "      <td>oligo_a</td>\n",
       "      <td>25</td>\n",
       "      <td>25.0</td>\n",
       "      <td>87</td>\n",
       "      <td>112</td>\n",
       "      <td>124</td>\n",
       "    </tr>\n",
       "    <tr>\n",
       "      <th>1</th>\n",
       "      <td>HBBAF:00130:00791</td>\n",
       "      <td>2OS-4-long-Oligo-B302</td>\n",
       "      <td>oligo_b</td>\n",
       "      <td>25</td>\n",
       "      <td>25.0</td>\n",
       "      <td>37</td>\n",
       "      <td>62</td>\n",
       "      <td>124</td>\n",
       "    </tr>\n",
       "    <tr>\n",
       "      <th>2</th>\n",
       "      <td>HBBAF:00130:00791</td>\n",
       "      <td>bc25mer_51469</td>\n",
       "      <td>sample</td>\n",
       "      <td>8</td>\n",
       "      <td>5.6</td>\n",
       "      <td>51</td>\n",
       "      <td>59</td>\n",
       "      <td>125</td>\n",
       "    </tr>\n",
       "  </tbody>\n",
       "</table>\n",
       "</div>"
      ],
      "text/plain": [
       "          barcode_id               query_id    query query_len  align_score  \\\n",
       "0  HBBAF:00130:00791          2OS-AB1-A4000  oligo_a        25         25.0   \n",
       "1  HBBAF:00130:00791  2OS-4-long-Oligo-B302  oligo_b        25         25.0   \n",
       "2  HBBAF:00130:00791          bc25mer_51469   sample         8          5.6   \n",
       "\n",
       "  align_start align_end align_len  \n",
       "0          87       112       124  \n",
       "1          37        62       124  \n",
       "2          51        59       125  "
      ]
     },
     "execution_count": 14,
     "metadata": {},
     "output_type": "execute_result"
    }
   ],
   "source": [
    "i = 0\n",
    "chunk_size = 10\n",
    "\n",
    "align_df = pd.DataFrame(columns=(\"barcode_id\", \"query_id\", \"query\", \"query_len\", \"align_score\", \"align_start\", \"align_end\", \"align_len\"))\n",
    "for barcode_record in SeqIO.parse(BARCODE_READS, \"fasta\"):\n",
    "    oligo_a_alignment = get_best_alignment(barcode_record, oligo_a_records, \"oligo_a\")\n",
    "    oligo_b_alignment = get_best_alignment(barcode_record, oligo_b_records, \"oligo_b\")\n",
    "    sample_alignment = get_best_alignment(barcode_record, sample_records, \"sample\")\n",
    "    \n",
    "    align_df = align_df.append([oligo_a_alignment, oligo_b_alignment, sample_alignment], ignore_index=True)\n",
    "    i += 1\n",
    "    if i > 0:\n",
    "        break\n",
    "        \n",
    "align_df\n",
    "#print(pairwise2.format_alignment(*alignments[0]))"
   ]
  },
  {
   "cell_type": "code",
   "execution_count": 15,
   "metadata": {},
   "outputs": [
    {
     "data": {
      "text/html": [
       "<div>\n",
       "<style scoped>\n",
       "    .dataframe tbody tr th:only-of-type {\n",
       "        vertical-align: middle;\n",
       "    }\n",
       "\n",
       "    .dataframe tbody tr th {\n",
       "        vertical-align: top;\n",
       "    }\n",
       "\n",
       "    .dataframe thead th {\n",
       "        text-align: right;\n",
       "    }\n",
       "</style>\n",
       "<table border=\"1\" class=\"dataframe\">\n",
       "  <thead>\n",
       "    <tr style=\"text-align: right;\">\n",
       "      <th></th>\n",
       "      <th>barcode_id</th>\n",
       "      <th>query_id</th>\n",
       "      <th>query</th>\n",
       "      <th>query_len</th>\n",
       "      <th>align_score</th>\n",
       "      <th>align_start</th>\n",
       "      <th>align_end</th>\n",
       "      <th>align_len</th>\n",
       "    </tr>\n",
       "  </thead>\n",
       "  <tbody>\n",
       "    <tr>\n",
       "      <th>0</th>\n",
       "      <td>HBBAF:00130:00791</td>\n",
       "      <td>2OS-AB1-A4000</td>\n",
       "      <td>oligo_a</td>\n",
       "      <td>25</td>\n",
       "      <td>25.0</td>\n",
       "      <td>87</td>\n",
       "      <td>112</td>\n",
       "      <td>124</td>\n",
       "    </tr>\n",
       "    <tr>\n",
       "      <th>1</th>\n",
       "      <td>HBBAF:00130:00791</td>\n",
       "      <td>2OS-4-long-Oligo-B302</td>\n",
       "      <td>oligo_b</td>\n",
       "      <td>25</td>\n",
       "      <td>25.0</td>\n",
       "      <td>37</td>\n",
       "      <td>62</td>\n",
       "      <td>124</td>\n",
       "    </tr>\n",
       "    <tr>\n",
       "      <th>2</th>\n",
       "      <td>HBBAF:00130:00791</td>\n",
       "      <td>bc25mer_51469</td>\n",
       "      <td>sample</td>\n",
       "      <td>8</td>\n",
       "      <td>5.6</td>\n",
       "      <td>51</td>\n",
       "      <td>59</td>\n",
       "      <td>125</td>\n",
       "    </tr>\n",
       "    <tr>\n",
       "      <th>3</th>\n",
       "      <td>HBBAF:00130:00791</td>\n",
       "      <td>2OS-AB1-A4000</td>\n",
       "      <td>oligo_a</td>\n",
       "      <td>25</td>\n",
       "      <td>25.0</td>\n",
       "      <td>87</td>\n",
       "      <td>112</td>\n",
       "      <td>124</td>\n",
       "    </tr>\n",
       "    <tr>\n",
       "      <th>4</th>\n",
       "      <td>HBBAF:00130:00791</td>\n",
       "      <td>2OS-4-long-Oligo-B302</td>\n",
       "      <td>oligo_b</td>\n",
       "      <td>25</td>\n",
       "      <td>25.0</td>\n",
       "      <td>37</td>\n",
       "      <td>62</td>\n",
       "      <td>124</td>\n",
       "    </tr>\n",
       "    <tr>\n",
       "      <th>5</th>\n",
       "      <td>HBBAF:00130:00791</td>\n",
       "      <td>bc25mer_51469</td>\n",
       "      <td>sample</td>\n",
       "      <td>8</td>\n",
       "      <td>5.6</td>\n",
       "      <td>51</td>\n",
       "      <td>59</td>\n",
       "      <td>125</td>\n",
       "    </tr>\n",
       "  </tbody>\n",
       "</table>\n",
       "</div>"
      ],
      "text/plain": [
       "          barcode_id               query_id    query query_len  align_score  \\\n",
       "0  HBBAF:00130:00791          2OS-AB1-A4000  oligo_a        25         25.0   \n",
       "1  HBBAF:00130:00791  2OS-4-long-Oligo-B302  oligo_b        25         25.0   \n",
       "2  HBBAF:00130:00791          bc25mer_51469   sample         8          5.6   \n",
       "3  HBBAF:00130:00791          2OS-AB1-A4000  oligo_a        25         25.0   \n",
       "4  HBBAF:00130:00791  2OS-4-long-Oligo-B302  oligo_b        25         25.0   \n",
       "5  HBBAF:00130:00791          bc25mer_51469   sample         8          5.6   \n",
       "\n",
       "  align_start align_end align_len  \n",
       "0          87       112       124  \n",
       "1          37        62       124  \n",
       "2          51        59       125  \n",
       "3          87       112       124  \n",
       "4          37        62       124  \n",
       "5          51        59       125  "
      ]
     },
     "execution_count": 15,
     "metadata": {},
     "output_type": "execute_result"
    }
   ],
   "source": [
    "align_df.append([oligo_a_alignment, oligo_b_alignment, sample_alignment], ignore_index=True)"
   ]
  },
  {
   "cell_type": "markdown",
   "metadata": {},
   "source": [
    "# Find reads containing 2 of 3: Primer_R4, Anneal, Primer_P1"
   ]
  },
  {
   "cell_type": "code",
   "execution_count": null,
   "metadata": {},
   "outputs": [],
   "source": []
  },
  {
   "cell_type": "markdown",
   "metadata": {},
   "source": [
    "# Identify the two N6 UMIs"
   ]
  },
  {
   "cell_type": "code",
   "execution_count": null,
   "metadata": {},
   "outputs": [],
   "source": []
  },
  {
   "cell_type": "markdown",
   "metadata": {},
   "source": [
    "# Tabularize no. reads per GEM"
   ]
  },
  {
   "cell_type": "code",
   "execution_count": null,
   "metadata": {},
   "outputs": [],
   "source": []
  }
 ],
 "metadata": {
  "kernelspec": {
   "display_name": "Python 3",
   "language": "python",
   "name": "python3"
  },
  "language_info": {
   "codemirror_mode": {
    "name": "ipython",
    "version": 3
   },
   "file_extension": ".py",
   "mimetype": "text/x-python",
   "name": "python",
   "nbconvert_exporter": "python",
   "pygments_lexer": "ipython3",
   "version": "3.7.3"
  }
 },
 "nbformat": 4,
 "nbformat_minor": 2
}
