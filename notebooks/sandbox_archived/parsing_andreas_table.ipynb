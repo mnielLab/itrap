{
 "cells": [
  {
   "cell_type": "code",
   "execution_count": 1,
   "metadata": {},
   "outputs": [],
   "source": [
    "import numpy as np\n",
    "import pandas as pd\n",
    "import matplotlib.pyplot as plt\n",
    "from matplotlib.cm import hsv\n",
    "from matplotlib.cm import Accent\n",
    "from matplotlib.cm import Paired"
   ]
  },
  {
   "cell_type": "code",
   "execution_count": 2,
   "metadata": {},
   "outputs": [],
   "source": [
    "plt.style.use('ggplot')"
   ]
  },
  {
   "cell_type": "markdown",
   "metadata": {},
   "source": [
    "# Load data"
   ]
  },
  {
   "cell_type": "code",
   "execution_count": 3,
   "metadata": {},
   "outputs": [],
   "source": [
    "mhc_fil = \"/Volumes/tuba/herpov/tcr-pmhc-sc-project/data/exp3_MHC/processed/tmp/aligned_data/v2.analysed.tsv\"\n",
    "tcr_fil = \"/Volumes/tuba/herpov/tcr-pmhc-sc-project/data/exp3_TCR/processed/cellranger_out/TCR_VDJ/outs/all_contig_annotations.csv\"\n",
    "fig_dir = \"/Volumes/tuba/herpov/tcr-pmhc-sc-project/plots/\"\n",
    "barcode_id_fil = \"/Volumes/tuba/herpov/tcr-pmhc-sc-project/data/exp3_MHC/barcode_library/annotations.xlsx\""
   ]
  },
  {
   "cell_type": "code",
   "execution_count": 4,
   "metadata": {},
   "outputs": [],
   "source": [
    "tcr_filtered_gems_dir = \"/Volumes/tuba/herpov/tcr-pmhc-sc-project/data/exp3_TCR/processed/gem_filtration_lists/\""
   ]
  },
  {
   "cell_type": "code",
   "execution_count": 5,
   "metadata": {},
   "outputs": [],
   "source": [
    "mhc_df = pd.read_csv(mhc_fil, sep = \"\\t\", names = (\"align_object\", \"read_id\", \"align_start\", \"align_end\", \"align_score1\", \"align_score2\", \"obj_len\", \"obj_id\", \"align_len\", \"prev_dist\", \"next_dist\", \"read_len\", \"min_dist\"))\n",
    "tcr_df = pd.read_csv(tcr_fil)"
   ]
  },
  {
   "cell_type": "code",
   "execution_count": 6,
   "metadata": {},
   "outputs": [],
   "source": [
    "barcode_ids = pd.ExcelFile(barcode_id_fil)\n",
    "mhc_barcode_ids = barcode_ids.parse('MHC').Barcode.values\n",
    "cd8_barcode_ids = barcode_ids.parse('CD8').Barcode.values"
   ]
  },
  {
   "cell_type": "markdown",
   "metadata": {},
   "source": [
    "# Modify MHC dataframe"
   ]
  },
  {
   "cell_type": "code",
   "execution_count": 7,
   "metadata": {},
   "outputs": [],
   "source": [
    "mhc_df[\"gem\"] = mhc_df[\"read_id\"].str.split(\"BX:Z:\", n = 1, expand = True)[1]"
   ]
  },
  {
   "cell_type": "markdown",
   "metadata": {},
   "source": [
    "# Assess data"
   ]
  },
  {
   "cell_type": "code",
   "execution_count": 8,
   "metadata": {},
   "outputs": [
    {
     "data": {
      "text/plain": [
       "align_object     object\n",
       "read_id          object\n",
       "align_start     float64\n",
       "align_end       float64\n",
       "align_score1    float64\n",
       "align_score2    float64\n",
       "obj_len         float64\n",
       "obj_id           object\n",
       "align_len       float64\n",
       "prev_dist       float64\n",
       "next_dist       float64\n",
       "read_len          int64\n",
       "min_dist        float64\n",
       "gem              object\n",
       "dtype: object"
      ]
     },
     "execution_count": 8,
     "metadata": {},
     "output_type": "execute_result"
    }
   ],
   "source": [
    "mhc_df.dtypes"
   ]
  },
  {
   "cell_type": "code",
   "execution_count": 9,
   "metadata": {
    "scrolled": true
   },
   "outputs": [
    {
     "data": {
      "text/html": [
       "<div>\n",
       "<style scoped>\n",
       "    .dataframe tbody tr th:only-of-type {\n",
       "        vertical-align: middle;\n",
       "    }\n",
       "\n",
       "    .dataframe tbody tr th {\n",
       "        vertical-align: top;\n",
       "    }\n",
       "\n",
       "    .dataframe thead th {\n",
       "        text-align: right;\n",
       "    }\n",
       "</style>\n",
       "<table border=\"1\" class=\"dataframe\">\n",
       "  <thead>\n",
       "    <tr style=\"text-align: right;\">\n",
       "      <th></th>\n",
       "      <th>align_object</th>\n",
       "      <th>read_id</th>\n",
       "      <th>align_start</th>\n",
       "      <th>align_end</th>\n",
       "      <th>align_score1</th>\n",
       "      <th>align_score2</th>\n",
       "      <th>obj_len</th>\n",
       "      <th>obj_id</th>\n",
       "      <th>align_len</th>\n",
       "      <th>prev_dist</th>\n",
       "      <th>next_dist</th>\n",
       "      <th>read_len</th>\n",
       "      <th>min_dist</th>\n",
       "      <th>gem</th>\n",
       "    </tr>\n",
       "  </thead>\n",
       "  <tbody>\n",
       "    <tr>\n",
       "      <th>0</th>\n",
       "      <td>SAMPLE</td>\n",
       "      <td>HBBAF:00130:00791 BX:Z:AAAGTAGGTGATAAGT-1</td>\n",
       "      <td>49.0</td>\n",
       "      <td>53.0</td>\n",
       "      <td>2.883852</td>\n",
       "      <td>2.348562</td>\n",
       "      <td>8.0</td>\n",
       "      <td>bc25mer_21627</td>\n",
       "      <td>5.0</td>\n",
       "      <td>48.0</td>\n",
       "      <td>-53.0</td>\n",
       "      <td>124</td>\n",
       "      <td>48.0</td>\n",
       "      <td>AAAGTAGGTGATAAGT-1</td>\n",
       "    </tr>\n",
       "    <tr>\n",
       "      <th>1</th>\n",
       "      <td>A_PRIM</td>\n",
       "      <td>HBBAF:00130:00791 BX:Z:AAAGTAGGTGATAAGT-1</td>\n",
       "      <td>1.0</td>\n",
       "      <td>6.0</td>\n",
       "      <td>-4.058228</td>\n",
       "      <td>NaN</td>\n",
       "      <td>6.0</td>\n",
       "      <td>NaN</td>\n",
       "      <td>6.0</td>\n",
       "      <td>-53.0</td>\n",
       "      <td>0.0</td>\n",
       "      <td>124</td>\n",
       "      <td>0.0</td>\n",
       "      <td>AAAGTAGGTGATAAGT-1</td>\n",
       "    </tr>\n",
       "    <tr>\n",
       "      <th>2</th>\n",
       "      <td>A_N6</td>\n",
       "      <td>HBBAF:00130:00791 BX:Z:AAAGTAGGTGATAAGT-1</td>\n",
       "      <td>7.0</td>\n",
       "      <td>12.0</td>\n",
       "      <td>NaN</td>\n",
       "      <td>NaN</td>\n",
       "      <td>6.0</td>\n",
       "      <td>NaN</td>\n",
       "      <td>NaN</td>\n",
       "      <td>0.0</td>\n",
       "      <td>0.0</td>\n",
       "      <td>124</td>\n",
       "      <td>0.0</td>\n",
       "      <td>AAAGTAGGTGATAAGT-1</td>\n",
       "    </tr>\n",
       "    <tr>\n",
       "      <th>3</th>\n",
       "      <td>A_OLIGO</td>\n",
       "      <td>HBBAF:00130:00791 BX:Z:AAAGTAGGTGATAAGT-1</td>\n",
       "      <td>13.0</td>\n",
       "      <td>37.0</td>\n",
       "      <td>49.749481</td>\n",
       "      <td>-0.140005</td>\n",
       "      <td>25.0</td>\n",
       "      <td>2OS-1-Oligo-A1064</td>\n",
       "      <td>25.0</td>\n",
       "      <td>0.0</td>\n",
       "      <td>0.0</td>\n",
       "      <td>124</td>\n",
       "      <td>0.0</td>\n",
       "      <td>AAAGTAGGTGATAAGT-1</td>\n",
       "    </tr>\n",
       "    <tr>\n",
       "      <th>4</th>\n",
       "      <td>ANNEAL</td>\n",
       "      <td>HBBAF:00130:00791 BX:Z:AAAGTAGGTGATAAGT-1</td>\n",
       "      <td>38.0</td>\n",
       "      <td>62.0</td>\n",
       "      <td>49.610130</td>\n",
       "      <td>NaN</td>\n",
       "      <td>25.0</td>\n",
       "      <td>NaN</td>\n",
       "      <td>25.0</td>\n",
       "      <td>0.0</td>\n",
       "      <td>0.0</td>\n",
       "      <td>124</td>\n",
       "      <td>0.0</td>\n",
       "      <td>AAAGTAGGTGATAAGT-1</td>\n",
       "    </tr>\n",
       "    <tr>\n",
       "      <th>5</th>\n",
       "      <td>B_OLIGO</td>\n",
       "      <td>HBBAF:00130:00791 BX:Z:AAAGTAGGTGATAAGT-1</td>\n",
       "      <td>63.0</td>\n",
       "      <td>87.0</td>\n",
       "      <td>49.698215</td>\n",
       "      <td>-0.265417</td>\n",
       "      <td>25.0</td>\n",
       "      <td>2OS-4-long-Oligo-B288</td>\n",
       "      <td>25.0</td>\n",
       "      <td>0.0</td>\n",
       "      <td>0.0</td>\n",
       "      <td>124</td>\n",
       "      <td>0.0</td>\n",
       "      <td>AAAGTAGGTGATAAGT-1</td>\n",
       "    </tr>\n",
       "    <tr>\n",
       "      <th>6</th>\n",
       "      <td>B_N6</td>\n",
       "      <td>HBBAF:00130:00791 BX:Z:AAAGTAGGTGATAAGT-1</td>\n",
       "      <td>88.0</td>\n",
       "      <td>93.0</td>\n",
       "      <td>NaN</td>\n",
       "      <td>NaN</td>\n",
       "      <td>6.0</td>\n",
       "      <td>NaN</td>\n",
       "      <td>NaN</td>\n",
       "      <td>0.0</td>\n",
       "      <td>0.0</td>\n",
       "      <td>124</td>\n",
       "      <td>0.0</td>\n",
       "      <td>AAAGTAGGTGATAAGT-1</td>\n",
       "    </tr>\n",
       "    <tr>\n",
       "      <th>7</th>\n",
       "      <td>B_PRIM</td>\n",
       "      <td>HBBAF:00130:00791 BX:Z:AAAGTAGGTGATAAGT-1</td>\n",
       "      <td>94.0</td>\n",
       "      <td>124.0</td>\n",
       "      <td>56.567516</td>\n",
       "      <td>NaN</td>\n",
       "      <td>32.0</td>\n",
       "      <td>NaN</td>\n",
       "      <td>31.0</td>\n",
       "      <td>0.0</td>\n",
       "      <td>0.0</td>\n",
       "      <td>124</td>\n",
       "      <td>0.0</td>\n",
       "      <td>AAAGTAGGTGATAAGT-1</td>\n",
       "    </tr>\n",
       "  </tbody>\n",
       "</table>\n",
       "</div>"
      ],
      "text/plain": [
       "  align_object                                    read_id  align_start  \\\n",
       "0       SAMPLE  HBBAF:00130:00791 BX:Z:AAAGTAGGTGATAAGT-1         49.0   \n",
       "1       A_PRIM  HBBAF:00130:00791 BX:Z:AAAGTAGGTGATAAGT-1          1.0   \n",
       "2         A_N6  HBBAF:00130:00791 BX:Z:AAAGTAGGTGATAAGT-1          7.0   \n",
       "3      A_OLIGO  HBBAF:00130:00791 BX:Z:AAAGTAGGTGATAAGT-1         13.0   \n",
       "4       ANNEAL  HBBAF:00130:00791 BX:Z:AAAGTAGGTGATAAGT-1         38.0   \n",
       "5      B_OLIGO  HBBAF:00130:00791 BX:Z:AAAGTAGGTGATAAGT-1         63.0   \n",
       "6         B_N6  HBBAF:00130:00791 BX:Z:AAAGTAGGTGATAAGT-1         88.0   \n",
       "7       B_PRIM  HBBAF:00130:00791 BX:Z:AAAGTAGGTGATAAGT-1         94.0   \n",
       "\n",
       "   align_end  align_score1  align_score2  obj_len                 obj_id  \\\n",
       "0       53.0      2.883852      2.348562      8.0          bc25mer_21627   \n",
       "1        6.0     -4.058228           NaN      6.0                    NaN   \n",
       "2       12.0           NaN           NaN      6.0                    NaN   \n",
       "3       37.0     49.749481     -0.140005     25.0      2OS-1-Oligo-A1064   \n",
       "4       62.0     49.610130           NaN     25.0                    NaN   \n",
       "5       87.0     49.698215     -0.265417     25.0  2OS-4-long-Oligo-B288   \n",
       "6       93.0           NaN           NaN      6.0                    NaN   \n",
       "7      124.0     56.567516           NaN     32.0                    NaN   \n",
       "\n",
       "   align_len  prev_dist  next_dist  read_len  min_dist                 gem  \n",
       "0        5.0       48.0      -53.0       124      48.0  AAAGTAGGTGATAAGT-1  \n",
       "1        6.0      -53.0        0.0       124       0.0  AAAGTAGGTGATAAGT-1  \n",
       "2        NaN        0.0        0.0       124       0.0  AAAGTAGGTGATAAGT-1  \n",
       "3       25.0        0.0        0.0       124       0.0  AAAGTAGGTGATAAGT-1  \n",
       "4       25.0        0.0        0.0       124       0.0  AAAGTAGGTGATAAGT-1  \n",
       "5       25.0        0.0        0.0       124       0.0  AAAGTAGGTGATAAGT-1  \n",
       "6        NaN        0.0        0.0       124       0.0  AAAGTAGGTGATAAGT-1  \n",
       "7       31.0        0.0        0.0       124       0.0  AAAGTAGGTGATAAGT-1  "
      ]
     },
     "execution_count": 9,
     "metadata": {},
     "output_type": "execute_result"
    }
   ],
   "source": [
    "mhc_df.head(n=8)"
   ]
  },
  {
   "cell_type": "markdown",
   "metadata": {},
   "source": [
    "## Assessment of number of aligned reads"
   ]
  },
  {
   "cell_type": "code",
   "execution_count": 10,
   "metadata": {},
   "outputs": [
    {
     "data": {
      "text/plain": [
       "26796"
      ]
     },
     "execution_count": 10,
     "metadata": {},
     "output_type": "execute_result"
    }
   ],
   "source": [
    "len(mhc_df.read_id.unique())"
   ]
  },
  {
   "cell_type": "code",
   "execution_count": 11,
   "metadata": {},
   "outputs": [
    {
     "data": {
      "text/plain": [
       "26796"
      ]
     },
     "execution_count": 11,
     "metadata": {},
     "output_type": "execute_result"
    }
   ],
   "source": [
    "len(mhc_df[mhc_df.min_dist == 0].read_id.unique())"
   ]
  },
  {
   "cell_type": "markdown",
   "metadata": {},
   "source": [
    "## Assessment of minimum distance scores"
   ]
  },
  {
   "cell_type": "code",
   "execution_count": null,
   "metadata": {},
   "outputs": [],
   "source": [
    "mhc_df[mhc_df.align_object == \"SAMPLE\"].min_dist.describe()"
   ]
  },
  {
   "cell_type": "markdown",
   "metadata": {},
   "source": [
    "## Assessment of alignment scores"
   ]
  },
  {
   "cell_type": "code",
   "execution_count": null,
   "metadata": {},
   "outputs": [],
   "source": [
    "x = mhc_df[mhc_df.align_object == \"A_OLIGO\"].align_score1\n",
    "y = mhc_df[mhc_df.align_object == \"A_OLIGO\"].align_score2\n",
    "\n",
    "plt.title(\"Alignemnt scores of oligo A\")\n",
    "plt.xlabel(\"Best alignment score\")\n",
    "plt.ylabel(\"Second best alignment score\")\n",
    "plt.plot(x, y, '.', color='#9e0142')"
   ]
  },
  {
   "cell_type": "code",
   "execution_count": null,
   "metadata": {},
   "outputs": [],
   "source": [
    "x = mhc_df[mhc_df.align_object == \"B_OLIGO\"].align_score1\n",
    "y = mhc_df[mhc_df.align_object == \"B_OLIGO\"].align_score2\n",
    "\n",
    "plt.title(\"Alignemnt scores of oligo B\")\n",
    "plt.xlabel(\"Best alignment score\")\n",
    "plt.ylabel(\"Second best alignment score\")\n",
    "plt.plot(x, y, '.', , color='#9e0142')"
   ]
  },
  {
   "cell_type": "markdown",
   "metadata": {},
   "source": [
    "# Write evaluation matrix"
   ]
  },
  {
   "cell_type": "code",
   "execution_count": 16,
   "metadata": {},
   "outputs": [],
   "source": [
    "filtered_reads = 0\n",
    "keep = 1\n",
    "\n",
    "num_reads = len(mhc_df.read_id.unique())\n",
    "\n",
    "evaluation_df = pd.DataFrame(np.zeros((num_reads, 3), dtype=np.int8),\n",
    "                              columns = ['read_id', 'pass', 'mhc_barcode'])\n",
    "\n",
    "for i, read in enumerate(mhc_df.read_id.unique()):\n",
    "    #if i == num_reads:\n",
    "    #    break\n",
    "    \n",
    "    sub_df = mhc_df[(mhc_df.read_id == read)] #  & (mhc_df.align_object != \"SAMPLE\")\n",
    "    \n",
    "    # Filter away reads that do not meet criteria\n",
    "    #if any(sub_df[sub_df.align_object.isin([\"A_OLIGO\", \"ANNEAL\", \"B_OLIGO\", \"B_N6\", \"B_PRIM\"])].min_dist > 0):\n",
    "    if any(sub_df.min_dist > 0):\n",
    "        filtered_reads += 1\n",
    "        keep = 0\n",
    "    elif sub_df[sub_df.align_object == \"A_OLIGO\"].align_score1.values[0] < 0:\n",
    "        filtered_reads += 1\n",
    "        keep = 0\n",
    "    elif sub_df[sub_df.align_object == \"B_OLIGO\"].align_score1.values[0] < 0:\n",
    "        filtered_reads += 1\n",
    "        keep = 0\n",
    "    elif sub_df[sub_df.align_object == \"A_OLIGO\"].align_score1.values[0] < 2 * abs(sub_df[sub_df.align_object == \"A_OLIGO\"].align_score2.values[0]):\n",
    "        filtered_reads += 1\n",
    "        keep = 0\n",
    "    elif sub_df[sub_df.align_object == \"B_OLIGO\"].align_score1.values[0] < 2 * abs(sub_df[sub_df.align_object == \"B_OLIGO\"].align_score2.values[0]):\n",
    "        filtered_reads += 1\n",
    "        keep = 0\n",
    "        \n",
    "    # Update the number of reads that support an MHC barcode in a GEM\n",
    "    pmhc_barcode = sub_df[sub_df.align_object == \"A_OLIGO\"].obj_id.to_string().split(\"-\")[-1] + sub_df[sub_df.align_object == \"B_OLIGO\"].obj_id.to_string().split(\"-\")[-1]  \n",
    "    \n",
    "    evaluation_df.loc[i] = [read, keep, pmhc_barcode]\n",
    "    \n",
    "    keep = 1"
   ]
  },
  {
   "cell_type": "code",
   "execution_count": 17,
   "metadata": {},
   "outputs": [],
   "source": [
    "num_reads = len(mhc_df.read_id.unique())"
   ]
  },
  {
   "cell_type": "code",
   "execution_count": 18,
   "metadata": {},
   "outputs": [],
   "source": [
    "eval_fil = \"/Volumes/tuba/herpov/tcr-pmhc-sc-project/data/exp3_MHC/processed/tmp/aligned_data/mhc_eval_%i.csv\" %num_reads\n",
    "evaluation_df.to_csv(eval_fil)"
   ]
  },
  {
   "cell_type": "markdown",
   "metadata": {},
   "source": [
    "# Write specificity matrix"
   ]
  },
  {
   "cell_type": "code",
   "execution_count": 13,
   "metadata": {},
   "outputs": [
    {
     "name": "stdout",
     "output_type": "stream",
     "text": [
      "15781\n"
     ]
    }
   ],
   "source": [
    "filtered_reads = 0\n",
    "\n",
    "cd8_barcode_gems, mhc_barcode_gems, neo_ep_gems = list(), list(), list()\n",
    "\n",
    "cmb_barcode_ids = np.append(mhc_barcode_ids, cd8_barcode_ids)\n",
    "n_barcode_gems = len(mhc_df.gem.unique())\n",
    "n_barcode_ids = len(cmb_barcode_ids)\n",
    "\n",
    "specificity_df = pd.DataFrame(np.zeros((n_barcode_gems, n_barcode_ids), dtype=np.int8),\n",
    "                              index = mhc_df.gem.unique(),\n",
    "                              columns = cmb_barcode_ids)\n",
    "\n",
    "for read in mhc_df.read_id.unique():\n",
    "    sub_df = mhc_df[(mhc_df.read_id == read)] #  & (mhc_df.align_object != \"SAMPLE\")\n",
    "    \n",
    "    # Filter away reads that do not meet criteria\n",
    "    #if any(sub_df[sub_df.align_object.isin([\"A_OLIGO\", \"ANNEAL\", \"B_OLIGO\", \"B_N6\", \"B_PRIM\"])].min_dist > 0):\n",
    "    if any(sub_df.min_dist > 0):\n",
    "        filtered_reads += 1\n",
    "        continue\n",
    "    elif sub_df[sub_df.align_object == \"A_OLIGO\"].align_score1.values[0] < 0:\n",
    "        filtered_reads += 1\n",
    "        continue\n",
    "    elif sub_df[sub_df.align_object == \"B_OLIGO\"].align_score1.values[0] < 0:\n",
    "        filtered_reads += 1\n",
    "        continue\n",
    "    elif sub_df[sub_df.align_object == \"A_OLIGO\"].align_score1.values[0] < 2 * abs(sub_df[sub_df.align_object == \"A_OLIGO\"].align_score2.values[0]):\n",
    "        filtered_reads += 1\n",
    "        continue\n",
    "    elif sub_df[sub_df.align_object == \"B_OLIGO\"].align_score1.values[0] < 2 * abs(sub_df[sub_df.align_object == \"B_OLIGO\"].align_score2.values[0]):\n",
    "        filtered_reads += 1\n",
    "        continue\n",
    "        \n",
    "    # Update the number of reads that support an MHC barcode in a GEM\n",
    "    pmhc_barcode = sub_df[sub_df.align_object == \"A_OLIGO\"].obj_id.to_string().split(\"-\")[-1] + sub_df[sub_df.align_object == \"B_OLIGO\"].obj_id.to_string().split(\"-\")[-1]  \n",
    "    gem = read.split(\"BX:Z:\")[-1]\n",
    "    \n",
    "    specificity_df.loc[gem, pmhc_barcode] += 1\n",
    "    assert len(sub_df.gem.unique()) == 1\n",
    "    \n",
    "    # List the barcodes for pMHC and CD8\n",
    "    if pmhc_barcode.startswith(\"A4000\"):\n",
    "        cd8_barcode_gems.append(gem)\n",
    "        assert pmhc_barcode in cd8_barcode_ids, print(pmhc_barcode)\n",
    "    else:\n",
    "        mhc_barcode_gems.append(gem)\n",
    "        assert pmhc_barcode in mhc_barcode_ids, print(pmhc_barcode, mhc_barcode_ids)\n",
    "        \n",
    "    # List the barcodes for Neoepitopes\n",
    "    if pmhc_barcode.endswith(\"B293\"):\n",
    "        neo_ep_gems.append(gem)\n",
    "\n",
    "    \n",
    "print(filtered_reads)"
   ]
  },
  {
   "cell_type": "markdown",
   "metadata": {},
   "source": [
    "column_id = 0\n",
    "i = 0\n",
    "filtered_reads = 0\n",
    "\n",
    "cd8_barcode_gems, mhc_barcode_gems = list(), list()\n",
    "\n",
    "cmb_barcode_ids = mhc_barcode_ids.Barcode.values\n",
    "\n",
    "n_barcode_gems = len(mhc_df.gem.unique())\n",
    "n_barcode_ids = len(cmb_barcode_ids)\n",
    "\n",
    "\n",
    "\n",
    "specificity_df = pd.DataFrame(np.zeros((n_barcode_gems, n_barcodes), dtype=np.int8), index = mhc_df.gem.unique())\n",
    "\n",
    "for read in mhc_df.read_id.unique():\n",
    "    sub_df = mhc_df[(mhc_df.read_id == read)] #  & (mhc_df.align_object != \"SAMPLE\")\n",
    "    \n",
    "    # Filter away reads that do not meet criteria\n",
    "    if any(sub_df[sub_df.align_object.isin([\"A_OLIGO\", \"ANNEAL\", \"B_OLIGO\", \"B_N6\", \"B_PRIM\"])].min_dist > 0):\n",
    "        filtered_reads += 1\n",
    "        continue\n",
    "    elif sub_df[sub_df.align_object == \"A_OLIGO\"].align_score1.values[0] < 0:\n",
    "        filtered_reads += 1\n",
    "        continue\n",
    "    elif sub_df[sub_df.align_object == \"B_OLIGO\"].align_score1.values[0] < 0:\n",
    "        filtered_reads += 1\n",
    "        continue\n",
    "    elif sub_df[sub_df.align_object == \"A_OLIGO\"].align_score1.values[0] < 2 * abs(sub_df[sub_df.align_object == \"A_OLIGO\"].align_score2.values[0]):\n",
    "        filtered_reads += 1\n",
    "        continue\n",
    "    elif sub_df[sub_df.align_object == \"B_OLIGO\"].align_score1.values[0] < 2 * abs(sub_df[sub_df.align_object == \"B_OLIGO\"].align_score2.values[0]):\n",
    "        filtered_reads += 1\n",
    "        continue\n",
    "        \n",
    "    # Update column names on dataframe to represent MHC barcodes\n",
    "    pmhc_barcode = sub_df[sub_df.align_object == \"A_OLIGO\"].obj_id.to_string().split(\"-\")[-1] + sub_df[sub_df.align_object == \"B_OLIGO\"].obj_id.to_string().split(\"-\")[-1]\n",
    "    if not pmhc_barcode in specificity_df.columns:\n",
    "        assert column_id < 15*8\n",
    "        specificity_df.rename(columns = {column_id: pmhc_barcode}, inplace = True)\n",
    "        print(specificity_df.columns.values)\n",
    "        column_id += 1\n",
    "            \n",
    "    # Update the number of reads that support an MHC barcode in a GEM\n",
    "    gem = read.split(\"BX:Z:\")[-1]\n",
    "    specificity_df.loc[gem, pmhc_barcode] += 1\n",
    "    assert len(sub_df.gem.unique()) == 1\n",
    "    \n",
    "    # List the barcodes for pMHC and CD8\n",
    "    if \"A4000\" in pmhc_barcode:\n",
    "        cd8_barcode_gems.append(gem)\n",
    "    else:\n",
    "        mhc_barcode_gems.append(gem)\n",
    "        \n",
    "    i += 1\n",
    "    #if i > 2:\n",
    "    #    break\n",
    "    \n",
    "print(filtered_reads)"
   ]
  },
  {
   "cell_type": "code",
   "execution_count": null,
   "metadata": {},
   "outputs": [],
   "source": [
    "specificity_df.head(n=100)"
   ]
  },
  {
   "cell_type": "markdown",
   "metadata": {},
   "source": [
    "# Plot barcode to GEM map"
   ]
  },
  {
   "cell_type": "markdown",
   "metadata": {},
   "source": [
    "## Link clonotype with color"
   ]
  },
  {
   "cell_type": "code",
   "execution_count": 50,
   "metadata": {},
   "outputs": [],
   "source": [
    "all_clonotypes = tcr_df.raw_clonotype_id.unique()\n",
    "col_clonotypes = ['#9e0142','#d53e4f','#f46d43','#fdae61','#fee08b','#ffffbf','#e6f598','#abdda4','#66c2a5','#3288bd','#5e4fa2'] * len(all_clonotypes)\n",
    "\n",
    "clonotype_to_color = dict()\n",
    "for i, clonotype in enumerate(all_clonotypes):\n",
    "    clonotype_to_color[clonotype] = col_clonotypes[i]"
   ]
  },
  {
   "cell_type": "markdown",
   "metadata": {},
   "source": [
    "## Extract clonotypes"
   ]
  },
  {
   "cell_type": "code",
   "execution_count": 51,
   "metadata": {},
   "outputs": [
    {
     "data": {
      "text/plain": [
       "2737"
      ]
     },
     "execution_count": 51,
     "metadata": {},
     "output_type": "execute_result"
    }
   ],
   "source": [
    "len(np.unique(tcr_df.raw_clonotype_id.to_list()))"
   ]
  },
  {
   "cell_type": "code",
   "execution_count": 52,
   "metadata": {},
   "outputs": [],
   "source": [
    "gem_to_clonotype = dict()\n",
    "\n",
    "\n",
    "for gem in tcr_df.barcode.unique():\n",
    "    clonotypes = tcr_df[tcr_df.barcode == gem].raw_clonotype_id.values\n",
    "    \n",
    "    assert len(np.unique(clonotypes)) == 1\n",
    "    #assert 'clonotype' in clonotypes[0], print(clonotypes)\n",
    "    \n",
    "    gem_to_clonotype[gem] = clonotypes[0]\n",
    "    \n",
    "for gem in specificity_df.index.to_list():\n",
    "    if not gem in gem_to_clonotype:\n",
    "        gem_to_clonotype[gem] = 'None'"
   ]
  },
  {
   "cell_type": "markdown",
   "metadata": {},
   "source": [
    "## Plot specificity matrix"
   ]
  },
  {
   "cell_type": "code",
   "execution_count": 55,
   "metadata": {},
   "outputs": [
    {
     "name": "stderr",
     "output_type": "stream",
     "text": [
      "/anaconda3/lib/python3.7/site-packages/ipykernel_launcher.py:15: FutureWarning: elementwise comparison failed; returning scalar instead, but in the future will perform elementwise comparison\n",
      "  from ipykernel import kernelapp as app\n"
     ]
    },
    {
     "data": {
      "image/png": "[encoded data removed]",
      "text/plain": [
       "<Figure size 1440x720 with 1 Axes>"
      ]
     },
     "metadata": {},
     "output_type": "display_data"
    }
   ],
   "source": [
    "read_threshold = 10\n",
    "\n",
    "all_clonotypes = tcr_df.raw_clonotype_id.unique()\n",
    "num_clonotypes = len(all_clonotypes)\n",
    "\n",
    "fig, ax = plt.subplots(figsize=(20, 10))\n",
    "\n",
    "for mhc_barcode in mhc_barcode_ids: #specificity_df.columns:\n",
    "    gems = specificity_df[specificity_df[mhc_barcode] > read_threshold].index\n",
    "    mhcs = [mhc_barcode] * len(gems)\n",
    "    reads = specificity_df.loc[gems, mhc_barcode].values\n",
    "    \n",
    "    clonotypes = np.array([gem_to_clonotype[gem] for gem in gems])\n",
    "    \n",
    "    none_indexes = np.where(clonotypes == 'None')\n",
    "\n",
    "    gems = np.delete(gems, none_indexes)\n",
    "    mhcs = np.delete(mhcs, none_indexes)\n",
    "    reads = np.delete(reads, none_indexes)\n",
    "    clonotypes = np.delete(clonotypes, none_indexes)\n",
    "\n",
    "    #colors = [Paired(float(list(all_clonotypes).index(i))/num_clonotypes) for i in clonotypes]\n",
    "    #colors = [clonotype_to_color[ct] for ct in clonotypes]\n",
    "    colors = ['#9e0142'] * len(gems)\n",
    "    \n",
    "    scatter = ax.scatter(gems, mhcs, s=reads, c=colors, alpha=0.3, edgecolors='face')\n",
    "\n",
    "plt.tick_params(labelbottom=False, labelsize=10) #8\n",
    "\n",
    "## produce a legend with the unique colors from the scatter\n",
    "#legend1 = ax.legend(*scatter.legend_elements(), loc=\"lower left\", title=\"Classes\")\n",
    "#ax.add_artist(legend1)\n",
    "#\n",
    "## produce a legend with a cross section of sizes from the scatter\n",
    "#handles, labels = scatter.legend_elements(prop=\"sizes\", alpha=0.6)\n",
    "#legend2 = ax.legend(handles, labels, loc=\"upper right\", title=\"Sizes\")\n",
    "##plt.legend([5, 10, 20], [\"5\", \"10\", \"20\"], loc=\"lower right\", title=\"Sizes\", prop=\"sizes\")\n",
    "\n",
    "from matplotlib.lines import Line2D\n",
    "\n",
    "#legend_elements = []\n",
    "#for clonotype_label in all_clonotypes:\n",
    "#    #clonotype_color = Paired(float(list(all_clonotypes).index(clonotype_label))/num_clonotypes)\n",
    "#    legend_elements += [Line2D([0], [0], marker='o', color='w', label=clonotype_label, markerfacecolor=clonotype_to_color[clonotype_label], markersize=10)]\n",
    "#\n",
    "#legend1 = ax.legend(handles=legend_elements)\n",
    "#ax.add_artist(legend1)\n",
    "\n",
    "for read_size in [10, 50, 100]:\n",
    "    plt.scatter([], [], c='k', alpha=0.3, s=read_size, label=str(read_size) + ' reads')\n",
    "plt.legend(scatterpoints=1, frameon=False, labelspacing=1, title='Reads')\n",
    "\n",
    "plt.xlabel(\"GEM\", fontsize=16)\n",
    "plt.ylabel(\"pMHC barcodes\", fontsize=16)\n",
    "plt.title(\"GEMs with pMHC barcodes (singlets removed)\", fontsize=20)\n",
    "plt.savefig(fig_dir + \"GEMs_with_pMHC_barcodes_no_singlets.pdf\")\n",
    "plt.show()"
   ]
  },
  {
   "cell_type": "code",
   "execution_count": 49,
   "metadata": {},
   "outputs": [
    {
     "data": {
      "text/plain": [
       "(585, 135)"
      ]
     },
     "execution_count": 49,
     "metadata": {},
     "output_type": "execute_result"
    }
   ],
   "source": [
    "specificity_df[(specificity_df > 0).any(1)].shape"
   ]
  },
  {
   "cell_type": "code",
   "execution_count": 48,
   "metadata": {},
   "outputs": [
    {
     "data": {
      "text/plain": [
       "(303, 135)"
      ]
     },
     "execution_count": 48,
     "metadata": {},
     "output_type": "execute_result"
    }
   ],
   "source": [
    "specificity_df[(specificity_df > read_threshold).any(1)].shape"
   ]
  },
  {
   "cell_type": "markdown",
   "metadata": {},
   "source": [
    "#  GEM plot validation"
   ]
  },
  {
   "cell_type": "markdown",
   "metadata": {},
   "source": [
    "We are especially interested in A1071B292 and A1065B288 and A1069B293 mod A1068B293"
   ]
  },
  {
   "cell_type": "code",
   "execution_count": 21,
   "metadata": {
    "scrolled": true
   },
   "outputs": [
    {
     "name": "stdout",
     "output_type": "stream",
     "text": [
      "['None', 'clonotype105', 'clonotype1474', 'clonotype15', 'clonotype1590', 'clonotype1591', 'clonotype1744', 'clonotype197', 'clonotype2', 'clonotype27', 'clonotype3', 'clonotype357', 'clonotype38', 'clonotype4', 'clonotype5', 'clonotype50', 'clonotype6']\n"
     ]
    }
   ],
   "source": [
    "A1071B292_gems = specificity_df[specificity_df.A1071B292 > read_threshold].index\n",
    "A1071B292_clon = [gem_to_clonotype[gem] for gem in A1071B292_gems]\n",
    "print(sorted(set(A1071B292_clon)))"
   ]
  },
  {
   "cell_type": "code",
   "execution_count": 22,
   "metadata": {},
   "outputs": [
    {
     "name": "stdout",
     "output_type": "stream",
     "text": [
      "['None', 'clonotype1', 'clonotype10', 'clonotype1101', 'clonotype1153', 'clonotype1396', 'clonotype1474', 'clonotype1712', 'clonotype178', 'clonotype18', 'clonotype1886', 'clonotype19', 'clonotype2', 'clonotype2268', 'clonotype2328', 'clonotype2486', 'clonotype2521', 'clonotype290', 'clonotype3', 'clonotype318', 'clonotype33', 'clonotype4', 'clonotype467', 'clonotype6', 'clonotype661']\n"
     ]
    }
   ],
   "source": [
    "A1065B288_gems = specificity_df[specificity_df.A1065B288 > read_threshold].index\n",
    "A1065B288_clon = [gem_to_clonotype[gem] for gem in A1065B288_gems]\n",
    "print(sorted(set(A1065B288_clon)))"
   ]
  },
  {
   "cell_type": "code",
   "execution_count": 129,
   "metadata": {},
   "outputs": [],
   "source": [
    "A1064B301_gems = specificity_df[specificity_df.A1064B301 > 0].index\n",
    "A1064B301_gems\n",
    "tcr_df[tcr_df.barcode.isin(A1064B301_gems)].to_excel(\"/Volumes/tuba/herpov/tcr-pmhc-sc-project/tables/exp3/A1064B301_annotations.xlsx\")"
   ]
  },
  {
   "cell_type": "markdown",
   "metadata": {},
   "source": [
    "# Plot neoepitopes"
   ]
  },
  {
   "cell_type": "code",
   "execution_count": 113,
   "metadata": {},
   "outputs": [],
   "source": [
    "read_threshold = 10"
   ]
  },
  {
   "cell_type": "code",
   "execution_count": 114,
   "metadata": {},
   "outputs": [],
   "source": [
    "neoepitopes = [barcode for barcode in specificity_df.columns if barcode.endswith(\"B293\")]"
   ]
  },
  {
   "cell_type": "code",
   "execution_count": 115,
   "metadata": {},
   "outputs": [],
   "source": [
    "all_neoepitope_gems = list()\n",
    "neoepitope_clon = dict()\n",
    "for epitope in neoepitopes:\n",
    "    neoepitope_gems = specificity_df[specificity_df[epitope] > read_threshold].index\n",
    "    all_neoepitope_gems.append(neoepitope_gems)\n",
    "    neoepitope_clon[epitope] = [gem_to_clonotype[gem] for gem in neoepitope_gems]"
   ]
  },
  {
   "cell_type": "code",
   "execution_count": 116,
   "metadata": {},
   "outputs": [
    {
     "name": "stdout",
     "output_type": "stream",
     "text": [
      "['CCTTCGAAGGACACCA-1', 'CATCAGACACCCTATC-1', 'CATATTCTCTTCCTTC-1', 'GCTGGGTAGGATGGAA-1', 'CTAGCCTTCAATACCG-1', 'TCGTACCTCTTTACAC-1', 'GCTGGGTAGGATGGAA-1', 'CTCTAATTCAATAAGG-1', 'TAGTGGTTCGCCGTGA-1', 'TCACAAGTCAGGCAAG-1', 'CTACACCCACGTCTCT-1', 'ATTATCCCAAACGCGA-1', 'CCTAAAGCACCCTATC-1', 'TTTGTCACACGACGAA-1']\n"
     ]
    }
   ],
   "source": [
    "all_neoepitope_gems = [gem for gem_list in all_neoepitope_gems for gem in gem_list]\n",
    "print(all_neoepitope_gems)"
   ]
  },
  {
   "cell_type": "code",
   "execution_count": 117,
   "metadata": {},
   "outputs": [],
   "source": [
    "tcr_df[tcr_df.barcode.isin(all_neoepitope_gems)].to_excel(\"/Volumes/tuba/herpov/tcr-pmhc-sc-project/tables/exp3/neoepitope_tcr_annotations_no_singlets.xlsx\")"
   ]
  },
  {
   "cell_type": "code",
   "execution_count": 118,
   "metadata": {},
   "outputs": [
    {
     "name": "stdout",
     "output_type": "stream",
     "text": [
      "5\n"
     ]
    }
   ],
   "source": [
    "all_neoepitope_clones = list(set([clon for gem in neoepitope_clon.values() for clon in gem]))\n",
    "print(len(all_neoepitope_clones))"
   ]
  },
  {
   "cell_type": "code",
   "execution_count": 127,
   "metadata": {},
   "outputs": [
    {
     "name": "stderr",
     "output_type": "stream",
     "text": [
      "/anaconda3/lib/python3.7/site-packages/ipykernel_launcher.py:23: FutureWarning: elementwise comparison failed; returning scalar instead, but in the future will perform elementwise comparison\n"
     ]
    },
    {
     "data": {
      "image/png": "[encoded data removed]",
      "text/plain": [
       "<Figure size 432x288 with 1 Axes>"
      ]
     },
     "metadata": {},
     "output_type": "display_data"
    }
   ],
   "source": [
    "#read_threshold = 10\n",
    "\n",
    "all_neoepitope_clones = sorted(list(set([clon for gem in neoepitope_clon.values() for clon in gem])))\n",
    "num_clonotypes = len(all_neoepitope_clones)\n",
    "\n",
    "col_clonotypes = ['#a6cee3','#1f78b4','#b2df8a','#33a02c','#fb9a99','#e31a1c','#fdbf6f','#ff7f00','#cab2d6','#6a3d9a'] #+ ['#a6cee3','#1f78b4','#b2df8a','#33a02c','#fb9a99']\n",
    "\n",
    "clonotype_to_color = dict()\n",
    "for i, clonotype in enumerate(all_neoepitope_clones):\n",
    "    clonotype_to_color[clonotype] = col_clonotypes[i]\n",
    "\n",
    "fig, ax = plt.subplots()\n",
    "\n",
    "for mhc_barcode in specificity_df.columns:\n",
    "    if not mhc_barcode.endswith(\"B293\"):\n",
    "        continue\n",
    "    gems = specificity_df[specificity_df[mhc_barcode] > read_threshold].index\n",
    "    mhcs = [mhc_barcode] * len(gems)\n",
    "    reads = specificity_df.loc[gems, mhc_barcode].values\n",
    "    \n",
    "    clonotypes = np.array([gem_to_clonotype[gem] for gem in gems])\n",
    "    \n",
    "    none_indexes = np.where(clonotypes == 'None')\n",
    "\n",
    "    gems = np.delete(gems, none_indexes)\n",
    "    mhcs = np.delete(mhcs, none_indexes)\n",
    "    reads = np.delete(reads, none_indexes)\n",
    "    clonotypes = np.delete(clonotypes, none_indexes)\n",
    "    colors = [clonotype_to_color[ct] for ct in clonotypes]\n",
    "    \n",
    "    scatter = ax.scatter(gems, mhcs, s=reads, c=colors)\n",
    "\n",
    "#plt.tick_params(rotation=90) #labelbottom=False, labelsize=5\n",
    "plt.xticks(rotation=25, ha='right') #, fontsize=7\n",
    "\n",
    "from matplotlib.lines import Line2D\n",
    "\n",
    "legend_elements = []\n",
    "for clonotype_label in all_neoepitope_clones:\n",
    "    #clonotype_color = Paired(float(list(all_clonotypes).index(clonotype_label))/num_clonotypes)\n",
    "    legend_elements += [Line2D([0], [0], marker='o', color='w', label=clonotype_label, markerfacecolor=clonotype_to_color[clonotype_label], markersize=10)]\n",
    "\n",
    "legend1 = ax.legend(handles=legend_elements, bbox_to_anchor=(1.35, 1.0), facecolor='w', edgecolor='w')\n",
    "ax.add_artist(legend1)\n",
    "\n",
    "for read_size in [10, 50, 100]:\n",
    "    plt.scatter([], [], c='k', alpha=0.3, s=read_size, label=str(read_size) + ' reads')\n",
    "plt.legend(scatterpoints=1, frameon=False, labelspacing=1, title='Reads', bbox_to_anchor=(1.275, 0.5)) #  loc=\"lower right\"\n",
    "\n",
    "plt.xlabel(\"GEM\")\n",
    "plt.ylabel(\"pMHC barcodes\")\n",
    "plt.title(\"GEMs with pMHC barcodes\")\n",
    "#plt.tight_layout()\n",
    "plt.savefig(fig_dir + \"GEMs_with_pMHC_barcodes_neoepitopes_no_singlets.pdf\", bbox_extra_artists=(legend1,), bbox_inches='tight') #_with_singlets\n",
    "plt.show()"
   ]
  },
  {
   "cell_type": "markdown",
   "metadata": {},
   "source": [
    "# GEM intersections"
   ]
  },
  {
   "cell_type": "markdown",
   "metadata": {},
   "source": [
    "## TCR GEM barcodes"
   ]
  },
  {
   "cell_type": "code",
   "execution_count": null,
   "metadata": {},
   "outputs": [],
   "source": [
    "tcr_gems_all = tcr_df.barcode.unique()\n",
    "tcr_gems_is_cell = tcr_df[tcr_df.is_cell == True].barcode.unique()\n",
    "tcr_gems_ready_for_use = np.loadtxt(tcr_filtered_gems_dir + \"ready_for_use.lst\", dtype=np.str)\n",
    "tcr_gems_is_cell_paired_chains = set(tcr_gems_is_cell).intersection(set(tcr_gems_ready_for_use))"
   ]
  },
  {
   "cell_type": "code",
   "execution_count": null,
   "metadata": {},
   "outputs": [],
   "source": [
    "print(len(tcr_gems_all))\n",
    "print(len(tcr_gems_is_cell))\n",
    "print(len(tcr_gems_ready_for_use))\n",
    "print(len(tcr_gems_is_cell_paired_chains))"
   ]
  },
  {
   "cell_type": "markdown",
   "metadata": {},
   "source": [
    "## Singlets"
   ]
  },
  {
   "cell_type": "code",
   "execution_count": null,
   "metadata": {},
   "outputs": [],
   "source": [
    "mhc_barcode_gems = set(mhc_barcode_gems)\n",
    "cd8_barcode_gems = set(cd8_barcode_gems)\n",
    "tcr_gems_is_cell_paired_chains = set(tcr_gems_is_cell_paired_chains)"
   ]
  },
  {
   "cell_type": "code",
   "execution_count": null,
   "metadata": {},
   "outputs": [],
   "source": [
    "mhc = len(set(mhc_barcode_gems))\n",
    "cd8 = len(set(cd8_barcode_gems))\n",
    "tcr = len(set(tcr_gems_is_cell_paired_chains))"
   ]
  },
  {
   "cell_type": "code",
   "execution_count": null,
   "metadata": {
    "scrolled": true
   },
   "outputs": [],
   "source": [
    "print(mhc)\n",
    "print(cd8)\n",
    "print(tcr)"
   ]
  },
  {
   "cell_type": "code",
   "execution_count": null,
   "metadata": {},
   "outputs": [],
   "source": [
    "# Number of unique gems retrieved from Andreas parsing of reads.\n",
    "specificity_df.shape[0]"
   ]
  },
  {
   "cell_type": "markdown",
   "metadata": {},
   "source": [
    "## MHC-CD8 intersection"
   ]
  },
  {
   "cell_type": "code",
   "execution_count": null,
   "metadata": {},
   "outputs": [],
   "source": [
    "mhc_cd8 = len(set(mhc_barcode_gems).intersection(set(cd8_barcode_gems)))"
   ]
  },
  {
   "cell_type": "code",
   "execution_count": null,
   "metadata": {},
   "outputs": [],
   "source": [
    "print(mhc_cd8)"
   ]
  },
  {
   "cell_type": "markdown",
   "metadata": {},
   "source": [
    "## MHC-TCR intersection"
   ]
  },
  {
   "cell_type": "code",
   "execution_count": null,
   "metadata": {},
   "outputs": [],
   "source": [
    "mhc_tcr_all = set(mhc_barcode_gems).intersection(set(tcr_gems_all))\n",
    "mhc_tcr_is_cell = set(mhc_barcode_gems).intersection(set(tcr_gems_is_cell))\n",
    "mhc_tcr_ready_for_use = set(mhc_barcode_gems).intersection(set(tcr_gems_ready_for_use))\n",
    "mhc_tcr_is_cell_paired_chains = set(mhc_barcode_gems).intersection(set(tcr_gems_is_cell_paired_chains))"
   ]
  },
  {
   "cell_type": "code",
   "execution_count": null,
   "metadata": {},
   "outputs": [],
   "source": [
    "print(len(mhc_tcr_all))\n",
    "print(len(mhc_tcr_is_cell))\n",
    "print(len(mhc_tcr_ready_for_use))\n",
    "print(len(mhc_tcr_is_cell_paired_chains))"
   ]
  },
  {
   "cell_type": "code",
   "execution_count": null,
   "metadata": {},
   "outputs": [],
   "source": [
    "mhc_tcr = len(mhc_tcr_is_cell_paired_chains)"
   ]
  },
  {
   "cell_type": "markdown",
   "metadata": {},
   "source": [
    "## TCR-CD8 intersection"
   ]
  },
  {
   "cell_type": "code",
   "execution_count": null,
   "metadata": {},
   "outputs": [],
   "source": [
    "tcr_cd8 = len(set(cd8_barcode_gems).intersection(set(tcr_gems_is_cell_paired_chains)))"
   ]
  },
  {
   "cell_type": "code",
   "execution_count": null,
   "metadata": {
    "scrolled": true
   },
   "outputs": [],
   "source": [
    "print(tcr_cd8)"
   ]
  },
  {
   "cell_type": "markdown",
   "metadata": {},
   "source": [
    "## MHC-TCR-CD8 intersection"
   ]
  },
  {
   "cell_type": "code",
   "execution_count": null,
   "metadata": {},
   "outputs": [],
   "source": [
    "print(len(set(cd8_barcode_gems).intersection(mhc_tcr_all)))\n",
    "print(len(set(cd8_barcode_gems).intersection(mhc_tcr_is_cell)))\n",
    "print(len(set(cd8_barcode_gems).intersection(mhc_tcr_ready_for_use)))\n",
    "print(len(set(cd8_barcode_gems).intersection(mhc_tcr_is_cell_paired_chains)))"
   ]
  },
  {
   "cell_type": "code",
   "execution_count": null,
   "metadata": {},
   "outputs": [],
   "source": [
    "mhc_tcr_cd8 = len(set(cd8_barcode_gems).intersection(mhc_tcr_is_cell_paired_chains))"
   ]
  },
  {
   "cell_type": "code",
   "execution_count": null,
   "metadata": {},
   "outputs": [],
   "source": [
    "g = mhc_tcr_cd8\n",
    "c = mhc_tcr - g\n",
    "e = mhc_cd8 - g\n",
    "f = tcr_cd8 - g\n",
    "a = len(mhc_barcode_gems) - c - e - g\n",
    "b = len(tcr_gems_is_cell_paired_chains) - c - f - g\n",
    "d = len(cd8_barcode_gems) - e - f - g\n",
    "\n",
    "#a, b, c, d, e, f, g = 10, 8, 22, 6,9,4,2"
   ]
  },
  {
   "cell_type": "code",
   "execution_count": null,
   "metadata": {},
   "outputs": [],
   "source": [
    "from matplotlib_venn import venn3\n",
    " \n",
    "# Make the diagram\n",
    "venn3(subsets = (a, b, c, d, e, f, g), set_labels = ('MHC', 'TCR', 'CD8'))\n",
    "plt.savefig(fig_dir + \"tcr-mhc-cd8_venn.pdf\")\n",
    "plt.show()\n"
   ]
  },
  {
   "cell_type": "code",
   "execution_count": null,
   "metadata": {},
   "outputs": [],
   "source": []
  }
 ],
 "metadata": {
  "kernelspec": {
   "display_name": "Python 3",
   "language": "python",
   "name": "python3"
  },
  "language_info": {
   "codemirror_mode": {
    "name": "ipython",
    "version": 3
   },
   "file_extension": ".py",
   "mimetype": "text/x-python",
   "name": "python",
   "nbconvert_exporter": "python",
   "pygments_lexer": "ipython3",
   "version": "3.7.3"
  }
 },
 "nbformat": 4,
 "nbformat_minor": 2
}
