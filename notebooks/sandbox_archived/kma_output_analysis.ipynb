{
 "cells": [
  {
   "cell_type": "code",
   "execution_count": 2,
   "metadata": {},
   "outputs": [],
   "source": [
    "import numpy as np\n",
    "import pandas as pd\n",
    "import matplotlib.pyplot as plt"
   ]
  },
  {
   "cell_type": "markdown",
   "metadata": {},
   "source": [
    "# Plotting directory"
   ]
  },
  {
   "cell_type": "code",
   "execution_count": 3,
   "metadata": {},
   "outputs": [],
   "source": [
    "FIG_DIR = \"/Volumes/tuba/herpov/tcr-pmhc-sc-project/plots/exp3/\""
   ]
  },
  {
   "cell_type": "markdown",
   "metadata": {},
   "source": [
    "# Args"
   ]
  },
  {
   "cell_type": "code",
   "execution_count": 4,
   "metadata": {},
   "outputs": [],
   "source": [
    "ARGS = \"-1t1\""
   ]
  },
  {
   "cell_type": "markdown",
   "metadata": {},
   "source": [
    "# Load full data"
   ]
  },
  {
   "cell_type": "code",
   "execution_count": 5,
   "metadata": {},
   "outputs": [],
   "source": [
    "FIL = \"/Volumes/tuba/herpov/tcr-pmhc-sc-project/data/exp3_MHC/kma/kma\" + ARGS + \"/output/mapping.frag.gz\""
   ]
  },
  {
   "cell_type": "code",
   "execution_count": 13,
   "metadata": {},
   "outputs": [],
   "source": [
    "alt, sco, beg, end, gem = np.loadtxt(FIL, usecols=(1,2,3,4,9), unpack=True,\n",
    "                                     dtype={'names':('alt','sco','beg','end','gem'), 'formats':('i4','i4','i4','i4','S23')})"
   ]
  },
  {
   "cell_type": "code",
   "execution_count": 32,
   "metadata": {},
   "outputs": [
    {
     "ename": "TypeError",
     "evalue": "'dtypes' is an invalid keyword argument for array()",
     "output_type": "error",
     "traceback": [
      "\u001b[0;31m---------------------------------------------------------------------------\u001b[0m",
      "\u001b[0;31mTypeError\u001b[0m                                 Traceback (most recent call last)",
      "\u001b[0;32m<ipython-input-32-08b056ac1161>\u001b[0m in \u001b[0;36m<module>\u001b[0;34m\u001b[0m\n\u001b[0;32m----> 1\u001b[0;31m \u001b[0mnp\u001b[0m\u001b[0;34m.\u001b[0m\u001b[0marray\u001b[0m\u001b[0;34m(\u001b[0m\u001b[0mgem\u001b[0m\u001b[0;34m,\u001b[0m \u001b[0mdtypes\u001b[0m\u001b[0;34m=\u001b[0m\u001b[0;34m'str'\u001b[0m\u001b[0;34m)\u001b[0m\u001b[0;34m\u001b[0m\u001b[0;34m\u001b[0m\u001b[0m\n\u001b[0m",
      "\u001b[0;31mTypeError\u001b[0m: 'dtypes' is an invalid keyword argument for array()"
     ]
    }
   ],
   "source": [
    "np.dtype(gem, dtypes='str')"
   ]
  },
  {
   "cell_type": "markdown",
   "metadata": {},
   "source": [
    "# Stats"
   ]
  },
  {
   "cell_type": "code",
   "execution_count": 29,
   "metadata": {},
   "outputs": [
    {
     "data": {
      "text/plain": [
       "array([b'CAAGTTGAGTGCCATT-1', b'GGTATTGTCAGTGTTG-1',\n",
       "       b'AACTCTTAGTACACCT-1', b'AAAGATGAGGGCTTGA-1',\n",
       "       b'CGTGTAAAGACGCACA-1', b'GCAGCCATCCACGTGG-1',\n",
       "       b'AACTGGTCATGCCTAA-1', b'CAGGTGCTCTCTGTCG-1',\n",
       "       b'TGACGGCTCCGGCACA-1', b'CATCAGAGTCATCGGC-1'], dtype='|S23')"
      ]
     },
     "execution_count": 29,
     "metadata": {},
     "output_type": "execute_result"
    }
   ],
   "source": [
    "np.char.strip(gem, b'BX:Z:')[0:10]"
   ]
  },
  {
   "cell_type": "code",
   "execution_count": 18,
   "metadata": {},
   "outputs": [
    {
     "name": "stdout",
     "output_type": "stream",
     "text": [
      "# Reads\t\t\t4886477\n",
      "# Annotated reads\t250517\n",
      "# Passed reads\t\t247924\n",
      "# Unique GEMs\t\t8451\n"
     ]
    }
   ],
   "source": [
    "print(\"# Reads\\t\\t\\t%i\" %(19545908/4))\n",
    "print(\"# Annotated reads\\t%i\" %len(alt))\n",
    "print(\"# Passed reads\\t\\t%i\" %(alt <= 15).sum())\n",
    "print(\"# Unique GEMs\\t\\t%i\" %len(set(gem)))"
   ]
  },
  {
   "cell_type": "markdown",
   "metadata": {},
   "source": [
    "# Visualize mapping quality"
   ]
  },
  {
   "cell_type": "code",
   "execution_count": 196,
   "metadata": {},
   "outputs": [
    {
     "data": {
      "image/png": "[encoded data removed]",
      "text/plain": [
       "<Figure size 432x288 with 1 Axes>"
      ]
     },
     "metadata": {
      "needs_background": "light"
     },
     "output_type": "display_data"
    }
   ],
   "source": [
    "plt.plot(alt, sco, '.')\n",
    "plt.xlabel(\"Number of equally well mapping templates\")\n",
    "plt.ylabel(\"Mapping score for selected template\")\n",
    "plt.title(\"Cut-off values?\")\n",
    "plt.savefig(FIG_DIR + \"kma\" + ARGS + \"_score_vs_certainty.pdf\")\n",
    "plt.show()"
   ]
  },
  {
   "cell_type": "code",
   "execution_count": 186,
   "metadata": {},
   "outputs": [
    {
     "data": {
      "image/png": "[encoded data removed]",
      "text/plain": [
       "<Figure size 432x288 with 1 Axes>"
      ]
     },
     "metadata": {
      "needs_background": "light"
     },
     "output_type": "display_data"
    }
   ],
   "source": [
    "plt.hist(beg, bins=120)\n",
    "plt.show()"
   ]
  },
  {
   "cell_type": "code",
   "execution_count": 17,
   "metadata": {},
   "outputs": [
    {
     "data": {
      "image/png": "[encoded data removed]",
      "text/plain": [
       "<Figure size 432x288 with 1 Axes>"
      ]
     },
     "metadata": {
      "needs_background": "light"
     },
     "output_type": "display_data"
    }
   ],
   "source": [
    "plt.hist(end_map-beg_map, bins=150)\n",
    "plt.show()"
   ]
  },
  {
   "cell_type": "markdown",
   "metadata": {},
   "source": [
    "# pMHC GEM intersection with TCR GEMs"
   ]
  },
  {
   "cell_type": "code",
   "execution_count": 19,
   "metadata": {},
   "outputs": [],
   "source": [
    "tcr_file = \"/Volumes/tuba/herpov/tcr-pmhc-sc-project/data/exp3_TCR/processed/gem_filtration_lists/ready_for_use.lst\""
   ]
  },
  {
   "cell_type": "code",
   "execution_count": 30,
   "metadata": {},
   "outputs": [],
   "source": [
    "tcr_gems = set(np.sort(np.loadtxt(tcr_file, dtype=np.str)))\n",
    "mhc_gems = set(np.char.strip(gem, b'BX:Z:'))"
   ]
  },
  {
   "cell_type": "code",
   "execution_count": 31,
   "metadata": {},
   "outputs": [
    {
     "data": {
      "text/plain": [
       "0"
      ]
     },
     "execution_count": 31,
     "metadata": {},
     "output_type": "execute_result"
    }
   ],
   "source": [
    "len(np.intersect1d(tcr_gems, mhc_gems, assume_unique=True))"
   ]
  },
  {
   "cell_type": "code",
   "execution_count": null,
   "metadata": {},
   "outputs": [],
   "source": [
    "from matplotlib_venn import venn2\n",
    "c = intersection_types['grep_anneal_min_100bp'][9]\n",
    "a = len(tcr_barcodes) - c\n",
    "b = intersection_types['grep_anneal_min_100bp'][0]\n",
    "# Make the diagram\n",
    "venn2(subsets = (a, b, c), set_labels = ('TCR', 'MHC'))\n",
    "plt.savefig(figs + \"tcr-mhc_raw_venn.pdf\")\n",
    "#plt.title(\"Intersection supported by >10 reads\")\n",
    "plt.show()"
   ]
  },
  {
   "cell_type": "code",
   "execution_count": null,
   "metadata": {},
   "outputs": [],
   "source": []
  }
 ],
 "metadata": {
  "kernelspec": {
   "display_name": "Python 3",
   "language": "python",
   "name": "python3"
  },
  "language_info": {
   "codemirror_mode": {
    "name": "ipython",
    "version": 3
   },
   "file_extension": ".py",
   "mimetype": "text/x-python",
   "name": "python",
   "nbconvert_exporter": "python",
   "pygments_lexer": "ipython3",
   "version": "3.7.4"
  }
 },
 "nbformat": 4,
 "nbformat_minor": 2
}
