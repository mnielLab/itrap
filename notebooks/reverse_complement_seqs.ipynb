{
 "cells": [
  {
   "cell_type": "code",
   "execution_count": 2,
   "id": "f8ef4caf",
   "metadata": {},
   "outputs": [],
   "source": [
    "from Bio.Seq import Seq"
   ]
  },
  {
   "cell_type": "code",
   "execution_count": 28,
   "id": "f415ea1d",
   "metadata": {},
   "outputs": [],
   "source": [
    "fw = 'TCAATCCTTCCGCTT'"
   ]
  },
  {
   "cell_type": "code",
   "execution_count": 29,
   "id": "47284ffa",
   "metadata": {},
   "outputs": [
    {
     "data": {
      "text/plain": [
       "'TTCGCCTTCCTAACT'"
      ]
     },
     "execution_count": 29,
     "metadata": {},
     "output_type": "execute_result"
    }
   ],
   "source": [
    "rv = fw[::-1]\n",
    "rv"
   ]
  },
  {
   "cell_type": "code",
   "execution_count": 30,
   "id": "34c2ea39",
   "metadata": {},
   "outputs": [],
   "source": [
    "my_seq = Seq(fw)"
   ]
  },
  {
   "cell_type": "code",
   "execution_count": 31,
   "id": "0c4d8da7",
   "metadata": {},
   "outputs": [
    {
     "data": {
      "text/plain": [
       "Seq('AGTTAGGAAGGCGAA')"
      ]
     },
     "execution_count": 31,
     "metadata": {},
     "output_type": "execute_result"
    }
   ],
   "source": [
    "my_seq.complement()"
   ]
  },
  {
   "cell_type": "code",
   "execution_count": 32,
   "id": "5a19f260",
   "metadata": {},
   "outputs": [
    {
     "data": {
      "text/plain": [
       "Seq('AAGCGGAAGGATTGA')"
      ]
     },
     "execution_count": 32,
     "metadata": {},
     "output_type": "execute_result"
    }
   ],
   "source": [
    "my_seq.reverse_complement()"
   ]
  },
  {
   "cell_type": "code",
   "execution_count": null,
   "id": "caae9257",
   "metadata": {},
   "outputs": [],
   "source": []
  },
  {
   "cell_type": "code",
   "execution_count": null,
   "id": "8826f513",
   "metadata": {},
   "outputs": [],
   "source": []
  }
 ],
 "metadata": {
  "kernelspec": {
   "display_name": "Python 3",
   "language": "python",
   "name": "python3"
  },
  "language_info": {
   "codemirror_mode": {
    "name": "ipython",
    "version": 3
   },
   "file_extension": ".py",
   "mimetype": "text/x-python",
   "name": "python",
   "nbconvert_exporter": "python",
   "pygments_lexer": "ipython3",
   "version": "3.7.4"
  }
 },
 "nbformat": 4,
 "nbformat_minor": 5
}
