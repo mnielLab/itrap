{
 "cells": [
  {
   "cell_type": "code",
   "execution_count": 1,
   "metadata": {},
   "outputs": [],
   "source": [
    "import pandas as pd\n",
    "import numpy as np"
   ]
  },
  {
   "cell_type": "markdown",
   "metadata": {},
   "source": [
    "# Input"
   ]
  },
  {
   "cell_type": "code",
   "execution_count": 2,
   "metadata": {},
   "outputs": [],
   "source": [
    "ICON = '../../experiments/exp10x/run1/cat/tables/abf5835_data_file_s1.csv'"
   ]
  },
  {
   "cell_type": "code",
   "execution_count": 3,
   "metadata": {},
   "outputs": [],
   "source": [
    "TB = '../../experiments/exp10x/run1/cat/tables/tcr_barcode.csv'\n",
    "TBC = '../../experiments/exp10x/run1/cat/tables/tcr_barcode.cleaned.csv' #\n",
    "DF = '../../experiments/exp10x/run1/cat/eval_clonotypes/valid_ct.csv'"
   ]
  },
  {
   "cell_type": "code",
   "execution_count": 4,
   "metadata": {},
   "outputs": [],
   "source": [
    "DONOR1 = '../../experiments/exp10x/raw/vdj_v1_hs_aggregated_donor1_all_contig_annotations.csv'\n",
    "CONTIG = '../../experiments/exp10x/run1/tcr/cellranger_tot/outs/multi/vdj_t/all_contig_annotations.csv'"
   ]
  },
  {
   "cell_type": "code",
   "execution_count": 5,
   "metadata": {},
   "outputs": [],
   "source": [
    "CLEAN_TCR = '../../experiments/exp10x/run1/tcr/augmented/tcr.clean.augmented.csv'"
   ]
  },
  {
   "cell_type": "markdown",
   "metadata": {},
   "source": [
    "# Output"
   ]
  },
  {
   "cell_type": "code",
   "execution_count": 189,
   "metadata": {},
   "outputs": [],
   "source": [
    "ICON_OUT = '../../experiments/exp10x/run1/cat/eval_clonotypes/valid_ct.icon.csv'\n",
    "WHLA_OUT= '../../experiments/exp10x/run1/cat/eval_clonotypes/valid_ct.hla.csv'"
   ]
  },
  {
   "cell_type": "markdown",
   "metadata": {},
   "source": [
    "# Load"
   ]
  },
  {
   "cell_type": "code",
   "execution_count": 6,
   "metadata": {},
   "outputs": [],
   "source": [
    "contig = pd.read_csv(CONTIG, low_memory=False)"
   ]
  },
  {
   "cell_type": "code",
   "execution_count": 7,
   "metadata": {},
   "outputs": [],
   "source": [
    "icon_all = pd.read_csv(ICON,\n",
    "                   usecols=['Cell barcode','Donor','pMHC','beta_v_gene','beta_j_gene','beta_cdr3','alpha_v_gene','alpha_j_gene','alpha_cdr3','UMI','corrected dex. Sig.','normalized dex. Sig.'],\n",
    "                   encoding='unicode_escape')"
   ]
  },
  {
   "cell_type": "code",
   "execution_count": 13,
   "metadata": {},
   "outputs": [],
   "source": [
    "df = pd.read_csv(DF, low_memory=False)"
   ]
  },
  {
   "cell_type": "code",
   "execution_count": 9,
   "metadata": {},
   "outputs": [],
   "source": [
    "donor1 = pd.read_csv(DONOR1, low_memory=False)\n",
    "tb = pd.read_csv(TB, low_memory=False)\n",
    "tbc = pd.read_csv(TBC, low_memory=False)"
   ]
  },
  {
   "cell_type": "code",
   "execution_count": 10,
   "metadata": {},
   "outputs": [],
   "source": [
    "tcr_clean = pd.read_csv(CLEAN_TCR, low_memory=False)"
   ]
  },
  {
   "cell_type": "markdown",
   "metadata": {},
   "source": [
    "# Prep"
   ]
  },
  {
   "cell_type": "code",
   "execution_count": 11,
   "metadata": {},
   "outputs": [],
   "source": [
    "gem_df = contig.barcode.str.split('-s', expand=True)\n",
    "contig['gem'] = gem_df[0]\n",
    "contig['gem_spl'] = gem_df[0].str.split('-', expand=True)[0]\n",
    "contig['sample_id'] = 's' + gem_df[1]"
   ]
  },
  {
   "cell_type": "markdown",
   "metadata": {},
   "source": [
    "### DF"
   ]
  },
  {
   "cell_type": "code",
   "execution_count": 12,
   "metadata": {},
   "outputs": [],
   "source": [
    "gem_df = df.gem.str.split('-s', expand=True)\n",
    "#df.gem = gem_df[0]\n",
    "df['gem_spl'] = gem_df[0].str.split('-', expand=True)[0]\n",
    "df.sample_id = 's' + gem_df[1]"
   ]
  },
  {
   "cell_type": "code",
   "execution_count": 13,
   "metadata": {},
   "outputs": [],
   "source": [
    "sample2donor = {'s1':'Donor 1',\n",
    "                's2':'Donor 2',\n",
    "                's3':'Donor 3',\n",
    "                's4':'Donor 4'}"
   ]
  },
  {
   "cell_type": "code",
   "execution_count": 14,
   "metadata": {},
   "outputs": [],
   "source": [
    "df['donor'] = df.sample_id.map(sample2donor)"
   ]
  },
  {
   "cell_type": "code",
   "execution_count": 24,
   "metadata": {},
   "outputs": [],
   "source": [
    "haplotypes = {'s1': ['A0201','A1101','B3501'],\n",
    "              's2': ['A0201','A0101','B0801'],\n",
    "              's3': ['A2402','A2902','B3502','B4403'],\n",
    "              's4': ['A0301','B0702','B5701']}"
   ]
  },
  {
   "cell_type": "code",
   "execution_count": 16,
   "metadata": {},
   "outputs": [],
   "source": [
    "df.HLA_cd8 = df.sample_id.map(haplotypes)"
   ]
  },
  {
   "cell_type": "code",
   "execution_count": 17,
   "metadata": {},
   "outputs": [],
   "source": [
    "#df.to_csv(WHLA_OUT)"
   ]
  },
  {
   "cell_type": "code",
   "execution_count": 18,
   "metadata": {},
   "outputs": [
    {
     "data": {
      "text/plain": [
       "70212"
      ]
     },
     "execution_count": 18,
     "metadata": {},
     "output_type": "execute_result"
    }
   ],
   "source": [
    "df.apply(lambda row: row.HLA_mhc in row.HLA_cd8, axis=1).sum()"
   ]
  },
  {
   "cell_type": "code",
   "execution_count": 14,
   "metadata": {},
   "outputs": [
    {
     "data": {
      "text/plain": [
       "(181913, 125)"
      ]
     },
     "execution_count": 14,
     "metadata": {},
     "output_type": "execute_result"
    }
   ],
   "source": [
    "df.shape"
   ]
  },
  {
   "cell_type": "code",
   "execution_count": 16,
   "metadata": {},
   "outputs": [
    {
     "data": {
      "text/plain": [
       "181913"
      ]
     },
     "execution_count": 16,
     "metadata": {},
     "output_type": "execute_result"
    }
   ],
   "source": [
    "df.gem.nunique()"
   ]
  },
  {
   "cell_type": "code",
   "execution_count": 17,
   "metadata": {},
   "outputs": [
    {
     "data": {
      "text/plain": [
       "161525"
      ]
     },
     "execution_count": 17,
     "metadata": {},
     "output_type": "execute_result"
    }
   ],
   "source": [
    "df.gem_spl.nunique()"
   ]
  },
  {
   "cell_type": "code",
   "execution_count": 18,
   "metadata": {},
   "outputs": [
    {
     "data": {
      "text/plain": [
       "0"
      ]
     },
     "execution_count": 18,
     "metadata": {},
     "output_type": "execute_result"
    }
   ],
   "source": [
    "df.duplicated(subset=['gem','donor'], keep=False).sum()"
   ]
  },
  {
   "cell_type": "code",
   "execution_count": 19,
   "metadata": {},
   "outputs": [
    {
     "data": {
      "text/plain": [
       "11974"
      ]
     },
     "execution_count": 19,
     "metadata": {},
     "output_type": "execute_result"
    }
   ],
   "source": [
    "df.duplicated(subset=['gem_spl','donor'], keep=False).sum()"
   ]
  },
  {
   "cell_type": "markdown",
   "metadata": {},
   "source": [
    "### ICON"
   ]
  },
  {
   "cell_type": "code",
   "execution_count": 20,
   "metadata": {},
   "outputs": [
    {
     "data": {
      "text/plain": [
       "(53062, 12)"
      ]
     },
     "execution_count": 20,
     "metadata": {},
     "output_type": "execute_result"
    }
   ],
   "source": [
    "icon_all.shape"
   ]
  },
  {
   "cell_type": "code",
   "execution_count": 43,
   "metadata": {},
   "outputs": [
    {
     "data": {
      "text/plain": [
       "(39010, 12)"
      ]
     },
     "execution_count": 43,
     "metadata": {},
     "output_type": "execute_result"
    }
   ],
   "source": [
    "icon_all[icon_all.Donor != 'Donor V'].shape"
   ]
  },
  {
   "cell_type": "code",
   "execution_count": 42,
   "metadata": {},
   "outputs": [
    {
     "data": {
      "text/plain": [
       "39010"
      ]
     },
     "execution_count": 42,
     "metadata": {},
     "output_type": "execute_result"
    }
   ],
   "source": [
    "53062-14052"
   ]
  },
  {
   "cell_type": "code",
   "execution_count": 21,
   "metadata": {},
   "outputs": [],
   "source": [
    "# # Fix GEM IDs\n",
    "# V_idx = icon[icon.Donor == 'Donor V'].index\n",
    "# icon.loc[V_idx, 'Cell barcode'] = icon.loc[V_idx, 'Cell barcode'].str.replace('.1','-1', regex=False)\n",
    "\n",
    "icon = icon_all[icon_all.Donor != 'Donor V'].copy()"
   ]
  },
  {
   "cell_type": "code",
   "execution_count": 22,
   "metadata": {},
   "outputs": [],
   "source": [
    "gem_df = icon['Cell barcode'].str.split('.', expand=True)\n",
    "\n",
    "icon['gem'] = gem_df[1]\n",
    "icon['gem_spl'] = gem_df[1].str.split('-',expand=True)[0]\n",
    "icon['sample_id'] = gem_df[0].str.replace('DV?','s', regex=True)"
   ]
  },
  {
   "cell_type": "code",
   "execution_count": 25,
   "metadata": {},
   "outputs": [],
   "source": [
    "icon['HLA_cd8'] = icon.sample_id.map(haplotypes)"
   ]
  },
  {
   "cell_type": "code",
   "execution_count": 26,
   "metadata": {},
   "outputs": [],
   "source": [
    "icon_pMHC = icon.pMHC.str.split('_', n=2, expand=True)\n",
    "icon['peptide_HLA'] = icon_pMHC[1] +' '+ icon_pMHC[0].str.replace('*','', regex=False)\n",
    "icon['HLA_mhc'] = icon_pMHC[0].str.replace('*','', regex=False)"
   ]
  },
  {
   "cell_type": "code",
   "execution_count": 27,
   "metadata": {},
   "outputs": [
    {
     "data": {
      "text/plain": [
       "32700"
      ]
     },
     "execution_count": 27,
     "metadata": {},
     "output_type": "execute_result"
    }
   ],
   "source": [
    "icon.apply(lambda row: row.HLA_mhc in row.HLA_cd8, axis=1).sum()"
   ]
  },
  {
   "cell_type": "code",
   "execution_count": 65,
   "metadata": {},
   "outputs": [
    {
     "data": {
      "text/plain": [
       "0          AAACCTGAGAAACCGC-1-s3\n",
       "1         AAACCTGAGAAACCTA-30-s2\n",
       "2         AAACCTGAGAACTCGG-39-s2\n",
       "3          AAACCTGAGAAGGGTA-9-s2\n",
       "4          AAACCTGAGAATCTCC-3-s4\n",
       "                   ...          \n",
       "181908     TTTGTCATCTTAGAGC-2-s4\n",
       "181909     TTTGTCATCTTGACGA-5-s3\n",
       "181910    TTTGTCATCTTGAGAC-35-s2\n",
       "181911    TTTGTCATCTTTAGGG-36-s2\n",
       "181912     TTTGTCATCTTTAGGG-4-s3\n",
       "Name: gem, Length: 181913, dtype: object"
      ]
     },
     "execution_count": 65,
     "metadata": {},
     "output_type": "execute_result"
    }
   ],
   "source": [
    "df.gem"
   ]
  },
  {
   "cell_type": "code",
   "execution_count": 33,
   "metadata": {},
   "outputs": [
    {
     "data": {
      "text/plain": [
       "0         AAACCTGAGAAACCGC\n",
       "1         AAACCTGAGAAACCTA\n",
       "2         AAACCTGAGAACTCGG\n",
       "3         AAACCTGAGAAGGGTA\n",
       "4         AAACCTGAGAATCTCC\n",
       "                ...       \n",
       "181908    TTTGTCATCTTAGAGC\n",
       "181909    TTTGTCATCTTGACGA\n",
       "181910    TTTGTCATCTTGAGAC\n",
       "181911    TTTGTCATCTTTAGGG\n",
       "181912    TTTGTCATCTTTAGGG\n",
       "Name: gem_spl, Length: 181913, dtype: object"
      ]
     },
     "execution_count": 33,
     "metadata": {},
     "output_type": "execute_result"
    }
   ],
   "source": [
    "df.gem_spl"
   ]
  },
  {
   "cell_type": "code",
   "execution_count": 34,
   "metadata": {},
   "outputs": [],
   "source": [
    "df['va_match'] = df.v_gene_TRA == df.alpha_v_gene.str.replace('/','')\n",
    "df['ja_match'] = df.j_gene_TRA == df.alpha_j_gene.str.replace('/','')\n",
    "df['vb_match'] = df.v_gene_TRB == df.beta_v_gene.str.replace('/','')\n",
    "df['jb_match'] = df.j_gene_TRB == df.beta_j_gene.str.replace('/','')"
   ]
  },
  {
   "cell_type": "markdown",
   "metadata": {},
   "source": [
    "## Merge"
   ]
  },
  {
   "cell_type": "code",
   "execution_count": 50,
   "metadata": {},
   "outputs": [],
   "source": [
    "tmp = pd.merge(df[df.columns[1:104]], icon, # added [df.columns[1:104]]\n",
    "               left_on=['gem_spl','sample_id'],\n",
    "               right_on=['gem_spl','sample_id'], # 270 gem_spl (all donor 2) do not exist in original data.\n",
    "               how='left', suffixes=['','_icon'])"
   ]
  },
  {
   "cell_type": "code",
   "execution_count": 51,
   "metadata": {},
   "outputs": [],
   "source": [
    "tmp['va_match'] = tmp.v_gene_TRA == tmp.alpha_v_gene.str.replace('/','')\n",
    "tmp['ja_match'] = tmp.j_gene_TRA == tmp.alpha_j_gene.str.replace('/','')\n",
    "tmp['vb_match'] = tmp.v_gene_TRB == tmp.beta_v_gene.str.replace('/','')\n",
    "tmp['jb_match'] = tmp.j_gene_TRB == tmp.beta_j_gene.str.replace('/','')"
   ]
  },
  {
   "cell_type": "code",
   "execution_count": 72,
   "metadata": {},
   "outputs": [
    {
     "data": {
      "text/html": [
       "<div>\n",
       "<style scoped>\n",
       "    .dataframe tbody tr th:only-of-type {\n",
       "        vertical-align: middle;\n",
       "    }\n",
       "\n",
       "    .dataframe tbody tr th {\n",
       "        vertical-align: top;\n",
       "    }\n",
       "\n",
       "    .dataframe thead th {\n",
       "        text-align: right;\n",
       "    }\n",
       "</style>\n",
       "<table border=\"1\" class=\"dataframe\">\n",
       "  <thead>\n",
       "    <tr style=\"text-align: right;\">\n",
       "      <th></th>\n",
       "      <th>gem</th>\n",
       "      <th>gem_icon</th>\n",
       "      <th>Cell barcode</th>\n",
       "      <th>clonotype</th>\n",
       "      <th>ct</th>\n",
       "      <th>peptide_HLA</th>\n",
       "      <th>peptide_HLA_icon</th>\n",
       "      <th>va_match</th>\n",
       "      <th>vb_match</th>\n",
       "      <th>ja_match</th>\n",
       "      <th>jb_match</th>\n",
       "    </tr>\n",
       "  </thead>\n",
       "  <tbody>\n",
       "    <tr>\n",
       "      <th>61</th>\n",
       "      <td>AAACCTGAGGCCCGTT-22-s2</td>\n",
       "      <td>AAACCTGAGGCCCGTT-17</td>\n",
       "      <td>D2.AAACCTGAGGCCCGTT-17</td>\n",
       "      <td>clonotype30394</td>\n",
       "      <td>11681</td>\n",
       "      <td>RAKFKQLL B0801</td>\n",
       "      <td>RAKFKQLL B0801</td>\n",
       "      <td>False</td>\n",
       "      <td>True</td>\n",
       "      <td>False</td>\n",
       "      <td>True</td>\n",
       "    </tr>\n",
       "    <tr>\n",
       "      <th>62</th>\n",
       "      <td>AAACCTGAGGCCCGTT-7-s2</td>\n",
       "      <td>AAACCTGAGGCCCGTT-17</td>\n",
       "      <td>D2.AAACCTGAGGCCCGTT-17</td>\n",
       "      <td>clonotype30344</td>\n",
       "      <td>1872</td>\n",
       "      <td>RAKFKQLL B0801</td>\n",
       "      <td>RAKFKQLL B0801</td>\n",
       "      <td>False</td>\n",
       "      <td>False</td>\n",
       "      <td>False</td>\n",
       "      <td>False</td>\n",
       "    </tr>\n",
       "    <tr>\n",
       "      <th>137</th>\n",
       "      <td>AAACCTGCACGCCAGT-22-s2</td>\n",
       "      <td>AAACCTGCACGCCAGT-16</td>\n",
       "      <td>D2.AAACCTGCACGCCAGT-16</td>\n",
       "      <td>clonotype31025</td>\n",
       "      <td>31025</td>\n",
       "      <td>IVTDFSVIK A1101</td>\n",
       "      <td>GILGFVFTL A0201</td>\n",
       "      <td>False</td>\n",
       "      <td>False</td>\n",
       "      <td>False</td>\n",
       "      <td>False</td>\n",
       "    </tr>\n",
       "    <tr>\n",
       "      <th>138</th>\n",
       "      <td>AAACCTGCACGCCAGT-28-s2</td>\n",
       "      <td>AAACCTGCACGCCAGT-16</td>\n",
       "      <td>D2.AAACCTGCACGCCAGT-16</td>\n",
       "      <td>clonotype30620</td>\n",
       "      <td>30620</td>\n",
       "      <td>GILGFVFTL A0201</td>\n",
       "      <td>GILGFVFTL A0201</td>\n",
       "      <td>True</td>\n",
       "      <td>True</td>\n",
       "      <td>True</td>\n",
       "      <td>True</td>\n",
       "    </tr>\n",
       "    <tr>\n",
       "      <th>165</th>\n",
       "      <td>AAACCTGCAGTATGCT-11-s2</td>\n",
       "      <td>AAACCTGCAGTATGCT-26</td>\n",
       "      <td>D2.AAACCTGCAGTATGCT-26</td>\n",
       "      <td>clonotype30546</td>\n",
       "      <td>30546</td>\n",
       "      <td>RAKFKQLL B0801</td>\n",
       "      <td>RAKFKQLL B0801</td>\n",
       "      <td>True</td>\n",
       "      <td>True</td>\n",
       "      <td>True</td>\n",
       "      <td>True</td>\n",
       "    </tr>\n",
       "    <tr>\n",
       "      <th>...</th>\n",
       "      <td>...</td>\n",
       "      <td>...</td>\n",
       "      <td>...</td>\n",
       "      <td>...</td>\n",
       "      <td>...</td>\n",
       "      <td>...</td>\n",
       "      <td>...</td>\n",
       "      <td>...</td>\n",
       "      <td>...</td>\n",
       "      <td>...</td>\n",
       "      <td>...</td>\n",
       "    </tr>\n",
       "    <tr>\n",
       "      <th>182743</th>\n",
       "      <td>TTTGTCACATGCCACG-7-s2</td>\n",
       "      <td>TTTGTCACATGCCACG-22</td>\n",
       "      <td>D2.TTTGTCACATGCCACG-22</td>\n",
       "      <td>clonotype30341</td>\n",
       "      <td>685</td>\n",
       "      <td>RAKFKQLL B0801</td>\n",
       "      <td>RAKFKQLL B0801</td>\n",
       "      <td>True</td>\n",
       "      <td>True</td>\n",
       "      <td>True</td>\n",
       "      <td>True</td>\n",
       "    </tr>\n",
       "    <tr>\n",
       "      <th>182850</th>\n",
       "      <td>TTTGTCATCAAAGTAG-27-s2</td>\n",
       "      <td>TTTGTCATCAAAGTAG-12</td>\n",
       "      <td>D2.TTTGTCATCAAAGTAG-12</td>\n",
       "      <td>clonotype31547</td>\n",
       "      <td>31547</td>\n",
       "      <td>GILGFVFTL A0201</td>\n",
       "      <td>RAKFKQLL B0801</td>\n",
       "      <td>False</td>\n",
       "      <td>False</td>\n",
       "      <td>False</td>\n",
       "      <td>False</td>\n",
       "    </tr>\n",
       "    <tr>\n",
       "      <th>182851</th>\n",
       "      <td>TTTGTCATCAAAGTAG-9-s2</td>\n",
       "      <td>TTTGTCATCAAAGTAG-12</td>\n",
       "      <td>D2.TTTGTCATCAAAGTAG-12</td>\n",
       "      <td>clonotype30537</td>\n",
       "      <td>30537</td>\n",
       "      <td>RAKFKQLL B0801</td>\n",
       "      <td>RAKFKQLL B0801</td>\n",
       "      <td>True</td>\n",
       "      <td>True</td>\n",
       "      <td>True</td>\n",
       "      <td>True</td>\n",
       "    </tr>\n",
       "    <tr>\n",
       "      <th>182864</th>\n",
       "      <td>TTTGTCATCAGTACGT-28-s2</td>\n",
       "      <td>TTTGTCATCAGTACGT-10</td>\n",
       "      <td>D2.TTTGTCATCAGTACGT-10</td>\n",
       "      <td>clonotype31589</td>\n",
       "      <td>31554</td>\n",
       "      <td>GILGFVFTL A0201</td>\n",
       "      <td>RAKFKQLL B0801</td>\n",
       "      <td>False</td>\n",
       "      <td>False</td>\n",
       "      <td>False</td>\n",
       "      <td>True</td>\n",
       "    </tr>\n",
       "    <tr>\n",
       "      <th>182865</th>\n",
       "      <td>TTTGTCATCAGTACGT-33-s2</td>\n",
       "      <td>TTTGTCATCAGTACGT-10</td>\n",
       "      <td>D2.TTTGTCATCAGTACGT-10</td>\n",
       "      <td>clonotype30342</td>\n",
       "      <td>745</td>\n",
       "      <td>RAKFKQLL B0801</td>\n",
       "      <td>RAKFKQLL B0801</td>\n",
       "      <td>True</td>\n",
       "      <td>True</td>\n",
       "      <td>True</td>\n",
       "      <td>True</td>\n",
       "    </tr>\n",
       "  </tbody>\n",
       "</table>\n",
       "<p>6235 rows × 11 columns</p>\n",
       "</div>"
      ],
      "text/plain": [
       "                           gem             gem_icon            Cell barcode  \\\n",
       "61      AAACCTGAGGCCCGTT-22-s2  AAACCTGAGGCCCGTT-17  D2.AAACCTGAGGCCCGTT-17   \n",
       "62       AAACCTGAGGCCCGTT-7-s2  AAACCTGAGGCCCGTT-17  D2.AAACCTGAGGCCCGTT-17   \n",
       "137     AAACCTGCACGCCAGT-22-s2  AAACCTGCACGCCAGT-16  D2.AAACCTGCACGCCAGT-16   \n",
       "138     AAACCTGCACGCCAGT-28-s2  AAACCTGCACGCCAGT-16  D2.AAACCTGCACGCCAGT-16   \n",
       "165     AAACCTGCAGTATGCT-11-s2  AAACCTGCAGTATGCT-26  D2.AAACCTGCAGTATGCT-26   \n",
       "...                        ...                  ...                     ...   \n",
       "182743   TTTGTCACATGCCACG-7-s2  TTTGTCACATGCCACG-22  D2.TTTGTCACATGCCACG-22   \n",
       "182850  TTTGTCATCAAAGTAG-27-s2  TTTGTCATCAAAGTAG-12  D2.TTTGTCATCAAAGTAG-12   \n",
       "182851   TTTGTCATCAAAGTAG-9-s2  TTTGTCATCAAAGTAG-12  D2.TTTGTCATCAAAGTAG-12   \n",
       "182864  TTTGTCATCAGTACGT-28-s2  TTTGTCATCAGTACGT-10  D2.TTTGTCATCAGTACGT-10   \n",
       "182865  TTTGTCATCAGTACGT-33-s2  TTTGTCATCAGTACGT-10  D2.TTTGTCATCAGTACGT-10   \n",
       "\n",
       "             clonotype     ct      peptide_HLA peptide_HLA_icon  va_match  \\\n",
       "61      clonotype30394  11681   RAKFKQLL B0801   RAKFKQLL B0801     False   \n",
       "62      clonotype30344   1872   RAKFKQLL B0801   RAKFKQLL B0801     False   \n",
       "137     clonotype31025  31025  IVTDFSVIK A1101  GILGFVFTL A0201     False   \n",
       "138     clonotype30620  30620  GILGFVFTL A0201  GILGFVFTL A0201      True   \n",
       "165     clonotype30546  30546   RAKFKQLL B0801   RAKFKQLL B0801      True   \n",
       "...                ...    ...              ...              ...       ...   \n",
       "182743  clonotype30341    685   RAKFKQLL B0801   RAKFKQLL B0801      True   \n",
       "182850  clonotype31547  31547  GILGFVFTL A0201   RAKFKQLL B0801     False   \n",
       "182851  clonotype30537  30537   RAKFKQLL B0801   RAKFKQLL B0801      True   \n",
       "182864  clonotype31589  31554  GILGFVFTL A0201   RAKFKQLL B0801     False   \n",
       "182865  clonotype30342    745   RAKFKQLL B0801   RAKFKQLL B0801      True   \n",
       "\n",
       "        vb_match  ja_match  jb_match  \n",
       "61          True     False      True  \n",
       "62         False     False     False  \n",
       "137        False     False     False  \n",
       "138         True      True      True  \n",
       "165         True      True      True  \n",
       "...          ...       ...       ...  \n",
       "182743      True      True      True  \n",
       "182850     False     False     False  \n",
       "182851      True      True      True  \n",
       "182864     False     False      True  \n",
       "182865      True      True      True  \n",
       "\n",
       "[6235 rows x 11 columns]"
      ]
     },
     "execution_count": 72,
     "metadata": {},
     "output_type": "execute_result"
    }
   ],
   "source": [
    "tmp.loc[tmp.duplicated(subset=['Cell barcode'], keep=False) & ~tmp.gem_icon.isna(),\n",
    "        ['gem','gem_icon','Cell barcode','clonotype','ct','peptide_HLA','peptide_HLA_icon','va_match','vb_match','ja_match','jb_match']].sort_values(by=['gem','Cell barcode','va_match','vb_match','ja_match','jb_match'])"
   ]
  },
  {
   "cell_type": "code",
   "execution_count": 53,
   "metadata": {},
   "outputs": [],
   "source": [
    "tmp['peptide_HLA_match'] = tmp.peptide_HLA == tmp.peptide_HLA_icon"
   ]
  },
  {
   "cell_type": "markdown",
   "metadata": {},
   "source": [
    "OBS! There appears to be some mess in the ICON data regarding the GEM numbering. Alpha and beta chains are paired across different GEMs, e.g. AAACCTGTCTAACTTC-38 and AAACCTGTCTAACTTC-16. Moreover, the GEMs have a different numerical addition than the original data. Only 5177 GEM IDs are identical across ICON and 10x data."
   ]
  },
  {
   "cell_type": "code",
   "execution_count": 83,
   "metadata": {},
   "outputs": [
    {
     "data": {
      "text/plain": [
       "39813"
      ]
     },
     "execution_count": 83,
     "metadata": {},
     "output_type": "execute_result"
    }
   ],
   "source": [
    "tmp.sort_values(by=['gem','va_match','vb_match','ja_match','jb_match'], inplace=True)\n",
    "# 2039 duplicates --> 1033 GEMs with had multiple entries in ICON\n",
    "tmp.drop_duplicates(['gem','sample_id'], keep='first').dropna(subset=['gem_icon']).gem.nunique()#.to_csv(WHLA_OUT, index=False)"
   ]
  },
  {
   "cell_type": "code",
   "execution_count": 62,
   "metadata": {},
   "outputs": [
    {
     "data": {
      "text/plain": [
       "37654"
      ]
     },
     "execution_count": 62,
     "metadata": {},
     "output_type": "execute_result"
    }
   ],
   "source": [
    "tmp[~tmp.gem_icon.isna()]['Cell barcode'].nunique()"
   ]
  },
  {
   "cell_type": "code",
   "execution_count": 184,
   "metadata": {},
   "outputs": [
    {
     "data": {
      "text/plain": [
       "39813"
      ]
     },
     "execution_count": 184,
     "metadata": {},
     "output_type": "execute_result"
    }
   ],
   "source": [
    "tmp[~tmp.peptide_HLA_icon.isna()] #.to_csv(ICON_OUT, index=False)"
   ]
  },
  {
   "cell_type": "code",
   "execution_count": 185,
   "metadata": {},
   "outputs": [
    {
     "data": {
      "text/plain": [
       "(182946, 125)"
      ]
     },
     "execution_count": 185,
     "metadata": {},
     "output_type": "execute_result"
    }
   ],
   "source": [
    "tmp.shape"
   ]
  },
  {
   "cell_type": "code",
   "execution_count": 161,
   "metadata": {},
   "outputs": [
    {
     "data": {
      "text/plain": [
       "(270, 18)"
      ]
     },
     "execution_count": 161,
     "metadata": {},
     "output_type": "execute_result"
    }
   ],
   "source": [
    "icon[~icon.gem_spl.isin(contig.gem_spl)].shape"
   ]
  },
  {
   "cell_type": "code",
   "execution_count": 180,
   "metadata": {},
   "outputs": [
    {
     "data": {
      "text/plain": [
       "(1133, 18)"
      ]
     },
     "execution_count": 180,
     "metadata": {},
     "output_type": "execute_result"
    }
   ],
   "source": [
    "icon[~icon.gem_spl.isin(df.gem_spl)].shape"
   ]
  },
  {
   "cell_type": "code",
   "execution_count": 181,
   "metadata": {},
   "outputs": [
    {
     "data": {
      "text/plain": [
       "38053"
      ]
     },
     "execution_count": 181,
     "metadata": {},
     "output_type": "execute_result"
    }
   ],
   "source": [
    "icon.gem_spl.nunique()"
   ]
  },
  {
   "cell_type": "code",
   "execution_count": 182,
   "metadata": {},
   "outputs": [
    {
     "data": {
      "text/plain": [
       "(39010, 18)"
      ]
     },
     "execution_count": 182,
     "metadata": {},
     "output_type": "execute_result"
    }
   ],
   "source": [
    "icon.shape"
   ]
  },
  {
   "cell_type": "code",
   "execution_count": 130,
   "metadata": {},
   "outputs": [
    {
     "data": {
      "text/html": [
       "<div>\n",
       "<style scoped>\n",
       "    .dataframe tbody tr th:only-of-type {\n",
       "        vertical-align: middle;\n",
       "    }\n",
       "\n",
       "    .dataframe tbody tr th {\n",
       "        vertical-align: top;\n",
       "    }\n",
       "\n",
       "    .dataframe thead th {\n",
       "        text-align: right;\n",
       "    }\n",
       "</style>\n",
       "<table border=\"1\" class=\"dataframe\">\n",
       "  <thead>\n",
       "    <tr style=\"text-align: right;\">\n",
       "      <th></th>\n",
       "      <th>gem</th>\n",
       "      <th>gem_icon</th>\n",
       "      <th>sample_id</th>\n",
       "      <th>peptide_HLA</th>\n",
       "      <th>peptide_HLA_icon</th>\n",
       "      <th>genes_TRA</th>\n",
       "      <th>alpha_v_gene</th>\n",
       "      <th>genes_TRB</th>\n",
       "      <th>beta_v_gene</th>\n",
       "    </tr>\n",
       "  </thead>\n",
       "  <tbody>\n",
       "    <tr>\n",
       "      <th>289</th>\n",
       "      <td>AAACCTGTCTAACTTC-38</td>\n",
       "      <td>AAACCTGTCTAACTTC-34</td>\n",
       "      <td>s2</td>\n",
       "      <td>GILGFVFTL A0201</td>\n",
       "      <td>GILGFVFTL A0201</td>\n",
       "      <td>TRAV13-1;TRAJ42;TRAC</td>\n",
       "      <td>TRAV13-1</td>\n",
       "      <td>TRBV19;None;TRBJ2-3;TRBC2</td>\n",
       "      <td>TRBV19</td>\n",
       "    </tr>\n",
       "    <tr>\n",
       "      <th>290</th>\n",
       "      <td>AAACCTGTCTAACTTC-6</td>\n",
       "      <td>AAACCTGTCTAACTTC-13</td>\n",
       "      <td>s2</td>\n",
       "      <td>RAKFKQLL B0801</td>\n",
       "      <td>RAKFKQLL B0801</td>\n",
       "      <td>TRAV5;TRAJ6;TRAC</td>\n",
       "      <td>TRAV5</td>\n",
       "      <td>TRBV4-2;TRBD2;TRBJ2-2;TRBC2</td>\n",
       "      <td>TRBV4-2</td>\n",
       "    </tr>\n",
       "    <tr>\n",
       "      <th>385</th>\n",
       "      <td>AAACGGGAGGGATCTG-35</td>\n",
       "      <td>AAACGGGAGGGATCTG-40</td>\n",
       "      <td>s2</td>\n",
       "      <td>GILGFVFTL A0201</td>\n",
       "      <td>GILGFVFTL A0201</td>\n",
       "      <td>TRAV22;TRAJ37;TRAC</td>\n",
       "      <td>TRAV22</td>\n",
       "      <td>TRBV19;None;TRBJ2-7;TRBC2</td>\n",
       "      <td>TRBV19</td>\n",
       "    </tr>\n",
       "    <tr>\n",
       "      <th>386</th>\n",
       "      <td>AAACGGGAGGGATCTG-5</td>\n",
       "      <td>AAACGGGAGGGATCTG-1</td>\n",
       "      <td>s2</td>\n",
       "      <td>RAKFKQLL B0801</td>\n",
       "      <td>RAKFKQLL B0801</td>\n",
       "      <td>TRAV8-1;TRAJ21;TRAC</td>\n",
       "      <td>TRAV8-1</td>\n",
       "      <td>TRBV4-1;TRBD2;TRBJ2-1;TRBC2</td>\n",
       "      <td>TRBV4-1</td>\n",
       "    </tr>\n",
       "    <tr>\n",
       "      <th>1756</th>\n",
       "      <td>AAATGCCCAAGCGCTC-11</td>\n",
       "      <td>AAATGCCCAAGCGCTC-26</td>\n",
       "      <td>s2</td>\n",
       "      <td>GILGFVFTL A0201</td>\n",
       "      <td>GILGFVFTL A0201</td>\n",
       "      <td>TRAV8-6;TRAJ27;TRAC</td>\n",
       "      <td>TRAV8-6</td>\n",
       "      <td>TRBV6-3;TRBD1;TRBJ1-5;TRBC1</td>\n",
       "      <td>TRBV6-2</td>\n",
       "    </tr>\n",
       "    <tr>\n",
       "      <th>...</th>\n",
       "      <td>...</td>\n",
       "      <td>...</td>\n",
       "      <td>...</td>\n",
       "      <td>...</td>\n",
       "      <td>...</td>\n",
       "      <td>...</td>\n",
       "      <td>...</td>\n",
       "      <td>...</td>\n",
       "      <td>...</td>\n",
       "    </tr>\n",
       "    <tr>\n",
       "      <th>158488</th>\n",
       "      <td>TTTCCTCTCTCAAACG-20</td>\n",
       "      <td>TTTCCTCTCTCAAACG-23</td>\n",
       "      <td>s2</td>\n",
       "      <td>RAKFKQLL B0801</td>\n",
       "      <td>RAKFKQLL B0801</td>\n",
       "      <td>TRAV13-2;TRAJ45;TRAC</td>\n",
       "      <td>TRAV13-2</td>\n",
       "      <td>TRBV5-6;TRBD2;TRBJ1-1;TRBC1</td>\n",
       "      <td>TRBV5-6</td>\n",
       "    </tr>\n",
       "    <tr>\n",
       "      <th>158491</th>\n",
       "      <td>TTTCCTCTCTCAAACG-34</td>\n",
       "      <td>TTTCCTCTCTCAAACG-29</td>\n",
       "      <td>s2</td>\n",
       "      <td>RAKFKQLL B0801</td>\n",
       "      <td>RAKFKQLL B0801</td>\n",
       "      <td>TRAV1-1;TRAJ35;TRAC</td>\n",
       "      <td>TRAV1-1</td>\n",
       "      <td>TRBV27;None;TRBJ2-7;TRBC1</td>\n",
       "      <td>TRBV27</td>\n",
       "    </tr>\n",
       "    <tr>\n",
       "      <th>158493</th>\n",
       "      <td>TTTCCTCTCTCAAACG-40</td>\n",
       "      <td>TTTCCTCTCTCAAACG-29</td>\n",
       "      <td>s2</td>\n",
       "      <td>ELRRKMMYM B0801</td>\n",
       "      <td>RAKFKQLL B0801</td>\n",
       "      <td>TRAV21;TRAJ26;TRAC</td>\n",
       "      <td>TRAV1-1</td>\n",
       "      <td>TRBV5-8;TRBD1;TRBJ1-4;TRBC1</td>\n",
       "      <td>TRBV27</td>\n",
       "    </tr>\n",
       "    <tr>\n",
       "      <th>159238</th>\n",
       "      <td>TTTGTCAAGTGTTGAA-21</td>\n",
       "      <td>TTTGTCAAGTGTTGAA-8</td>\n",
       "      <td>s2</td>\n",
       "      <td>RAKFKQLL B0801</td>\n",
       "      <td>RAKFKQLL B0801</td>\n",
       "      <td>TRAV13-1;TRAJ50;TRAC</td>\n",
       "      <td>TRAV13-1</td>\n",
       "      <td>TRBV12-3;None;TRBJ2-2;TRBC2</td>\n",
       "      <td>TRBV12-3</td>\n",
       "    </tr>\n",
       "    <tr>\n",
       "      <th>159240</th>\n",
       "      <td>TTTGTCAAGTGTTGAA-27</td>\n",
       "      <td>TTTGTCAAGTGTTGAA-8</td>\n",
       "      <td>s2</td>\n",
       "      <td>RAKFKQLL B0801</td>\n",
       "      <td>RAKFKQLL B0801</td>\n",
       "      <td>TRAV13-1;TRAJ50;TRAC</td>\n",
       "      <td>TRAV13-1</td>\n",
       "      <td>TRBV12-3;None;TRBJ2-2;TRBC2</td>\n",
       "      <td>TRBV12-3</td>\n",
       "    </tr>\n",
       "  </tbody>\n",
       "</table>\n",
       "<p>1033 rows × 9 columns</p>\n",
       "</div>"
      ],
      "text/plain": [
       "                        gem             gem_icon sample_id      peptide_HLA  \\\n",
       "289     AAACCTGTCTAACTTC-38  AAACCTGTCTAACTTC-34        s2  GILGFVFTL A0201   \n",
       "290      AAACCTGTCTAACTTC-6  AAACCTGTCTAACTTC-13        s2   RAKFKQLL B0801   \n",
       "385     AAACGGGAGGGATCTG-35  AAACGGGAGGGATCTG-40        s2  GILGFVFTL A0201   \n",
       "386      AAACGGGAGGGATCTG-5   AAACGGGAGGGATCTG-1        s2   RAKFKQLL B0801   \n",
       "1756    AAATGCCCAAGCGCTC-11  AAATGCCCAAGCGCTC-26        s2  GILGFVFTL A0201   \n",
       "...                     ...                  ...       ...              ...   \n",
       "158488  TTTCCTCTCTCAAACG-20  TTTCCTCTCTCAAACG-23        s2   RAKFKQLL B0801   \n",
       "158491  TTTCCTCTCTCAAACG-34  TTTCCTCTCTCAAACG-29        s2   RAKFKQLL B0801   \n",
       "158493  TTTCCTCTCTCAAACG-40  TTTCCTCTCTCAAACG-29        s2  ELRRKMMYM B0801   \n",
       "159238  TTTGTCAAGTGTTGAA-21   TTTGTCAAGTGTTGAA-8        s2   RAKFKQLL B0801   \n",
       "159240  TTTGTCAAGTGTTGAA-27   TTTGTCAAGTGTTGAA-8        s2   RAKFKQLL B0801   \n",
       "\n",
       "       peptide_HLA_icon             genes_TRA alpha_v_gene  \\\n",
       "289     GILGFVFTL A0201  TRAV13-1;TRAJ42;TRAC     TRAV13-1   \n",
       "290      RAKFKQLL B0801      TRAV5;TRAJ6;TRAC        TRAV5   \n",
       "385     GILGFVFTL A0201    TRAV22;TRAJ37;TRAC       TRAV22   \n",
       "386      RAKFKQLL B0801   TRAV8-1;TRAJ21;TRAC      TRAV8-1   \n",
       "1756    GILGFVFTL A0201   TRAV8-6;TRAJ27;TRAC      TRAV8-6   \n",
       "...                 ...                   ...          ...   \n",
       "158488   RAKFKQLL B0801  TRAV13-2;TRAJ45;TRAC     TRAV13-2   \n",
       "158491   RAKFKQLL B0801   TRAV1-1;TRAJ35;TRAC      TRAV1-1   \n",
       "158493   RAKFKQLL B0801    TRAV21;TRAJ26;TRAC      TRAV1-1   \n",
       "159238   RAKFKQLL B0801  TRAV13-1;TRAJ50;TRAC     TRAV13-1   \n",
       "159240   RAKFKQLL B0801  TRAV13-1;TRAJ50;TRAC     TRAV13-1   \n",
       "\n",
       "                          genes_TRB beta_v_gene  \n",
       "289       TRBV19;None;TRBJ2-3;TRBC2      TRBV19  \n",
       "290     TRBV4-2;TRBD2;TRBJ2-2;TRBC2     TRBV4-2  \n",
       "385       TRBV19;None;TRBJ2-7;TRBC2      TRBV19  \n",
       "386     TRBV4-1;TRBD2;TRBJ2-1;TRBC2     TRBV4-1  \n",
       "1756    TRBV6-3;TRBD1;TRBJ1-5;TRBC1     TRBV6-2  \n",
       "...                             ...         ...  \n",
       "158488  TRBV5-6;TRBD2;TRBJ1-1;TRBC1     TRBV5-6  \n",
       "158491    TRBV27;None;TRBJ2-7;TRBC1      TRBV27  \n",
       "158493  TRBV5-8;TRBD1;TRBJ1-4;TRBC1      TRBV27  \n",
       "159238  TRBV12-3;None;TRBJ2-2;TRBC2    TRBV12-3  \n",
       "159240  TRBV12-3;None;TRBJ2-2;TRBC2    TRBV12-3  \n",
       "\n",
       "[1033 rows x 9 columns]"
      ]
     },
     "execution_count": 130,
     "metadata": {},
     "output_type": "execute_result"
    }
   ],
   "source": [
    "tmp.loc[tmp.duplicated(['gem','sample_id'], keep='first'), ['gem','gem_icon','sample_id','peptide_HLA','peptide_HLA_icon','genes_TRA','alpha_v_gene','genes_TRB','beta_v_gene']]"
   ]
  },
  {
   "cell_type": "code",
   "execution_count": 121,
   "metadata": {},
   "outputs": [
    {
     "data": {
      "text/html": [
       "<div>\n",
       "<style scoped>\n",
       "    .dataframe tbody tr th:only-of-type {\n",
       "        vertical-align: middle;\n",
       "    }\n",
       "\n",
       "    .dataframe tbody tr th {\n",
       "        vertical-align: top;\n",
       "    }\n",
       "\n",
       "    .dataframe thead th {\n",
       "        text-align: right;\n",
       "    }\n",
       "</style>\n",
       "<table border=\"1\" class=\"dataframe\">\n",
       "  <thead>\n",
       "    <tr style=\"text-align: right;\">\n",
       "      <th></th>\n",
       "      <th>barcode</th>\n",
       "      <th>gem_spl</th>\n",
       "      <th>contig_id</th>\n",
       "      <th>length</th>\n",
       "      <th>chain</th>\n",
       "      <th>v_gene</th>\n",
       "      <th>d_gene</th>\n",
       "      <th>j_gene</th>\n",
       "      <th>cdr3</th>\n",
       "    </tr>\n",
       "  </thead>\n",
       "  <tbody>\n",
       "    <tr>\n",
       "      <th>187677</th>\n",
       "      <td>AAACCTGTCTAACTTC-38-s2</td>\n",
       "      <td>AAACCTGTCTAACTTC</td>\n",
       "      <td>AAACCTGTCTAACTTC-38_contig_1</td>\n",
       "      <td>546</td>\n",
       "      <td>TRA</td>\n",
       "      <td>TRAV13-1</td>\n",
       "      <td>None</td>\n",
       "      <td>TRAJ42</td>\n",
       "      <td>CAASMGGGSQGNLIF</td>\n",
       "    </tr>\n",
       "    <tr>\n",
       "      <th>187678</th>\n",
       "      <td>AAACCTGTCTAACTTC-38-s2</td>\n",
       "      <td>AAACCTGTCTAACTTC</td>\n",
       "      <td>AAACCTGTCTAACTTC-38_contig_2</td>\n",
       "      <td>853</td>\n",
       "      <td>TRB</td>\n",
       "      <td>TRBV19</td>\n",
       "      <td>None</td>\n",
       "      <td>TRBJ2-3</td>\n",
       "      <td>CASSIRSTDTQYF</td>\n",
       "    </tr>\n",
       "    <tr>\n",
       "      <th>187679</th>\n",
       "      <td>AAACCTGTCTAACTTC-38-s2</td>\n",
       "      <td>AAACCTGTCTAACTTC</td>\n",
       "      <td>AAACCTGTCTAACTTC-38_contig_3</td>\n",
       "      <td>444</td>\n",
       "      <td>TRB</td>\n",
       "      <td>None</td>\n",
       "      <td>None</td>\n",
       "      <td>TRBJ2-3</td>\n",
       "      <td>None</td>\n",
       "    </tr>\n",
       "    <tr>\n",
       "      <th>187680</th>\n",
       "      <td>AAACCTGTCTAACTTC-6-s2</td>\n",
       "      <td>AAACCTGTCTAACTTC</td>\n",
       "      <td>AAACCTGTCTAACTTC-6_contig_1</td>\n",
       "      <td>743</td>\n",
       "      <td>TRB</td>\n",
       "      <td>TRBV4-2</td>\n",
       "      <td>TRBD2</td>\n",
       "      <td>TRBJ2-2</td>\n",
       "      <td>CASSQRPSEVGELFF</td>\n",
       "    </tr>\n",
       "    <tr>\n",
       "      <th>187681</th>\n",
       "      <td>AAACCTGTCTAACTTC-6-s2</td>\n",
       "      <td>AAACCTGTCTAACTTC</td>\n",
       "      <td>AAACCTGTCTAACTTC-6_contig_2</td>\n",
       "      <td>824</td>\n",
       "      <td>TRB</td>\n",
       "      <td>TRBV4-2</td>\n",
       "      <td>TRBD2</td>\n",
       "      <td>TRBJ2-4</td>\n",
       "      <td>None</td>\n",
       "    </tr>\n",
       "    <tr>\n",
       "      <th>187682</th>\n",
       "      <td>AAACCTGTCTAACTTC-6-s2</td>\n",
       "      <td>AAACCTGTCTAACTTC</td>\n",
       "      <td>AAACCTGTCTAACTTC-6_contig_3</td>\n",
       "      <td>823</td>\n",
       "      <td>TRB</td>\n",
       "      <td>TRBV4-2</td>\n",
       "      <td>TRBD2</td>\n",
       "      <td>TRBJ1-4</td>\n",
       "      <td>None</td>\n",
       "    </tr>\n",
       "    <tr>\n",
       "      <th>187683</th>\n",
       "      <td>AAACCTGTCTAACTTC-6-s2</td>\n",
       "      <td>AAACCTGTCTAACTTC</td>\n",
       "      <td>AAACCTGTCTAACTTC-6_contig_4</td>\n",
       "      <td>499</td>\n",
       "      <td>TRA</td>\n",
       "      <td>TRAV5</td>\n",
       "      <td>None</td>\n",
       "      <td>TRAJ6</td>\n",
       "      <td>CAEMEGGSYIPTF</td>\n",
       "    </tr>\n",
       "    <tr>\n",
       "      <th>187684</th>\n",
       "      <td>AAACCTGTCTAACTTC-6-s2</td>\n",
       "      <td>AAACCTGTCTAACTTC</td>\n",
       "      <td>AAACCTGTCTAACTTC-6_contig_5</td>\n",
       "      <td>680</td>\n",
       "      <td>TRA</td>\n",
       "      <td>TRAV8-3</td>\n",
       "      <td>None</td>\n",
       "      <td>TRAJ10</td>\n",
       "      <td>None</td>\n",
       "    </tr>\n",
       "  </tbody>\n",
       "</table>\n",
       "</div>"
      ],
      "text/plain": [
       "                       barcode           gem_spl  \\\n",
       "187677  AAACCTGTCTAACTTC-38-s2  AAACCTGTCTAACTTC   \n",
       "187678  AAACCTGTCTAACTTC-38-s2  AAACCTGTCTAACTTC   \n",
       "187679  AAACCTGTCTAACTTC-38-s2  AAACCTGTCTAACTTC   \n",
       "187680   AAACCTGTCTAACTTC-6-s2  AAACCTGTCTAACTTC   \n",
       "187681   AAACCTGTCTAACTTC-6-s2  AAACCTGTCTAACTTC   \n",
       "187682   AAACCTGTCTAACTTC-6-s2  AAACCTGTCTAACTTC   \n",
       "187683   AAACCTGTCTAACTTC-6-s2  AAACCTGTCTAACTTC   \n",
       "187684   AAACCTGTCTAACTTC-6-s2  AAACCTGTCTAACTTC   \n",
       "\n",
       "                           contig_id  length chain    v_gene d_gene   j_gene  \\\n",
       "187677  AAACCTGTCTAACTTC-38_contig_1     546   TRA  TRAV13-1   None   TRAJ42   \n",
       "187678  AAACCTGTCTAACTTC-38_contig_2     853   TRB    TRBV19   None  TRBJ2-3   \n",
       "187679  AAACCTGTCTAACTTC-38_contig_3     444   TRB      None   None  TRBJ2-3   \n",
       "187680   AAACCTGTCTAACTTC-6_contig_1     743   TRB   TRBV4-2  TRBD2  TRBJ2-2   \n",
       "187681   AAACCTGTCTAACTTC-6_contig_2     824   TRB   TRBV4-2  TRBD2  TRBJ2-4   \n",
       "187682   AAACCTGTCTAACTTC-6_contig_3     823   TRB   TRBV4-2  TRBD2  TRBJ1-4   \n",
       "187683   AAACCTGTCTAACTTC-6_contig_4     499   TRA     TRAV5   None    TRAJ6   \n",
       "187684   AAACCTGTCTAACTTC-6_contig_5     680   TRA   TRAV8-3   None   TRAJ10   \n",
       "\n",
       "                   cdr3  \n",
       "187677  CAASMGGGSQGNLIF  \n",
       "187678    CASSIRSTDTQYF  \n",
       "187679             None  \n",
       "187680  CASSQRPSEVGELFF  \n",
       "187681             None  \n",
       "187682             None  \n",
       "187683    CAEMEGGSYIPTF  \n",
       "187684             None  "
      ]
     },
     "execution_count": 121,
     "metadata": {},
     "output_type": "execute_result"
    }
   ],
   "source": [
    "contig.loc[contig.gem.str.contains('AAACCTGTCTAACTTC'), ['barcode','gem_spl','contig_id','length','chain','v_gene','d_gene','j_gene','cdr3']]"
   ]
  },
  {
   "cell_type": "markdown",
   "metadata": {},
   "source": [
    "# Compare"
   ]
  },
  {
   "cell_type": "code",
   "execution_count": 113,
   "metadata": {},
   "outputs": [
    {
     "data": {
      "text/plain": [
       "level_0                  4\n",
       "level_1             230241\n",
       "barcode             192765\n",
       "is_cell                  1\n",
       "contig_id           434735\n",
       "high_confidence          2\n",
       "length                1106\n",
       "chain                    3\n",
       "v_gene                 121\n",
       "d_gene                   4\n",
       "j_gene                  67\n",
       "c_gene                  12\n",
       "full_length              1\n",
       "productive               1\n",
       "cdr3                142027\n",
       "cdr3_nt             153063\n",
       "reads                46852\n",
       "umis                    82\n",
       "raw_clonotype_id     85354\n",
       "raw_consensus_id     73356\n",
       "gem_spl             169263\n",
       "gem                 191454\n",
       "sample_id                4\n",
       "dtype: int64"
      ]
     },
     "execution_count": 113,
     "metadata": {},
     "output_type": "execute_result"
    }
   ],
   "source": [
    "contig[(contig.is_cell == True) & (contig.productive == True) & (contig.full_length ==True)].nunique() #[contig.is_cell == True]"
   ]
  },
  {
   "cell_type": "code",
   "execution_count": 105,
   "metadata": {},
   "outputs": [
    {
     "data": {
      "text/plain": [
       "(181913, 103)"
      ]
     },
     "execution_count": 105,
     "metadata": {},
     "output_type": "execute_result"
    }
   ],
   "source": [
    "df.shape"
   ]
  },
  {
   "cell_type": "code",
   "execution_count": 127,
   "metadata": {},
   "outputs": [
    {
     "data": {
      "text/plain": [
       "(181913, 125)"
      ]
     },
     "execution_count": 127,
     "metadata": {},
     "output_type": "execute_result"
    }
   ],
   "source": [
    "tmp.shape"
   ]
  },
  {
   "cell_type": "code",
   "execution_count": 123,
   "metadata": {},
   "outputs": [
    {
     "data": {
      "text/plain": [
       "33808"
      ]
     },
     "execution_count": 123,
     "metadata": {},
     "output_type": "execute_result"
    }
   ],
   "source": [
    "tmp.dropna(subset=['gem_icon']).apply(lambda row: row.HLA_mhc_icon in row.HLA_cd8, axis=1).sum()"
   ]
  },
  {
   "cell_type": "code",
   "execution_count": null,
   "metadata": {},
   "outputs": [],
   "source": []
  },
  {
   "cell_type": "code",
   "execution_count": 136,
   "metadata": {},
   "outputs": [],
   "source": [
    "tmp.to_csv(OUT, index=False)"
   ]
  },
  {
   "cell_type": "code",
   "execution_count": 129,
   "metadata": {},
   "outputs": [
    {
     "data": {
      "text/plain": [
       "0          AAACCTGAGAAACCGC-1\n",
       "1         AAACCTGAGAAACCTA-30\n",
       "2         AAACCTGAGAACTCGG-39\n",
       "3          AAACCTGAGAAGGGTA-9\n",
       "4          AAACCTGAGAATCTCC-3\n",
       "                 ...         \n",
       "159687     TTTGTCATCTTAGAGC-2\n",
       "159688     TTTGTCATCTTGACGA-5\n",
       "159689    TTTGTCATCTTGAGAC-35\n",
       "159690    TTTGTCATCTTTAGGG-36\n",
       "159691     TTTGTCATCTTTAGGG-4\n",
       "Name: gem, Length: 181913, dtype: object"
      ]
     },
     "execution_count": 129,
     "metadata": {},
     "output_type": "execute_result"
    }
   ],
   "source": [
    "tmp.gem"
   ]
  },
  {
   "cell_type": "code",
   "execution_count": 132,
   "metadata": {},
   "outputs": [
    {
     "data": {
      "text/plain": [
       "0          AAACCTGAGACAAAGG-4\n",
       "1          AAACCTGAGACAAAGG-4\n",
       "2          AAACCTGAGACAAAGG-4\n",
       "3          AAACCTGAGACAAAGG-4\n",
       "4          AAACCTGAGACAAAGG-4\n",
       "                  ...        \n",
       "1225327    TTTGTCATCTTGGGTA-5\n",
       "1225328    TTTGTCATCTTTACGT-1\n",
       "1225329    TTTGTCATCTTTACGT-1\n",
       "1225330    TTTGTCATCTTTAGGG-5\n",
       "1225331    TTTGTCATCTTTAGGG-5\n",
       "Name: 0, Length: 1225332, dtype: object"
      ]
     },
     "execution_count": 132,
     "metadata": {},
     "output_type": "execute_result"
    }
   ],
   "source": [
    "contig.barcode.str.split('-s', expand=True)[0]"
   ]
  },
  {
   "cell_type": "code",
   "execution_count": 141,
   "metadata": {},
   "outputs": [
    {
     "name": "stderr",
     "output_type": "stream",
     "text": [
      "/home/people/herpov/.conda/envs/snakemake/lib/python3.7/site-packages/IPython/core/interactiveshell.py:3296: DtypeWarning: Columns (4,6,9,11,13,15,23,27,28) have mixed types.Specify dtype option on import or set low_memory=False.\n",
      "  exec(code_obj, self.user_global_ns, self.user_ns)\n"
     ]
    }
   ],
   "source": []
  },
  {
   "cell_type": "code",
   "execution_count": 142,
   "metadata": {},
   "outputs": [
    {
     "data": {
      "text/html": [
       "<div>\n",
       "<style scoped>\n",
       "    .dataframe tbody tr th:only-of-type {\n",
       "        vertical-align: middle;\n",
       "    }\n",
       "\n",
       "    .dataframe tbody tr th {\n",
       "        vertical-align: top;\n",
       "    }\n",
       "\n",
       "    .dataframe thead th {\n",
       "        text-align: right;\n",
       "    }\n",
       "</style>\n",
       "<table border=\"1\" class=\"dataframe\">\n",
       "  <thead>\n",
       "    <tr style=\"text-align: right;\">\n",
       "      <th></th>\n",
       "      <th>gem</th>\n",
       "      <th>clonotype</th>\n",
       "      <th>num_clonotype</th>\n",
       "      <th>ct</th>\n",
       "      <th>genes_TRA</th>\n",
       "      <th>genes_TRB</th>\n",
       "      <th>genes_lst_TRA</th>\n",
       "      <th>genes_lst_TRB</th>\n",
       "      <th>length_TRA</th>\n",
       "      <th>cdr3_TRA</th>\n",
       "      <th>...</th>\n",
       "      <th>v_gene_TRB</th>\n",
       "      <th>j_gene_TRB</th>\n",
       "      <th>tcr_category</th>\n",
       "      <th>no_filtration</th>\n",
       "      <th>exclude_single-chain_TCRs</th>\n",
       "      <th>exclude_ambiguous_and_single-chain_TCRs</th>\n",
       "      <th>exclude_ambiguous_TCRs</th>\n",
       "      <th>label</th>\n",
       "      <th>cell_flag</th>\n",
       "      <th>cell_high_confidence</th>\n",
       "    </tr>\n",
       "  </thead>\n",
       "  <tbody>\n",
       "    <tr>\n",
       "      <th>0</th>\n",
       "      <td>AAACCTGAGAAACCGC-1-s3</td>\n",
       "      <td>clonotype50994</td>\n",
       "      <td>50994</td>\n",
       "      <td>50994</td>\n",
       "      <td>TRAV12-3;TRAJ39;TRAC</td>\n",
       "      <td>TRBV29-1;None;TRBJ1-2;TRBC1</td>\n",
       "      <td>['TRAV12-3;TRAJ39;TRAC']</td>\n",
       "      <td>['TRBV29-1;None;TRBJ1-2;TRBC1']</td>\n",
       "      <td>631.0</td>\n",
       "      <td>CAIGPGNMLTF</td>\n",
       "      <td>...</td>\n",
       "      <td>TRBV29-1</td>\n",
       "      <td>TRBJ1-2</td>\n",
       "      <td>unique chains</td>\n",
       "      <td>True</td>\n",
       "      <td>True</td>\n",
       "      <td>True</td>\n",
       "      <td>True</td>\n",
       "      <td>1.0</td>\n",
       "      <td>True</td>\n",
       "      <td>True</td>\n",
       "    </tr>\n",
       "    <tr>\n",
       "      <th>1</th>\n",
       "      <td>AAACCTGAGAAACCTA-30-s2</td>\n",
       "      <td>clonotype30341</td>\n",
       "      <td>30341</td>\n",
       "      <td>685</td>\n",
       "      <td>TRAV13-1;TRAJ50;TRAC</td>\n",
       "      <td>TRBV12-3;None;TRBJ2-2;TRBC2</td>\n",
       "      <td>['TRAV13-1;TRAJ50;TRAC']</td>\n",
       "      <td>['TRBV12-3;None;TRBJ2-2;TRBC2']</td>\n",
       "      <td>503.0</td>\n",
       "      <td>CAASETSYDKVIF</td>\n",
       "      <td>...</td>\n",
       "      <td>TRBV12-3</td>\n",
       "      <td>TRBJ2-2</td>\n",
       "      <td>unique chains</td>\n",
       "      <td>True</td>\n",
       "      <td>True</td>\n",
       "      <td>True</td>\n",
       "      <td>True</td>\n",
       "      <td>1.0</td>\n",
       "      <td>True</td>\n",
       "      <td>True</td>\n",
       "    </tr>\n",
       "    <tr>\n",
       "      <th>2</th>\n",
       "      <td>AAACCTGAGAAACGCC-2-s4</td>\n",
       "      <td>NaN</td>\n",
       "      <td>0</td>\n",
       "      <td>69110</td>\n",
       "      <td>TRAV21;TRAJ50;TRAC</td>\n",
       "      <td>NaN</td>\n",
       "      <td>['TRAV21;TRAJ50;TRAC']</td>\n",
       "      <td>NaN</td>\n",
       "      <td>522.0</td>\n",
       "      <td>CAVDLMKTSYDKVIF</td>\n",
       "      <td>...</td>\n",
       "      <td>NaN</td>\n",
       "      <td>NaN</td>\n",
       "      <td>missing chain</td>\n",
       "      <td>True</td>\n",
       "      <td>False</td>\n",
       "      <td>False</td>\n",
       "      <td>False</td>\n",
       "      <td>1.0</td>\n",
       "      <td>False</td>\n",
       "      <td>False</td>\n",
       "    </tr>\n",
       "    <tr>\n",
       "      <th>3</th>\n",
       "      <td>AAACCTGAGAACTCGG-39-s2</td>\n",
       "      <td>clonotype30489</td>\n",
       "      <td>30489</td>\n",
       "      <td>30489</td>\n",
       "      <td>TRAV2;TRAJ24;TRAC</td>\n",
       "      <td>TRBV6-6;TRBD2;TRBJ2-3;TRBC2</td>\n",
       "      <td>['TRAV2;TRAJ24;TRAC']</td>\n",
       "      <td>['TRBV6-6;TRBD2;TRBJ2-3;TRBC2']</td>\n",
       "      <td>458.0</td>\n",
       "      <td>CAVEGPTDSWGKFQF</td>\n",
       "      <td>...</td>\n",
       "      <td>TRBV6-6</td>\n",
       "      <td>TRBJ2-3</td>\n",
       "      <td>unique chains</td>\n",
       "      <td>True</td>\n",
       "      <td>True</td>\n",
       "      <td>True</td>\n",
       "      <td>True</td>\n",
       "      <td>1.0</td>\n",
       "      <td>True</td>\n",
       "      <td>True</td>\n",
       "    </tr>\n",
       "    <tr>\n",
       "      <th>4</th>\n",
       "      <td>AAACCTGAGAACTGTA-1-s3</td>\n",
       "      <td>NaN</td>\n",
       "      <td>0</td>\n",
       "      <td>51037</td>\n",
       "      <td>TRAV14DV4;TRAJ22;TRAC</td>\n",
       "      <td>NaN</td>\n",
       "      <td>['TRAV14DV4;TRAJ22;TRAC']</td>\n",
       "      <td>NaN</td>\n",
       "      <td>551.0</td>\n",
       "      <td>CAMRRPISSGSARQLTF</td>\n",
       "      <td>...</td>\n",
       "      <td>NaN</td>\n",
       "      <td>NaN</td>\n",
       "      <td>missing chain</td>\n",
       "      <td>True</td>\n",
       "      <td>False</td>\n",
       "      <td>False</td>\n",
       "      <td>False</td>\n",
       "      <td>1.0</td>\n",
       "      <td>False</td>\n",
       "      <td>False</td>\n",
       "    </tr>\n",
       "    <tr>\n",
       "      <th>...</th>\n",
       "      <td>...</td>\n",
       "      <td>...</td>\n",
       "      <td>...</td>\n",
       "      <td>...</td>\n",
       "      <td>...</td>\n",
       "      <td>...</td>\n",
       "      <td>...</td>\n",
       "      <td>...</td>\n",
       "      <td>...</td>\n",
       "      <td>...</td>\n",
       "      <td>...</td>\n",
       "      <td>...</td>\n",
       "      <td>...</td>\n",
       "      <td>...</td>\n",
       "      <td>...</td>\n",
       "      <td>...</td>\n",
       "      <td>...</td>\n",
       "      <td>...</td>\n",
       "      <td>...</td>\n",
       "      <td>...</td>\n",
       "      <td>...</td>\n",
       "    </tr>\n",
       "    <tr>\n",
       "      <th>498249</th>\n",
       "      <td>TTTGTCATCTTCTGGC-9-s3</td>\n",
       "      <td>NaN</td>\n",
       "      <td>0</td>\n",
       "      <td>52182</td>\n",
       "      <td>NaN</td>\n",
       "      <td>TRBV12-4;TRBD2;TRBJ2-4;TRBC2</td>\n",
       "      <td>NaN</td>\n",
       "      <td>['TRBV12-4;TRBD2;TRBJ2-4;TRBC2']</td>\n",
       "      <td>NaN</td>\n",
       "      <td>NaN</td>\n",
       "      <td>...</td>\n",
       "      <td>TRBV12-4</td>\n",
       "      <td>TRBJ2-4</td>\n",
       "      <td>missing chain</td>\n",
       "      <td>True</td>\n",
       "      <td>False</td>\n",
       "      <td>False</td>\n",
       "      <td>False</td>\n",
       "      <td>1.0</td>\n",
       "      <td>False</td>\n",
       "      <td>False</td>\n",
       "    </tr>\n",
       "    <tr>\n",
       "      <th>498250</th>\n",
       "      <td>TTTGTCATCTTGCCGT-5-s4</td>\n",
       "      <td>NaN</td>\n",
       "      <td>0</td>\n",
       "      <td>70919</td>\n",
       "      <td>NaN</td>\n",
       "      <td>TRBV3-1;TRBD2;TRBJ2-3;TRBC2</td>\n",
       "      <td>NaN</td>\n",
       "      <td>['TRBV3-1;TRBD2;TRBJ2-3;TRBC2']</td>\n",
       "      <td>NaN</td>\n",
       "      <td>NaN</td>\n",
       "      <td>...</td>\n",
       "      <td>TRBV3-1</td>\n",
       "      <td>TRBJ2-3</td>\n",
       "      <td>missing chain</td>\n",
       "      <td>True</td>\n",
       "      <td>False</td>\n",
       "      <td>False</td>\n",
       "      <td>False</td>\n",
       "      <td>1.0</td>\n",
       "      <td>False</td>\n",
       "      <td>False</td>\n",
       "    </tr>\n",
       "    <tr>\n",
       "      <th>498251</th>\n",
       "      <td>TTTGTCATCTTGCCGT-7-s4</td>\n",
       "      <td>NaN</td>\n",
       "      <td>0</td>\n",
       "      <td>83732</td>\n",
       "      <td>NaN</td>\n",
       "      <td>TRBV19;None;TRBJ2-7;TRBC2</td>\n",
       "      <td>NaN</td>\n",
       "      <td>['TRBV19;None;TRBJ2-7;TRBC2']</td>\n",
       "      <td>NaN</td>\n",
       "      <td>NaN</td>\n",
       "      <td>...</td>\n",
       "      <td>TRBV19</td>\n",
       "      <td>TRBJ2-7</td>\n",
       "      <td>missing chain</td>\n",
       "      <td>True</td>\n",
       "      <td>False</td>\n",
       "      <td>False</td>\n",
       "      <td>False</td>\n",
       "      <td>1.0</td>\n",
       "      <td>False</td>\n",
       "      <td>False</td>\n",
       "    </tr>\n",
       "    <tr>\n",
       "      <th>498252</th>\n",
       "      <td>TTTGTCATCTTGGGTA-5-s4</td>\n",
       "      <td>NaN</td>\n",
       "      <td>0</td>\n",
       "      <td>120695</td>\n",
       "      <td>NaN</td>\n",
       "      <td>TRBV4-3;TRBD2;TRBJ2-1;TRBC2</td>\n",
       "      <td>NaN</td>\n",
       "      <td>['TRBV4-3;TRBD2;TRBJ2-1;TRBC2']</td>\n",
       "      <td>NaN</td>\n",
       "      <td>NaN</td>\n",
       "      <td>...</td>\n",
       "      <td>TRBV4-3</td>\n",
       "      <td>TRBJ2-1</td>\n",
       "      <td>missing chain</td>\n",
       "      <td>True</td>\n",
       "      <td>False</td>\n",
       "      <td>False</td>\n",
       "      <td>False</td>\n",
       "      <td>1.0</td>\n",
       "      <td>False</td>\n",
       "      <td>False</td>\n",
       "    </tr>\n",
       "    <tr>\n",
       "      <th>498253</th>\n",
       "      <td>TTTGTCATCTTTACGT-1-s4</td>\n",
       "      <td>NaN</td>\n",
       "      <td>0</td>\n",
       "      <td>104802</td>\n",
       "      <td>NaN</td>\n",
       "      <td>TRBV6-1;TRBD1;TRBJ2-3;TRBC2</td>\n",
       "      <td>NaN</td>\n",
       "      <td>['TRBV10-3;None;TRBJ2-1;TRBC2' 'TRBV6-1;TRBD1;...</td>\n",
       "      <td>NaN</td>\n",
       "      <td>NaN</td>\n",
       "      <td>...</td>\n",
       "      <td>TRBV6-1</td>\n",
       "      <td>TRBJ2-3</td>\n",
       "      <td>missing chain</td>\n",
       "      <td>True</td>\n",
       "      <td>False</td>\n",
       "      <td>False</td>\n",
       "      <td>False</td>\n",
       "      <td>1.0</td>\n",
       "      <td>False</td>\n",
       "      <td>False</td>\n",
       "    </tr>\n",
       "  </tbody>\n",
       "</table>\n",
       "<p>498254 rows × 39 columns</p>\n",
       "</div>"
      ],
      "text/plain": [
       "                           gem       clonotype  num_clonotype      ct  \\\n",
       "0        AAACCTGAGAAACCGC-1-s3  clonotype50994          50994   50994   \n",
       "1       AAACCTGAGAAACCTA-30-s2  clonotype30341          30341     685   \n",
       "2        AAACCTGAGAAACGCC-2-s4             NaN              0   69110   \n",
       "3       AAACCTGAGAACTCGG-39-s2  clonotype30489          30489   30489   \n",
       "4        AAACCTGAGAACTGTA-1-s3             NaN              0   51037   \n",
       "...                        ...             ...            ...     ...   \n",
       "498249   TTTGTCATCTTCTGGC-9-s3             NaN              0   52182   \n",
       "498250   TTTGTCATCTTGCCGT-5-s4             NaN              0   70919   \n",
       "498251   TTTGTCATCTTGCCGT-7-s4             NaN              0   83732   \n",
       "498252   TTTGTCATCTTGGGTA-5-s4             NaN              0  120695   \n",
       "498253   TTTGTCATCTTTACGT-1-s4             NaN              0  104802   \n",
       "\n",
       "                    genes_TRA                     genes_TRB  \\\n",
       "0        TRAV12-3;TRAJ39;TRAC   TRBV29-1;None;TRBJ1-2;TRBC1   \n",
       "1        TRAV13-1;TRAJ50;TRAC   TRBV12-3;None;TRBJ2-2;TRBC2   \n",
       "2          TRAV21;TRAJ50;TRAC                           NaN   \n",
       "3           TRAV2;TRAJ24;TRAC   TRBV6-6;TRBD2;TRBJ2-3;TRBC2   \n",
       "4       TRAV14DV4;TRAJ22;TRAC                           NaN   \n",
       "...                       ...                           ...   \n",
       "498249                    NaN  TRBV12-4;TRBD2;TRBJ2-4;TRBC2   \n",
       "498250                    NaN   TRBV3-1;TRBD2;TRBJ2-3;TRBC2   \n",
       "498251                    NaN     TRBV19;None;TRBJ2-7;TRBC2   \n",
       "498252                    NaN   TRBV4-3;TRBD2;TRBJ2-1;TRBC2   \n",
       "498253                    NaN   TRBV6-1;TRBD1;TRBJ2-3;TRBC2   \n",
       "\n",
       "                    genes_lst_TRA  \\\n",
       "0        ['TRAV12-3;TRAJ39;TRAC']   \n",
       "1        ['TRAV13-1;TRAJ50;TRAC']   \n",
       "2          ['TRAV21;TRAJ50;TRAC']   \n",
       "3           ['TRAV2;TRAJ24;TRAC']   \n",
       "4       ['TRAV14DV4;TRAJ22;TRAC']   \n",
       "...                           ...   \n",
       "498249                        NaN   \n",
       "498250                        NaN   \n",
       "498251                        NaN   \n",
       "498252                        NaN   \n",
       "498253                        NaN   \n",
       "\n",
       "                                            genes_lst_TRB  length_TRA  \\\n",
       "0                         ['TRBV29-1;None;TRBJ1-2;TRBC1']       631.0   \n",
       "1                         ['TRBV12-3;None;TRBJ2-2;TRBC2']       503.0   \n",
       "2                                                     NaN       522.0   \n",
       "3                         ['TRBV6-6;TRBD2;TRBJ2-3;TRBC2']       458.0   \n",
       "4                                                     NaN       551.0   \n",
       "...                                                   ...         ...   \n",
       "498249                   ['TRBV12-4;TRBD2;TRBJ2-4;TRBC2']         NaN   \n",
       "498250                    ['TRBV3-1;TRBD2;TRBJ2-3;TRBC2']         NaN   \n",
       "498251                      ['TRBV19;None;TRBJ2-7;TRBC2']         NaN   \n",
       "498252                    ['TRBV4-3;TRBD2;TRBJ2-1;TRBC2']         NaN   \n",
       "498253  ['TRBV10-3;None;TRBJ2-1;TRBC2' 'TRBV6-1;TRBD1;...         NaN   \n",
       "\n",
       "                 cdr3_TRA  ...  v_gene_TRB j_gene_TRB   tcr_category  \\\n",
       "0             CAIGPGNMLTF  ...    TRBV29-1    TRBJ1-2  unique chains   \n",
       "1           CAASETSYDKVIF  ...    TRBV12-3    TRBJ2-2  unique chains   \n",
       "2         CAVDLMKTSYDKVIF  ...         NaN        NaN  missing chain   \n",
       "3         CAVEGPTDSWGKFQF  ...     TRBV6-6    TRBJ2-3  unique chains   \n",
       "4       CAMRRPISSGSARQLTF  ...         NaN        NaN  missing chain   \n",
       "...                   ...  ...         ...        ...            ...   \n",
       "498249                NaN  ...    TRBV12-4    TRBJ2-4  missing chain   \n",
       "498250                NaN  ...     TRBV3-1    TRBJ2-3  missing chain   \n",
       "498251                NaN  ...      TRBV19    TRBJ2-7  missing chain   \n",
       "498252                NaN  ...     TRBV4-3    TRBJ2-1  missing chain   \n",
       "498253                NaN  ...     TRBV6-1    TRBJ2-3  missing chain   \n",
       "\n",
       "       no_filtration  exclude_single-chain_TCRs  \\\n",
       "0               True                       True   \n",
       "1               True                       True   \n",
       "2               True                      False   \n",
       "3               True                       True   \n",
       "4               True                      False   \n",
       "...              ...                        ...   \n",
       "498249          True                      False   \n",
       "498250          True                      False   \n",
       "498251          True                      False   \n",
       "498252          True                      False   \n",
       "498253          True                      False   \n",
       "\n",
       "       exclude_ambiguous_and_single-chain_TCRs  exclude_ambiguous_TCRs label  \\\n",
       "0                                         True                    True   1.0   \n",
       "1                                         True                    True   1.0   \n",
       "2                                        False                   False   1.0   \n",
       "3                                         True                    True   1.0   \n",
       "4                                        False                   False   1.0   \n",
       "...                                        ...                     ...   ...   \n",
       "498249                                   False                   False   1.0   \n",
       "498250                                   False                   False   1.0   \n",
       "498251                                   False                   False   1.0   \n",
       "498252                                   False                   False   1.0   \n",
       "498253                                   False                   False   1.0   \n",
       "\n",
       "        cell_flag cell_high_confidence  \n",
       "0            True                 True  \n",
       "1            True                 True  \n",
       "2           False                False  \n",
       "3            True                 True  \n",
       "4           False                False  \n",
       "...           ...                  ...  \n",
       "498249      False                False  \n",
       "498250      False                False  \n",
       "498251      False                False  \n",
       "498252      False                False  \n",
       "498253      False                False  \n",
       "\n",
       "[498254 rows x 39 columns]"
      ]
     },
     "execution_count": 142,
     "metadata": {},
     "output_type": "execute_result"
    }
   ],
   "source": [
    "tcr_clean"
   ]
  },
  {
   "cell_type": "code",
   "execution_count": 143,
   "metadata": {},
   "outputs": [
    {
     "data": {
      "text/plain": [
       "609037"
      ]
     },
     "execution_count": 143,
     "metadata": {},
     "output_type": "execute_result"
    }
   ],
   "source": [
    "contig.barcode.nunique()"
   ]
  },
  {
   "cell_type": "code",
   "execution_count": 148,
   "metadata": {},
   "outputs": [
    {
     "data": {
      "text/plain": [
       "9787"
      ]
     },
     "execution_count": 148,
     "metadata": {},
     "output_type": "execute_result"
    }
   ],
   "source": [
    "contig.cdr3.str.contains('*', regex=False).sum()"
   ]
  },
  {
   "cell_type": "code",
   "execution_count": 150,
   "metadata": {},
   "outputs": [
    {
     "data": {
      "text/plain": [
       "423673"
      ]
     },
     "execution_count": 150,
     "metadata": {},
     "output_type": "execute_result"
    }
   ],
   "source": [
    "contig[~(contig.barcode.str.split('-s', expand=True)[0].isin(tmp.gem))].barcode.nunique()"
   ]
  },
  {
   "cell_type": "code",
   "execution_count": null,
   "metadata": {},
   "outputs": [
    {
     "data": {
      "text/html": [
       "<div>\n",
       "<style scoped>\n",
       "    .dataframe tbody tr th:only-of-type {\n",
       "        vertical-align: middle;\n",
       "    }\n",
       "\n",
       "    .dataframe tbody tr th {\n",
       "        vertical-align: top;\n",
       "    }\n",
       "\n",
       "    .dataframe thead th {\n",
       "        text-align: right;\n",
       "    }\n",
       "</style>\n",
       "<table border=\"1\" class=\"dataframe\">\n",
       "  <thead>\n",
       "    <tr style=\"text-align: right;\">\n",
       "      <th></th>\n",
       "      <th>Cell barcode</th>\n",
       "      <th>Donor</th>\n",
       "      <th>pMHC</th>\n",
       "      <th>beta_v_gene</th>\n",
       "      <th>beta_j_gene</th>\n",
       "      <th>beta_cdr3</th>\n",
       "      <th>alpha_v_gene</th>\n",
       "      <th>alpha_j_gene</th>\n",
       "      <th>alpha_cdr3</th>\n",
       "      <th>UMI</th>\n",
       "      <th>corrected dex. Sig.</th>\n",
       "      <th>normalized dex. Sig.</th>\n",
       "      <th>gem</th>\n",
       "    </tr>\n",
       "  </thead>\n",
       "  <tbody>\n",
       "    <tr>\n",
       "      <th>58</th>\n",
       "      <td>D1.AAAGCAAAGATTACCC-10</td>\n",
       "      <td>Donor 1</td>\n",
       "      <td>A*1101_IVTDFSVIK_EBNA 3B/EBV</td>\n",
       "      <td>TRBV11-2</td>\n",
       "      <td>TRBJ1-2</td>\n",
       "      <td>CASSWGGGSHYGYTF</td>\n",
       "      <td>TRAV35</td>\n",
       "      <td>TRAJ49</td>\n",
       "      <td>CAGHTGNQFYF</td>\n",
       "      <td>103</td>\n",
       "      <td>2.971037</td>\n",
       "      <td>2.992117</td>\n",
       "      <td>AAAGCAAAGATTACCC-10</td>\n",
       "    </tr>\n",
       "    <tr>\n",
       "      <th>84</th>\n",
       "      <td>D1.AAAGTAGGTGGCGAAT-38</td>\n",
       "      <td>Donor 1</td>\n",
       "      <td>A*0201_ELAGIGILTV_MART-1/Cancer/</td>\n",
       "      <td>TRBV19</td>\n",
       "      <td>TRBJ2-2</td>\n",
       "      <td>CASSLAGTAGELFF</td>\n",
       "      <td>TRAV12-2</td>\n",
       "      <td>TRAJ45</td>\n",
       "      <td>CAVGGGADGLTF</td>\n",
       "      <td>10</td>\n",
       "      <td>1.903789</td>\n",
       "      <td>14.526076</td>\n",
       "      <td>AAAGTAGGTGGCGAAT-38</td>\n",
       "    </tr>\n",
       "    <tr>\n",
       "      <th>90</th>\n",
       "      <td>D1.AAATGCCGTGAGGGAG-29</td>\n",
       "      <td>Donor 1</td>\n",
       "      <td>A*1101_IVTDFSVIK_EBNA 3B/EBV</td>\n",
       "      <td>TRBV5-1</td>\n",
       "      <td>TRBJ1-2</td>\n",
       "      <td>CASSLGQGVFYTF</td>\n",
       "      <td>TRAV35</td>\n",
       "      <td>TRAJ43</td>\n",
       "      <td>CAGLYNNNDMRF</td>\n",
       "      <td>359</td>\n",
       "      <td>2.463603</td>\n",
       "      <td>2.992117</td>\n",
       "      <td>AAATGCCGTGAGGGAG-29</td>\n",
       "    </tr>\n",
       "    <tr>\n",
       "      <th>139</th>\n",
       "      <td>D1.AACCGCGGTACGAAAT-12</td>\n",
       "      <td>Donor 1</td>\n",
       "      <td>A*0201_GILGFVFTL_Flu MP/Influenza</td>\n",
       "      <td>TRBV9</td>\n",
       "      <td>TRBJ2-3</td>\n",
       "      <td>CASSVDGDTSTDTQYF</td>\n",
       "      <td>TRAV3</td>\n",
       "      <td>TRAJ34</td>\n",
       "      <td>CAVRDPHQGTDKLIF</td>\n",
       "      <td>52</td>\n",
       "      <td>3.550150</td>\n",
       "      <td>4.085029</td>\n",
       "      <td>AACCGCGGTACGAAAT-12</td>\n",
       "    </tr>\n",
       "    <tr>\n",
       "      <th>141</th>\n",
       "      <td>D1.AACCGCGGTCATTAGC-15</td>\n",
       "      <td>Donor 1</td>\n",
       "      <td>A*1101_IVTDFSVIK_EBNA 3B/EBV</td>\n",
       "      <td>TRBV11-2</td>\n",
       "      <td>TRBJ1-2</td>\n",
       "      <td>CASSWGGGSHYGYTF</td>\n",
       "      <td>TRAV35</td>\n",
       "      <td>TRAJ49</td>\n",
       "      <td>CAGHTGNQFYF</td>\n",
       "      <td>231</td>\n",
       "      <td>3.526226</td>\n",
       "      <td>2.992117</td>\n",
       "      <td>AACCGCGGTCATTAGC-15</td>\n",
       "    </tr>\n",
       "    <tr>\n",
       "      <th>...</th>\n",
       "      <td>...</td>\n",
       "      <td>...</td>\n",
       "      <td>...</td>\n",
       "      <td>...</td>\n",
       "      <td>...</td>\n",
       "      <td>...</td>\n",
       "      <td>...</td>\n",
       "      <td>...</td>\n",
       "      <td>...</td>\n",
       "      <td>...</td>\n",
       "      <td>...</td>\n",
       "      <td>...</td>\n",
       "      <td>...</td>\n",
       "    </tr>\n",
       "    <tr>\n",
       "      <th>53056</th>\n",
       "      <td>DV4.TTTGGTTTCCCATTAT-1</td>\n",
       "      <td>Donor V</td>\n",
       "      <td>A*0201_NLVPMVATV_pp65/CMV</td>\n",
       "      <td>TRBV12.4*01</td>\n",
       "      <td>TRBJ2.1*01</td>\n",
       "      <td>CASSMVNEQFF</td>\n",
       "      <td>TRAV3*01</td>\n",
       "      <td>TRAJ43*01</td>\n",
       "      <td>CAVRDTGDMRF</td>\n",
       "      <td>262</td>\n",
       "      <td>5.308616</td>\n",
       "      <td>1.348898</td>\n",
       "      <td>TTTGGTTTCCCATTAT-1</td>\n",
       "    </tr>\n",
       "    <tr>\n",
       "      <th>53058</th>\n",
       "      <td>DV4.TTTGTCACACATCTTT-1</td>\n",
       "      <td>Donor V</td>\n",
       "      <td>A*0201_NLVPMVATV_pp65/CMV</td>\n",
       "      <td>TRBV6.5*01</td>\n",
       "      <td>TRBJ1.2*01</td>\n",
       "      <td>CASSYVTGTGSYGYTF</td>\n",
       "      <td>TRAV23/DV6*01</td>\n",
       "      <td>TRAJ40*01</td>\n",
       "      <td>CAASPDSGTYKYIF</td>\n",
       "      <td>231</td>\n",
       "      <td>4.188268</td>\n",
       "      <td>1.348898</td>\n",
       "      <td>TTTGTCACACATCTTT-1</td>\n",
       "    </tr>\n",
       "    <tr>\n",
       "      <th>53059</th>\n",
       "      <td>DV4.TTTGTCACACCAGATT-1</td>\n",
       "      <td>Donor V</td>\n",
       "      <td>B*3501_IPSINVHHY_pp65/CMV</td>\n",
       "      <td>TRBV2*01</td>\n",
       "      <td>TRBJ2.2*01</td>\n",
       "      <td>CATGSQGLGTGELFF</td>\n",
       "      <td>TRAV41*01</td>\n",
       "      <td>TRAJ35*01</td>\n",
       "      <td>CAVLGGFGNVLHC</td>\n",
       "      <td>663</td>\n",
       "      <td>6.248285</td>\n",
       "      <td>1.125262</td>\n",
       "      <td>TTTGTCACACCAGATT-1</td>\n",
       "    </tr>\n",
       "    <tr>\n",
       "      <th>53060</th>\n",
       "      <td>DV4.TTTGTCAGTTTGTTTC-1</td>\n",
       "      <td>Donor V</td>\n",
       "      <td>B*3501_IPSINVHHY_pp65/CMV</td>\n",
       "      <td>TRBV2*01</td>\n",
       "      <td>TRBJ1.3*01</td>\n",
       "      <td>CASTPEGSGSGNTIYF</td>\n",
       "      <td>TRAV41*01</td>\n",
       "      <td>TRAJ35*01</td>\n",
       "      <td>CAVLGGFGNVLHC</td>\n",
       "      <td>325</td>\n",
       "      <td>5.749620</td>\n",
       "      <td>1.125262</td>\n",
       "      <td>TTTGTCAGTTTGTTTC-1</td>\n",
       "    </tr>\n",
       "    <tr>\n",
       "      <th>53061</th>\n",
       "      <td>DV4.TTTGTCATCCTTGCCA-1</td>\n",
       "      <td>Donor V</td>\n",
       "      <td>A*0201_NLVPMVATV_pp65/CMV</td>\n",
       "      <td>TRBV27*01</td>\n",
       "      <td>TRBJ2.1*01</td>\n",
       "      <td>CASSPFGAGPYNEQFF</td>\n",
       "      <td>TRAV24*01</td>\n",
       "      <td>TRAJ39*01</td>\n",
       "      <td>CAFNAGNMLTF</td>\n",
       "      <td>340</td>\n",
       "      <td>5.409579</td>\n",
       "      <td>1.348898</td>\n",
       "      <td>TTTGTCATCCTTGCCA-1</td>\n",
       "    </tr>\n",
       "  </tbody>\n",
       "</table>\n",
       "<p>12082 rows × 13 columns</p>\n",
       "</div>"
      ],
      "text/plain": [
       "                 Cell barcode    Donor                               pMHC  \\\n",
       "58     D1.AAAGCAAAGATTACCC-10  Donor 1       A*1101_IVTDFSVIK_EBNA 3B/EBV   \n",
       "84     D1.AAAGTAGGTGGCGAAT-38  Donor 1   A*0201_ELAGIGILTV_MART-1/Cancer/   \n",
       "90     D1.AAATGCCGTGAGGGAG-29  Donor 1       A*1101_IVTDFSVIK_EBNA 3B/EBV   \n",
       "139    D1.AACCGCGGTACGAAAT-12  Donor 1  A*0201_GILGFVFTL_Flu MP/Influenza   \n",
       "141    D1.AACCGCGGTCATTAGC-15  Donor 1       A*1101_IVTDFSVIK_EBNA 3B/EBV   \n",
       "...                       ...      ...                                ...   \n",
       "53056  DV4.TTTGGTTTCCCATTAT-1  Donor V          A*0201_NLVPMVATV_pp65/CMV   \n",
       "53058  DV4.TTTGTCACACATCTTT-1  Donor V          A*0201_NLVPMVATV_pp65/CMV   \n",
       "53059  DV4.TTTGTCACACCAGATT-1  Donor V          B*3501_IPSINVHHY_pp65/CMV   \n",
       "53060  DV4.TTTGTCAGTTTGTTTC-1  Donor V          B*3501_IPSINVHHY_pp65/CMV   \n",
       "53061  DV4.TTTGTCATCCTTGCCA-1  Donor V          A*0201_NLVPMVATV_pp65/CMV   \n",
       "\n",
       "       beta_v_gene beta_j_gene         beta_cdr3   alpha_v_gene alpha_j_gene  \\\n",
       "58        TRBV11-2     TRBJ1-2   CASSWGGGSHYGYTF         TRAV35       TRAJ49   \n",
       "84          TRBV19     TRBJ2-2    CASSLAGTAGELFF       TRAV12-2       TRAJ45   \n",
       "90         TRBV5-1     TRBJ1-2     CASSLGQGVFYTF         TRAV35       TRAJ43   \n",
       "139          TRBV9     TRBJ2-3  CASSVDGDTSTDTQYF          TRAV3       TRAJ34   \n",
       "141       TRBV11-2     TRBJ1-2   CASSWGGGSHYGYTF         TRAV35       TRAJ49   \n",
       "...            ...         ...               ...            ...          ...   \n",
       "53056  TRBV12.4*01  TRBJ2.1*01       CASSMVNEQFF       TRAV3*01    TRAJ43*01   \n",
       "53058   TRBV6.5*01  TRBJ1.2*01  CASSYVTGTGSYGYTF  TRAV23/DV6*01    TRAJ40*01   \n",
       "53059     TRBV2*01  TRBJ2.2*01   CATGSQGLGTGELFF      TRAV41*01    TRAJ35*01   \n",
       "53060     TRBV2*01  TRBJ1.3*01  CASTPEGSGSGNTIYF      TRAV41*01    TRAJ35*01   \n",
       "53061    TRBV27*01  TRBJ2.1*01  CASSPFGAGPYNEQFF      TRAV24*01    TRAJ39*01   \n",
       "\n",
       "            alpha_cdr3  UMI  corrected dex. Sig.  normalized dex. Sig.  \\\n",
       "58         CAGHTGNQFYF  103             2.971037              2.992117   \n",
       "84        CAVGGGADGLTF   10             1.903789             14.526076   \n",
       "90        CAGLYNNNDMRF  359             2.463603              2.992117   \n",
       "139    CAVRDPHQGTDKLIF   52             3.550150              4.085029   \n",
       "141        CAGHTGNQFYF  231             3.526226              2.992117   \n",
       "...                ...  ...                  ...                   ...   \n",
       "53056      CAVRDTGDMRF  262             5.308616              1.348898   \n",
       "53058   CAASPDSGTYKYIF  231             4.188268              1.348898   \n",
       "53059    CAVLGGFGNVLHC  663             6.248285              1.125262   \n",
       "53060    CAVLGGFGNVLHC  325             5.749620              1.125262   \n",
       "53061      CAFNAGNMLTF  340             5.409579              1.348898   \n",
       "\n",
       "                       gem  \n",
       "58     AAAGCAAAGATTACCC-10  \n",
       "84     AAAGTAGGTGGCGAAT-38  \n",
       "90     AAATGCCGTGAGGGAG-29  \n",
       "139    AACCGCGGTACGAAAT-12  \n",
       "141    AACCGCGGTCATTAGC-15  \n",
       "...                    ...  \n",
       "53056   TTTGGTTTCCCATTAT-1  \n",
       "53058   TTTGTCACACATCTTT-1  \n",
       "53059   TTTGTCACACCAGATT-1  \n",
       "53060   TTTGTCAGTTTGTTTC-1  \n",
       "53061   TTTGTCATCCTTGCCA-1  \n",
       "\n",
       "[12082 rows x 13 columns]"
      ]
     },
     "execution_count": 68,
     "metadata": {},
     "output_type": "execute_result"
    }
   ],
   "source": [
    "icon[~icon.gem.str.split('-',expand=True)[0].isin(df_gem_split)]"
   ]
  },
  {
   "cell_type": "code",
   "execution_count": null,
   "metadata": {},
   "outputs": [
    {
     "data": {
      "text/html": [
       "<div>\n",
       "<style scoped>\n",
       "    .dataframe tbody tr th:only-of-type {\n",
       "        vertical-align: middle;\n",
       "    }\n",
       "\n",
       "    .dataframe tbody tr th {\n",
       "        vertical-align: top;\n",
       "    }\n",
       "\n",
       "    .dataframe thead th {\n",
       "        text-align: right;\n",
       "    }\n",
       "</style>\n",
       "<table border=\"1\" class=\"dataframe\">\n",
       "  <thead>\n",
       "    <tr style=\"text-align: right;\">\n",
       "      <th></th>\n",
       "      <th>Cell barcode</th>\n",
       "      <th>Donor</th>\n",
       "      <th>pMHC</th>\n",
       "      <th>beta_v_gene</th>\n",
       "      <th>beta_j_gene</th>\n",
       "      <th>beta_cdr3</th>\n",
       "      <th>alpha_v_gene</th>\n",
       "      <th>alpha_j_gene</th>\n",
       "      <th>alpha_cdr3</th>\n",
       "      <th>UMI</th>\n",
       "      <th>corrected dex. Sig.</th>\n",
       "      <th>normalized dex. Sig.</th>\n",
       "      <th>gem</th>\n",
       "      <th>gem_spl</th>\n",
       "      <th>sample_id</th>\n",
       "    </tr>\n",
       "  </thead>\n",
       "  <tbody>\n",
       "    <tr>\n",
       "      <th>19</th>\n",
       "      <td>D1.AAACCTGTCTGCGGCA-1</td>\n",
       "      <td>Donor 1</td>\n",
       "      <td>A*0201_GILGFVFTL_Flu MP/Influenza</td>\n",
       "      <td>TRBV19</td>\n",
       "      <td>TRBJ2-2</td>\n",
       "      <td>CASSSRSTGELFF</td>\n",
       "      <td>TRAV25</td>\n",
       "      <td>TRAJ42</td>\n",
       "      <td>CAGNYGGSQGNLIF</td>\n",
       "      <td>52</td>\n",
       "      <td>1.267911</td>\n",
       "      <td>4.085029</td>\n",
       "      <td>AAACCTGTCTGCGGCA-1</td>\n",
       "      <td>AAACCTGTCTGCGGCA</td>\n",
       "      <td>s1</td>\n",
       "    </tr>\n",
       "  </tbody>\n",
       "</table>\n",
       "</div>"
      ],
      "text/plain": [
       "             Cell barcode    Donor                               pMHC  \\\n",
       "19  D1.AAACCTGTCTGCGGCA-1  Donor 1  A*0201_GILGFVFTL_Flu MP/Influenza   \n",
       "\n",
       "   beta_v_gene beta_j_gene      beta_cdr3 alpha_v_gene alpha_j_gene  \\\n",
       "19      TRBV19     TRBJ2-2  CASSSRSTGELFF       TRAV25       TRAJ42   \n",
       "\n",
       "        alpha_cdr3  UMI  corrected dex. Sig.  normalized dex. Sig.  \\\n",
       "19  CAGNYGGSQGNLIF   52             1.267911              4.085029   \n",
       "\n",
       "                   gem           gem_spl sample_id  \n",
       "19  AAACCTGTCTGCGGCA-1  AAACCTGTCTGCGGCA        s1  "
      ]
     },
     "execution_count": 270,
     "metadata": {},
     "output_type": "execute_result"
    }
   ],
   "source": [
    "icon[icon['Cell barcode'].str.contains('AAACCTGTCTGCGGCA')]"
   ]
  },
  {
   "cell_type": "code",
   "execution_count": 271,
   "metadata": {},
   "outputs": [
    {
     "data": {
      "text/html": [
       "<div>\n",
       "<style scoped>\n",
       "    .dataframe tbody tr th:only-of-type {\n",
       "        vertical-align: middle;\n",
       "    }\n",
       "\n",
       "    .dataframe tbody tr th {\n",
       "        vertical-align: top;\n",
       "    }\n",
       "\n",
       "    .dataframe thead th {\n",
       "        text-align: right;\n",
       "    }\n",
       "</style>\n",
       "<table border=\"1\" class=\"dataframe\">\n",
       "  <thead>\n",
       "    <tr style=\"text-align: right;\">\n",
       "      <th></th>\n",
       "      <th>barcode</th>\n",
       "      <th>is_cell</th>\n",
       "      <th>contig_id</th>\n",
       "      <th>high_confidence</th>\n",
       "      <th>length</th>\n",
       "      <th>chain</th>\n",
       "      <th>v_gene</th>\n",
       "      <th>d_gene</th>\n",
       "      <th>j_gene</th>\n",
       "      <th>c_gene</th>\n",
       "      <th>full_length</th>\n",
       "      <th>productive</th>\n",
       "      <th>cdr3</th>\n",
       "      <th>cdr3_nt</th>\n",
       "      <th>reads</th>\n",
       "      <th>umis</th>\n",
       "      <th>raw_clonotype_id</th>\n",
       "      <th>raw_consensus_id</th>\n",
       "    </tr>\n",
       "  </thead>\n",
       "  <tbody>\n",
       "    <tr>\n",
       "      <th>317</th>\n",
       "      <td>AAACCTGTCTGCGGCA-5</td>\n",
       "      <td>True</td>\n",
       "      <td>AAACCTGTCTGCGGCA-5_contig_1</td>\n",
       "      <td>True</td>\n",
       "      <td>855</td>\n",
       "      <td>TRB</td>\n",
       "      <td>TRBV19</td>\n",
       "      <td>TRBD1</td>\n",
       "      <td>TRBJ2-2</td>\n",
       "      <td>TRBC2</td>\n",
       "      <td>True</td>\n",
       "      <td>True</td>\n",
       "      <td>CASSSRSTGELFF</td>\n",
       "      <td>TGTGCCAGTAGTTCGCGGTCAACCGGGGAGCTGTTTTTT</td>\n",
       "      <td>15465</td>\n",
       "      <td>12</td>\n",
       "      <td>clonotype1366</td>\n",
       "      <td>clonotype1366_consensus_1</td>\n",
       "    </tr>\n",
       "    <tr>\n",
       "      <th>318</th>\n",
       "      <td>AAACCTGTCTGCGGCA-5</td>\n",
       "      <td>True</td>\n",
       "      <td>AAACCTGTCTGCGGCA-5_contig_2</td>\n",
       "      <td>False</td>\n",
       "      <td>882</td>\n",
       "      <td>TRB</td>\n",
       "      <td>TRBV19</td>\n",
       "      <td>TRBD1</td>\n",
       "      <td>TRBJ2-2</td>\n",
       "      <td>TRBC2</td>\n",
       "      <td>True</td>\n",
       "      <td>True</td>\n",
       "      <td>CASSSRSTGELFF</td>\n",
       "      <td>TGTGCCAGTAGTTCGCGGTCAACCGGGGAGCTGTTTTTT</td>\n",
       "      <td>1489</td>\n",
       "      <td>1</td>\n",
       "      <td>clonotype1366</td>\n",
       "      <td>None</td>\n",
       "    </tr>\n",
       "    <tr>\n",
       "      <th>319</th>\n",
       "      <td>AAACCTGTCTGCGGCA-5</td>\n",
       "      <td>True</td>\n",
       "      <td>AAACCTGTCTGCGGCA-5_contig_3</td>\n",
       "      <td>False</td>\n",
       "      <td>694</td>\n",
       "      <td>TRB</td>\n",
       "      <td>TRBV6-3</td>\n",
       "      <td>TRBD1</td>\n",
       "      <td>TRBJ2-7</td>\n",
       "      <td>TRBC2</td>\n",
       "      <td>True</td>\n",
       "      <td>True</td>\n",
       "      <td>CASSSGQGTNYEQYF</td>\n",
       "      <td>TGTGCCAGCAGTTCTGGACAGGGGACAAACTACGAGCAGTACTTC</td>\n",
       "      <td>3264</td>\n",
       "      <td>1</td>\n",
       "      <td>clonotype1366</td>\n",
       "      <td>None</td>\n",
       "    </tr>\n",
       "    <tr>\n",
       "      <th>320</th>\n",
       "      <td>AAACCTGTCTGCGGCA-5</td>\n",
       "      <td>True</td>\n",
       "      <td>AAACCTGTCTGCGGCA-5_contig_4</td>\n",
       "      <td>False</td>\n",
       "      <td>414</td>\n",
       "      <td>TRB</td>\n",
       "      <td>None</td>\n",
       "      <td>None</td>\n",
       "      <td>TRBJ2-3</td>\n",
       "      <td>TRBC2</td>\n",
       "      <td>False</td>\n",
       "      <td>None</td>\n",
       "      <td>None</td>\n",
       "      <td>None</td>\n",
       "      <td>2312</td>\n",
       "      <td>1</td>\n",
       "      <td>clonotype1366</td>\n",
       "      <td>None</td>\n",
       "    </tr>\n",
       "    <tr>\n",
       "      <th>321</th>\n",
       "      <td>AAACCTGTCTGCGGCA-5</td>\n",
       "      <td>True</td>\n",
       "      <td>AAACCTGTCTGCGGCA-5_contig_5</td>\n",
       "      <td>False</td>\n",
       "      <td>505</td>\n",
       "      <td>TRB</td>\n",
       "      <td>None</td>\n",
       "      <td>None</td>\n",
       "      <td>TRBJ2-1</td>\n",
       "      <td>TRBC2</td>\n",
       "      <td>False</td>\n",
       "      <td>None</td>\n",
       "      <td>None</td>\n",
       "      <td>None</td>\n",
       "      <td>1627</td>\n",
       "      <td>1</td>\n",
       "      <td>clonotype1366</td>\n",
       "      <td>None</td>\n",
       "    </tr>\n",
       "    <tr>\n",
       "      <th>322</th>\n",
       "      <td>AAACCTGTCTGCGGCA-5</td>\n",
       "      <td>True</td>\n",
       "      <td>AAACCTGTCTGCGGCA-5_contig_6</td>\n",
       "      <td>False</td>\n",
       "      <td>693</td>\n",
       "      <td>TRB</td>\n",
       "      <td>TRBV3-1</td>\n",
       "      <td>TRBD1</td>\n",
       "      <td>TRBJ1-2</td>\n",
       "      <td>TRBC1</td>\n",
       "      <td>True</td>\n",
       "      <td>False</td>\n",
       "      <td>CASSHPSDRDYGYTF</td>\n",
       "      <td>TGTGCCAGCAGCCATCCTTCTGACAGGGACTATGGCTACACCTTC</td>\n",
       "      <td>2303</td>\n",
       "      <td>2</td>\n",
       "      <td>clonotype1366</td>\n",
       "      <td>None</td>\n",
       "    </tr>\n",
       "    <tr>\n",
       "      <th>323</th>\n",
       "      <td>AAACCTGTCTGCGGCA-5</td>\n",
       "      <td>True</td>\n",
       "      <td>AAACCTGTCTGCGGCA-5_contig_7</td>\n",
       "      <td>True</td>\n",
       "      <td>600</td>\n",
       "      <td>TRA</td>\n",
       "      <td>TRAV25</td>\n",
       "      <td>None</td>\n",
       "      <td>TRAJ42</td>\n",
       "      <td>TRAC</td>\n",
       "      <td>True</td>\n",
       "      <td>True</td>\n",
       "      <td>CAGNYGGSQGNLIF</td>\n",
       "      <td>TGTGCAGGGAATTATGGAGGAAGCCAAGGAAATCTCATCTTT</td>\n",
       "      <td>6928</td>\n",
       "      <td>3</td>\n",
       "      <td>clonotype1366</td>\n",
       "      <td>clonotype1366_consensus_2</td>\n",
       "    </tr>\n",
       "    <tr>\n",
       "      <th>324</th>\n",
       "      <td>AAACCTGTCTGCGGCA-5</td>\n",
       "      <td>True</td>\n",
       "      <td>AAACCTGTCTGCGGCA-5_contig_8</td>\n",
       "      <td>False</td>\n",
       "      <td>573</td>\n",
       "      <td>TRA</td>\n",
       "      <td>TRAV36DV7</td>\n",
       "      <td>None</td>\n",
       "      <td>TRAJ13</td>\n",
       "      <td>TRAC</td>\n",
       "      <td>True</td>\n",
       "      <td>None</td>\n",
       "      <td>None</td>\n",
       "      <td>None</td>\n",
       "      <td>2593</td>\n",
       "      <td>1</td>\n",
       "      <td>clonotype1366</td>\n",
       "      <td>None</td>\n",
       "    </tr>\n",
       "  </tbody>\n",
       "</table>\n",
       "</div>"
      ],
      "text/plain": [
       "                barcode  is_cell                    contig_id  \\\n",
       "317  AAACCTGTCTGCGGCA-5     True  AAACCTGTCTGCGGCA-5_contig_1   \n",
       "318  AAACCTGTCTGCGGCA-5     True  AAACCTGTCTGCGGCA-5_contig_2   \n",
       "319  AAACCTGTCTGCGGCA-5     True  AAACCTGTCTGCGGCA-5_contig_3   \n",
       "320  AAACCTGTCTGCGGCA-5     True  AAACCTGTCTGCGGCA-5_contig_4   \n",
       "321  AAACCTGTCTGCGGCA-5     True  AAACCTGTCTGCGGCA-5_contig_5   \n",
       "322  AAACCTGTCTGCGGCA-5     True  AAACCTGTCTGCGGCA-5_contig_6   \n",
       "323  AAACCTGTCTGCGGCA-5     True  AAACCTGTCTGCGGCA-5_contig_7   \n",
       "324  AAACCTGTCTGCGGCA-5     True  AAACCTGTCTGCGGCA-5_contig_8   \n",
       "\n",
       "     high_confidence  length chain     v_gene d_gene   j_gene c_gene  \\\n",
       "317             True     855   TRB     TRBV19  TRBD1  TRBJ2-2  TRBC2   \n",
       "318            False     882   TRB     TRBV19  TRBD1  TRBJ2-2  TRBC2   \n",
       "319            False     694   TRB    TRBV6-3  TRBD1  TRBJ2-7  TRBC2   \n",
       "320            False     414   TRB       None   None  TRBJ2-3  TRBC2   \n",
       "321            False     505   TRB       None   None  TRBJ2-1  TRBC2   \n",
       "322            False     693   TRB    TRBV3-1  TRBD1  TRBJ1-2  TRBC1   \n",
       "323             True     600   TRA     TRAV25   None   TRAJ42   TRAC   \n",
       "324            False     573   TRA  TRAV36DV7   None   TRAJ13   TRAC   \n",
       "\n",
       "     full_length productive             cdr3  \\\n",
       "317         True       True    CASSSRSTGELFF   \n",
       "318         True       True    CASSSRSTGELFF   \n",
       "319         True       True  CASSSGQGTNYEQYF   \n",
       "320        False       None             None   \n",
       "321        False       None             None   \n",
       "322         True      False  CASSHPSDRDYGYTF   \n",
       "323         True       True   CAGNYGGSQGNLIF   \n",
       "324         True       None             None   \n",
       "\n",
       "                                           cdr3_nt  reads  umis  \\\n",
       "317        TGTGCCAGTAGTTCGCGGTCAACCGGGGAGCTGTTTTTT  15465    12   \n",
       "318        TGTGCCAGTAGTTCGCGGTCAACCGGGGAGCTGTTTTTT   1489     1   \n",
       "319  TGTGCCAGCAGTTCTGGACAGGGGACAAACTACGAGCAGTACTTC   3264     1   \n",
       "320                                           None   2312     1   \n",
       "321                                           None   1627     1   \n",
       "322  TGTGCCAGCAGCCATCCTTCTGACAGGGACTATGGCTACACCTTC   2303     2   \n",
       "323     TGTGCAGGGAATTATGGAGGAAGCCAAGGAAATCTCATCTTT   6928     3   \n",
       "324                                           None   2593     1   \n",
       "\n",
       "    raw_clonotype_id           raw_consensus_id  \n",
       "317    clonotype1366  clonotype1366_consensus_1  \n",
       "318    clonotype1366                       None  \n",
       "319    clonotype1366                       None  \n",
       "320    clonotype1366                       None  \n",
       "321    clonotype1366                       None  \n",
       "322    clonotype1366                       None  \n",
       "323    clonotype1366  clonotype1366_consensus_2  \n",
       "324    clonotype1366                       None  "
      ]
     },
     "execution_count": 271,
     "metadata": {},
     "output_type": "execute_result"
    }
   ],
   "source": [
    "contig[contig.barcode.str.contains('AAACCTGTCTGCGGCA')]"
   ]
  },
  {
   "cell_type": "code",
   "execution_count": 272,
   "metadata": {},
   "outputs": [
    {
     "data": {
      "text/html": [
       "<div>\n",
       "<style scoped>\n",
       "    .dataframe tbody tr th:only-of-type {\n",
       "        vertical-align: middle;\n",
       "    }\n",
       "\n",
       "    .dataframe tbody tr th {\n",
       "        vertical-align: top;\n",
       "    }\n",
       "\n",
       "    .dataframe thead th {\n",
       "        text-align: right;\n",
       "    }\n",
       "</style>\n",
       "<table border=\"1\" class=\"dataframe\">\n",
       "  <thead>\n",
       "    <tr style=\"text-align: right;\">\n",
       "      <th></th>\n",
       "      <th>gem</th>\n",
       "      <th>clonotype</th>\n",
       "      <th>num_clonotype</th>\n",
       "      <th>ct</th>\n",
       "      <th>genes_TRA</th>\n",
       "      <th>genes_TRB</th>\n",
       "      <th>genes_lst_TRA</th>\n",
       "      <th>genes_lst_TRB</th>\n",
       "      <th>length_TRA</th>\n",
       "      <th>cdr3_TRA</th>\n",
       "      <th>...</th>\n",
       "      <th>ct_pep</th>\n",
       "      <th>sample_hla</th>\n",
       "      <th>pep_match</th>\n",
       "      <th>hla_match</th>\n",
       "      <th>ct_match</th>\n",
       "      <th>valid_ct</th>\n",
       "      <th>train_label</th>\n",
       "      <th>test_label</th>\n",
       "      <th>gem_spl</th>\n",
       "      <th>donor</th>\n",
       "    </tr>\n",
       "  </thead>\n",
       "  <tbody>\n",
       "    <tr>\n",
       "      <th>306</th>\n",
       "      <td>AAACCTGTCTGCGGCA-5</td>\n",
       "      <td>clonotype1366</td>\n",
       "      <td>1366</td>\n",
       "      <td>1366</td>\n",
       "      <td>TRAV25;TRAJ42;TRAC</td>\n",
       "      <td>TRBV19;TRBD1;TRBJ2-2;TRBC2</td>\n",
       "      <td>['TRAV25;TRAJ42;TRAC']</td>\n",
       "      <td>['TRBV19;TRBD1;TRBJ2-2;TRBC2' 'TRBV6-3;TRBD1;T...</td>\n",
       "      <td>600.0</td>\n",
       "      <td>CAGNYGGSQGNLIF</td>\n",
       "      <td>...</td>\n",
       "      <td>NaN</td>\n",
       "      <td>NaN</td>\n",
       "      <td>NaN</td>\n",
       "      <td>NaN</td>\n",
       "      <td>NaN</td>\n",
       "      <td>False</td>\n",
       "      <td>NaN</td>\n",
       "      <td>False</td>\n",
       "      <td>AAACCTGTCTGCGGCA</td>\n",
       "      <td>Donor 1</td>\n",
       "    </tr>\n",
       "  </tbody>\n",
       "</table>\n",
       "<p>1 rows × 103 columns</p>\n",
       "</div>"
      ],
      "text/plain": [
       "                    gem      clonotype  num_clonotype    ct  \\\n",
       "306  AAACCTGTCTGCGGCA-5  clonotype1366           1366  1366   \n",
       "\n",
       "              genes_TRA                   genes_TRB           genes_lst_TRA  \\\n",
       "306  TRAV25;TRAJ42;TRAC  TRBV19;TRBD1;TRBJ2-2;TRBC2  ['TRAV25;TRAJ42;TRAC']   \n",
       "\n",
       "                                         genes_lst_TRB  length_TRA  \\\n",
       "306  ['TRBV19;TRBD1;TRBJ2-2;TRBC2' 'TRBV6-3;TRBD1;T...       600.0   \n",
       "\n",
       "           cdr3_TRA  ...  ct_pep sample_hla  pep_match hla_match  ct_match  \\\n",
       "306  CAGNYGGSQGNLIF  ...     NaN        NaN        NaN       NaN       NaN   \n",
       "\n",
       "    valid_ct  train_label test_label           gem_spl    donor  \n",
       "306    False          NaN      False  AAACCTGTCTGCGGCA  Donor 1  \n",
       "\n",
       "[1 rows x 103 columns]"
      ]
     },
     "execution_count": 272,
     "metadata": {},
     "output_type": "execute_result"
    }
   ],
   "source": [
    "df[df.gem.str.contains('AAACCTGTCTGCGGCA')]"
   ]
  }
 ],
 "metadata": {
  "kernelspec": {
   "display_name": "Python 3",
   "language": "python",
   "name": "python3"
  },
  "language_info": {
   "codemirror_mode": {
    "name": "ipython",
    "version": 3
   },
   "file_extension": ".py",
   "mimetype": "text/x-python",
   "name": "python",
   "nbconvert_exporter": "python",
   "pygments_lexer": "ipython3",
   "version": "3.7.3"
  }
 },
 "nbformat": 4,
 "nbformat_minor": 4
}
