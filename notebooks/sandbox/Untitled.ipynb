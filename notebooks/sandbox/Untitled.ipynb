{
 "cells": [
  {
   "cell_type": "code",
   "execution_count": 1,
   "metadata": {},
   "outputs": [],
   "source": [
    "import pandas as pd\n",
    "import numpy as np\n",
    "import re"
   ]
  },
  {
   "cell_type": "code",
   "execution_count": 19,
   "metadata": {},
   "outputs": [],
   "source": [
    "AA = 'GALMFWKQESPVICYHRNDT'"
   ]
  },
  {
   "cell_type": "code",
   "execution_count": 20,
   "metadata": {},
   "outputs": [],
   "source": [
    "regex = re.compile(f\"^[{AA}]+$\")"
   ]
  },
  {
   "cell_type": "markdown",
   "metadata": {},
   "source": [
    "# Input"
   ]
  },
  {
   "cell_type": "code",
   "execution_count": 2,
   "metadata": {},
   "outputs": [],
   "source": [
    "T1 = '../../experiments/exp10x/raw/vdj_v1_hs_aggregated_donor1_all_contig_annotations.csv'\n",
    "T2 = '../../experiments/exp10x/raw/vdj_v1_hs_aggregated_donor2_all_contig_annotations.csv'\n",
    "T3 = '../../experiments/exp10x/raw/vdj_v1_hs_aggregated_donor3_all_contig_annotations.csv'\n",
    "T4 = '../../experiments/exp10x/raw/vdj_v1_hs_aggregated_donor4_all_contig_annotations.csv'"
   ]
  },
  {
   "cell_type": "code",
   "execution_count": 4,
   "metadata": {},
   "outputs": [],
   "source": [
    "B1 = '../../experiments/exp10x/raw/vdj_v1_hs_aggregated_donor1_binarized_matrix.csv'\n",
    "B2 = '../../experiments/exp10x/raw/vdj_v1_hs_aggregated_donor2_binarized_matrix.csv'\n",
    "B3 = '../../experiments/exp10x/raw/vdj_v1_hs_aggregated_donor3_binarized_matrix.csv'\n",
    "B4 = '../../experiments/exp10x/raw/vdj_v1_hs_aggregated_donor4_binarized_matrix.csv'"
   ]
  },
  {
   "cell_type": "markdown",
   "metadata": {},
   "source": [
    "# Load"
   ]
  },
  {
   "cell_type": "code",
   "execution_count": 3,
   "metadata": {},
   "outputs": [],
   "source": [
    "t1 = pd.read_csv(T1)\n",
    "t2 = pd.read_csv(T2)\n",
    "t3 = pd.read_csv(T3)\n",
    "t4 = pd.read_csv(T4)"
   ]
  },
  {
   "cell_type": "code",
   "execution_count": 5,
   "metadata": {},
   "outputs": [],
   "source": [
    "b1 = pd.read_csv(B1)\n",
    "b2 = pd.read_csv(B2)\n",
    "b3 = pd.read_csv(B3)\n",
    "b4 = pd.read_csv(B4)"
   ]
  },
  {
   "cell_type": "code",
   "execution_count": 7,
   "metadata": {},
   "outputs": [
    {
     "data": {
      "text/plain": [
       "0          AAACCTGAGACAAAGG-4\n",
       "1          AAACCTGAGACAAAGG-4\n",
       "2          AAACCTGAGACAAAGG-4\n",
       "3          AAACCTGAGACAAAGG-4\n",
       "4          AAACCTGAGACAAAGG-4\n",
       "                 ...         \n",
       "187139     TTTGTCATCCCAGGTG-3\n",
       "187140    TTTGTCATCTGCAAGT-21\n",
       "187141    TTTGTCATCTTACCGC-24\n",
       "187142    TTTGTCATCTTACCGC-24\n",
       "187143    TTTGTCATCTTACCGC-24\n",
       "Name: barcode, Length: 187144, dtype: object"
      ]
     },
     "execution_count": 7,
     "metadata": {},
     "output_type": "execute_result"
    }
   ],
   "source": [
    "t1.barcode"
   ]
  },
  {
   "cell_type": "code",
   "execution_count": 8,
   "metadata": {},
   "outputs": [
    {
     "data": {
      "text/plain": [
       "0         AAACCTGAGACAAAGG-4\n",
       "1        AAACCTGAGACTGTAA-34\n",
       "2         AAACCTGAGAGCCCAA-5\n",
       "3        AAACCTGAGAGCTGCA-24\n",
       "4         AAACCTGAGAGGGATA-8\n",
       "                ...         \n",
       "46521    TTTGTCATCGAGGTAG-13\n",
       "46522    TTTGTCATCTCCAACC-24\n",
       "46523    TTTGTCATCTCCTATA-36\n",
       "46524    TTTGTCATCTGTCAAG-32\n",
       "46525    TTTGTCATCTGTCCGT-39\n",
       "Name: barcode, Length: 46526, dtype: object"
      ]
     },
     "execution_count": 8,
     "metadata": {},
     "output_type": "execute_result"
    }
   ],
   "source": [
    "b1.barcode"
   ]
  },
  {
   "cell_type": "code",
   "execution_count": 10,
   "metadata": {},
   "outputs": [
    {
     "data": {
      "text/plain": [
       "46526"
      ]
     },
     "execution_count": 10,
     "metadata": {},
     "output_type": "execute_result"
    }
   ],
   "source": [
    "len(set(b1.barcode).intersection(set(t1.barcode)))"
   ]
  },
  {
   "cell_type": "code",
   "execution_count": 13,
   "metadata": {},
   "outputs": [],
   "source": [
    "summary = pd.DataFrame(index=['d1','d2','d3','d4'], columns=['n_tcr','n_tcr_iupac','n_pep','n_pep_tcr','n_pep_tcr_iupac'])"
   ]
  },
  {
   "cell_type": "code",
   "execution_count": 30,
   "metadata": {},
   "outputs": [],
   "source": [
    "for t,p,d in zip([t1,t2,t3,t4],[b1,b2,b3,b4],['d1','d2','d3','d4']):\n",
    "    summary.loc[d, 'n_tcr'] = len(t.barcode.unique())\n",
    "    summary.loc[d, 'n_pep'] = len(p.barcode.unique())\n",
    "    summary.loc[d, 'n_pep_tcr'] = len(set(p.barcode).intersection(set(t.barcode)))\n",
    "    \n",
    "    iupac_flt = t.cdr3.apply(lambda x: True if regex.search(x) is not None else False)\n",
    "    iupac_tcr = set(t[iupac_flt].barcode.unique())\n",
    "    summary.loc[d, 'n_tcr_iupac'] = len(iupac_tcr)\n",
    "    summary.loc[d, 'n_pep_tcr_iupac'] = len(set(p.barcode).intersection(iupac_tcr))"
   ]
  },
  {
   "cell_type": "code",
   "execution_count": 31,
   "metadata": {},
   "outputs": [
    {
     "data": {
      "text/html": [
       "<div>\n",
       "<style scoped>\n",
       "    .dataframe tbody tr th:only-of-type {\n",
       "        vertical-align: middle;\n",
       "    }\n",
       "\n",
       "    .dataframe tbody tr th {\n",
       "        vertical-align: top;\n",
       "    }\n",
       "\n",
       "    .dataframe thead th {\n",
       "        text-align: right;\n",
       "    }\n",
       "</style>\n",
       "<table border=\"1\" class=\"dataframe\">\n",
       "  <thead>\n",
       "    <tr style=\"text-align: right;\">\n",
       "      <th></th>\n",
       "      <th>n_tcr</th>\n",
       "      <th>n_tcr_iupac</th>\n",
       "      <th>n_pep</th>\n",
       "      <th>n_pep_tcr</th>\n",
       "      <th>n_pep_tcr_iupac</th>\n",
       "    </tr>\n",
       "  </thead>\n",
       "  <tbody>\n",
       "    <tr>\n",
       "      <th>d1</th>\n",
       "      <td>55910</td>\n",
       "      <td>54537</td>\n",
       "      <td>46526</td>\n",
       "      <td>46526</td>\n",
       "      <td>46526</td>\n",
       "    </tr>\n",
       "    <tr>\n",
       "      <th>d2</th>\n",
       "      <td>92057</td>\n",
       "      <td>90220</td>\n",
       "      <td>77854</td>\n",
       "      <td>77854</td>\n",
       "      <td>77854</td>\n",
       "    </tr>\n",
       "    <tr>\n",
       "      <th>d3</th>\n",
       "      <td>270957</td>\n",
       "      <td>226493</td>\n",
       "      <td>37824</td>\n",
       "      <td>37824</td>\n",
       "      <td>37824</td>\n",
       "    </tr>\n",
       "    <tr>\n",
       "      <th>d4</th>\n",
       "      <td>190113</td>\n",
       "      <td>160289</td>\n",
       "      <td>27308</td>\n",
       "      <td>27308</td>\n",
       "      <td>27308</td>\n",
       "    </tr>\n",
       "  </tbody>\n",
       "</table>\n",
       "</div>"
      ],
      "text/plain": [
       "     n_tcr n_tcr_iupac  n_pep n_pep_tcr n_pep_tcr_iupac\n",
       "d1   55910       54537  46526     46526           46526\n",
       "d2   92057       90220  77854     77854           77854\n",
       "d3  270957      226493  37824     37824           37824\n",
       "d4  190113      160289  27308     27308           27308"
      ]
     },
     "execution_count": 31,
     "metadata": {},
     "output_type": "execute_result"
    }
   ],
   "source": [
    "summary"
   ]
  },
  {
   "cell_type": "code",
   "execution_count": 32,
   "metadata": {},
   "outputs": [
    {
     "data": {
      "text/plain": [
       "189512"
      ]
     },
     "execution_count": 32,
     "metadata": {},
     "output_type": "execute_result"
    }
   ],
   "source": [
    "summary.n_pep_tcr_iupac.sum()"
   ]
  },
  {
   "cell_type": "code",
   "execution_count": 25,
   "metadata": {},
   "outputs": [],
   "source": [
    "iupac_flt = t1.cdr3.apply(lambda x: True if regex.search(x) is not None else False)"
   ]
  },
  {
   "cell_type": "code",
   "execution_count": null,
   "metadata": {},
   "outputs": [],
   "source": []
  }
 ],
 "metadata": {
  "kernelspec": {
   "display_name": "Python 3",
   "language": "python",
   "name": "python3"
  },
  "language_info": {
   "codemirror_mode": {
    "name": "ipython",
    "version": 3
   },
   "file_extension": ".py",
   "mimetype": "text/x-python",
   "name": "python",
   "nbconvert_exporter": "python",
   "pygments_lexer": "ipython3",
   "version": "3.7.3"
  }
 },
 "nbformat": 4,
 "nbformat_minor": 4
}
