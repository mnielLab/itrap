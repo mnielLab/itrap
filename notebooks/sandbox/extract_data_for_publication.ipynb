{
 "cells": [
  {
   "cell_type": "code",
   "execution_count": 1,
   "metadata": {},
   "outputs": [],
   "source": [
    "import pandas as pd\n",
    "import numpy as np\n",
    "import re\n",
    "from ast import literal_eval"
   ]
  },
  {
   "cell_type": "code",
   "execution_count": 2,
   "metadata": {},
   "outputs": [],
   "source": [
    "def HLA_cd8_converter(x):\n",
    "    #define format of datetime\n",
    "    return x.replace(\"[\",\"\").replace(\"]\",\"\").replace(\",\", \"\").replace(\"'\",\"\").split(\" \")\n",
    "\n",
    "def cdr3_lst_converter(x):\n",
    "    #define format of datetime\n",
    "    return x.replace(\"[\",\"\").replace(\"]\",\"\").replace(\"'\",\"\").replace(\",\",\"\").split(\" \") #add .replace(\",\",\"\")\n",
    "\n",
    "def epitope_converter(x):\n",
    "    #define format of datetime\n",
    "    return [y for y in x.replace(\"[\",\"\").replace(\"]\",\"\").replace(\"\\n\",\"\").split(\"'\") if (y != '') & (y != ' ')]\n",
    "\n",
    "def peptide_hla_converter(x):\n",
    "    return re.findall(\"\\w+\\s{1}\\w{1}\\d+\", x.replace(\"[\",\"\").replace(\"]\",\"\").replace(\"\\n\",\"\").replace(\"'\",\"\"))\n",
    "\n",
    "def literal_converter(val):\n",
    "    # replace NaN with '' and perform literal eval on the rest\n",
    "    return [] if val == '' else literal_eval(val)\n",
    "\n",
    "converters = {'peptide_HLA_lst': peptide_hla_converter,\n",
    "              'umi_count_lst_mhc': literal_eval, 'umi_count_lst_cd8': literal_converter,\n",
    "              'umi_count_lst_TRA': literal_converter,'umi_count_lst_TRB': literal_converter,\n",
    "              'cdr3_lst_TRA': cdr3_lst_converter,\n",
    "              'cdr3_lst_TRB': cdr3_lst_converter,\n",
    "              'genes_lst_TRA': epitope_converter,\n",
    "              'genes_lst_TRB': epitope_converter,\n",
    "              'HLA_lst_mhc': cdr3_lst_converter,'HLA_cd8': HLA_cd8_converter, 'sample_id_lst': epitope_converter} #"
   ]
  },
  {
   "cell_type": "markdown",
   "metadata": {},
   "source": [
    "# Input"
   ]
  },
  {
   "cell_type": "code",
   "execution_count": 84,
   "metadata": {},
   "outputs": [],
   "source": [
    "exp = 'exp13'#'exp10x'#\n",
    "run = 'run3'#'run1'#"
   ]
  },
  {
   "cell_type": "code",
   "execution_count": 85,
   "metadata": {},
   "outputs": [],
   "source": [
    "DATA = f\"../../experiments/{exp}/{run}/cat/eval_clonotypes/valid_ct.csv\"\n",
    "THR = f\"../../experiments/{exp}/{run}/cat/eval_clonotypes/threshold/opt.csv\""
   ]
  },
  {
   "cell_type": "code",
   "execution_count": 86,
   "metadata": {},
   "outputs": [],
   "source": [
    "OUT_DIR = f\"../tmp_files/publication_data/{exp}/\""
   ]
  },
  {
   "cell_type": "markdown",
   "metadata": {},
   "source": [
    "# Variables"
   ]
  },
  {
   "cell_type": "code",
   "execution_count": 87,
   "metadata": {},
   "outputs": [],
   "source": [
    "OUT_COL = [\n",
    "    'gem','clonotype','ct',\n",
    "    'genes_TRA','genes_lst_TRA','genes_TRB','genes_lst_TRB',\n",
    "    'cdr3_TRA','cdr3_lst_TRA','cdr3_TRB','cdr3_lst_TRB',\n",
    "    'umi_count_TRA','umi_count_lst_TRA','umi_count_TRB','umi_count_lst_TRB', #'cell_flag',\n",
    "    'peptide_HLA','peptide_HLA_lst','umi_count_mhc','umi_count_lst_mhc',\n",
    "    'sample_id', 'sample_id_lst', 'umi_count_cd8', 'umi_count_lst_cd8', 'HLA_cd8','HLA_match', #'HLA_lst_cd8','HLA_pool_cd8',\n",
    "    'valid_ct','ct_pep',\n",
    "    'VDJdb_pep',\n",
    "    'VDJdb_check',\n",
    "]\n",
    "OUT_COL += ['delta_umi_mhc']"
   ]
  },
  {
   "cell_type": "markdown",
   "metadata": {},
   "source": [
    "# Load"
   ]
  },
  {
   "cell_type": "code",
   "execution_count": 88,
   "metadata": {},
   "outputs": [],
   "source": [
    "df = pd.read_csv(DATA, converters=converters)"
   ]
  },
  {
   "cell_type": "code",
   "execution_count": 89,
   "metadata": {},
   "outputs": [],
   "source": [
    "thr = pd.read_csv(THR, header=None, index_col=0, names=['thr'])"
   ]
  },
  {
   "cell_type": "code",
   "execution_count": 90,
   "metadata": {},
   "outputs": [],
   "source": [
    "hla_match = df.apply(lambda row: row.HLA_mhc in row.HLA_cd8, axis=1)\n",
    "df['HLA_match'] = hla_match # exp10x #OBS!"
   ]
  },
  {
   "cell_type": "code",
   "execution_count": 91,
   "metadata": {},
   "outputs": [],
   "source": [
    "# exp13! OBS\n",
    "thr.thr.delta_umi_mhc = 1\n",
    "thr.thr.delta_umi_TRA = 0\n",
    "thr.thr.delta_umi_TRB = 0"
   ]
  },
  {
   "cell_type": "code",
   "execution_count": 92,
   "metadata": {},
   "outputs": [
    {
     "data": {
      "text/plain": [
       "umi_count_mhc        2.0\n",
       "delta_umi_mhc        1.0\n",
       "umi_count_mhc_rel    NaN\n",
       "umi_count_cd8        NaN\n",
       "delta_umi_cd8        NaN\n",
       "umi_count_TRA        0.0\n",
       "delta_umi_TRA        0.0\n",
       "umi_count_TRB        0.0\n",
       "delta_umi_TRB        0.0\n",
       "Name: thr, dtype: float64"
      ]
     },
     "execution_count": 92,
     "metadata": {},
     "output_type": "execute_result"
    }
   ],
   "source": [
    "thr.thr"
   ]
  },
  {
   "cell_type": "markdown",
   "metadata": {},
   "source": [
    "## Convert list-variables to strings"
   ]
  },
  {
   "cell_type": "code",
   "execution_count": 93,
   "metadata": {},
   "outputs": [],
   "source": [
    "lst_cols = df.columns[df.columns.str.contains('lst')].to_list() + ['HLA_cd8']"
   ]
  },
  {
   "cell_type": "code",
   "execution_count": 94,
   "metadata": {},
   "outputs": [],
   "source": [
    "for col in lst_cols:\n",
    "    df[col] = df[col].fillna('').apply(lambda x: \"|\".join([str(e) for e in x])).replace('', np.nan)"
   ]
  },
  {
   "cell_type": "code",
   "execution_count": 95,
   "metadata": {},
   "outputs": [],
   "source": [
    "raw = df[OUT_COL]"
   ]
  },
  {
   "cell_type": "code",
   "execution_count": 96,
   "metadata": {},
   "outputs": [],
   "source": [
    "umi_filter = ((df.umi_count_mhc >= thr.thr.umi_count_mhc) &\n",
    "              (df.delta_umi_mhc >= thr.thr.delta_umi_mhc) &\n",
    "              (df.umi_count_TRA >= thr.thr.umi_count_TRA) &\n",
    "              (df.delta_umi_TRA >= thr.thr.delta_umi_TRA) &\n",
    "              (df.delta_umi_TRB >= thr.thr.delta_umi_TRB)\n",
    "             )"
   ]
  },
  {
   "cell_type": "code",
   "execution_count": 97,
   "metadata": {},
   "outputs": [],
   "source": [
    "flt = df.loc[umi_filter, OUT_COL]"
   ]
  },
  {
   "cell_type": "code",
   "execution_count": 98,
   "metadata": {},
   "outputs": [],
   "source": [
    "hla = df.loc[umi_filter & hla_match, OUT_COL]"
   ]
  },
  {
   "cell_type": "code",
   "execution_count": 99,
   "metadata": {},
   "outputs": [],
   "source": [
    "tcr = df.loc[umi_filter & hla_match & (~df.cdr3_TRA.isna() & ~df.cdr3_TRB.isna()), OUT_COL]"
   ]
  },
  {
   "cell_type": "code",
   "execution_count": 100,
   "metadata": {},
   "outputs": [
    {
     "name": "stdout",
     "output_type": "stream",
     "text": [
      "6073 (6073,)\n",
      "4986 (4986,)\n",
      "4135 (4135,)\n",
      "2833 (2833,)\n"
     ]
    }
   ],
   "source": [
    "print(len(raw), raw.gem.unique().shape)\n",
    "print(len(flt), flt.gem.unique().shape)\n",
    "print(len(hla), hla.gem.unique().shape)\n",
    "print(len(tcr), tcr.gem.unique().shape)"
   ]
  },
  {
   "cell_type": "code",
   "execution_count": 101,
   "metadata": {},
   "outputs": [
    {
     "data": {
      "text/plain": [
       "605"
      ]
     },
     "execution_count": 101,
     "metadata": {},
     "output_type": "execute_result"
    }
   ],
   "source": [
    "tcr[tcr.peptide_HLA.str.startswith('RVR')].groupby('ct').size().value_counts()[1]"
   ]
  },
  {
   "cell_type": "code",
   "execution_count": 102,
   "metadata": {},
   "outputs": [
    {
     "data": {
      "text/plain": [
       "(2441,)"
      ]
     },
     "execution_count": 102,
     "metadata": {},
     "output_type": "execute_result"
    }
   ],
   "source": [
    "raw.ct.unique().shape"
   ]
  },
  {
   "cell_type": "code",
   "execution_count": 103,
   "metadata": {},
   "outputs": [
    {
     "data": {
      "text/plain": [
       "(2060,)"
      ]
     },
     "execution_count": 103,
     "metadata": {},
     "output_type": "execute_result"
    }
   ],
   "source": [
    "flt.ct.unique().shape"
   ]
  },
  {
   "cell_type": "code",
   "execution_count": 104,
   "metadata": {},
   "outputs": [
    {
     "data": {
      "text/plain": [
       "(1494,)"
      ]
     },
     "execution_count": 104,
     "metadata": {},
     "output_type": "execute_result"
    }
   ],
   "source": [
    "hla.ct.unique().shape"
   ]
  },
  {
   "cell_type": "code",
   "execution_count": 105,
   "metadata": {},
   "outputs": [
    {
     "data": {
      "text/plain": [
       "(1031,)"
      ]
     },
     "execution_count": 105,
     "metadata": {},
     "output_type": "execute_result"
    }
   ],
   "source": [
    "tcr.ct.unique().shape"
   ]
  },
  {
   "cell_type": "markdown",
   "metadata": {},
   "source": [
    "# Write output"
   ]
  },
  {
   "cell_type": "code",
   "execution_count": 172,
   "metadata": {},
   "outputs": [],
   "source": [
    "raw.to_csv(OUT_DIR + 'raw.csv', index=False)"
   ]
  },
  {
   "cell_type": "code",
   "execution_count": 173,
   "metadata": {},
   "outputs": [],
   "source": [
    "flt.to_csv(OUT_DIR + 'opt_thr.csv', index=False)"
   ]
  },
  {
   "cell_type": "code",
   "execution_count": 174,
   "metadata": {},
   "outputs": [],
   "source": [
    "hla.to_csv(OUT_DIR + 'hla_match.csv', index=False)"
   ]
  },
  {
   "cell_type": "code",
   "execution_count": 175,
   "metadata": {},
   "outputs": [],
   "source": [
    "tcr.to_csv(OUT_DIR + 'tcr.csv', index=False)"
   ]
  },
  {
   "cell_type": "markdown",
   "metadata": {},
   "source": [
    "# Counts per pMHC"
   ]
  },
  {
   "cell_type": "code",
   "execution_count": 28,
   "metadata": {},
   "outputs": [
    {
     "data": {
      "text/plain": [
       "peptide_HLA\n",
       "CLGGLLTMV A0201       26\n",
       "FLYALALLL A0201       18\n",
       "GILGFVFTL A0201        2\n",
       "GLCTLVAML A0201        5\n",
       "NLVPMVATV A0201        4\n",
       "RPHERNGFTV B0702      14\n",
       "RPHERNGFTVL B0702     40\n",
       "RPPIFIRRL B0702       21\n",
       "RVRAYTYSK A0301      691\n",
       "TPRVTGGGAM B0702     135\n",
       "TPSVSSSISSL B0702     19\n",
       "VLEETSVML A0201       20\n",
       "YVLDHLIVV A0201       89\n",
       "Name: ct, dtype: int64"
      ]
     },
     "execution_count": 28,
     "metadata": {},
     "output_type": "execute_result"
    }
   ],
   "source": [
    "tcr.groupby(['peptide_HLA']).ct.unique().apply(len)"
   ]
  },
  {
   "cell_type": "code",
   "execution_count": 36,
   "metadata": {},
   "outputs": [
    {
     "data": {
      "text/plain": [
       "peptide_HLA\n",
       "CLGGLLTMV A0201      106\n",
       "FLYALALLL A0201       33\n",
       "GILGFVFTL A0201        2\n",
       "GLCTLVAML A0201        5\n",
       "NLVPMVATV A0201        4\n",
       "RPHERNGFTV B0702      14\n",
       "RPHERNGFTVL B0702    274\n",
       "RPPIFIRRL B0702      110\n",
       "RVRAYTYSK A0301      965\n",
       "TPRVTGGGAM B0702     603\n",
       "TPSVSSSISSL B0702     37\n",
       "VLEETSVML A0201      402\n",
       "YVLDHLIVV A0201      278\n",
       "Name: gem, dtype: int64"
      ]
     },
     "execution_count": 36,
     "metadata": {},
     "output_type": "execute_result"
    }
   ],
   "source": [
    "tcr.groupby('peptide_HLA').gem.size()"
   ]
  },
  {
   "cell_type": "code",
   "execution_count": 60,
   "metadata": {},
   "outputs": [
    {
     "data": {
      "text/plain": [
       "TRAV14/DV4      194\n",
       "TRAV17          174\n",
       "TRAV3            78\n",
       "TRAV21           26\n",
       "TRAV8-2          16\n",
       "TRAV19           12\n",
       "TRAV2            12\n",
       "TRAV12-3         10\n",
       "TRAV1-2           8\n",
       "TRAV38-2/DV8      7\n",
       "TRAV12-2          5\n",
       "TRAV13-1          5\n",
       "TRAV25            5\n",
       "TRAV8-3           5\n",
       "TRAV12-1          5\n",
       "TRAV29/DV5        4\n",
       "TRAV30            4\n",
       "TRAV13-2          4\n",
       "TRAV5             3\n",
       "TRAV9-2           3\n",
       "TRAV10            2\n",
       "TRAV20            2\n",
       "TRAV26-2          2\n",
       "TRAV8-6           2\n",
       "TRAV22            2\n",
       "TRAV16            2\n",
       "TRAV26-1          2\n",
       "TRAV35            2\n",
       "TRAV34            1\n",
       "TRAV36/DV7        1\n",
       "TRAV38-1          1\n",
       "TRAV41            1\n",
       "TRAV1-1           1\n",
       "TRAV24            1\n",
       "TRAV27            1\n",
       "Name: 0, dtype: int64"
      ]
     },
     "execution_count": 60,
     "metadata": {},
     "output_type": "execute_result"
    }
   ],
   "source": [
    "tcr[tcr.peptide_HLA == \"TPRVTGGGAM B0702\"].genes_TRA.str.split(';', expand=True)[0].value_counts()"
   ]
  },
  {
   "cell_type": "code",
   "execution_count": 64,
   "metadata": {},
   "outputs": [
    {
     "data": {
      "text/html": [
       "<div>\n",
       "<style scoped>\n",
       "    .dataframe tbody tr th:only-of-type {\n",
       "        vertical-align: middle;\n",
       "    }\n",
       "\n",
       "    .dataframe tbody tr th {\n",
       "        vertical-align: top;\n",
       "    }\n",
       "\n",
       "    .dataframe thead th {\n",
       "        text-align: right;\n",
       "    }\n",
       "</style>\n",
       "<table border=\"1\" class=\"dataframe\">\n",
       "  <thead>\n",
       "    <tr style=\"text-align: right;\">\n",
       "      <th></th>\n",
       "      <th>ct</th>\n",
       "      <th>genes_TRA</th>\n",
       "      <th>genes_TRB</th>\n",
       "    </tr>\n",
       "  </thead>\n",
       "  <tbody>\n",
       "    <tr>\n",
       "      <th>3392</th>\n",
       "      <td>3.0</td>\n",
       "      <td>TRAV1-1;TRAJ10;TRAC</td>\n",
       "      <td>TRBV5-1;;TRBJ2-5;TRBC2</td>\n",
       "    </tr>\n",
       "    <tr>\n",
       "      <th>3406</th>\n",
       "      <td>2229.0</td>\n",
       "      <td>TRAV1-2;TRAJ17;TRAC</td>\n",
       "      <td>TRBV2;;TRBJ2-5;TRBC2</td>\n",
       "    </tr>\n",
       "    <tr>\n",
       "      <th>696</th>\n",
       "      <td>77.0</td>\n",
       "      <td>TRAV1-2;TRAJ17;TRAC</td>\n",
       "      <td>TRBV20-1;;TRBJ1-2;TRBC1</td>\n",
       "    </tr>\n",
       "    <tr>\n",
       "      <th>2919</th>\n",
       "      <td>288.0</td>\n",
       "      <td>TRAV1-2;TRAJ24;TRAC</td>\n",
       "      <td>TRBV6-1;TRBD1;TRBJ1-1;TRBC1</td>\n",
       "    </tr>\n",
       "    <tr>\n",
       "      <th>3613</th>\n",
       "      <td>421.0</td>\n",
       "      <td>TRAV1-2;TRAJ40;TRAC</td>\n",
       "      <td>TRBV30;TRBD1;TRBJ1-1;TRBC1</td>\n",
       "    </tr>\n",
       "    <tr>\n",
       "      <th>...</th>\n",
       "      <td>...</td>\n",
       "      <td>...</td>\n",
       "      <td>...</td>\n",
       "    </tr>\n",
       "    <tr>\n",
       "      <th>3174</th>\n",
       "      <td>833.0</td>\n",
       "      <td>TRAV8-6;TRAJ30;TRAC</td>\n",
       "      <td>TRBV6-1;;TRBJ2-7;TRBC2</td>\n",
       "    </tr>\n",
       "    <tr>\n",
       "      <th>870</th>\n",
       "      <td>5.0</td>\n",
       "      <td>TRAV8-6;TRAJ45;TRAC</td>\n",
       "      <td>TRBV28;;TRBJ2-7;TRBC2</td>\n",
       "    </tr>\n",
       "    <tr>\n",
       "      <th>2139</th>\n",
       "      <td>4335.0</td>\n",
       "      <td>TRAV9-2;TRAJ13;TRAC</td>\n",
       "      <td>TRBV6-5;;TRBJ2-1;TRBC2</td>\n",
       "    </tr>\n",
       "    <tr>\n",
       "      <th>3445</th>\n",
       "      <td>329.0</td>\n",
       "      <td>TRAV9-2;TRAJ17;TRAC</td>\n",
       "      <td>TRBV5-6;TRBD1;TRBJ1-5;TRBC1</td>\n",
       "    </tr>\n",
       "    <tr>\n",
       "      <th>1751</th>\n",
       "      <td>4081.0</td>\n",
       "      <td>TRAV9-2;TRAJ29;TRAC</td>\n",
       "      <td>TRBV27;;TRBJ2-3;TRBC2</td>\n",
       "    </tr>\n",
       "  </tbody>\n",
       "</table>\n",
       "<p>123 rows × 3 columns</p>\n",
       "</div>"
      ],
      "text/plain": [
       "          ct            genes_TRA                    genes_TRB\n",
       "3392     3.0  TRAV1-1;TRAJ10;TRAC       TRBV5-1;;TRBJ2-5;TRBC2\n",
       "3406  2229.0  TRAV1-2;TRAJ17;TRAC         TRBV2;;TRBJ2-5;TRBC2\n",
       "696     77.0  TRAV1-2;TRAJ17;TRAC      TRBV20-1;;TRBJ1-2;TRBC1\n",
       "2919   288.0  TRAV1-2;TRAJ24;TRAC  TRBV6-1;TRBD1;TRBJ1-1;TRBC1\n",
       "3613   421.0  TRAV1-2;TRAJ40;TRAC   TRBV30;TRBD1;TRBJ1-1;TRBC1\n",
       "...      ...                  ...                          ...\n",
       "3174   833.0  TRAV8-6;TRAJ30;TRAC       TRBV6-1;;TRBJ2-7;TRBC2\n",
       "870      5.0  TRAV8-6;TRAJ45;TRAC        TRBV28;;TRBJ2-7;TRBC2\n",
       "2139  4335.0  TRAV9-2;TRAJ13;TRAC       TRBV6-5;;TRBJ2-1;TRBC2\n",
       "3445   329.0  TRAV9-2;TRAJ17;TRAC  TRBV5-6;TRBD1;TRBJ1-5;TRBC1\n",
       "1751  4081.0  TRAV9-2;TRAJ29;TRAC        TRBV27;;TRBJ2-3;TRBC2\n",
       "\n",
       "[123 rows x 3 columns]"
      ]
     },
     "execution_count": 64,
     "metadata": {},
     "output_type": "execute_result"
    }
   ],
   "source": [
    "clones = tcr.loc[tcr.peptide_HLA == \"TPRVTGGGAM B0702\", [\"ct\",\"genes_TRA\", \"genes_TRB\"]].drop_duplicates(subset=[\"genes_TRA\", \"genes_TRB\"])\n",
    "clones.sort_values(by='genes_TRA')"
   ]
  },
  {
   "cell_type": "code",
   "execution_count": 65,
   "metadata": {},
   "outputs": [
    {
     "data": {
      "text/html": [
       "<div>\n",
       "<style scoped>\n",
       "    .dataframe tbody tr th:only-of-type {\n",
       "        vertical-align: middle;\n",
       "    }\n",
       "\n",
       "    .dataframe tbody tr th {\n",
       "        vertical-align: top;\n",
       "    }\n",
       "\n",
       "    .dataframe thead th {\n",
       "        text-align: right;\n",
       "    }\n",
       "</style>\n",
       "<table border=\"1\" class=\"dataframe\">\n",
       "  <thead>\n",
       "    <tr style=\"text-align: right;\">\n",
       "      <th></th>\n",
       "      <th>ct</th>\n",
       "      <th>genes_TRA</th>\n",
       "      <th>genes_TRB</th>\n",
       "    </tr>\n",
       "  </thead>\n",
       "  <tbody>\n",
       "    <tr>\n",
       "      <th>71</th>\n",
       "      <td>32.0</td>\n",
       "      <td>TRAV17;TRAJ12;TRAC</td>\n",
       "      <td>TRBV7-9;TRBD1;TRBJ2-7;TRBC2</td>\n",
       "    </tr>\n",
       "    <tr>\n",
       "      <th>176</th>\n",
       "      <td>34.0</td>\n",
       "      <td>TRAV17;TRAJ12;TRAC</td>\n",
       "      <td>TRBV7-9;;TRBJ2-7;TRBC2</td>\n",
       "    </tr>\n",
       "    <tr>\n",
       "      <th>320</th>\n",
       "      <td>1053.0</td>\n",
       "      <td>TRAV34;TRAJ30;TRAC</td>\n",
       "      <td>TRBV7-9;;TRBJ2-7;TRBC2</td>\n",
       "    </tr>\n",
       "    <tr>\n",
       "      <th>463</th>\n",
       "      <td>876.0</td>\n",
       "      <td>TRAV12-2;TRAJ5;TRAC</td>\n",
       "      <td>TRBV5-1;TRBD1;TRBJ2-7;TRBC2</td>\n",
       "    </tr>\n",
       "    <tr>\n",
       "      <th>548</th>\n",
       "      <td>1137.0</td>\n",
       "      <td>TRAV13-1;TRAJ11;TRAC</td>\n",
       "      <td>TRBV19;TRBD1;TRBJ2-7;TRBC2</td>\n",
       "    </tr>\n",
       "    <tr>\n",
       "      <th>649</th>\n",
       "      <td>164.0</td>\n",
       "      <td>TRAV25;TRAJ35;TRAC</td>\n",
       "      <td>TRBV27;;TRBJ2-7;TRBC2</td>\n",
       "    </tr>\n",
       "    <tr>\n",
       "      <th>665</th>\n",
       "      <td>259.0</td>\n",
       "      <td>TRAV12-3;TRAJ44;TRAC</td>\n",
       "      <td>TRBV27;;TRBJ2-7;TRBC2</td>\n",
       "    </tr>\n",
       "    <tr>\n",
       "      <th>870</th>\n",
       "      <td>5.0</td>\n",
       "      <td>TRAV8-6;TRAJ45;TRAC</td>\n",
       "      <td>TRBV28;;TRBJ2-7;TRBC2</td>\n",
       "    </tr>\n",
       "    <tr>\n",
       "      <th>1246</th>\n",
       "      <td>366.0</td>\n",
       "      <td>TRAV19;TRAJ53;TRAC</td>\n",
       "      <td>TRBV27;;TRBJ2-7;TRBC2</td>\n",
       "    </tr>\n",
       "    <tr>\n",
       "      <th>1291</th>\n",
       "      <td>13.0</td>\n",
       "      <td>TRAV16;TRAJ18;TRAC</td>\n",
       "      <td>TRBV14;;TRBJ2-7;TRBC2</td>\n",
       "    </tr>\n",
       "    <tr>\n",
       "      <th>1388</th>\n",
       "      <td>157.0</td>\n",
       "      <td>TRAV29/DV5;TRAJ49;TRAC</td>\n",
       "      <td>TRBV27;;TRBJ2-7;TRBC2</td>\n",
       "    </tr>\n",
       "    <tr>\n",
       "      <th>1682</th>\n",
       "      <td>30.0</td>\n",
       "      <td>TRAV13-1;TRAJ23;TRAC</td>\n",
       "      <td>TRBV5-6;;TRBJ2-7;TRBC2</td>\n",
       "    </tr>\n",
       "    <tr>\n",
       "      <th>1911</th>\n",
       "      <td>1184.0</td>\n",
       "      <td>TRAV12-2;TRAJ16;TRAC</td>\n",
       "      <td>TRBV27;;TRBJ2-7;TRBC2</td>\n",
       "    </tr>\n",
       "    <tr>\n",
       "      <th>1970</th>\n",
       "      <td>72.0</td>\n",
       "      <td>TRAV14/DV4;TRAJ12;TRAC</td>\n",
       "      <td>TRBV28;;TRBJ2-7;TRBC2</td>\n",
       "    </tr>\n",
       "    <tr>\n",
       "      <th>2241</th>\n",
       "      <td>105.0</td>\n",
       "      <td>TRAV38-2/DV8;TRAJ42;TRAC</td>\n",
       "      <td>TRBV7-9;;TRBJ2-7;TRBC2</td>\n",
       "    </tr>\n",
       "    <tr>\n",
       "      <th>2311</th>\n",
       "      <td>617.0</td>\n",
       "      <td>TRAV5;TRAJ6;TRAC</td>\n",
       "      <td>TRBV5-6;;TRBJ2-7;TRBC2</td>\n",
       "    </tr>\n",
       "    <tr>\n",
       "      <th>2586</th>\n",
       "      <td>2051.0</td>\n",
       "      <td>TRAV12-3;TRAJ12;TRAC</td>\n",
       "      <td>TRBV7-9;;TRBJ2-7;TRBC2</td>\n",
       "    </tr>\n",
       "    <tr>\n",
       "      <th>3084</th>\n",
       "      <td>2497.0</td>\n",
       "      <td>TRAV13-2;TRAJ30;TRAC</td>\n",
       "      <td>TRBV2;;TRBJ2-7;TRBC2</td>\n",
       "    </tr>\n",
       "    <tr>\n",
       "      <th>3135</th>\n",
       "      <td>1061.0</td>\n",
       "      <td>TRAV21;TRAJ34;TRAC</td>\n",
       "      <td>TRBV12-3;;TRBJ2-7;TRBC2</td>\n",
       "    </tr>\n",
       "    <tr>\n",
       "      <th>3174</th>\n",
       "      <td>833.0</td>\n",
       "      <td>TRAV8-6;TRAJ30;TRAC</td>\n",
       "      <td>TRBV6-1;;TRBJ2-7;TRBC2</td>\n",
       "    </tr>\n",
       "    <tr>\n",
       "      <th>3240</th>\n",
       "      <td>1107.0</td>\n",
       "      <td>TRAV12-2;TRAJ57;TRAC</td>\n",
       "      <td>TRBV6-5;;TRBJ2-7;TRBC2</td>\n",
       "    </tr>\n",
       "    <tr>\n",
       "      <th>3529</th>\n",
       "      <td>1038.0</td>\n",
       "      <td>TRAV1-2;TRAJ8;TRAC</td>\n",
       "      <td>TRBV27;;TRBJ2-7;TRBC2</td>\n",
       "    </tr>\n",
       "    <tr>\n",
       "      <th>3550</th>\n",
       "      <td>1584.0</td>\n",
       "      <td>TRAV14/DV4;TRAJ4;TRAC</td>\n",
       "      <td>TRBV7-2;;TRBJ2-7;TRBC2</td>\n",
       "    </tr>\n",
       "    <tr>\n",
       "      <th>3593</th>\n",
       "      <td>272.0</td>\n",
       "      <td>TRAV12-1;TRAJ30;TRAC</td>\n",
       "      <td>TRBV7-9;;TRBJ2-7;TRBC2</td>\n",
       "    </tr>\n",
       "    <tr>\n",
       "      <th>3909</th>\n",
       "      <td>1802.0</td>\n",
       "      <td>TRAV20;TRAJ33;TRAC</td>\n",
       "      <td>TRBV7-9;;TRBJ2-7;TRBC2</td>\n",
       "    </tr>\n",
       "  </tbody>\n",
       "</table>\n",
       "</div>"
      ],
      "text/plain": [
       "          ct                 genes_TRA                    genes_TRB\n",
       "71      32.0        TRAV17;TRAJ12;TRAC  TRBV7-9;TRBD1;TRBJ2-7;TRBC2\n",
       "176     34.0        TRAV17;TRAJ12;TRAC       TRBV7-9;;TRBJ2-7;TRBC2\n",
       "320   1053.0        TRAV34;TRAJ30;TRAC       TRBV7-9;;TRBJ2-7;TRBC2\n",
       "463    876.0       TRAV12-2;TRAJ5;TRAC  TRBV5-1;TRBD1;TRBJ2-7;TRBC2\n",
       "548   1137.0      TRAV13-1;TRAJ11;TRAC   TRBV19;TRBD1;TRBJ2-7;TRBC2\n",
       "649    164.0        TRAV25;TRAJ35;TRAC        TRBV27;;TRBJ2-7;TRBC2\n",
       "665    259.0      TRAV12-3;TRAJ44;TRAC        TRBV27;;TRBJ2-7;TRBC2\n",
       "870      5.0       TRAV8-6;TRAJ45;TRAC        TRBV28;;TRBJ2-7;TRBC2\n",
       "1246   366.0        TRAV19;TRAJ53;TRAC        TRBV27;;TRBJ2-7;TRBC2\n",
       "1291    13.0        TRAV16;TRAJ18;TRAC        TRBV14;;TRBJ2-7;TRBC2\n",
       "1388   157.0    TRAV29/DV5;TRAJ49;TRAC        TRBV27;;TRBJ2-7;TRBC2\n",
       "1682    30.0      TRAV13-1;TRAJ23;TRAC       TRBV5-6;;TRBJ2-7;TRBC2\n",
       "1911  1184.0      TRAV12-2;TRAJ16;TRAC        TRBV27;;TRBJ2-7;TRBC2\n",
       "1970    72.0    TRAV14/DV4;TRAJ12;TRAC        TRBV28;;TRBJ2-7;TRBC2\n",
       "2241   105.0  TRAV38-2/DV8;TRAJ42;TRAC       TRBV7-9;;TRBJ2-7;TRBC2\n",
       "2311   617.0          TRAV5;TRAJ6;TRAC       TRBV5-6;;TRBJ2-7;TRBC2\n",
       "2586  2051.0      TRAV12-3;TRAJ12;TRAC       TRBV7-9;;TRBJ2-7;TRBC2\n",
       "3084  2497.0      TRAV13-2;TRAJ30;TRAC         TRBV2;;TRBJ2-7;TRBC2\n",
       "3135  1061.0        TRAV21;TRAJ34;TRAC      TRBV12-3;;TRBJ2-7;TRBC2\n",
       "3174   833.0       TRAV8-6;TRAJ30;TRAC       TRBV6-1;;TRBJ2-7;TRBC2\n",
       "3240  1107.0      TRAV12-2;TRAJ57;TRAC       TRBV6-5;;TRBJ2-7;TRBC2\n",
       "3529  1038.0        TRAV1-2;TRAJ8;TRAC        TRBV27;;TRBJ2-7;TRBC2\n",
       "3550  1584.0     TRAV14/DV4;TRAJ4;TRAC       TRBV7-2;;TRBJ2-7;TRBC2\n",
       "3593   272.0      TRAV12-1;TRAJ30;TRAC       TRBV7-9;;TRBJ2-7;TRBC2\n",
       "3909  1802.0        TRAV20;TRAJ33;TRAC       TRBV7-9;;TRBJ2-7;TRBC2"
      ]
     },
     "execution_count": 65,
     "metadata": {},
     "output_type": "execute_result"
    }
   ],
   "source": [
    "f = clones.apply(lambda row: ('TRBJ2-7' in row.genes_TRB), axis=1)\n",
    "clones[f]"
   ]
  },
  {
   "cell_type": "code",
   "execution_count": 52,
   "metadata": {},
   "outputs": [
    {
     "data": {
      "text/plain": [
       "ct\n",
       "3.0       146\n",
       "12.0       36\n",
       "16.0       14\n",
       "33.0       18\n",
       "35.0        1\n",
       "61.0        8\n",
       "62.0        3\n",
       "74.0        5\n",
       "122.0       1\n",
       "126.0       3\n",
       "166.0       3\n",
       "175.0       5\n",
       "186.0       1\n",
       "194.0       2\n",
       "197.0       1\n",
       "212.0       2\n",
       "240.0       1\n",
       "361.0       2\n",
       "388.0       1\n",
       "606.0       1\n",
       "794.0       1\n",
       "846.0       1\n",
       "905.0       1\n",
       "907.0       1\n",
       "914.0       1\n",
       "1215.0      1\n",
       "1403.0      1\n",
       "1582.0      1\n",
       "1755.0      1\n",
       "1756.0      1\n",
       "1761.0      1\n",
       "1813.0      1\n",
       "1825.0      1\n",
       "2126.0      1\n",
       "2552.0      1\n",
       "2709.0      1\n",
       "3538.0      1\n",
       "4610.0      1\n",
       "4713.0      1\n",
       "5225.0      1\n",
       "dtype: int64"
      ]
     },
     "execution_count": 52,
     "metadata": {},
     "output_type": "execute_result"
    }
   ],
   "source": [
    "tcr[tcr.peptide_HLA == \"RPHERNGFTVL B0702\"].groupby('ct').size()"
   ]
  },
  {
   "cell_type": "markdown",
   "metadata": {},
   "source": [
    "# Negative GEM count"
   ]
  },
  {
   "cell_type": "markdown",
   "metadata": {},
   "source": [
    "### Database matches"
   ]
  },
  {
   "cell_type": "code",
   "execution_count": 44,
   "metadata": {},
   "outputs": [],
   "source": [
    "db = pd.read_csv(\"../../experiments/exp13/run5/res/tables/tcr_barcode.valid.csv\")"
   ]
  },
  {
   "cell_type": "code",
   "execution_count": 51,
   "metadata": {},
   "outputs": [
    {
     "data": {
      "text/html": [
       "<div>\n",
       "<style scoped>\n",
       "    .dataframe tbody tr th:only-of-type {\n",
       "        vertical-align: middle;\n",
       "    }\n",
       "\n",
       "    .dataframe tbody tr th {\n",
       "        vertical-align: top;\n",
       "    }\n",
       "\n",
       "    .dataframe thead th {\n",
       "        text-align: right;\n",
       "    }\n",
       "</style>\n",
       "<table border=\"1\" class=\"dataframe\">\n",
       "  <thead>\n",
       "    <tr style=\"text-align: right;\">\n",
       "      <th></th>\n",
       "      <th>ct</th>\n",
       "      <th>peptide_HLA</th>\n",
       "      <th>tcrdb_pep</th>\n",
       "      <th>tcrdb_check</th>\n",
       "    </tr>\n",
       "  </thead>\n",
       "  <tbody>\n",
       "    <tr>\n",
       "      <th>2166</th>\n",
       "      <td>1984.0</td>\n",
       "      <td>NLVPMVATV A0201</td>\n",
       "      <td>['NLVPMVATV']</td>\n",
       "      <td>True</td>\n",
       "    </tr>\n",
       "    <tr>\n",
       "      <th>2219</th>\n",
       "      <td>478.0</td>\n",
       "      <td>GLCTLVAML A0201</td>\n",
       "      <td>['GLCTLVAML']</td>\n",
       "      <td>True</td>\n",
       "    </tr>\n",
       "    <tr>\n",
       "      <th>2706</th>\n",
       "      <td>278.0</td>\n",
       "      <td>GLCTLVAML A0201</td>\n",
       "      <td>['GLCTLVAML']</td>\n",
       "      <td>True</td>\n",
       "    </tr>\n",
       "    <tr>\n",
       "      <th>3671</th>\n",
       "      <td>1985.0</td>\n",
       "      <td>NLVPMVATV A0201</td>\n",
       "      <td>['NLVPMVATV']</td>\n",
       "      <td>True</td>\n",
       "    </tr>\n",
       "  </tbody>\n",
       "</table>\n",
       "</div>"
      ],
      "text/plain": [
       "          ct      peptide_HLA      tcrdb_pep tcrdb_check\n",
       "2166  1984.0  NLVPMVATV A0201  ['NLVPMVATV']        True\n",
       "2219   478.0  GLCTLVAML A0201  ['GLCTLVAML']        True\n",
       "2706   278.0  GLCTLVAML A0201  ['GLCTLVAML']        True\n",
       "3671  1985.0  NLVPMVATV A0201  ['NLVPMVATV']        True"
      ]
     },
     "execution_count": 51,
     "metadata": {},
     "output_type": "execute_result"
    }
   ],
   "source": [
    "db.loc[\n",
    "    db.peptide_HLA.isin(['NLVPMVATV A0201', 'GILGFVFTL A0201','GLCTLVAML A0201']),\n",
    "    [\"ct\", \"peptide_HLA\", 'tcrdb_pep', 'tcrdb_check']\n",
    "].dropna()"
   ]
  },
  {
   "cell_type": "code",
   "execution_count": 53,
   "metadata": {},
   "outputs": [
    {
     "data": {
      "text/html": [
       "<div>\n",
       "<style scoped>\n",
       "    .dataframe tbody tr th:only-of-type {\n",
       "        vertical-align: middle;\n",
       "    }\n",
       "\n",
       "    .dataframe tbody tr th {\n",
       "        vertical-align: top;\n",
       "    }\n",
       "\n",
       "    .dataframe thead th {\n",
       "        text-align: right;\n",
       "    }\n",
       "</style>\n",
       "<table border=\"1\" class=\"dataframe\">\n",
       "  <thead>\n",
       "    <tr style=\"text-align: right;\">\n",
       "      <th></th>\n",
       "      <th>ct</th>\n",
       "      <th>peptide_HLA</th>\n",
       "      <th>VDJdb_pep</th>\n",
       "      <th>VDJdb_check</th>\n",
       "      <th>umi_count_mhc</th>\n",
       "    </tr>\n",
       "  </thead>\n",
       "  <tbody>\n",
       "    <tr>\n",
       "      <th>543</th>\n",
       "      <td>1140.0</td>\n",
       "      <td>FLYALALLL A0201</td>\n",
       "      <td>['FLYALALLL']</td>\n",
       "      <td>True</td>\n",
       "      <td>17.0</td>\n",
       "    </tr>\n",
       "    <tr>\n",
       "      <th>1015</th>\n",
       "      <td>76.0</td>\n",
       "      <td>FLYALALLL A0201</td>\n",
       "      <td>['FLYALALLL']</td>\n",
       "      <td>True</td>\n",
       "      <td>38.0</td>\n",
       "    </tr>\n",
       "    <tr>\n",
       "      <th>1696</th>\n",
       "      <td>76.0</td>\n",
       "      <td>FLYALALLL A0201</td>\n",
       "      <td>['FLYALALLL']</td>\n",
       "      <td>True</td>\n",
       "      <td>22.0</td>\n",
       "    </tr>\n",
       "    <tr>\n",
       "      <th>1870</th>\n",
       "      <td>1984.0</td>\n",
       "      <td>NLVPMVATV A0201</td>\n",
       "      <td>['NLVPMVATV']</td>\n",
       "      <td>True</td>\n",
       "      <td>26.0</td>\n",
       "    </tr>\n",
       "    <tr>\n",
       "      <th>1894</th>\n",
       "      <td>76.0</td>\n",
       "      <td>FLYALALLL A0201</td>\n",
       "      <td>['FLYALALLL']</td>\n",
       "      <td>True</td>\n",
       "      <td>46.0</td>\n",
       "    </tr>\n",
       "    <tr>\n",
       "      <th>1916</th>\n",
       "      <td>478.0</td>\n",
       "      <td>GLCTLVAML A0201</td>\n",
       "      <td>['GLCTLVAML']</td>\n",
       "      <td>True</td>\n",
       "      <td>23.0</td>\n",
       "    </tr>\n",
       "    <tr>\n",
       "      <th>2332</th>\n",
       "      <td>278.0</td>\n",
       "      <td>GLCTLVAML A0201</td>\n",
       "      <td>['GLCTLVAML']</td>\n",
       "      <td>True</td>\n",
       "      <td>23.0</td>\n",
       "    </tr>\n",
       "    <tr>\n",
       "      <th>2947</th>\n",
       "      <td>76.0</td>\n",
       "      <td>FLYALALLL A0201</td>\n",
       "      <td>['FLYALALLL']</td>\n",
       "      <td>True</td>\n",
       "      <td>33.0</td>\n",
       "    </tr>\n",
       "    <tr>\n",
       "      <th>3131</th>\n",
       "      <td>1985.0</td>\n",
       "      <td>NLVPMVATV A0201</td>\n",
       "      <td>['NLVPMVATV']</td>\n",
       "      <td>True</td>\n",
       "      <td>24.0</td>\n",
       "    </tr>\n",
       "    <tr>\n",
       "      <th>3337</th>\n",
       "      <td>574.0</td>\n",
       "      <td>RVRAYTYSK A0301</td>\n",
       "      <td>['GLCTLVAML']</td>\n",
       "      <td>False</td>\n",
       "      <td>11.0</td>\n",
       "    </tr>\n",
       "  </tbody>\n",
       "</table>\n",
       "</div>"
      ],
      "text/plain": [
       "          ct      peptide_HLA      VDJdb_pep VDJdb_check  umi_count_mhc\n",
       "543   1140.0  FLYALALLL A0201  ['FLYALALLL']        True           17.0\n",
       "1015    76.0  FLYALALLL A0201  ['FLYALALLL']        True           38.0\n",
       "1696    76.0  FLYALALLL A0201  ['FLYALALLL']        True           22.0\n",
       "1870  1984.0  NLVPMVATV A0201  ['NLVPMVATV']        True           26.0\n",
       "1894    76.0  FLYALALLL A0201  ['FLYALALLL']        True           46.0\n",
       "1916   478.0  GLCTLVAML A0201  ['GLCTLVAML']        True           23.0\n",
       "2332   278.0  GLCTLVAML A0201  ['GLCTLVAML']        True           23.0\n",
       "2947    76.0  FLYALALLL A0201  ['FLYALALLL']        True           33.0\n",
       "3131  1985.0  NLVPMVATV A0201  ['NLVPMVATV']        True           24.0\n",
       "3337   574.0  RVRAYTYSK A0301  ['GLCTLVAML']       False           11.0"
      ]
     },
     "execution_count": 53,
     "metadata": {},
     "output_type": "execute_result"
    }
   ],
   "source": [
    "raw.loc[~raw.VDJdb_check.isna(), ['ct','peptide_HLA','VDJdb_pep','VDJdb_check','umi_count_mhc']]"
   ]
  },
  {
   "cell_type": "code",
   "execution_count": 41,
   "metadata": {},
   "outputs": [
    {
     "data": {
      "text/html": [
       "<div>\n",
       "<style scoped>\n",
       "    .dataframe tbody tr th:only-of-type {\n",
       "        vertical-align: middle;\n",
       "    }\n",
       "\n",
       "    .dataframe tbody tr th {\n",
       "        vertical-align: top;\n",
       "    }\n",
       "\n",
       "    .dataframe thead th {\n",
       "        text-align: right;\n",
       "    }\n",
       "</style>\n",
       "<table border=\"1\" class=\"dataframe\">\n",
       "  <thead>\n",
       "    <tr style=\"text-align: right;\">\n",
       "      <th></th>\n",
       "      <th>ct</th>\n",
       "      <th>peptide_HLA</th>\n",
       "      <th>VDJdb_pep</th>\n",
       "      <th>VDJdb_check</th>\n",
       "      <th>umi_count_mhc</th>\n",
       "    </tr>\n",
       "  </thead>\n",
       "  <tbody>\n",
       "    <tr>\n",
       "      <th>492</th>\n",
       "      <td>28.0</td>\n",
       "      <td>NLVPMVATV A0201</td>\n",
       "      <td>NaN</td>\n",
       "      <td>NaN</td>\n",
       "      <td>1.0</td>\n",
       "    </tr>\n",
       "    <tr>\n",
       "      <th>521</th>\n",
       "      <td>848.0</td>\n",
       "      <td>GILGFVFTL A0201</td>\n",
       "      <td>NaN</td>\n",
       "      <td>NaN</td>\n",
       "      <td>26.0</td>\n",
       "    </tr>\n",
       "    <tr>\n",
       "      <th>722</th>\n",
       "      <td>472.0</td>\n",
       "      <td>NLVPMVATV A0201</td>\n",
       "      <td>NaN</td>\n",
       "      <td>NaN</td>\n",
       "      <td>9.0</td>\n",
       "    </tr>\n",
       "    <tr>\n",
       "      <th>795</th>\n",
       "      <td>604.0</td>\n",
       "      <td>GILGFVFTL A0201</td>\n",
       "      <td>NaN</td>\n",
       "      <td>NaN</td>\n",
       "      <td>9.0</td>\n",
       "    </tr>\n",
       "    <tr>\n",
       "      <th>837</th>\n",
       "      <td>2302.0</td>\n",
       "      <td>GLCTLVAML A0201</td>\n",
       "      <td>NaN</td>\n",
       "      <td>NaN</td>\n",
       "      <td>21.0</td>\n",
       "    </tr>\n",
       "    <tr>\n",
       "      <th>1024</th>\n",
       "      <td>573.0</td>\n",
       "      <td>GLCTLVAML A0201</td>\n",
       "      <td>NaN</td>\n",
       "      <td>NaN</td>\n",
       "      <td>15.0</td>\n",
       "    </tr>\n",
       "    <tr>\n",
       "      <th>1269</th>\n",
       "      <td>2190.0</td>\n",
       "      <td>GLCTLVAML A0201</td>\n",
       "      <td>NaN</td>\n",
       "      <td>NaN</td>\n",
       "      <td>1.0</td>\n",
       "    </tr>\n",
       "    <tr>\n",
       "      <th>1478</th>\n",
       "      <td>225.0</td>\n",
       "      <td>GLCTLVAML A0201</td>\n",
       "      <td>NaN</td>\n",
       "      <td>NaN</td>\n",
       "      <td>4.0</td>\n",
       "    </tr>\n",
       "    <tr>\n",
       "      <th>1870</th>\n",
       "      <td>1984.0</td>\n",
       "      <td>NLVPMVATV A0201</td>\n",
       "      <td>['NLVPMVATV']</td>\n",
       "      <td>True</td>\n",
       "      <td>26.0</td>\n",
       "    </tr>\n",
       "    <tr>\n",
       "      <th>1916</th>\n",
       "      <td>478.0</td>\n",
       "      <td>GLCTLVAML A0201</td>\n",
       "      <td>['GLCTLVAML']</td>\n",
       "      <td>True</td>\n",
       "      <td>23.0</td>\n",
       "    </tr>\n",
       "    <tr>\n",
       "      <th>2052</th>\n",
       "      <td>22.0</td>\n",
       "      <td>NLVPMVATV A0201</td>\n",
       "      <td>NaN</td>\n",
       "      <td>NaN</td>\n",
       "      <td>2.0</td>\n",
       "    </tr>\n",
       "    <tr>\n",
       "      <th>2332</th>\n",
       "      <td>278.0</td>\n",
       "      <td>GLCTLVAML A0201</td>\n",
       "      <td>['GLCTLVAML']</td>\n",
       "      <td>True</td>\n",
       "      <td>23.0</td>\n",
       "    </tr>\n",
       "    <tr>\n",
       "      <th>2573</th>\n",
       "      <td>312.0</td>\n",
       "      <td>NLVPMVATV A0201</td>\n",
       "      <td>NaN</td>\n",
       "      <td>NaN</td>\n",
       "      <td>1.0</td>\n",
       "    </tr>\n",
       "    <tr>\n",
       "      <th>3029</th>\n",
       "      <td>22.0</td>\n",
       "      <td>GLCTLVAML A0201</td>\n",
       "      <td>NaN</td>\n",
       "      <td>NaN</td>\n",
       "      <td>2.0</td>\n",
       "    </tr>\n",
       "    <tr>\n",
       "      <th>3063</th>\n",
       "      <td>811.0</td>\n",
       "      <td>NLVPMVATV A0201</td>\n",
       "      <td>NaN</td>\n",
       "      <td>NaN</td>\n",
       "      <td>21.0</td>\n",
       "    </tr>\n",
       "    <tr>\n",
       "      <th>3131</th>\n",
       "      <td>1985.0</td>\n",
       "      <td>NLVPMVATV A0201</td>\n",
       "      <td>['NLVPMVATV']</td>\n",
       "      <td>True</td>\n",
       "      <td>24.0</td>\n",
       "    </tr>\n",
       "    <tr>\n",
       "      <th>3183</th>\n",
       "      <td>340.0</td>\n",
       "      <td>GLCTLVAML A0201</td>\n",
       "      <td>NaN</td>\n",
       "      <td>NaN</td>\n",
       "      <td>1.0</td>\n",
       "    </tr>\n",
       "    <tr>\n",
       "      <th>4135</th>\n",
       "      <td>5069.0</td>\n",
       "      <td>GLCTLVAML A0201</td>\n",
       "      <td>NaN</td>\n",
       "      <td>NaN</td>\n",
       "      <td>1.0</td>\n",
       "    </tr>\n",
       "    <tr>\n",
       "      <th>4257</th>\n",
       "      <td>993.0</td>\n",
       "      <td>GLCTLVAML A0201</td>\n",
       "      <td>NaN</td>\n",
       "      <td>NaN</td>\n",
       "      <td>3.0</td>\n",
       "    </tr>\n",
       "    <tr>\n",
       "      <th>4292</th>\n",
       "      <td>450.0</td>\n",
       "      <td>GLCTLVAML A0201</td>\n",
       "      <td>NaN</td>\n",
       "      <td>NaN</td>\n",
       "      <td>9.0</td>\n",
       "    </tr>\n",
       "    <tr>\n",
       "      <th>4392</th>\n",
       "      <td>240.0</td>\n",
       "      <td>GLCTLVAML A0201</td>\n",
       "      <td>NaN</td>\n",
       "      <td>NaN</td>\n",
       "      <td>1.0</td>\n",
       "    </tr>\n",
       "    <tr>\n",
       "      <th>4568</th>\n",
       "      <td>1260.0</td>\n",
       "      <td>GILGFVFTL A0201</td>\n",
       "      <td>NaN</td>\n",
       "      <td>NaN</td>\n",
       "      <td>8.0</td>\n",
       "    </tr>\n",
       "    <tr>\n",
       "      <th>4720</th>\n",
       "      <td>7.0</td>\n",
       "      <td>GLCTLVAML A0201</td>\n",
       "      <td>NaN</td>\n",
       "      <td>NaN</td>\n",
       "      <td>1.0</td>\n",
       "    </tr>\n",
       "    <tr>\n",
       "      <th>4749</th>\n",
       "      <td>1801.0</td>\n",
       "      <td>GLCTLVAML A0201</td>\n",
       "      <td>NaN</td>\n",
       "      <td>NaN</td>\n",
       "      <td>1.0</td>\n",
       "    </tr>\n",
       "    <tr>\n",
       "      <th>4803</th>\n",
       "      <td>5.0</td>\n",
       "      <td>NLVPMVATV A0201</td>\n",
       "      <td>NaN</td>\n",
       "      <td>NaN</td>\n",
       "      <td>1.0</td>\n",
       "    </tr>\n",
       "    <tr>\n",
       "      <th>4839</th>\n",
       "      <td>6649.0</td>\n",
       "      <td>NLVPMVATV A0201</td>\n",
       "      <td>NaN</td>\n",
       "      <td>NaN</td>\n",
       "      <td>1.0</td>\n",
       "    </tr>\n",
       "    <tr>\n",
       "      <th>5283</th>\n",
       "      <td>5494.0</td>\n",
       "      <td>NLVPMVATV A0201</td>\n",
       "      <td>NaN</td>\n",
       "      <td>NaN</td>\n",
       "      <td>1.0</td>\n",
       "    </tr>\n",
       "    <tr>\n",
       "      <th>5683</th>\n",
       "      <td>5165.0</td>\n",
       "      <td>NLVPMVATV A0201</td>\n",
       "      <td>NaN</td>\n",
       "      <td>NaN</td>\n",
       "      <td>1.0</td>\n",
       "    </tr>\n",
       "    <tr>\n",
       "      <th>5699</th>\n",
       "      <td>1707.0</td>\n",
       "      <td>NLVPMVATV A0201</td>\n",
       "      <td>NaN</td>\n",
       "      <td>NaN</td>\n",
       "      <td>19.0</td>\n",
       "    </tr>\n",
       "    <tr>\n",
       "      <th>5702</th>\n",
       "      <td>993.0</td>\n",
       "      <td>GLCTLVAML A0201</td>\n",
       "      <td>NaN</td>\n",
       "      <td>NaN</td>\n",
       "      <td>10.0</td>\n",
       "    </tr>\n",
       "    <tr>\n",
       "      <th>5920</th>\n",
       "      <td>4201.0</td>\n",
       "      <td>GLCTLVAML A0201</td>\n",
       "      <td>NaN</td>\n",
       "      <td>NaN</td>\n",
       "      <td>2.0</td>\n",
       "    </tr>\n",
       "    <tr>\n",
       "      <th>6013</th>\n",
       "      <td>953.0</td>\n",
       "      <td>GILGFVFTL A0201</td>\n",
       "      <td>NaN</td>\n",
       "      <td>NaN</td>\n",
       "      <td>2.0</td>\n",
       "    </tr>\n",
       "    <tr>\n",
       "      <th>6033</th>\n",
       "      <td>278.0</td>\n",
       "      <td>GLCTLVAML A0201</td>\n",
       "      <td>NaN</td>\n",
       "      <td>NaN</td>\n",
       "      <td>25.0</td>\n",
       "    </tr>\n",
       "  </tbody>\n",
       "</table>\n",
       "</div>"
      ],
      "text/plain": [
       "          ct      peptide_HLA      VDJdb_pep VDJdb_check  umi_count_mhc\n",
       "492     28.0  NLVPMVATV A0201            NaN         NaN            1.0\n",
       "521    848.0  GILGFVFTL A0201            NaN         NaN           26.0\n",
       "722    472.0  NLVPMVATV A0201            NaN         NaN            9.0\n",
       "795    604.0  GILGFVFTL A0201            NaN         NaN            9.0\n",
       "837   2302.0  GLCTLVAML A0201            NaN         NaN           21.0\n",
       "1024   573.0  GLCTLVAML A0201            NaN         NaN           15.0\n",
       "1269  2190.0  GLCTLVAML A0201            NaN         NaN            1.0\n",
       "1478   225.0  GLCTLVAML A0201            NaN         NaN            4.0\n",
       "1870  1984.0  NLVPMVATV A0201  ['NLVPMVATV']        True           26.0\n",
       "1916   478.0  GLCTLVAML A0201  ['GLCTLVAML']        True           23.0\n",
       "2052    22.0  NLVPMVATV A0201            NaN         NaN            2.0\n",
       "2332   278.0  GLCTLVAML A0201  ['GLCTLVAML']        True           23.0\n",
       "2573   312.0  NLVPMVATV A0201            NaN         NaN            1.0\n",
       "3029    22.0  GLCTLVAML A0201            NaN         NaN            2.0\n",
       "3063   811.0  NLVPMVATV A0201            NaN         NaN           21.0\n",
       "3131  1985.0  NLVPMVATV A0201  ['NLVPMVATV']        True           24.0\n",
       "3183   340.0  GLCTLVAML A0201            NaN         NaN            1.0\n",
       "4135  5069.0  GLCTLVAML A0201            NaN         NaN            1.0\n",
       "4257   993.0  GLCTLVAML A0201            NaN         NaN            3.0\n",
       "4292   450.0  GLCTLVAML A0201            NaN         NaN            9.0\n",
       "4392   240.0  GLCTLVAML A0201            NaN         NaN            1.0\n",
       "4568  1260.0  GILGFVFTL A0201            NaN         NaN            8.0\n",
       "4720     7.0  GLCTLVAML A0201            NaN         NaN            1.0\n",
       "4749  1801.0  GLCTLVAML A0201            NaN         NaN            1.0\n",
       "4803     5.0  NLVPMVATV A0201            NaN         NaN            1.0\n",
       "4839  6649.0  NLVPMVATV A0201            NaN         NaN            1.0\n",
       "5283  5494.0  NLVPMVATV A0201            NaN         NaN            1.0\n",
       "5683  5165.0  NLVPMVATV A0201            NaN         NaN            1.0\n",
       "5699  1707.0  NLVPMVATV A0201            NaN         NaN           19.0\n",
       "5702   993.0  GLCTLVAML A0201            NaN         NaN           10.0\n",
       "5920  4201.0  GLCTLVAML A0201            NaN         NaN            2.0\n",
       "6013   953.0  GILGFVFTL A0201            NaN         NaN            2.0\n",
       "6033   278.0  GLCTLVAML A0201            NaN         NaN           25.0"
      ]
     },
     "execution_count": 41,
     "metadata": {},
     "output_type": "execute_result"
    }
   ],
   "source": [
    "raw.loc[\n",
    "    raw.peptide_HLA.isin(['NLVPMVATV A0201', 'GILGFVFTL A0201','GLCTLVAML A0201']),\n",
    "    ['ct','peptide_HLA','VDJdb_pep','VDJdb_check','umi_count_mhc']\n",
    "]"
   ]
  },
  {
   "cell_type": "code",
   "execution_count": 42,
   "metadata": {},
   "outputs": [
    {
     "data": {
      "text/html": [
       "<div>\n",
       "<style scoped>\n",
       "    .dataframe tbody tr th:only-of-type {\n",
       "        vertical-align: middle;\n",
       "    }\n",
       "\n",
       "    .dataframe tbody tr th {\n",
       "        vertical-align: top;\n",
       "    }\n",
       "\n",
       "    .dataframe thead th {\n",
       "        text-align: right;\n",
       "    }\n",
       "</style>\n",
       "<table border=\"1\" class=\"dataframe\">\n",
       "  <thead>\n",
       "    <tr style=\"text-align: right;\">\n",
       "      <th></th>\n",
       "      <th>ct</th>\n",
       "      <th>peptide_HLA</th>\n",
       "      <th>VDJdb_pep</th>\n",
       "      <th>VDJdb_check</th>\n",
       "    </tr>\n",
       "  </thead>\n",
       "  <tbody>\n",
       "    <tr>\n",
       "      <th>521</th>\n",
       "      <td>848.0</td>\n",
       "      <td>GILGFVFTL A0201</td>\n",
       "      <td>NaN</td>\n",
       "      <td>NaN</td>\n",
       "    </tr>\n",
       "    <tr>\n",
       "      <th>722</th>\n",
       "      <td>472.0</td>\n",
       "      <td>NLVPMVATV A0201</td>\n",
       "      <td>NaN</td>\n",
       "      <td>NaN</td>\n",
       "    </tr>\n",
       "    <tr>\n",
       "      <th>795</th>\n",
       "      <td>604.0</td>\n",
       "      <td>GILGFVFTL A0201</td>\n",
       "      <td>NaN</td>\n",
       "      <td>NaN</td>\n",
       "    </tr>\n",
       "    <tr>\n",
       "      <th>837</th>\n",
       "      <td>2302.0</td>\n",
       "      <td>GLCTLVAML A0201</td>\n",
       "      <td>NaN</td>\n",
       "      <td>NaN</td>\n",
       "    </tr>\n",
       "    <tr>\n",
       "      <th>1024</th>\n",
       "      <td>573.0</td>\n",
       "      <td>GLCTLVAML A0201</td>\n",
       "      <td>NaN</td>\n",
       "      <td>NaN</td>\n",
       "    </tr>\n",
       "    <tr>\n",
       "      <th>1478</th>\n",
       "      <td>225.0</td>\n",
       "      <td>GLCTLVAML A0201</td>\n",
       "      <td>NaN</td>\n",
       "      <td>NaN</td>\n",
       "    </tr>\n",
       "    <tr>\n",
       "      <th>1870</th>\n",
       "      <td>1984.0</td>\n",
       "      <td>NLVPMVATV A0201</td>\n",
       "      <td>['NLVPMVATV']</td>\n",
       "      <td>True</td>\n",
       "    </tr>\n",
       "    <tr>\n",
       "      <th>1916</th>\n",
       "      <td>478.0</td>\n",
       "      <td>GLCTLVAML A0201</td>\n",
       "      <td>['GLCTLVAML']</td>\n",
       "      <td>True</td>\n",
       "    </tr>\n",
       "    <tr>\n",
       "      <th>2332</th>\n",
       "      <td>278.0</td>\n",
       "      <td>GLCTLVAML A0201</td>\n",
       "      <td>['GLCTLVAML']</td>\n",
       "      <td>True</td>\n",
       "    </tr>\n",
       "    <tr>\n",
       "      <th>3029</th>\n",
       "      <td>22.0</td>\n",
       "      <td>GLCTLVAML A0201</td>\n",
       "      <td>NaN</td>\n",
       "      <td>NaN</td>\n",
       "    </tr>\n",
       "    <tr>\n",
       "      <th>3063</th>\n",
       "      <td>811.0</td>\n",
       "      <td>NLVPMVATV A0201</td>\n",
       "      <td>NaN</td>\n",
       "      <td>NaN</td>\n",
       "    </tr>\n",
       "    <tr>\n",
       "      <th>3131</th>\n",
       "      <td>1985.0</td>\n",
       "      <td>NLVPMVATV A0201</td>\n",
       "      <td>['NLVPMVATV']</td>\n",
       "      <td>True</td>\n",
       "    </tr>\n",
       "    <tr>\n",
       "      <th>4292</th>\n",
       "      <td>450.0</td>\n",
       "      <td>GLCTLVAML A0201</td>\n",
       "      <td>NaN</td>\n",
       "      <td>NaN</td>\n",
       "    </tr>\n",
       "    <tr>\n",
       "      <th>4568</th>\n",
       "      <td>1260.0</td>\n",
       "      <td>GILGFVFTL A0201</td>\n",
       "      <td>NaN</td>\n",
       "      <td>NaN</td>\n",
       "    </tr>\n",
       "    <tr>\n",
       "      <th>5699</th>\n",
       "      <td>1707.0</td>\n",
       "      <td>NLVPMVATV A0201</td>\n",
       "      <td>NaN</td>\n",
       "      <td>NaN</td>\n",
       "    </tr>\n",
       "    <tr>\n",
       "      <th>5702</th>\n",
       "      <td>993.0</td>\n",
       "      <td>GLCTLVAML A0201</td>\n",
       "      <td>NaN</td>\n",
       "      <td>NaN</td>\n",
       "    </tr>\n",
       "    <tr>\n",
       "      <th>6013</th>\n",
       "      <td>953.0</td>\n",
       "      <td>GILGFVFTL A0201</td>\n",
       "      <td>NaN</td>\n",
       "      <td>NaN</td>\n",
       "    </tr>\n",
       "    <tr>\n",
       "      <th>6033</th>\n",
       "      <td>278.0</td>\n",
       "      <td>GLCTLVAML A0201</td>\n",
       "      <td>NaN</td>\n",
       "      <td>NaN</td>\n",
       "    </tr>\n",
       "  </tbody>\n",
       "</table>\n",
       "</div>"
      ],
      "text/plain": [
       "          ct      peptide_HLA      VDJdb_pep VDJdb_check\n",
       "521    848.0  GILGFVFTL A0201            NaN         NaN\n",
       "722    472.0  NLVPMVATV A0201            NaN         NaN\n",
       "795    604.0  GILGFVFTL A0201            NaN         NaN\n",
       "837   2302.0  GLCTLVAML A0201            NaN         NaN\n",
       "1024   573.0  GLCTLVAML A0201            NaN         NaN\n",
       "1478   225.0  GLCTLVAML A0201            NaN         NaN\n",
       "1870  1984.0  NLVPMVATV A0201  ['NLVPMVATV']        True\n",
       "1916   478.0  GLCTLVAML A0201  ['GLCTLVAML']        True\n",
       "2332   278.0  GLCTLVAML A0201  ['GLCTLVAML']        True\n",
       "3029    22.0  GLCTLVAML A0201            NaN         NaN\n",
       "3063   811.0  NLVPMVATV A0201            NaN         NaN\n",
       "3131  1985.0  NLVPMVATV A0201  ['NLVPMVATV']        True\n",
       "4292   450.0  GLCTLVAML A0201            NaN         NaN\n",
       "4568  1260.0  GILGFVFTL A0201            NaN         NaN\n",
       "5699  1707.0  NLVPMVATV A0201            NaN         NaN\n",
       "5702   993.0  GLCTLVAML A0201            NaN         NaN\n",
       "6013   953.0  GILGFVFTL A0201            NaN         NaN\n",
       "6033   278.0  GLCTLVAML A0201            NaN         NaN"
      ]
     },
     "execution_count": 42,
     "metadata": {},
     "output_type": "execute_result"
    }
   ],
   "source": [
    "flt.loc[\n",
    "    flt.peptide_HLA.isin(['NLVPMVATV A0201', 'GILGFVFTL A0201','GLCTLVAML A0201']),\n",
    "    ['ct','peptide_HLA','VDJdb_pep','VDJdb_check']\n",
    "]"
   ]
  },
  {
   "cell_type": "code",
   "execution_count": 43,
   "metadata": {},
   "outputs": [
    {
     "data": {
      "text/html": [
       "<div>\n",
       "<style scoped>\n",
       "    .dataframe tbody tr th:only-of-type {\n",
       "        vertical-align: middle;\n",
       "    }\n",
       "\n",
       "    .dataframe tbody tr th {\n",
       "        vertical-align: top;\n",
       "    }\n",
       "\n",
       "    .dataframe thead th {\n",
       "        text-align: right;\n",
       "    }\n",
       "</style>\n",
       "<table border=\"1\" class=\"dataframe\">\n",
       "  <thead>\n",
       "    <tr style=\"text-align: right;\">\n",
       "      <th></th>\n",
       "      <th>ct</th>\n",
       "      <th>peptide_HLA</th>\n",
       "      <th>VDJdb_pep</th>\n",
       "      <th>VDJdb_check</th>\n",
       "    </tr>\n",
       "  </thead>\n",
       "  <tbody>\n",
       "    <tr>\n",
       "      <th>521</th>\n",
       "      <td>848.0</td>\n",
       "      <td>GILGFVFTL A0201</td>\n",
       "      <td>NaN</td>\n",
       "      <td>NaN</td>\n",
       "    </tr>\n",
       "    <tr>\n",
       "      <th>722</th>\n",
       "      <td>472.0</td>\n",
       "      <td>NLVPMVATV A0201</td>\n",
       "      <td>NaN</td>\n",
       "      <td>NaN</td>\n",
       "    </tr>\n",
       "    <tr>\n",
       "      <th>795</th>\n",
       "      <td>604.0</td>\n",
       "      <td>GILGFVFTL A0201</td>\n",
       "      <td>NaN</td>\n",
       "      <td>NaN</td>\n",
       "    </tr>\n",
       "    <tr>\n",
       "      <th>837</th>\n",
       "      <td>2302.0</td>\n",
       "      <td>GLCTLVAML A0201</td>\n",
       "      <td>NaN</td>\n",
       "      <td>NaN</td>\n",
       "    </tr>\n",
       "    <tr>\n",
       "      <th>1024</th>\n",
       "      <td>573.0</td>\n",
       "      <td>GLCTLVAML A0201</td>\n",
       "      <td>NaN</td>\n",
       "      <td>NaN</td>\n",
       "    </tr>\n",
       "    <tr>\n",
       "      <th>1478</th>\n",
       "      <td>225.0</td>\n",
       "      <td>GLCTLVAML A0201</td>\n",
       "      <td>NaN</td>\n",
       "      <td>NaN</td>\n",
       "    </tr>\n",
       "    <tr>\n",
       "      <th>1870</th>\n",
       "      <td>1984.0</td>\n",
       "      <td>NLVPMVATV A0201</td>\n",
       "      <td>['NLVPMVATV']</td>\n",
       "      <td>True</td>\n",
       "    </tr>\n",
       "    <tr>\n",
       "      <th>1916</th>\n",
       "      <td>478.0</td>\n",
       "      <td>GLCTLVAML A0201</td>\n",
       "      <td>['GLCTLVAML']</td>\n",
       "      <td>True</td>\n",
       "    </tr>\n",
       "    <tr>\n",
       "      <th>2332</th>\n",
       "      <td>278.0</td>\n",
       "      <td>GLCTLVAML A0201</td>\n",
       "      <td>['GLCTLVAML']</td>\n",
       "      <td>True</td>\n",
       "    </tr>\n",
       "    <tr>\n",
       "      <th>3029</th>\n",
       "      <td>22.0</td>\n",
       "      <td>GLCTLVAML A0201</td>\n",
       "      <td>NaN</td>\n",
       "      <td>NaN</td>\n",
       "    </tr>\n",
       "    <tr>\n",
       "      <th>3063</th>\n",
       "      <td>811.0</td>\n",
       "      <td>NLVPMVATV A0201</td>\n",
       "      <td>NaN</td>\n",
       "      <td>NaN</td>\n",
       "    </tr>\n",
       "    <tr>\n",
       "      <th>3131</th>\n",
       "      <td>1985.0</td>\n",
       "      <td>NLVPMVATV A0201</td>\n",
       "      <td>['NLVPMVATV']</td>\n",
       "      <td>True</td>\n",
       "    </tr>\n",
       "    <tr>\n",
       "      <th>4292</th>\n",
       "      <td>450.0</td>\n",
       "      <td>GLCTLVAML A0201</td>\n",
       "      <td>NaN</td>\n",
       "      <td>NaN</td>\n",
       "    </tr>\n",
       "    <tr>\n",
       "      <th>4568</th>\n",
       "      <td>1260.0</td>\n",
       "      <td>GILGFVFTL A0201</td>\n",
       "      <td>NaN</td>\n",
       "      <td>NaN</td>\n",
       "    </tr>\n",
       "    <tr>\n",
       "      <th>5699</th>\n",
       "      <td>1707.0</td>\n",
       "      <td>NLVPMVATV A0201</td>\n",
       "      <td>NaN</td>\n",
       "      <td>NaN</td>\n",
       "    </tr>\n",
       "    <tr>\n",
       "      <th>5702</th>\n",
       "      <td>993.0</td>\n",
       "      <td>GLCTLVAML A0201</td>\n",
       "      <td>NaN</td>\n",
       "      <td>NaN</td>\n",
       "    </tr>\n",
       "    <tr>\n",
       "      <th>6013</th>\n",
       "      <td>953.0</td>\n",
       "      <td>GILGFVFTL A0201</td>\n",
       "      <td>NaN</td>\n",
       "      <td>NaN</td>\n",
       "    </tr>\n",
       "    <tr>\n",
       "      <th>6033</th>\n",
       "      <td>278.0</td>\n",
       "      <td>GLCTLVAML A0201</td>\n",
       "      <td>NaN</td>\n",
       "      <td>NaN</td>\n",
       "    </tr>\n",
       "  </tbody>\n",
       "</table>\n",
       "</div>"
      ],
      "text/plain": [
       "          ct      peptide_HLA      VDJdb_pep VDJdb_check\n",
       "521    848.0  GILGFVFTL A0201            NaN         NaN\n",
       "722    472.0  NLVPMVATV A0201            NaN         NaN\n",
       "795    604.0  GILGFVFTL A0201            NaN         NaN\n",
       "837   2302.0  GLCTLVAML A0201            NaN         NaN\n",
       "1024   573.0  GLCTLVAML A0201            NaN         NaN\n",
       "1478   225.0  GLCTLVAML A0201            NaN         NaN\n",
       "1870  1984.0  NLVPMVATV A0201  ['NLVPMVATV']        True\n",
       "1916   478.0  GLCTLVAML A0201  ['GLCTLVAML']        True\n",
       "2332   278.0  GLCTLVAML A0201  ['GLCTLVAML']        True\n",
       "3029    22.0  GLCTLVAML A0201            NaN         NaN\n",
       "3063   811.0  NLVPMVATV A0201            NaN         NaN\n",
       "3131  1985.0  NLVPMVATV A0201  ['NLVPMVATV']        True\n",
       "4292   450.0  GLCTLVAML A0201            NaN         NaN\n",
       "4568  1260.0  GILGFVFTL A0201            NaN         NaN\n",
       "5699  1707.0  NLVPMVATV A0201            NaN         NaN\n",
       "5702   993.0  GLCTLVAML A0201            NaN         NaN\n",
       "6013   953.0  GILGFVFTL A0201            NaN         NaN\n",
       "6033   278.0  GLCTLVAML A0201            NaN         NaN"
      ]
     },
     "execution_count": 43,
     "metadata": {},
     "output_type": "execute_result"
    }
   ],
   "source": [
    "hla.loc[\n",
    "    hla.peptide_HLA.isin(['NLVPMVATV A0201', 'GILGFVFTL A0201','GLCTLVAML A0201']),\n",
    "    ['ct','peptide_HLA','VDJdb_pep','VDJdb_check']\n",
    "]"
   ]
  },
  {
   "cell_type": "code",
   "execution_count": 40,
   "metadata": {},
   "outputs": [
    {
     "data": {
      "text/html": [
       "<div>\n",
       "<style scoped>\n",
       "    .dataframe tbody tr th:only-of-type {\n",
       "        vertical-align: middle;\n",
       "    }\n",
       "\n",
       "    .dataframe tbody tr th {\n",
       "        vertical-align: top;\n",
       "    }\n",
       "\n",
       "    .dataframe thead th {\n",
       "        text-align: right;\n",
       "    }\n",
       "</style>\n",
       "<table border=\"1\" class=\"dataframe\">\n",
       "  <thead>\n",
       "    <tr style=\"text-align: right;\">\n",
       "      <th></th>\n",
       "      <th>ct</th>\n",
       "      <th>peptide_HLA</th>\n",
       "      <th>VDJdb_pep</th>\n",
       "      <th>VDJdb_check</th>\n",
       "    </tr>\n",
       "  </thead>\n",
       "  <tbody>\n",
       "    <tr>\n",
       "      <th>1870</th>\n",
       "      <td>1984.0</td>\n",
       "      <td>NLVPMVATV A0201</td>\n",
       "      <td>['NLVPMVATV']</td>\n",
       "      <td>True</td>\n",
       "    </tr>\n",
       "    <tr>\n",
       "      <th>1916</th>\n",
       "      <td>478.0</td>\n",
       "      <td>GLCTLVAML A0201</td>\n",
       "      <td>['GLCTLVAML']</td>\n",
       "      <td>True</td>\n",
       "    </tr>\n",
       "    <tr>\n",
       "      <th>2332</th>\n",
       "      <td>278.0</td>\n",
       "      <td>GLCTLVAML A0201</td>\n",
       "      <td>['GLCTLVAML']</td>\n",
       "      <td>True</td>\n",
       "    </tr>\n",
       "    <tr>\n",
       "      <th>3131</th>\n",
       "      <td>1985.0</td>\n",
       "      <td>NLVPMVATV A0201</td>\n",
       "      <td>['NLVPMVATV']</td>\n",
       "      <td>True</td>\n",
       "    </tr>\n",
       "  </tbody>\n",
       "</table>\n",
       "</div>"
      ],
      "text/plain": [
       "          ct      peptide_HLA      VDJdb_pep VDJdb_check\n",
       "1870  1984.0  NLVPMVATV A0201  ['NLVPMVATV']        True\n",
       "1916   478.0  GLCTLVAML A0201  ['GLCTLVAML']        True\n",
       "2332   278.0  GLCTLVAML A0201  ['GLCTLVAML']        True\n",
       "3131  1985.0  NLVPMVATV A0201  ['NLVPMVATV']        True"
      ]
     },
     "execution_count": 40,
     "metadata": {},
     "output_type": "execute_result"
    }
   ],
   "source": [
    "tcr.loc[\n",
    "    tcr.peptide_HLA.isin(['NLVPMVATV A0201', 'GILGFVFTL A0201','GLCTLVAML A0201']),\n",
    "    ['ct','peptide_HLA','VDJdb_pep','VDJdb_check']\n",
    "].dropna()"
   ]
  },
  {
   "cell_type": "markdown",
   "metadata": {},
   "source": [
    "### Counting GEMs"
   ]
  },
  {
   "cell_type": "code",
   "execution_count": 106,
   "metadata": {},
   "outputs": [
    {
     "data": {
      "text/plain": [
       "array(['RPHERNGFTVL B0702', 'RVRAYTYSK A0301', 'CLGGLLTMV A0201',\n",
       "       'TPRVTGGGAM B0702', 'YVLDHLIVV A0201', 'TPSVSSSISSL B0702',\n",
       "       'VLEETSVML A0201', 'RPHERNGFTV B0702', 'RPPIFIRRL B0702',\n",
       "       'FLYALALLL A0201', 'NLVPMVATV A0201', 'GILGFVFTL A0201',\n",
       "       'GLCTLVAML A0201'], dtype=object)"
      ]
     },
     "execution_count": 106,
     "metadata": {},
     "output_type": "execute_result"
    }
   ],
   "source": [
    "raw.peptide_HLA.unique()"
   ]
  },
  {
   "cell_type": "code",
   "execution_count": 117,
   "metadata": {},
   "outputs": [],
   "source": [
    "query_peps = ['NLVPMVATV A0201', 'GILGFVFTL A0201','GLCTLVAML A0201']\n",
    "query_peps = ['CLGGLLTMV A0201']"
   ]
  },
  {
   "cell_type": "code",
   "execution_count": 118,
   "metadata": {},
   "outputs": [],
   "source": [
    "f1 = raw.peptide_HLA_lst.apply(lambda x: any([p in x for p in query_peps]))\n",
    "f2 = raw.peptide_HLA.isin(query_peps)"
   ]
  },
  {
   "cell_type": "code",
   "execution_count": 119,
   "metadata": {},
   "outputs": [],
   "source": [
    "def get_idx(list1, list2):\n",
    "    return max([xi for (xi, x) in enumerate(list1) for (xp, y) in enumerate(list2) if x==y])"
   ]
  },
  {
   "cell_type": "code",
   "execution_count": 120,
   "metadata": {},
   "outputs": [],
   "source": [
    "def get_val(list1, list2):\n",
    "    return \", \".join([x for (xi, x) in enumerate(list1) for (xp, y) in enumerate(list2) if x==y] + [list1[-1]])"
   ]
  },
  {
   "cell_type": "code",
   "execution_count": 121,
   "metadata": {},
   "outputs": [],
   "source": [
    "neg = raw[~f2 & f1].copy()"
   ]
  },
  {
   "cell_type": "code",
   "execution_count": 122,
   "metadata": {},
   "outputs": [],
   "source": [
    "neg['pep_idx'] = neg.peptide_HLA_lst.str.split('|').apply(lambda x: get_idx(x, query_peps))"
   ]
  },
  {
   "cell_type": "code",
   "execution_count": 123,
   "metadata": {},
   "outputs": [],
   "source": [
    "neg['pep'] = neg.peptide_HLA_lst.str.split('|').apply(lambda x: get_val(x, query_peps))\n",
    "neg['pep_umi'] = neg.apply(lambda row: \", \".join([row.umi_count_lst_mhc.split('|')[i] for i in [int(row.pep_idx), -1]]), axis=1)\n",
    "neg['pep_del'] = neg.pep_umi.str.split(\", \").apply(lambda x: float(x[-1])/(float(x[0])+0.25))"
   ]
  },
  {
   "cell_type": "code",
   "execution_count": 131,
   "metadata": {},
   "outputs": [
    {
     "name": "stderr",
     "output_type": "stream",
     "text": [
      "/home/people/herpov/.conda/envs/snakemake/lib/python3.7/site-packages/ipykernel_launcher.py:1: UserWarning: Boolean Series key will be reindexed to match DataFrame index.\n",
      "  \"\"\"Entry point for launching an IPython kernel.\n"
     ]
    },
    {
     "data": {
      "text/plain": [
       "1.0     523\n",
       "2.0      78\n",
       "3.0       8\n",
       "5.0       2\n",
       "9.0       2\n",
       "8.0       2\n",
       "10.0      1\n",
       "6.0       1\n",
       "16.0      1\n",
       "dtype: int64"
      ]
     },
     "execution_count": 131,
     "metadata": {},
     "output_type": "execute_result"
    }
   ],
   "source": [
    "neg[~f2 & f1].apply(lambda row: row.umi_count_lst_mhc.split('|')[int(row.pep_idx)], axis=1).value_counts()"
   ]
  },
  {
   "cell_type": "code",
   "execution_count": 147,
   "metadata": {},
   "outputs": [
    {
     "data": {
      "text/plain": [
       "(565, 4)"
      ]
     },
     "execution_count": 147,
     "metadata": {},
     "output_type": "execute_result"
    }
   ],
   "source": [
    "neg.loc[neg.pep_del > 0.89, ['pep','pep_umi','pep_del', 'HLA_cd8']].shape #.sort_values(by='pep_del').head(20)"
   ]
  },
  {
   "cell_type": "code",
   "execution_count": 148,
   "metadata": {},
   "outputs": [
    {
     "data": {
      "text/plain": [
       "618"
      ]
     },
     "execution_count": 148,
     "metadata": {},
     "output_type": "execute_result"
    }
   ],
   "source": [
    "565+53"
   ]
  },
  {
   "cell_type": "code",
   "execution_count": 130,
   "metadata": {},
   "outputs": [
    {
     "data": {
      "text/html": [
       "<div>\n",
       "<style scoped>\n",
       "    .dataframe tbody tr th:only-of-type {\n",
       "        vertical-align: middle;\n",
       "    }\n",
       "\n",
       "    .dataframe tbody tr th {\n",
       "        vertical-align: top;\n",
       "    }\n",
       "\n",
       "    .dataframe thead th {\n",
       "        text-align: right;\n",
       "    }\n",
       "</style>\n",
       "<table border=\"1\" class=\"dataframe\">\n",
       "  <thead>\n",
       "    <tr style=\"text-align: right;\">\n",
       "      <th></th>\n",
       "      <th>gem</th>\n",
       "      <th>clonotype</th>\n",
       "      <th>ct</th>\n",
       "      <th>genes_TRA</th>\n",
       "      <th>genes_lst_TRA</th>\n",
       "      <th>genes_TRB</th>\n",
       "      <th>genes_lst_TRB</th>\n",
       "      <th>cdr3_TRA</th>\n",
       "      <th>cdr3_lst_TRA</th>\n",
       "      <th>cdr3_TRB</th>\n",
       "      <th>...</th>\n",
       "      <th>sample_id_lst</th>\n",
       "      <th>umi_count_cd8</th>\n",
       "      <th>umi_count_lst_cd8</th>\n",
       "      <th>HLA_cd8</th>\n",
       "      <th>HLA_match</th>\n",
       "      <th>valid_ct</th>\n",
       "      <th>ct_pep</th>\n",
       "      <th>VDJdb_pep</th>\n",
       "      <th>VDJdb_check</th>\n",
       "      <th>delta_umi_mhc</th>\n",
       "    </tr>\n",
       "  </thead>\n",
       "  <tbody>\n",
       "    <tr>\n",
       "      <th>3</th>\n",
       "      <td>AAACCTGCAGCCAGAA-1</td>\n",
       "      <td>clonotype79</td>\n",
       "      <td>79.0</td>\n",
       "      <td>TRAV21;TRAJ33;TRAC</td>\n",
       "      <td>TRAV21;TRAJ33;TRAC</td>\n",
       "      <td>TRBV10-2;;TRBJ1-1;TRBC1</td>\n",
       "      <td>TRBV10-2;;TRBJ1-1;TRBC1</td>\n",
       "      <td>CAVLMDSNYQLIW</td>\n",
       "      <td>CAVLMDSNYQLIW</td>\n",
       "      <td>CASSADGMNTEAFF</td>\n",
       "      <td>...</td>\n",
       "      <td>6, 7, 2, 8, 10, 9, 1</td>\n",
       "      <td>4645.0</td>\n",
       "      <td>4.0|4.0|5.0|7.0|15.0|16.0|4645.0</td>\n",
       "      <td>A0201|B0702</td>\n",
       "      <td>True</td>\n",
       "      <td>False</td>\n",
       "      <td>NaN</td>\n",
       "      <td>NaN</td>\n",
       "      <td>NaN</td>\n",
       "      <td>15.200000</td>\n",
       "    </tr>\n",
       "    <tr>\n",
       "      <th>27</th>\n",
       "      <td>AAAGATGGTGCAGGTA-1</td>\n",
       "      <td>clonotype6</td>\n",
       "      <td>6.0</td>\n",
       "      <td>TRAV25;TRAJ28;TRAC</td>\n",
       "      <td>TRAV25;TRAJ28;TRAC</td>\n",
       "      <td>TRBV5-1;TRBD1;TRBJ2-7;TRBC2</td>\n",
       "      <td>TRBV5-1;TRBD1;TRBJ2-7;TRBC2</td>\n",
       "      <td>CAVSGAGSYQLTF</td>\n",
       "      <td>CAVSGAGSYQLTF</td>\n",
       "      <td>CASSLEGQASSYEQYF</td>\n",
       "      <td>...</td>\n",
       "      <td>3, 5, 7, 2, 6, 1, 8, 9, 4, 10</td>\n",
       "      <td>1492.0</td>\n",
       "      <td>2.0|5.0|11.0|12.0|12.0|15.0|17.0|18.0|49.0|1492.0</td>\n",
       "      <td>A0201|A0301|B0702</td>\n",
       "      <td>True</td>\n",
       "      <td>True</td>\n",
       "      <td>CLGGLLTMV A0201</td>\n",
       "      <td>NaN</td>\n",
       "      <td>NaN</td>\n",
       "      <td>10.153846</td>\n",
       "    </tr>\n",
       "    <tr>\n",
       "      <th>44</th>\n",
       "      <td>AAATGCCAGAACAACT-1</td>\n",
       "      <td>clonotype36</td>\n",
       "      <td>36.0</td>\n",
       "      <td>TRAV38-1;TRAJ7;TRAC</td>\n",
       "      <td>TRAV38-1;TRAJ7;TRAC</td>\n",
       "      <td>TRBV20-1;;TRBJ2-1;TRBC2</td>\n",
       "      <td>TRBV20-1;;TRBJ2-1;TRBC2</td>\n",
       "      <td>CAFNAVDGNNRLAF</td>\n",
       "      <td>CAFNAVDGNNRLAF</td>\n",
       "      <td>CSAEEWTSGYNEQFF</td>\n",
       "      <td>...</td>\n",
       "      <td>3, 1, 2, 5, 7, 9, 8, 6, 10, 4</td>\n",
       "      <td>473.0</td>\n",
       "      <td>1.0|2.0|2.0|2.0|3.0|3.0|4.0|5.0|16.0|473.0</td>\n",
       "      <td>A0301|B0702</td>\n",
       "      <td>False</td>\n",
       "      <td>False</td>\n",
       "      <td>CLGGLLTMV A0201</td>\n",
       "      <td>NaN</td>\n",
       "      <td>NaN</td>\n",
       "      <td>3.200000</td>\n",
       "    </tr>\n",
       "    <tr>\n",
       "      <th>91</th>\n",
       "      <td>AACTCCCCATGGATGG-1</td>\n",
       "      <td>clonotype6</td>\n",
       "      <td>6.0</td>\n",
       "      <td>TRAV25;TRAJ28;TRAC</td>\n",
       "      <td>TRAV25;TRAJ28;TRAC</td>\n",
       "      <td>TRBV5-1;TRBD1;TRBJ2-7;TRBC2</td>\n",
       "      <td>TRBV5-1;TRBD1;TRBJ2-7;TRBC2</td>\n",
       "      <td>CAVSGAGSYQLTF</td>\n",
       "      <td>CAVSGAGSYQLTF</td>\n",
       "      <td>CASSLEGQASSYEQYF</td>\n",
       "      <td>...</td>\n",
       "      <td>3, 4, 5, 2, 9, 7, 6, 8, 1, 10</td>\n",
       "      <td>1415.0</td>\n",
       "      <td>1.0|1.0|1.0|3.0|3.0|4.0|5.0|5.0|10.0|1415.0</td>\n",
       "      <td>A0201|A0301|B0702</td>\n",
       "      <td>True</td>\n",
       "      <td>True</td>\n",
       "      <td>CLGGLLTMV A0201</td>\n",
       "      <td>NaN</td>\n",
       "      <td>NaN</td>\n",
       "      <td>16.444444</td>\n",
       "    </tr>\n",
       "    <tr>\n",
       "      <th>132</th>\n",
       "      <td>AAGACCTCAACACCTA-1</td>\n",
       "      <td>clonotype6</td>\n",
       "      <td>6.0</td>\n",
       "      <td>TRAV25;TRAJ28;TRAC</td>\n",
       "      <td>TRAV25;TRAJ28;TRAC</td>\n",
       "      <td>TRBV5-1;TRBD1;TRBJ2-7;TRBC2</td>\n",
       "      <td>TRBV5-1;TRBD1;TRBJ2-7;TRBC2</td>\n",
       "      <td>CAVSGAGSYQLTF</td>\n",
       "      <td>CAVSGAGSYQLTF</td>\n",
       "      <td>CASSLEGQASSYEQYF</td>\n",
       "      <td>...</td>\n",
       "      <td>5, 3, 6, 7, 8, 9, 2, 1, 10</td>\n",
       "      <td>2461.0</td>\n",
       "      <td>1.0|2.0|3.0|4.0|4.0|6.0|11.0|12.0|2461.0</td>\n",
       "      <td>A0201|A0301|B0702</td>\n",
       "      <td>True</td>\n",
       "      <td>True</td>\n",
       "      <td>CLGGLLTMV A0201</td>\n",
       "      <td>NaN</td>\n",
       "      <td>NaN</td>\n",
       "      <td>26.222222</td>\n",
       "    </tr>\n",
       "    <tr>\n",
       "      <th>...</th>\n",
       "      <td>...</td>\n",
       "      <td>...</td>\n",
       "      <td>...</td>\n",
       "      <td>...</td>\n",
       "      <td>...</td>\n",
       "      <td>...</td>\n",
       "      <td>...</td>\n",
       "      <td>...</td>\n",
       "      <td>...</td>\n",
       "      <td>...</td>\n",
       "      <td>...</td>\n",
       "      <td>...</td>\n",
       "      <td>...</td>\n",
       "      <td>...</td>\n",
       "      <td>...</td>\n",
       "      <td>...</td>\n",
       "      <td>...</td>\n",
       "      <td>...</td>\n",
       "      <td>...</td>\n",
       "      <td>...</td>\n",
       "      <td>...</td>\n",
       "    </tr>\n",
       "    <tr>\n",
       "      <th>5898</th>\n",
       "      <td>TGCTGCTAGGTGCTAG-1</td>\n",
       "      <td>NaN</td>\n",
       "      <td>4744.0</td>\n",
       "      <td>NaN</td>\n",
       "      <td>NaN</td>\n",
       "      <td>TRBV4-2;;TRBJ2-7;TRBC2</td>\n",
       "      <td>TRBV4-2;;TRBJ2-7;TRBC2</td>\n",
       "      <td>NaN</td>\n",
       "      <td>NaN</td>\n",
       "      <td>CASSQDVASGSYEQYF</td>\n",
       "      <td>...</td>\n",
       "      <td>9, 2, 3, 5, 4, 6, 7, 8, 1, 10</td>\n",
       "      <td>36.0</td>\n",
       "      <td>1.0|2.0|2.0|2.0|3.0|4.0|6.0|6.0|9.0|36.0</td>\n",
       "      <td>A0201|A0301|B0702</td>\n",
       "      <td>True</td>\n",
       "      <td>False</td>\n",
       "      <td>NaN</td>\n",
       "      <td>NaN</td>\n",
       "      <td>NaN</td>\n",
       "      <td>4.000000</td>\n",
       "    </tr>\n",
       "    <tr>\n",
       "      <th>5914</th>\n",
       "      <td>TGGCGCAGTGGACGAT-1</td>\n",
       "      <td>clonotype6</td>\n",
       "      <td>6.0</td>\n",
       "      <td>NaN</td>\n",
       "      <td>NaN</td>\n",
       "      <td>TRBV5-1;TRBD1;TRBJ2-7;TRBC2</td>\n",
       "      <td>TRBV5-1;TRBD1;TRBJ2-7;TRBC2</td>\n",
       "      <td>NaN</td>\n",
       "      <td>NaN</td>\n",
       "      <td>CASSLEGQASSYEQYF</td>\n",
       "      <td>...</td>\n",
       "      <td>3, 9, 7, 2, 6, 1, 8, 10</td>\n",
       "      <td>909.0</td>\n",
       "      <td>1.0|2.0|3.0|4.0|6.0|8.0|10.0|909.0</td>\n",
       "      <td>A0201|A0301|B0702</td>\n",
       "      <td>True</td>\n",
       "      <td>True</td>\n",
       "      <td>CLGGLLTMV A0201</td>\n",
       "      <td>NaN</td>\n",
       "      <td>NaN</td>\n",
       "      <td>15.111111</td>\n",
       "    </tr>\n",
       "    <tr>\n",
       "      <th>5992</th>\n",
       "      <td>TTCTACAAGTTTAGGA-1</td>\n",
       "      <td>clonotype6</td>\n",
       "      <td>6.0</td>\n",
       "      <td>NaN</td>\n",
       "      <td>NaN</td>\n",
       "      <td>TRBV5-1;TRBD1;TRBJ2-7;TRBC2</td>\n",
       "      <td>TRBV5-1;TRBD1;TRBJ2-7;TRBC2</td>\n",
       "      <td>NaN</td>\n",
       "      <td>NaN</td>\n",
       "      <td>CASSLEGQASSYEQYF</td>\n",
       "      <td>...</td>\n",
       "      <td>4, 5, 3, 6, 7, 8, 9, 1, 2, 10</td>\n",
       "      <td>881.0</td>\n",
       "      <td>1.0|1.0|2.0|2.0|2.0|2.0|2.0|3.0|3.0|881.0</td>\n",
       "      <td>A0201|A0301|B0702</td>\n",
       "      <td>True</td>\n",
       "      <td>True</td>\n",
       "      <td>CLGGLLTMV A0201</td>\n",
       "      <td>NaN</td>\n",
       "      <td>NaN</td>\n",
       "      <td>18.400000</td>\n",
       "    </tr>\n",
       "    <tr>\n",
       "      <th>5993</th>\n",
       "      <td>TTCTACACAAACGCGA-1</td>\n",
       "      <td>clonotype6</td>\n",
       "      <td>6.0</td>\n",
       "      <td>NaN</td>\n",
       "      <td>NaN</td>\n",
       "      <td>TRBV5-1;TRBD1;TRBJ2-7;TRBC2</td>\n",
       "      <td>TRBV5-1;TRBD1;TRBJ2-7;TRBC2</td>\n",
       "      <td>NaN</td>\n",
       "      <td>NaN</td>\n",
       "      <td>CASSLEGQASSYEQYF</td>\n",
       "      <td>...</td>\n",
       "      <td>2, 6, 4, 8, 1, 3, 9, 10</td>\n",
       "      <td>1404.0</td>\n",
       "      <td>2.0|3.0|4.0|4.0|6.0|6.0|8.0|1404.0</td>\n",
       "      <td>A0201|A0301|B0702</td>\n",
       "      <td>True</td>\n",
       "      <td>True</td>\n",
       "      <td>CLGGLLTMV A0201</td>\n",
       "      <td>NaN</td>\n",
       "      <td>NaN</td>\n",
       "      <td>20.800000</td>\n",
       "    </tr>\n",
       "    <tr>\n",
       "      <th>6032</th>\n",
       "      <td>TTGGCAATCAGTGTTG-1</td>\n",
       "      <td>clonotype6</td>\n",
       "      <td>6.0</td>\n",
       "      <td>NaN</td>\n",
       "      <td>NaN</td>\n",
       "      <td>TRBV5-1;TRBD1;TRBJ2-7;TRBC2</td>\n",
       "      <td>TRBV5-1;TRBD1;TRBJ2-7;TRBC2</td>\n",
       "      <td>NaN</td>\n",
       "      <td>NaN</td>\n",
       "      <td>CASSLEGQASSYEQYF</td>\n",
       "      <td>...</td>\n",
       "      <td>4, 5, 3, 7, 9, 2, 8, 1, 10, 6</td>\n",
       "      <td>1609.0</td>\n",
       "      <td>1.0|1.0|2.0|4.0|5.0|6.0|7.0|13.0|1067.0|1609.0</td>\n",
       "      <td>A0201|B0702</td>\n",
       "      <td>True</td>\n",
       "      <td>True</td>\n",
       "      <td>CLGGLLTMV A0201</td>\n",
       "      <td>NaN</td>\n",
       "      <td>NaN</td>\n",
       "      <td>2.240000</td>\n",
       "    </tr>\n",
       "  </tbody>\n",
       "</table>\n",
       "<p>227 rows × 30 columns</p>\n",
       "</div>"
      ],
      "text/plain": [
       "                     gem    clonotype      ct            genes_TRA  \\\n",
       "3     AAACCTGCAGCCAGAA-1  clonotype79    79.0   TRAV21;TRAJ33;TRAC   \n",
       "27    AAAGATGGTGCAGGTA-1   clonotype6     6.0   TRAV25;TRAJ28;TRAC   \n",
       "44    AAATGCCAGAACAACT-1  clonotype36    36.0  TRAV38-1;TRAJ7;TRAC   \n",
       "91    AACTCCCCATGGATGG-1   clonotype6     6.0   TRAV25;TRAJ28;TRAC   \n",
       "132   AAGACCTCAACACCTA-1   clonotype6     6.0   TRAV25;TRAJ28;TRAC   \n",
       "...                  ...          ...     ...                  ...   \n",
       "5898  TGCTGCTAGGTGCTAG-1          NaN  4744.0                  NaN   \n",
       "5914  TGGCGCAGTGGACGAT-1   clonotype6     6.0                  NaN   \n",
       "5992  TTCTACAAGTTTAGGA-1   clonotype6     6.0                  NaN   \n",
       "5993  TTCTACACAAACGCGA-1   clonotype6     6.0                  NaN   \n",
       "6032  TTGGCAATCAGTGTTG-1   clonotype6     6.0                  NaN   \n",
       "\n",
       "            genes_lst_TRA                    genes_TRB  \\\n",
       "3      TRAV21;TRAJ33;TRAC      TRBV10-2;;TRBJ1-1;TRBC1   \n",
       "27     TRAV25;TRAJ28;TRAC  TRBV5-1;TRBD1;TRBJ2-7;TRBC2   \n",
       "44    TRAV38-1;TRAJ7;TRAC      TRBV20-1;;TRBJ2-1;TRBC2   \n",
       "91     TRAV25;TRAJ28;TRAC  TRBV5-1;TRBD1;TRBJ2-7;TRBC2   \n",
       "132    TRAV25;TRAJ28;TRAC  TRBV5-1;TRBD1;TRBJ2-7;TRBC2   \n",
       "...                   ...                          ...   \n",
       "5898                  NaN       TRBV4-2;;TRBJ2-7;TRBC2   \n",
       "5914                  NaN  TRBV5-1;TRBD1;TRBJ2-7;TRBC2   \n",
       "5992                  NaN  TRBV5-1;TRBD1;TRBJ2-7;TRBC2   \n",
       "5993                  NaN  TRBV5-1;TRBD1;TRBJ2-7;TRBC2   \n",
       "6032                  NaN  TRBV5-1;TRBD1;TRBJ2-7;TRBC2   \n",
       "\n",
       "                    genes_lst_TRB        cdr3_TRA    cdr3_lst_TRA  \\\n",
       "3         TRBV10-2;;TRBJ1-1;TRBC1   CAVLMDSNYQLIW   CAVLMDSNYQLIW   \n",
       "27    TRBV5-1;TRBD1;TRBJ2-7;TRBC2   CAVSGAGSYQLTF   CAVSGAGSYQLTF   \n",
       "44        TRBV20-1;;TRBJ2-1;TRBC2  CAFNAVDGNNRLAF  CAFNAVDGNNRLAF   \n",
       "91    TRBV5-1;TRBD1;TRBJ2-7;TRBC2   CAVSGAGSYQLTF   CAVSGAGSYQLTF   \n",
       "132   TRBV5-1;TRBD1;TRBJ2-7;TRBC2   CAVSGAGSYQLTF   CAVSGAGSYQLTF   \n",
       "...                           ...             ...             ...   \n",
       "5898       TRBV4-2;;TRBJ2-7;TRBC2             NaN             NaN   \n",
       "5914  TRBV5-1;TRBD1;TRBJ2-7;TRBC2             NaN             NaN   \n",
       "5992  TRBV5-1;TRBD1;TRBJ2-7;TRBC2             NaN             NaN   \n",
       "5993  TRBV5-1;TRBD1;TRBJ2-7;TRBC2             NaN             NaN   \n",
       "6032  TRBV5-1;TRBD1;TRBJ2-7;TRBC2             NaN             NaN   \n",
       "\n",
       "              cdr3_TRB  ...                  sample_id_lst  umi_count_cd8  \\\n",
       "3       CASSADGMNTEAFF  ...           6, 7, 2, 8, 10, 9, 1         4645.0   \n",
       "27    CASSLEGQASSYEQYF  ...  3, 5, 7, 2, 6, 1, 8, 9, 4, 10         1492.0   \n",
       "44     CSAEEWTSGYNEQFF  ...  3, 1, 2, 5, 7, 9, 8, 6, 10, 4          473.0   \n",
       "91    CASSLEGQASSYEQYF  ...  3, 4, 5, 2, 9, 7, 6, 8, 1, 10         1415.0   \n",
       "132   CASSLEGQASSYEQYF  ...     5, 3, 6, 7, 8, 9, 2, 1, 10         2461.0   \n",
       "...                ...  ...                            ...            ...   \n",
       "5898  CASSQDVASGSYEQYF  ...  9, 2, 3, 5, 4, 6, 7, 8, 1, 10           36.0   \n",
       "5914  CASSLEGQASSYEQYF  ...        3, 9, 7, 2, 6, 1, 8, 10          909.0   \n",
       "5992  CASSLEGQASSYEQYF  ...  4, 5, 3, 6, 7, 8, 9, 1, 2, 10          881.0   \n",
       "5993  CASSLEGQASSYEQYF  ...        2, 6, 4, 8, 1, 3, 9, 10         1404.0   \n",
       "6032  CASSLEGQASSYEQYF  ...  4, 5, 3, 7, 9, 2, 8, 1, 10, 6         1609.0   \n",
       "\n",
       "                                      umi_count_lst_cd8            HLA_cd8  \\\n",
       "3                      4.0|4.0|5.0|7.0|15.0|16.0|4645.0        A0201|B0702   \n",
       "27    2.0|5.0|11.0|12.0|12.0|15.0|17.0|18.0|49.0|1492.0  A0201|A0301|B0702   \n",
       "44           1.0|2.0|2.0|2.0|3.0|3.0|4.0|5.0|16.0|473.0        A0301|B0702   \n",
       "91          1.0|1.0|1.0|3.0|3.0|4.0|5.0|5.0|10.0|1415.0  A0201|A0301|B0702   \n",
       "132            1.0|2.0|3.0|4.0|4.0|6.0|11.0|12.0|2461.0  A0201|A0301|B0702   \n",
       "...                                                 ...                ...   \n",
       "5898           1.0|2.0|2.0|2.0|3.0|4.0|6.0|6.0|9.0|36.0  A0201|A0301|B0702   \n",
       "5914                 1.0|2.0|3.0|4.0|6.0|8.0|10.0|909.0  A0201|A0301|B0702   \n",
       "5992          1.0|1.0|2.0|2.0|2.0|2.0|2.0|3.0|3.0|881.0  A0201|A0301|B0702   \n",
       "5993                 2.0|3.0|4.0|4.0|6.0|6.0|8.0|1404.0  A0201|A0301|B0702   \n",
       "6032     1.0|1.0|2.0|4.0|5.0|6.0|7.0|13.0|1067.0|1609.0        A0201|B0702   \n",
       "\n",
       "     HLA_match valid_ct           ct_pep  VDJdb_pep VDJdb_check  delta_umi_mhc  \n",
       "3         True    False              NaN        NaN         NaN      15.200000  \n",
       "27        True     True  CLGGLLTMV A0201        NaN         NaN      10.153846  \n",
       "44       False    False  CLGGLLTMV A0201        NaN         NaN       3.200000  \n",
       "91        True     True  CLGGLLTMV A0201        NaN         NaN      16.444444  \n",
       "132       True     True  CLGGLLTMV A0201        NaN         NaN      26.222222  \n",
       "...        ...      ...              ...        ...         ...            ...  \n",
       "5898      True    False              NaN        NaN         NaN       4.000000  \n",
       "5914      True     True  CLGGLLTMV A0201        NaN         NaN      15.111111  \n",
       "5992      True     True  CLGGLLTMV A0201        NaN         NaN      18.400000  \n",
       "5993      True     True  CLGGLLTMV A0201        NaN         NaN      20.800000  \n",
       "6032      True     True  CLGGLLTMV A0201        NaN         NaN       2.240000  \n",
       "\n",
       "[227 rows x 30 columns]"
      ]
     },
     "execution_count": 130,
     "metadata": {},
     "output_type": "execute_result"
    }
   ],
   "source": [
    "raw[f2]#.ct.unique())"
   ]
  },
  {
   "cell_type": "code",
   "execution_count": 125,
   "metadata": {},
   "outputs": [
    {
     "data": {
      "text/plain": [
       "0.8504672897196262"
      ]
     },
     "execution_count": 125,
     "metadata": {},
     "output_type": "execute_result"
    }
   ],
   "source": [
    "91/107"
   ]
  },
  {
   "cell_type": "code",
   "execution_count": 72,
   "metadata": {},
   "outputs": [
    {
     "data": {
      "text/plain": [
       "peptide_HLA\n",
       "GILGFVFTL A0201     4\n",
       "GLCTLVAML A0201    17\n",
       "NLVPMVATV A0201    12\n",
       "Name: gem, dtype: int64"
      ]
     },
     "execution_count": 72,
     "metadata": {},
     "output_type": "execute_result"
    }
   ],
   "source": [
    "raw[raw.peptide_HLA.isin(['NLVPMVATV A0201', 'GILGFVFTL A0201','GLCTLVAML A0201'])].groupby('peptide_HLA').gem.size()"
   ]
  },
  {
   "cell_type": "markdown",
   "metadata": {},
   "source": [
    "## Distribution of outliers"
   ]
  },
  {
   "cell_type": "code",
   "execution_count": 33,
   "metadata": {},
   "outputs": [],
   "source": [
    "import sys  \n",
    "sys.path.insert(0, '../../scripts')\n",
    "\n",
    "from D_plot_specificity_matrix_utils import calc_binding_concordance"
   ]
  },
  {
   "cell_type": "code",
   "execution_count": 27,
   "metadata": {},
   "outputs": [],
   "source": [
    "def calc_binding_concordance(df):\n",
    "    df['clonotype_size'] = df.ct.map(df.groupby('ct').size())\n",
    "    df['peptide_dist'] = df.set_index(['ct', 'peptide_HLA']).index.map(df.groupby(['ct','peptide_HLA']).size())\n",
    "    df['binding_concordance'] = df.peptide_dist / df.clonotype_size\n",
    "    return df"
   ]
  },
  {
   "cell_type": "code",
   "execution_count": 35,
   "metadata": {},
   "outputs": [],
   "source": [
    "cbc = calc_binding_concordance(tcr, 'ct')"
   ]
  },
  {
   "cell_type": "code",
   "execution_count": 40,
   "metadata": {},
   "outputs": [],
   "source": [
    "cbc['label'] = np.where(cbc.binding_concordance > 0.5, 'normal','outlier')"
   ]
  },
  {
   "cell_type": "code",
   "execution_count": 30,
   "metadata": {},
   "outputs": [
    {
     "data": {
      "text/plain": [
       "peptide_HLA        label  \n",
       "CLGGLLTMV A0201    normal     103\n",
       "                   outlier      3\n",
       "FLYALALLL A0201    normal      32\n",
       "                   outlier      1\n",
       "GILGFVFTL A0201    normal       2\n",
       "GLCTLVAML A0201    normal       3\n",
       "                   outlier      2\n",
       "NLVPMVATV A0201    normal       4\n",
       "RPHERNGFTV B0702   normal      13\n",
       "                   outlier      1\n",
       "RPHERNGFTVL B0702  normal     272\n",
       "                   outlier      2\n",
       "RPPIFIRRL B0702    normal     107\n",
       "                   outlier      3\n",
       "RVRAYTYSK A0301    normal     936\n",
       "                   outlier     29\n",
       "TPRVTGGGAM B0702   normal     580\n",
       "                   outlier     23\n",
       "TPSVSSSISSL B0702  normal      30\n",
       "                   outlier      7\n",
       "VLEETSVML A0201    normal     401\n",
       "                   outlier      1\n",
       "YVLDHLIVV A0201    normal     273\n",
       "                   outlier      5\n",
       "dtype: int64"
      ]
     },
     "execution_count": 30,
     "metadata": {},
     "output_type": "execute_result"
    }
   ],
   "source": [
    "cbc.groupby(['peptide_HLA','label']).size()"
   ]
  },
  {
   "cell_type": "code",
   "execution_count": 41,
   "metadata": {},
   "outputs": [
    {
     "data": {
      "text/plain": [
       "77"
      ]
     },
     "execution_count": 41,
     "metadata": {},
     "output_type": "execute_result"
    }
   ],
   "source": [
    "sum(cbc.label == 'outlier')"
   ]
  },
  {
   "cell_type": "code",
   "execution_count": 51,
   "metadata": {},
   "outputs": [
    {
     "data": {
      "text/plain": [
       "72"
      ]
     },
     "execution_count": 51,
     "metadata": {},
     "output_type": "execute_result"
    }
   ],
   "source": [
    "sum(cbc[cbc.label == 'outlier'].peptide_HLA_lst.str.split('|').apply(len) > 1)"
   ]
  },
  {
   "cell_type": "code",
   "execution_count": 54,
   "metadata": {},
   "outputs": [],
   "source": [
    "cbc['max_conc'] = cbc.ct.map(cbc.groupby(['ct']).binding_concordance.max())"
   ]
  },
  {
   "cell_type": "code",
   "execution_count": 82,
   "metadata": {},
   "outputs": [],
   "source": [
    "dct = cbc[cbc.binding_concordance == cbc.max_conc].set_index('ct').peptide_HLA.to_dict()\n",
    "cbc['pep_conc'] = cbc.ct.map(dct)"
   ]
  },
  {
   "cell_type": "code",
   "execution_count": 86,
   "metadata": {},
   "outputs": [
    {
     "data": {
      "text/plain": [
       "67"
      ]
     },
     "execution_count": 86,
     "metadata": {},
     "output_type": "execute_result"
    }
   ],
   "source": [
    "cbc[cbc.label=='outlier'].apply(lambda row: row.pep_conc in row.peptide_HLA_lst.split('|'), axis=1).sum()"
   ]
  },
  {
   "cell_type": "code",
   "execution_count": 87,
   "metadata": {},
   "outputs": [
    {
     "data": {
      "text/plain": [
       "0.9305555555555556"
      ]
     },
     "execution_count": 87,
     "metadata": {},
     "output_type": "execute_result"
    }
   ],
   "source": [
    "67/72"
   ]
  },
  {
   "cell_type": "code",
   "execution_count": 92,
   "metadata": {},
   "outputs": [
    {
     "data": {
      "text/plain": [
       "5"
      ]
     },
     "execution_count": 92,
     "metadata": {},
     "output_type": "execute_result"
    }
   ],
   "source": [
    "cbc[cbc.label=='outlier'].apply(lambda row: all([row.pep_conc.split()[-1] in pep_hla for pep_hla in row.peptide_HLA_lst.split('|')]), axis=1).sum()"
   ]
  },
  {
   "cell_type": "code",
   "execution_count": 93,
   "metadata": {},
   "outputs": [
    {
     "data": {
      "text/plain": [
       "0.06944444444444445"
      ]
     },
     "execution_count": 93,
     "metadata": {},
     "output_type": "execute_result"
    }
   ],
   "source": [
    "5/72"
   ]
  },
  {
   "cell_type": "code",
   "execution_count": 94,
   "metadata": {},
   "outputs": [
    {
     "data": {
      "text/plain": [
       "59"
      ]
     },
     "execution_count": 94,
     "metadata": {},
     "output_type": "execute_result"
    }
   ],
   "source": [
    "cbc[cbc.label=='outlier'].apply(lambda row: all([pep_hla.split()[-1] in row.HLA_cd8 for pep_hla in row.peptide_HLA_lst.split('|')]), axis=1).sum()"
   ]
  },
  {
   "cell_type": "code",
   "execution_count": 95,
   "metadata": {},
   "outputs": [
    {
     "data": {
      "text/plain": [
       "0.8194444444444444"
      ]
     },
     "execution_count": 95,
     "metadata": {},
     "output_type": "execute_result"
    }
   ],
   "source": [
    "59/72"
   ]
  },
  {
   "cell_type": "code",
   "execution_count": 46,
   "metadata": {},
   "outputs": [
    {
     "data": {
      "text/plain": [
       "580"
      ]
     },
     "execution_count": 46,
     "metadata": {},
     "output_type": "execute_result"
    }
   ],
   "source": [
    "len(cbc[(cbc.peptide_HLA == 'TPRVTGGGAM B0702') & (cbc.label=='normal')])"
   ]
  },
  {
   "cell_type": "code",
   "execution_count": 42,
   "metadata": {},
   "outputs": [
    {
     "data": {
      "text/plain": [
       "936"
      ]
     },
     "execution_count": 42,
     "metadata": {},
     "output_type": "execute_result"
    }
   ],
   "source": [
    "len(cbc[(cbc.peptide_HLA == 'RVRAYTYSK A0301') & (cbc.label=='normal')])"
   ]
  },
  {
   "cell_type": "code",
   "execution_count": 43,
   "metadata": {},
   "outputs": [
    {
     "data": {
      "text/plain": [
       "2756"
      ]
     },
     "execution_count": 43,
     "metadata": {},
     "output_type": "execute_result"
    }
   ],
   "source": [
    "sum(cbc.label=='normal')"
   ]
  },
  {
   "cell_type": "code",
   "execution_count": 96,
   "metadata": {},
   "outputs": [
    {
     "data": {
      "text/plain": [
       "0.37662337662337664"
      ]
     },
     "execution_count": 96,
     "metadata": {},
     "output_type": "execute_result"
    }
   ],
   "source": [
    "len(cbc[(cbc.peptide_HLA == 'RVRAYTYSK A0301') & (cbc.label=='outlier')])/sum(cbc.label=='outlier')"
   ]
  },
  {
   "cell_type": "code",
   "execution_count": 97,
   "metadata": {},
   "outputs": [
    {
     "data": {
      "text/plain": [
       "0.2987012987012987"
      ]
     },
     "execution_count": 97,
     "metadata": {},
     "output_type": "execute_result"
    }
   ],
   "source": [
    "len(cbc[(cbc.peptide_HLA == 'TPRVTGGGAM B0702') & (cbc.label=='outlier')])/sum(cbc.label=='outlier')"
   ]
  },
  {
   "cell_type": "markdown",
   "metadata": {
    "tags": []
   },
   "source": [
    "# Count singlet tail"
   ]
  },
  {
   "cell_type": "code",
   "execution_count": 313,
   "metadata": {},
   "outputs": [
    {
     "data": {
      "text/html": [
       "<div>\n",
       "<style scoped>\n",
       "    .dataframe tbody tr th:only-of-type {\n",
       "        vertical-align: middle;\n",
       "    }\n",
       "\n",
       "    .dataframe tbody tr th {\n",
       "        vertical-align: top;\n",
       "    }\n",
       "\n",
       "    .dataframe thead th {\n",
       "        text-align: right;\n",
       "    }\n",
       "</style>\n",
       "<table border=\"1\" class=\"dataframe\">\n",
       "  <thead>\n",
       "    <tr style=\"text-align: right;\">\n",
       "      <th></th>\n",
       "      <th>singlet freq (fig. 6a)</th>\n",
       "      <th>singlet freq (fig. 6b)</th>\n",
       "      <th>singlet freq (fig. 6c)</th>\n",
       "    </tr>\n",
       "  </thead>\n",
       "  <tbody>\n",
       "    <tr>\n",
       "      <th>RPHERNGFTVL B0702</th>\n",
       "      <td>0.73</td>\n",
       "      <td>0.66</td>\n",
       "      <td>0.68</td>\n",
       "    </tr>\n",
       "    <tr>\n",
       "      <th>RVRAYTYSK A0301</th>\n",
       "      <td>0.83</td>\n",
       "      <td>0.86</td>\n",
       "      <td>0.88</td>\n",
       "    </tr>\n",
       "    <tr>\n",
       "      <th>CLGGLLTMV A0201</th>\n",
       "      <td>0.78</td>\n",
       "      <td>0.76</td>\n",
       "      <td>0.77</td>\n",
       "    </tr>\n",
       "    <tr>\n",
       "      <th>TPRVTGGGAM B0702</th>\n",
       "      <td>0.79</td>\n",
       "      <td>0.74</td>\n",
       "      <td>0.77</td>\n",
       "    </tr>\n",
       "    <tr>\n",
       "      <th>YVLDHLIVV A0201</th>\n",
       "      <td>0.7</td>\n",
       "      <td>0.66</td>\n",
       "      <td>0.66</td>\n",
       "    </tr>\n",
       "    <tr>\n",
       "      <th>TPSVSSSISSL B0702</th>\n",
       "      <td>0.87</td>\n",
       "      <td>0.78</td>\n",
       "      <td>0.74</td>\n",
       "    </tr>\n",
       "    <tr>\n",
       "      <th>VLEETSVML A0201</th>\n",
       "      <td>0.83</td>\n",
       "      <td>0.77</td>\n",
       "      <td>0.7</td>\n",
       "    </tr>\n",
       "    <tr>\n",
       "      <th>RPHERNGFTV B0702</th>\n",
       "      <td>0.95</td>\n",
       "      <td>1.0</td>\n",
       "      <td>1.0</td>\n",
       "    </tr>\n",
       "    <tr>\n",
       "      <th>RPPIFIRRL B0702</th>\n",
       "      <td>0.89</td>\n",
       "      <td>0.82</td>\n",
       "      <td>0.81</td>\n",
       "    </tr>\n",
       "    <tr>\n",
       "      <th>FLYALALLL A0201</th>\n",
       "      <td>0.76</td>\n",
       "      <td>0.68</td>\n",
       "      <td>0.72</td>\n",
       "    </tr>\n",
       "    <tr>\n",
       "      <th>NLVPMVATV A0201</th>\n",
       "      <td>1.0</td>\n",
       "      <td>1.0</td>\n",
       "      <td>1.0</td>\n",
       "    </tr>\n",
       "    <tr>\n",
       "      <th>GILGFVFTL A0201</th>\n",
       "      <td>1.0</td>\n",
       "      <td>1.0</td>\n",
       "      <td>1.0</td>\n",
       "    </tr>\n",
       "    <tr>\n",
       "      <th>GLCTLVAML A0201</th>\n",
       "      <td>0.87</td>\n",
       "      <td>0.88</td>\n",
       "      <td>1.0</td>\n",
       "    </tr>\n",
       "  </tbody>\n",
       "</table>\n",
       "</div>"
      ],
      "text/plain": [
       "                  singlet freq (fig. 6a) singlet freq (fig. 6b)  \\\n",
       "RPHERNGFTVL B0702                   0.73                   0.66   \n",
       "RVRAYTYSK A0301                     0.83                   0.86   \n",
       "CLGGLLTMV A0201                     0.78                   0.76   \n",
       "TPRVTGGGAM B0702                    0.79                   0.74   \n",
       "YVLDHLIVV A0201                      0.7                   0.66   \n",
       "TPSVSSSISSL B0702                   0.87                   0.78   \n",
       "VLEETSVML A0201                     0.83                   0.77   \n",
       "RPHERNGFTV B0702                    0.95                    1.0   \n",
       "RPPIFIRRL B0702                     0.89                   0.82   \n",
       "FLYALALLL A0201                     0.76                   0.68   \n",
       "NLVPMVATV A0201                      1.0                    1.0   \n",
       "GILGFVFTL A0201                      1.0                    1.0   \n",
       "GLCTLVAML A0201                     0.87                   0.88   \n",
       "\n",
       "                  singlet freq (fig. 6c)  \n",
       "RPHERNGFTVL B0702                   0.68  \n",
       "RVRAYTYSK A0301                     0.88  \n",
       "CLGGLLTMV A0201                     0.77  \n",
       "TPRVTGGGAM B0702                    0.77  \n",
       "YVLDHLIVV A0201                     0.66  \n",
       "TPSVSSSISSL B0702                   0.74  \n",
       "VLEETSVML A0201                      0.7  \n",
       "RPHERNGFTV B0702                     1.0  \n",
       "RPPIFIRRL B0702                     0.81  \n",
       "FLYALALLL A0201                     0.72  \n",
       "NLVPMVATV A0201                      1.0  \n",
       "GILGFVFTL A0201                      1.0  \n",
       "GLCTLVAML A0201                      1.0  "
      ]
     },
     "execution_count": 313,
     "metadata": {},
     "output_type": "execute_result"
    }
   ],
   "source": [
    "peps = ['RVR','YVL','RPHERNGFTVL', 'RPP','TPR']\n",
    "peps = raw.peptide_HLA.unique()\n",
    "summary = pd.DataFrame(index=peps, columns=['singlet freq (fig. 6a)','singlet freq (fig. 6b)','singlet freq (fig. 6c)'])\n",
    "for pep in peps:\n",
    "    for df,name in zip([raw, hla, tcr], ['fig. 6a', 'fig. 6b', 'fig. 6c']):\n",
    "        counts = df[df.peptide_HLA == pep].groupby('ct').size().value_counts()\n",
    "        #summary.loc[pep, f\"{name}_s\"] = counts[1]\n",
    "        #summary.loc[pep, f\"{name}_t\"] = counts.sum()\n",
    "        summary.loc[pep, f\"singlet freq ({name})\"] = round(counts[1]/counts.sum(), 2)\n",
    "summary"
   ]
  },
  {
   "cell_type": "markdown",
   "metadata": {},
   "source": [
    "# Inspect clonotypes of multiplet chains"
   ]
  },
  {
   "cell_type": "code",
   "execution_count": 232,
   "metadata": {},
   "outputs": [
    {
     "data": {
      "text/plain": [
       "Int64Index([    2,     7,    19,    22,    26,    55,    60,    66,    68,\n",
       "               73,\n",
       "            ...\n",
       "            69484, 69495, 69536, 69573, 69617, 69704, 69714, 69719, 69747,\n",
       "            69768],\n",
       "           dtype='int64', name='ct', length=323)"
      ]
     },
     "execution_count": 232,
     "metadata": {},
     "output_type": "execute_result"
    }
   ],
   "source": [
    "all_cts = raw.dropna(subset=['cdr3_TRA','cdr3_TRB']).groupby('ct').cdr3_TRA.unique().apply(len)\n",
    "cts = all_cts[all_cts > 1].index\n",
    "cts"
   ]
  },
  {
   "cell_type": "code",
   "execution_count": 233,
   "metadata": {
    "collapsed": true,
    "jupyter": {
     "outputs_hidden": true
    },
    "tags": []
   },
   "outputs": [
    {
     "name": "stdout",
     "output_type": "stream",
     "text": [
      "['CAVGDNFNKFYF' 'CAARVRGFGNVLHC'] ['CASSLYSATGELFF']\n",
      "['CAVFLYGNNRLAF' 'CAASGYDYKLSF'] ['CSVSASGGDEQYF']\n",
      "['CAAWDMEYGNKLVF' 'CAASVSIWTGTASKLTF'] ['CAISDPGLAGGGGEQFF']\n",
      "['CAENGGGGADGLTF' 'CAASGNHDMRF'] ['CASSTTAGDTEAFF']\n",
      "['CAASMDSNYQLIW' 'CAVGEYDYKLSF'] ['CASSESISYEQYF']\n",
      "['CAFMTNAGGTSYGKLTF' 'CAVAVGVSGGGADGLTF'] ['CASSQGAYGYTF']\n",
      "['CAALSHASKIIF' 'CAVEDGGFQKLVF'] ['CASRPQQGHNSPLHF']\n",
      "['CVVSANSDGQKLLF' 'CASIAGTYKYIF'] ['CASSVVSGANVLTF']\n",
      "['CAVKGRDDKIIF' 'CAMSAHNYGQNFVF'] ['CSARDPPAGRDGYTF']\n",
      "['CAVRNYGGATNKLIF' 'CALSEANTGGFKTIF'] ['CASSLTTGGRNEQFF']\n",
      "['CAAPRGGQNFVF' 'CAVGALNNDMRF'] ['CASSLRTGGFPSGTSGSTDTQYF']\n",
      "['CAPHKAAGNKLTF' 'CAVGASGGSYIPTF'] ['CAAGGGGTEKLFF']\n",
      "['CDPPNAGKSTF' 'CAESSGGSYIPTF'] ['CASRGGQISYEQYF']\n",
      "['CATEGASGGSYIPTF' 'CAVRDMSGARGAGSYQLTF'] ['CAWVLGPAGDTQYF']\n",
      "['CLVGDMRSGAGSYQLTF' 'CVVSRQEQQTRF'] ['CSARDINRGSYEQYF']\n",
      "['CAMREGIGNAGNMLTF' 'CAVGAETSYDKVIF'] ['CASTQGGGTGSFYEQYF']\n",
      "['CAVGSSGGSYIPTF' 'CLSPMDTGRRALTF'] ['CATSTGDSNQPQHF']\n",
      "['CAVSRYNNNDMRF' 'CAMSDLNSGGYQKVTF'] ['CASSHQDLGTEGTQYF']\n",
      "['CAARPSF' 'CAGGGSQGNLIF'] ['CASSIRSSYEQYF']\n",
      "['CATDGSSGGSNYKLTF' 'CAWSSNAGGTSYGKLTF'] ['CASSIGLYGYTF']\n",
      "['CAVFSNAGKSTF' 'CAAPNTDKLIF'] ['CASSSPGGESPLHF']\n",
      "['CALTDYSGAGSYQLTF' 'CAGDYGGSQGNLIF'] ['CSALPPLAGGHTDTQYF']\n",
      "['CAVRDRVVYNNNDMRF' 'CAAENSGYSTLTF'] ['CASSPGNGGATLGYTF' 'CATGTSPNEKLFF']\n",
      "['CAAINNAGNMLTF' 'CAPTSTWGWELPTHF'] ['CASSISLAAEQFF']\n",
      "['CAVPSGGYNKLIF' 'CASLYGQNFVF'] ['CASGLDSSSGNTIYF']\n",
      "['CVVSDQVDSSYKLIF' 'CAAPTGNQFYF'] ['CASSQDPGNVDGYTF']\n",
      "['CAASALAGGSQGNLIF' 'CALSDLTYGNNRLAF'] ['CASSLGWGARSYNEQFF']\n",
      "['CAGASGSSNTGKLIF' 'CAVEVNAGNNRKLIW'] ['CASSIRSSYEQYF']\n",
      "['CALSGRERGSQGNLIF' 'CAFMKGSGGSQGNLIF'] ['CASSPRREYTYEQYF']\n",
      "['CADNAGNNRKLIW' 'CAVSFTRGSTLGRLYF'] ['CASSVASNQPQHF']\n",
      "['CAARVRGFGNVLHC' 'CAVGDNFNKFYF'] ['CASSLYSATGELFF']\n",
      "['CAVNIPISDGQKLLF' 'CARPHALNF'] ['CASSLWAGGEYTEAFF']\n",
      "['CILRDRDDKIIF' 'CGADRPPGAGSYQLTF'] ['CASSQEGQLNQPQHF']\n",
      "['CAMREDEFSGGYNKLIF' 'CALRGAYGNNRLAF'] ['CASSDPGQGDSGELFF']\n",
      "['CAVSQAAGNKLTF' 'CVVSSLYQKVTF'] ['CASTYGSGELFF']\n",
      "['CALSISGGSYIPTF' 'CAVRATTDSWGKLQF'] ['CASSPKGQGFEQYF']\n",
      "['CAAIPKWAGGSEKLVF' 'CAFMKTNRDDKIIF'] ['CASSYSMVAGGYTGELFF']\n",
      "['CEPPVSDGQKLLF' 'CAGGGSSNTGKLIF'] ['CASSIRSSYEQYF']\n",
      "['CAVQARGNKLVF' 'CATDDNVWDSNYQLIW'] ['CSVGTRTTGELFF']\n",
      "['CAVDSGTYKYIF' 'CAVQAKDSNYQLIW'] ['CASSPRTSEQFF']\n",
      "['CAEIDSWGKLQF' 'CVVGGGGFKTIF'] ['CASSPRAGKETQYF']\n",
      "['CASTGGGADGLTF' 'CAVKGSSNTGKLIF'] ['CASSYLGRDRAIHEQYF']\n",
      "['CAGFQAGTALIF' 'CLVGASNYQLIW'] ['CSVEDWSWGISLEGLNEQFF']\n",
      "['CLVGDPFYSSASKIIF' 'CERSGSGGYQKVTF'] ['CASSSPFSASSYEQYF']\n",
      "['CATVPPAGYSTLTF' 'CAGAGNYQLIW'] ['CASSQEGGDGEKLFF']\n",
      "['CVVNRRATSGTYKYIF' 'CAVSDGQKLLF'] ['CATSGLAGGPDTQYF']\n",
      "['CLVGEEGYSTLTF' 'CVVNPSGGSYIPTF'] ['CASSEGQGWTEAFF']\n",
      "['CIRKSTGNQFYF' 'CAVNGNSGGSNYKLTF'] ['CASSLELSGAWETQYF']\n",
      "['CAVNEGDYKLSF' 'CERPLRNNNARLMF'] ['CSARHLSGIEQFF']\n",
      "['CAPIGGGNKLTF' 'CAAKGRKAYLRT'] ['CASSLPTANYGYTF']\n",
      "['CAVSEKNRDDKIIF' 'CAAGDDKIIF'] ['CASSPRGEKLFF']\n",
      "['CAAQLYGQNFVF' 'CAASGDTGNNRKLIW'] ['CASSFEGEQYF']\n",
      "['CAASTDSWGKLQF' 'CAGASGNTGKLIF'] ['CASSIRGAYEQYF']\n",
      "['CAGGGSQGNLIF' 'CILSSGTYKYIF'] ['CASSIRSSYEQYF' 'CSAPTPLLAGGYNEQFF']\n",
      "['CAVEDPAGGFKTIF' 'CVVSPLMVTGGGNKLTF'] ['CASSQDLSSGVTYEQYF']\n",
      "['CAVRERDYKLSF' 'CAVIVNQAGTALIF'] ['CSALLLGSNEQFF']\n",
      "['CAGAIGSSNTGKLIF' 'CAESISWDSNYQLIW'] ['CASSIRSSYEQYF']\n",
      "['CALKRSSGYALNF' 'CAVRERDYKLSF'] ['CASAGGNQPQHF']\n",
      "['CILREGFGNVLHC' 'CAGAYGGSQGNLIF'] ['CASSMRSGSEQFF']\n",
      "['CASYMDTGRRALTF' 'CAEIAGKSTF'] ['CATSGRGSGTSGPQETQYF']\n",
      "['CAFMKDAGGTSYGKLTF' 'CLLGFTNTNAGKSTF'] ['CASSIGSYGYTF']\n",
      "['CAPQMANQAGTALIF' 'CAENLGGNQFYF'] ['CASSGSGANEQYF']\n",
      "['CALSGYYGGSQGNLIF' 'CAVHSGNTPLVF'] ['CASSGVGRQTYEQYF']\n",
      "['CATEGASGGSYIPTF' 'CAVSAASGGSYIPTF'] ['CAWVLGPAGDTQYF']\n",
      "['CALSGGSNYKLTF' 'CAGAFGSSNTGKLIF'] ['CASSIRSSYEQYF']\n",
      "['CAMEGSARQLTF' 'CAVSNDYKLSF'] ['CASSEMTGVDEQFF']\n",
      "['CAVRPLNDYKLSF' 'CAVGDTNAGKSTF'] ['CASLALTGELFF']\n",
      "['CAVQGSQGNLIF' 'CAGGGGAGSYQLTF'] ['CASSIRSSYEQYF']\n",
      "['CILRTNFGNEKLTF' 'CAGAGSQGNLIF'] ['CASSIRSSYEQYF']\n",
      "['CIGPHSGGGADGLTF' 'CASYFNKFYF'] ['CASSSRGLVFYEQYF']\n",
      "['CAAKGSGAGKSTF' 'CAFGNNNARLMF'] ['CASSLGILAGGLSDSYNEQFF']\n",
      "['CAYRMEYGNKLVF' 'CIVRVLRFLSF'] ['CASSYDTRTSGGGHEQFF']\n",
      "['CAVFLYGNNRLAF' 'CAASGYDYKLSF'] ['CASSLRDGSEAFF' 'CSVSASGGDEQYF']\n",
      "['CAAPSVPGSARQLTF' 'CALSNYGGSQGNLIF'] ['CASSLSGTVAKNIQYF']\n",
      "['CAVSSRSNDYKLSF' 'CAATSSYNQGGKLIF'] ['CASSPKALQLNSNQPQHF']\n",
      "['CAFMTNAGGTSYGKLTF' 'CGTERSGGSNYKLTF'] ['CASSTGVYGYTF']\n",
      "['CAVRDRYNTDKLIF' 'CAESMGPGGGNKLTF'] ['CASSLLGGGKNIQYF']\n",
      "['CAFMIGAGGTSYGKLTF' 'CAVFFEGGATNKLIF'] ['CASSQGSWGYTF']\n",
      "['CAGGGSQGNLIF' 'CAVQAFVEETSGSRLTF'] ['CASSIRSSYEQYF']\n",
      "['CAVRDEDSWGKLQF' 'CAVEEGGPRGATNKLIF'] ['CASRPTAAGVTEQFF']\n",
      "['CILRPTGSTSGTYKYIF' 'CALSEPETSYDKVIF'] ['CASSERGKSTDTQYF']\n",
      "['CAVRDQNDYKLSF' 'CVVSGSARQLTF'] ['CATSTGSSSYEQYF']\n",
      "['CAEKKGYQKVTF' 'CAVSSVANTGFQKLVF'] ['CASSGGDRQLNEQFF']\n",
      "['CAYSLNEKLTF' 'CAGQMNSGAGSYQLTF'] ['CASSLAPNQETQYF']\n",
      "['CALSEAPGSARQLTF' 'CAENRTPAEAAGNKLTF'] ['CASSPDRGGSTDTQYF']\n",
      "['CLVGENRDDKIIF' 'CAVLGYNTDKLIF'] ['CASREDRGLDSTDTQYF']\n",
      "['CAASETSYDKVIF' 'CAGHTGNQFYF'] ['CASSWGGGSHYGYTF' 'CASSFSGNTGELFF']\n",
      "['CAFTPKVAGGTSYGKLTF' 'CAESIGGAQKLVF'] ['CASSIYDSSNQPQHF']\n",
      "['CAVGGSQGNLIF' 'CALSEDGAGNMLTF'] ['CASSIRSSYEQYF']\n",
      "['CILRDRDDKIIF' 'CAASKEILPKDSNYQLIW'] ['CASSQEGQLNQPQHF']\n",
      "['CAVEGPTDSWGKFQF' 'CAVSLSGGYNKLIF'] ['CASSPAGGTDTQYF']\n",
      "['CAESEGPTYTDKLIF' 'CVGYTNAGKSTF'] ['CASSGPGGVDEQYF']\n",
      "['CAVTRDDKIIF' 'CALLEMVIKAAGNKLTF'] ['CASSTDRAAQPQHF']\n",
      "['CAVGTARLMF' 'CAASNTGKLIF'] ['CASSPHFQVDTGELFF']\n",
      "['CAATDNNARLMF' 'CALTPGAAGNKLTF'] ['CASSVAVGTGSGANVLTF']\n",
      "['CAHAPLDDMRF' 'CAENLGDSSYKLIF'] ['CASRPSGGAETQYF']\n",
      "['CAGAGSQGNLIF' 'CAPLYNFNKFYF'] ['CASSTRSAYEQYF']\n",
      "['CAEDSGNLIF' 'CAVPLTGGGNKLTF'] ['CASSLNRGDPEAFF']\n",
      "['CASRSGTYKYIF' 'CAAGSANTGNQFYF'] ['CASSVNPGQGANYGYTF']\n",
      "['CPLPTNAGKSTF' 'CALASRSDGQKLLF'] ['CSARDYRTGDEKLFF']\n",
      "['CAGASWGNNRLAF' 'CAVVLYNQGGKLIF'] ['CATRPPSTDTQYF']\n",
      "['CAVRDSAGTALIF' 'CIRGGNYGGSQGNLIF'] ['CASSLGTGGSYEQYF']\n",
      "['CADESGGSQGNLIF' 'CAAMETSYDKVIF'] ['CASSSQGANEKLFF']\n",
      "['CAAPPVSNFGNEKLTF' 'CILSFGNEKLTF'] ['CASSLAGRNYGYTF']\n",
      "['CAVKGLTGGGNKLTF' 'CAVRDRENQGGKLIF'] ['CASSTSEGGLFYEQYF']\n",
      "['CAASRNAGNNRKLIW' 'CALSENGRSQGNLIF'] ['CASSRDTSSYEQYF']\n",
      "['CALSEGVGKLIF' 'CAVRDAHNNAGNMLTF'] ['CASSVTSSRGGTDTQYF']\n",
      "['CIVRAYNNNDMRF' 'CAAGGSQGNLIF'] ['CASSIRSSYEQYF']\n",
      "['CAVRRDGNKLVF' 'CAMSGDGGSQGNLIF'] ['CASSMRAGETQYF']\n",
      "['CARKAAGNKLTF' 'CAPGETGANNLFF'] ['CASSLRGSMNTEAFF']\n",
      "['CATDAYKLSF' 'CAVRDGYSTLTF'] ['CASRQGFDFSGANVLTF']\n",
      "['CAGNRDDKIIF' 'CASQNFGNEKLTF'] ['CASSTLGLAGGSFF']\n",
      "['CAMRAIKAAGNKLTF' 'CAVMDSNYQLIW'] ['CSARVSPEGGPENYGYTF']\n",
      "['CAVNVRGTALIF' 'CALSEGGSDGQKLLF'] ['CSAPAGEQFF']\n",
      "['CASNNNARLMF' 'CARGGSQGNLIF'] ['CASSLNRELTGNTIYF']\n",
      "['CALKNNDMRF' 'CAENTGGGSQGNLIF'] ['CASSWRSTDTQYF']\n",
      "['CAASETSYDKVIF' 'CADSGGGADGLTF'] ['CASSFSGNTGELFF' 'CASSLRDGSEAFF']\n",
      "['CAGAGNTGKLIF' 'CAERIPNFGNEKLTF'] ['CASSIRSSYEQYF' 'CASGNKDIHNEQFF']\n",
      "['CAVKENEKLTF' 'CAGGGSSNTGKLIF'] ['CASSIRSAYEQYF']\n",
      "['CAGQGSQGNLIF' 'CIVRVSGAGGTSYGKLTF'] ['CASSGRSGETQYF']\n",
      "['CALSEPPGKSSASKIIF' 'CAGRGNNARLMF'] ['CASSTTSGGLNEQFF']\n",
      "['CAESGPDSWGKFQF' 'CAVSEDSSYKLIF'] ['CAVNGLAGPTDTQYF']\n",
      "['CACMDSNYQLIW' 'CAVGASYSGAGSYQLTF'] ['CASSQDRGGGTDTQYF']\n",
      "['CAPPSSASKIIF' 'CAVRDQRSGGYNKLIF'] ['CASSQERGATEAFF' 'CASTLTGPPVWGYTF']\n",
      "['CASRGNFNKFYF' 'CASMDSNYQLIW'] ['CASSPGQGHTDTQYF']\n",
      "['CAPPSSASKIIF' 'CAVRDQRSGGYNKLIF'] ['CASSQERGATEAFF']\n",
      "['CAVSSFTNAGKSTF' 'CAVPEAGSYQLTF'] ['CASSVGGDYGYTF']\n",
      "['CAGPISSGSARQLTF' 'CAVRDSNYQLIW'] ['CASSELAGGTDTQYF']\n",
      "['CAGAGSQGNLIF' 'CATDAMSAGYSTLTF'] ['CASSIRSSYEQYF']\n",
      "['CAVSGAGSYQLTF' 'CIVRVATLIYNQGGKLIF'] ['CASSLGAGDTLEQYF']\n",
      "['CATSGGYQKVTF' 'CAVGSNNARLMF'] ['CASSALAGNTEAFF']\n",
      "['CAGCEETSGSRLTF' 'CALSEAHLGNKLVF'] ['CASSVGGAAGSPKEGYTF']\n",
      "['CILSPQAAGNKLTF' 'CAARTMEGSQGNLIF'] ['CASSVAPGEYEQYF']\n",
      "['CVVNLENYGGSQGNLIF' 'CAGFDMLTF'] ['CATSDWDTGELFF']\n",
      "['CIAPEPTLGRLYF' 'CAAHGQNFVF'] ['CASGQELAGTDTQYF']\n",
      "['CAVNQAGTALIF' 'CAVRTHSVLARQLTF'] ['CASSPAEATNEKLFF']\n",
      "['CAERGQAGTALIF' 'CAVIMNTGFQKLVF'] ['CASSSRQPNQETQYF']\n",
      "['CALDAPTANAGKSTF' 'CLVGGGATNKLIF'] ['CASSPGTALYEQYF']\n",
      "['CAVEDLDNFNKFYF' 'CAVRDSNYQLIW'] ['CASSQTSSSGANVLTF']\n",
      "['CAPYSSASKIIF' 'CAVNWGTGGFKTIF'] ['CSAGTDTGELFF']\n",
      "['CAVQAEGGGSQGNLIF' 'CAALNNAGNMLTF'] ['CASSIALASEQFF']\n",
      "['CAASPNTDKLIF' 'CIVRSHRDDKIIF'] ['CASSLWTSGDYEQYF']\n",
      "['CAGPPGAGSYQLTF' 'CAAGLGGGADGLTF'] ['CASTRDRPTLGYTF']\n",
      "['CAVALFSGGYNKLIF' 'CAFRLNTGFQKLVF'] ['CASSLYAPGTGVYNEQFF']\n",
      "['CLVGDSDTGRRALTF' 'CAVIDSDYKLSF'] ['CASSLTSGGAETQYF']\n",
      "['CALNYGGSQGNLIF' 'CAAPTGNNNDMRF'] ['CASSVRSTDTQYF']\n",
      "['CAVSQTGANNLFF' 'CALSGWNYGGSQGNLIF'] ['CASSPDADTPFYEQYF']\n",
      "['CAVRDNTDKLIF' 'CVEGYSTLTF'] ['CASSEGTGGLYEQYF']\n",
      "['CAVRAGANNLFF' 'CASSGTSGTYKYIF'] ['CASSSPYGNGNTIYF']\n",
      "['CAVEQDYGGATNKLIF' 'CALSVNGNNRLAF'] ['CASSLGTAGFEQFF']\n",
      "['CVVNDDDYKLSF' 'CATGQTGGFKTIF'] ['CSARLSTLPADTQYF']\n",
      "['CAVSPMDSSYKLIF' 'CLGGAF'] ['CASSLGGPTRVGYGYTF']\n",
      "['CAIITGGGNKLTF' 'CALRVGGGYNKLIF'] ['CASSAGTSGFGYNEQFF']\n",
      "['CAGAHGSGNTGKLIF' 'CALKIPLVF'] ['CASSIRSAYEQYF']\n",
      "['CAGPIDGGSQGNLIF' 'CAAPITQGGSEKLVF'] ['CASSVYSNQPQHF']\n",
      "['CAVRDVWGKLQF' 'CVSVYSSASKIIF'] ['CAIRRTGEAFF']\n",
      "['CAVRGVNAGNMLTF' 'CFPPAAGNKLTF'] ['CASSFQGDGRDTQYF']\n",
      "['CAASPLPNNRLAF' 'CAGGVLNSGYSTLTF'] ['CASSLAGGRGRSGANVLTF']\n",
      "['CAEAETSYDKVIF' 'CGLNYGGSQGNLIF'] ['CASSPLGGPKDTIYF']\n",
      "['CAVRNQGGSEKLVF' 'CAFMTNAGGTSYGKLTF'] ['CASSLGAYGYTF']\n",
      "['CAESPNSGNTPLVF' 'CLVAHYGNNRLAF'] ['CASSLAGQFDMNTEAFF']\n",
      "['CAVRPYYGQNFVF' 'CAASRGNFNKFYF'] ['CASLDGLNEQFF']\n",
      "['CGTEYPNDYKLSF' 'CADSGGGADGLTF'] ['CASSLRDGSEAFF' 'CASSSGLVSNTGELFF']\n",
      "['CAMKSTNAGKSTF' 'CAASETSYDKVIF'] ['CASSFSGNTGELFF']\n",
      "['CIVRVPESHTL' 'CAASAAGNQFYF'] ['CASSVGTGDHQPQHF']\n",
      "['CVVNPGDQKVTF' 'CAMREGGSGGYNKLIF'] ['CASSLTSNTGELFF' 'CASSRQPNRDLGIGNTIYF']\n",
      "['CATGTQTGANNLFF' 'CAADLIGARLMF'] ['CASLPSGTDTQYF']\n",
      "['CALPTGGGNKLTF' 'CALSLWGGATNKLIF'] ['CASSLRQAYNEQFF']\n",
      "['CAATPDASGTYKYIF' 'CAAWWGGADGLTF'] ['CAWSRVGGTDTQYF']\n",
      "['CIVRVGGSGTYKYIF' 'CILRDRGFKTIF'] ['CASSIMALGRSEAFF']\n",
      "['CAERIPNFGNEKLTF' 'CAGAGNTGKLIF'] ['CASSIRSSYEQYF']\n",
      "['CAVIRGNTGNQFYF' 'CILMRGAQKLVF'] ['CASSLGGGGYNEQFF']\n",
      "['CASGGSQGNLIF' 'CIFVRNRDDKIIF'] ['CASSIRSSYEQYF']\n",
      "['CAYDRGGYQKVTF' 'CAVLDSNYQLIW'] ['CASTSHRESAEAFF']\n",
      "['CAMRDPSGTYKYIF' 'CAMRSTGNQFYF'] ['CASSQDPSRTYEQYF']\n",
      "['CAVNRRGGSEKLVF' 'CAATFDNYGQNFVF'] ['CASSQVSETQYF']\n",
      "['CAMSPRSTGNQFYF' 'CAVRLNSGYALNF'] ['CASTLGQGAPGYTF']\n",
      "['CIVRLHILTGGGNKLTF' 'CAGVEDKLIF'] ['CASRESNTEAFF']\n",
      "['CATHGGGGNKLTF' 'CASGTYKYIF'] ['CASSLRPGRAYEQYF']\n",
      "['CAFMKGAGGTSYGKLTF' 'CATAKYNAGGTSYGKLTF'] ['CASSIGSHGYTF']\n",
      "['CAASETSYDKVIF' 'CAGHTGNQFYF'] ['CASSFSGNTGELFF']\n",
      "['CAYRSYSGGGADGLTF' 'CAASARRIDTGTASKLTF'] ['CASRHRGAPSYEQYF']\n",
      "['CALRAGNQFYF' 'CAASETSYDKVIF'] ['CASSLMRGGTYNSPLHF' 'CASSFSGNTGELFF']\n",
      "['CAVQAPGNKLVF' 'CAVPSNDYKLSF'] ['CATSRVGEHGYTF']\n",
      "['CALSEGTGKLTF' 'CIVRVLAERDDKIIF'] ['CASSFRDRDVRFDGYTF']\n",
      "['CAEIEDTGRRALTF' 'CAVVWGGGATNKLIF'] ['CASSVDGEPYEQYF']\n",
      "['CAVIDSWGKLQF' 'CLVGGGARLMF'] ['CASIRTSGNDNEQFF']\n",
      "['CADSGGGADGLTF' 'CAMKSTNAGKSTF'] ['CASSLGVAGTNTGELFF']\n",
      "['CAVDLFGNNNDMRF' 'CALSGWVTGGGNKLTF'] ['CASSHVGERKTQYF']\n",
      "['CILLISNAGNNRKLIW' 'CAFLASINDNNARLMF'] ['CASSLGRGSKKLFF']\n",
      "['CLVAVDDKIIF' 'CVVTQEVTGGGNKLTF'] ['CASSVWGGGPADTQYF']\n",
      "['CALNRRQTQGGSEKLVF' 'CILRPLKAAGNKLTF'] ['CASSYLANGGNTEAFF']\n",
      "['CVVSPFSGTDGQKLLF' 'CAVRWSYQLTF'] ['CASSPPLGSAENQPQHF']\n",
      "['CAASATGSARQLTF' 'CAVNDYKLSF'] ['CASRDRAFTGELFF']\n",
      "['CAESLQTGANNLFF' 'CAENPSSGGSYIPTF'] ['CSARDFQGLAYNEQFF']\n",
      "['CAFFGTGNQFYF' 'CAPPTGTASKLTF'] ['CASSLWVGSGEAFF']\n",
      "['CVGYTNAGKSTF' 'CAESEGPTYTDKLIF'] ['CASSFSGNTGELFF']\n",
      "['CAEKGKLIF' 'CAASAAGNKLTF'] ['CASSPTGKGYTF']\n",
      "['CAVDADYGGSQGNLIF' 'CAELIYNQGGKLIF'] ['CASSIRASVEQYF']\n",
      "['CALSEAHNGNKLVF' 'CLPGSQGNLIF'] ['CASSVNPGQPNGDYGYTF']\n",
      "['CAVAKDLQNSGGGADGLTF' 'CALRAGNQFYF'] ['CASSLMRGGTYNSPLHF']\n",
      "['CAVGPWYSSASKIIF' 'CADSGNTPLVF'] ['CASSSEGGSTEAFF']\n",
      "['CAMRGSQGNLIF' 'CALLFLSGGSNYKLTF'] ['CASSNGGGRLYGYTF']\n",
      "['CAVGFLARLMF' 'CAESLQTGANNLFF'] ['CSARETLAAVYNEQFF']\n",
      "['CVVNMDNARLMF' 'CADSGGGADGLTF'] ['CSAGQGPYEQYF']\n",
      "['CALSEVRDDYKLSF' 'CAVSEKAAGNKLTF'] ['CASSLSQGGFGGELFF']\n",
      "['CVVRPGGDSWGKLQF' 'CALDGPGNTDKLIF'] ['CASSFDSKAFF']\n",
      "['CALTPLQRGNEKLTF' 'CAQVMNSGNTPLVF'] ['CASSQGAYAIDEQFF']\n",
      "['CVPTGKLIF' 'CAVRVDDKIIF'] ['CSARDLDGSNYGYTF']\n",
      "['CIVRAANNAGNMLTF' 'CAGTGGGSNYKLTF'] ['CASRWKGSGAKNIQYF']\n",
      "['CAVHRSGSGGSNYKLTF' 'CAMREANTGNQFYF'] ['CASSPLAGGLPDTQYF']\n",
      "['CVVNGKGRRALTF' 'CALRRSSASKIIF'] ['CASSSSGSPVDGYTF']\n",
      "['CAEHSTDSWGKFQF' 'CAVPRRGSARQLTF'] ['CASSSSGGTQAGELFF']\n",
      "['CAAKEGYSTLTF' 'CAEMEGGSYIPTF'] ['CASSSTGGGEKDQPQHF' 'CASSQRPSEVGELFF']\n",
      "['CATEGNSGYSTLTF' 'CAASANGNQFYF'] ['CASSRQGGNYGYTF']\n",
      "['CAASRGYSTLTF' 'CVRGTPLVF'] ['CASSLGGGNNEQFF']\n",
      "['CAEPNTGNQFYF' 'CAGAGGGSQGNLIF'] ['CASSMRSSDTQYF']\n",
      "['CAYRAPRGNEKLTF' 'CAEIRGRDQFYF'] ['CASSDRMNTEAFF']\n",
      "['CAMRGPFSSNTGKLIF' 'CAESGATNKLIF'] ['CSAWDRLNTEAFF']\n",
      "['CAVKVYNAGNMLTF' 'CALSEFSSNTGKLIF'] ['CASSPSRDREFLYIQYF']\n",
      "['CAMKR' 'CAESLKGGQTAGNKLTF'] ['CASSQVFRGPPGELFF']\n",
      "['CAVWKGRTDMRF' 'CADELVF'] ['CASRQILAANTDTQYF']\n",
      "['CAVRRAGGTSYGKLTF' 'CAVSPFTGNQFYF'] ['CASSPRWDDPVVNAEAFF']\n",
      "['CAAGKSQGNLIF' 'CALSGAPSGTYKYIF'] ['CASSLPSSNYGYTF']\n",
      "['CAVGGEQQTRF' 'CAVRDGGMGSNTGKLIF'] ['CASSPMDTQYF']\n",
      "['CAGAVNQGGKLIF' 'CVVRSGTYKYIF'] ['CASSRVFTTNEKLFF']\n",
      "['CAVIHHSNYQLIW' 'CATGPYNQGGKLIF'] ['CSARDIAGGTYNEQFF']\n",
      "['CATWNSGGGADGLTF' 'CAGNTGTASKLTF'] ['CASYPVPGLKTQYF']\n",
      "['CAVGASGGGADGLTF' 'CATGGGAAGNKLTF'] ['CASSRGGSGNTGELFF']\n",
      "['CALYNSGNTPLVF' 'CAFIWGSQGNLIF'] ['CASSILWTGRGYTF']\n",
      "['CAVRAATGNTPLVF' 'CAFMTGEQGGSEKLVF'] ['CASSLSGSTDTQYF']\n",
      "['CAVVMNSGYSTLTF' 'CAVRDSNYQLIW'] ['CASSENSNQPQHF']\n",
      "['CALRSYNTDKLIF' 'CAGRHRPRNSGNTPLVF'] ['CASSHRTSGGAFPYEQYF']\n",
      "['CAGYNAGNMLTF' 'CARHFNKFYF'] ['CASSPIQDTEAFF']\n",
      "['CAMRRPISSGSARQLTF' 'CAADGVWRYGQNFVF'] ['CASSLTGAPNEKLFF']\n",
      "['CALSRPGANAGGTSYGKLTF' 'CAYRSAYGYGGSQGNLIF'] ['CASSIGWETQYF']\n",
      "['CAVMDSNYQLIW' 'CAAGDSNYQLIW'] ['CASSQVTSGYEQYV']\n",
      "['CVVSLPRFGNEKLTF' 'CAMRRPISSGSARQLTF'] ['CASSPNTGMETQYF']\n",
      "['CAVPRLMF' 'CAMRGTFSGSARQLTF'] ['CSVRTSGGLETQYF']\n",
      "['CVVSDSNDMRF' 'CAENVPSGTSYDKVIF'] ['CASGNSPYEQYF']\n",
      "['CARPQGAQKLVF' 'CAMRRPISSGSARQLTF'] ['CASSSNKLAGGPSGELFF']\n",
      "['CVVTSFPSGGSYIPTF' 'CVVMWI'] ['CASSLGTSGGVTYEQYF']\n",
      "['CAVWYMRF' 'CAASRNGTPTSSSL'] ['CASIPAGGPGDTQYF']\n",
      "['CAYRILYGGSQGNLIF' 'CAGPNYGQNFVF'] ['CASSPGLAGGLHPYEQYV']\n",
      "['CAVIQINDYKLSF' 'CAIGPGNMLTF'] ['CASSLGQDGYTF' 'CSVDLEANYGYTF']\n",
      "['CARDNNDMRF' 'CAVLLNDMRF'] ['CASSPGQGHNEQFF']\n",
      "['CAVEDGGATNKLIF' 'CAVRDSNYQLIW'] ['CASSEIAGGTDTQYF']\n",
      "['CATDTGRRALTF' 'CAVTPRRGYQKVTF'] ['CASRLSEGETQYF']\n",
      "['CAGNNNDMRF' 'CALSAWANQAGTALIF'] ['CASSYSYRVELFF']\n",
      "['CAGGFKTIF' 'CALNNYGQNFVF'] ['CASSEPQTSGNTGELFF']\n",
      "['CAVDFNNAGNMLTF' 'CATGTGNQFYF'] ['CASSQQTGYGYTF']\n",
      "['CAVRDSNTGKLIF' 'CAVYLNNARLMF'] ['CASRSDSYTGELFF']\n",
      "['CAASALTGNQFYF' 'CATARYNQGGKLIF'] ['CSATAQDTYNEQFF']\n",
      "['CAMTSNDYKLSF' 'CAYYGGSQGNLIF'] ['CASSQLEDGHSYEQYF']\n",
      "['CAVGAHTGNQFYF' 'CAMSGFWSGGSNYKLTF'] ['CASSQKGLAAGELFF']\n",
      "['CAASSSDTGRRALTF' 'CAVTTLSGGYNKLIF'] ['CASSWTGTNEKLFF']\n",
      "['CLLGEMIGQGAQKLVF' 'CAMSVKNTGNQFYF'] ['CASSSLQQPQHF']\n",
      "['CAASAGVNGNKLVF' 'CILRDLISNFGNEKLTF'] ['CASGAGSGANVLTF']\n",
      "['CADGQNFVF' 'CAVVGGQKLLF'] ['CASSPSLQAGNEQFF']\n",
      "['CAVGAQGNNRLAF' 'CDNQGGKLIF'] ['CASSQTGTGSYEQYV']\n",
      "['CAVGGMIKAAGNKLTF' 'CVVTQTGANNLFF'] ['CASSVGSNPSSYNSPLHF']\n",
      "['CAVPETSGSRLTF' 'CIFLRGETSGSRLTF'] ['CASSIWENTGELFF']\n",
      "['CAIGPGNMLTF' 'CAMRGPISGGYNKLIF'] ['CSVDLEANYGYTF' 'CASSQGRDRHGYTF']\n",
      "['CAVIDISGGYNKLIF' 'CAARWGTGGFKTIF'] ['CSARDQGTQYF']\n",
      "['CAVDGDTGRRALTF' 'CALDLPRSSASKIIF'] ['CSARGVTSGSLDTQYF']\n",
      "['CAVLVSDGQKLLF' 'CAENRAKAAGNKLTF'] ['CASSETARGLDGYTF']\n",
      "['CALSGSRAGGTSYGKLTF' 'CAARSSGTYKYIF'] ['CASSQEYGGSTEAFF']\n",
      "['CNAGNMLTF' 'CAMREGFKNNDMRF'] ['CASSSGAGGTDTQYF']\n",
      "['CALSRNAGNMLTF' 'CALSDQSYGQNFVF'] ['CASSWGGDTQYF']\n",
      "['CAMKRPNNNARLMF' 'CALSEARVANTGNQFYF'] ['CASSIISGNTIYF']\n",
      "['CAFYILTGGGNKLTF' 'CALLSGGDMRF'] ['CASSIVGRTGFSYNEQFF']\n",
      "['CILRGLGGSQGNLIF' 'CAASVTHTGANSKLTF'] ['CASSYPGEQYF']\n",
      "['CALTDYGQNFVF' 'CAVRGAGTALIF'] ['CSGRGSGGIIYEQFF']\n",
      "['CAIGPGNMLTF' 'CVGRKGSARQLTF'] ['CSVDLEANYGYTF' 'CSARDLEVLSYEQYF']\n",
      "['CVVNHRGKLIF' 'CAASPRPSGNTPLVF'] ['CASSMTESGANVLTF']\n",
      "['CAIGPGNMLTF' 'CAEIRGRDQFYF'] ['CSVDLEANYGYTF' 'CASSDRMNTEAFF']\n",
      "['CAPTGNQFYF' 'CAASAVGDKIIF'] ['CASSQPLGGSTEAFF']\n",
      "['CAYRSAIRNTPLVF' 'CALSGPRDTGANSKLTF'] ['CRLPSYEQFF']\n",
      "['CATADSRLAGSARQLTF' 'CAVSGTGNQFYF'] ['CASSRLGDSYGYTF']\n",
      "['CALSEAPSGYNKLIF' 'CAVRENAGNNRKLIW'] ['CASSPFQTSGREETQYF']\n",
      "['CAVSVYLGVGLGVTNSLS' 'CAASSSTGANNLFF'] ['CSATSNGERTDTQYF']\n",
      "['CAVRSCNGGSQGNLIF' 'CALRSSGGSNYKLTF'] ['CATSDTLGTGDYSNQPQHF']\n",
      "['CILRDRTDSWGKFQF' 'CAGGLGASGTYKYIF'] ['CASSQDRLAGGNTGELFF']\n",
      "['CAMRRPISSGSARQLTF' 'CALRSPTSSSL'] ['CASSFQGSPQETQYF']\n",
      "['CAMRAGANNLFF' 'CAVGSLDTGTASKLTF'] ['CASSMGLAGHSTDTQYF']\n",
      "['CLVGDRGGGGFKTIF' 'CAGINTGGFKTIF'] ['CASSIDRETSTDTQYF']\n",
      "['CAVNNDMRF' 'CAASEYNFNKFYF'] ['CASSLGGYGYTF']\n",
      "['CAASARF' 'CAAGSGGYNKLIF'] ['CSARPRLNTEAFF']\n",
      "['CALSDPNNAGNMLTF' 'CAGYYGGSQGNLIF'] ['CASSLEGQGVEDTQYF']\n",
      "['CAMREAPDTGRRALTF' 'CALSEAEIHNFNKFYF'] ['CSASDNPGLALFTDTQYF']\n",
      "['CAMRSGNAGNMLTF' 'CAASAKDDKIIF'] ['CASSDGTSAYNEQFF']\n",
      "['CAGHQTQGGSEKLVF' 'CALSGSIIQGAQKLVF'] ['CASTPRDASSGANVLTF']\n",
      "['CALSRIKAAGNKLTF' 'CAFMKHEPGGGADGLTF'] ['CASSLGPGTGYQETQYF']\n",
      "['CAVVGGTSYGKLTF' 'CAVSPWGAGAQKLVF'] ['CASGNRVSQYF']\n",
      "['CAVRPPPSSGGYQKVTF' 'CAVRNLDVDGGATNKLIF'] ['CASRGSGTSSVYEQYF']\n",
      "['CAEKANTDKLIF' 'CAMREGYGNNRLAF'] ['CASSYSGSGELFF']\n",
      "['CALSDSEDSNYQLIW' 'CAVDTDKLIF'] ['CASSSRGPYEQYF']\n",
      "['CAPVF' 'CATDGGIKAAGNKLTF'] ['CASSEQYTEAFF']\n",
      "['CATASSTDSWGKLQF' 'CAVNGRNNNDMRF'] ['CASNLRTGGTDTQYF']\n",
      "['CAVDLMKTSYDKVIF' 'CAVNWEEQGGSYIPTF'] ['CASRTGLASTDTQYF' 'CASRVSGSLSYNEQFF']\n",
      "['CAFLTSGGSYIPTF' 'CALEGFPNYKYIF'] ['CASSRSRGLEHYEQYF']\n",
      "['CAVLGFSGGYNKLIF' 'CAFFYGNNRLAF'] ['CASSVGAGVGNEQFF']\n",
      "['CAVDLMKTSYDKVIF' 'CAVEPLYGNKLVF'] ['CASRTGLASTDTQYF' 'CATSDRLAGGELFF']\n",
      "['CAGHYRI' 'CSSYSGTYKYIF'] ['CASSLGLAGGQETQYF']\n",
      "['CAASKNNNAGNMLTF' 'CIPGGSQGNLIF'] ['CASSPGPQQEDTQYF']\n",
      "['CVVSAFDKLIF' 'CAGRSNQAGTALIF'] ['CATSRVAGWGNGDQPQHF']\n",
      "['CGADSRYSSASKIIF' 'CAVDLMKTSYDKVIF'] ['CASRTGLASTDTQYF']\n",
      "['CAVNAGNMLTF' 'CAPLRNAGGTSYGKLTF'] ['CASEAGEGYEQYF']\n",
      "['CAFMKRTYGQNFVF' 'CAPPRGGGADGLTF'] ['CASSFDSGGLGAQYF']\n",
      "['CAVMDSNYQLIW' 'CAVEDGNDYKLSF'] ['CASSEKSGGRDTQYF']\n",
      "['CALSGAGGGNKLTF' 'CAVESGNNRLAF'] ['CASSYSGGNQPQHF']\n",
      "['CASFTGNQFYF' 'CAGSPSNDYKLSF'] ['CASSVASGRTDTQYF']\n",
      "['CAPRHNSGGSNYKLTF' 'CVVNGKGNEKLTF'] ['CASSFGHLNQPQHF']\n",
      "['CAVRDGDTNAGKSTF' 'CALDPSGGSYIPTF'] ['CASKRGPDSYEQYF']\n",
      "['CAVEFHPYGGATNKLIF' 'CAMSTLYNFNKFYF'] ['CATLRGVGYGYTF']\n",
      "['CALRLNPTGNQFYF' 'CAVKWGRAGSYQLTF'] ['CASGQFEAFF']\n",
      "['CAVMDSNYQLIW' 'CAERNTGGFKTIF'] ['CASSDSTTDTQYF']\n",
      "['CLVGEDRGSTLGRLYF' 'CAVMDSNYQLIW'] ['CASSELVHNEQFF']\n",
      "['CVLIETAASKLTF' 'CAMRAQLNTGGFKTIF'] ['CASSAGTGSGTGELFF']\n",
      "['CVVNFNTNAGKSTF' 'CAVMDSNYQLIW'] ['CASSANSGANVLTF']\n",
      "['CAAPLEGGGGADGLTF' 'CVVNARNQFYF'] ['CATSRVADQFEQYF']\n",
      "['CAVGARGDDKIIF' 'CAPREASGGSYIPTF'] ['CASSPYRDMDDEKLFF']\n",
      "['CVSDKIIF' 'CALVSGGYNKLIF'] ['CASSLGAGTNEQFF']\n"
     ]
    }
   ],
   "source": [
    "for ct in cts:\n",
    "    a = raw[raw.ct == ct].cdr3_TRA.unique()\n",
    "    b = raw[raw.ct == ct].cdr3_TRB.unique()\n",
    "    print(a,b)"
   ]
  },
  {
   "cell_type": "code",
   "execution_count": null,
   "metadata": {},
   "outputs": [],
   "source": []
  }
 ],
 "metadata": {
  "kernelspec": {
   "display_name": "Python 3",
   "language": "python",
   "name": "python3"
  },
  "language_info": {
   "codemirror_mode": {
    "name": "ipython",
    "version": 3
   },
   "file_extension": ".py",
   "mimetype": "text/x-python",
   "name": "python",
   "nbconvert_exporter": "python",
   "pygments_lexer": "ipython3",
   "version": "3.7.3"
  }
 },
 "nbformat": 4,
 "nbformat_minor": 4
}
