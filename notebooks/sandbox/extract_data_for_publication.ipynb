{
 "cells": [
  {
   "cell_type": "code",
   "execution_count": 1,
   "metadata": {},
   "outputs": [],
   "source": [
    "import pandas as pd\n",
    "import numpy as np"
   ]
  },
  {
   "cell_type": "markdown",
   "metadata": {},
   "source": [
    "# Input"
   ]
  },
  {
   "cell_type": "code",
   "execution_count": 2,
   "metadata": {},
   "outputs": [],
   "source": [
    "exp = 'exp10x'#'exp13'#"
   ]
  },
  {
   "cell_type": "code",
   "execution_count": 3,
   "metadata": {},
   "outputs": [],
   "source": [
    "DATA = f\"../../experiments/{exp}/run1/cat/eval_clonotypes/valid_ct.csv\"\n",
    "THR = f\"../../experiments/{exp}/run1/cat/eval_clonotypes/threshold/opt.csv\""
   ]
  },
  {
   "cell_type": "code",
   "execution_count": 4,
   "metadata": {},
   "outputs": [],
   "source": [
    "OUT_DIR = f\"../tmp_files/publication_data/{exp}/\""
   ]
  },
  {
   "cell_type": "markdown",
   "metadata": {},
   "source": [
    "# Variables"
   ]
  },
  {
   "cell_type": "code",
   "execution_count": 5,
   "metadata": {},
   "outputs": [],
   "source": [
    "OUT_COL = [\n",
    "    'gem','clonotype','ct','genes_TRA','genes_lst_TRA','genes_TRB','genes_lst_TRB','cdr3_TRA','cdr3_lst_TRA','cdr3_TRB','cdr3_lst_TRB','umi_count_TRA','umi_count_lst_TRA','umi_count_TRB','umi_count_lst_TRB', #'cell_flag',\n",
    "    'peptide_HLA','peptide_HLA_lst','umi_count_mhc','umi_count_lst_mhc',\n",
    "    'sample_id', 'sample_id_lst', 'umi_count_cd8', 'umi_count_lst_cd8', 'HLA_cd8','HLA_match', #'HLA_lst_cd8','HLA_pool_cd8',\n",
    "    'valid_ct','ct_pep'\n",
    "]"
   ]
  },
  {
   "cell_type": "markdown",
   "metadata": {},
   "source": [
    "# Load"
   ]
  },
  {
   "cell_type": "code",
   "execution_count": 6,
   "metadata": {},
   "outputs": [],
   "source": [
    "df = pd.read_csv(DATA)"
   ]
  },
  {
   "cell_type": "code",
   "execution_count": 7,
   "metadata": {},
   "outputs": [],
   "source": [
    "thr = pd.read_csv(THR, header=None, index_col=0, names=['thr'])"
   ]
  },
  {
   "cell_type": "code",
   "execution_count": 8,
   "metadata": {},
   "outputs": [],
   "source": [
    "hla_match = df.apply(lambda row: row.HLA_mhc in row.HLA_cd8, axis=1)\n",
    "df['HLA_match'] = hla_match # exp10x #OBS!"
   ]
  },
  {
   "cell_type": "code",
   "execution_count": 9,
   "metadata": {},
   "outputs": [
    {
     "data": {
      "text/plain": [
       "umi_count_mhc        5.000000\n",
       "delta_umi_mhc        1.168364\n",
       "umi_count_mhc_rel         NaN\n",
       "umi_count_cd8             NaN\n",
       "delta_umi_cd8             NaN\n",
       "umi_count_TRA        1.000000\n",
       "delta_umi_TRA        0.757858\n",
       "umi_count_TRB        0.000000\n",
       "delta_umi_TRB        0.757858\n",
       "Name: thr, dtype: float64"
      ]
     },
     "execution_count": 9,
     "metadata": {},
     "output_type": "execute_result"
    }
   ],
   "source": [
    "thr.thr"
   ]
  },
  {
   "cell_type": "code",
   "execution_count": 10,
   "metadata": {},
   "outputs": [],
   "source": [
    "raw = df[OUT_COL]"
   ]
  },
  {
   "cell_type": "code",
   "execution_count": 11,
   "metadata": {},
   "outputs": [
    {
     "data": {
      "text/html": [
       "<div>\n",
       "<style scoped>\n",
       "    .dataframe tbody tr th:only-of-type {\n",
       "        vertical-align: middle;\n",
       "    }\n",
       "\n",
       "    .dataframe tbody tr th {\n",
       "        vertical-align: top;\n",
       "    }\n",
       "\n",
       "    .dataframe thead th {\n",
       "        text-align: right;\n",
       "    }\n",
       "</style>\n",
       "<table border=\"1\" class=\"dataframe\">\n",
       "  <thead>\n",
       "    <tr style=\"text-align: right;\">\n",
       "      <th></th>\n",
       "      <th>gem</th>\n",
       "      <th>clonotype</th>\n",
       "      <th>ct</th>\n",
       "      <th>genes_TRA</th>\n",
       "      <th>genes_lst_TRA</th>\n",
       "      <th>genes_TRB</th>\n",
       "      <th>genes_lst_TRB</th>\n",
       "      <th>cdr3_TRA</th>\n",
       "      <th>cdr3_lst_TRA</th>\n",
       "      <th>cdr3_TRB</th>\n",
       "      <th>...</th>\n",
       "      <th>umi_count_mhc</th>\n",
       "      <th>umi_count_lst_mhc</th>\n",
       "      <th>sample_id</th>\n",
       "      <th>sample_id_lst</th>\n",
       "      <th>umi_count_cd8</th>\n",
       "      <th>umi_count_lst_cd8</th>\n",
       "      <th>HLA_cd8</th>\n",
       "      <th>HLA_match</th>\n",
       "      <th>valid_ct</th>\n",
       "      <th>ct_pep</th>\n",
       "    </tr>\n",
       "  </thead>\n",
       "  <tbody>\n",
       "    <tr>\n",
       "      <th>0</th>\n",
       "      <td>AAACCTGAGAAACCGC-1-s3</td>\n",
       "      <td>clonotype50994</td>\n",
       "      <td>50994</td>\n",
       "      <td>TRAV12-3;TRAJ39;TRAC</td>\n",
       "      <td>['TRAV12-3;TRAJ39;TRAC']</td>\n",
       "      <td>TRBV29-1;None;TRBJ1-2;TRBC1</td>\n",
       "      <td>['TRBV29-1;None;TRBJ1-2;TRBC1']</td>\n",
       "      <td>CAIGPGNMLTF</td>\n",
       "      <td>['CAIGPGNMLTF']</td>\n",
       "      <td>CSVDLEANYGYTF</td>\n",
       "      <td>...</td>\n",
       "      <td>38.0</td>\n",
       "      <td>[1.0, 1.0, 1.0, 2.0, 8.0, 8.0, 9.0, 38.0]</td>\n",
       "      <td>s3</td>\n",
       "      <td>[]</td>\n",
       "      <td>NaN</td>\n",
       "      <td>[]</td>\n",
       "      <td>['A2402', 'A2902', 'B3502', 'B4403']</td>\n",
       "      <td>False</td>\n",
       "      <td>True</td>\n",
       "      <td>KLGGALQAK A0301</td>\n",
       "    </tr>\n",
       "    <tr>\n",
       "      <th>1</th>\n",
       "      <td>AAACCTGAGAAACCTA-30-s2</td>\n",
       "      <td>clonotype30341</td>\n",
       "      <td>685</td>\n",
       "      <td>TRAV13-1;TRAJ50;TRAC</td>\n",
       "      <td>['TRAV13-1;TRAJ50;TRAC']</td>\n",
       "      <td>TRBV12-3;None;TRBJ2-2;TRBC2</td>\n",
       "      <td>['TRBV12-3;None;TRBJ2-2;TRBC2']</td>\n",
       "      <td>CAASETSYDKVIF</td>\n",
       "      <td>['CAASETSYDKVIF']</td>\n",
       "      <td>CASSFSGNTGELFF</td>\n",
       "      <td>...</td>\n",
       "      <td>61.0</td>\n",
       "      <td>[1.0, 1.0, 4.0, 61.0]</td>\n",
       "      <td>s2</td>\n",
       "      <td>[]</td>\n",
       "      <td>NaN</td>\n",
       "      <td>[]</td>\n",
       "      <td>['A0201', 'A0101', 'B0801']</td>\n",
       "      <td>True</td>\n",
       "      <td>True</td>\n",
       "      <td>RAKFKQLL B0801</td>\n",
       "    </tr>\n",
       "    <tr>\n",
       "      <th>2</th>\n",
       "      <td>AAACCTGAGAACTCGG-39-s2</td>\n",
       "      <td>clonotype30489</td>\n",
       "      <td>30489</td>\n",
       "      <td>TRAV2;TRAJ24;TRAC</td>\n",
       "      <td>['TRAV2;TRAJ24;TRAC']</td>\n",
       "      <td>TRBV6-6;TRBD2;TRBJ2-3;TRBC2</td>\n",
       "      <td>['TRBV6-6;TRBD2;TRBJ2-3;TRBC2']</td>\n",
       "      <td>CAVEGPTDSWGKFQF</td>\n",
       "      <td>['CAVEGPTDSWGKFQF']</td>\n",
       "      <td>CASSPAGGTDTQYF</td>\n",
       "      <td>...</td>\n",
       "      <td>3.0</td>\n",
       "      <td>[2.0, 3.0]</td>\n",
       "      <td>s2</td>\n",
       "      <td>[]</td>\n",
       "      <td>NaN</td>\n",
       "      <td>[]</td>\n",
       "      <td>['A0201', 'A0101', 'B0801']</td>\n",
       "      <td>False</td>\n",
       "      <td>True</td>\n",
       "      <td>KLGGALQAK A0301</td>\n",
       "    </tr>\n",
       "    <tr>\n",
       "      <th>3</th>\n",
       "      <td>AAACCTGAGAAGGGTA-9-s2</td>\n",
       "      <td>clonotype30400</td>\n",
       "      <td>30400</td>\n",
       "      <td>TRAV29DV5;TRAJ37;TRAC</td>\n",
       "      <td>['TRAV8-3;TRAJ31;TRAC' 'TRAV29DV5;TRAJ37;TRAC']</td>\n",
       "      <td>TRBV27;TRBD1;TRBJ2-2;TRBC2</td>\n",
       "      <td>['TRBV27;TRBD1;TRBJ2-2;TRBC2']</td>\n",
       "      <td>CAASNTGKLIF</td>\n",
       "      <td>['CAVGTARLMF', 'CAASNTGKLIF']</td>\n",
       "      <td>CASSPHFQVDTGELFF</td>\n",
       "      <td>...</td>\n",
       "      <td>20.0</td>\n",
       "      <td>[1.0, 1.0, 1.0, 20.0]</td>\n",
       "      <td>s2</td>\n",
       "      <td>[]</td>\n",
       "      <td>NaN</td>\n",
       "      <td>[]</td>\n",
       "      <td>['A0201', 'A0101', 'B0801']</td>\n",
       "      <td>True</td>\n",
       "      <td>True</td>\n",
       "      <td>RAKFKQLL B0801</td>\n",
       "    </tr>\n",
       "    <tr>\n",
       "      <th>4</th>\n",
       "      <td>AAACCTGAGAATCTCC-3-s4</td>\n",
       "      <td>clonotype69797</td>\n",
       "      <td>69797</td>\n",
       "      <td>TRAV10;TRAJ10;TRAC</td>\n",
       "      <td>['TRAV10;TRAJ10;TRAC']</td>\n",
       "      <td>TRBV10-3;TRBD2;TRBJ2-3;TRBC2</td>\n",
       "      <td>['TRBV10-3;TRBD2;TRBJ2-3;TRBC2']</td>\n",
       "      <td>CVVSELTGGGNKLTF</td>\n",
       "      <td>['CVVSELTGGGNKLTF']</td>\n",
       "      <td>CAIRLADTDTQYF</td>\n",
       "      <td>...</td>\n",
       "      <td>1.0</td>\n",
       "      <td>[1.0]</td>\n",
       "      <td>s4</td>\n",
       "      <td>[]</td>\n",
       "      <td>NaN</td>\n",
       "      <td>[]</td>\n",
       "      <td>['A0301', 'B0702', 'B5701']</td>\n",
       "      <td>False</td>\n",
       "      <td>False</td>\n",
       "      <td>NaN</td>\n",
       "    </tr>\n",
       "    <tr>\n",
       "      <th>...</th>\n",
       "      <td>...</td>\n",
       "      <td>...</td>\n",
       "      <td>...</td>\n",
       "      <td>...</td>\n",
       "      <td>...</td>\n",
       "      <td>...</td>\n",
       "      <td>...</td>\n",
       "      <td>...</td>\n",
       "      <td>...</td>\n",
       "      <td>...</td>\n",
       "      <td>...</td>\n",
       "      <td>...</td>\n",
       "      <td>...</td>\n",
       "      <td>...</td>\n",
       "      <td>...</td>\n",
       "      <td>...</td>\n",
       "      <td>...</td>\n",
       "      <td>...</td>\n",
       "      <td>...</td>\n",
       "      <td>...</td>\n",
       "      <td>...</td>\n",
       "    </tr>\n",
       "    <tr>\n",
       "      <th>181908</th>\n",
       "      <td>TTTGTCATCTTAGAGC-2-s4</td>\n",
       "      <td>clonotype69152</td>\n",
       "      <td>69152</td>\n",
       "      <td>TRAV12-1;TRAJ48;TRAC</td>\n",
       "      <td>['TRAV12-1;TRAJ48;TRAC']</td>\n",
       "      <td>TRBV7-8;TRBD1;TRBJ2-7;TRBC2</td>\n",
       "      <td>['TRBV7-8;TRBD1;TRBJ2-7;TRBC2']</td>\n",
       "      <td>CVVKVPLRNEKLTF</td>\n",
       "      <td>['CVVKVPLRNEKLTF']</td>\n",
       "      <td>CASSSATGAYEQYF</td>\n",
       "      <td>...</td>\n",
       "      <td>12.0</td>\n",
       "      <td>[3.0, 7.0, 12.0]</td>\n",
       "      <td>s4</td>\n",
       "      <td>[]</td>\n",
       "      <td>NaN</td>\n",
       "      <td>[]</td>\n",
       "      <td>['A0301', 'B0702', 'B5701']</td>\n",
       "      <td>False</td>\n",
       "      <td>True</td>\n",
       "      <td>KLGGALQAK A0301</td>\n",
       "    </tr>\n",
       "    <tr>\n",
       "      <th>181909</th>\n",
       "      <td>TTTGTCATCTTGACGA-5-s3</td>\n",
       "      <td>clonotype51004</td>\n",
       "      <td>51004</td>\n",
       "      <td>TRAV17;TRAJ53;TRAC</td>\n",
       "      <td>['TRAV17;TRAJ53;TRAC']</td>\n",
       "      <td>TRBV19;TRBD1;TRBJ1-2;TRBC1</td>\n",
       "      <td>['TRBV19;TRBD1;TRBJ1-2;TRBC1']</td>\n",
       "      <td>CATENSGGSNYKLTF</td>\n",
       "      <td>['CATENSGGSNYKLTF']</td>\n",
       "      <td>CASSARTGVGYGYTF</td>\n",
       "      <td>...</td>\n",
       "      <td>12.0</td>\n",
       "      <td>[1.0, 1.0, 1.0, 1.0, 2.0, 3.0, 4.0, 5.0, 5.0, ...</td>\n",
       "      <td>s3</td>\n",
       "      <td>[]</td>\n",
       "      <td>NaN</td>\n",
       "      <td>[]</td>\n",
       "      <td>['A2402', 'A2902', 'B3502', 'B4403']</td>\n",
       "      <td>False</td>\n",
       "      <td>True</td>\n",
       "      <td>KLGGALQAK A0301</td>\n",
       "    </tr>\n",
       "    <tr>\n",
       "      <th>181910</th>\n",
       "      <td>TTTGTCATCTTGAGAC-35-s2</td>\n",
       "      <td>clonotype30341</td>\n",
       "      <td>685</td>\n",
       "      <td>TRAV13-1;TRAJ50;TRAC</td>\n",
       "      <td>['TRAV13-1;TRAJ50;TRAC']</td>\n",
       "      <td>TRBV12-3;None;TRBJ2-2;TRBC2</td>\n",
       "      <td>['TRBV12-3;None;TRBJ2-2;TRBC2']</td>\n",
       "      <td>CAASETSYDKVIF</td>\n",
       "      <td>['CAASETSYDKVIF']</td>\n",
       "      <td>CASSFSGNTGELFF</td>\n",
       "      <td>...</td>\n",
       "      <td>53.0</td>\n",
       "      <td>[1.0, 2.0, 2.0, 4.0, 53.0]</td>\n",
       "      <td>s2</td>\n",
       "      <td>[]</td>\n",
       "      <td>NaN</td>\n",
       "      <td>[]</td>\n",
       "      <td>['A0201', 'A0101', 'B0801']</td>\n",
       "      <td>True</td>\n",
       "      <td>True</td>\n",
       "      <td>RAKFKQLL B0801</td>\n",
       "    </tr>\n",
       "    <tr>\n",
       "      <th>181911</th>\n",
       "      <td>TTTGTCATCTTTAGGG-36-s2</td>\n",
       "      <td>clonotype30741</td>\n",
       "      <td>30741</td>\n",
       "      <td>TRAV30;TRAJ20;TRAC</td>\n",
       "      <td>['TRAV30;TRAJ20;TRAC']</td>\n",
       "      <td>NaN</td>\n",
       "      <td>NaN</td>\n",
       "      <td>CGTEYPNDYKLSF</td>\n",
       "      <td>['CGTEYPNDYKLSF']</td>\n",
       "      <td>NaN</td>\n",
       "      <td>...</td>\n",
       "      <td>32.0</td>\n",
       "      <td>[1.0, 1.0, 1.0, 1.0, 2.0, 2.0, 3.0, 32.0]</td>\n",
       "      <td>s2</td>\n",
       "      <td>[]</td>\n",
       "      <td>NaN</td>\n",
       "      <td>[]</td>\n",
       "      <td>['A0201', 'A0101', 'B0801']</td>\n",
       "      <td>True</td>\n",
       "      <td>True</td>\n",
       "      <td>GLCTLVAML A0201</td>\n",
       "    </tr>\n",
       "    <tr>\n",
       "      <th>181912</th>\n",
       "      <td>TTTGTCATCTTTAGGG-4-s3</td>\n",
       "      <td>clonotype50994</td>\n",
       "      <td>50994</td>\n",
       "      <td>TRAV12-3;TRAJ39;TRAC</td>\n",
       "      <td>['TRAV12-3;TRAJ39;TRAC']</td>\n",
       "      <td>TRBV29-1;None;TRBJ1-2;TRBC1</td>\n",
       "      <td>['TRBV29-1;None;TRBJ1-2;TRBC1']</td>\n",
       "      <td>CAIGPGNMLTF</td>\n",
       "      <td>['CAIGPGNMLTF']</td>\n",
       "      <td>CSVDLEANYGYTF</td>\n",
       "      <td>...</td>\n",
       "      <td>2.0</td>\n",
       "      <td>[1.0, 2.0]</td>\n",
       "      <td>s3</td>\n",
       "      <td>[]</td>\n",
       "      <td>NaN</td>\n",
       "      <td>[]</td>\n",
       "      <td>['A2402', 'A2902', 'B3502', 'B4403']</td>\n",
       "      <td>False</td>\n",
       "      <td>True</td>\n",
       "      <td>KLGGALQAK A0301</td>\n",
       "    </tr>\n",
       "  </tbody>\n",
       "</table>\n",
       "<p>181913 rows × 27 columns</p>\n",
       "</div>"
      ],
      "text/plain": [
       "                           gem       clonotype     ct              genes_TRA  \\\n",
       "0        AAACCTGAGAAACCGC-1-s3  clonotype50994  50994   TRAV12-3;TRAJ39;TRAC   \n",
       "1       AAACCTGAGAAACCTA-30-s2  clonotype30341    685   TRAV13-1;TRAJ50;TRAC   \n",
       "2       AAACCTGAGAACTCGG-39-s2  clonotype30489  30489      TRAV2;TRAJ24;TRAC   \n",
       "3        AAACCTGAGAAGGGTA-9-s2  clonotype30400  30400  TRAV29DV5;TRAJ37;TRAC   \n",
       "4        AAACCTGAGAATCTCC-3-s4  clonotype69797  69797     TRAV10;TRAJ10;TRAC   \n",
       "...                        ...             ...    ...                    ...   \n",
       "181908   TTTGTCATCTTAGAGC-2-s4  clonotype69152  69152   TRAV12-1;TRAJ48;TRAC   \n",
       "181909   TTTGTCATCTTGACGA-5-s3  clonotype51004  51004     TRAV17;TRAJ53;TRAC   \n",
       "181910  TTTGTCATCTTGAGAC-35-s2  clonotype30341    685   TRAV13-1;TRAJ50;TRAC   \n",
       "181911  TTTGTCATCTTTAGGG-36-s2  clonotype30741  30741     TRAV30;TRAJ20;TRAC   \n",
       "181912   TTTGTCATCTTTAGGG-4-s3  clonotype50994  50994   TRAV12-3;TRAJ39;TRAC   \n",
       "\n",
       "                                          genes_lst_TRA  \\\n",
       "0                              ['TRAV12-3;TRAJ39;TRAC']   \n",
       "1                              ['TRAV13-1;TRAJ50;TRAC']   \n",
       "2                                 ['TRAV2;TRAJ24;TRAC']   \n",
       "3       ['TRAV8-3;TRAJ31;TRAC' 'TRAV29DV5;TRAJ37;TRAC']   \n",
       "4                                ['TRAV10;TRAJ10;TRAC']   \n",
       "...                                                 ...   \n",
       "181908                         ['TRAV12-1;TRAJ48;TRAC']   \n",
       "181909                           ['TRAV17;TRAJ53;TRAC']   \n",
       "181910                         ['TRAV13-1;TRAJ50;TRAC']   \n",
       "181911                           ['TRAV30;TRAJ20;TRAC']   \n",
       "181912                         ['TRAV12-3;TRAJ39;TRAC']   \n",
       "\n",
       "                           genes_TRB                     genes_lst_TRB  \\\n",
       "0        TRBV29-1;None;TRBJ1-2;TRBC1   ['TRBV29-1;None;TRBJ1-2;TRBC1']   \n",
       "1        TRBV12-3;None;TRBJ2-2;TRBC2   ['TRBV12-3;None;TRBJ2-2;TRBC2']   \n",
       "2        TRBV6-6;TRBD2;TRBJ2-3;TRBC2   ['TRBV6-6;TRBD2;TRBJ2-3;TRBC2']   \n",
       "3         TRBV27;TRBD1;TRBJ2-2;TRBC2    ['TRBV27;TRBD1;TRBJ2-2;TRBC2']   \n",
       "4       TRBV10-3;TRBD2;TRBJ2-3;TRBC2  ['TRBV10-3;TRBD2;TRBJ2-3;TRBC2']   \n",
       "...                              ...                               ...   \n",
       "181908   TRBV7-8;TRBD1;TRBJ2-7;TRBC2   ['TRBV7-8;TRBD1;TRBJ2-7;TRBC2']   \n",
       "181909    TRBV19;TRBD1;TRBJ1-2;TRBC1    ['TRBV19;TRBD1;TRBJ1-2;TRBC1']   \n",
       "181910   TRBV12-3;None;TRBJ2-2;TRBC2   ['TRBV12-3;None;TRBJ2-2;TRBC2']   \n",
       "181911                           NaN                               NaN   \n",
       "181912   TRBV29-1;None;TRBJ1-2;TRBC1   ['TRBV29-1;None;TRBJ1-2;TRBC1']   \n",
       "\n",
       "               cdr3_TRA                   cdr3_lst_TRA          cdr3_TRB  ...  \\\n",
       "0           CAIGPGNMLTF                ['CAIGPGNMLTF']     CSVDLEANYGYTF  ...   \n",
       "1         CAASETSYDKVIF              ['CAASETSYDKVIF']    CASSFSGNTGELFF  ...   \n",
       "2       CAVEGPTDSWGKFQF            ['CAVEGPTDSWGKFQF']    CASSPAGGTDTQYF  ...   \n",
       "3           CAASNTGKLIF  ['CAVGTARLMF', 'CAASNTGKLIF']  CASSPHFQVDTGELFF  ...   \n",
       "4       CVVSELTGGGNKLTF            ['CVVSELTGGGNKLTF']     CAIRLADTDTQYF  ...   \n",
       "...                 ...                            ...               ...  ...   \n",
       "181908   CVVKVPLRNEKLTF             ['CVVKVPLRNEKLTF']    CASSSATGAYEQYF  ...   \n",
       "181909  CATENSGGSNYKLTF            ['CATENSGGSNYKLTF']   CASSARTGVGYGYTF  ...   \n",
       "181910    CAASETSYDKVIF              ['CAASETSYDKVIF']    CASSFSGNTGELFF  ...   \n",
       "181911    CGTEYPNDYKLSF              ['CGTEYPNDYKLSF']               NaN  ...   \n",
       "181912      CAIGPGNMLTF                ['CAIGPGNMLTF']     CSVDLEANYGYTF  ...   \n",
       "\n",
       "       umi_count_mhc                                  umi_count_lst_mhc  \\\n",
       "0               38.0          [1.0, 1.0, 1.0, 2.0, 8.0, 8.0, 9.0, 38.0]   \n",
       "1               61.0                              [1.0, 1.0, 4.0, 61.0]   \n",
       "2                3.0                                         [2.0, 3.0]   \n",
       "3               20.0                              [1.0, 1.0, 1.0, 20.0]   \n",
       "4                1.0                                              [1.0]   \n",
       "...              ...                                                ...   \n",
       "181908          12.0                                   [3.0, 7.0, 12.0]   \n",
       "181909          12.0  [1.0, 1.0, 1.0, 1.0, 2.0, 3.0, 4.0, 5.0, 5.0, ...   \n",
       "181910          53.0                         [1.0, 2.0, 2.0, 4.0, 53.0]   \n",
       "181911          32.0          [1.0, 1.0, 1.0, 1.0, 2.0, 2.0, 3.0, 32.0]   \n",
       "181912           2.0                                         [1.0, 2.0]   \n",
       "\n",
       "       sample_id  sample_id_lst umi_count_cd8 umi_count_lst_cd8  \\\n",
       "0             s3             []           NaN                []   \n",
       "1             s2             []           NaN                []   \n",
       "2             s2             []           NaN                []   \n",
       "3             s2             []           NaN                []   \n",
       "4             s4             []           NaN                []   \n",
       "...          ...            ...           ...               ...   \n",
       "181908        s4             []           NaN                []   \n",
       "181909        s3             []           NaN                []   \n",
       "181910        s2             []           NaN                []   \n",
       "181911        s2             []           NaN                []   \n",
       "181912        s3             []           NaN                []   \n",
       "\n",
       "                                     HLA_cd8  HLA_match valid_ct  \\\n",
       "0       ['A2402', 'A2902', 'B3502', 'B4403']      False     True   \n",
       "1                ['A0201', 'A0101', 'B0801']       True     True   \n",
       "2                ['A0201', 'A0101', 'B0801']      False     True   \n",
       "3                ['A0201', 'A0101', 'B0801']       True     True   \n",
       "4                ['A0301', 'B0702', 'B5701']      False    False   \n",
       "...                                      ...        ...      ...   \n",
       "181908           ['A0301', 'B0702', 'B5701']      False     True   \n",
       "181909  ['A2402', 'A2902', 'B3502', 'B4403']      False     True   \n",
       "181910           ['A0201', 'A0101', 'B0801']       True     True   \n",
       "181911           ['A0201', 'A0101', 'B0801']       True     True   \n",
       "181912  ['A2402', 'A2902', 'B3502', 'B4403']      False     True   \n",
       "\n",
       "                 ct_pep  \n",
       "0       KLGGALQAK A0301  \n",
       "1        RAKFKQLL B0801  \n",
       "2       KLGGALQAK A0301  \n",
       "3        RAKFKQLL B0801  \n",
       "4                   NaN  \n",
       "...                 ...  \n",
       "181908  KLGGALQAK A0301  \n",
       "181909  KLGGALQAK A0301  \n",
       "181910   RAKFKQLL B0801  \n",
       "181911  GLCTLVAML A0201  \n",
       "181912  KLGGALQAK A0301  \n",
       "\n",
       "[181913 rows x 27 columns]"
      ]
     },
     "execution_count": 11,
     "metadata": {},
     "output_type": "execute_result"
    }
   ],
   "source": [
    "raw"
   ]
  },
  {
   "cell_type": "code",
   "execution_count": 12,
   "metadata": {},
   "outputs": [],
   "source": [
    "umi_filter = ((df.umi_count_mhc >= thr.thr.umi_count_mhc) &\n",
    "              (df.delta_umi_mhc >= thr.thr.delta_umi_mhc) &\n",
    "              (df.umi_count_TRA >= thr.thr.umi_count_TRA) &\n",
    "              (df.delta_umi_TRA >= thr.thr.delta_umi_TRA) &\n",
    "              (df.delta_umi_TRB >= thr.thr.delta_umi_TRB)\n",
    "             )"
   ]
  },
  {
   "cell_type": "code",
   "execution_count": 13,
   "metadata": {},
   "outputs": [],
   "source": [
    "flt = df.loc[umi_filter, OUT_COL]"
   ]
  },
  {
   "cell_type": "code",
   "execution_count": 14,
   "metadata": {},
   "outputs": [],
   "source": [
    "hla = df.loc[umi_filter & hla_match, OUT_COL]"
   ]
  },
  {
   "cell_type": "code",
   "execution_count": 16,
   "metadata": {},
   "outputs": [],
   "source": [
    "tcr = df.loc[umi_filter & hla_match & (~df.cdr3_TRA.isna() & ~df.cdr3_TRB.isna())]"
   ]
  },
  {
   "cell_type": "code",
   "execution_count": 17,
   "metadata": {},
   "outputs": [
    {
     "name": "stdout",
     "output_type": "stream",
     "text": [
      "181913\n",
      "91652\n",
      "40584\n",
      "40584\n"
     ]
    }
   ],
   "source": [
    "print(len(raw))\n",
    "print(len(flt))\n",
    "print(len(hla))\n",
    "print(len(tcr))"
   ]
  },
  {
   "cell_type": "code",
   "execution_count": 18,
   "metadata": {},
   "outputs": [
    {
     "data": {
      "text/plain": [
       "(76627,)"
      ]
     },
     "execution_count": 18,
     "metadata": {},
     "output_type": "execute_result"
    }
   ],
   "source": [
    "raw.ct.unique().shape"
   ]
  },
  {
   "cell_type": "code",
   "execution_count": 19,
   "metadata": {},
   "outputs": [
    {
     "data": {
      "text/plain": [
       "(27919,)"
      ]
     },
     "execution_count": 19,
     "metadata": {},
     "output_type": "execute_result"
    }
   ],
   "source": [
    "flt.ct.unique().shape"
   ]
  },
  {
   "cell_type": "code",
   "execution_count": 20,
   "metadata": {},
   "outputs": [
    {
     "data": {
      "text/plain": [
       "(6751,)"
      ]
     },
     "execution_count": 20,
     "metadata": {},
     "output_type": "execute_result"
    }
   ],
   "source": [
    "hla.ct.unique().shape"
   ]
  },
  {
   "cell_type": "code",
   "execution_count": 21,
   "metadata": {},
   "outputs": [
    {
     "data": {
      "text/plain": [
       "(6751,)"
      ]
     },
     "execution_count": 21,
     "metadata": {},
     "output_type": "execute_result"
    }
   ],
   "source": [
    "tcr.ct.unique().shape"
   ]
  },
  {
   "cell_type": "markdown",
   "metadata": {},
   "source": [
    "# Write output"
   ]
  },
  {
   "cell_type": "code",
   "execution_count": 79,
   "metadata": {},
   "outputs": [],
   "source": [
    "raw.to_csv(OUT_DIR + 'raw.csv', index=False)"
   ]
  },
  {
   "cell_type": "code",
   "execution_count": 80,
   "metadata": {},
   "outputs": [],
   "source": [
    "flt.to_csv(OUT_DIR + 'opt_thr.csv', index=False)"
   ]
  },
  {
   "cell_type": "code",
   "execution_count": 81,
   "metadata": {},
   "outputs": [],
   "source": [
    "hla.to_csv(OUT_DIR + 'hla_match.csv', index=False)"
   ]
  },
  {
   "cell_type": "code",
   "execution_count": null,
   "metadata": {},
   "outputs": [],
   "source": []
  }
 ],
 "metadata": {
  "kernelspec": {
   "display_name": "Python 3",
   "language": "python",
   "name": "python3"
  },
  "language_info": {
   "codemirror_mode": {
    "name": "ipython",
    "version": 3
   },
   "file_extension": ".py",
   "mimetype": "text/x-python",
   "name": "python",
   "nbconvert_exporter": "python",
   "pygments_lexer": "ipython3",
   "version": "3.7.3"
  }
 },
 "nbformat": 4,
 "nbformat_minor": 4
}
