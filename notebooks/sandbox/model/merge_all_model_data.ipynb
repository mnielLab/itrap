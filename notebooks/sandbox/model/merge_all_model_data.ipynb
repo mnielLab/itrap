{
 "cells": [
  {
   "cell_type": "code",
   "execution_count": 1,
   "metadata": {},
   "outputs": [],
   "source": [
    "import pandas as pd\n",
    "import numpy as np\n",
    "import glob\n",
    "import re"
   ]
  },
  {
   "cell_type": "markdown",
   "metadata": {},
   "source": [
    "# Input"
   ]
  },
  {
   "cell_type": "code",
   "execution_count": 8,
   "metadata": {},
   "outputs": [],
   "source": [
    "files = glob.glob('../../tmp_files/model_data/*.csv')"
   ]
  },
  {
   "cell_type": "code",
   "execution_count": 9,
   "metadata": {},
   "outputs": [
    {
     "data": {
      "text/plain": [
       "['../../tmp_files/model_data/iedb_test.csv',\n",
       " '../../tmp_files/model_data/vdj_test.csv',\n",
       " '../../tmp_files/model_data/exp10_x.csv',\n",
       " '../../tmp_files/model_data/exp13_2.csv',\n",
       " '../../tmp_files/model_data/exp13_1.csv',\n",
       " '../../tmp_files/model_data/exp09.csv']"
      ]
     },
     "execution_count": 9,
     "metadata": {},
     "output_type": "execute_result"
    }
   ],
   "source": [
    "files"
   ]
  },
  {
   "cell_type": "markdown",
   "metadata": {
    "tags": []
   },
   "source": [
    "# Output"
   ]
  },
  {
   "cell_type": "code",
   "execution_count": 11,
   "metadata": {},
   "outputs": [],
   "source": [
    "cdr3_seqs = '../../tmp_files/model_data_pos/cdr3_pos.tsv'\n",
    "output = '../../tmp_files/model_data_pos/data_pos.tsv'\n",
    "output_all = '../../tmp_files/model_data_pos/data_all.tsv'"
   ]
  },
  {
   "cell_type": "code",
   "execution_count": 12,
   "metadata": {},
   "outputs": [],
   "source": [
    "dfs = list()\n",
    "for f in files:\n",
    "    tmp = pd.read_csv(f, header=None, names=['peptide','mhc','cdr3_a','cdr3_b', 'label'])\n",
    "    tmp['origin'] = f.split('/')[-1].split('.')[0].split('_test')[0]\n",
    "    dfs.append(tmp)\n",
    "    \n",
    "df = pd.concat(dfs, ignore_index=True)"
   ]
  },
  {
   "cell_type": "code",
   "execution_count": 16,
   "metadata": {},
   "outputs": [
    {
     "data": {
      "text/html": [
       "<div>\n",
       "<style scoped>\n",
       "    .dataframe tbody tr th:only-of-type {\n",
       "        vertical-align: middle;\n",
       "    }\n",
       "\n",
       "    .dataframe tbody tr th {\n",
       "        vertical-align: top;\n",
       "    }\n",
       "\n",
       "    .dataframe thead th {\n",
       "        text-align: right;\n",
       "    }\n",
       "</style>\n",
       "<table border=\"1\" class=\"dataframe\">\n",
       "  <thead>\n",
       "    <tr style=\"text-align: right;\">\n",
       "      <th></th>\n",
       "      <th>peptide</th>\n",
       "      <th>mhc</th>\n",
       "      <th>cdr3_a</th>\n",
       "      <th>cdr3_b</th>\n",
       "      <th>label</th>\n",
       "      <th>origin</th>\n",
       "    </tr>\n",
       "  </thead>\n",
       "  <tbody>\n",
       "    <tr>\n",
       "      <th>0</th>\n",
       "      <td>LLFGYPVYV</td>\n",
       "      <td>A0201</td>\n",
       "      <td>CAVTTDSWGKLQF</td>\n",
       "      <td>CASRPGLAGGRPEQYF</td>\n",
       "      <td>1</td>\n",
       "      <td>iedb</td>\n",
       "    </tr>\n",
       "    <tr>\n",
       "      <th>1</th>\n",
       "      <td>LLFGYPVYV</td>\n",
       "      <td>A0201</td>\n",
       "      <td>CAVTTDSWGKLQF</td>\n",
       "      <td>CASRPGLMSAQPEQYF</td>\n",
       "      <td>1</td>\n",
       "      <td>iedb</td>\n",
       "    </tr>\n",
       "    <tr>\n",
       "      <th>2</th>\n",
       "      <td>SLLMWITQV</td>\n",
       "      <td>A0201</td>\n",
       "      <td>CAVRPTSGGSYIPTF</td>\n",
       "      <td>CASSYVGNTGELFF</td>\n",
       "      <td>1</td>\n",
       "      <td>iedb</td>\n",
       "    </tr>\n",
       "    <tr>\n",
       "      <th>3</th>\n",
       "      <td>ELAGIGILTV</td>\n",
       "      <td>A0201</td>\n",
       "      <td>CAVNVAGKSTF</td>\n",
       "      <td>CAWSETGLGTGELFF</td>\n",
       "      <td>1</td>\n",
       "      <td>iedb</td>\n",
       "    </tr>\n",
       "    <tr>\n",
       "      <th>4</th>\n",
       "      <td>FLRGRAYGL</td>\n",
       "      <td>B0801</td>\n",
       "      <td>CVVRAGKLIF</td>\n",
       "      <td>CASGQGNFDIQYF</td>\n",
       "      <td>1</td>\n",
       "      <td>iedb</td>\n",
       "    </tr>\n",
       "    <tr>\n",
       "      <th>...</th>\n",
       "      <td>...</td>\n",
       "      <td>...</td>\n",
       "      <td>...</td>\n",
       "      <td>...</td>\n",
       "      <td>...</td>\n",
       "      <td>...</td>\n",
       "    </tr>\n",
       "    <tr>\n",
       "      <th>278449</th>\n",
       "      <td>CSSVDIHF</td>\n",
       "      <td>A0101</td>\n",
       "      <td>CAVEDRLDNDMRF</td>\n",
       "      <td>CASSLIVSGGANEQFF</td>\n",
       "      <td>0</td>\n",
       "      <td>exp09</td>\n",
       "    </tr>\n",
       "    <tr>\n",
       "      <th>278450</th>\n",
       "      <td>YPLVKMRLSV</td>\n",
       "      <td>B0702</td>\n",
       "      <td>CAVEDRLDNDMRF</td>\n",
       "      <td>CASSLIVSGGANEQFF</td>\n",
       "      <td>0</td>\n",
       "      <td>exp09</td>\n",
       "    </tr>\n",
       "    <tr>\n",
       "      <th>278451</th>\n",
       "      <td>EERQAYLTNQY</td>\n",
       "      <td>A0101</td>\n",
       "      <td>CAVEDRLDNDMRF</td>\n",
       "      <td>CASSLIVSGGANEQFF</td>\n",
       "      <td>0</td>\n",
       "      <td>exp09</td>\n",
       "    </tr>\n",
       "    <tr>\n",
       "      <th>278452</th>\n",
       "      <td>ALPGVPPV</td>\n",
       "      <td>A0201</td>\n",
       "      <td>CAVEDRLDNDMRF</td>\n",
       "      <td>CASSLIVSGGANEQFF</td>\n",
       "      <td>0</td>\n",
       "      <td>exp09</td>\n",
       "    </tr>\n",
       "    <tr>\n",
       "      <th>278453</th>\n",
       "      <td>GPRSERRKW</td>\n",
       "      <td>B0702</td>\n",
       "      <td>CAVEDRLDNDMRF</td>\n",
       "      <td>CASSLIVSGGANEQFF</td>\n",
       "      <td>0</td>\n",
       "      <td>exp09</td>\n",
       "    </tr>\n",
       "  </tbody>\n",
       "</table>\n",
       "<p>272268 rows × 6 columns</p>\n",
       "</div>"
      ],
      "text/plain": [
       "            peptide    mhc           cdr3_a            cdr3_b  label origin\n",
       "0         LLFGYPVYV  A0201    CAVTTDSWGKLQF  CASRPGLAGGRPEQYF      1   iedb\n",
       "1         LLFGYPVYV  A0201    CAVTTDSWGKLQF  CASRPGLMSAQPEQYF      1   iedb\n",
       "2         SLLMWITQV  A0201  CAVRPTSGGSYIPTF    CASSYVGNTGELFF      1   iedb\n",
       "3        ELAGIGILTV  A0201      CAVNVAGKSTF   CAWSETGLGTGELFF      1   iedb\n",
       "4         FLRGRAYGL  B0801       CVVRAGKLIF     CASGQGNFDIQYF      1   iedb\n",
       "...             ...    ...              ...               ...    ...    ...\n",
       "278449     CSSVDIHF  A0101    CAVEDRLDNDMRF  CASSLIVSGGANEQFF      0  exp09\n",
       "278450   YPLVKMRLSV  B0702    CAVEDRLDNDMRF  CASSLIVSGGANEQFF      0  exp09\n",
       "278451  EERQAYLTNQY  A0101    CAVEDRLDNDMRF  CASSLIVSGGANEQFF      0  exp09\n",
       "278452     ALPGVPPV  A0201    CAVEDRLDNDMRF  CASSLIVSGGANEQFF      0  exp09\n",
       "278453    GPRSERRKW  B0702    CAVEDRLDNDMRF  CASSLIVSGGANEQFF      0  exp09\n",
       "\n",
       "[272268 rows x 6 columns]"
      ]
     },
     "execution_count": 16,
     "metadata": {},
     "output_type": "execute_result"
    }
   ],
   "source": [
    "df.drop_duplicates(subset=['peptide','mhc','cdr3_a','cdr3_b']).to_csv(output_all, sep='\\t', index=False) #header=False, "
   ]
  },
  {
   "cell_type": "code",
   "execution_count": 30,
   "metadata": {},
   "outputs": [],
   "source": [
    "pos = df[df.label == 1].drop_duplicates(subset=['peptide','mhc','cdr3_a','cdr3_b'])"
   ]
  },
  {
   "cell_type": "code",
   "execution_count": 31,
   "metadata": {},
   "outputs": [],
   "source": [
    "pos[['cdr3_a','cdr3_b']].to_csv(cdr3_seqs, sep='\\t', header=False, index=False)"
   ]
  },
  {
   "cell_type": "code",
   "execution_count": 32,
   "metadata": {},
   "outputs": [],
   "source": [
    "pos.to_csv(output, sep='\\t', header=False, index=False)"
   ]
  },
  {
   "cell_type": "code",
   "execution_count": 33,
   "metadata": {},
   "outputs": [
    {
     "data": {
      "text/html": [
       "<div>\n",
       "<style scoped>\n",
       "    .dataframe tbody tr th:only-of-type {\n",
       "        vertical-align: middle;\n",
       "    }\n",
       "\n",
       "    .dataframe tbody tr th {\n",
       "        vertical-align: top;\n",
       "    }\n",
       "\n",
       "    .dataframe thead th {\n",
       "        text-align: right;\n",
       "    }\n",
       "</style>\n",
       "<table border=\"1\" class=\"dataframe\">\n",
       "  <thead>\n",
       "    <tr style=\"text-align: right;\">\n",
       "      <th></th>\n",
       "      <th>peptide</th>\n",
       "      <th>mhc</th>\n",
       "      <th>cdr3_a</th>\n",
       "      <th>cdr3_b</th>\n",
       "      <th>label</th>\n",
       "      <th>origin</th>\n",
       "    </tr>\n",
       "  </thead>\n",
       "  <tbody>\n",
       "    <tr>\n",
       "      <th>0</th>\n",
       "      <td>LLFGYPVYV</td>\n",
       "      <td>A0201</td>\n",
       "      <td>CAVTTDSWGKLQF</td>\n",
       "      <td>CASRPGLAGGRPEQYF</td>\n",
       "      <td>1</td>\n",
       "      <td>iedb</td>\n",
       "    </tr>\n",
       "    <tr>\n",
       "      <th>1</th>\n",
       "      <td>LLFGYPVYV</td>\n",
       "      <td>A0201</td>\n",
       "      <td>CAVTTDSWGKLQF</td>\n",
       "      <td>CASRPGLMSAQPEQYF</td>\n",
       "      <td>1</td>\n",
       "      <td>iedb</td>\n",
       "    </tr>\n",
       "    <tr>\n",
       "      <th>2</th>\n",
       "      <td>SLLMWITQV</td>\n",
       "      <td>A0201</td>\n",
       "      <td>CAVRPTSGGSYIPTF</td>\n",
       "      <td>CASSYVGNTGELFF</td>\n",
       "      <td>1</td>\n",
       "      <td>iedb</td>\n",
       "    </tr>\n",
       "    <tr>\n",
       "      <th>3</th>\n",
       "      <td>ELAGIGILTV</td>\n",
       "      <td>A0201</td>\n",
       "      <td>CAVNVAGKSTF</td>\n",
       "      <td>CAWSETGLGTGELFF</td>\n",
       "      <td>1</td>\n",
       "      <td>iedb</td>\n",
       "    </tr>\n",
       "    <tr>\n",
       "      <th>4</th>\n",
       "      <td>FLRGRAYGL</td>\n",
       "      <td>B0801</td>\n",
       "      <td>CVVRAGKLIF</td>\n",
       "      <td>CASGQGNFDIQYF</td>\n",
       "      <td>1</td>\n",
       "      <td>iedb</td>\n",
       "    </tr>\n",
       "    <tr>\n",
       "      <th>...</th>\n",
       "      <td>...</td>\n",
       "      <td>...</td>\n",
       "      <td>...</td>\n",
       "      <td>...</td>\n",
       "      <td>...</td>\n",
       "      <td>...</td>\n",
       "    </tr>\n",
       "    <tr>\n",
       "      <th>273310</th>\n",
       "      <td>VTEHDTLLY</td>\n",
       "      <td>A0101</td>\n",
       "      <td>CAAFRAYNTDKLIF</td>\n",
       "      <td>CASSYRTVSSYEQYF</td>\n",
       "      <td>1</td>\n",
       "      <td>exp09</td>\n",
       "    </tr>\n",
       "    <tr>\n",
       "      <th>273311</th>\n",
       "      <td>VTEHDTLLY</td>\n",
       "      <td>A0101</td>\n",
       "      <td>CAAFRAYNTDKLIF</td>\n",
       "      <td>CASSYTPGSTYEQYF</td>\n",
       "      <td>1</td>\n",
       "      <td>exp09</td>\n",
       "    </tr>\n",
       "    <tr>\n",
       "      <th>273312</th>\n",
       "      <td>VTEHDTLLY</td>\n",
       "      <td>A0101</td>\n",
       "      <td>CAVAAPAYSGAGSYQLTF</td>\n",
       "      <td>CASSYTPGSTYEQYF</td>\n",
       "      <td>1</td>\n",
       "      <td>exp09</td>\n",
       "    </tr>\n",
       "    <tr>\n",
       "      <th>273313</th>\n",
       "      <td>VTEHDTLLY</td>\n",
       "      <td>A0101</td>\n",
       "      <td>CAVNYGNKLVF</td>\n",
       "      <td>CATRQNTEAFF</td>\n",
       "      <td>1</td>\n",
       "      <td>exp09</td>\n",
       "    </tr>\n",
       "    <tr>\n",
       "      <th>273314</th>\n",
       "      <td>RAKFKQLL</td>\n",
       "      <td>B0801</td>\n",
       "      <td>CAVEDRLDNDMRF</td>\n",
       "      <td>CASSLIVSGGANEQFF</td>\n",
       "      <td>1</td>\n",
       "      <td>exp09</td>\n",
       "    </tr>\n",
       "  </tbody>\n",
       "</table>\n",
       "<p>7945 rows × 6 columns</p>\n",
       "</div>"
      ],
      "text/plain": [
       "           peptide    mhc              cdr3_a            cdr3_b  label origin\n",
       "0        LLFGYPVYV  A0201       CAVTTDSWGKLQF  CASRPGLAGGRPEQYF      1   iedb\n",
       "1        LLFGYPVYV  A0201       CAVTTDSWGKLQF  CASRPGLMSAQPEQYF      1   iedb\n",
       "2        SLLMWITQV  A0201     CAVRPTSGGSYIPTF    CASSYVGNTGELFF      1   iedb\n",
       "3       ELAGIGILTV  A0201         CAVNVAGKSTF   CAWSETGLGTGELFF      1   iedb\n",
       "4        FLRGRAYGL  B0801          CVVRAGKLIF     CASGQGNFDIQYF      1   iedb\n",
       "...            ...    ...                 ...               ...    ...    ...\n",
       "273310   VTEHDTLLY  A0101      CAAFRAYNTDKLIF   CASSYRTVSSYEQYF      1  exp09\n",
       "273311   VTEHDTLLY  A0101      CAAFRAYNTDKLIF   CASSYTPGSTYEQYF      1  exp09\n",
       "273312   VTEHDTLLY  A0101  CAVAAPAYSGAGSYQLTF   CASSYTPGSTYEQYF      1  exp09\n",
       "273313   VTEHDTLLY  A0101         CAVNYGNKLVF       CATRQNTEAFF      1  exp09\n",
       "273314    RAKFKQLL  B0801       CAVEDRLDNDMRF  CASSLIVSGGANEQFF      1  exp09\n",
       "\n",
       "[7945 rows x 6 columns]"
      ]
     },
     "execution_count": 33,
     "metadata": {},
     "output_type": "execute_result"
    }
   ],
   "source": [
    "pos"
   ]
  },
  {
   "cell_type": "code",
   "execution_count": 34,
   "metadata": {},
   "outputs": [],
   "source": [
    "def check_aa(seq):\n",
    "    regex = re.compile('^[ARNDCEQGHILKMFPSTWYV]+$')\n",
    "    match = regex.search(seq)\n",
    "    if match is not None:\n",
    "        return True\n",
    "    else:\n",
    "        return False"
   ]
  },
  {
   "cell_type": "code",
   "execution_count": 35,
   "metadata": {},
   "outputs": [
    {
     "data": {
      "text/plain": [
       "True"
      ]
     },
     "execution_count": 35,
     "metadata": {},
     "output_type": "execute_result"
    }
   ],
   "source": [
    "pos.cdr3_b.apply(lambda x: check_aa(x)).all()"
   ]
  },
  {
   "cell_type": "code",
   "execution_count": 36,
   "metadata": {},
   "outputs": [
    {
     "data": {
      "text/plain": [
       "GILGFVFTL      1578\n",
       "RAKFKQLL       1036\n",
       "KLGGALQAK       902\n",
       "AVFDRKSDAK      853\n",
       "RVRAYTYSK       740\n",
       "ELAGIGILTV      520\n",
       "GLCTLVAML       389\n",
       "IVTDFSVIK       384\n",
       "NLVPMVATV       282\n",
       "YVLDHLIVV       264\n",
       "TPRVTGGGAM      162\n",
       "RLRAEAQVK        82\n",
       "RPPIFIRRL        63\n",
       "RPHERNGFTVL      60\n",
       "FLYALALLL        58\n",
       "FLRGRAYGL        51\n",
       "SLFNTVATLY       49\n",
       "VTEHDTLLY        49\n",
       "LLFGYPVYV        37\n",
       "VLEETSVML        35\n",
       "FLASKIGRLV       34\n",
       "CLGGLLTMV        32\n",
       "LLDFVRFMGV       29\n",
       "RTLNAWVKV        28\n",
       "AYAQKIFKI        23\n",
       "TPSVSSSISSL      19\n",
       "IMDQVPFSV        19\n",
       "IPSINVHHY        17\n",
       "RPHERNGFTV       17\n",
       "MLDLQPETT        15\n",
       "QYDPVAALF        10\n",
       "RMFPNAPYL         9\n",
       "CLLWSFQTSA        9\n",
       "SLLMWITQV         9\n",
       "CYTWNQMNL         8\n",
       "KTWGQYWQV         8\n",
       "AYSSAGASI         8\n",
       "KVLEYVIKV         7\n",
       "YLNDHLEPWI        6\n",
       "RIAAWMATY         5\n",
       "YLLEMLWRL         5\n",
       "SLEGGGLGY         4\n",
       "STEGGGLAY         4\n",
       "CLLGTYTQDV        4\n",
       "ELRRKMMYM         4\n",
       "ILKEPVHGV         3\n",
       "EERQAYLTNQY       3\n",
       "AAKGRGAAL         2\n",
       "SLFNTVATL         2\n",
       "ALIAPVHAV         2\n",
       "FSAGAFILYK        2\n",
       "SLYNTVATLY        1\n",
       "ALPGVPPV          1\n",
       "TNQYMQRMASV       1\n",
       "SVDIHFDPGF        1\n",
       "Name: peptide, dtype: int64"
      ]
     },
     "execution_count": 36,
     "metadata": {},
     "output_type": "execute_result"
    }
   ],
   "source": [
    "pos.peptide.value_counts()"
   ]
  },
  {
   "cell_type": "code",
   "execution_count": 21,
   "metadata": {},
   "outputs": [
    {
     "data": {
      "text/plain": [
       "GILGFVFTL      1579\n",
       "RAKFKQLL       1036\n",
       "KLGGALQAK       902\n",
       "AVFDRKSDAK      853\n",
       "RVRAYTYSK       740\n",
       "ELAGIGILTV      520\n",
       "GLCTLVAML       393\n",
       "IVTDFSVIK       384\n",
       "NLVPMVATV       282\n",
       "TPRVTGGGAM      163\n",
       "YVLDHLIVV       127\n",
       "RLRAEAQVK        82\n",
       "RPPIFIRRL        63\n",
       "RPHERNGFTVL      61\n",
       "FLYALALLL        58\n",
       "FLRGRAYGL        53\n",
       "SLFNTVATLY       49\n",
       "VTEHDTLLY        49\n",
       "LLFGYPVYV        37\n",
       "VLEETSVML        35\n",
       "FLASKIGRLV       34\n",
       "CLGGLLTMV        32\n",
       "LLDFVRFMGV       29\n",
       "RTLNAWVKV        28\n",
       "AYAQKIFKI        23\n",
       "TPSVSSSISSL      19\n",
       "IMDQVPFSV        19\n",
       "IPSINVHHY        17\n",
       "RPHERNGFTV       17\n",
       "MLDLQPETT        15\n",
       "QYDPVAALF        10\n",
       "RMFPNAPYL         9\n",
       "CLLWSFQTSA        9\n",
       "SLLMWITQV         9\n",
       "CYTWNQMNL         8\n",
       "KTWGQYWQV         8\n",
       "AYSSAGASI         8\n",
       "KVLEYVIKV         7\n",
       "YLNDHLEPWI        6\n",
       "RIAAWMATY         5\n",
       "YLLEMLWRL         5\n",
       "SLEGGGLGY         4\n",
       "STEGGGLAY         4\n",
       "CLLGTYTQDV        4\n",
       "ELRRKMMYM         4\n",
       "ILKEPVHGV         3\n",
       "EERQAYLTNQY       3\n",
       "AAKGRGAAL         2\n",
       "SLFNTVATL         2\n",
       "ALIAPVHAV         2\n",
       "FSAGAFILYK        2\n",
       "SLYNTVATLY        1\n",
       "ALPGVPPV          1\n",
       "TNQYMQRMASV       1\n",
       "SVDIHFDPGF        1\n",
       "Name: peptide, dtype: int64"
      ]
     },
     "execution_count": 21,
     "metadata": {},
     "output_type": "execute_result"
    }
   ],
   "source": [
    "pos.peptide.value_counts()"
   ]
  },
  {
   "cell_type": "code",
   "execution_count": null,
   "metadata": {},
   "outputs": [],
   "source": []
  }
 ],
 "metadata": {
  "kernelspec": {
   "display_name": "Python 3",
   "language": "python",
   "name": "python3"
  },
  "language_info": {
   "codemirror_mode": {
    "name": "ipython",
    "version": 3
   },
   "file_extension": ".py",
   "mimetype": "text/x-python",
   "name": "python",
   "nbconvert_exporter": "python",
   "pygments_lexer": "ipython3",
   "version": "3.7.3"
  }
 },
 "nbformat": 4,
 "nbformat_minor": 4
}
