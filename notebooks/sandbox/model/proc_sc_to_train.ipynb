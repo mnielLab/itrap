{
 "cells": [
  {
   "cell_type": "code",
   "execution_count": 6,
   "metadata": {},
   "outputs": [],
   "source": [
    "import pandas as pd\n",
    "import numpy as np"
   ]
  },
  {
   "cell_type": "code",
   "execution_count": 7,
   "metadata": {},
   "outputs": [],
   "source": [
    "import sys  \n",
    "sys.path.insert(0, '../../scripts')\n",
    "\n",
    "from D_plot_specificity_matrix_utils import calc_binding_concordance"
   ]
  },
  {
   "cell_type": "code",
   "execution_count": 8,
   "metadata": {},
   "outputs": [],
   "source": [
    "def notnan(x):\n",
    "    return x == x"
   ]
  },
  {
   "cell_type": "code",
   "execution_count": 9,
   "metadata": {},
   "outputs": [],
   "source": [
    "def get_multiplets(df):\n",
    "    #tmp = df[idx1 & idx2]\n",
    "    dct = df.groupby(['ct','peptide_HLA']).gem.count() > 1\n",
    "    idx = df.set_index(['ct','peptide_HLA']).index.map(dct)\n",
    "    return idx.fillna(False)"
   ]
  },
  {
   "cell_type": "markdown",
   "metadata": {},
   "source": [
    "# Input"
   ]
  },
  {
   "cell_type": "code",
   "execution_count": 1,
   "metadata": {},
   "outputs": [],
   "source": [
    "#EXP = '../../experiments/exp10x/run1/cat/'\n",
    "#EXP = '../../experiments/exp13/run3/cat/'\n",
    "#EXP = '../../experiments/exp13/run2/cat/'\n",
    "EXP = '../../experiments/exp09/run1/cat/'"
   ]
  },
  {
   "cell_type": "code",
   "execution_count": 2,
   "metadata": {},
   "outputs": [],
   "source": [
    "VALID = EXP + 'eval_clonotypes/valid_ct.csv'\n",
    "#VALID = EXP + 'tables/tcr_barcode.cleaned.valid_ct.csv' # exp13_2\n",
    "THRSH = EXP + 'eval_clonotypes/threshold/opt.csv'"
   ]
  },
  {
   "cell_type": "markdown",
   "metadata": {},
   "source": [
    "# Output"
   ]
  },
  {
   "cell_type": "code",
   "execution_count": 40,
   "metadata": {},
   "outputs": [],
   "source": [
    "OUT = '../tmp_files/model_data/exp09.csv'"
   ]
  },
  {
   "cell_type": "markdown",
   "metadata": {},
   "source": [
    "# Load"
   ]
  },
  {
   "cell_type": "code",
   "execution_count": 10,
   "metadata": {},
   "outputs": [],
   "source": [
    "df = pd.read_csv(VALID)"
   ]
  },
  {
   "cell_type": "code",
   "execution_count": 11,
   "metadata": {},
   "outputs": [],
   "source": [
    "opt_thr = pd.read_csv(THRSH, index_col=0, header=None, names=['thr']).thr.dropna()"
   ]
  },
  {
   "cell_type": "code",
   "execution_count": 12,
   "metadata": {},
   "outputs": [
    {
     "data": {
      "text/plain": [
       "umi_count_mhc    2.000000\n",
       "delta_umi_mhc    1.636036\n",
       "umi_count_TRA    1.000000\n",
       "delta_umi_TRA    0.757858\n",
       "umi_count_TRB    2.000000\n",
       "delta_umi_TRB    0.757858\n",
       "Name: thr, dtype: float64"
      ]
     },
     "execution_count": 12,
     "metadata": {},
     "output_type": "execute_result"
    }
   ],
   "source": [
    "opt_thr"
   ]
  },
  {
   "cell_type": "code",
   "execution_count": 13,
   "metadata": {},
   "outputs": [],
   "source": [
    "df.fillna({'umi_count_mhc':0, 'delta_umi_mhc':0, 'umi_count_mhc_rel':0,\n",
    "           'umi_count_cd8':0, 'delta_umi_cd8':0,\n",
    "           'umi_count_TRA':0, 'delta_umi_TRA':0,\n",
    "           'umi_count_TRB':0, 'delta_umi_TRB':0}, inplace=True) #'cdr3_TRA':'','cdr3_TRB':''"
   ]
  },
  {
   "cell_type": "markdown",
   "metadata": {},
   "source": [
    "# Filters"
   ]
  },
  {
   "cell_type": "code",
   "execution_count": 15,
   "metadata": {},
   "outputs": [],
   "source": [
    "idx1 = eval(' & '.join([f'(df.{k} >= {abs(v)})' for k,v in opt_thr.items()]))\n",
    "\n",
    "#idx2 = df.hto_global_class == 'Singlet'\n",
    "\n",
    "idx3 = df.apply(lambda row: row.peptide_HLA.split()[-1] in row.HLA_cd8 if (notnan(row.peptide_HLA) & notnan(row.HLA_cd8)) else False, axis=1)\n",
    "\n",
    "idx4 = df['exclude_single-chain_TCRs']\n",
    "\n",
    "idx5 = get_multiplets(df)"
   ]
  },
  {
   "cell_type": "code",
   "execution_count": 15,
   "metadata": {},
   "outputs": [],
   "source": [
    "idx10x = ~(df.peptide_HLA.isin(['GILGFVFTL A0201','RAKFKQLL B0801','KLGGALQAK A0301']) & idx5)"
   ]
  },
  {
   "cell_type": "markdown",
   "metadata": {},
   "source": [
    "# Main"
   ]
  },
  {
   "cell_type": "code",
   "execution_count": 19,
   "metadata": {},
   "outputs": [],
   "source": [
    "sub_df = calc_binding_concordance(df[idx1].copy(), 'ct') # exp9\n",
    "#sub_df = calc_binding_concordance(df[idx1 & idx3].copy(), 'ct')\n",
    "#sub_df = calc_binding_concordance(df[idx1 & idx3 & idx10x].copy(), 'ct') # exp10x"
   ]
  },
  {
   "cell_type": "code",
   "execution_count": 20,
   "metadata": {},
   "outputs": [
    {
     "data": {
      "text/plain": [
       "(998, 105)"
      ]
     },
     "execution_count": 20,
     "metadata": {},
     "output_type": "execute_result"
    }
   ],
   "source": [
    "sub_df.shape"
   ]
  },
  {
   "cell_type": "code",
   "execution_count": 21,
   "metadata": {},
   "outputs": [],
   "source": [
    "sub_df = sub_df[sub_df.binding_concordance > 0.5].copy()"
   ]
  },
  {
   "cell_type": "code",
   "execution_count": 22,
   "metadata": {},
   "outputs": [],
   "source": [
    "sub_df.dropna(subset=['cdr3_TRA','cdr3_TRB'], inplace=True)\n",
    "sub_df.drop_duplicates(subset=['peptide_HLA','cdr3_TRA','cdr3_TRB'], inplace=True)"
   ]
  },
  {
   "cell_type": "code",
   "execution_count": 23,
   "metadata": {},
   "outputs": [],
   "source": [
    "sub_df.sort_values(by=['ct','pep_match','binding_concordance'], inplace=True)"
   ]
  },
  {
   "cell_type": "code",
   "execution_count": 24,
   "metadata": {},
   "outputs": [],
   "source": [
    "sub_df.drop_duplicates(subset=['ct'], keep='last', inplace=True)"
   ]
  },
  {
   "cell_type": "code",
   "execution_count": 25,
   "metadata": {},
   "outputs": [],
   "source": [
    "idx6 = (sub_df.cdr3_TRA.str.len() >= 8) & (sub_df.cdr3_TRA.str.len() <= 19)\n",
    "idx7 = (sub_df.cdr3_TRB.str.len() >= 8) & (sub_df.cdr3_TRB.str.len() <= 19)"
   ]
  },
  {
   "cell_type": "code",
   "execution_count": 26,
   "metadata": {},
   "outputs": [],
   "source": [
    "sub_df = sub_df[idx6 & idx7].copy()"
   ]
  },
  {
   "cell_type": "code",
   "execution_count": 27,
   "metadata": {},
   "outputs": [],
   "source": [
    "sub_df['label'] = 1"
   ]
  },
  {
   "cell_type": "code",
   "execution_count": 28,
   "metadata": {},
   "outputs": [
    {
     "data": {
      "text/plain": [
       "VTEHDTLLY A0101      48\n",
       "RAKFKQLL B0801       22\n",
       "TPRVTGGGAM B0702     12\n",
       "NLVPMVATV A0201       3\n",
       "EERQAYLTNQY A0101     3\n",
       "FSAGAFILYK A0101      2\n",
       "ALPGVPPV A0201        1\n",
       "TNQYMQRMASV A2401     1\n",
       "SVDIHFDPGF A0101      1\n",
       "Name: peptide_HLA, dtype: int64"
      ]
     },
     "execution_count": 28,
     "metadata": {},
     "output_type": "execute_result"
    }
   ],
   "source": [
    "sub_df.peptide_HLA.value_counts()"
   ]
  },
  {
   "cell_type": "code",
   "execution_count": 29,
   "metadata": {},
   "outputs": [
    {
     "data": {
      "text/html": [
       "<div>\n",
       "<style scoped>\n",
       "    .dataframe tbody tr th:only-of-type {\n",
       "        vertical-align: middle;\n",
       "    }\n",
       "\n",
       "    .dataframe tbody tr th {\n",
       "        vertical-align: top;\n",
       "    }\n",
       "\n",
       "    .dataframe thead th {\n",
       "        text-align: right;\n",
       "    }\n",
       "</style>\n",
       "<table border=\"1\" class=\"dataframe\">\n",
       "  <thead>\n",
       "    <tr style=\"text-align: right;\">\n",
       "      <th></th>\n",
       "      <th>peptide_HLA</th>\n",
       "      <th>cdr3_TRA</th>\n",
       "      <th>cdr3_TRB</th>\n",
       "      <th>label</th>\n",
       "    </tr>\n",
       "  </thead>\n",
       "  <tbody>\n",
       "    <tr>\n",
       "      <th>14</th>\n",
       "      <td>TPRVTGGGAM B0702</td>\n",
       "      <td>CAASQNEKLTF</td>\n",
       "      <td>CASRIGAAGNSPLHF</td>\n",
       "      <td>1</td>\n",
       "    </tr>\n",
       "    <tr>\n",
       "      <th>0</th>\n",
       "      <td>RAKFKQLL B0801</td>\n",
       "      <td>CALRDMEYGNKLVF</td>\n",
       "      <td>CASSLIVSGGANEQFF</td>\n",
       "      <td>1</td>\n",
       "    </tr>\n",
       "    <tr>\n",
       "      <th>17</th>\n",
       "      <td>NLVPMVATV A0201</td>\n",
       "      <td>CAVNYGNKLVF</td>\n",
       "      <td>CASSLVAGAPSEQYF</td>\n",
       "      <td>1</td>\n",
       "    </tr>\n",
       "    <tr>\n",
       "      <th>19</th>\n",
       "      <td>VTEHDTLLY A0101</td>\n",
       "      <td>CAVTAPAYSGAGSYQLTF</td>\n",
       "      <td>CASSYTPGSTYEQYF</td>\n",
       "      <td>1</td>\n",
       "    </tr>\n",
       "    <tr>\n",
       "      <th>92</th>\n",
       "      <td>VTEHDTLLY A0101</td>\n",
       "      <td>CAAFRAYNTDKLIF</td>\n",
       "      <td>CSARGLGQAKEYGYTF</td>\n",
       "      <td>1</td>\n",
       "    </tr>\n",
       "    <tr>\n",
       "      <th>...</th>\n",
       "      <td>...</td>\n",
       "      <td>...</td>\n",
       "      <td>...</td>\n",
       "      <td>...</td>\n",
       "    </tr>\n",
       "    <tr>\n",
       "      <th>1117</th>\n",
       "      <td>VTEHDTLLY A0101</td>\n",
       "      <td>CAAFRAYNTDKLIF</td>\n",
       "      <td>CASSYRTVSSYEQYF</td>\n",
       "      <td>1</td>\n",
       "    </tr>\n",
       "    <tr>\n",
       "      <th>1164</th>\n",
       "      <td>VTEHDTLLY A0101</td>\n",
       "      <td>CAAFRAYNTDKLIF</td>\n",
       "      <td>CASSYTPGSTYEQYF</td>\n",
       "      <td>1</td>\n",
       "    </tr>\n",
       "    <tr>\n",
       "      <th>28</th>\n",
       "      <td>VTEHDTLLY A0101</td>\n",
       "      <td>CAVAAPAYSGAGSYQLTF</td>\n",
       "      <td>CASSYTPGSTYEQYF</td>\n",
       "      <td>1</td>\n",
       "    </tr>\n",
       "    <tr>\n",
       "      <th>1001</th>\n",
       "      <td>VTEHDTLLY A0101</td>\n",
       "      <td>CAVNYGNKLVF</td>\n",
       "      <td>CATRQNTEAFF</td>\n",
       "      <td>1</td>\n",
       "    </tr>\n",
       "    <tr>\n",
       "      <th>2013</th>\n",
       "      <td>RAKFKQLL B0801</td>\n",
       "      <td>CAVEDRLDNDMRF</td>\n",
       "      <td>CASSLIVSGGANEQFF</td>\n",
       "      <td>1</td>\n",
       "    </tr>\n",
       "  </tbody>\n",
       "</table>\n",
       "<p>93 rows × 4 columns</p>\n",
       "</div>"
      ],
      "text/plain": [
       "           peptide_HLA            cdr3_TRA          cdr3_TRB  label\n",
       "14    TPRVTGGGAM B0702         CAASQNEKLTF   CASRIGAAGNSPLHF      1\n",
       "0       RAKFKQLL B0801      CALRDMEYGNKLVF  CASSLIVSGGANEQFF      1\n",
       "17     NLVPMVATV A0201         CAVNYGNKLVF   CASSLVAGAPSEQYF      1\n",
       "19     VTEHDTLLY A0101  CAVTAPAYSGAGSYQLTF   CASSYTPGSTYEQYF      1\n",
       "92     VTEHDTLLY A0101      CAAFRAYNTDKLIF  CSARGLGQAKEYGYTF      1\n",
       "...                ...                 ...               ...    ...\n",
       "1117   VTEHDTLLY A0101      CAAFRAYNTDKLIF   CASSYRTVSSYEQYF      1\n",
       "1164   VTEHDTLLY A0101      CAAFRAYNTDKLIF   CASSYTPGSTYEQYF      1\n",
       "28     VTEHDTLLY A0101  CAVAAPAYSGAGSYQLTF   CASSYTPGSTYEQYF      1\n",
       "1001   VTEHDTLLY A0101         CAVNYGNKLVF       CATRQNTEAFF      1\n",
       "2013    RAKFKQLL B0801       CAVEDRLDNDMRF  CASSLIVSGGANEQFF      1\n",
       "\n",
       "[93 rows x 4 columns]"
      ]
     },
     "execution_count": 29,
     "metadata": {},
     "output_type": "execute_result"
    }
   ],
   "source": [
    "sub_df[['peptide_HLA','cdr3_TRA','cdr3_TRB', 'label']]"
   ]
  },
  {
   "cell_type": "code",
   "execution_count": 30,
   "metadata": {},
   "outputs": [],
   "source": [
    "ct2pep = df.groupby('ct').peptide_HLA.unique().to_frame().rename(columns={'peptide_HLA':'pos_pep'}).reset_index()"
   ]
  },
  {
   "cell_type": "code",
   "execution_count": 31,
   "metadata": {},
   "outputs": [
    {
     "data": {
      "text/plain": [
       "{'AIFCAIQNL A0201',\n",
       " 'ALPGVPPV A0201',\n",
       " 'AMLIRDRL B0801',\n",
       " 'ATTADVDAGSL A0101',\n",
       " 'AYLTNQYM A2401',\n",
       " 'CSSVDIHF A0101',\n",
       " 'DEYVHNTTA B0801',\n",
       " 'EERQAYLTNQY A0101',\n",
       " 'FLDTNQVV A0201',\n",
       " 'FLDTNQVVRI A0201',\n",
       " 'FSAGAFILYK A0101',\n",
       " 'FSAGAFILYN A0101',\n",
       " 'GLFSAGAF A2401',\n",
       " 'GPFPGNLV B0702',\n",
       " 'GPFPGNLVD B0702',\n",
       " 'GPFPGNLVDV B0702',\n",
       " 'GPKPAKPCS B0702',\n",
       " 'GPKPAKPCSGA B0702',\n",
       " 'GPRSERRKW B0702',\n",
       " 'HTGEKHYAC B0801',\n",
       " 'ICSSVDIHF A0101',\n",
       " 'IHFDPGFEEQ A0101',\n",
       " 'IHFDPGFEEQL A2401',\n",
       " 'ILKEPVHGV A0201',\n",
       " 'ILLFERPHTM B0801',\n",
       " 'IQFTSFVAV A0201',\n",
       " 'IRHKRQSW B0801',\n",
       " 'IRHKRQSWV B0801',\n",
       " 'LFSAGAFILYN A0101',\n",
       " 'LHPSTPLKPL B0702',\n",
       " 'LLFERPHTM B0801',\n",
       " 'MDMFSDEQLKV A2401',\n",
       " 'NLVPMVATV A0201',\n",
       " 'PSTPLKPL B0702',\n",
       " 'QAYLTNQY A0101',\n",
       " 'RAKFKQLL B0801',\n",
       " 'RQAYLTNQY A0101',\n",
       " 'RQSWVNATL B0702',\n",
       " 'RRKVPAQRL B0801',\n",
       " 'RTMFWGPEV A0201',\n",
       " 'SAGAFILYK A0101',\n",
       " 'SIKDGLPPV A0201',\n",
       " 'SLIIQFTSFV A0201',\n",
       " 'SQKVLRHM B0801',\n",
       " 'SQSDQTSEL B0801',\n",
       " 'SSGYRIGQF B0801',\n",
       " 'SVDIHFDPG A0101',\n",
       " 'SVDIHFDPGF A0101',\n",
       " 'TADVDAGSLS A0101',\n",
       " 'TNQYMQRMASV A2401',\n",
       " 'TPRVTGGGAM B0702',\n",
       " 'VIRHKRQSW B0801',\n",
       " 'VPAQRLQEA B0801',\n",
       " 'VTEHDTLLY A0101',\n",
       " 'WPRAPRGQ B0702',\n",
       " 'WPRAPRGQI B0801',\n",
       " 'YPLVKMRLS B0702',\n",
       " 'YPLVKMRLSV B0702'}"
      ]
     },
     "execution_count": 31,
     "metadata": {},
     "output_type": "execute_result"
    }
   ],
   "source": [
    "all_pep = set(df.peptide_HLA.unique())\n",
    "all_pep"
   ]
  },
  {
   "cell_type": "code",
   "execution_count": 32,
   "metadata": {},
   "outputs": [],
   "source": [
    "ct2pep['peptide_HLA'] = ct2pep.apply(lambda row: list(all_pep - set(row.pos_pep)), axis=1)"
   ]
  },
  {
   "cell_type": "code",
   "execution_count": 33,
   "metadata": {},
   "outputs": [
    {
     "data": {
      "text/html": [
       "<div>\n",
       "<style scoped>\n",
       "    .dataframe tbody tr th:only-of-type {\n",
       "        vertical-align: middle;\n",
       "    }\n",
       "\n",
       "    .dataframe tbody tr th {\n",
       "        vertical-align: top;\n",
       "    }\n",
       "\n",
       "    .dataframe thead th {\n",
       "        text-align: right;\n",
       "    }\n",
       "</style>\n",
       "<table border=\"1\" class=\"dataframe\">\n",
       "  <thead>\n",
       "    <tr style=\"text-align: right;\">\n",
       "      <th></th>\n",
       "      <th>ct</th>\n",
       "      <th>pos_pep</th>\n",
       "      <th>peptide_HLA</th>\n",
       "    </tr>\n",
       "  </thead>\n",
       "  <tbody>\n",
       "    <tr>\n",
       "      <th>0</th>\n",
       "      <td>1.0</td>\n",
       "      <td>[VTEHDTLLY A0101, RAKFKQLL B0801, TPRVTGGGAM B...</td>\n",
       "      <td>[GPKPAKPCS B0702, LLFERPHTM B0801, GLFSAGAF A2...</td>\n",
       "    </tr>\n",
       "    <tr>\n",
       "      <th>1</th>\n",
       "      <td>2.0</td>\n",
       "      <td>[RAKFKQLL B0801, VTEHDTLLY A0101, EERQAYLTNQY ...</td>\n",
       "      <td>[LFSAGAFILYN A0101, LLFERPHTM B0801, FSAGAFILY...</td>\n",
       "    </tr>\n",
       "    <tr>\n",
       "      <th>2</th>\n",
       "      <td>3.0</td>\n",
       "      <td>[PSTPLKPL B0702, NLVPMVATV A0201, EERQAYLTNQY ...</td>\n",
       "      <td>[HTGEKHYAC B0801, LFSAGAFILYN A0101, GPKPAKPCS...</td>\n",
       "    </tr>\n",
       "    <tr>\n",
       "      <th>3</th>\n",
       "      <td>4.0</td>\n",
       "      <td>[VTEHDTLLY A0101, RAKFKQLL B0801, EERQAYLTNQY ...</td>\n",
       "      <td>[AMLIRDRL B0801, HTGEKHYAC B0801, GPKPAKPCS B0...</td>\n",
       "    </tr>\n",
       "    <tr>\n",
       "      <th>4</th>\n",
       "      <td>5.0</td>\n",
       "      <td>[VTEHDTLLY A0101, NLVPMVATV A0201, RAKFKQLL B0...</td>\n",
       "      <td>[AMLIRDRL B0801, HTGEKHYAC B0801, GPKPAKPCS B0...</td>\n",
       "    </tr>\n",
       "    <tr>\n",
       "      <th>...</th>\n",
       "      <td>...</td>\n",
       "      <td>...</td>\n",
       "      <td>...</td>\n",
       "    </tr>\n",
       "    <tr>\n",
       "      <th>323</th>\n",
       "      <td>633.0</td>\n",
       "      <td>[SVDIHFDPG A0101]</td>\n",
       "      <td>[AMLIRDRL B0801, HTGEKHYAC B0801, GPKPAKPCS B0...</td>\n",
       "    </tr>\n",
       "    <tr>\n",
       "      <th>324</th>\n",
       "      <td>634.0</td>\n",
       "      <td>[VTEHDTLLY A0101]</td>\n",
       "      <td>[AMLIRDRL B0801, HTGEKHYAC B0801, GPKPAKPCS B0...</td>\n",
       "    </tr>\n",
       "    <tr>\n",
       "      <th>325</th>\n",
       "      <td>636.0</td>\n",
       "      <td>[FLDTNQVV A0201]</td>\n",
       "      <td>[AMLIRDRL B0801, HTGEKHYAC B0801, GPKPAKPCS B0...</td>\n",
       "    </tr>\n",
       "    <tr>\n",
       "      <th>326</th>\n",
       "      <td>646.0</td>\n",
       "      <td>[RAKFKQLL B0801, VTEHDTLLY A0101]</td>\n",
       "      <td>[AMLIRDRL B0801, HTGEKHYAC B0801, GPKPAKPCS B0...</td>\n",
       "    </tr>\n",
       "    <tr>\n",
       "      <th>327</th>\n",
       "      <td>649.0</td>\n",
       "      <td>[RAKFKQLL B0801]</td>\n",
       "      <td>[AMLIRDRL B0801, HTGEKHYAC B0801, GPKPAKPCS B0...</td>\n",
       "    </tr>\n",
       "  </tbody>\n",
       "</table>\n",
       "<p>328 rows × 3 columns</p>\n",
       "</div>"
      ],
      "text/plain": [
       "        ct                                            pos_pep  \\\n",
       "0      1.0  [VTEHDTLLY A0101, RAKFKQLL B0801, TPRVTGGGAM B...   \n",
       "1      2.0  [RAKFKQLL B0801, VTEHDTLLY A0101, EERQAYLTNQY ...   \n",
       "2      3.0  [PSTPLKPL B0702, NLVPMVATV A0201, EERQAYLTNQY ...   \n",
       "3      4.0  [VTEHDTLLY A0101, RAKFKQLL B0801, EERQAYLTNQY ...   \n",
       "4      5.0  [VTEHDTLLY A0101, NLVPMVATV A0201, RAKFKQLL B0...   \n",
       "..     ...                                                ...   \n",
       "323  633.0                                  [SVDIHFDPG A0101]   \n",
       "324  634.0                                  [VTEHDTLLY A0101]   \n",
       "325  636.0                                   [FLDTNQVV A0201]   \n",
       "326  646.0                  [RAKFKQLL B0801, VTEHDTLLY A0101]   \n",
       "327  649.0                                   [RAKFKQLL B0801]   \n",
       "\n",
       "                                           peptide_HLA  \n",
       "0    [GPKPAKPCS B0702, LLFERPHTM B0801, GLFSAGAF A2...  \n",
       "1    [LFSAGAFILYN A0101, LLFERPHTM B0801, FSAGAFILY...  \n",
       "2    [HTGEKHYAC B0801, LFSAGAFILYN A0101, GPKPAKPCS...  \n",
       "3    [AMLIRDRL B0801, HTGEKHYAC B0801, GPKPAKPCS B0...  \n",
       "4    [AMLIRDRL B0801, HTGEKHYAC B0801, GPKPAKPCS B0...  \n",
       "..                                                 ...  \n",
       "323  [AMLIRDRL B0801, HTGEKHYAC B0801, GPKPAKPCS B0...  \n",
       "324  [AMLIRDRL B0801, HTGEKHYAC B0801, GPKPAKPCS B0...  \n",
       "325  [AMLIRDRL B0801, HTGEKHYAC B0801, GPKPAKPCS B0...  \n",
       "326  [AMLIRDRL B0801, HTGEKHYAC B0801, GPKPAKPCS B0...  \n",
       "327  [AMLIRDRL B0801, HTGEKHYAC B0801, GPKPAKPCS B0...  \n",
       "\n",
       "[328 rows x 3 columns]"
      ]
     },
     "execution_count": 33,
     "metadata": {},
     "output_type": "execute_result"
    }
   ],
   "source": [
    "ct2pep"
   ]
  },
  {
   "cell_type": "code",
   "execution_count": 34,
   "metadata": {},
   "outputs": [],
   "source": [
    "neg_df = pd.merge(sub_df[['ct','cdr3_TRA','cdr3_TRB']], ct2pep, on='ct', how='left').explode('peptide_HLA')"
   ]
  },
  {
   "cell_type": "code",
   "execution_count": 35,
   "metadata": {},
   "outputs": [],
   "source": [
    "neg_df['label'] = 0"
   ]
  },
  {
   "cell_type": "code",
   "execution_count": 36,
   "metadata": {},
   "outputs": [],
   "source": [
    "out_df = pd.concat([sub_df[['peptide_HLA','cdr3_TRA','cdr3_TRB', 'label']], neg_df[['peptide_HLA','cdr3_TRA','cdr3_TRB', 'label']]])"
   ]
  },
  {
   "cell_type": "code",
   "execution_count": 37,
   "metadata": {},
   "outputs": [],
   "source": [
    "pMHC = out_df.peptide_HLA.str.split(' ', expand=True)\n",
    "out_df['peptide'] = pMHC[0]\n",
    "out_df['mhc'] = pMHC[1]"
   ]
  },
  {
   "cell_type": "code",
   "execution_count": 38,
   "metadata": {},
   "outputs": [
    {
     "data": {
      "text/html": [
       "<div>\n",
       "<style scoped>\n",
       "    .dataframe tbody tr th:only-of-type {\n",
       "        vertical-align: middle;\n",
       "    }\n",
       "\n",
       "    .dataframe tbody tr th {\n",
       "        vertical-align: top;\n",
       "    }\n",
       "\n",
       "    .dataframe thead th {\n",
       "        text-align: right;\n",
       "    }\n",
       "</style>\n",
       "<table border=\"1\" class=\"dataframe\">\n",
       "  <thead>\n",
       "    <tr style=\"text-align: right;\">\n",
       "      <th></th>\n",
       "      <th>peptide_HLA</th>\n",
       "      <th>cdr3_TRA</th>\n",
       "      <th>cdr3_TRB</th>\n",
       "      <th>label</th>\n",
       "      <th>peptide</th>\n",
       "      <th>mhc</th>\n",
       "    </tr>\n",
       "  </thead>\n",
       "  <tbody>\n",
       "    <tr>\n",
       "      <th>14</th>\n",
       "      <td>TPRVTGGGAM B0702</td>\n",
       "      <td>CAASQNEKLTF</td>\n",
       "      <td>CASRIGAAGNSPLHF</td>\n",
       "      <td>1</td>\n",
       "      <td>TPRVTGGGAM</td>\n",
       "      <td>B0702</td>\n",
       "    </tr>\n",
       "    <tr>\n",
       "      <th>0</th>\n",
       "      <td>RAKFKQLL B0801</td>\n",
       "      <td>CALRDMEYGNKLVF</td>\n",
       "      <td>CASSLIVSGGANEQFF</td>\n",
       "      <td>1</td>\n",
       "      <td>RAKFKQLL</td>\n",
       "      <td>B0801</td>\n",
       "    </tr>\n",
       "    <tr>\n",
       "      <th>17</th>\n",
       "      <td>NLVPMVATV A0201</td>\n",
       "      <td>CAVNYGNKLVF</td>\n",
       "      <td>CASSLVAGAPSEQYF</td>\n",
       "      <td>1</td>\n",
       "      <td>NLVPMVATV</td>\n",
       "      <td>A0201</td>\n",
       "    </tr>\n",
       "    <tr>\n",
       "      <th>19</th>\n",
       "      <td>VTEHDTLLY A0101</td>\n",
       "      <td>CAVTAPAYSGAGSYQLTF</td>\n",
       "      <td>CASSYTPGSTYEQYF</td>\n",
       "      <td>1</td>\n",
       "      <td>VTEHDTLLY</td>\n",
       "      <td>A0101</td>\n",
       "    </tr>\n",
       "    <tr>\n",
       "      <th>92</th>\n",
       "      <td>VTEHDTLLY A0101</td>\n",
       "      <td>CAAFRAYNTDKLIF</td>\n",
       "      <td>CSARGLGQAKEYGYTF</td>\n",
       "      <td>1</td>\n",
       "      <td>VTEHDTLLY</td>\n",
       "      <td>A0101</td>\n",
       "    </tr>\n",
       "    <tr>\n",
       "      <th>...</th>\n",
       "      <td>...</td>\n",
       "      <td>...</td>\n",
       "      <td>...</td>\n",
       "      <td>...</td>\n",
       "      <td>...</td>\n",
       "      <td>...</td>\n",
       "    </tr>\n",
       "    <tr>\n",
       "      <th>92</th>\n",
       "      <td>CSSVDIHF A0101</td>\n",
       "      <td>CAVEDRLDNDMRF</td>\n",
       "      <td>CASSLIVSGGANEQFF</td>\n",
       "      <td>0</td>\n",
       "      <td>CSSVDIHF</td>\n",
       "      <td>A0101</td>\n",
       "    </tr>\n",
       "    <tr>\n",
       "      <th>92</th>\n",
       "      <td>YPLVKMRLSV B0702</td>\n",
       "      <td>CAVEDRLDNDMRF</td>\n",
       "      <td>CASSLIVSGGANEQFF</td>\n",
       "      <td>0</td>\n",
       "      <td>YPLVKMRLSV</td>\n",
       "      <td>B0702</td>\n",
       "    </tr>\n",
       "    <tr>\n",
       "      <th>92</th>\n",
       "      <td>EERQAYLTNQY A0101</td>\n",
       "      <td>CAVEDRLDNDMRF</td>\n",
       "      <td>CASSLIVSGGANEQFF</td>\n",
       "      <td>0</td>\n",
       "      <td>EERQAYLTNQY</td>\n",
       "      <td>A0101</td>\n",
       "    </tr>\n",
       "    <tr>\n",
       "      <th>92</th>\n",
       "      <td>ALPGVPPV A0201</td>\n",
       "      <td>CAVEDRLDNDMRF</td>\n",
       "      <td>CASSLIVSGGANEQFF</td>\n",
       "      <td>0</td>\n",
       "      <td>ALPGVPPV</td>\n",
       "      <td>A0201</td>\n",
       "    </tr>\n",
       "    <tr>\n",
       "      <th>92</th>\n",
       "      <td>GPRSERRKW B0702</td>\n",
       "      <td>CAVEDRLDNDMRF</td>\n",
       "      <td>CASSLIVSGGANEQFF</td>\n",
       "      <td>0</td>\n",
       "      <td>GPRSERRKW</td>\n",
       "      <td>B0702</td>\n",
       "    </tr>\n",
       "  </tbody>\n",
       "</table>\n",
       "<p>5232 rows × 6 columns</p>\n",
       "</div>"
      ],
      "text/plain": [
       "          peptide_HLA            cdr3_TRA          cdr3_TRB  label  \\\n",
       "14   TPRVTGGGAM B0702         CAASQNEKLTF   CASRIGAAGNSPLHF      1   \n",
       "0      RAKFKQLL B0801      CALRDMEYGNKLVF  CASSLIVSGGANEQFF      1   \n",
       "17    NLVPMVATV A0201         CAVNYGNKLVF   CASSLVAGAPSEQYF      1   \n",
       "19    VTEHDTLLY A0101  CAVTAPAYSGAGSYQLTF   CASSYTPGSTYEQYF      1   \n",
       "92    VTEHDTLLY A0101      CAAFRAYNTDKLIF  CSARGLGQAKEYGYTF      1   \n",
       "..                ...                 ...               ...    ...   \n",
       "92     CSSVDIHF A0101       CAVEDRLDNDMRF  CASSLIVSGGANEQFF      0   \n",
       "92   YPLVKMRLSV B0702       CAVEDRLDNDMRF  CASSLIVSGGANEQFF      0   \n",
       "92  EERQAYLTNQY A0101       CAVEDRLDNDMRF  CASSLIVSGGANEQFF      0   \n",
       "92     ALPGVPPV A0201       CAVEDRLDNDMRF  CASSLIVSGGANEQFF      0   \n",
       "92    GPRSERRKW B0702       CAVEDRLDNDMRF  CASSLIVSGGANEQFF      0   \n",
       "\n",
       "        peptide    mhc  \n",
       "14   TPRVTGGGAM  B0702  \n",
       "0      RAKFKQLL  B0801  \n",
       "17    NLVPMVATV  A0201  \n",
       "19    VTEHDTLLY  A0101  \n",
       "92    VTEHDTLLY  A0101  \n",
       "..          ...    ...  \n",
       "92     CSSVDIHF  A0101  \n",
       "92   YPLVKMRLSV  B0702  \n",
       "92  EERQAYLTNQY  A0101  \n",
       "92     ALPGVPPV  A0201  \n",
       "92    GPRSERRKW  B0702  \n",
       "\n",
       "[5232 rows x 6 columns]"
      ]
     },
     "execution_count": 38,
     "metadata": {},
     "output_type": "execute_result"
    }
   ],
   "source": [
    "out_df"
   ]
  },
  {
   "cell_type": "code",
   "execution_count": 39,
   "metadata": {},
   "outputs": [
    {
     "data": {
      "text/plain": [
       "peptide_HLA        label\n",
       "AIFCAIQNL A0201    0        92\n",
       "ALPGVPPV A0201     0        89\n",
       "                   1         1\n",
       "AMLIRDRL B0801     0        89\n",
       "ATTADVDAGSL A0101  0        88\n",
       "                            ..\n",
       "VTEHDTLLY A0101    1        48\n",
       "WPRAPRGQ B0702     0        90\n",
       "WPRAPRGQI B0801    0        92\n",
       "YPLVKMRLS B0702    0        93\n",
       "YPLVKMRLSV B0702   0        90\n",
       "Length: 67, dtype: int64"
      ]
     },
     "execution_count": 39,
     "metadata": {},
     "output_type": "execute_result"
    }
   ],
   "source": [
    "out_df.groupby(['peptide_HLA','label']).size()"
   ]
  },
  {
   "cell_type": "code",
   "execution_count": 41,
   "metadata": {},
   "outputs": [],
   "source": [
    "out_df[['peptide','mhc','cdr3_TRA','cdr3_TRB','label']].to_csv(OUT, index=False, header=False)"
   ]
  },
  {
   "cell_type": "code",
   "execution_count": null,
   "metadata": {},
   "outputs": [],
   "source": []
  }
 ],
 "metadata": {
  "kernelspec": {
   "display_name": "Python 3",
   "language": "python",
   "name": "python3"
  },
  "language_info": {
   "codemirror_mode": {
    "name": "ipython",
    "version": 3
   },
   "file_extension": ".py",
   "mimetype": "text/x-python",
   "name": "python",
   "nbconvert_exporter": "python",
   "pygments_lexer": "ipython3",
   "version": "3.7.3"
  }
 },
 "nbformat": 4,
 "nbformat_minor": 4
}
