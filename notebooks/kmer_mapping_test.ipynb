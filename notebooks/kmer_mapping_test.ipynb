{
 "cells": [
  {
   "cell_type": "code",
   "execution_count": 17,
   "metadata": {},
   "outputs": [],
   "source": [
    "import re\n",
    "import numpy as np"
   ]
  },
  {
   "cell_type": "code",
   "execution_count": 2,
   "metadata": {},
   "outputs": [],
   "source": [
    "read = \"CACGACGCTCTTCCGATCTAGGTCCGGTGACGGTAGCGCAGAGGCTTTCTTATATGGGCGAGTACCATGGGCGTAACCTAGAACTTGGCAATCCATGCTCCCATTTGGCTACGCCTTTTGGGGAAGGTCACACCGGGAAACACCATCCAATTAGCCGCGGAGAAGACGCTGGCTGGAACTTCTGAGAGATCG\"\n",
    "#                                                                 CGAGTACCATGGGCGTAAC"
   ]
  },
  {
   "cell_type": "code",
   "execution_count": 3,
   "metadata": {},
   "outputs": [],
   "source": [
    "PRIMER_R4 = \"CGAGTACCATGGGCGTAAC\""
   ]
  },
  {
   "cell_type": "code",
   "execution_count": 5,
   "metadata": {},
   "outputs": [
    {
     "data": {
      "text/plain": [
       "16"
      ]
     },
     "execution_count": 5,
     "metadata": {},
     "output_type": "execute_result"
    }
   ],
   "source": [
    "len(PRIMER_R4)-4+1"
   ]
  },
  {
   "cell_type": "code",
   "execution_count": 20,
   "metadata": {},
   "outputs": [
    {
     "data": {
      "text/plain": [
       "array([3, 3, 3])"
      ]
     },
     "execution_count": 20,
     "metadata": {},
     "output_type": "execute_result"
    }
   ],
   "source": [
    "np.array([4,5,6])-np.array([1,2,3])"
   ]
  },
  {
   "cell_type": "code",
   "execution_count": 27,
   "metadata": {},
   "outputs": [
    {
     "data": {
      "text/plain": [
       "array([1, 1, 1])"
      ]
     },
     "execution_count": 27,
     "metadata": {},
     "output_type": "execute_result"
    }
   ],
   "source": [
    "np.diff([1,2,3,4])"
   ]
  },
  {
   "cell_type": "code",
   "execution_count": 26,
   "metadata": {},
   "outputs": [
    {
     "name": "stdout",
     "output_type": "stream",
     "text": [
      "[[3 4 3]\n",
      " [2 3 2]\n",
      " [1 2 1]]\n"
     ]
    },
    {
     "data": {
      "text/plain": [
       "(array([2, 2]), array([0, 2]))"
      ]
     },
     "execution_count": 26,
     "metadata": {},
     "output_type": "execute_result"
    }
   ],
   "source": [
    "b = np.array([4,5,4])\n",
    "a = np.array([1,2,3])\n",
    "c = np.array([b-i for i in a])\n",
    "print(c)\n",
    "np.where(c == 1)"
   ]
  },
  {
   "cell_type": "code",
   "execution_count": 29,
   "metadata": {
    "scrolled": false
   },
   "outputs": [
    {
     "name": "stdout",
     "output_type": "stream",
     "text": [
      "CGAG\n",
      "[58]\n",
      "GAGT\n",
      "[59]\n",
      "AGTA\n",
      "[60]\n",
      "GTAC\n",
      "[61]\n",
      "TACC\n",
      "[62]\n",
      "ACCA\n",
      "[63, 141]\n",
      "CCAT\n",
      "[64, 92, 100, 142]\n",
      "CATG\n",
      "[65, 93]\n",
      "ATGG\n",
      "[53, 66]\n",
      "TGGG\n",
      "[54, 67, 118]\n",
      "GGGC\n",
      "[55, 68]\n",
      "GGCG\n",
      "[56, 69]\n",
      "GCGT\n",
      "[70]\n",
      "CGTA\n",
      "[71]\n",
      "GTAA\n",
      "[72]\n",
      "TAAC\n",
      "[73]\n"
     ]
    }
   ],
   "source": [
    "k = 4\n",
    "for i in range(len(PRIMER_R4)- k + 1):\n",
    "    kmer = PRIMER_R4[i:i+k]\n",
    "    print(kmer)\n",
    "    mapping_index = [match.start() for match in re.finditer(kmer, read)]\n",
    "    print(mapping_index)\n",
    "    \n",
    "    if i == 0:\n",
    "        mapping_start = mapping_index\n",
    "        \n",
    "    #if i > 0:\n",
    "        #mapping_sequence = [mapping_index[i]-mapping_start[i] for i in mapping_index]\n",
    "        #print(mapping_sequence.index(1))"
   ]
  },
  {
   "cell_type": "code",
   "execution_count": 32,
   "metadata": {},
   "outputs": [
    {
     "data": {
      "text/plain": [
       "array([[1, 2],\n",
       "       [0, 0]])"
      ]
     },
     "execution_count": 32,
     "metadata": {},
     "output_type": "execute_result"
    }
   ],
   "source": [
    "np.array(([1,2],[0]*2))"
   ]
  },
  {
   "cell_type": "code",
   "execution_count": null,
   "metadata": {},
   "outputs": [],
   "source": [
    "k = 4\n",
    "kmer = PRIMER_R4[:k]\n",
    "mapping_index = [match.start() for match in re.finditer(kmer, read)]\n",
    "mapping_stats = np.array((mapping_index), [0] * len(mapping_index))\n",
    "\n",
    "for i in range(len(PRIMER_R4)- k + 1):\n",
    "    kmer = PRIMER_R4[i:i+k]\n",
    "    print(kmer)\n",
    "    mapping_index = [match.start() for match in re.finditer(kmer, read)]\n",
    "    print(mapping_index)\n",
    "    \n",
    "    if i == 0:\n",
    "        mapping_start = mapping_index\n",
    "        \n",
    "    #if i > 0:\n",
    "        #mapping_sequence = [mapping_index[i]-mapping_start[i] for i in mapping_index]\n",
    "        #print(mapping_sequence.index(1))"
   ]
  }
 ],
 "metadata": {
  "kernelspec": {
   "display_name": "Python 3",
   "language": "python",
   "name": "python3"
  },
  "language_info": {
   "codemirror_mode": {
    "name": "ipython",
    "version": 3
   },
   "file_extension": ".py",
   "mimetype": "text/x-python",
   "name": "python",
   "nbconvert_exporter": "python",
   "pygments_lexer": "ipython3",
   "version": "3.7.3"
  }
 },
 "nbformat": 4,
 "nbformat_minor": 2
}
