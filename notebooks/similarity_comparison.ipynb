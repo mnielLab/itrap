{
 "cells": [
  {
   "cell_type": "code",
   "execution_count": 1,
   "metadata": {},
   "outputs": [],
   "source": [
    "import numpy as np\n",
    "import pandas as pd\n",
    "import matplotlib.pyplot as plt\n",
    "import seaborn as sns\n",
    "import scipy.stats as stats\n",
    "import random\n",
    "import re\n",
    "import statistics\n",
    "\n",
    "plt.style.use('ggplot')"
   ]
  },
  {
   "cell_type": "markdown",
   "metadata": {},
   "source": [
    "# Args"
   ]
  },
  {
   "cell_type": "code",
   "execution_count": 2,
   "metadata": {},
   "outputs": [],
   "source": [
    "def get_unique_entries(df):\n",
    "    return np.where((df.cdr3_TRA==a) & (df.cdr3_TRB==b), False, True)"
   ]
  },
  {
   "cell_type": "code",
   "execution_count": 3,
   "metadata": {},
   "outputs": [],
   "source": [
    "def add_similarity_scores(ai,bi):\n",
    "    mat_a = sim_tra.loc[ai, a].reset_index(drop=True).T.reset_index(drop=True).T\n",
    "    mat_b = sim_trb.loc[bi, b].reset_index(drop=True).T.reset_index(drop=True).T\n",
    "    \n",
    "    return mat_a.add(mat_b)"
   ]
  },
  {
   "cell_type": "code",
   "execution_count": 4,
   "metadata": {},
   "outputs": [],
   "source": [
    "def get_intra_similarity(cdr3_TRAs, cdr3_TRBs):\n",
    "    unique_entries = get_unique_entries(group) #np.where((group.cdr3_TRA==a) & (group.cdr3_TRB==b), False, True)\n",
    "    \n",
    "    intra_a = group[unique_entries].cdr3_TRA\n",
    "    intra_b = group[unique_entries].cdr3_TRB\n",
    "    \n",
    "    combined_similarity = add_similarity_scores(intra_a, intra_b) #np.delete(cdr3_TRAs, index), np.delete(cdr3_TRBs, index)\n",
    "    \n",
    "    return {'score': combined_similarity.max(),\n",
    "            'fraction': sum(combined_similarity > 1.8)/len(combined_similarity)}"
   ]
  },
  {
   "cell_type": "code",
   "execution_count": 5,
   "metadata": {},
   "outputs": [],
   "source": [
    "def get_inter_similarity(cdr3_TRAs, cdr3_TRBs):\n",
    "    # OBS! make sure the size to sample from matches the number og unique entries intra_similarity!\n",
    "    sample_size = sum(get_unique_entries(group))\n",
    "    unique_entries =  get_unique_entries(inter_chains) #np.where((inter_chains.cdr3_TRA==a) & (inter_chains.cdr3_TRB==b), False, True)\n",
    "    \n",
    "    inter_sample = random.sample(inter_chains[unique_entries].index.to_list(), sample_size)\n",
    "    \n",
    "    inter_a = inter_chains.loc[inter_sample, 'cdr3_TRA'].values\n",
    "    inter_b = inter_chains.loc[inter_sample, 'cdr3_TRB'].values\n",
    "    \n",
    "    combined_similarity = add_similarity_scores(inter_a, inter_b)\n",
    "    \n",
    "    return {'score': combined_similarity.max(),\n",
    "            'fraction': sum(combined_similarity > 1.8)/len(combined_similarity)}"
   ]
  },
  {
   "cell_type": "code",
   "execution_count": 133,
   "metadata": {},
   "outputs": [],
   "source": [
    "def get_sample_size():\n",
    "    inter_entries = get_unique_entries(inter_chains)\n",
    "    inter_indexes = inter_chains[inter_entries].index.to_list()\n",
    "    return min(sum(get_unique_entries(group)), len(inter_indexes))\n",
    "\n",
    "def get_intra_similarity(cdr3_TRAs, cdr3_TRBs):\n",
    "    unique_entries = get_unique_entries(group)\n",
    "    unique_entry_indexes = group[unique_entries].index.to_list()\n",
    "\n",
    "    sample_size = get_sample_size()\n",
    "\n",
    "    intra_sample = random.sample(unique_entry_indexes, sample_size)\n",
    "    intra_a = group.loc[intra_sample, 'cdr3_TRA'].values\n",
    "    intra_b = group.loc[intra_sample, 'cdr3_TRB'].values\n",
    "    combined_similarity = add_similarity_scores(intra_a, intra_b)\n",
    "    return {'score': combined_similarity.max(),\n",
    "            'fraction': sum(combined_similarity > 1.8)/len(combined_similarity)}\n",
    "\n",
    "def get_inter_similarity(cdr3_TRAs, cdr3_TRBs):\n",
    "    # OBS! make sure the size to sample from matches the number og unique entries intra_similarity! \n",
    "    unique_entries = get_unique_entries(inter_chains)\n",
    "    unique_entry_indexes = inter_chains[unique_entries].index.to_list()\n",
    "\n",
    "    sample_size = get_sample_size()\n",
    "\n",
    "    inter_sample = random.sample(unique_entry_indexes, sample_size)\n",
    "    inter_a = inter_chains.loc[inter_sample, 'cdr3_TRA'].values\n",
    "    inter_b = inter_chains.loc[inter_sample, 'cdr3_TRB'].values\n",
    "    combined_similarity = add_similarity_scores(inter_a, inter_b) \n",
    "    return {'score': combined_similarity.max(),\n",
    "            'fraction': sum(combined_similarity > 1.8)/len(combined_similarity)}"
   ]
  },
  {
   "cell_type": "code",
   "execution_count": 6,
   "metadata": {},
   "outputs": [],
   "source": [
    "def paired_t_test(x1 ,x2):\n",
    "    assert len(x1) == len(x2)\n",
    "    \n",
    "    statistic, pvalue = stats.ttest_rel(x1, x2)\n",
    "    \n",
    "    if (pvalue/2.0 < 0.05) & (statistic > 0) & (len(x1) > 9):\n",
    "        return {'test':True, 'pvalue':pvalue}\n",
    "    else:\n",
    "        return {'test':False, 'pvalue':pvalue}"
   ]
  },
  {
   "cell_type": "code",
   "execution_count": 7,
   "metadata": {},
   "outputs": [],
   "source": [
    "def add_number_of_observations(intra_lst, inter_lst):\n",
    "    for box, lst in enumerate([intra_lst, inter_lst], start=1):\n",
    "        median = statistics.median(lst)\n",
    "        plt.text(box, median, \"n: %i\" %len(lst), ha='center', va='bottom')"
   ]
  },
  {
   "cell_type": "code",
   "execution_count": 8,
   "metadata": {},
   "outputs": [],
   "source": [
    "def add_significance_bar(intra_lst, inter_lst):\n",
    "    t = paired_t_test(intra_lst, inter_lst)#['pvalue']\n",
    "    \n",
    "    if t['test'] and t['pvalue'] < 0.05:\n",
    "        pass\n",
    "    else:\n",
    "        return\n",
    "    \n",
    "    y0 =  max(max(intra_lst), max(inter_lst))\n",
    "    y1 = y0 * 1.02\n",
    "    y2 = y0 * 1.025\n",
    "    y3 = y0 * 1.03\n",
    "    y4 = y0 * 1.035\n",
    "\n",
    "    plt.plot([1,1,2,2], [y1,y2,y2,y1], lw=1.5, c='k')\n",
    "    plt.text(1.5, y3, \"p = %.6f\" %t['pvalue'], ha='center', va='bottom', color='k')\n",
    "    plt.plot(1, y4)"
   ]
  },
  {
   "cell_type": "code",
   "execution_count": 10,
   "metadata": {},
   "outputs": [],
   "source": [
    "def plot_boxplot(intra_lst, inter_lst, title):\n",
    "    \n",
    "    plt.figure(figsize=(3,5))\n",
    "    plt.boxplot([intra_lst, inter_lst], labels=['intra', 'inter'], widths=(0.5, 0.5))\n",
    "    \n",
    "    plt.title(title)\n",
    "    plt.xlim(0.6, 2.4)\n",
    "    #plt.ylim(-0.1, 2.1)\n",
    "    plt.ylabel(\"Similarity\")\n",
    "    \n",
    "    add_number_of_observations(intra_lst, inter_lst)\n",
    "    add_significance_bar(intra_lst, inter_lst)\n",
    "    #plt.savefig(directory + 'boxplot_{}.pdf'.format(title), bbox_inches='tight')\n",
    "    plt.show()"
   ]
  },
  {
   "cell_type": "code",
   "execution_count": 11,
   "metadata": {},
   "outputs": [],
   "source": [
    "def plot_pieplot(significance_count, total_peptides):\n",
    "    plt.pie([sum(significance_count), total_peptides-sum(significance_count)],\n",
    "            labels=['significant difference', 'insignificant'],\n",
    "            autopct=lambda p: '{:.0f} ({:.0f}%)'.format(p * total_peptides / 100, p))\n",
    "    plt.title(\"Distribution of significant outcomes (%i)\" %total_peptides)\n",
    "    #plt.savefig(directory + 'pieplot.pdf', bbox_inches='tight')\n",
    "    plt.show()"
   ]
  },
  {
   "cell_type": "code",
   "execution_count": 98,
   "metadata": {},
   "outputs": [],
   "source": [
    "EXP = \"exp3\""
   ]
  },
  {
   "cell_type": "code",
   "execution_count": 99,
   "metadata": {},
   "outputs": [],
   "source": [
    "#TYPE = 'imputed_new-clonotype'"
   ]
  },
  {
   "cell_type": "code",
   "execution_count": 100,
   "metadata": {},
   "outputs": [],
   "source": [
    "#directory = \"stats/{}/{}/\".format(EXP, TYPE)"
   ]
  },
  {
   "cell_type": "markdown",
   "metadata": {},
   "source": [
    "# Input"
   ]
  },
  {
   "cell_type": "code",
   "execution_count": 101,
   "metadata": {},
   "outputs": [],
   "source": [
    "##INPUT_DISC = 'tcr_barcode.cleaned.imputed.nonimputed_discarded.csv'\n",
    "#if TYPE == 'imputed_new-clonotype':\n",
    "#    INPUT = 'tcr_barcode.cleaned.imputed.{}.csv'.format(EXP)\n",
    "#elif TYPE == 'non-imputed_new-clonotype':\n",
    "#    INPUT = \"/Volumes/tuba/herpov/tcr-pmhc-sc-project/data/\" + EXP + \"_CAT_IONTORRENT_KMA_AKB/tables/tcr_barcode.cleaned.csv\""
   ]
  },
  {
   "cell_type": "code",
   "execution_count": 102,
   "metadata": {},
   "outputs": [],
   "source": [
    "INPUT = \"/Volumes/tuba/herpov/tcr-pmhc-sc-project/data/\" + EXP + \"_CAT_IONTORRENT_KMA_AKB/tables/tcr_barcode.cleaned.imputed.csv\""
   ]
  },
  {
   "cell_type": "code",
   "execution_count": 237,
   "metadata": {},
   "outputs": [],
   "source": [
    "UNIQUE_GEM = \"/Volumes/tuba/herpov/tcr-pmhc-sc-project/data/exp3_CAT_IONTORRENT_KMA_AKB/specificity_matrix/peptide_per_clonotype_by_gem_size/ct/umi_delta0/no_filtration/unique_gems/b4.t2.ecs_False.ess_False.lst\""
   ]
  },
  {
   "cell_type": "code",
   "execution_count": 238,
   "metadata": {},
   "outputs": [],
   "source": [
    "SIM_TRA    = \"/Volumes/tuba/herpov/tcr-pmhc-sc-project/kernel_similarity_tra.{}.tab\".format(EXP)\n",
    "SIM_TRB    = \"/Volumes/tuba/herpov/tcr-pmhc-sc-project/kernel_similarity_trb.{}.tab\".format(EXP)"
   ]
  },
  {
   "cell_type": "code",
   "execution_count": 239,
   "metadata": {},
   "outputs": [],
   "source": [
    "PEPTIDES   = \"/Volumes/tuba/herpov/tcr-pmhc-sc-project/data/exp3.2.2_MHC_IONTORRENT/barcode_library/barcode_specificity_annotations.xlsx\""
   ]
  },
  {
   "cell_type": "markdown",
   "metadata": {},
   "source": [
    "# Output"
   ]
  },
  {
   "cell_type": "markdown",
   "metadata": {},
   "source": [
    "# Load"
   ]
  },
  {
   "cell_type": "code",
   "execution_count": 240,
   "metadata": {},
   "outputs": [],
   "source": [
    "unique_gems = np.loadtxt(UNIQUE_GEM, dtype=str)"
   ]
  },
  {
   "cell_type": "code",
   "execution_count": 241,
   "metadata": {},
   "outputs": [],
   "source": [
    "df = pd.read_csv(INPUT)\n",
    "df = df[df.gem.isin(unique_gems)]"
   ]
  },
  {
   "cell_type": "code",
   "execution_count": 242,
   "metadata": {},
   "outputs": [],
   "source": [
    "sim_tra = pd.read_csv(SIM_TRA, index_col=0)\n",
    "sim_trb = pd.read_csv(SIM_TRB, index_col=0)\n",
    "\n",
    "sim_tra = sim_tra[~sim_tra.index.duplicated()]\n",
    "sim_trb = sim_trb[~sim_trb.index.duplicated()]"
   ]
  },
  {
   "cell_type": "code",
   "execution_count": 243,
   "metadata": {},
   "outputs": [],
   "source": [
    "input_peptides = pd.read_excel(PEPTIDES)\n",
    "total_peptides = len(input_peptides.Sequence.unique()) - 1"
   ]
  },
  {
   "cell_type": "markdown",
   "metadata": {},
   "source": [
    "# Process"
   ]
  },
  {
   "cell_type": "code",
   "execution_count": 244,
   "metadata": {},
   "outputs": [
    {
     "data": {
      "text/plain": [
       "559"
      ]
     },
     "execution_count": 244,
     "metadata": {},
     "output_type": "execute_result"
    }
   ],
   "source": [
    "df.shape[0]"
   ]
  },
  {
   "cell_type": "code",
   "execution_count": 245,
   "metadata": {},
   "outputs": [],
   "source": [
    "df = df.replace('unknown', np.nan).dropna(subset=['cdr3_TRA', 'cdr3_TRB'])"
   ]
  },
  {
   "cell_type": "markdown",
   "metadata": {},
   "source": [
    "# Main"
   ]
  },
  {
   "cell_type": "code",
   "execution_count": 246,
   "metadata": {
    "scrolled": true
   },
   "outputs": [
    {
     "name": "stdout",
     "output_type": "stream",
     "text": [
      "42 42\n",
      "37 37\n",
      "42 42\n",
      "209 209\n",
      "27 27\n",
      "[5]\n",
      "42 42\n",
      "37 37\n",
      "42 42\n",
      "209 209\n",
      "[5, 4]\n",
      "42 42\n",
      "37 37\n",
      "42 42\n",
      "209 209\n",
      "[5, 4, 4]\n",
      "42 42\n",
      "37 37\n",
      "42 42\n",
      "209 209\n",
      "27 27\n",
      "[5, 4, 4, 5]\n",
      "42 42\n",
      "37 37\n",
      "42 42\n",
      "209 209\n",
      "[5, 4, 4, 5, 4]\n"
     ]
    }
   ],
   "source": [
    "intra_score = list()\n",
    "inter_score = list()\n",
    "intra_fract = list()\n",
    "inter_fract = list()\n",
    "\n",
    "significant_simulations = list()\n",
    "for simulation in range(5):\n",
    "    significant_count = 0\n",
    "\n",
    "    significant_scores = list()\n",
    "    significant_fracts = list()\n",
    "\n",
    "    for peptide, group in df.groupby('peptide_HLA'):\n",
    "        if len(group) == 1:\n",
    "            continue\n",
    "        if len(group.drop_duplicates(['cdr3_TRA','cdr3_TRB'])) == 1:\n",
    "            continue\n",
    "\n",
    "        inter_chains = df.loc[df.peptide_HLA != peptide, ['cdr3_TRA', 'cdr3_TRB']]\n",
    "\n",
    "        intra_score_peptide = list()\n",
    "        inter_score_peptide = list()  \n",
    "        intra_fract_peptide = list()\n",
    "        inter_fract_peptide = list()\n",
    "\n",
    "        cdr3_TRAs = group.cdr3_TRA.values\n",
    "        cdr3_TRBs = group.cdr3_TRB.values\n",
    "\n",
    "        for index, (a,b) in enumerate(zip(cdr3_TRAs, cdr3_TRBs)):  \n",
    "            intra = get_intra_similarity(cdr3_TRAs, cdr3_TRBs)\n",
    "            inter = get_inter_similarity(cdr3_TRAs, cdr3_TRBs)\n",
    "\n",
    "            intra_score_peptide.append(intra['score'])\n",
    "            inter_score_peptide.append(inter['score'])\n",
    "            intra_fract_peptide.append(intra['fraction'])\n",
    "            inter_fract_peptide.append(inter['fraction'])\n",
    "\n",
    "            intra_score.append(intra['score'])\n",
    "            inter_score.append(inter['score'])\n",
    "            intra_fract.append(intra['fraction'])\n",
    "            inter_fract.append(inter['fraction'])\n",
    "\n",
    "        #plot_boxplot(intra_score_peptide, inter_score_peptide, peptide + ' score')\n",
    "        #plot_boxplot(intra_fract_peptide, inter_fract_peptide, peptide + ' fraction')\n",
    "\n",
    "        # Statistics\n",
    "        # Calc p-value for each peptide-plateau (count number of intra significant peptide-plateaus)\n",
    "        # Count fraction of GEMs above 1.8 similarity\n",
    "        \n",
    "        significant_scores.append(paired_t_test(intra_score_peptide, inter_score_peptide)['test'])\n",
    "        significant_fracts.append(paired_t_test(intra_fract_peptide, inter_fract_peptide)['test'])\n",
    "        \n",
    "        if paired_t_test(intra_score_peptide, inter_score_peptide)['test']:\n",
    "            significant_count += 1\n",
    "            print(len(intra_score_peptide), len(inter_score_peptide))\n",
    "    significant_simulations.append(significant_count)\n",
    "    print(significant_simulations)\n",
    "significant_count = statistics.median(significant_simulations)\n",
    "\n",
    "        "
   ]
  },
  {
   "cell_type": "code",
   "execution_count": 37,
   "metadata": {},
   "outputs": [
    {
     "data": {
      "text/plain": [
       "14"
      ]
     },
     "execution_count": 37,
     "metadata": {},
     "output_type": "execute_result"
    }
   ],
   "source": [
    "significant_count"
   ]
  },
  {
   "cell_type": "code",
   "execution_count": 38,
   "metadata": {},
   "outputs": [
    {
     "data": {
      "text/plain": [
       "14"
      ]
     },
     "execution_count": 38,
     "metadata": {},
     "output_type": "execute_result"
    }
   ],
   "source": [
    "sum(significant_scores)"
   ]
  },
  {
   "cell_type": "code",
   "execution_count": 27,
   "metadata": {},
   "outputs": [
    {
     "data": {
      "image/png": "[encoded data removed]",
      "text/plain": [
       "<Figure size 216x360 with 1 Axes>"
      ]
     },
     "metadata": {
      "needs_background": "light"
     },
     "output_type": "display_data"
    }
   ],
   "source": [
    "plot_boxplot(intra_score, inter_score, 'Pooled') "
   ]
  },
  {
   "cell_type": "code",
   "execution_count": 28,
   "metadata": {},
   "outputs": [
    {
     "data": {
      "image/png": "[encoded data removed]",
      "text/plain": [
       "<Figure size 216x360 with 1 Axes>"
      ]
     },
     "metadata": {
      "needs_background": "light"
     },
     "output_type": "display_data"
    }
   ],
   "source": [
    "plot_boxplot(intra_fract, inter_fract, 'Fraction')"
   ]
  },
  {
   "cell_type": "code",
   "execution_count": 32,
   "metadata": {},
   "outputs": [
    {
     "data": {
      "text/plain": [
       "[False,\n",
       " False,\n",
       " False,\n",
       " False,\n",
       " False,\n",
       " False,\n",
       " False,\n",
       " False,\n",
       " True,\n",
       " False,\n",
       " False,\n",
       " False,\n",
       " False,\n",
       " False,\n",
       " False,\n",
       " False,\n",
       " False,\n",
       " False,\n",
       " True,\n",
       " False,\n",
       " False,\n",
       " True,\n",
       " True,\n",
       " True,\n",
       " False,\n",
       " False,\n",
       " False,\n",
       " False,\n",
       " False,\n",
       " False,\n",
       " False,\n",
       " True,\n",
       " False,\n",
       " False,\n",
       " False,\n",
       " False,\n",
       " False,\n",
       " True,\n",
       " True,\n",
       " True,\n",
       " False,\n",
       " False,\n",
       " False,\n",
       " False,\n",
       " False,\n",
       " False,\n",
       " False,\n",
       " False,\n",
       " True,\n",
       " False,\n",
       " True,\n",
       " False,\n",
       " False,\n",
       " False,\n",
       " False,\n",
       " False,\n",
       " False,\n",
       " True,\n",
       " True,\n",
       " False,\n",
       " True]"
      ]
     },
     "execution_count": 32,
     "metadata": {},
     "output_type": "execute_result"
    }
   ],
   "source": [
    "significant_scores"
   ]
  },
  {
   "cell_type": "code",
   "execution_count": 31,
   "metadata": {},
   "outputs": [
    {
     "data": {
      "image/png": "[encoded data removed]",
      "text/plain": [
       "<Figure size 432x288 with 1 Axes>"
      ]
     },
     "metadata": {},
     "output_type": "display_data"
    }
   ],
   "source": [
    "plot_pieplot(significant_scores, total_peptides)"
   ]
  },
  {
   "cell_type": "code",
   "execution_count": 47,
   "metadata": {},
   "outputs": [
    {
     "data": {
      "image/png": "[encoded data removed]",
      "text/plain": [
       "<Figure size 432x288 with 1 Axes>"
      ]
     },
     "metadata": {},
     "output_type": "display_data"
    }
   ],
   "source": [
    "plot_pieplot(fract_significance, total_peptides, 'Fraction')"
   ]
  },
  {
   "cell_type": "code",
   "execution_count": 48,
   "metadata": {},
   "outputs": [
    {
     "data": {
      "text/plain": [
       "'imputed_new-clonotype'"
      ]
     },
     "execution_count": 48,
     "metadata": {},
     "output_type": "execute_result"
    }
   ],
   "source": [
    "TYPE"
   ]
  },
  {
   "cell_type": "markdown",
   "metadata": {},
   "source": [
    "# All imputed"
   ]
  },
  {
   "cell_type": "code",
   "execution_count": 22,
   "metadata": {},
   "outputs": [
    {
     "data": {
      "image/png": "[encoded data removed]",
      "text/plain": [
       "<Figure size 216x360 with 1 Axes>"
      ]
     },
     "metadata": {
      "needs_background": "light"
     },
     "output_type": "display_data"
    }
   ],
   "source": [
    "plot_boxplot(intra_score, inter_score, 'Pooled') "
   ]
  },
  {
   "cell_type": "code",
   "execution_count": 23,
   "metadata": {},
   "outputs": [
    {
     "data": {
      "image/png": "[encoded data removed]",
      "text/plain": [
       "<Figure size 216x360 with 1 Axes>"
      ]
     },
     "metadata": {
      "needs_background": "light"
     },
     "output_type": "display_data"
    }
   ],
   "source": [
    "plot_boxplot(intra_fract, inter_fract, 'Fraction')"
   ]
  },
  {
   "cell_type": "code",
   "execution_count": 24,
   "metadata": {},
   "outputs": [
    {
     "data": {
      "image/png": "[encoded data removed]",
      "text/plain": [
       "<Figure size 432x288 with 1 Axes>"
      ]
     },
     "metadata": {},
     "output_type": "display_data"
    }
   ],
   "source": [
    "plot_pieplot(score_significance, total_peptides)"
   ]
  },
  {
   "cell_type": "code",
   "execution_count": 25,
   "metadata": {},
   "outputs": [
    {
     "data": {
      "text/plain": [
       "0.13513513513513514"
      ]
     },
     "execution_count": 25,
     "metadata": {},
     "output_type": "execute_result"
    }
   ],
   "source": [
    "sum(score_significance) / total_peptides"
   ]
  },
  {
   "cell_type": "code",
   "execution_count": 26,
   "metadata": {},
   "outputs": [
    {
     "data": {
      "image/png": "[encoded data removed]",
      "text/plain": [
       "<Figure size 432x288 with 1 Axes>"
      ]
     },
     "metadata": {},
     "output_type": "display_data"
    }
   ],
   "source": [
    "plot_pieplot(fract_significance, total_peptides)"
   ]
  },
  {
   "cell_type": "code",
   "execution_count": 27,
   "metadata": {},
   "outputs": [
    {
     "data": {
      "text/plain": [
       "0.09009009009009009"
      ]
     },
     "execution_count": 27,
     "metadata": {},
     "output_type": "execute_result"
    }
   ],
   "source": [
    "sum(fract_significance) / total_peptides"
   ]
  },
  {
   "cell_type": "code",
   "execution_count": null,
   "metadata": {},
   "outputs": [],
   "source": []
  }
 ],
 "metadata": {
  "kernelspec": {
   "display_name": "Python 3",
   "language": "python",
   "name": "python3"
  },
  "language_info": {
   "codemirror_mode": {
    "name": "ipython",
    "version": 3
   },
   "file_extension": ".py",
   "mimetype": "text/x-python",
   "name": "python",
   "nbconvert_exporter": "python",
   "pygments_lexer": "ipython3",
   "version": "3.7.3"
  }
 },
 "nbformat": 4,
 "nbformat_minor": 4
}
