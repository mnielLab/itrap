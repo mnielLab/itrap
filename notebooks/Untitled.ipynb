{
 "cells": [
  {
   "cell_type": "code",
   "execution_count": 1,
   "metadata": {},
   "outputs": [],
   "source": [
    "import numpy as np\n",
    "import pandas as pd\n",
    "import matplotlib.pyplot as plt\n",
    "import seaborn as sns\n",
    "from ast import literal_eval\n",
    "import re"
   ]
  },
  {
   "cell_type": "code",
   "execution_count": 2,
   "metadata": {},
   "outputs": [],
   "source": [
    "def HLA_cd8_converter(x):\n",
    "    #define format of datetime\n",
    "    return x.replace(\"[\",\"\").replace(\"]\",\"\").replace(\",\", \"\").replace(\"'\",\"\").split(\" \")\n",
    "\n",
    "def cdr3_lst_converter(x):\n",
    "    #define format of datetime\n",
    "    return x.replace(\"[\",\"\").replace(\"]\",\"\").replace(\"'\",\"\").split(\" \")\n",
    "\n",
    "def epitope_converter(x):\n",
    "    #define format of datetime\n",
    "    return [y for y in x.replace(\"[\",\"\").replace(\"]\",\"\").replace(\"\\n\",\"\").split(\"'\") if (y != '') & (y != ' ')]\n",
    "\n",
    "def peptide_hla_converter(x):\n",
    "    return re.findall(\"\\w+\\s{1}\\w{1}\\d+\", x.replace(\"[\",\"\").replace(\"]\",\"\").replace(\"\\n\",\"\").replace(\"'\",\"\"))\n",
    "\n",
    "def literal_converter(val):\n",
    "    # replace NaN with '' and perform literal eval on the rest\n",
    "    return [] if val == '' else literal_eval(val)\n",
    "\n",
    "converters = {'peptide_HLA_lst': peptide_hla_converter,\n",
    "              'umi_count_lst_mhc': literal_converter, #literal_eval,\n",
    "              'umi_count_lst_TRA': literal_converter,'umi_count_lst_TRB': literal_converter,\n",
    "              'cdr3_lst_TRA': cdr3_lst_converter,\n",
    "              'cdr3_lst_TRB': cdr3_lst_converter,\n",
    "              'HLA_lst_mhc': cdr3_lst_converter,'HLA_cd8': HLA_cd8_converter} #"
   ]
  },
  {
   "cell_type": "markdown",
   "metadata": {},
   "source": [
    "# Input"
   ]
  },
  {
   "cell_type": "code",
   "execution_count": 3,
   "metadata": {},
   "outputs": [],
   "source": [
    "CAT_DIR = '../experiments/exp13/run2/cat/'"
   ]
  },
  {
   "cell_type": "code",
   "execution_count": 4,
   "metadata": {},
   "outputs": [],
   "source": [
    "INPUT = CAT_DIR + 'tables/tcr_barcode.cleaned.csv'"
   ]
  },
  {
   "cell_type": "code",
   "execution_count": 5,
   "metadata": {},
   "outputs": [],
   "source": [
    "VALID = CAT_DIR + \"eval_clonotypes/valid_ct.csv\""
   ]
  },
  {
   "cell_type": "markdown",
   "metadata": {},
   "source": [
    "# Load"
   ]
  },
  {
   "cell_type": "code",
   "execution_count": 23,
   "metadata": {},
   "outputs": [],
   "source": [
    "df = pd.read_csv(INPUT, converters=converters)"
   ]
  },
  {
   "cell_type": "code",
   "execution_count": 24,
   "metadata": {},
   "outputs": [
    {
     "data": {
      "text/html": [
       "<div>\n",
       "<style scoped>\n",
       "    .dataframe tbody tr th:only-of-type {\n",
       "        vertical-align: middle;\n",
       "    }\n",
       "\n",
       "    .dataframe tbody tr th {\n",
       "        vertical-align: top;\n",
       "    }\n",
       "\n",
       "    .dataframe thead th {\n",
       "        text-align: right;\n",
       "    }\n",
       "</style>\n",
       "<table border=\"1\" class=\"dataframe\">\n",
       "  <thead>\n",
       "    <tr style=\"text-align: right;\">\n",
       "      <th></th>\n",
       "      <th>gem</th>\n",
       "      <th>clonotype</th>\n",
       "      <th>num_clonotype</th>\n",
       "      <th>ct</th>\n",
       "      <th>genes_TRA</th>\n",
       "      <th>genes_TRB</th>\n",
       "      <th>genes_lst_TRA</th>\n",
       "      <th>genes_lst_TRB</th>\n",
       "      <th>length_TRA</th>\n",
       "      <th>cdr1_TRA</th>\n",
       "      <th>...</th>\n",
       "      <th>VDJdb_check</th>\n",
       "      <th>seurat</th>\n",
       "      <th>umi_count_hto</th>\n",
       "      <th>feature_hto</th>\n",
       "      <th>hto_max_id</th>\n",
       "      <th>hto_sec_id</th>\n",
       "      <th>hto_margin</th>\n",
       "      <th>hto_classification</th>\n",
       "      <th>hto_global_class</th>\n",
       "      <th>hash_id</th>\n",
       "    </tr>\n",
       "  </thead>\n",
       "  <tbody>\n",
       "    <tr>\n",
       "      <th>0</th>\n",
       "      <td>AAACCTGAGGTAGCTG-1</td>\n",
       "      <td>clonotype2510</td>\n",
       "      <td>2510.0</td>\n",
       "      <td>2510.0</td>\n",
       "      <td>TRAV38-1;TRAJ26;TRAC</td>\n",
       "      <td>TRBV9;;TRBJ1-2;TRBC1</td>\n",
       "      <td>['TRAV38-1;TRAJ26;TRAC']</td>\n",
       "      <td>['TRBV9;;TRBJ1-2;TRBC1']</td>\n",
       "      <td>477.0</td>\n",
       "      <td>TSENNYY</td>\n",
       "      <td>...</td>\n",
       "      <td>NaN</td>\n",
       "      <td>SeuratProject</td>\n",
       "      <td>1723.0</td>\n",
       "      <td>8.0</td>\n",
       "      <td>6.0</td>\n",
       "      <td>5.0</td>\n",
       "      <td>4.075762</td>\n",
       "      <td>6</td>\n",
       "      <td>Singlet</td>\n",
       "      <td>6</td>\n",
       "    </tr>\n",
       "    <tr>\n",
       "      <th>1</th>\n",
       "      <td>AAACCTGAGTTATCGC-1</td>\n",
       "      <td>clonotype1460</td>\n",
       "      <td>1460.0</td>\n",
       "      <td>1460.0</td>\n",
       "      <td>TRAV8-1;TRAJ11;TRAC</td>\n",
       "      <td>TRBV3-1;;TRBJ2-5;TRBC2</td>\n",
       "      <td>['TRAV8-1;TRAJ11;TRAC']</td>\n",
       "      <td>['TRBV3-1;;TRBJ2-5;TRBC2']</td>\n",
       "      <td>568.0</td>\n",
       "      <td>YGGTVN</td>\n",
       "      <td>...</td>\n",
       "      <td>NaN</td>\n",
       "      <td>SeuratProject</td>\n",
       "      <td>916.0</td>\n",
       "      <td>9.0</td>\n",
       "      <td>10.0</td>\n",
       "      <td>1.0</td>\n",
       "      <td>2.122286</td>\n",
       "      <td>10</td>\n",
       "      <td>Singlet</td>\n",
       "      <td>10</td>\n",
       "    </tr>\n",
       "    <tr>\n",
       "      <th>2</th>\n",
       "      <td>AAACGGGCATAGAAAC-1</td>\n",
       "      <td>clonotype309</td>\n",
       "      <td>309.0</td>\n",
       "      <td>309.0</td>\n",
       "      <td>TRAV1-2;TRAJ33;TRAC</td>\n",
       "      <td>TRBV6-1;;TRBJ1-2;TRBC1</td>\n",
       "      <td>['TRAV1-2;TRAJ33;TRAC']</td>\n",
       "      <td>['TRBV6-1;;TRBJ1-2;TRBC1']</td>\n",
       "      <td>505.0</td>\n",
       "      <td>TSGFNG</td>\n",
       "      <td>...</td>\n",
       "      <td>NaN</td>\n",
       "      <td>SeuratProject</td>\n",
       "      <td>1383.0</td>\n",
       "      <td>8.0</td>\n",
       "      <td>9.0</td>\n",
       "      <td>8.0</td>\n",
       "      <td>4.545152</td>\n",
       "      <td>8_9</td>\n",
       "      <td>Doublet</td>\n",
       "      <td>Doublet</td>\n",
       "    </tr>\n",
       "    <tr>\n",
       "      <th>3</th>\n",
       "      <td>AAACGGGGTAAGCACG-1</td>\n",
       "      <td>clonotype1</td>\n",
       "      <td>1.0</td>\n",
       "      <td>1.0</td>\n",
       "      <td>TRAV30;TRAJ38;TRAC</td>\n",
       "      <td>TRBV3-1;;TRBJ1-5;TRBC1</td>\n",
       "      <td>['TRAV30;TRAJ38;TRAC']</td>\n",
       "      <td>['TRBV3-1;;TRBJ1-5;TRBC1']</td>\n",
       "      <td>517.0</td>\n",
       "      <td>KALYS</td>\n",
       "      <td>...</td>\n",
       "      <td>NaN</td>\n",
       "      <td>SeuratProject</td>\n",
       "      <td>752.0</td>\n",
       "      <td>10.0</td>\n",
       "      <td>10.0</td>\n",
       "      <td>9.0</td>\n",
       "      <td>1.766928</td>\n",
       "      <td>10</td>\n",
       "      <td>Singlet</td>\n",
       "      <td>10</td>\n",
       "    </tr>\n",
       "    <tr>\n",
       "      <th>4</th>\n",
       "      <td>AAACGGGGTTACGACT-1</td>\n",
       "      <td>clonotype2817</td>\n",
       "      <td>2817.0</td>\n",
       "      <td>2817.0</td>\n",
       "      <td>TRAV19;TRAJ34;TRAC</td>\n",
       "      <td>TRBV14;;TRBJ2-3;TRBC2</td>\n",
       "      <td>['TRAV19;TRAJ34;TRAC']</td>\n",
       "      <td>['TRBV14;;TRBJ2-3;TRBC2']</td>\n",
       "      <td>562.0</td>\n",
       "      <td>TRDTTYY</td>\n",
       "      <td>...</td>\n",
       "      <td>NaN</td>\n",
       "      <td>SeuratProject</td>\n",
       "      <td>663.0</td>\n",
       "      <td>9.0</td>\n",
       "      <td>10.0</td>\n",
       "      <td>6.0</td>\n",
       "      <td>1.875212</td>\n",
       "      <td>10</td>\n",
       "      <td>Singlet</td>\n",
       "      <td>10</td>\n",
       "    </tr>\n",
       "  </tbody>\n",
       "</table>\n",
       "<p>5 rows × 95 columns</p>\n",
       "</div>"
      ],
      "text/plain": [
       "                  gem      clonotype  num_clonotype      ct  \\\n",
       "0  AAACCTGAGGTAGCTG-1  clonotype2510         2510.0  2510.0   \n",
       "1  AAACCTGAGTTATCGC-1  clonotype1460         1460.0  1460.0   \n",
       "2  AAACGGGCATAGAAAC-1   clonotype309          309.0   309.0   \n",
       "3  AAACGGGGTAAGCACG-1     clonotype1            1.0     1.0   \n",
       "4  AAACGGGGTTACGACT-1  clonotype2817         2817.0  2817.0   \n",
       "\n",
       "              genes_TRA               genes_TRB             genes_lst_TRA  \\\n",
       "0  TRAV38-1;TRAJ26;TRAC    TRBV9;;TRBJ1-2;TRBC1  ['TRAV38-1;TRAJ26;TRAC']   \n",
       "1   TRAV8-1;TRAJ11;TRAC  TRBV3-1;;TRBJ2-5;TRBC2   ['TRAV8-1;TRAJ11;TRAC']   \n",
       "2   TRAV1-2;TRAJ33;TRAC  TRBV6-1;;TRBJ1-2;TRBC1   ['TRAV1-2;TRAJ33;TRAC']   \n",
       "3    TRAV30;TRAJ38;TRAC  TRBV3-1;;TRBJ1-5;TRBC1    ['TRAV30;TRAJ38;TRAC']   \n",
       "4    TRAV19;TRAJ34;TRAC   TRBV14;;TRBJ2-3;TRBC2    ['TRAV19;TRAJ34;TRAC']   \n",
       "\n",
       "                genes_lst_TRB  length_TRA cdr1_TRA  ... VDJdb_check  \\\n",
       "0    ['TRBV9;;TRBJ1-2;TRBC1']       477.0  TSENNYY  ...         NaN   \n",
       "1  ['TRBV3-1;;TRBJ2-5;TRBC2']       568.0   YGGTVN  ...         NaN   \n",
       "2  ['TRBV6-1;;TRBJ1-2;TRBC1']       505.0   TSGFNG  ...         NaN   \n",
       "3  ['TRBV3-1;;TRBJ1-5;TRBC1']       517.0    KALYS  ...         NaN   \n",
       "4   ['TRBV14;;TRBJ2-3;TRBC2']       562.0  TRDTTYY  ...         NaN   \n",
       "\n",
       "          seurat  umi_count_hto feature_hto  hto_max_id hto_sec_id  \\\n",
       "0  SeuratProject         1723.0         8.0         6.0        5.0   \n",
       "1  SeuratProject          916.0         9.0        10.0        1.0   \n",
       "2  SeuratProject         1383.0         8.0         9.0        8.0   \n",
       "3  SeuratProject          752.0        10.0        10.0        9.0   \n",
       "4  SeuratProject          663.0         9.0        10.0        6.0   \n",
       "\n",
       "   hto_margin hto_classification  hto_global_class  hash_id  \n",
       "0    4.075762                  6           Singlet        6  \n",
       "1    2.122286                 10           Singlet       10  \n",
       "2    4.545152                8_9           Doublet  Doublet  \n",
       "3    1.766928                 10           Singlet       10  \n",
       "4    1.875212                 10           Singlet       10  \n",
       "\n",
       "[5 rows x 95 columns]"
      ]
     },
     "execution_count": 24,
     "metadata": {},
     "output_type": "execute_result"
    }
   ],
   "source": [
    "df.head()"
   ]
  },
  {
   "cell_type": "code",
   "execution_count": 28,
   "metadata": {},
   "outputs": [
    {
     "data": {
      "image/png": "[encoded data removed]",
      "text/plain": [
       "<Figure size 432x288 with 1 Axes>"
      ]
     },
     "metadata": {
      "needs_background": "light"
     },
     "output_type": "display_data"
    }
   ],
   "source": [
    "sns.scatterplot(data=df, x='umi_count_mhc',y='peptide_HLA', size='umi_count_mhc', size_order=[1,10,20,30,40])\n",
    "plt.show()"
   ]
  },
  {
   "cell_type": "code",
   "execution_count": 15,
   "metadata": {},
   "outputs": [
    {
     "data": {
      "text/html": [
       "<div>\n",
       "<style scoped>\n",
       "    .dataframe tbody tr th:only-of-type {\n",
       "        vertical-align: middle;\n",
       "    }\n",
       "\n",
       "    .dataframe tbody tr th {\n",
       "        vertical-align: top;\n",
       "    }\n",
       "\n",
       "    .dataframe thead th {\n",
       "        text-align: right;\n",
       "    }\n",
       "</style>\n",
       "<table border=\"1\" class=\"dataframe\">\n",
       "  <thead>\n",
       "    <tr style=\"text-align: right;\">\n",
       "      <th></th>\n",
       "      <th>gem</th>\n",
       "      <th>clonotype</th>\n",
       "      <th>gem</th>\n",
       "    </tr>\n",
       "  </thead>\n",
       "  <tbody>\n",
       "    <tr>\n",
       "      <th>0</th>\n",
       "      <td>AAACCTGAGGTAGCTG-1</td>\n",
       "      <td>clonotype2510</td>\n",
       "      <td>AAACCTGAGGTAGCTG-1</td>\n",
       "    </tr>\n",
       "    <tr>\n",
       "      <th>1</th>\n",
       "      <td>AAACCTGAGTTATCGC-1</td>\n",
       "      <td>clonotype1460</td>\n",
       "      <td>AAACCTGAGTTATCGC-1</td>\n",
       "    </tr>\n",
       "    <tr>\n",
       "      <th>0</th>\n",
       "      <td>AAACCTGAGGTAGCTG-1</td>\n",
       "      <td>clonotype2510</td>\n",
       "      <td>AAACCTGAGGTAGCTG-1</td>\n",
       "    </tr>\n",
       "  </tbody>\n",
       "</table>\n",
       "</div>"
      ],
      "text/plain": [
       "                  gem      clonotype                 gem\n",
       "0  AAACCTGAGGTAGCTG-1  clonotype2510  AAACCTGAGGTAGCTG-1\n",
       "1  AAACCTGAGTTATCGC-1  clonotype1460  AAACCTGAGTTATCGC-1\n",
       "0  AAACCTGAGGTAGCTG-1  clonotype2510  AAACCTGAGGTAGCTG-1"
      ]
     },
     "execution_count": 15,
     "metadata": {},
     "output_type": "execute_result"
    }
   ],
   "source": [
    "df.loc[[0,1,0],['gem','clonotype','gem']]"
   ]
  },
  {
   "cell_type": "code",
   "execution_count": 17,
   "metadata": {},
   "outputs": [
    {
     "data": {
      "text/plain": [
       "[3, 5, 7]"
      ]
     },
     "execution_count": 17,
     "metadata": {},
     "output_type": "execute_result"
    }
   ],
   "source": [
    "sorted(np.array([5,3,7]))"
   ]
  },
  {
   "cell_type": "code",
   "execution_count": 18,
   "metadata": {},
   "outputs": [
    {
     "data": {
      "image/png": "[encoded data removed]",
      "text/plain": [
       "<Figure size 640x480 with 1 Axes>"
      ]
     },
     "metadata": {},
     "output_type": "display_data"
    }
   ],
   "source": [
    "plt.hist(df[df.label_mhc==True].umi_count_mhc)\n",
    "plt.show()"
   ]
  },
  {
   "cell_type": "code",
   "execution_count": 20,
   "metadata": {},
   "outputs": [
    {
     "data": {
      "image/png": "[encoded data removed]",
      "text/plain": [
       "<Figure size 640x480 with 1 Axes>"
      ]
     },
     "metadata": {},
     "output_type": "display_data"
    }
   ],
   "source": [
    "plt.hist(df[df.label_mhc!=True].umi_count_mhc)\n",
    "plt.show()"
   ]
  },
  {
   "cell_type": "code",
   "execution_count": 14,
   "metadata": {},
   "outputs": [
    {
     "data": {
      "image/png": "[encoded data removed]",
      "text/plain": [
       "<Figure size 640x480 with 1 Axes>"
      ]
     },
     "metadata": {},
     "output_type": "display_data"
    }
   ],
   "source": [
    "plt.hist(df.umi_count_cd8)\n",
    "plt.show()"
   ]
  },
  {
   "cell_type": "code",
   "execution_count": 36,
   "metadata": {},
   "outputs": [
    {
     "data": {
      "text/plain": [
       "peptide_HLA        label\n",
       "CLGGLLTMV A0201    0.0         7\n",
       "                   1.0       190\n",
       "FLYALALLL A0201    0.0         2\n",
       "                   1.0        55\n",
       "GILGFVFTL A0201    1.0         4\n",
       "GLCTLVAML A0201    1.0         9\n",
       "NLVPMVATV A0201    1.0         5\n",
       "RPHERNGFTV B0702   0.0         5\n",
       "                   1.0        24\n",
       "RPHERNGFTVL B0702  1.0       361\n",
       "RPPIFIRRL B0702    0.0         2\n",
       "                   1.0       196\n",
       "RVRAYTYSK A0301    0.0        92\n",
       "                   1.0      2295\n",
       "TPRVTGGGAM B0702   0.0        18\n",
       "                   1.0       844\n",
       "TPSVSSSISSL B0702  0.0         2\n",
       "                   1.0        59\n",
       "VLEETSVML A0201    0.0         4\n",
       "                   1.0       506\n",
       "YVLDHLIVV A0201    0.0         6\n",
       "                   1.0       428\n",
       "Name: ct, dtype: int64"
      ]
     },
     "execution_count": 36,
     "metadata": {},
     "output_type": "execute_result"
    }
   ],
   "source": [
    "df[(df.umi_count_mhc >= 2) & (df.delta_umi_mhc >= 1)].groupby(['peptide_HLA','label']).ct.size()"
   ]
  },
  {
   "cell_type": "code",
   "execution_count": 48,
   "metadata": {},
   "outputs": [
    {
     "data": {
      "text/plain": [
       "peptide_HLA        label\n",
       "CLGGLLTMV A0201    0.0         4\n",
       "                   1.0       114\n",
       "FLYALALLL A0201    0.0         1\n",
       "                   1.0        32\n",
       "GILGFVFTL A0201    1.0         2\n",
       "GLCTLVAML A0201    1.0         5\n",
       "NLVPMVATV A0201    1.0         4\n",
       "RPHERNGFTV B0702   0.0         3\n",
       "                   1.0        15\n",
       "RPHERNGFTVL B0702  1.0       271\n",
       "RPPIFIRRL B0702    1.0       110\n",
       "RVRAYTYSK A0301    0.0        56\n",
       "                   1.0      1395\n",
       "TPRVTGGGAM B0702   0.0        13\n",
       "                   1.0       609\n",
       "TPSVSSSISSL B0702  0.0         1\n",
       "                   1.0        40\n",
       "VLEETSVML A0201    0.0         3\n",
       "                   1.0       406\n",
       "YVLDHLIVV A0201    0.0         2\n",
       "                   1.0       272\n",
       "Name: ct, dtype: int64"
      ]
     },
     "execution_count": 48,
     "metadata": {},
     "output_type": "execute_result"
    }
   ],
   "source": [
    "df[(df.umi_count_mhc >= 2) & (df.delta_umi_mhc >= 1) & (df.delta_umi_TRA >= 1) & (df.delta_umi_TRB >= 1)].groupby(['peptide_HLA','label']).ct.size()"
   ]
  },
  {
   "cell_type": "code",
   "execution_count": 47,
   "metadata": {},
   "outputs": [
    {
     "data": {
      "text/plain": [
       "0.6737449022640979"
      ]
     },
     "execution_count": 47,
     "metadata": {},
     "output_type": "execute_result"
    }
   ],
   "source": [
    "df.HLA_match.sum() / len(df)"
   ]
  },
  {
   "cell_type": "code",
   "execution_count": 41,
   "metadata": {},
   "outputs": [
    {
     "data": {
      "text/plain": [
       "1488"
      ]
     },
     "execution_count": 41,
     "metadata": {},
     "output_type": "execute_result"
    }
   ],
   "source": [
    "df[(df.umi_count_mhc >= 14) & (df.delta_umi_mhc >= 2)].HLA_match.sum()"
   ]
  },
  {
   "cell_type": "code",
   "execution_count": 42,
   "metadata": {},
   "outputs": [
    {
     "data": {
      "text/plain": [
       "1664"
      ]
     },
     "execution_count": 42,
     "metadata": {},
     "output_type": "execute_result"
    }
   ],
   "source": [
    "len(df[(df.umi_count_mhc >= 14) & (df.delta_umi_mhc >= 2)])"
   ]
  },
  {
   "cell_type": "code",
   "execution_count": 40,
   "metadata": {},
   "outputs": [
    {
     "data": {
      "text/plain": [
       "0.7565506452874462"
      ]
     },
     "execution_count": 40,
     "metadata": {},
     "output_type": "execute_result"
    }
   ],
   "source": [
    "3869/5114"
   ]
  },
  {
   "cell_type": "code",
   "execution_count": 43,
   "metadata": {},
   "outputs": [
    {
     "data": {
      "text/plain": [
       "0.8942307692307693"
      ]
     },
     "execution_count": 43,
     "metadata": {},
     "output_type": "execute_result"
    }
   ],
   "source": [
    "1488/1664"
   ]
  },
  {
   "cell_type": "code",
   "execution_count": 33,
   "metadata": {},
   "outputs": [
    {
     "data": {
      "text/plain": [
       "0       [A0201, B0702]\n",
       "1       [A0201, A0301]\n",
       "2              [B0702]\n",
       "3              [A0201]\n",
       "4              [B0702]\n",
       "             ...      \n",
       "7106    [A0201, A0301]\n",
       "7107    [A0201, A0301]\n",
       "7108           [B0702]\n",
       "7109           [A0201]\n",
       "7110    [A0201, A0301]\n",
       "Name: HLA_cd8, Length: 7111, dtype: object"
      ]
     },
     "execution_count": 33,
     "metadata": {},
     "output_type": "execute_result"
    }
   ],
   "source": [
    "df.HLA_cd8"
   ]
  },
  {
   "cell_type": "code",
   "execution_count": 34,
   "metadata": {},
   "outputs": [
    {
     "data": {
      "text/plain": [
       "0       B0702\n",
       "1       A0301\n",
       "2       B0702\n",
       "3       A0201\n",
       "4       B0702\n",
       "        ...  \n",
       "7106    A0301\n",
       "7107    B0702\n",
       "7108    A0301\n",
       "7109    A0301\n",
       "7110    A0201\n",
       "Name: HLA_mhc, Length: 7111, dtype: object"
      ]
     },
     "execution_count": 34,
     "metadata": {},
     "output_type": "execute_result"
    }
   ],
   "source": [
    "df.HLA_mhc"
   ]
  },
  {
   "cell_type": "code",
   "execution_count": 35,
   "metadata": {},
   "outputs": [
    {
     "data": {
      "text/html": [
       "<div>\n",
       "<style scoped>\n",
       "    .dataframe tbody tr th:only-of-type {\n",
       "        vertical-align: middle;\n",
       "    }\n",
       "\n",
       "    .dataframe tbody tr th {\n",
       "        vertical-align: top;\n",
       "    }\n",
       "\n",
       "    .dataframe thead th {\n",
       "        text-align: right;\n",
       "    }\n",
       "</style>\n",
       "<table border=\"1\" class=\"dataframe\">\n",
       "  <thead>\n",
       "    <tr style=\"text-align: right;\">\n",
       "      <th></th>\n",
       "      <th>HLA_mhc</th>\n",
       "      <th>HLA_cd8</th>\n",
       "      <th>HLA_match</th>\n",
       "    </tr>\n",
       "  </thead>\n",
       "  <tbody>\n",
       "    <tr>\n",
       "      <th>0</th>\n",
       "      <td>B0702</td>\n",
       "      <td>[A0201, B0702]</td>\n",
       "      <td>True</td>\n",
       "    </tr>\n",
       "    <tr>\n",
       "      <th>1</th>\n",
       "      <td>A0301</td>\n",
       "      <td>[A0201, A0301]</td>\n",
       "      <td>True</td>\n",
       "    </tr>\n",
       "    <tr>\n",
       "      <th>2</th>\n",
       "      <td>B0702</td>\n",
       "      <td>[B0702]</td>\n",
       "      <td>True</td>\n",
       "    </tr>\n",
       "    <tr>\n",
       "      <th>3</th>\n",
       "      <td>A0201</td>\n",
       "      <td>[A0201]</td>\n",
       "      <td>True</td>\n",
       "    </tr>\n",
       "    <tr>\n",
       "      <th>4</th>\n",
       "      <td>B0702</td>\n",
       "      <td>[B0702]</td>\n",
       "      <td>True</td>\n",
       "    </tr>\n",
       "    <tr>\n",
       "      <th>...</th>\n",
       "      <td>...</td>\n",
       "      <td>...</td>\n",
       "      <td>...</td>\n",
       "    </tr>\n",
       "    <tr>\n",
       "      <th>7106</th>\n",
       "      <td>A0301</td>\n",
       "      <td>[A0201, A0301]</td>\n",
       "      <td>True</td>\n",
       "    </tr>\n",
       "    <tr>\n",
       "      <th>7107</th>\n",
       "      <td>B0702</td>\n",
       "      <td>[A0201, A0301]</td>\n",
       "      <td>False</td>\n",
       "    </tr>\n",
       "    <tr>\n",
       "      <th>7108</th>\n",
       "      <td>A0301</td>\n",
       "      <td>[B0702]</td>\n",
       "      <td>False</td>\n",
       "    </tr>\n",
       "    <tr>\n",
       "      <th>7109</th>\n",
       "      <td>A0301</td>\n",
       "      <td>[A0201]</td>\n",
       "      <td>False</td>\n",
       "    </tr>\n",
       "    <tr>\n",
       "      <th>7110</th>\n",
       "      <td>A0201</td>\n",
       "      <td>[A0201, A0301]</td>\n",
       "      <td>True</td>\n",
       "    </tr>\n",
       "  </tbody>\n",
       "</table>\n",
       "<p>7111 rows × 3 columns</p>\n",
       "</div>"
      ],
      "text/plain": [
       "     HLA_mhc         HLA_cd8  HLA_match\n",
       "0      B0702  [A0201, B0702]       True\n",
       "1      A0301  [A0201, A0301]       True\n",
       "2      B0702         [B0702]       True\n",
       "3      A0201         [A0201]       True\n",
       "4      B0702         [B0702]       True\n",
       "...      ...             ...        ...\n",
       "7106   A0301  [A0201, A0301]       True\n",
       "7107   B0702  [A0201, A0301]      False\n",
       "7108   A0301         [B0702]      False\n",
       "7109   A0301         [A0201]      False\n",
       "7110   A0201  [A0201, A0301]       True\n",
       "\n",
       "[7111 rows x 3 columns]"
      ]
     },
     "execution_count": 35,
     "metadata": {},
     "output_type": "execute_result"
    }
   ],
   "source": [
    "df[['HLA_mhc','HLA_cd8','HLA_match']]"
   ]
  },
  {
   "cell_type": "code",
   "execution_count": 18,
   "metadata": {},
   "outputs": [
    {
     "data": {
      "text/plain": [
       "Index(['gem', 'clonotype', 'num_clonotype', 'ct', 'genes_TRA', 'genes_TRB',\n",
       "       'genes_lst_TRA', 'genes_lst_TRB', 'length_TRA', 'cdr1_TRA', 'cdr2_TRA',\n",
       "       'cdr3_TRA', 'umi_count_TRA', 'umi_count_lst_TRA', 'delta_umi_TRA',\n",
       "       'cdr3_lst_TRA', 'chain_count_TRA', 'single_TRA', 'length_TRB',\n",
       "       'cdr1_TRB', 'cdr2_TRB', 'cdr3_TRB', 'umi_count_TRB',\n",
       "       'umi_count_lst_TRB', 'delta_umi_TRB', 'cdr3_lst_TRB', 'chain_count_TRB',\n",
       "       'single_TRB', 'single_chain_only', 'umi_count_tcr', 'cdr3_comb',\n",
       "       'v_gene_TRA', 'j_gene_TRA', 'v_gene_TRB', 'j_gene_TRB', 'tcr_category',\n",
       "       'no_filtration', 'exclude_single-chain_TCRs',\n",
       "       'exclude_ambiguous_and_single-chain_TCRs', 'exclude_ambiguous_TCRs',\n",
       "       'label', 'umi_count_mhc', 'umi_count_lst_mhc', 'delta_umi_mhc',\n",
       "       'single_barcode_mhc', 'multiplets_mhc', 'umi_count_cd8',\n",
       "       'umi_count_lst_cd8', 'delta_umi_cd8', 'single_barcode_cd8',\n",
       "       'multiplets_cd8', 'detected_response', 'peptide_assayed', 'sample_id',\n",
       "       'sample_id_lst', 'HLA_pool_cd8', 'HLA_lst_cd8', 'HLA_cd8', 'HLA_match',\n",
       "       'HLA_mhc', 'HLA_lst_mhc', 'likely_HLA_mhc', 'peptide', 'peptide_lst',\n",
       "       'peptide_HLA', 'peptide_HLA_lst', 'epitope', 'epitope_lst', 'rank',\n",
       "       'marker', 'marker_lst', 'umi_count_lst_mrk', 'delta_umi_mrk',\n",
       "       'single_barcode_mrk', 'multiplets_mrk', 'umi_count_mhc_rel',\n",
       "       'gems_per_specificity', 'gems_per_clonotype', 'binding_concordance',\n",
       "       'cdr3_TRA_substr', 'cdr3_TRB_substr', 'VDJdb_pep', 'VDJdb_check'],\n",
       "      dtype='object')"
      ]
     },
     "execution_count": 18,
     "metadata": {},
     "output_type": "execute_result"
    }
   ],
   "source": [
    "df.columns"
   ]
  },
  {
   "cell_type": "code",
   "execution_count": 8,
   "metadata": {},
   "outputs": [],
   "source": [
    "df = pd.read_csv(VALID)"
   ]
  },
  {
   "cell_type": "code",
   "execution_count": 9,
   "metadata": {},
   "outputs": [
    {
     "data": {
      "text/plain": [
       "0        True\n",
       "1        True\n",
       "2        True\n",
       "3        True\n",
       "4        True\n",
       "        ...  \n",
       "2314     True\n",
       "2315     True\n",
       "2316    False\n",
       "2317     True\n",
       "2318    False\n",
       "Name: pep_match, Length: 2319, dtype: bool"
      ]
     },
     "execution_count": 9,
     "metadata": {},
     "output_type": "execute_result"
    }
   ],
   "source": [
    "df.pep_match"
   ]
  },
  {
   "cell_type": "code",
   "execution_count": 42,
   "metadata": {},
   "outputs": [],
   "source": [
    "v_ct = df.groupby('ct').pep_match.nunique()"
   ]
  },
  {
   "cell_type": "code",
   "execution_count": 44,
   "metadata": {},
   "outputs": [
    {
     "data": {
      "text/plain": [
       "Float64Index([   1.0,    2.0,    3.0,    4.0,    5.0,    6.0,    8.0,   10.0,\n",
       "                12.0,   13.0,   17.0,   18.0,   19.0,   23.0,   24.0,   28.0,\n",
       "                35.0,   42.0,   46.0,   52.0,   54.0,   72.0,  122.0,  170.0,\n",
       "               274.0, 1435.0, 2471.0, 5199.0, 5211.0, 5587.0, 5609.0],\n",
       "             dtype='float64', name='ct')"
      ]
     },
     "execution_count": 44,
     "metadata": {},
     "output_type": "execute_result"
    }
   ],
   "source": [
    "v_ct[v_ct > 1].index"
   ]
  },
  {
   "cell_type": "code",
   "execution_count": 16,
   "metadata": {},
   "outputs": [
    {
     "data": {
      "text/html": [
       "<div>\n",
       "<style scoped>\n",
       "    .dataframe tbody tr th:only-of-type {\n",
       "        vertical-align: middle;\n",
       "    }\n",
       "\n",
       "    .dataframe tbody tr th {\n",
       "        vertical-align: top;\n",
       "    }\n",
       "\n",
       "    .dataframe thead th {\n",
       "        text-align: right;\n",
       "    }\n",
       "</style>\n",
       "<table border=\"1\" class=\"dataframe\">\n",
       "  <thead>\n",
       "    <tr style=\"text-align: right;\">\n",
       "      <th></th>\n",
       "      <th>ct_pep</th>\n",
       "      <th>pep_match</th>\n",
       "      <th>peptide_HLA</th>\n",
       "      <th>peptide_HLA_lst</th>\n",
       "      <th>likely_HLA_mhc</th>\n",
       "      <th>HLA_pool_cd8</th>\n",
       "      <th>HLA_match</th>\n",
       "    </tr>\n",
       "  </thead>\n",
       "  <tbody>\n",
       "    <tr>\n",
       "      <th>4</th>\n",
       "      <td>VLEETSVML A0201</td>\n",
       "      <td>True</td>\n",
       "      <td>VLEETSVML A0201</td>\n",
       "      <td>['YVLDHLIVV A0201', 'RVRAYTYSK A0301', 'VLEETS...</td>\n",
       "      <td>['A0201', 'A0301', 'A0201']</td>\n",
       "      <td>['A0201' 'A0301' 'B0702']</td>\n",
       "      <td>True</td>\n",
       "    </tr>\n",
       "    <tr>\n",
       "      <th>5</th>\n",
       "      <td>VLEETSVML A0201</td>\n",
       "      <td>True</td>\n",
       "      <td>VLEETSVML A0201</td>\n",
       "      <td>['VLEETSVML A0201']</td>\n",
       "      <td>['A0201']</td>\n",
       "      <td>['A0201' 'A0301' 'B0702']</td>\n",
       "      <td>True</td>\n",
       "    </tr>\n",
       "    <tr>\n",
       "      <th>6</th>\n",
       "      <td>VLEETSVML A0201</td>\n",
       "      <td>True</td>\n",
       "      <td>VLEETSVML A0201</td>\n",
       "      <td>['VLEETSVML A0201']</td>\n",
       "      <td>['A0201']</td>\n",
       "      <td>['A0201' 'A0301' 'B0702']</td>\n",
       "      <td>True</td>\n",
       "    </tr>\n",
       "    <tr>\n",
       "      <th>10</th>\n",
       "      <td>VLEETSVML A0201</td>\n",
       "      <td>True</td>\n",
       "      <td>VLEETSVML A0201</td>\n",
       "      <td>['RVRAYTYSK A0301', 'VLEETSVML A0201']</td>\n",
       "      <td>['A0301', 'A0201']</td>\n",
       "      <td>['A0201' 'A0301' 'B0702']</td>\n",
       "      <td>True</td>\n",
       "    </tr>\n",
       "    <tr>\n",
       "      <th>16</th>\n",
       "      <td>VLEETSVML A0201</td>\n",
       "      <td>True</td>\n",
       "      <td>VLEETSVML A0201</td>\n",
       "      <td>['TPRVTGGGAM B0702', 'VLEETSVML A0201']</td>\n",
       "      <td>['A0201']</td>\n",
       "      <td>['A0201' 'A0301' 'B0702']</td>\n",
       "      <td>True</td>\n",
       "    </tr>\n",
       "    <tr>\n",
       "      <th>...</th>\n",
       "      <td>...</td>\n",
       "      <td>...</td>\n",
       "      <td>...</td>\n",
       "      <td>...</td>\n",
       "      <td>...</td>\n",
       "      <td>...</td>\n",
       "      <td>...</td>\n",
       "    </tr>\n",
       "    <tr>\n",
       "      <th>2260</th>\n",
       "      <td>VLEETSVML A0201</td>\n",
       "      <td>True</td>\n",
       "      <td>VLEETSVML A0201</td>\n",
       "      <td>['RVRAYTYSK A0301', 'VLEETSVML A0201']</td>\n",
       "      <td>['A0301', 'A0201']</td>\n",
       "      <td>['A0201' 'A0301' 'B0702']</td>\n",
       "      <td>True</td>\n",
       "    </tr>\n",
       "    <tr>\n",
       "      <th>2274</th>\n",
       "      <td>VLEETSVML A0201</td>\n",
       "      <td>False</td>\n",
       "      <td>RVRAYTYSK A0301</td>\n",
       "      <td>['VLEETSVML A0201', 'RVRAYTYSK A0301']</td>\n",
       "      <td>['A0201', 'A0301']</td>\n",
       "      <td>['A0201' 'A0301' 'B0702']</td>\n",
       "      <td>True</td>\n",
       "    </tr>\n",
       "    <tr>\n",
       "      <th>2282</th>\n",
       "      <td>VLEETSVML A0201</td>\n",
       "      <td>True</td>\n",
       "      <td>VLEETSVML A0201</td>\n",
       "      <td>['YVLDHLIVV A0201', 'RVRAYTYSK A0301', 'VLEETS...</td>\n",
       "      <td>['A0201', 'A0301', 'A0201']</td>\n",
       "      <td>['A0201' 'A0301' 'B0702']</td>\n",
       "      <td>True</td>\n",
       "    </tr>\n",
       "    <tr>\n",
       "      <th>2292</th>\n",
       "      <td>VLEETSVML A0201</td>\n",
       "      <td>True</td>\n",
       "      <td>VLEETSVML A0201</td>\n",
       "      <td>['VLEETSVML A0201']</td>\n",
       "      <td>['A0201']</td>\n",
       "      <td>['A0201' 'A0301' 'B0702']</td>\n",
       "      <td>True</td>\n",
       "    </tr>\n",
       "    <tr>\n",
       "      <th>2305</th>\n",
       "      <td>VLEETSVML A0201</td>\n",
       "      <td>True</td>\n",
       "      <td>VLEETSVML A0201</td>\n",
       "      <td>['RPHERNGFTV B0702', 'VLEETSVML A0201']</td>\n",
       "      <td>['A0201']</td>\n",
       "      <td>['A0201' 'A0301' 'B0702']</td>\n",
       "      <td>True</td>\n",
       "    </tr>\n",
       "  </tbody>\n",
       "</table>\n",
       "<p>349 rows × 7 columns</p>\n",
       "</div>"
      ],
      "text/plain": [
       "               ct_pep  pep_match      peptide_HLA  \\\n",
       "4     VLEETSVML A0201       True  VLEETSVML A0201   \n",
       "5     VLEETSVML A0201       True  VLEETSVML A0201   \n",
       "6     VLEETSVML A0201       True  VLEETSVML A0201   \n",
       "10    VLEETSVML A0201       True  VLEETSVML A0201   \n",
       "16    VLEETSVML A0201       True  VLEETSVML A0201   \n",
       "...               ...        ...              ...   \n",
       "2260  VLEETSVML A0201       True  VLEETSVML A0201   \n",
       "2274  VLEETSVML A0201      False  RVRAYTYSK A0301   \n",
       "2282  VLEETSVML A0201       True  VLEETSVML A0201   \n",
       "2292  VLEETSVML A0201       True  VLEETSVML A0201   \n",
       "2305  VLEETSVML A0201       True  VLEETSVML A0201   \n",
       "\n",
       "                                        peptide_HLA_lst  \\\n",
       "4     ['YVLDHLIVV A0201', 'RVRAYTYSK A0301', 'VLEETS...   \n",
       "5                                   ['VLEETSVML A0201']   \n",
       "6                                   ['VLEETSVML A0201']   \n",
       "10               ['RVRAYTYSK A0301', 'VLEETSVML A0201']   \n",
       "16              ['TPRVTGGGAM B0702', 'VLEETSVML A0201']   \n",
       "...                                                 ...   \n",
       "2260             ['RVRAYTYSK A0301', 'VLEETSVML A0201']   \n",
       "2274             ['VLEETSVML A0201', 'RVRAYTYSK A0301']   \n",
       "2282  ['YVLDHLIVV A0201', 'RVRAYTYSK A0301', 'VLEETS...   \n",
       "2292                                ['VLEETSVML A0201']   \n",
       "2305            ['RPHERNGFTV B0702', 'VLEETSVML A0201']   \n",
       "\n",
       "                   likely_HLA_mhc               HLA_pool_cd8  HLA_match  \n",
       "4     ['A0201', 'A0301', 'A0201']  ['A0201' 'A0301' 'B0702']       True  \n",
       "5                       ['A0201']  ['A0201' 'A0301' 'B0702']       True  \n",
       "6                       ['A0201']  ['A0201' 'A0301' 'B0702']       True  \n",
       "10             ['A0301', 'A0201']  ['A0201' 'A0301' 'B0702']       True  \n",
       "16                      ['A0201']  ['A0201' 'A0301' 'B0702']       True  \n",
       "...                           ...                        ...        ...  \n",
       "2260           ['A0301', 'A0201']  ['A0201' 'A0301' 'B0702']       True  \n",
       "2274           ['A0201', 'A0301']  ['A0201' 'A0301' 'B0702']       True  \n",
       "2282  ['A0201', 'A0301', 'A0201']  ['A0201' 'A0301' 'B0702']       True  \n",
       "2292                    ['A0201']  ['A0201' 'A0301' 'B0702']       True  \n",
       "2305                    ['A0201']  ['A0201' 'A0301' 'B0702']       True  \n",
       "\n",
       "[349 rows x 7 columns]"
      ]
     },
     "execution_count": 16,
     "metadata": {},
     "output_type": "execute_result"
    }
   ],
   "source": [
    "df.loc[df.ct == 1, ['ct_pep','pep_match','peptide_HLA','peptide_HLA_lst','likely_HLA_mhc','HLA_pool_cd8','HLA_match']]"
   ]
  },
  {
   "cell_type": "code",
   "execution_count": 13,
   "metadata": {},
   "outputs": [
    {
     "data": {
      "text/plain": [
       "Index(['gem', 'clonotype', 'num_clonotype', 'ct', 'genes_TRA', 'genes_TRB',\n",
       "       'genes_lst_TRA', 'genes_lst_TRB', 'length_TRA', 'cdr1_TRA', 'cdr2_TRA',\n",
       "       'cdr3_TRA', 'umi_count_TRA', 'umi_count_lst_TRA', 'delta_umi_TRA',\n",
       "       'cdr3_lst_TRA', 'chain_count_TRA', 'single_TRA', 'length_TRB',\n",
       "       'cdr1_TRB', 'cdr2_TRB', 'cdr3_TRB', 'umi_count_TRB',\n",
       "       'umi_count_lst_TRB', 'delta_umi_TRB', 'cdr3_lst_TRB', 'chain_count_TRB',\n",
       "       'single_TRB', 'single_chain_only', 'umi_count_tcr', 'cdr3_comb',\n",
       "       'v_gene_TRA', 'j_gene_TRA', 'v_gene_TRB', 'j_gene_TRB', 'tcr_category',\n",
       "       'no_filtration', 'exclude_single-chain_TCRs',\n",
       "       'exclude_ambiguous_and_single-chain_TCRs', 'exclude_ambiguous_TCRs',\n",
       "       'label', 'umi_count_mhc', 'umi_count_lst_mhc', 'delta_umi_mhc',\n",
       "       'single_barcode_mhc', 'multiplets_mhc', 'umi_count_cd8',\n",
       "       'umi_count_lst_cd8', 'delta_umi_cd8', 'single_barcode_cd8',\n",
       "       'multiplets_cd8', 'detected_response', 'peptide_assayed', 'sample_id',\n",
       "       'sample_id_lst', 'HLA_pool_cd8', 'HLA_lst_cd8', 'HLA_cd8', 'HLA_match',\n",
       "       'HLA_mhc', 'HLA_lst_mhc', 'likely_HLA_mhc', 'peptide', 'peptide_lst',\n",
       "       'peptide_HLA', 'peptide_HLA_lst', 'epitope', 'epitope_lst', 'rank',\n",
       "       'marker', 'marker_lst', 'umi_count_lst_mrk', 'delta_umi_mrk',\n",
       "       'single_barcode_mrk', 'multiplets_mrk', 'umi_count_mhc_rel',\n",
       "       'gems_per_specificity', 'gems_per_clonotype', 'binding_concordance',\n",
       "       'cdr3_TRA_substr', 'cdr3_TRB_substr', 'VDJdb_pep', 'VDJdb_check',\n",
       "       'ct_pep', 'pep_match'],\n",
       "      dtype='object')"
      ]
     },
     "execution_count": 13,
     "metadata": {},
     "output_type": "execute_result"
    }
   ],
   "source": [
    "df.columns"
   ]
  },
  {
   "cell_type": "code",
   "execution_count": 23,
   "metadata": {},
   "outputs": [],
   "source": [
    "clone = 1"
   ]
  },
  {
   "cell_type": "code",
   "execution_count": 45,
   "metadata": {},
   "outputs": [
    {
     "data": {
      "text/plain": [
       "array(['VLEETSVML A0201', 'RPPIFIRRL B0702', 'TPRVTGGGAM B0702',\n",
       "       'RVRAYTYSK A0301', 'CLGGLLTMV A0201', 'YVLDHLIVV A0201',\n",
       "       'RPHERNGFTVL B0702', 'FLYALALLL A0201'], dtype=object)"
      ]
     },
     "execution_count": 45,
     "metadata": {},
     "output_type": "execute_result"
    }
   ],
   "source": [
    "peptides = df[df.ct == clone].peptide_HLA.unique()\n",
    "peptides"
   ]
  },
  {
   "cell_type": "code",
   "execution_count": 25,
   "metadata": {},
   "outputs": [],
   "source": [
    "clonotypes = df[df.peptide_HLA.isin(peptides)].ct.astype(int).unique()"
   ]
  },
  {
   "cell_type": "code",
   "execution_count": 31,
   "metadata": {},
   "outputs": [],
   "source": [
    "clonotypes = clonotypes[clonotypes != clone]"
   ]
  },
  {
   "cell_type": "code",
   "execution_count": 34,
   "metadata": {},
   "outputs": [
    {
     "data": {
      "text/html": [
       "<div>\n",
       "<style scoped>\n",
       "    .dataframe tbody tr th:only-of-type {\n",
       "        vertical-align: middle;\n",
       "    }\n",
       "\n",
       "    .dataframe tbody tr th {\n",
       "        vertical-align: top;\n",
       "    }\n",
       "\n",
       "    .dataframe thead th {\n",
       "        text-align: right;\n",
       "    }\n",
       "</style>\n",
       "<table border=\"1\" class=\"dataframe\">\n",
       "  <thead>\n",
       "    <tr style=\"text-align: right;\">\n",
       "      <th></th>\n",
       "      <th>cdr3_TRA</th>\n",
       "      <th>cdr3_TRB</th>\n",
       "    </tr>\n",
       "  </thead>\n",
       "  <tbody>\n",
       "    <tr>\n",
       "      <th>0</th>\n",
       "      <td>CAVRAITGGGNKLTF</td>\n",
       "      <td>CASSTPSSGPQETQYF</td>\n",
       "    </tr>\n",
       "    <tr>\n",
       "      <th>1</th>\n",
       "      <td>CATVVRMDSSYKLIF</td>\n",
       "      <td>CASSLIGQGKKDEQFF</td>\n",
       "    </tr>\n",
       "    <tr>\n",
       "      <th>2</th>\n",
       "      <td>CAMREPSNYGGSQGNLIF</td>\n",
       "      <td>CSARDLAGSSGANVLTF</td>\n",
       "    </tr>\n",
       "    <tr>\n",
       "      <th>3</th>\n",
       "      <td>CAMREGMDSSYKLIF</td>\n",
       "      <td>0</td>\n",
       "    </tr>\n",
       "    <tr>\n",
       "      <th>7</th>\n",
       "      <td>CATVVRMDSSYKLIF</td>\n",
       "      <td>CASSLIGQGKKDEQFF</td>\n",
       "    </tr>\n",
       "    <tr>\n",
       "      <th>...</th>\n",
       "      <td>...</td>\n",
       "      <td>...</td>\n",
       "    </tr>\n",
       "    <tr>\n",
       "      <th>2314</th>\n",
       "      <td>0</td>\n",
       "      <td>CASSYVGYEQYF</td>\n",
       "    </tr>\n",
       "    <tr>\n",
       "      <th>2315</th>\n",
       "      <td>0</td>\n",
       "      <td>CASSPDRSRANTGELFF</td>\n",
       "    </tr>\n",
       "    <tr>\n",
       "      <th>2316</th>\n",
       "      <td>0</td>\n",
       "      <td>CASSTHDSEGALSPLHF</td>\n",
       "    </tr>\n",
       "    <tr>\n",
       "      <th>2317</th>\n",
       "      <td>0</td>\n",
       "      <td>CASSYVGYEQYF</td>\n",
       "    </tr>\n",
       "    <tr>\n",
       "      <th>2318</th>\n",
       "      <td>0</td>\n",
       "      <td>CASSTPSSGPQETQYF</td>\n",
       "    </tr>\n",
       "  </tbody>\n",
       "</table>\n",
       "<p>1970 rows × 2 columns</p>\n",
       "</div>"
      ],
      "text/plain": [
       "                cdr3_TRA           cdr3_TRB\n",
       "0        CAVRAITGGGNKLTF   CASSTPSSGPQETQYF\n",
       "1        CATVVRMDSSYKLIF   CASSLIGQGKKDEQFF\n",
       "2     CAMREPSNYGGSQGNLIF  CSARDLAGSSGANVLTF\n",
       "3        CAMREGMDSSYKLIF                  0\n",
       "7        CATVVRMDSSYKLIF   CASSLIGQGKKDEQFF\n",
       "...                  ...                ...\n",
       "2314                   0       CASSYVGYEQYF\n",
       "2315                   0  CASSPDRSRANTGELFF\n",
       "2316                   0  CASSTHDSEGALSPLHF\n",
       "2317                   0       CASSYVGYEQYF\n",
       "2318                   0   CASSTPSSGPQETQYF\n",
       "\n",
       "[1970 rows x 2 columns]"
      ]
     },
     "execution_count": 34,
     "metadata": {},
     "output_type": "execute_result"
    }
   ],
   "source": [
    "df.loc[df.ct.isin(clonotypes), ['cdr3_TRA','cdr3_TRB']]"
   ]
  },
  {
   "cell_type": "code",
   "execution_count": 39,
   "metadata": {},
   "outputs": [
    {
     "data": {
      "text/html": [
       "<div>\n",
       "<style scoped>\n",
       "    .dataframe tbody tr th:only-of-type {\n",
       "        vertical-align: middle;\n",
       "    }\n",
       "\n",
       "    .dataframe tbody tr th {\n",
       "        vertical-align: top;\n",
       "    }\n",
       "\n",
       "    .dataframe thead th {\n",
       "        text-align: right;\n",
       "    }\n",
       "</style>\n",
       "<table border=\"1\" class=\"dataframe\">\n",
       "  <thead>\n",
       "    <tr style=\"text-align: right;\">\n",
       "      <th></th>\n",
       "      <th>cdr3_lst_TRA</th>\n",
       "      <th>cdr3_lst_TRB</th>\n",
       "    </tr>\n",
       "  </thead>\n",
       "  <tbody>\n",
       "    <tr>\n",
       "      <th>4</th>\n",
       "      <td>['CGTEGAGNNRKLIW']</td>\n",
       "      <td>['CASSQVFGTPTPQHF']</td>\n",
       "    </tr>\n",
       "    <tr>\n",
       "      <th>1612</th>\n",
       "      <td>['']</td>\n",
       "      <td>['CASSQVFGTPTPQHF']</td>\n",
       "    </tr>\n",
       "  </tbody>\n",
       "</table>\n",
       "</div>"
      ],
      "text/plain": [
       "            cdr3_lst_TRA         cdr3_lst_TRB\n",
       "4     ['CGTEGAGNNRKLIW']  ['CASSQVFGTPTPQHF']\n",
       "1612                ['']  ['CASSQVFGTPTPQHF']"
      ]
     },
     "execution_count": 39,
     "metadata": {},
     "output_type": "execute_result"
    }
   ],
   "source": [
    "df.loc[df.ct == clone, ['cdr3_lst_TRA', 'cdr3_lst_TRB']].drop_duplicates()"
   ]
  },
  {
   "cell_type": "code",
   "execution_count": null,
   "metadata": {},
   "outputs": [],
   "source": []
  }
 ],
 "metadata": {
  "kernelspec": {
   "display_name": "Python 3",
   "language": "python",
   "name": "python3"
  },
  "language_info": {
   "codemirror_mode": {
    "name": "ipython",
    "version": 3
   },
   "file_extension": ".py",
   "mimetype": "text/x-python",
   "name": "python",
   "nbconvert_exporter": "python",
   "pygments_lexer": "ipython3",
   "version": "3.7.3"
  }
 },
 "nbformat": 4,
 "nbformat_minor": 4
}
