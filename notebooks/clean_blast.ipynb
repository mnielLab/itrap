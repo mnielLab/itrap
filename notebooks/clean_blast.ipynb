{
 "cells": [
  {
   "cell_type": "code",
   "execution_count": 6,
   "metadata": {},
   "outputs": [],
   "source": [
    "import numpy as np\n",
    "import pandas as pd"
   ]
  },
  {
   "cell_type": "markdown",
   "metadata": {},
   "source": [
    "# Input"
   ]
  },
  {
   "cell_type": "code",
   "execution_count": 2,
   "metadata": {},
   "outputs": [],
   "source": [
    "blast_annotations = \"/Volumes/tuba/herpov/tcr-pmhc-sc-project/data/exp3_MHC/blast/expected_templates/blast.annotated.tsv\""
   ]
  },
  {
   "cell_type": "markdown",
   "metadata": {},
   "source": [
    "# Output"
   ]
  },
  {
   "cell_type": "code",
   "execution_count": 3,
   "metadata": {},
   "outputs": [],
   "source": [
    "clean_blast_annotations = \"/Volumes/tuba/herpov/tcr-pmhc-sc-project/data/exp3_MHC/blast/expected_templates/blast.annotated.clean.tsv\""
   ]
  },
  {
   "cell_type": "markdown",
   "metadata": {},
   "source": [
    "# Main"
   ]
  },
  {
   "cell_type": "code",
   "execution_count": 4,
   "metadata": {},
   "outputs": [
    {
     "name": "stderr",
     "output_type": "stream",
     "text": [
      "/anaconda3/lib/python3.7/site-packages/IPython/core/interactiveshell.py:3049: DtypeWarning: Columns (14) have mixed types. Specify dtype option on import or set low_memory=False.\n",
      "  interactivity=interactivity, compiler=compiler, result=result)\n"
     ]
    }
   ],
   "source": [
    "blast_df = pd.read_csv(blast_annotations, sep=\"\\t\", usecols=['query_id', 'template_id', 'gem', 'bit_score', 'alignment_length', 'tso', 'b_primer', 'anneal', 'a_primer', 'match']) #, sep=\" \", names=[\"read_id\", \"gem\", \"tso\", \"b_primer\", \"anneal\", \"cd8_primer\", \"mhc_primer\"]"
   ]
  },
  {
   "cell_type": "code",
   "execution_count": 7,
   "metadata": {},
   "outputs": [],
   "source": [
    "blast_df.replace({\"gem\": r\"^BX:Z:\"}, {\"gem\": \"\"}, regex=True, inplace=True)\n",
    "doublets = blast_df.duplicated(['query_id', 'gem', 'bit_score'], keep=False) #, 't_alignment_start', 't_alignment_end', 'q_alignment_start', 'q_alignment_end', 'match'\n",
    "blast_df['credible_alignment'] = np.where(doublets, False, True)\n",
    "blast_df.sort_values(by=['gem', 'query_id', 'bit_score', 'alignment_length'], ascending=False, inplace=True) #\n",
    "blast_df.drop_duplicates(['query_id'], inplace=True)\n",
    "blast_df['barcode'], blast_df['sample'] = blast_df.template_id.str.split(\"_\", n=1).str"
   ]
  },
  {
   "cell_type": "code",
   "execution_count": 8,
   "metadata": {},
   "outputs": [],
   "source": [
    "blast_df.to_csv(clean_blast_annotations, sep=\"\\t\", index=False)"
   ]
  },
  {
   "cell_type": "code",
   "execution_count": null,
   "metadata": {},
   "outputs": [],
   "source": []
  }
 ],
 "metadata": {
  "kernelspec": {
   "display_name": "Python 3",
   "language": "python",
   "name": "python3"
  },
  "language_info": {
   "codemirror_mode": {
    "name": "ipython",
    "version": 3
   },
   "file_extension": ".py",
   "mimetype": "text/x-python",
   "name": "python",
   "nbconvert_exporter": "python",
   "pygments_lexer": "ipython3",
   "version": "3.7.3"
  }
 },
 "nbformat": 4,
 "nbformat_minor": 2
}
