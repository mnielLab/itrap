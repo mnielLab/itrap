{
 "cells": [
  {
   "cell_type": "markdown",
   "metadata": {},
   "source": [
    "# OBS! Is now a python script"
   ]
  },
  {
   "cell_type": "code",
   "execution_count": 1,
   "metadata": {},
   "outputs": [],
   "source": [
    "import numpy as np\n",
    "import pandas as pd\n",
    "import matplotlib.pyplot as plt"
   ]
  },
  {
   "cell_type": "code",
   "execution_count": 2,
   "metadata": {},
   "outputs": [],
   "source": [
    "plt.style.use('ggplot')"
   ]
  },
  {
   "cell_type": "markdown",
   "metadata": {},
   "source": [
    "# Args"
   ]
  },
  {
   "cell_type": "code",
   "execution_count": 3,
   "metadata": {},
   "outputs": [],
   "source": [
    "EXP = \"exp3\"\n",
    "PLATFORM = \"IONTORRENT\"#\"ILLUMINA\""
   ]
  },
  {
   "cell_type": "code",
   "execution_count": 4,
   "metadata": {},
   "outputs": [],
   "source": [
    "MAPPING = \"BLAST\" #'KMA' # BLAST\n",
    "BARCODE_SYSTEM = \"AKB\" #'10x' #'AKB' #"
   ]
  },
  {
   "cell_type": "markdown",
   "metadata": {},
   "source": [
    "## Input data"
   ]
  },
  {
   "cell_type": "code",
   "execution_count": 5,
   "metadata": {},
   "outputs": [],
   "source": [
    "tcr_contig_annotations = \"/Volumes/tuba/herpov/tcr-pmhc-sc-project/data/\" + EXP + \"_TCR/augmented/tcr.clean.augmented.csv\""
   ]
  },
  {
   "cell_type": "code",
   "execution_count": 6,
   "metadata": {},
   "outputs": [],
   "source": [
    "if MAPPING == 'KMA':\n",
    "    barcodes = \"/Volumes/tuba/herpov/tcr-pmhc-sc-project/data/\" + EXP + \"_MHC_\" + PLATFORM + \"/mapping/kma-1t1/output/mapping.clean.\" + BARCODE_SYSTEM + \".augmented.gz\"\n",
    "if MAPPING == 'BLAST':\n",
    "    barcodes = \"/Volumes/tuba/herpov/tcr-pmhc-sc-project/data/\" + EXP + \"_MHC_\" + PLATFORM + \"/mapping/blast/blast.annotated.clean.\" + BARCODE_SYSTEM + \".augmented.tsv\""
   ]
  },
  {
   "cell_type": "markdown",
   "metadata": {},
   "source": [
    "## Output data"
   ]
  },
  {
   "cell_type": "code",
   "execution_count": 7,
   "metadata": {},
   "outputs": [],
   "source": [
    "output = \"/Volumes/tuba/herpov/tcr-pmhc-sc-project/data/\" + EXP + \"_CAT_\" + PLATFORM + \"_\" + MAPPING + \"_\" + BARCODE_SYSTEM + \"/tables/tcr_barcode.xlsx\""
   ]
  },
  {
   "cell_type": "markdown",
   "metadata": {},
   "source": [
    "# Import input"
   ]
  },
  {
   "cell_type": "code",
   "execution_count": 8,
   "metadata": {},
   "outputs": [],
   "source": [
    "tcr_chain_match_df = pd.read_csv(tcr_contig_annotations)"
   ]
  },
  {
   "cell_type": "code",
   "execution_count": 9,
   "metadata": {
    "scrolled": true
   },
   "outputs": [],
   "source": [
    "barcode_specificity_df = pd.read_csv(barcodes, sep=\"\\t\") #, usecols=['query_id', 'template_id', 'gem', 'bit_score', 'alignment_length', 'tso', 'b_primer', 'anneal', 'a_primer', 'match'], sep=\" \", names=[\"read_id\", \"gem\", \"tso\", \"b_primer\", \"anneal\", \"cd8_primer\", \"mhc_primer\"]"
   ]
  },
  {
   "cell_type": "markdown",
   "metadata": {},
   "source": [
    "## Merge clonotypes and barcodes"
   ]
  },
  {
   "cell_type": "code",
   "execution_count": 10,
   "metadata": {},
   "outputs": [],
   "source": [
    "clonotype_barcode_specificity_df = pd.merge(tcr_chain_match_df[['gem', 'clonotype',\n",
    "                                                                'cdr3_TRA', 'cdr3_nt_TRA',\n",
    "                                                                'cdr3_TRB', 'cdr3_nt_TRB',\n",
    "                                                                'umis_TRA', 'umis_diff_TRA', 'single_TRA', 'umis_lst_TRA', 'cdr3_lst_TRA',\n",
    "                                                                'umis_TRB', 'umis_diff_TRB', 'single_TRB', 'umis_lst_TRB', 'cdr3_lst_TRB']],\n",
    "                                            barcode_specificity_df,\n",
    "                                            how='right', on='gem')\n",
    "\n",
    "column_names_to_be_removed = clonotype_barcode_specificity_df.columns.to_list()\n",
    "column_names_to_be_removed.remove('umis_lst_TRA')\n",
    "column_names_to_be_removed.remove('umis_lst_TRB')\n",
    "column_names_to_be_removed.remove('read_counts_lst_mhc')\n",
    "column_names_to_be_removed.remove('read_counts_lst_cd8')\n",
    "column_names_to_be_removed.remove('template_lst_mhc')\n",
    "column_names_to_be_removed.remove('template_lst_cd8')\n",
    "column_names_to_be_removed.remove('cdr3_lst_TRA')\n",
    "column_names_to_be_removed.remove('cdr3_lst_TRB')\n",
    "column_names_to_be_removed.remove('cdr3_TRA')\n",
    "column_names_to_be_removed.remove('cdr3_TRB')\n",
    "column_names_to_be_removed.remove('cdr3_nt_TRA')\n",
    "column_names_to_be_removed.remove('cdr3_nt_TRB')\n",
    "column_names_to_be_removed.remove('epitope_lst')\n",
    "\n",
    "clonotype_barcode_specificity_df.drop_duplicates(subset=column_names_to_be_removed, inplace=True)"
   ]
  },
  {
   "cell_type": "code",
   "execution_count": 11,
   "metadata": {},
   "outputs": [
    {
     "name": "stdout",
     "output_type": "stream",
     "text": [
      "(6385, 37)\n",
      "(6385,)\n"
     ]
    }
   ],
   "source": [
    "print(clonotype_barcode_specificity_df.shape)\n",
    "print(clonotype_barcode_specificity_df.gem.unique().shape)"
   ]
  },
  {
   "cell_type": "markdown",
   "metadata": {},
   "source": [
    "At this point the table contains clonotype"
   ]
  },
  {
   "cell_type": "markdown",
   "metadata": {},
   "source": [
    "## Write to excel"
   ]
  },
  {
   "cell_type": "code",
   "execution_count": 13,
   "metadata": {},
   "outputs": [],
   "source": [
    "clonotype_barcode_specificity_df.to_excel(output, index=False)"
   ]
  },
  {
   "cell_type": "code",
   "execution_count": null,
   "metadata": {},
   "outputs": [],
   "source": []
  }
 ],
 "metadata": {
  "kernelspec": {
   "display_name": "Python 3",
   "language": "python",
   "name": "python3"
  },
  "language_info": {
   "codemirror_mode": {
    "name": "ipython",
    "version": 3
   },
   "file_extension": ".py",
   "mimetype": "text/x-python",
   "name": "python",
   "nbconvert_exporter": "python",
   "pygments_lexer": "ipython3",
   "version": "3.7.3"
  }
 },
 "nbformat": 4,
 "nbformat_minor": 2
}
