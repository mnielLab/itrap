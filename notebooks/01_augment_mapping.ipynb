{
 "cells": [
  {
   "cell_type": "markdown",
   "metadata": {},
   "source": [
    "# OBS! Is now a python script"
   ]
  },
  {
   "cell_type": "code",
   "execution_count": 1,
   "metadata": {},
   "outputs": [],
   "source": [
    "import numpy as np\n",
    "import pandas as pd\n",
    "import matplotlib.pyplot as plt"
   ]
  },
  {
   "cell_type": "code",
   "execution_count": 2,
   "metadata": {},
   "outputs": [],
   "source": [
    "plt.style.use('ggplot')"
   ]
  },
  {
   "cell_type": "markdown",
   "metadata": {},
   "source": [
    "# Args"
   ]
  },
  {
   "cell_type": "code",
   "execution_count": 3,
   "metadata": {},
   "outputs": [],
   "source": [
    "EXP = \"exp3\"\n",
    "PLATFORM = \"IONTORRENT\""
   ]
  },
  {
   "cell_type": "code",
   "execution_count": 4,
   "metadata": {},
   "outputs": [],
   "source": [
    "MAPPING = 'KMA' # BLAST\n",
    "BARCODE_SYSTEM = 'AKB' #'AKB' #10x"
   ]
  },
  {
   "cell_type": "code",
   "execution_count": 5,
   "metadata": {},
   "outputs": [],
   "source": [
    "if BARCODE_SYSTEM == '10x':\n",
    "    BARCODE_SYSTEM_REGEX = \"^(?!.*A\\d+B\\d+).*$\"\n",
    "    ANTIBODY_REGEX = \"HASH\"\n",
    "if BARCODE_SYSTEM == 'AKB':\n",
    "    BARCODE_SYSTEM_REGEX = \"^A\\d+B\\d+\"\n",
    "    ANTIBODY_REGEX = \"A4000\""
   ]
  },
  {
   "cell_type": "markdown",
   "metadata": {},
   "source": [
    "## Input data"
   ]
  },
  {
   "cell_type": "code",
   "execution_count": 6,
   "metadata": {},
   "outputs": [],
   "source": [
    "if MAPPING == 'KMA':\n",
    "    map_file = \"/Volumes/tuba/herpov/tcr-pmhc-sc-project/data/\" + EXP + \"_MHC_\" + PLATFORM + \"/mapping/KMA-1t1/output/mapping.clean.gz\"\n",
    "if MAPPING == 'BLAST':\n",
    "    map_file = \"/Volumes/tuba/herpov/tcr-pmhc-sc-project/data/\" + EXP + \"_MHC_\" + PLATFORM + \"/mapping/blast/blast.annotated.clean.tsv\""
   ]
  },
  {
   "cell_type": "markdown",
   "metadata": {},
   "source": [
    "OBS! We wont always have response data?!"
   ]
  },
  {
   "cell_type": "code",
   "execution_count": 7,
   "metadata": {},
   "outputs": [],
   "source": [
    "specificity_annotations = \"/Volumes/tuba/herpov/tcr-pmhc-sc-project/data/exp3_MHC_\" + PLATFORM + \"/barcode_library/barcode_specificity_annotations.tab\"\n",
    "response_annotations = \"/Volumes/tuba/herpov/tcr-pmhc-sc-project/data/exp3_MHC_IONTORRENT/barcode_library/detected_responses_annotation.xlsx\"\n",
    "umi_annotations = \"/Volumes/tuba/kamilla/10x-barcoding/results/kma_parser_parallel.tsv\""
   ]
  },
  {
   "cell_type": "markdown",
   "metadata": {},
   "source": [
    "## Output data"
   ]
  },
  {
   "cell_type": "code",
   "execution_count": 8,
   "metadata": {},
   "outputs": [],
   "source": [
    "if MAPPING == 'KMA':\n",
    "    output = \"/Volumes/tuba/herpov/tcr-pmhc-sc-project/data/\" + EXP + \"_MHC_\" + PLATFORM + \"/mapping/KMA-1t1/output/mapping.clean.\" + BARCODE_SYSTEM + \".augmented.gz\"\n",
    "if MAPPING == 'BLAST':\n",
    "    output = \"/Volumes/tuba/herpov/tcr-pmhc-sc-project/data/\" + EXP + \"_MHC_\" + PLATFORM + \"/mapping/blast/blast.annotated.clean.\" + BARCODE_SYSTEM + \".augmented.tsv\""
   ]
  },
  {
   "cell_type": "code",
   "execution_count": 8,
   "metadata": {},
   "outputs": [
    {
     "data": {
      "text/plain": [
       "'exp3'"
      ]
     },
     "execution_count": 8,
     "metadata": {},
     "output_type": "execute_result"
    }
   ],
   "source": [
    "EXP"
   ]
  },
  {
   "cell_type": "markdown",
   "metadata": {},
   "source": [
    "# Import input"
   ]
  },
  {
   "cell_type": "code",
   "execution_count": 9,
   "metadata": {
    "scrolled": true
   },
   "outputs": [],
   "source": [
    "map_df = pd.read_csv(map_file) #, usecols=['query_id', 'template_id', 'gem', 'bit_score', 'alignment_length', 'tso', 'b_primer', 'anneal', 'a_primer', 'match'], sep=\" \", names=[\"read_id\", \"gem\", \"tso\", \"b_primer\", \"anneal\", \"cd8_primer\", \"mhc_primer\"]"
   ]
  },
  {
   "cell_type": "code",
   "execution_count": 10,
   "metadata": {},
   "outputs": [],
   "source": [
    "specificity_df = pd.read_csv(specificity_annotations, sep='\\t', skiprows=1, names=['barcode', 'peptide', 'HLA', 'epitope'])"
   ]
  },
  {
   "cell_type": "code",
   "execution_count": 11,
   "metadata": {},
   "outputs": [],
   "source": [
    "response_df = pd.read_excel(response_annotations, index_col=None, usecols=['barcode_cd8', 'peptide'])"
   ]
  },
  {
   "cell_type": "code",
   "execution_count": 12,
   "metadata": {},
   "outputs": [],
   "source": [
    "umi_df = pd.read_csv(umi_annotations, sep='\\t', usecols=['read', 'A_N6', 'B_N6'])\n",
    "umi_df.rename(columns={'read':'query_id'}, inplace=True)\n",
    "umi_df.fillna('', inplace=True)\n",
    "umi_df = umi_df[(umi_df.A_N6.apply(lambda x: len(str(x))==6)) & (umi_df.B_N6.apply(lambda x: len(str(x))==6))]\n",
    "umi_df['umi'] = umi_df.A_N6 + umi_df.B_N6"
   ]
  },
  {
   "cell_type": "code",
   "execution_count": 13,
   "metadata": {},
   "outputs": [
    {
     "data": {
      "text/html": [
       "<div>\n",
       "<style scoped>\n",
       "    .dataframe tbody tr th:only-of-type {\n",
       "        vertical-align: middle;\n",
       "    }\n",
       "\n",
       "    .dataframe tbody tr th {\n",
       "        vertical-align: top;\n",
       "    }\n",
       "\n",
       "    .dataframe thead th {\n",
       "        text-align: right;\n",
       "    }\n",
       "</style>\n",
       "<table border=\"1\" class=\"dataframe\">\n",
       "  <thead>\n",
       "    <tr style=\"text-align: right;\">\n",
       "      <th></th>\n",
       "      <th>query_id</th>\n",
       "      <th>A_N6</th>\n",
       "      <th>B_N6</th>\n",
       "      <th>umi</th>\n",
       "    </tr>\n",
       "  </thead>\n",
       "  <tbody>\n",
       "    <tr>\n",
       "      <td>1</td>\n",
       "      <td>HBBAF:03366:00950</td>\n",
       "      <td>AGTGGA</td>\n",
       "      <td>TCGTTG</td>\n",
       "      <td>AGTGGATCGTTG</td>\n",
       "    </tr>\n",
       "    <tr>\n",
       "      <td>6</td>\n",
       "      <td>HBBAF:02685:00249</td>\n",
       "      <td>AGTGGA</td>\n",
       "      <td>TCGTTG</td>\n",
       "      <td>AGTGGATCGTTG</td>\n",
       "    </tr>\n",
       "    <tr>\n",
       "      <td>15</td>\n",
       "      <td>HBBAF:01635:00466</td>\n",
       "      <td>AGTGGA</td>\n",
       "      <td>TCGTTG</td>\n",
       "      <td>AGTGGATCGTTG</td>\n",
       "    </tr>\n",
       "    <tr>\n",
       "      <td>23</td>\n",
       "      <td>HBBAF:00443:01340</td>\n",
       "      <td>AGTGGA</td>\n",
       "      <td>TCGTTG</td>\n",
       "      <td>AGTGGATCGTTG</td>\n",
       "    </tr>\n",
       "    <tr>\n",
       "      <td>24</td>\n",
       "      <td>HBBAF:00382:01540</td>\n",
       "      <td>AGTGGA</td>\n",
       "      <td>TCGTTG</td>\n",
       "      <td>AGTGGATCGTTG</td>\n",
       "    </tr>\n",
       "    <tr>\n",
       "      <td>...</td>\n",
       "      <td>...</td>\n",
       "      <td>...</td>\n",
       "      <td>...</td>\n",
       "      <td>...</td>\n",
       "    </tr>\n",
       "    <tr>\n",
       "      <td>247875</td>\n",
       "      <td>HBBAF:00621:02112</td>\n",
       "      <td>CTAGGC</td>\n",
       "      <td>ATATAA</td>\n",
       "      <td>CTAGGCATATAA</td>\n",
       "    </tr>\n",
       "    <tr>\n",
       "      <td>247876</td>\n",
       "      <td>HBBAF:00373:00554</td>\n",
       "      <td>GAGTGT</td>\n",
       "      <td>ATATAA</td>\n",
       "      <td>GAGTGTATATAA</td>\n",
       "    </tr>\n",
       "    <tr>\n",
       "      <td>247878</td>\n",
       "      <td>HBBAF:02655:02122</td>\n",
       "      <td>GTCCTT</td>\n",
       "      <td>ACTATA</td>\n",
       "      <td>GTCCTTACTATA</td>\n",
       "    </tr>\n",
       "    <tr>\n",
       "      <td>247879</td>\n",
       "      <td>HBBAF:01027:02674</td>\n",
       "      <td>GTCCTT</td>\n",
       "      <td>ACTATA</td>\n",
       "      <td>GTCCTTACTATA</td>\n",
       "    </tr>\n",
       "    <tr>\n",
       "      <td>247880</td>\n",
       "      <td>HBBAF:02062:03089</td>\n",
       "      <td>CGTGCC</td>\n",
       "      <td>AAGATC</td>\n",
       "      <td>CGTGCCAAGATC</td>\n",
       "    </tr>\n",
       "  </tbody>\n",
       "</table>\n",
       "<p>230295 rows × 4 columns</p>\n",
       "</div>"
      ],
      "text/plain": [
       "                 query_id    A_N6    B_N6           umi\n",
       "1       HBBAF:03366:00950  AGTGGA  TCGTTG  AGTGGATCGTTG\n",
       "6       HBBAF:02685:00249  AGTGGA  TCGTTG  AGTGGATCGTTG\n",
       "15      HBBAF:01635:00466  AGTGGA  TCGTTG  AGTGGATCGTTG\n",
       "23      HBBAF:00443:01340  AGTGGA  TCGTTG  AGTGGATCGTTG\n",
       "24      HBBAF:00382:01540  AGTGGA  TCGTTG  AGTGGATCGTTG\n",
       "...                   ...     ...     ...           ...\n",
       "247875  HBBAF:00621:02112  CTAGGC  ATATAA  CTAGGCATATAA\n",
       "247876  HBBAF:00373:00554  GAGTGT  ATATAA  GAGTGTATATAA\n",
       "247878  HBBAF:02655:02122  GTCCTT  ACTATA  GTCCTTACTATA\n",
       "247879  HBBAF:01027:02674  GTCCTT  ACTATA  GTCCTTACTATA\n",
       "247880  HBBAF:02062:03089  CGTGCC  AAGATC  CGTGCCAAGATC\n",
       "\n",
       "[230295 rows x 4 columns]"
      ]
     },
     "execution_count": 13,
     "metadata": {},
     "output_type": "execute_result"
    }
   ],
   "source": [
    "umi_df"
   ]
  },
  {
   "cell_type": "markdown",
   "metadata": {},
   "source": [
    "## Process mapping table"
   ]
  },
  {
   "cell_type": "code",
   "execution_count": 14,
   "metadata": {},
   "outputs": [
    {
     "name": "stdout",
     "output_type": "stream",
     "text": [
      "Reads: 260419\n",
      "GEMs: 8762\n"
     ]
    }
   ],
   "source": [
    "print(\"Reads: %i\" %map_df.shape[0])\n",
    "print(\"GEMs: %i\" %map_df.gem.unique().shape[0])"
   ]
  },
  {
   "cell_type": "code",
   "execution_count": 15,
   "metadata": {},
   "outputs": [],
   "source": [
    "map_df = map_df[(map_df.credible_alignment == True) & (map_df.barcode.str.contains(BARCODE_SYSTEM_REGEX))]"
   ]
  },
  {
   "cell_type": "code",
   "execution_count": 16,
   "metadata": {},
   "outputs": [
    {
     "name": "stdout",
     "output_type": "stream",
     "text": [
      "Reads: 245015\n",
      "GEMs: 7876\n"
     ]
    }
   ],
   "source": [
    "print(\"Reads: %i\" %map_df.shape[0])\n",
    "print(\"GEMs: %i\" %map_df.gem.unique().shape[0])"
   ]
  },
  {
   "cell_type": "code",
   "execution_count": 17,
   "metadata": {},
   "outputs": [],
   "source": [
    "map_df = pd.merge(map_df, umi_df[['query_id', 'umi']], on='query_id', how='inner')"
   ]
  },
  {
   "cell_type": "code",
   "execution_count": 18,
   "metadata": {},
   "outputs": [
    {
     "name": "stdout",
     "output_type": "stream",
     "text": [
      "Reads: 227211\n",
      "GEMs: 7591\n"
     ]
    }
   ],
   "source": [
    "print(\"Reads: %i\" %map_df.shape[0])\n",
    "print(\"GEMs: %i\" %map_df.gem.unique().shape[0])"
   ]
  },
  {
   "cell_type": "code",
   "execution_count": 19,
   "metadata": {},
   "outputs": [
    {
     "data": {
      "text/plain": [
       "0"
      ]
     },
     "execution_count": 19,
     "metadata": {},
     "output_type": "execute_result"
    }
   ],
   "source": [
    "map_df.barcode.isna().sum()"
   ]
  },
  {
   "cell_type": "code",
   "execution_count": 20,
   "metadata": {},
   "outputs": [
    {
     "data": {
      "text/plain": [
       "0"
      ]
     },
     "execution_count": 20,
     "metadata": {},
     "output_type": "execute_result"
    }
   ],
   "source": [
    "map_df.umi.isna().sum()"
   ]
  },
  {
   "cell_type": "markdown",
   "metadata": {},
   "source": [
    "At this point I have a table with multiple lines per GEM: each line corresponds to the best annotated read. The annotation of reads may agree on the same barcode or may disagree. Later I will count the number of reads/UMIs for each barcode and only present the barcode with most reads/UMIs. "
   ]
  },
  {
   "cell_type": "markdown",
   "metadata": {},
   "source": [
    "Reads are filtered so that only reads with full length UMI (12 bp) are represented. Thus approximately 18.000 reads were removed of which 17.000 were due to lack of complete UMI."
   ]
  },
  {
   "cell_type": "markdown",
   "metadata": {},
   "source": [
    "## Partition into MHC and sample identifier barcodes"
   ]
  },
  {
   "cell_type": "markdown",
   "metadata": {},
   "source": [
    "cd8_df = map_df[map_df.template_id.str.contains(ANTIBODY_REGEX, na = False)] \n",
    "mhc_df = map_df[~map_df.template_id.str.contains(ANTIBODY_REGEX, na = False)]"
   ]
  },
  {
   "cell_type": "markdown",
   "metadata": {},
   "source": [
    "## Annotate specificities"
   ]
  },
  {
   "cell_type": "markdown",
   "metadata": {},
   "source": [
    "mhc_df = pd.merge(mhc_df, specificity_df[['barcode','epitope']], how='left', on='barcode')"
   ]
  },
  {
   "cell_type": "markdown",
   "metadata": {},
   "source": [
    "## Annotate UMI counts"
   ]
  },
  {
   "cell_type": "code",
   "execution_count": 21,
   "metadata": {},
   "outputs": [],
   "source": [
    "specificity_df['peptide'] = specificity_df.peptide.str.split(\"_\", expand=True)[0]\n",
    "specificity_df['peptide_HLA'] = specificity_df.peptide + ' ' + specificity_df.HLA #.str.split('_').str[0]"
   ]
  },
  {
   "cell_type": "code",
   "execution_count": 22,
   "metadata": {},
   "outputs": [
    {
     "data": {
      "text/html": [
       "<div>\n",
       "<style scoped>\n",
       "    .dataframe tbody tr th:only-of-type {\n",
       "        vertical-align: middle;\n",
       "    }\n",
       "\n",
       "    .dataframe tbody tr th {\n",
       "        vertical-align: top;\n",
       "    }\n",
       "\n",
       "    .dataframe thead th {\n",
       "        text-align: right;\n",
       "    }\n",
       "</style>\n",
       "<table border=\"1\" class=\"dataframe\">\n",
       "  <thead>\n",
       "    <tr style=\"text-align: right;\">\n",
       "      <th></th>\n",
       "      <th>barcode</th>\n",
       "      <th>peptide</th>\n",
       "      <th>HLA</th>\n",
       "      <th>epitope</th>\n",
       "      <th>peptide_HLA</th>\n",
       "    </tr>\n",
       "  </thead>\n",
       "  <tbody>\n",
       "    <tr>\n",
       "      <td>0</td>\n",
       "      <td>A1064B288</td>\n",
       "      <td>YSEHPTFTSQY</td>\n",
       "      <td>A0101</td>\n",
       "      <td>v9</td>\n",
       "      <td>YSEHPTFTSQY A0101</td>\n",
       "    </tr>\n",
       "    <tr>\n",
       "      <td>1</td>\n",
       "      <td>A1065B288</td>\n",
       "      <td>VTEHDTLLY</td>\n",
       "      <td>A0101</td>\n",
       "      <td>v15</td>\n",
       "      <td>VTEHDTLLY A0101</td>\n",
       "    </tr>\n",
       "    <tr>\n",
       "      <td>2</td>\n",
       "      <td>A1066B288</td>\n",
       "      <td>VSDGGPNLY</td>\n",
       "      <td>A0101</td>\n",
       "      <td>v19</td>\n",
       "      <td>VSDGGPNLY A0101</td>\n",
       "    </tr>\n",
       "    <tr>\n",
       "      <td>3</td>\n",
       "      <td>A1067B288</td>\n",
       "      <td>GILGFVFTL</td>\n",
       "      <td>A0201</td>\n",
       "      <td>v3</td>\n",
       "      <td>GILGFVFTL A0201</td>\n",
       "    </tr>\n",
       "    <tr>\n",
       "      <td>4</td>\n",
       "      <td>A1068B288</td>\n",
       "      <td>CLGGLLTMV</td>\n",
       "      <td>A0201</td>\n",
       "      <td>v5</td>\n",
       "      <td>CLGGLLTMV A0201</td>\n",
       "    </tr>\n",
       "    <tr>\n",
       "      <td>...</td>\n",
       "      <td>...</td>\n",
       "      <td>...</td>\n",
       "      <td>...</td>\n",
       "      <td>...</td>\n",
       "      <td>...</td>\n",
       "    </tr>\n",
       "    <tr>\n",
       "      <td>115</td>\n",
       "      <td>A1067B302</td>\n",
       "      <td>p1.a1</td>\n",
       "      <td>p*A1101</td>\n",
       "      <td>0</td>\n",
       "      <td>p1.a1 p*A1101</td>\n",
       "    </tr>\n",
       "    <tr>\n",
       "      <td>116</td>\n",
       "      <td>A1068B302</td>\n",
       "      <td>p1.a1</td>\n",
       "      <td>p*B0702</td>\n",
       "      <td>0</td>\n",
       "      <td>p1.a1 p*B0702</td>\n",
       "    </tr>\n",
       "    <tr>\n",
       "      <td>117</td>\n",
       "      <td>A1069B302</td>\n",
       "      <td>p1.a1</td>\n",
       "      <td>p*A2402</td>\n",
       "      <td>0</td>\n",
       "      <td>p1.a1 p*A2402</td>\n",
       "    </tr>\n",
       "    <tr>\n",
       "      <td>118</td>\n",
       "      <td>A1070B302</td>\n",
       "      <td>p1.a1</td>\n",
       "      <td>p*B0801</td>\n",
       "      <td>0</td>\n",
       "      <td>p1.a1 p*B0801</td>\n",
       "    </tr>\n",
       "    <tr>\n",
       "      <td>119</td>\n",
       "      <td>A1071B302</td>\n",
       "      <td>p1.a1</td>\n",
       "      <td>p*B1501</td>\n",
       "      <td>0</td>\n",
       "      <td>p1.a1 p*B1501</td>\n",
       "    </tr>\n",
       "  </tbody>\n",
       "</table>\n",
       "<p>120 rows × 5 columns</p>\n",
       "</div>"
      ],
      "text/plain": [
       "       barcode      peptide      HLA epitope        peptide_HLA\n",
       "0    A1064B288  YSEHPTFTSQY    A0101      v9  YSEHPTFTSQY A0101\n",
       "1    A1065B288    VTEHDTLLY    A0101     v15    VTEHDTLLY A0101\n",
       "2    A1066B288    VSDGGPNLY    A0101     v19    VSDGGPNLY A0101\n",
       "3    A1067B288    GILGFVFTL    A0201      v3    GILGFVFTL A0201\n",
       "4    A1068B288    CLGGLLTMV    A0201      v5    CLGGLLTMV A0201\n",
       "..         ...          ...      ...     ...                ...\n",
       "115  A1067B302        p1.a1  p*A1101       0      p1.a1 p*A1101\n",
       "116  A1068B302        p1.a1  p*B0702       0      p1.a1 p*B0702\n",
       "117  A1069B302        p1.a1  p*A2402       0      p1.a1 p*A2402\n",
       "118  A1070B302        p1.a1  p*B0801       0      p1.a1 p*B0801\n",
       "119  A1071B302        p1.a1  p*B1501       0      p1.a1 p*B1501\n",
       "\n",
       "[120 rows x 5 columns]"
      ]
     },
     "execution_count": 22,
     "metadata": {},
     "output_type": "execute_result"
    }
   ],
   "source": [
    "specificity_df"
   ]
  },
  {
   "cell_type": "code",
   "execution_count": 24,
   "metadata": {},
   "outputs": [],
   "source": [
    "def annotate_lst(var): # umi, query_id\n",
    "    dct = map_df.groupby(['gem', 'template_id'])[var].unique().to_dict()\n",
    "    return map_df.set_index(['gem', 'template_id']).index.map(dct)\n",
    "\n",
    "def annotate_count(var): #umi_lst, read_lst\n",
    "    return map_df[var].apply(lambda x: len(x))\n",
    "\n",
    "def annotate_template_lst(df):\n",
    "    dct = df.groupby(['gem']).template_id.unique().to_dict()\n",
    "    return df.gem.map(dct)\n",
    "\n",
    "def annotate_count_lst(df, var): #umi_count, read_count\n",
    "    dct = df.drop_duplicates(subset=['gem','template_id']).groupby(['gem'])[var].apply(list).to_dict()\n",
    "    return df.gem.map(dct)\n",
    "\n",
    "def annotate_single_barcode(df):\n",
    "    return df.umi_count_lst.apply(lambda x: True if len(x)==1 else False)\n",
    "\n",
    "def annotate_specificities():\n",
    "    #dct = dict(zip(specificity_df.barcode, specificity_df.epitope))\n",
    "    #return df.barcode.map(dct)\n",
    "    return pd.merge(mhc_df, specificity_df, how='left', on='barcode')\n",
    "\n",
    "def annotate_epitope_lst(df):\n",
    "    dct = df.groupby(['gem']).epitope.unique().to_dict()\n",
    "    return df.gem.map(dct)\n",
    "\n",
    "def annotate_specificity_lst(df):\n",
    "    dct = df.groupby(['gem']).peptide_HLA.unique().to_dict()\n",
    "    return df.gem.map(dct)   "
   ]
  },
  {
   "cell_type": "code",
   "execution_count": 23,
   "metadata": {},
   "outputs": [],
   "source": [
    "# ## Functions\n",
    "def annotate_lst_per_template(var): # umi, query_id\n",
    "    dct = map_df.groupby(['gem', 'template_id'])[var].unique().to_dict()\n",
    "    return map_df.set_index(['gem', 'template_id']).index.map(dct)\n",
    "\n",
    "def annotate_count(df, var): #umi_lst, read_lst\n",
    "    return df[var].apply(len)\n",
    "\n",
    "#def annotate_count(var): #umi_lst, read_lst\n",
    "#    return map_df[var].apply(lambda x: len(x))\n",
    "\n",
    "def annotate_lst(df, var): # template_id, epitope, peptide, peptide_HLA\n",
    "    dct = df.groupby('gem')[var].unique().to_dict()\n",
    "    return df.gem.map(dct)\n",
    "\n",
    "#def annotate_template_lst(df):\n",
    "#    dct = df.groupby(['gem']).template_id.unique().to_dict()\n",
    "#    return df.gem.map(dct)\n",
    "\n",
    "def annotate_count_lst(df, var): #umi_count, read_count\n",
    "    dct = df.drop_duplicates(subset=['gem','template_id']).groupby(['gem'])[var].apply(list).to_dict()\n",
    "    return df.gem.map(dct)\n",
    "\n",
    "def annotate_single_barcode(df):\n",
    "    return df.umi_count_lst.apply(lambda x: True if len(x)==1 else False)\n",
    "\n",
    "def annotate_specificities():\n",
    "    return pd.merge(mhc_df, specificity_df, how='left', on='barcode')"
   ]
  },
  {
   "cell_type": "code",
   "execution_count": null,
   "metadata": {},
   "outputs": [],
   "source": []
  },
  {
   "cell_type": "code",
   "execution_count": 25,
   "metadata": {},
   "outputs": [
    {
     "data": {
      "text/html": [
       "<div>\n",
       "<style scoped>\n",
       "    .dataframe tbody tr th:only-of-type {\n",
       "        vertical-align: middle;\n",
       "    }\n",
       "\n",
       "    .dataframe tbody tr th {\n",
       "        vertical-align: top;\n",
       "    }\n",
       "\n",
       "    .dataframe thead th {\n",
       "        text-align: right;\n",
       "    }\n",
       "</style>\n",
       "<table border=\"1\" class=\"dataframe\">\n",
       "  <thead>\n",
       "    <tr style=\"text-align: right;\">\n",
       "      <th></th>\n",
       "      <th>uncertainty</th>\n",
       "      <th>score</th>\n",
       "      <th>t_alignment_start</th>\n",
       "      <th>t_alignment_end</th>\n",
       "      <th>template_id</th>\n",
       "      <th>read_header</th>\n",
       "      <th>query_id</th>\n",
       "      <th>gem</th>\n",
       "      <th>credible_alignment</th>\n",
       "      <th>alignment_length</th>\n",
       "      <th>...</th>\n",
       "      <th>umi_count</th>\n",
       "      <th>template_lst</th>\n",
       "      <th>umi_count_lst</th>\n",
       "      <th>peptide</th>\n",
       "      <th>HLA</th>\n",
       "      <th>epitope</th>\n",
       "      <th>peptide_HLA</th>\n",
       "      <th>epitope_lst</th>\n",
       "      <th>peptide_lst</th>\n",
       "      <th>peptide_HLA_lst</th>\n",
       "    </tr>\n",
       "  </thead>\n",
       "  <tbody>\n",
       "    <tr>\n",
       "      <td>199231</td>\n",
       "      <td>1</td>\n",
       "      <td>58</td>\n",
       "      <td>40</td>\n",
       "      <td>135</td>\n",
       "      <td>A1070B302_sample</td>\n",
       "      <td>HBBAF:00842:01387 BX:Z:TTTGTCAGTCTAGAGG-1</td>\n",
       "      <td>HBBAF:00842:01387</td>\n",
       "      <td>TTTGTCAGTCTAGAGG-1</td>\n",
       "      <td>True</td>\n",
       "      <td>95</td>\n",
       "      <td>...</td>\n",
       "      <td>1</td>\n",
       "      <td>[A1070B302_sample, A1068B293_sample]</td>\n",
       "      <td>[1, 5]</td>\n",
       "      <td>p1.a1</td>\n",
       "      <td>p*B0801</td>\n",
       "      <td>0</td>\n",
       "      <td>p1.a1 p*B0801</td>\n",
       "      <td>[0, 40 (C16)neo37]</td>\n",
       "      <td>[p1.a1, RLVVAVEEA]</td>\n",
       "      <td>[p1.a1 p*B0801, RLVVAVEEA A0201]</td>\n",
       "    </tr>\n",
       "    <tr>\n",
       "      <td>199232</td>\n",
       "      <td>1</td>\n",
       "      <td>63</td>\n",
       "      <td>40</td>\n",
       "      <td>137</td>\n",
       "      <td>A1070B302_sample</td>\n",
       "      <td>HBBAF:03621:01357 BX:Z:TTTGTCAGTCTAGAGG-1</td>\n",
       "      <td>HBBAF:03621:01357</td>\n",
       "      <td>TTTGTCAGTCTAGAGG-1</td>\n",
       "      <td>True</td>\n",
       "      <td>97</td>\n",
       "      <td>...</td>\n",
       "      <td>1</td>\n",
       "      <td>[A1070B302_sample, A1068B293_sample]</td>\n",
       "      <td>[1, 5]</td>\n",
       "      <td>p1.a1</td>\n",
       "      <td>p*B0801</td>\n",
       "      <td>0</td>\n",
       "      <td>p1.a1 p*B0801</td>\n",
       "      <td>[0, 40 (C16)neo37]</td>\n",
       "      <td>[p1.a1, RLVVAVEEA]</td>\n",
       "      <td>[p1.a1 p*B0801, RLVVAVEEA A0201]</td>\n",
       "    </tr>\n",
       "    <tr>\n",
       "      <td>199233</td>\n",
       "      <td>1</td>\n",
       "      <td>63</td>\n",
       "      <td>40</td>\n",
       "      <td>137</td>\n",
       "      <td>A1070B302_sample</td>\n",
       "      <td>HBBAF:03023:01681 BX:Z:TTTGTCAGTCTAGAGG-1</td>\n",
       "      <td>HBBAF:03023:01681</td>\n",
       "      <td>TTTGTCAGTCTAGAGG-1</td>\n",
       "      <td>True</td>\n",
       "      <td>97</td>\n",
       "      <td>...</td>\n",
       "      <td>1</td>\n",
       "      <td>[A1070B302_sample, A1068B293_sample]</td>\n",
       "      <td>[1, 5]</td>\n",
       "      <td>p1.a1</td>\n",
       "      <td>p*B0801</td>\n",
       "      <td>0</td>\n",
       "      <td>p1.a1 p*B0801</td>\n",
       "      <td>[0, 40 (C16)neo37]</td>\n",
       "      <td>[p1.a1, RLVVAVEEA]</td>\n",
       "      <td>[p1.a1 p*B0801, RLVVAVEEA A0201]</td>\n",
       "    </tr>\n",
       "    <tr>\n",
       "      <td>199234</td>\n",
       "      <td>1</td>\n",
       "      <td>63</td>\n",
       "      <td>40</td>\n",
       "      <td>137</td>\n",
       "      <td>A1070B302_sample</td>\n",
       "      <td>HBBAF:02916:02426 BX:Z:TTTGTCAGTCTAGAGG-1</td>\n",
       "      <td>HBBAF:02916:02426</td>\n",
       "      <td>TTTGTCAGTCTAGAGG-1</td>\n",
       "      <td>True</td>\n",
       "      <td>97</td>\n",
       "      <td>...</td>\n",
       "      <td>1</td>\n",
       "      <td>[A1070B302_sample, A1068B293_sample]</td>\n",
       "      <td>[1, 5]</td>\n",
       "      <td>p1.a1</td>\n",
       "      <td>p*B0801</td>\n",
       "      <td>0</td>\n",
       "      <td>p1.a1 p*B0801</td>\n",
       "      <td>[0, 40 (C16)neo37]</td>\n",
       "      <td>[p1.a1, RLVVAVEEA]</td>\n",
       "      <td>[p1.a1 p*B0801, RLVVAVEEA A0201]</td>\n",
       "    </tr>\n",
       "    <tr>\n",
       "      <td>199235</td>\n",
       "      <td>1</td>\n",
       "      <td>63</td>\n",
       "      <td>40</td>\n",
       "      <td>137</td>\n",
       "      <td>A1070B302_sample</td>\n",
       "      <td>HBBAF:02447:00478 BX:Z:TTTGTCAGTCTAGAGG-1</td>\n",
       "      <td>HBBAF:02447:00478</td>\n",
       "      <td>TTTGTCAGTCTAGAGG-1</td>\n",
       "      <td>True</td>\n",
       "      <td>97</td>\n",
       "      <td>...</td>\n",
       "      <td>1</td>\n",
       "      <td>[A1070B302_sample, A1068B293_sample]</td>\n",
       "      <td>[1, 5]</td>\n",
       "      <td>p1.a1</td>\n",
       "      <td>p*B0801</td>\n",
       "      <td>0</td>\n",
       "      <td>p1.a1 p*B0801</td>\n",
       "      <td>[0, 40 (C16)neo37]</td>\n",
       "      <td>[p1.a1, RLVVAVEEA]</td>\n",
       "      <td>[p1.a1 p*B0801, RLVVAVEEA A0201]</td>\n",
       "    </tr>\n",
       "    <tr>\n",
       "      <td>...</td>\n",
       "      <td>...</td>\n",
       "      <td>...</td>\n",
       "      <td>...</td>\n",
       "      <td>...</td>\n",
       "      <td>...</td>\n",
       "      <td>...</td>\n",
       "      <td>...</td>\n",
       "      <td>...</td>\n",
       "      <td>...</td>\n",
       "      <td>...</td>\n",
       "      <td>...</td>\n",
       "      <td>...</td>\n",
       "      <td>...</td>\n",
       "      <td>...</td>\n",
       "      <td>...</td>\n",
       "      <td>...</td>\n",
       "      <td>...</td>\n",
       "      <td>...</td>\n",
       "      <td>...</td>\n",
       "      <td>...</td>\n",
       "      <td>...</td>\n",
       "    </tr>\n",
       "    <tr>\n",
       "      <td>199298</td>\n",
       "      <td>1</td>\n",
       "      <td>97</td>\n",
       "      <td>0</td>\n",
       "      <td>137</td>\n",
       "      <td>A1068B293_sample</td>\n",
       "      <td>HBBAF:00388:02054 BX:Z:TTTGTCAGTCTAGAGG-1</td>\n",
       "      <td>HBBAF:00388:02054</td>\n",
       "      <td>TTTGTCAGTCTAGAGG-1</td>\n",
       "      <td>True</td>\n",
       "      <td>137</td>\n",
       "      <td>...</td>\n",
       "      <td>5</td>\n",
       "      <td>[A1070B302_sample, A1068B293_sample]</td>\n",
       "      <td>[1, 5]</td>\n",
       "      <td>RLVVAVEEA</td>\n",
       "      <td>A0201</td>\n",
       "      <td>40 (C16)neo37</td>\n",
       "      <td>RLVVAVEEA A0201</td>\n",
       "      <td>[0, 40 (C16)neo37]</td>\n",
       "      <td>[p1.a1, RLVVAVEEA]</td>\n",
       "      <td>[p1.a1 p*B0801, RLVVAVEEA A0201]</td>\n",
       "    </tr>\n",
       "    <tr>\n",
       "      <td>199299</td>\n",
       "      <td>1</td>\n",
       "      <td>97</td>\n",
       "      <td>0</td>\n",
       "      <td>137</td>\n",
       "      <td>A1068B293_sample</td>\n",
       "      <td>HBBAF:00374:00875 BX:Z:TTTGTCAGTCTAGAGG-1</td>\n",
       "      <td>HBBAF:00374:00875</td>\n",
       "      <td>TTTGTCAGTCTAGAGG-1</td>\n",
       "      <td>True</td>\n",
       "      <td>137</td>\n",
       "      <td>...</td>\n",
       "      <td>5</td>\n",
       "      <td>[A1070B302_sample, A1068B293_sample]</td>\n",
       "      <td>[1, 5]</td>\n",
       "      <td>RLVVAVEEA</td>\n",
       "      <td>A0201</td>\n",
       "      <td>40 (C16)neo37</td>\n",
       "      <td>RLVVAVEEA A0201</td>\n",
       "      <td>[0, 40 (C16)neo37]</td>\n",
       "      <td>[p1.a1, RLVVAVEEA]</td>\n",
       "      <td>[p1.a1 p*B0801, RLVVAVEEA A0201]</td>\n",
       "    </tr>\n",
       "    <tr>\n",
       "      <td>199300</td>\n",
       "      <td>1</td>\n",
       "      <td>97</td>\n",
       "      <td>0</td>\n",
       "      <td>137</td>\n",
       "      <td>A1068B293_sample</td>\n",
       "      <td>HBBAF:00147:00727 BX:Z:TTTGTCAGTCTAGAGG-1</td>\n",
       "      <td>HBBAF:00147:00727</td>\n",
       "      <td>TTTGTCAGTCTAGAGG-1</td>\n",
       "      <td>True</td>\n",
       "      <td>137</td>\n",
       "      <td>...</td>\n",
       "      <td>5</td>\n",
       "      <td>[A1070B302_sample, A1068B293_sample]</td>\n",
       "      <td>[1, 5]</td>\n",
       "      <td>RLVVAVEEA</td>\n",
       "      <td>A0201</td>\n",
       "      <td>40 (C16)neo37</td>\n",
       "      <td>RLVVAVEEA A0201</td>\n",
       "      <td>[0, 40 (C16)neo37]</td>\n",
       "      <td>[p1.a1, RLVVAVEEA]</td>\n",
       "      <td>[p1.a1 p*B0801, RLVVAVEEA A0201]</td>\n",
       "    </tr>\n",
       "    <tr>\n",
       "      <td>199301</td>\n",
       "      <td>1</td>\n",
       "      <td>100</td>\n",
       "      <td>0</td>\n",
       "      <td>137</td>\n",
       "      <td>A1068B293_sample</td>\n",
       "      <td>HBBAF:02391:02677 BX:Z:TTTGTCAGTCTAGAGG-1</td>\n",
       "      <td>HBBAF:02391:02677</td>\n",
       "      <td>TTTGTCAGTCTAGAGG-1</td>\n",
       "      <td>True</td>\n",
       "      <td>137</td>\n",
       "      <td>...</td>\n",
       "      <td>5</td>\n",
       "      <td>[A1070B302_sample, A1068B293_sample]</td>\n",
       "      <td>[1, 5]</td>\n",
       "      <td>RLVVAVEEA</td>\n",
       "      <td>A0201</td>\n",
       "      <td>40 (C16)neo37</td>\n",
       "      <td>RLVVAVEEA A0201</td>\n",
       "      <td>[0, 40 (C16)neo37]</td>\n",
       "      <td>[p1.a1, RLVVAVEEA]</td>\n",
       "      <td>[p1.a1 p*B0801, RLVVAVEEA A0201]</td>\n",
       "    </tr>\n",
       "    <tr>\n",
       "      <td>199302</td>\n",
       "      <td>1</td>\n",
       "      <td>100</td>\n",
       "      <td>0</td>\n",
       "      <td>137</td>\n",
       "      <td>A1068B293_sample</td>\n",
       "      <td>HBBAF:00549:00544 BX:Z:TTTGTCAGTCTAGAGG-1</td>\n",
       "      <td>HBBAF:00549:00544</td>\n",
       "      <td>TTTGTCAGTCTAGAGG-1</td>\n",
       "      <td>True</td>\n",
       "      <td>137</td>\n",
       "      <td>...</td>\n",
       "      <td>5</td>\n",
       "      <td>[A1070B302_sample, A1068B293_sample]</td>\n",
       "      <td>[1, 5]</td>\n",
       "      <td>RLVVAVEEA</td>\n",
       "      <td>A0201</td>\n",
       "      <td>40 (C16)neo37</td>\n",
       "      <td>RLVVAVEEA A0201</td>\n",
       "      <td>[0, 40 (C16)neo37]</td>\n",
       "      <td>[p1.a1, RLVVAVEEA]</td>\n",
       "      <td>[p1.a1 p*B0801, RLVVAVEEA A0201]</td>\n",
       "    </tr>\n",
       "  </tbody>\n",
       "</table>\n",
       "<p>72 rows × 24 columns</p>\n",
       "</div>"
      ],
      "text/plain": [
       "        uncertainty  score  t_alignment_start  t_alignment_end  \\\n",
       "199231            1     58                 40              135   \n",
       "199232            1     63                 40              137   \n",
       "199233            1     63                 40              137   \n",
       "199234            1     63                 40              137   \n",
       "199235            1     63                 40              137   \n",
       "...             ...    ...                ...              ...   \n",
       "199298            1     97                  0              137   \n",
       "199299            1     97                  0              137   \n",
       "199300            1     97                  0              137   \n",
       "199301            1    100                  0              137   \n",
       "199302            1    100                  0              137   \n",
       "\n",
       "             template_id                                read_header  \\\n",
       "199231  A1070B302_sample  HBBAF:00842:01387 BX:Z:TTTGTCAGTCTAGAGG-1   \n",
       "199232  A1070B302_sample  HBBAF:03621:01357 BX:Z:TTTGTCAGTCTAGAGG-1   \n",
       "199233  A1070B302_sample  HBBAF:03023:01681 BX:Z:TTTGTCAGTCTAGAGG-1   \n",
       "199234  A1070B302_sample  HBBAF:02916:02426 BX:Z:TTTGTCAGTCTAGAGG-1   \n",
       "199235  A1070B302_sample  HBBAF:02447:00478 BX:Z:TTTGTCAGTCTAGAGG-1   \n",
       "...                  ...                                        ...   \n",
       "199298  A1068B293_sample  HBBAF:00388:02054 BX:Z:TTTGTCAGTCTAGAGG-1   \n",
       "199299  A1068B293_sample  HBBAF:00374:00875 BX:Z:TTTGTCAGTCTAGAGG-1   \n",
       "199300  A1068B293_sample  HBBAF:00147:00727 BX:Z:TTTGTCAGTCTAGAGG-1   \n",
       "199301  A1068B293_sample  HBBAF:02391:02677 BX:Z:TTTGTCAGTCTAGAGG-1   \n",
       "199302  A1068B293_sample  HBBAF:00549:00544 BX:Z:TTTGTCAGTCTAGAGG-1   \n",
       "\n",
       "                 query_id                 gem  credible_alignment  \\\n",
       "199231  HBBAF:00842:01387  TTTGTCAGTCTAGAGG-1                True   \n",
       "199232  HBBAF:03621:01357  TTTGTCAGTCTAGAGG-1                True   \n",
       "199233  HBBAF:03023:01681  TTTGTCAGTCTAGAGG-1                True   \n",
       "199234  HBBAF:02916:02426  TTTGTCAGTCTAGAGG-1                True   \n",
       "199235  HBBAF:02447:00478  TTTGTCAGTCTAGAGG-1                True   \n",
       "...                   ...                 ...                 ...   \n",
       "199298  HBBAF:00388:02054  TTTGTCAGTCTAGAGG-1                True   \n",
       "199299  HBBAF:00374:00875  TTTGTCAGTCTAGAGG-1                True   \n",
       "199300  HBBAF:00147:00727  TTTGTCAGTCTAGAGG-1                True   \n",
       "199301  HBBAF:02391:02677  TTTGTCAGTCTAGAGG-1                True   \n",
       "199302  HBBAF:00549:00544  TTTGTCAGTCTAGAGG-1                True   \n",
       "\n",
       "        alignment_length  ... umi_count                          template_lst  \\\n",
       "199231                95  ...         1  [A1070B302_sample, A1068B293_sample]   \n",
       "199232                97  ...         1  [A1070B302_sample, A1068B293_sample]   \n",
       "199233                97  ...         1  [A1070B302_sample, A1068B293_sample]   \n",
       "199234                97  ...         1  [A1070B302_sample, A1068B293_sample]   \n",
       "199235                97  ...         1  [A1070B302_sample, A1068B293_sample]   \n",
       "...                  ...  ...       ...                                   ...   \n",
       "199298               137  ...         5  [A1070B302_sample, A1068B293_sample]   \n",
       "199299               137  ...         5  [A1070B302_sample, A1068B293_sample]   \n",
       "199300               137  ...         5  [A1070B302_sample, A1068B293_sample]   \n",
       "199301               137  ...         5  [A1070B302_sample, A1068B293_sample]   \n",
       "199302               137  ...         5  [A1070B302_sample, A1068B293_sample]   \n",
       "\n",
       "       umi_count_lst    peptide      HLA        epitope      peptide_HLA  \\\n",
       "199231        [1, 5]      p1.a1  p*B0801              0    p1.a1 p*B0801   \n",
       "199232        [1, 5]      p1.a1  p*B0801              0    p1.a1 p*B0801   \n",
       "199233        [1, 5]      p1.a1  p*B0801              0    p1.a1 p*B0801   \n",
       "199234        [1, 5]      p1.a1  p*B0801              0    p1.a1 p*B0801   \n",
       "199235        [1, 5]      p1.a1  p*B0801              0    p1.a1 p*B0801   \n",
       "...              ...        ...      ...            ...              ...   \n",
       "199298        [1, 5]  RLVVAVEEA    A0201  40 (C16)neo37  RLVVAVEEA A0201   \n",
       "199299        [1, 5]  RLVVAVEEA    A0201  40 (C16)neo37  RLVVAVEEA A0201   \n",
       "199300        [1, 5]  RLVVAVEEA    A0201  40 (C16)neo37  RLVVAVEEA A0201   \n",
       "199301        [1, 5]  RLVVAVEEA    A0201  40 (C16)neo37  RLVVAVEEA A0201   \n",
       "199302        [1, 5]  RLVVAVEEA    A0201  40 (C16)neo37  RLVVAVEEA A0201   \n",
       "\n",
       "               epitope_lst         peptide_lst  \\\n",
       "199231  [0, 40 (C16)neo37]  [p1.a1, RLVVAVEEA]   \n",
       "199232  [0, 40 (C16)neo37]  [p1.a1, RLVVAVEEA]   \n",
       "199233  [0, 40 (C16)neo37]  [p1.a1, RLVVAVEEA]   \n",
       "199234  [0, 40 (C16)neo37]  [p1.a1, RLVVAVEEA]   \n",
       "199235  [0, 40 (C16)neo37]  [p1.a1, RLVVAVEEA]   \n",
       "...                    ...                 ...   \n",
       "199298  [0, 40 (C16)neo37]  [p1.a1, RLVVAVEEA]   \n",
       "199299  [0, 40 (C16)neo37]  [p1.a1, RLVVAVEEA]   \n",
       "199300  [0, 40 (C16)neo37]  [p1.a1, RLVVAVEEA]   \n",
       "199301  [0, 40 (C16)neo37]  [p1.a1, RLVVAVEEA]   \n",
       "199302  [0, 40 (C16)neo37]  [p1.a1, RLVVAVEEA]   \n",
       "\n",
       "                         peptide_HLA_lst  \n",
       "199231  [p1.a1 p*B0801, RLVVAVEEA A0201]  \n",
       "199232  [p1.a1 p*B0801, RLVVAVEEA A0201]  \n",
       "199233  [p1.a1 p*B0801, RLVVAVEEA A0201]  \n",
       "199234  [p1.a1 p*B0801, RLVVAVEEA A0201]  \n",
       "199235  [p1.a1 p*B0801, RLVVAVEEA A0201]  \n",
       "...                                  ...  \n",
       "199298  [p1.a1 p*B0801, RLVVAVEEA A0201]  \n",
       "199299  [p1.a1 p*B0801, RLVVAVEEA A0201]  \n",
       "199300  [p1.a1 p*B0801, RLVVAVEEA A0201]  \n",
       "199301  [p1.a1 p*B0801, RLVVAVEEA A0201]  \n",
       "199302  [p1.a1 p*B0801, RLVVAVEEA A0201]  \n",
       "\n",
       "[72 rows x 24 columns]"
      ]
     },
     "execution_count": 25,
     "metadata": {},
     "output_type": "execute_result"
    }
   ],
   "source": [
    "# ## Annotate barcode UMI and read counts\n",
    "map_df['umi_lst'] = annotate_lst_per_template('umi')\n",
    "map_df['umi_count'] = annotate_count(map_df, 'umi_lst')\n",
    "\n",
    "cd8_df = map_df[map_df.template_id.str.contains(ANTIBODY_REGEX, na = False)].copy()\n",
    "mhc_df = map_df[~map_df.template_id.str.contains(ANTIBODY_REGEX, na = False)].copy()\n",
    "\n",
    "mhc_df.sort_values(by=['gem','umi_count','score','alignment_length'], inplace=True)\n",
    "cd8_df.sort_values(by=['gem','umi_count','score','alignment_length'], inplace=True)\n",
    "\n",
    "cd8_df['template_lst'] = annotate_lst(cd8_df, 'template_id') #annotate_template_lst(cd8_df)\n",
    "mhc_df['template_lst'] = annotate_lst(mhc_df, 'template_id') #annotate_template_lst(mhc_df)\n",
    "\n",
    "cd8_df['umi_count_lst'] = annotate_count_lst(cd8_df, 'umi_count')\n",
    "mhc_df['umi_count_lst'] = annotate_count_lst(mhc_df, 'umi_count')\n",
    "\n",
    "mhc_df = annotate_specificities()\n",
    "mhc_df['epitope_lst'] = annotate_lst(mhc_df, 'epitope') #annotate_epitope_lst(mhc_df)\n",
    "mhc_df['peptide_lst'] = annotate_lst(mhc_df, 'peptide') #annotate_peptide_lst(mhc_df)\n",
    "mhc_df['peptide_HLA_lst'] = annotate_lst(mhc_df, 'peptide_HLA') #annotate_specificity_lst(mhc_df)\n",
    "\n",
    "mhc_df[mhc_df.gem == 'TTTGTCAGTCTAGAGG-1']"
   ]
  },
  {
   "cell_type": "code",
   "execution_count": null,
   "metadata": {},
   "outputs": [],
   "source": []
  },
  {
   "cell_type": "code",
   "execution_count": 52,
   "metadata": {},
   "outputs": [],
   "source": [
    "map_df['umi_lst'] = annotate_lst('umi')\n",
    "map_df['umi_count'] = annotate_count('umi_lst')\n",
    "\n",
    "map_df['read_lst'] = annotate_lst('query_id')\n",
    "map_df['read_count'] = annotate_count('read_lst')\n",
    "\n",
    "cd8_df = map_df[map_df.template_id.str.contains(ANTIBODY_REGEX, na = False)].copy()\n",
    "mhc_df = map_df[~map_df.template_id.str.contains(ANTIBODY_REGEX, na = False)].copy()\n",
    "\n",
    "mhc_df.sort_values(by=['gem','umi_count','score','alignment_length'], inplace=True)\n",
    "cd8_df.sort_values(by=['gem','umi_count','score','alignment_length'], inplace=True)\n",
    "\n",
    "cd8_df['template_lst'] = annotate_template_lst(cd8_df)\n",
    "mhc_df['template_lst'] = annotate_template_lst(mhc_df)\n",
    "\n",
    "cd8_df['umi_count_lst'] = annotate_count_lst(cd8_df, 'umi_count')\n",
    "mhc_df['umi_count_lst'] = annotate_count_lst(mhc_df, 'umi_count')\n",
    "\n",
    "cd8_df['read_count_lst'] = annotate_count_lst(cd8_df, 'read_count')\n",
    "mhc_df['read_count_lst'] = annotate_count_lst(mhc_df, 'read_count')\n",
    "\n",
    "cd8_df['single_barcode'] = annotate_single_barcode(cd8_df)\n",
    "mhc_df['single_barcode'] = annotate_single_barcode(mhc_df)\n",
    "\n",
    "#mhc_df['epitope'] = annotate_specificities(mhc_df)\n",
    "mhc_df = annotate_specificities()\n",
    "mhc_df['epitope_lst'] = annotate_epitope_lst(mhc_df)\n",
    "mhc_df['peptide_HLA_lst'] = annotate_specificity_lst(mhc_df)"
   ]
  },
  {
   "cell_type": "code",
   "execution_count": 53,
   "metadata": {},
   "outputs": [
    {
     "name": "stdout",
     "output_type": "stream",
     "text": [
      "Reads: 227211\n",
      "GEMs: 7591\n",
      "Reads: 199334\n",
      "GEMs: 6900\n",
      "Reads: 27877\n",
      "GEMs: 3434\n"
     ]
    }
   ],
   "source": [
    "print(\"Reads: %i\" %map_df.shape[0])\n",
    "print(\"GEMs: %i\" %map_df.gem.unique().shape[0])\n",
    "\n",
    "print(\"Reads: %i\" %mhc_df.shape[0])\n",
    "print(\"GEMs: %i\" %mhc_df.gem.unique().shape[0])\n",
    "\n",
    "print(\"Reads: %i\" %cd8_df.shape[0])\n",
    "print(\"GEMs: %i\" %cd8_df.gem.unique().shape[0])"
   ]
  },
  {
   "cell_type": "code",
   "execution_count": 54,
   "metadata": {},
   "outputs": [
    {
     "data": {
      "text/plain": [
       "True"
      ]
     },
     "execution_count": 54,
     "metadata": {},
     "output_type": "execute_result"
    }
   ],
   "source": [
    "227211 == (199334+27877)"
   ]
  },
  {
   "cell_type": "code",
   "execution_count": 55,
   "metadata": {},
   "outputs": [
    {
     "data": {
      "text/plain": [
       "2743"
      ]
     },
     "execution_count": 55,
     "metadata": {},
     "output_type": "execute_result"
    }
   ],
   "source": [
    "3434-(7591-6900)"
   ]
  },
  {
   "cell_type": "markdown",
   "metadata": {},
   "source": [
    "## Collapse into 1 GEM per line"
   ]
  },
  {
   "cell_type": "code",
   "execution_count": 54,
   "metadata": {},
   "outputs": [],
   "source": [
    "unique_cd8_df = cd8_df.drop_duplicates(subset=['gem'], keep='last')\n",
    "unique_mhc_df = mhc_df.drop_duplicates(subset=['gem'], keep='last')"
   ]
  },
  {
   "cell_type": "code",
   "execution_count": 55,
   "metadata": {},
   "outputs": [
    {
     "name": "stdout",
     "output_type": "stream",
     "text": [
      "Reads: 6900\n",
      "GEMs: 6900\n",
      "Reads: 3434\n",
      "GEMs: 3434\n"
     ]
    }
   ],
   "source": [
    "print(\"Reads: %i\" %unique_mhc_df.shape[0])\n",
    "print(\"GEMs: %i\" %unique_mhc_df.gem.unique().shape[0])\n",
    "\n",
    "print(\"Reads: %i\" %unique_cd8_df.shape[0])\n",
    "print(\"GEMs: %i\" %unique_cd8_df.gem.unique().shape[0])"
   ]
  },
  {
   "cell_type": "markdown",
   "metadata": {},
   "source": [
    "## Merge"
   ]
  },
  {
   "cell_type": "code",
   "execution_count": 56,
   "metadata": {},
   "outputs": [],
   "source": [
    "barcode_df = pd.merge(unique_mhc_df[['gem', 'template_id', 'template_lst', 'barcode', 'sample', 'umi_count', 'umi_count_lst', 'read_count', 'read_count_lst', 'single_barcode', 'epitope_lst']],\n",
    "                      unique_cd8_df[['gem', 'template_id', 'template_lst', 'barcode', 'sample', 'umi_count', 'umi_count_lst', 'read_count', 'read_count_lst', 'single_barcode']],\n",
    "                      how='outer', on='gem', suffixes=('_mhc', '_cd8'))"
   ]
  },
  {
   "cell_type": "code",
   "execution_count": 57,
   "metadata": {},
   "outputs": [
    {
     "name": "stdout",
     "output_type": "stream",
     "text": [
      "Reads: 7591\n",
      "GEMs: 7591\n"
     ]
    }
   ],
   "source": [
    "print(\"Reads: %i\" %barcode_df.shape[0])\n",
    "print(\"GEMs: %i\" %barcode_df.gem.unique().shape[0])"
   ]
  },
  {
   "cell_type": "markdown",
   "metadata": {},
   "source": [
    "## Specificity matrix"
   ]
  },
  {
   "cell_type": "code",
   "execution_count": 58,
   "metadata": {},
   "outputs": [],
   "source": [
    "specificity_matrix = unique_mhc_df.pivot(index='gem', columns='epitope', values='umi_count')"
   ]
  },
  {
   "cell_type": "markdown",
   "metadata": {},
   "source": [
    "## Response df"
   ]
  },
  {
   "cell_type": "code",
   "execution_count": 59,
   "metadata": {},
   "outputs": [],
   "source": [
    "response_df.sort_values(by=['peptide','barcode_cd8'], inplace=True)\n",
    "response_df.drop_duplicates(inplace=True)\n",
    "response_df['detected_response'] = True"
   ]
  },
  {
   "cell_type": "markdown",
   "metadata": {},
   "source": [
    "## Merge"
   ]
  },
  {
   "cell_type": "code",
   "execution_count": 60,
   "metadata": {},
   "outputs": [],
   "source": [
    "barcode_specificity_df = pd.merge(barcode_df[['gem',\n",
    "                                              'template_id_mhc', 'barcode_mhc', 'sample_mhc', 'umi_count_mhc', 'single_barcode_mhc', 'umi_count_lst_mhc', 'read_count_lst_mhc', 'template_lst_mhc', 'epitope_lst',\n",
    "                                              'template_id_cd8', 'barcode_cd8', 'sample_cd8', 'umi_count_cd8', 'single_barcode_cd8', 'umi_count_lst_cd8', 'read_count_lst_cd8', 'template_lst_cd8']],\n",
    "                                  specificity_df,\n",
    "                                  how='left',\n",
    "                                  left_on='barcode_mhc',\n",
    "                                  right_on='barcode').merge(response_df,\n",
    "                                                            how='left',\n",
    "                                                            on=['barcode_cd8', 'peptide']).merge(specificity_matrix, how='left', on='gem') # 'match_mhc','match_cd8', \n"
   ]
  },
  {
   "cell_type": "code",
   "execution_count": 61,
   "metadata": {},
   "outputs": [],
   "source": [
    "barcode_specificity_df['peptide_assayed'] = np.where(barcode_specificity_df.peptide.isin(response_df.peptide), True, False)"
   ]
  },
  {
   "cell_type": "code",
   "execution_count": 62,
   "metadata": {},
   "outputs": [
    {
     "name": "stdout",
     "output_type": "stream",
     "text": [
      "Reads: 7591\n",
      "GEMs: 7591\n"
     ]
    }
   ],
   "source": [
    "print(\"Reads: %i\" %barcode_specificity_df.shape[0])\n",
    "print(\"GEMs: %i\" %barcode_specificity_df.gem.unique().shape[0])"
   ]
  },
  {
   "cell_type": "code",
   "execution_count": 69,
   "metadata": {},
   "outputs": [],
   "source": [
    "specificity_df['peptide'] = specificity_df.peptide.str.split(\"_\", expand=True)[0]"
   ]
  },
  {
   "cell_type": "markdown",
   "metadata": {},
   "source": [
    "# Write data"
   ]
  },
  {
   "cell_type": "code",
   "execution_count": null,
   "metadata": {},
   "outputs": [],
   "source": [
    "new_column_order = ['gem',\n",
    " 'template_id_mhc',\n",
    " 'umi_count_mhc',\n",
    " 'single_barcode_mhc',\n",
    " 'umi_count_lst_mhc',\n",
    " 'read_count_lst_mhc',\n",
    " 'template_lst_mhc',\n",
    " 'template_id_cd8',\n",
    " 'umi_count_cd8',\n",
    " 'single_barcode_cd8',\n",
    " 'umi_count_lst_mhc',\n",
    " 'read_counts_lst_cd8',\n",
    " 'template_lst_cd8',\n",
    " 'detected_response',\n",
    " 'peptide_assayed',\n",
    " 'peptide',\n",
    " 'HLA',\n",
    " 'epitope',\n",
    " 'epitope_lst'] + specificity_matrix.columns.to_list()"
   ]
  },
  {
   "cell_type": "code",
   "execution_count": null,
   "metadata": {},
   "outputs": [],
   "source": [
    "barcode_specificity_df[new_column_order] #.to_csv(output, index=False, sep='\\t')"
   ]
  },
  {
   "cell_type": "markdown",
   "metadata": {},
   "source": [
    "## Annotate UMI counts (archived)"
   ]
  },
  {
   "cell_type": "markdown",
   "metadata": {},
   "source": [
    "mhc_umi_df = mhc_df.groupby(['gem', 'template_id'])['umi'].unique().to_frame().reset_index().fillna('')\n",
    "cd8_umi_df = cd8_df.groupby(['gem', 'template_id'])['umi'].unique().to_frame().reset_index().fillna('')\n",
    "\n",
    "mhc_umi_df['umi_count'] = mhc_umi_df.umi.apply(lambda x: len(x))\n",
    "cd8_umi_df['umi_count'] = cd8_umi_df.umi.apply(lambda x: len(x))"
   ]
  },
  {
   "cell_type": "markdown",
   "metadata": {},
   "source": [
    "def avg_umi_len(x):\n",
    "    umis = list()\n",
    "    \n",
    "    for umi_seq in x:\n",
    "        if type(umi_seq) == str:\n",
    "            umis.append(len(umi_seq))\n",
    "            \n",
    "    if len(umis) == 0:\n",
    "        return 0\n",
    "    else:\n",
    "        return sum(umis)/len(umis)\n"
   ]
  },
  {
   "cell_type": "markdown",
   "metadata": {},
   "source": [
    "mhc_umi_df['avg_umi_len'] = mch_umi_df.umi.apply(avg_umi_len)\n",
    "cd8_umi_df['avg_umi_len'] = cd8_umi_df.umi.apply(avg_umi_len)"
   ]
  },
  {
   "cell_type": "markdown",
   "metadata": {},
   "source": [
    "mhc_umi_df.sort_values(by=['gem','umi_count'], inplace=True) #,'avg_umi_len'\n",
    "cd8_umi_df.sort_values(by=['gem','umi_count'], inplace=True) #,'avg_umi_len'\n",
    "\n",
    "mhc_umi_count_lst_df = mhc_umi_df.groupby(['gem']).umi_count.apply(np.array).to_frame().reset_index().rename(columns={'umi_count':'umi_count_lst'})\n",
    "cd8_umi_count_lst_df = cd8_umi_df.groupby(['gem']).umi_count.apply(np.array).to_frame().reset_index().rename(columns={'umi_count':'umi_count_lst'})\n",
    "\n",
    "mhc_umi_count_lst_df['single_barcode'] = mhc_umi_count_lst_df.umi_count_lst.apply(lambda x: True if len(x)==1 else False)\n",
    "cd8_umi_count_lst_df['single_barcode'] = cd8_umi_count_lst_df.umi_count_lst.apply(lambda x: True if len(x)==1 else False)\n",
    "\n",
    "mhc_umi_count_lst_df['template_lst'] = mhc_umi_df.groupby(['gem']).template_id.apply(np.array).to_frame().reset_index().template_id\n",
    "cd8_umi_count_lst_df['template_lst'] = cd8_umi_df.groupby(['gem']).template_id.apply(np.array).to_frame().reset_index().template_id"
   ]
  },
  {
   "cell_type": "markdown",
   "metadata": {},
   "source": [
    "merge. sort on gem, umi, avg_umi. remove duplicates on gem."
   ]
  },
  {
   "cell_type": "markdown",
   "metadata": {},
   "source": [
    "## Annotate specificities"
   ]
  },
  {
   "cell_type": "markdown",
   "metadata": {},
   "source": [
    "mhc_umi_df['barcode'], mhc_umi_df['sample'] = mhc_umi_df.template_id.str.rsplit(\"_\", n=1).str\n",
    "\n",
    "mhc_umi_df = pd.merge(mhc_umi_df, specificity_df[['barcode','epitope']], how='left', on='barcode')"
   ]
  },
  {
   "cell_type": "markdown",
   "metadata": {},
   "source": [
    "## Annotate specificities"
   ]
  },
  {
   "cell_type": "markdown",
   "metadata": {},
   "source": [
    "mhc_read_counts_df['barcode'], mhc_read_counts_df['sample'] = mhc_read_counts_df.template_id.str.rsplit(\"_\", n=1).str\n",
    "\n",
    "mhc_read_counts_df = pd.merge(mhc_read_counts_df, specificity_df[['barcode','epitope']], how='left', on='barcode')"
   ]
  },
  {
   "cell_type": "markdown",
   "metadata": {},
   "source": [
    "## Collapse multiple annotations per GEM into one"
   ]
  },
  {
   "cell_type": "markdown",
   "metadata": {},
   "source": [
    "mhc_read_counts_df.sort_values(by=['gem', 'read_counts'], inplace=True)\n",
    "cd8_read_counts_df.sort_values(by=['gem', 'read_counts'], inplace=True)\n",
    "mhc_read_count_diffs_df = mhc_read_counts_df.groupby(['gem']).read_counts.apply(np.array).to_frame().reset_index()\n",
    "cd8_read_count_diffs_df = cd8_read_counts_df.groupby(['gem']).read_counts.apply(np.array).to_frame().reset_index()\n",
    "mhc_read_count_diffs_df.rename(columns={'read_counts': 'read_counts_lst'}, inplace=True)\n",
    "cd8_read_count_diffs_df.rename(columns={'read_counts': 'read_counts_lst'}, inplace=True)\n",
    "mhc_read_count_diffs_df['read_count_diff'] = mhc_read_count_diffs_df.read_counts_lst.apply(lambda x: round((x[-1]-x[-2])/x[-1], 3) if len(x)>1 else 1.000)\n",
    "cd8_read_count_diffs_df['read_count_diff'] = cd8_read_count_diffs_df.read_counts_lst.apply(lambda x: round((x[-1]-x[-2])/x[-1], 3) if len(x)>1 else 1.000)\n",
    "mhc_read_count_diffs_df['single_barcode'] = mhc_read_count_diffs_df.read_counts_lst.apply(lambda x: True if len(x)==1 else False)\n",
    "cd8_read_count_diffs_df['single_barcode'] = cd8_read_count_diffs_df.read_counts_lst.apply(lambda x: True if len(x)==1 else False)\n",
    "mhc_read_count_diffs_df['template_lst'] = mhc_read_counts_df.groupby(['gem']).template_id.apply(np.array).to_frame().reset_index().template_id\n",
    "cd8_read_count_diffs_df['template_lst'] = cd8_read_counts_df.groupby(['gem']).template_id.apply(np.array).to_frame().reset_index().template_id"
   ]
  },
  {
   "cell_type": "markdown",
   "metadata": {},
   "source": [
    "mhc_read_count_diffs_df['epitope_lst'] = mhc_read_counts_df.groupby(['gem']).epitope.apply(np.array).to_frame().reset_index().epitope"
   ]
  },
  {
   "cell_type": "markdown",
   "metadata": {},
   "source": [
    "pd.merge(cd8_unique_df[['gem', 'template_id']], cd8_df, on=['gem','template_id'], how='left')"
   ]
  },
  {
   "cell_type": "markdown",
   "metadata": {},
   "source": [
    "cd8_mode_df = pd.merge(cd8_unique_df[['gem', 'template_id']], cd8_df, on=['gem','template_id'], how='left').merge(cd8_read_counts_df[['gem', 'template_id', 'read_counts']],\n",
    "                                                                                                                  how='left', on=['gem','template_id']).merge(cd8_read_count_diffs_df, how='left', on='gem')\n",
    "mhc_mode_df = pd.merge(mhc_unique_df[['gem', 'template_id']], mhc_df, on=['gem','template_id'], how='left').merge(mhc_read_counts_df[['gem', 'template_id', 'read_counts', 'epitope']],\n",
    "                                                                                                                  how='left', on=['gem','template_id']).merge(mhc_read_count_diffs_df, how='left', on='gem')"
   ]
  },
  {
   "cell_type": "markdown",
   "metadata": {},
   "source": [
    "cd8_mode_df.sort_values(by=['gem', 'score', 'alignment_length'], inplace=True) #'credible_alignment', 'match', \n",
    "mhc_mode_df.sort_values(by=['gem', 'score', 'alignment_length'], inplace=True) #'credible_alignment', 'match', \n",
    "cd8_mode_df.drop_duplicates(subset=['gem'], keep='last', inplace=True)\n",
    "mhc_mode_df.drop_duplicates(subset=['gem'], keep='last', inplace=True)"
   ]
  },
  {
   "cell_type": "markdown",
   "metadata": {},
   "source": [
    "print(\"MHC entries: %i\" %mhc_mode_df.shape[0])\n",
    "print(\"Unique GEMs: %i\" %mhc_mode_df.gem.unique().shape[0])\n",
    "#np.savetxt(GEM_LISTS + \"mhc_mode_df.lst\", mhc_mode_df.gem.unique(), fmt='%s')\n",
    "\n",
    "print(\"CD8 entries: %i\" %cd8_mode_df.shape[0])\n",
    "print(\"Unique GEMs: %i\" %cd8_mode_df.gem.unique().shape[0])\n",
    "#np.savetxt(GEM_LISTS + \"cd8_mode_df.lst\", cd8_mode_df.gem.unique(), fmt='%s')"
   ]
  },
  {
   "cell_type": "markdown",
   "metadata": {},
   "source": [
    "#### OBS!\n",
    "At this point we have a table with one line per GEM. The barcode annotation is chosen from the majority vote of read counts. However, if two barcodes are annotated with equal number of reads, they are distinguished based on credible_alignment, match, bit_score, and alignment_length...\n",
    "OBS! We are not using UMI - so we don't know if the read count is inflated. And we don't take into account the alignment score or the alignment length! What if the majority of reads map poorly?"
   ]
  },
  {
   "cell_type": "markdown",
   "metadata": {},
   "source": [
    "## Produce barcode table"
   ]
  },
  {
   "cell_type": "code",
   "execution_count": null,
   "metadata": {},
   "outputs": [],
   "source": [
    "barcode_df = pd.merge(mhc_mode_df[['gem', 'template_id', 'template_lst', 'barcode', 'sample', 'read_counts', 'read_counts_lst', 'read_count_diff', 'single_barcode', 'credible_alignment', 'epitope_lst']],\n",
    "                      cd8_mode_df[['gem', 'template_id', 'template_lst', 'barcode', 'sample', 'read_counts', 'read_counts_lst', 'read_count_diff', 'single_barcode', 'credible_alignment']],\n",
    "                      how='outer', on='gem', suffixes=('_mhc', '_cd8')) #'match',"
   ]
  },
  {
   "cell_type": "code",
   "execution_count": null,
   "metadata": {},
   "outputs": [],
   "source": [
    "assert barcode_df.shape[0] == barcode_df.gem.unique().shape[0], \"Barcode dataframe was not reduced satisfyingly\""
   ]
  },
  {
   "cell_type": "code",
   "execution_count": null,
   "metadata": {
    "scrolled": true
   },
   "outputs": [],
   "source": [
    "print(\"Entries: %i\" %barcode_df.shape[0])\n",
    "print(\"Unique GEMs: %i\" %barcode_df.gem.unique().shape[0])\n",
    "#np.savetxt(GEM_LISTS + \"barcode_df.lst\", barcode_df.gem.unique(), fmt='%s')"
   ]
  },
  {
   "cell_type": "markdown",
   "metadata": {},
   "source": [
    "## Specificity matrix"
   ]
  },
  {
   "cell_type": "code",
   "execution_count": null,
   "metadata": {},
   "outputs": [],
   "source": [
    "specificity_matrix = mhc_mode_df.pivot(index='gem', columns='epitope', values='read_counts')"
   ]
  },
  {
   "cell_type": "markdown",
   "metadata": {},
   "source": [
    "## Response df"
   ]
  },
  {
   "cell_type": "code",
   "execution_count": null,
   "metadata": {},
   "outputs": [],
   "source": [
    "response_df.sort_values(by=['peptide','barcode_cd8'], inplace=True)\n",
    "response_df.drop_duplicates(inplace=True)\n",
    "response_df['detected_response'] = True"
   ]
  },
  {
   "cell_type": "markdown",
   "metadata": {},
   "source": [
    "## Merge barcode and specificity"
   ]
  },
  {
   "cell_type": "code",
   "execution_count": null,
   "metadata": {},
   "outputs": [],
   "source": [
    "barcode_specificity_df = pd.merge(barcode_df[['gem',\n",
    "                                              'credible_alignment_mhc',\n",
    "                                              'credible_alignment_cd8',\n",
    "                                              'template_id_mhc', 'barcode_mhc', 'sample_mhc', 'read_counts_mhc', 'read_count_diff_mhc', 'single_barcode_mhc', 'read_counts_lst_mhc', 'template_lst_mhc', 'epitope_lst',\n",
    "                                              'template_id_cd8', 'barcode_cd8', 'sample_cd8', 'read_counts_cd8', 'read_count_diff_cd8', 'single_barcode_cd8', 'read_counts_lst_cd8', 'template_lst_cd8']],\n",
    "                                  specificity_df,\n",
    "                                  how='left',\n",
    "                                  left_on='barcode_mhc',\n",
    "                                  right_on='barcode').merge(response_df,\n",
    "                                                            how='left',\n",
    "                                                            on=['barcode_cd8', 'peptide']).merge(specificity_matrix, how='left', on='gem') # 'match_mhc','match_cd8', "
   ]
  },
  {
   "cell_type": "code",
   "execution_count": null,
   "metadata": {},
   "outputs": [],
   "source": [
    "barcode_specificity_df['peptide_assayed'] = np.where(barcode_specificity_df.peptide.isin(response_df.peptide), True, False)"
   ]
  },
  {
   "cell_type": "code",
   "execution_count": null,
   "metadata": {},
   "outputs": [],
   "source": [
    "print(\"Entries: %i\" %barcode_specificity_df.shape[0])\n",
    "print(\"Unique GEMs: %i\" %barcode_specificity_df.gem.unique().shape[0])"
   ]
  },
  {
   "cell_type": "markdown",
   "metadata": {},
   "source": [
    "# Write data"
   ]
  },
  {
   "cell_type": "code",
   "execution_count": null,
   "metadata": {},
   "outputs": [],
   "source": [
    "new_column_order = ['gem',\n",
    " 'credible_alignment_mhc',\n",
    " 'credible_alignment_cd8',\n",
    " 'template_id_mhc',\n",
    " 'read_counts_mhc',\n",
    " 'read_count_diff_mhc',\n",
    " 'single_barcode_mhc',\n",
    " 'read_counts_lst_mhc',\n",
    " 'template_lst_mhc',\n",
    " 'template_id_cd8',\n",
    " 'read_counts_cd8',\n",
    " 'read_count_diff_cd8',\n",
    " 'single_barcode_cd8',\n",
    " 'read_counts_lst_cd8',\n",
    " 'template_lst_cd8',\n",
    " 'detected_response',\n",
    " 'peptide_assayed',\n",
    " 'peptide',\n",
    " 'HLA',\n",
    " 'epitope',\n",
    " 'epitope_lst'] + specificity_matrix.columns.to_list() #'match_mhc','match_cd8',"
   ]
  },
  {
   "cell_type": "code",
   "execution_count": null,
   "metadata": {},
   "outputs": [],
   "source": [
    "barcode_specificity_df[new_column_order].to_csv(output, index=False, sep='\\t')"
   ]
  },
  {
   "cell_type": "code",
   "execution_count": null,
   "metadata": {},
   "outputs": [],
   "source": []
  }
 ],
 "metadata": {
  "kernelspec": {
   "display_name": "Python 3",
   "language": "python",
   "name": "python3"
  },
  "language_info": {
   "codemirror_mode": {
    "name": "ipython",
    "version": 3
   },
   "file_extension": ".py",
   "mimetype": "text/x-python",
   "name": "python",
   "nbconvert_exporter": "python",
   "pygments_lexer": "ipython3",
   "version": "3.7.4"
  }
 },
 "nbformat": 4,
 "nbformat_minor": 2
}
