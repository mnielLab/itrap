{
 "cells": [
  {
   "cell_type": "code",
   "execution_count": 1,
   "metadata": {},
   "outputs": [],
   "source": [
    "import pandas as pd\n",
    "import numpy as np"
   ]
  },
  {
   "cell_type": "code",
   "execution_count": 13,
   "metadata": {},
   "outputs": [],
   "source": [
    "DIR = '../experiments/exp13/run1/cat/tables/tcr_barcode.cleaned.csv'"
   ]
  },
  {
   "cell_type": "code",
   "execution_count": 14,
   "metadata": {},
   "outputs": [],
   "source": [
    "df1 = pd.read_csv(DIR)"
   ]
  },
  {
   "cell_type": "code",
   "execution_count": 15,
   "metadata": {},
   "outputs": [
    {
     "data": {
      "text/plain": [
       "Index(['gem', 'clonotype', 'num_clonotype', 'ct', 'genes_TRA', 'genes_TRB',\n",
       "       'genes_lst_TRA', 'genes_lst_TRB', 'length_TRA', 'cdr1_TRA', 'cdr2_TRA',\n",
       "       'cdr3_TRA', 'umi_count_TRA', 'umi_count_lst_TRA', 'delta_umi_TRA',\n",
       "       'cdr3_lst_TRA', 'chain_count_TRA', 'single_TRA', 'length_TRB',\n",
       "       'cdr1_TRB', 'cdr2_TRB', 'cdr3_TRB', 'umi_count_TRB',\n",
       "       'umi_count_lst_TRB', 'delta_umi_TRB', 'cdr3_lst_TRB', 'chain_count_TRB',\n",
       "       'single_TRB', 'single_chain_only', 'umi_count_tcr', 'cdr3_comb',\n",
       "       'v_gene_TRA', 'j_gene_TRA', 'v_gene_TRB', 'j_gene_TRB', 'tcr_category',\n",
       "       'no_filtration', 'exclude_single-chain_TCRs',\n",
       "       'exclude_ambiguous_and_single-chain_TCRs', 'exclude_ambiguous_TCRs',\n",
       "       'label', 'umi_count_mhc', 'umi_count_lst_mhc', 'delta_umi_mhc',\n",
       "       'single_barcode_mhc', 'multiplets_mhc', 'umi_count_cd8',\n",
       "       'umi_count_lst_cd8', 'delta_umi_cd8', 'single_barcode_cd8',\n",
       "       'multiplets_cd8', 'detected_response', 'peptide_assayed', 'sample_id',\n",
       "       'sample_id_lst', 'HLA_pool_cd8', 'HLA_lst_cd8', 'HLA_cd8', 'HLA_match',\n",
       "       'HLA_mhc', 'HLA_lst_mhc', 'likely_HLA_mhc', 'peptide', 'peptide_lst',\n",
       "       'peptide_HLA', 'peptide_HLA_lst', 'epitope', 'epitope_lst',\n",
       "       'epitope_rank', 'marker', 'marker_lst', 'umi_count_lst_mrk',\n",
       "       'delta_umi_mrk', 'single_barcode_mrk', 'multiplets_mrk', 'label_mhc',\n",
       "       'label_cd8', 'label_mrk', 'umi_count_mhc_rel', 'gems_per_specificity',\n",
       "       'gems_per_clonotype', 'binding_concordance', 'cdr3_TRA_substr',\n",
       "       'cdr3_TRB_substr', 'VDJdb_pep', 'VDJdb_check', 'seurat',\n",
       "       'umi_count_hto', 'feature_hto', 'hto_max_id', 'hto_sec_id',\n",
       "       'hto_margin', 'hto_classification', 'hto_global_class', 'hash_id'],\n",
       "      dtype='object')"
      ]
     },
     "execution_count": 15,
     "metadata": {},
     "output_type": "execute_result"
    }
   ],
   "source": [
    "df1.columns"
   ]
  },
  {
   "cell_type": "code",
   "execution_count": 20,
   "metadata": {},
   "outputs": [],
   "source": [
    "grp = df1.groupby('ct').size()"
   ]
  },
  {
   "cell_type": "code",
   "execution_count": 23,
   "metadata": {},
   "outputs": [
    {
     "data": {
      "text/plain": [
       "66"
      ]
     },
     "execution_count": 23,
     "metadata": {},
     "output_type": "execute_result"
    }
   ],
   "source": [
    "sum(grp >= 10)"
   ]
  },
  {
   "cell_type": "code",
   "execution_count": 28,
   "metadata": {},
   "outputs": [],
   "source": [
    "a = 2 if 3 > 4 else 1"
   ]
  },
  {
   "cell_type": "code",
   "execution_count": 31,
   "metadata": {},
   "outputs": [
    {
     "data": {
      "text/plain": [
       "True"
      ]
     },
     "execution_count": 31,
     "metadata": {},
     "output_type": "execute_result"
    }
   ],
   "source": [
    "df1.isna().any().any()"
   ]
  },
  {
   "cell_type": "code",
   "execution_count": 32,
   "metadata": {},
   "outputs": [
    {
     "data": {
      "text/html": [
       "<div>\n",
       "<style scoped>\n",
       "    .dataframe tbody tr th:only-of-type {\n",
       "        vertical-align: middle;\n",
       "    }\n",
       "\n",
       "    .dataframe tbody tr th {\n",
       "        vertical-align: top;\n",
       "    }\n",
       "\n",
       "    .dataframe thead th {\n",
       "        text-align: right;\n",
       "    }\n",
       "</style>\n",
       "<table border=\"1\" class=\"dataframe\">\n",
       "  <thead>\n",
       "    <tr style=\"text-align: right;\">\n",
       "      <th></th>\n",
       "      <th>HLA_cd8</th>\n",
       "      <th>umi_count_cd8</th>\n",
       "      <th>HLA_lst_cd8</th>\n",
       "      <th>umi_count_lst_cd8</th>\n",
       "    </tr>\n",
       "  </thead>\n",
       "  <tbody>\n",
       "    <tr>\n",
       "      <th>0</th>\n",
       "      <td>['A0201', 'B0702']</td>\n",
       "      <td>4134.0</td>\n",
       "      <td>[['A0301', 'B0702'], ['A0301', 'B0702'], ['A02...</td>\n",
       "      <td>[1.0, 3.0, 10.0, 11.0, 13.0, 14.0, 28.0, 33.0,...</td>\n",
       "    </tr>\n",
       "    <tr>\n",
       "      <th>1</th>\n",
       "      <td>['A0201', 'A0301', 'B0702']</td>\n",
       "      <td>2168.0</td>\n",
       "      <td>[['A0201'], ['A0301', 'B0702'], ['A0201', 'B07...</td>\n",
       "      <td>[3.0, 3.0, 4.0, 6.0, 6.0, 6.0, 10.0, 22.0, 216...</td>\n",
       "    </tr>\n",
       "    <tr>\n",
       "      <th>2</th>\n",
       "      <td>['A0301', 'B0702']</td>\n",
       "      <td>1724.0</td>\n",
       "      <td>[['A0201'], ['A0301', 'B0702'], ['B0702'], ['A...</td>\n",
       "      <td>[1.0, 1.0, 1.0, 3.0, 4.0, 5.0, 7.0, 12.0, 22.0...</td>\n",
       "    </tr>\n",
       "    <tr>\n",
       "      <th>3</th>\n",
       "      <td>['A0201', 'B0702']</td>\n",
       "      <td>4645.0</td>\n",
       "      <td>[['A0201', 'B0702'], ['B0702'], ['A0201'], ['A...</td>\n",
       "      <td>[4.0, 4.0, 5.0, 7.0, 15.0, 16.0, 4645.0]</td>\n",
       "    </tr>\n",
       "    <tr>\n",
       "      <th>4</th>\n",
       "      <td>['B0702']</td>\n",
       "      <td>2224.0</td>\n",
       "      <td>[['A0201'], ['A0301', 'B0702'], ['A0301', 'B07...</td>\n",
       "      <td>[2.0, 2.0, 3.0, 5.0, 6.0, 7.0, 9.0, 19.0, 24.0...</td>\n",
       "    </tr>\n",
       "    <tr>\n",
       "      <th>...</th>\n",
       "      <td>...</td>\n",
       "      <td>...</td>\n",
       "      <td>...</td>\n",
       "      <td>...</td>\n",
       "    </tr>\n",
       "    <tr>\n",
       "      <th>7120</th>\n",
       "      <td>['A0201', 'A0301', 'B0702']</td>\n",
       "      <td>723.0</td>\n",
       "      <td>[['A0301', 'B0702'], ['A0301', 'B0702'], ['A02...</td>\n",
       "      <td>[1.0, 2.0, 3.0, 3.0, 3.0, 8.0, 9.0, 21.0, 723.0]</td>\n",
       "    </tr>\n",
       "    <tr>\n",
       "      <th>7121</th>\n",
       "      <td>['A0201', 'A0301', 'B0702']</td>\n",
       "      <td>1275.0</td>\n",
       "      <td>[['A0201'], ['A0301', 'B0702'], ['A0301', 'B07...</td>\n",
       "      <td>[1.0, 1.0, 1.0, 1.0, 2.0, 2.0, 3.0, 14.0, 174....</td>\n",
       "    </tr>\n",
       "    <tr>\n",
       "      <th>7122</th>\n",
       "      <td>['A0301', 'B0702']</td>\n",
       "      <td>2484.0</td>\n",
       "      <td>[['A0301', 'B0702'], ['B0702'], ['A0301', 'B07...</td>\n",
       "      <td>[3.0, 3.0, 5.0, 5.0, 7.0, 9.0, 15.0, 32.0, 248...</td>\n",
       "    </tr>\n",
       "    <tr>\n",
       "      <th>7123</th>\n",
       "      <td>['A0201', 'B0702']</td>\n",
       "      <td>7070.0</td>\n",
       "      <td>[['A0201'], ['A0301', 'B0702'], ['A0301', 'B07...</td>\n",
       "      <td>[1.0, 1.0, 1.0, 3.0, 4.0, 5.0, 5.0, 10.0, 20.0...</td>\n",
       "    </tr>\n",
       "    <tr>\n",
       "      <th>7124</th>\n",
       "      <td>['A0201', 'A0301', 'B0702']</td>\n",
       "      <td>36.0</td>\n",
       "      <td>[['B0702'], ['A0301', 'B0702'], ['A0301', 'B07...</td>\n",
       "      <td>[3.0, 3.0, 4.0, 6.0, 9.0, 10.0, 21.0, 36.0]</td>\n",
       "    </tr>\n",
       "  </tbody>\n",
       "</table>\n",
       "<p>7125 rows × 4 columns</p>\n",
       "</div>"
      ],
      "text/plain": [
       "                          HLA_cd8  umi_count_cd8  \\\n",
       "0              ['A0201', 'B0702']         4134.0   \n",
       "1     ['A0201', 'A0301', 'B0702']         2168.0   \n",
       "2              ['A0301', 'B0702']         1724.0   \n",
       "3              ['A0201', 'B0702']         4645.0   \n",
       "4                       ['B0702']         2224.0   \n",
       "...                           ...            ...   \n",
       "7120  ['A0201', 'A0301', 'B0702']          723.0   \n",
       "7121  ['A0201', 'A0301', 'B0702']         1275.0   \n",
       "7122           ['A0301', 'B0702']         2484.0   \n",
       "7123           ['A0201', 'B0702']         7070.0   \n",
       "7124  ['A0201', 'A0301', 'B0702']           36.0   \n",
       "\n",
       "                                            HLA_lst_cd8  \\\n",
       "0     [['A0301', 'B0702'], ['A0301', 'B0702'], ['A02...   \n",
       "1     [['A0201'], ['A0301', 'B0702'], ['A0201', 'B07...   \n",
       "2     [['A0201'], ['A0301', 'B0702'], ['B0702'], ['A...   \n",
       "3     [['A0201', 'B0702'], ['B0702'], ['A0201'], ['A...   \n",
       "4     [['A0201'], ['A0301', 'B0702'], ['A0301', 'B07...   \n",
       "...                                                 ...   \n",
       "7120  [['A0301', 'B0702'], ['A0301', 'B0702'], ['A02...   \n",
       "7121  [['A0201'], ['A0301', 'B0702'], ['A0301', 'B07...   \n",
       "7122  [['A0301', 'B0702'], ['B0702'], ['A0301', 'B07...   \n",
       "7123  [['A0201'], ['A0301', 'B0702'], ['A0301', 'B07...   \n",
       "7124  [['B0702'], ['A0301', 'B0702'], ['A0301', 'B07...   \n",
       "\n",
       "                                      umi_count_lst_cd8  \n",
       "0     [1.0, 3.0, 10.0, 11.0, 13.0, 14.0, 28.0, 33.0,...  \n",
       "1     [3.0, 3.0, 4.0, 6.0, 6.0, 6.0, 10.0, 22.0, 216...  \n",
       "2     [1.0, 1.0, 1.0, 3.0, 4.0, 5.0, 7.0, 12.0, 22.0...  \n",
       "3              [4.0, 4.0, 5.0, 7.0, 15.0, 16.0, 4645.0]  \n",
       "4     [2.0, 2.0, 3.0, 5.0, 6.0, 7.0, 9.0, 19.0, 24.0...  \n",
       "...                                                 ...  \n",
       "7120   [1.0, 2.0, 3.0, 3.0, 3.0, 8.0, 9.0, 21.0, 723.0]  \n",
       "7121  [1.0, 1.0, 1.0, 1.0, 2.0, 2.0, 3.0, 14.0, 174....  \n",
       "7122  [3.0, 3.0, 5.0, 5.0, 7.0, 9.0, 15.0, 32.0, 248...  \n",
       "7123  [1.0, 1.0, 1.0, 3.0, 4.0, 5.0, 5.0, 10.0, 20.0...  \n",
       "7124        [3.0, 3.0, 4.0, 6.0, 9.0, 10.0, 21.0, 36.0]  \n",
       "\n",
       "[7125 rows x 4 columns]"
      ]
     },
     "execution_count": 32,
     "metadata": {},
     "output_type": "execute_result"
    }
   ],
   "source": [
    "df1[['HLA_cd8','umi_count_cd8','HLA_lst_cd8','umi_count_lst_cd8']]"
   ]
  },
  {
   "cell_type": "code",
   "execution_count": 33,
   "metadata": {},
   "outputs": [],
   "source": [
    "import math"
   ]
  },
  {
   "cell_type": "code",
   "execution_count": 35,
   "metadata": {},
   "outputs": [
    {
     "data": {
      "text/plain": [
       "-3.321928094887362"
      ]
     },
     "execution_count": 35,
     "metadata": {},
     "output_type": "execute_result"
    }
   ],
   "source": [
    "math.log(0.1, 2)"
   ]
  },
  {
   "cell_type": "code",
   "execution_count": 34,
   "metadata": {},
   "outputs": [
    {
     "data": {
      "text/plain": [
       "-1.0"
      ]
     },
     "execution_count": 34,
     "metadata": {},
     "output_type": "execute_result"
    }
   ],
   "source": [
    "math.log(0.5, 2)"
   ]
  },
  {
   "cell_type": "code",
   "execution_count": 36,
   "metadata": {},
   "outputs": [
    {
     "ename": "ValueError",
     "evalue": "math domain error",
     "output_type": "error",
     "traceback": [
      "\u001b[0;31m---------------------------------------------------------------------------\u001b[0m",
      "\u001b[0;31mValueError\u001b[0m                                Traceback (most recent call last)",
      "\u001b[0;32m<ipython-input-36-87a9f995b6e6>\u001b[0m in \u001b[0;36m<module>\u001b[0;34m\u001b[0m\n\u001b[0;32m----> 1\u001b[0;31m \u001b[0mmath\u001b[0m\u001b[0;34m.\u001b[0m\u001b[0mlog\u001b[0m\u001b[0;34m(\u001b[0m\u001b[0;36m0\u001b[0m\u001b[0;34m,\u001b[0m\u001b[0;36m2\u001b[0m\u001b[0;34m)\u001b[0m\u001b[0;34m\u001b[0m\u001b[0;34m\u001b[0m\u001b[0m\n\u001b[0m",
      "\u001b[0;31mValueError\u001b[0m: math domain error"
     ]
    }
   ],
   "source": [
    "math.log(0,2)"
   ]
  },
  {
   "cell_type": "code",
   "execution_count": 37,
   "metadata": {},
   "outputs": [
    {
     "data": {
      "text/plain": [
       "1.0"
      ]
     },
     "execution_count": 37,
     "metadata": {},
     "output_type": "execute_result"
    }
   ],
   "source": [
    "math.log(2,2)"
   ]
  },
  {
   "cell_type": "code",
   "execution_count": 38,
   "metadata": {},
   "outputs": [
    {
     "data": {
      "text/plain": [
       "2.0"
      ]
     },
     "execution_count": 38,
     "metadata": {},
     "output_type": "execute_result"
    }
   ],
   "source": [
    "math.log(4,2)"
   ]
  },
  {
   "cell_type": "code",
   "execution_count": 40,
   "metadata": {},
   "outputs": [
    {
     "data": {
      "text/plain": [
       "0.5"
      ]
     },
     "execution_count": 40,
     "metadata": {},
     "output_type": "execute_result"
    }
   ],
   "source": [
    "2**(-1)"
   ]
  },
  {
   "cell_type": "code",
   "execution_count": 64,
   "metadata": {},
   "outputs": [
    {
     "data": {
      "text/plain": [
       "array([0.5       , 0.52910746, 0.5599094 , 0.59250448, 0.62699707,\n",
       "       0.66349765, 0.70212311, 0.74299714, 0.78625066, 0.83202217,\n",
       "       0.88045827, 0.93171407, 0.98595372, 1.04335093, 1.10408951,\n",
       "       1.16836399, 1.23638019, 1.30835596, 1.38452179, 1.4651216 ,\n",
       "       1.55041352, 1.64067071, 1.73618221, 1.83725391, 1.94420948,\n",
       "       2.05739147, 2.17716233, 2.30390564, 2.43802731, 2.57995685,\n",
       "       2.73014882, 2.88908419, 3.05727197, 3.23525079, 3.42359063,\n",
       "       3.62289466, 3.83380115, 4.05698555, 4.2931626 , 4.54308869,\n",
       "       4.8075642 , 5.08743612, 5.38360077, 5.69700662, 6.02865736,\n",
       "       6.37961511, 6.75100385, 7.14401294, 7.55990103, 8.        ])"
      ]
     },
     "execution_count": 64,
     "metadata": {},
     "output_type": "execute_result"
    }
   ],
   "source": [
    "2**np.linspace(-1,3,50)"
   ]
  },
  {
   "cell_type": "code",
   "execution_count": 54,
   "metadata": {},
   "outputs": [
    {
     "data": {
      "text/plain": [
       "0.5"
      ]
     },
     "execution_count": 54,
     "metadata": {},
     "output_type": "execute_result"
    }
   ],
   "source": [
    "2**(-1)"
   ]
  },
  {
   "cell_type": "code",
   "execution_count": 57,
   "metadata": {},
   "outputs": [
    {
     "data": {
      "text/plain": [
       "8"
      ]
     },
     "execution_count": 57,
     "metadata": {},
     "output_type": "execute_result"
    }
   ],
   "source": [
    "2**3"
   ]
  },
  {
   "cell_type": "code",
   "execution_count": 69,
   "metadata": {},
   "outputs": [
    {
     "data": {
      "text/plain": [
       "0.8"
      ]
     },
     "execution_count": 69,
     "metadata": {},
     "output_type": "execute_result"
    }
   ],
   "source": [
    "1/1.25"
   ]
  },
  {
   "cell_type": "code",
   "execution_count": 71,
   "metadata": {},
   "outputs": [
    {
     "data": {
      "text/plain": [
       "-0.3219280948873623"
      ]
     },
     "execution_count": 71,
     "metadata": {},
     "output_type": "execute_result"
    }
   ],
   "source": [
    "math.log(0.8, 2)"
   ]
  },
  {
   "cell_type": "code",
   "execution_count": 74,
   "metadata": {},
   "outputs": [
    {
     "data": {
      "text/plain": [
       "0.757858283255199"
      ]
     },
     "execution_count": 74,
     "metadata": {},
     "output_type": "execute_result"
    }
   ],
   "source": [
    "2**(-0.4)"
   ]
  },
  {
   "cell_type": "code",
   "execution_count": 62,
   "metadata": {},
   "outputs": [
    {
     "data": {
      "text/plain": [
       "0.8"
      ]
     },
     "execution_count": 62,
     "metadata": {},
     "output_type": "execute_result"
    }
   ],
   "source": [
    "df1.delta_umi_mhc.min()"
   ]
  },
  {
   "cell_type": "code",
   "execution_count": 75,
   "metadata": {},
   "outputs": [],
   "source": [
    "random_init = {k:v for k,v in enumerate(2**np.linspace(-0.4,3,50))}"
   ]
  },
  {
   "cell_type": "code",
   "execution_count": 76,
   "metadata": {},
   "outputs": [
    {
     "data": {
      "text/plain": [
       "{0: 0.757858283255199,\n",
       " 1: 0.7951989489293164,\n",
       " 2: 0.8343794378841101,\n",
       " 3: 0.8754904006112892,\n",
       " 4: 0.9186269540704759,\n",
       " 5: 0.9638889017579008,\n",
       " 6: 1.011380964618173,\n",
       " 7: 1.0612130233333728,\n",
       " 8: 1.113500372550043,\n",
       " 9: 1.1683639876322776,\n",
       " 10: 1.2259308045580808,\n",
       " 11: 1.286334013606586,\n",
       " 12: 1.3497133675156263,\n",
       " 13: 1.416215504822631,\n",
       " 14: 1.4859942891369484,\n",
       " 15: 1.5592111651285587,\n",
       " 16: 1.6360355320568158,\n",
       " 17: 1.716645135703437,\n",
       " 18: 1.80122647961654,\n",
       " 19: 1.8899752566172134,\n",
       " 20: 1.9830968015669743,\n",
       " 21: 2.0808065664436723,\n",
       " 22: 2.183330618825004,\n",
       " 23: 2.2909061649329496,\n",
       " 24: 2.4037820984493083,\n",
       " 25: 2.5222195763720756,\n",
       " 26: 2.646492623245021,\n",
       " 27: 2.776888765158447,\n",
       " 28: 2.9137096949879857,\n",
       " 29: 3.0572719704105853,\n",
       " 30: 3.2079077463126477,\n",
       " 31: 3.3659655432848763,\n",
       " 32: 3.531811053981862,\n",
       " 33: 3.7058279892120596,\n",
       " 34: 3.8884189657157195,\n",
       " 35: 4.080006437684796,\n",
       " 36: 4.281033674180056,\n",
       " 37: 4.491965784706804,\n",
       " 38: 4.713290795322052,\n",
       " 39: 4.945520777762913,\n",
       " 40: 5.1891930342085955,\n",
       " 41: 5.444871340417189,\n",
       " 42: 5.713147250113406,\n",
       " 43: 5.9946414636452126,\n",
       " 44: 6.290005264075962,\n",
       " 45: 6.599922024034642,\n",
       " 46: 6.9251087868106245,\n",
       " 47: 7.266317925350991,\n",
       " 48: 7.624338882998836,\n",
       " 49: 8.0}"
      ]
     },
     "execution_count": 76,
     "metadata": {},
     "output_type": "execute_result"
    }
   ],
   "source": [
    "random_init"
   ]
  },
  {
   "cell_type": "code",
   "execution_count": 68,
   "metadata": {},
   "outputs": [
    {
     "data": {
      "text/plain": [
       "dict_keys([0, 1, 2, 3, 4, 5, 6, 7, 8, 9, 10, 11, 12, 13, 14, 15, 16, 17, 18, 19, 20, 21, 22, 23, 24, 25, 26, 27, 28, 29, 30, 31, 32, 33, 34, 35, 36, 37, 38, 39, 40, 41, 42, 43, 44, 45, 46, 47, 48, 49])"
      ]
     },
     "execution_count": 68,
     "metadata": {},
     "output_type": "execute_result"
    }
   ],
   "source": [
    "random_init.keys()"
   ]
  },
  {
   "cell_type": "code",
   "execution_count": null,
   "metadata": {},
   "outputs": [],
   "source": []
  }
 ],
 "metadata": {
  "kernelspec": {
   "display_name": "Python 3",
   "language": "python",
   "name": "python3"
  },
  "language_info": {
   "codemirror_mode": {
    "name": "ipython",
    "version": 3
   },
   "file_extension": ".py",
   "mimetype": "text/x-python",
   "name": "python",
   "nbconvert_exporter": "python",
   "pygments_lexer": "ipython3",
   "version": "3.7.3"
  }
 },
 "nbformat": 4,
 "nbformat_minor": 4
}
