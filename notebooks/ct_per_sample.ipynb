{
 "cells": [
  {
   "cell_type": "code",
   "execution_count": 1,
   "metadata": {},
   "outputs": [],
   "source": [
    "import pandas as pd\n",
    "import numpy as np\n",
    "import matplotlib.pyplot as plt\n",
    "import re\n",
    "from ast import literal_eval\n",
    "import seaborn as sns"
   ]
  },
  {
   "cell_type": "code",
   "execution_count": 2,
   "metadata": {},
   "outputs": [],
   "source": [
    "def HLA_cd8_converter(x):\n",
    "    #define format of datetime\n",
    "    return x.replace(\"[\",\"\").replace(\"]\",\"\").replace(\",\", \"\").replace(\"'\",\"\").split(\" \")\n",
    "\n",
    "def cdr3_lst_converter(x):\n",
    "    #define format of datetime\n",
    "    return x.replace(\"[\",\"\").replace(\"]\",\"\").replace(\"'\",\"\").split(\" \")\n",
    "\n",
    "def epitope_converter(x):\n",
    "    #define format of datetime\n",
    "    return [y for y in x.replace(\"[\",\"\").replace(\"]\",\"\").replace(\"\\n\",\"\").split(\"'\") if (y != '') & (y != ' ')]\n",
    "\n",
    "def peptide_hla_converter(x):\n",
    "    return re.findall(\"\\w+\\s{1}\\w{1}\\d+\", x.replace(\"[\",\"\").replace(\"]\",\"\").replace(\"\\n\",\"\").replace(\"'\",\"\"))\n",
    "\n",
    "def literal_converter(val):\n",
    "    # replace NaN with '' and perform literal eval on the rest\n",
    "    return [] if val == '' else literal_eval(val)\n",
    "\n",
    "converters = {'peptide_HLA_lst': peptide_hla_converter,\n",
    "              'umi_count_lst_mhc': literal_eval,\n",
    "              'umi_count_lst_TRA': literal_converter,'umi_count_lst_TRB': literal_converter,\n",
    "              'cdr3_lst_TRA': cdr3_lst_converter,\n",
    "              'cdr3_lst_TRB': cdr3_lst_converter,\n",
    "              'HLA_lst_mhc': cdr3_lst_converter,'HLA_cd8': HLA_cd8_converter} #"
   ]
  },
  {
   "cell_type": "code",
   "execution_count": 3,
   "metadata": {},
   "outputs": [],
   "source": [
    "def notnan(x):\n",
    "    return x == x"
   ]
  },
  {
   "cell_type": "code",
   "execution_count": 4,
   "metadata": {},
   "outputs": [],
   "source": [
    "def get_multiplets(df):\n",
    "    #tmp = df[idx1 & idx2]\n",
    "    dct = df.groupby(['ct','peptide_HLA']).gem.count() > 1\n",
    "    idx = df.set_index(['ct','peptide_HLA']).index.map(dct)\n",
    "    return idx.fillna(False)"
   ]
  },
  {
   "cell_type": "code",
   "execution_count": 5,
   "metadata": {},
   "outputs": [],
   "source": [
    "OPT_THR = '../experiments/exp13/run1_archive/cat/eval_clonotypes/threshold/opt.csv'"
   ]
  },
  {
   "cell_type": "code",
   "execution_count": 6,
   "metadata": {},
   "outputs": [],
   "source": [
    "VALID = '../experiments/exp13/run1_archive/cat/eval_clonotypes/valid_ct.csv'"
   ]
  },
  {
   "cell_type": "code",
   "execution_count": 7,
   "metadata": {},
   "outputs": [],
   "source": [
    "HTO = '../experiments/exp13/run1_archive/brc/outfile.csv'\n",
    "GEX = '../experiments/exp13/run1_archive/tcr/usable_gems.txt'\n",
    "TCR = '../experiments/exp13/run1/tcr/cellranger_tot/outs/multi/vdj_t/all_contig_annotations.csv'\n",
    "TCR_ARC = '../experiments/exp13/run1_archive/tcr/cellranger_tot/outs/multi/vdj_t/all_contig_annotations.csv'"
   ]
  },
  {
   "cell_type": "code",
   "execution_count": 8,
   "metadata": {},
   "outputs": [],
   "source": [
    "tcr = pd.read_csv(TCR)\n",
    "tcr_dct = tcr.groupby('barcode').is_cell.unique().apply(lambda x: x[0])\n",
    "tcr_arc = pd.read_csv(TCR_ARC)\n",
    "arc_dct = tcr_arc.groupby('barcode').is_cell.unique().apply(lambda x: x[0])\n",
    "tcr_cell = pd.merge(arc_dct,tcr_dct, left_index=True,right_index=True, how='outer', suffixes=['_arc','_gex'])"
   ]
  },
  {
   "cell_type": "code",
   "execution_count": 9,
   "metadata": {},
   "outputs": [],
   "source": [
    "gex = pd.read_csv(GEX, header=None, names=['gem'])"
   ]
  },
  {
   "cell_type": "code",
   "execution_count": 10,
   "metadata": {},
   "outputs": [
    {
     "data": {
      "text/plain": [
       "umi_count_mhc    2.0\n",
       "delta_umi_mhc    1.0\n",
       "umi_count_cd8    0.0\n",
       "delta_umi_cd8    0.0\n",
       "umi_count_TRA   -0.0\n",
       "delta_umi_TRA    0.0\n",
       "umi_count_TRB   -0.0\n",
       "delta_umi_TRB   -0.0\n",
       "Name: thr, dtype: float64"
      ]
     },
     "execution_count": 10,
     "metadata": {},
     "output_type": "execute_result"
    }
   ],
   "source": [
    "opt_thr = pd.read_csv(OPT_THR, index_col=0, header=None, names=['thr']).thr.dropna()\n",
    "opt_thr.umi_count_cd8 = 0\n",
    "opt_thr.delta_umi_cd8 = 0\n",
    "opt_thr"
   ]
  },
  {
   "cell_type": "markdown",
   "metadata": {},
   "source": [
    "# Load"
   ]
  },
  {
   "cell_type": "code",
   "execution_count": 12,
   "metadata": {},
   "outputs": [],
   "source": [
    "os1 = pd.read_csv(VALID, converters=converters)"
   ]
  },
  {
   "cell_type": "code",
   "execution_count": 13,
   "metadata": {},
   "outputs": [],
   "source": [
    "os1.fillna({'umi_count_mhc':0, 'delta_umi_mhc':0, 'umi_count_mhc_rel':0,\n",
    "           'umi_count_cd8':0, 'delta_umi_cd8':0,\n",
    "           'umi_count_TRA':0, 'delta_umi_TRA':0,\n",
    "           'umi_count_TRB':0, 'delta_umi_TRB':0,\n",
    "           'cdr3_TRA':'','cdr3_TRB':''}, inplace=True)"
   ]
  },
  {
   "cell_type": "code",
   "execution_count": 15,
   "metadata": {},
   "outputs": [],
   "source": [
    "hto = pd.read_csv(HTO, skiprows=1, header=None,\n",
    "                  names=['gem','seurat','umi_count_hto','feature_rna','count_hto','feature_hto','hto_max_id','hto_sec_id',\n",
    "                         'hto_margin','hto_classification','hto_global_class','hash_id'])"
   ]
  },
  {
   "cell_type": "markdown",
   "metadata": {},
   "source": [
    "# Process"
   ]
  },
  {
   "cell_type": "code",
   "execution_count": 16,
   "metadata": {},
   "outputs": [],
   "source": [
    "df = pd.merge(os1, hto, how='left', on='gem')\n",
    "df.hto_global_class.fillna('Singlet', inplace=True)\n",
    "df['gex'] = df.gem.isin(gex.gem)\n",
    "#df['gex'] = df.gem.map(tcr_dct)\n",
    "df = pd.merge(df, tcr_cell, left_on='gem',right_index=True)"
   ]
  },
  {
   "cell_type": "markdown",
   "metadata": {},
   "source": [
    "# Main"
   ]
  },
  {
   "cell_type": "code",
   "execution_count": 22,
   "metadata": {},
   "outputs": [],
   "source": [
    "grp = df.groupby('ct').sample_id.unique()"
   ]
  },
  {
   "cell_type": "code",
   "execution_count": 25,
   "metadata": {},
   "outputs": [
    {
     "data": {
      "text/plain": [
       "ct\n",
       "1.0            [10.0, 4.0, 9.0, 1.0, 2.0, 8.0, 7.0]\n",
       "2.0                 [10.0, 7.0, 6.0, 9.0, 2.0, 1.0]\n",
       "3.0       [9.0, 4.0, 10.0, 8.0, 6.0, 1.0, 2.0, 7.0]\n",
       "4.0                      [8.0, 10.0, 5.0, 6.0, 1.0]\n",
       "5.0            [3.0, 10.0, 2.0, 1.0, 9.0, 7.0, 4.0]\n",
       "                            ...                    \n",
       "6843.0                             [8.0, 10.0, 7.0]\n",
       "6872.0                                  [10.0, 2.0]\n",
       "6891.0                                  [2.0, 10.0]\n",
       "6950.0                                  [7.0, 10.0]\n",
       "6958.0                             [10.0, 7.0, 2.0]\n",
       "Name: sample_id, Length: 192, dtype: object"
      ]
     },
     "execution_count": 25,
     "metadata": {},
     "output_type": "execute_result"
    }
   ],
   "source": [
    "grp[grp.apply(len) > 1]"
   ]
  },
  {
   "cell_type": "code",
   "execution_count": 26,
   "metadata": {},
   "outputs": [
    {
     "data": {
      "text/plain": [
       "(array([3.076e+03, 1.430e+02, 2.900e+01, 0.000e+00, 1.000e+01, 3.000e+00,\n",
       "        0.000e+00, 4.000e+00, 2.000e+00, 1.000e+00]),\n",
       " array([1. , 1.7, 2.4, 3.1, 3.8, 4.5, 5.2, 5.9, 6.6, 7.3, 8. ]),\n",
       " <a list of 10 Patch objects>)"
      ]
     },
     "execution_count": 26,
     "metadata": {},
     "output_type": "execute_result"
    },
    {
     "data": {
      "image/png": "[encoded data removed]",
      "text/plain": [
       "<Figure size 432x288 with 1 Axes>"
      ]
     },
     "metadata": {
      "needs_background": "light"
     },
     "output_type": "display_data"
    }
   ],
   "source": [
    "plt.hist(grp.apply(len))"
   ]
  },
  {
   "cell_type": "code",
   "execution_count": 31,
   "metadata": {},
   "outputs": [],
   "source": [
    "tmp = df.groupby(['ct','ct_pep']).sample_id.unique().to_frame()"
   ]
  },
  {
   "cell_type": "code",
   "execution_count": 34,
   "metadata": {},
   "outputs": [
    {
     "data": {
      "text/html": [
       "<div>\n",
       "<style scoped>\n",
       "    .dataframe tbody tr th:only-of-type {\n",
       "        vertical-align: middle;\n",
       "    }\n",
       "\n",
       "    .dataframe tbody tr th {\n",
       "        vertical-align: top;\n",
       "    }\n",
       "\n",
       "    .dataframe thead th {\n",
       "        text-align: right;\n",
       "    }\n",
       "</style>\n",
       "<table border=\"1\" class=\"dataframe\">\n",
       "  <thead>\n",
       "    <tr style=\"text-align: right;\">\n",
       "      <th></th>\n",
       "      <th></th>\n",
       "      <th>sample_id</th>\n",
       "      <th>n_samples</th>\n",
       "    </tr>\n",
       "    <tr>\n",
       "      <th>ct</th>\n",
       "      <th>ct_pep</th>\n",
       "      <th></th>\n",
       "      <th></th>\n",
       "    </tr>\n",
       "  </thead>\n",
       "  <tbody>\n",
       "    <tr>\n",
       "      <th>1.0</th>\n",
       "      <th>VLEETSVML A0201</th>\n",
       "      <td>[10.0, 4.0, 9.0, 1.0, 2.0, 8.0, 7.0]</td>\n",
       "      <td>7</td>\n",
       "    </tr>\n",
       "    <tr>\n",
       "      <th>2.0</th>\n",
       "      <th>RVRAYTYSK A0301</th>\n",
       "      <td>[10.0, 7.0, 6.0, 9.0, 2.0, 1.0]</td>\n",
       "      <td>6</td>\n",
       "    </tr>\n",
       "    <tr>\n",
       "      <th>3.0</th>\n",
       "      <th>TPRVTGGGAM B0702</th>\n",
       "      <td>[9.0, 4.0, 10.0, 8.0, 6.0, 1.0, 2.0, 7.0]</td>\n",
       "      <td>8</td>\n",
       "    </tr>\n",
       "    <tr>\n",
       "      <th>4.0</th>\n",
       "      <th>RPHERNGFTVL B0702</th>\n",
       "      <td>[8.0, 10.0, 5.0, 6.0, 1.0]</td>\n",
       "      <td>5</td>\n",
       "    </tr>\n",
       "    <tr>\n",
       "      <th>5.0</th>\n",
       "      <th>VLEETSVML A0201</th>\n",
       "      <td>[3.0, 10.0, 2.0, 1.0, 9.0, 7.0, 4.0]</td>\n",
       "      <td>7</td>\n",
       "    </tr>\n",
       "    <tr>\n",
       "      <th>...</th>\n",
       "      <th>...</th>\n",
       "      <td>...</td>\n",
       "      <td>...</td>\n",
       "    </tr>\n",
       "    <tr>\n",
       "      <th>5587.0</th>\n",
       "      <th>VLEETSVML A0201</th>\n",
       "      <td>[10.0, 3.0, 2.0, 8.0]</td>\n",
       "      <td>4</td>\n",
       "    </tr>\n",
       "    <tr>\n",
       "      <th>5602.0</th>\n",
       "      <th>RVRAYTYSK A0301</th>\n",
       "      <td>[2.0]</td>\n",
       "      <td>1</td>\n",
       "    </tr>\n",
       "    <tr>\n",
       "      <th>5609.0</th>\n",
       "      <th>TPRVTGGGAM B0702</th>\n",
       "      <td>[7.0, 10.0, 2.0]</td>\n",
       "      <td>3</td>\n",
       "    </tr>\n",
       "    <tr>\n",
       "      <th>5673.0</th>\n",
       "      <th>RVRAYTYSK A0301</th>\n",
       "      <td>[4.0]</td>\n",
       "      <td>1</td>\n",
       "    </tr>\n",
       "    <tr>\n",
       "      <th>5827.0</th>\n",
       "      <th>TPRVTGGGAM B0702</th>\n",
       "      <td>[6.0]</td>\n",
       "      <td>1</td>\n",
       "    </tr>\n",
       "  </tbody>\n",
       "</table>\n",
       "<p>103 rows × 2 columns</p>\n",
       "</div>"
      ],
      "text/plain": [
       "                                                          sample_id  n_samples\n",
       "ct     ct_pep                                                                 \n",
       "1.0    VLEETSVML A0201         [10.0, 4.0, 9.0, 1.0, 2.0, 8.0, 7.0]          7\n",
       "2.0    RVRAYTYSK A0301              [10.0, 7.0, 6.0, 9.0, 2.0, 1.0]          6\n",
       "3.0    TPRVTGGGAM B0702   [9.0, 4.0, 10.0, 8.0, 6.0, 1.0, 2.0, 7.0]          8\n",
       "4.0    RPHERNGFTVL B0702                 [8.0, 10.0, 5.0, 6.0, 1.0]          5\n",
       "5.0    VLEETSVML A0201         [3.0, 10.0, 2.0, 1.0, 9.0, 7.0, 4.0]          7\n",
       "...                                                             ...        ...\n",
       "5587.0 VLEETSVML A0201                        [10.0, 3.0, 2.0, 8.0]          4\n",
       "5602.0 RVRAYTYSK A0301                                        [2.0]          1\n",
       "5609.0 TPRVTGGGAM B0702                            [7.0, 10.0, 2.0]          3\n",
       "5673.0 RVRAYTYSK A0301                                        [4.0]          1\n",
       "5827.0 TPRVTGGGAM B0702                                       [6.0]          1\n",
       "\n",
       "[103 rows x 2 columns]"
      ]
     },
     "execution_count": 34,
     "metadata": {},
     "output_type": "execute_result"
    }
   ],
   "source": [
    "tmp"
   ]
  },
  {
   "cell_type": "code",
   "execution_count": 33,
   "metadata": {},
   "outputs": [],
   "source": [
    "tmp['n_samples'] = tmp.sample_id.apply(len)"
   ]
  },
  {
   "cell_type": "code",
   "execution_count": 36,
   "metadata": {},
   "outputs": [],
   "source": [
    "tmp.reset_index(inplace=True)"
   ]
  },
  {
   "cell_type": "code",
   "execution_count": 37,
   "metadata": {},
   "outputs": [
    {
     "data": {
      "text/html": [
       "<div>\n",
       "<style scoped>\n",
       "    .dataframe tbody tr th:only-of-type {\n",
       "        vertical-align: middle;\n",
       "    }\n",
       "\n",
       "    .dataframe tbody tr th {\n",
       "        vertical-align: top;\n",
       "    }\n",
       "\n",
       "    .dataframe thead th {\n",
       "        text-align: right;\n",
       "    }\n",
       "</style>\n",
       "<table border=\"1\" class=\"dataframe\">\n",
       "  <thead>\n",
       "    <tr style=\"text-align: right;\">\n",
       "      <th></th>\n",
       "      <th>ct</th>\n",
       "      <th>ct_pep</th>\n",
       "      <th>sample_id</th>\n",
       "      <th>n_samples</th>\n",
       "    </tr>\n",
       "  </thead>\n",
       "  <tbody>\n",
       "    <tr>\n",
       "      <th>0</th>\n",
       "      <td>1.0</td>\n",
       "      <td>VLEETSVML A0201</td>\n",
       "      <td>[10.0, 4.0, 9.0, 1.0, 2.0, 8.0, 7.0]</td>\n",
       "      <td>7</td>\n",
       "    </tr>\n",
       "    <tr>\n",
       "      <th>1</th>\n",
       "      <td>2.0</td>\n",
       "      <td>RVRAYTYSK A0301</td>\n",
       "      <td>[10.0, 7.0, 6.0, 9.0, 2.0, 1.0]</td>\n",
       "      <td>6</td>\n",
       "    </tr>\n",
       "    <tr>\n",
       "      <th>2</th>\n",
       "      <td>3.0</td>\n",
       "      <td>TPRVTGGGAM B0702</td>\n",
       "      <td>[9.0, 4.0, 10.0, 8.0, 6.0, 1.0, 2.0, 7.0]</td>\n",
       "      <td>8</td>\n",
       "    </tr>\n",
       "    <tr>\n",
       "      <th>3</th>\n",
       "      <td>4.0</td>\n",
       "      <td>RPHERNGFTVL B0702</td>\n",
       "      <td>[8.0, 10.0, 5.0, 6.0, 1.0]</td>\n",
       "      <td>5</td>\n",
       "    </tr>\n",
       "    <tr>\n",
       "      <th>4</th>\n",
       "      <td>5.0</td>\n",
       "      <td>VLEETSVML A0201</td>\n",
       "      <td>[3.0, 10.0, 2.0, 1.0, 9.0, 7.0, 4.0]</td>\n",
       "      <td>7</td>\n",
       "    </tr>\n",
       "    <tr>\n",
       "      <th>...</th>\n",
       "      <td>...</td>\n",
       "      <td>...</td>\n",
       "      <td>...</td>\n",
       "      <td>...</td>\n",
       "    </tr>\n",
       "    <tr>\n",
       "      <th>98</th>\n",
       "      <td>5587.0</td>\n",
       "      <td>VLEETSVML A0201</td>\n",
       "      <td>[10.0, 3.0, 2.0, 8.0]</td>\n",
       "      <td>4</td>\n",
       "    </tr>\n",
       "    <tr>\n",
       "      <th>99</th>\n",
       "      <td>5602.0</td>\n",
       "      <td>RVRAYTYSK A0301</td>\n",
       "      <td>[2.0]</td>\n",
       "      <td>1</td>\n",
       "    </tr>\n",
       "    <tr>\n",
       "      <th>100</th>\n",
       "      <td>5609.0</td>\n",
       "      <td>TPRVTGGGAM B0702</td>\n",
       "      <td>[7.0, 10.0, 2.0]</td>\n",
       "      <td>3</td>\n",
       "    </tr>\n",
       "    <tr>\n",
       "      <th>101</th>\n",
       "      <td>5673.0</td>\n",
       "      <td>RVRAYTYSK A0301</td>\n",
       "      <td>[4.0]</td>\n",
       "      <td>1</td>\n",
       "    </tr>\n",
       "    <tr>\n",
       "      <th>102</th>\n",
       "      <td>5827.0</td>\n",
       "      <td>TPRVTGGGAM B0702</td>\n",
       "      <td>[6.0]</td>\n",
       "      <td>1</td>\n",
       "    </tr>\n",
       "  </tbody>\n",
       "</table>\n",
       "<p>103 rows × 4 columns</p>\n",
       "</div>"
      ],
      "text/plain": [
       "         ct             ct_pep                                  sample_id  \\\n",
       "0       1.0    VLEETSVML A0201       [10.0, 4.0, 9.0, 1.0, 2.0, 8.0, 7.0]   \n",
       "1       2.0    RVRAYTYSK A0301            [10.0, 7.0, 6.0, 9.0, 2.0, 1.0]   \n",
       "2       3.0   TPRVTGGGAM B0702  [9.0, 4.0, 10.0, 8.0, 6.0, 1.0, 2.0, 7.0]   \n",
       "3       4.0  RPHERNGFTVL B0702                 [8.0, 10.0, 5.0, 6.0, 1.0]   \n",
       "4       5.0    VLEETSVML A0201       [3.0, 10.0, 2.0, 1.0, 9.0, 7.0, 4.0]   \n",
       "..      ...                ...                                        ...   \n",
       "98   5587.0    VLEETSVML A0201                      [10.0, 3.0, 2.0, 8.0]   \n",
       "99   5602.0    RVRAYTYSK A0301                                      [2.0]   \n",
       "100  5609.0   TPRVTGGGAM B0702                           [7.0, 10.0, 2.0]   \n",
       "101  5673.0    RVRAYTYSK A0301                                      [4.0]   \n",
       "102  5827.0   TPRVTGGGAM B0702                                      [6.0]   \n",
       "\n",
       "     n_samples  \n",
       "0            7  \n",
       "1            6  \n",
       "2            8  \n",
       "3            5  \n",
       "4            7  \n",
       "..         ...  \n",
       "98           4  \n",
       "99           1  \n",
       "100          3  \n",
       "101          1  \n",
       "102          1  \n",
       "\n",
       "[103 rows x 4 columns]"
      ]
     },
     "execution_count": 37,
     "metadata": {},
     "output_type": "execute_result"
    }
   ],
   "source": [
    "tmp"
   ]
  },
  {
   "cell_type": "code",
   "execution_count": 38,
   "metadata": {},
   "outputs": [
    {
     "data": {
      "text/plain": [
       "ct_pep\n",
       "CLGGLLTMV A0201                  [5, 1]\n",
       "FLYALALLL A0201                     [1]\n",
       "RPHERNGFTVL B0702       [5, 4, 6, 3, 1]\n",
       "RPPIFIRRL B0702               [3, 1, 6]\n",
       "RVRAYTYSK A0301         [6, 4, 3, 2, 1]\n",
       "TPRVTGGGAM B0702     [8, 5, 2, 1, 3, 4]\n",
       "TPSVSSSISSL B0702                   [1]\n",
       "VLEETSVML A0201               [7, 2, 4]\n",
       "YVLDHLIVV A0201               [3, 1, 2]\n",
       "Name: n_samples, dtype: object"
      ]
     },
     "execution_count": 38,
     "metadata": {},
     "output_type": "execute_result"
    }
   ],
   "source": [
    "tmp.groupby('ct_pep').n_samples.unique()"
   ]
  },
  {
   "cell_type": "code",
   "execution_count": null,
   "metadata": {},
   "outputs": [],
   "source": []
  }
 ],
 "metadata": {
  "kernelspec": {
   "display_name": "Python 3",
   "language": "python",
   "name": "python3"
  },
  "language_info": {
   "codemirror_mode": {
    "name": "ipython",
    "version": 3
   },
   "file_extension": ".py",
   "mimetype": "text/x-python",
   "name": "python",
   "nbconvert_exporter": "python",
   "pygments_lexer": "ipython3",
   "version": "3.7.3"
  }
 },
 "nbformat": 4,
 "nbformat_minor": 4
}
