{
 "cells": [
  {
   "cell_type": "code",
   "execution_count": 2,
   "metadata": {},
   "outputs": [
    {
     "name": "stdout",
     "output_type": "stream",
     "text": [
      "../notebooks/filtering_impact-10x.ipynb\n",
      "../notebooks/filtering_impact.ipynb\n",
      "../notebooks/sandbox/write_files_for_amalie.ipynb\n",
      "../notebooks/sandbox/experimental_validation.ipynb\n"
     ]
    }
   ],
   "source": [
    "import glob\n",
    "\n",
    "pattern = '../**/*.ipynb'\n",
    "query = 'plot_specificity('#'arc_data'\n",
    "\n",
    "for filepath in glob.iglob(pattern, recursive=True):\n",
    "    with open(filepath) as file:\n",
    "        s = file.read()\n",
    "        if (s.find(query) > -1):\n",
    "            print(filepath)"
   ]
  },
  {
   "cell_type": "code",
   "execution_count": null,
   "metadata": {},
   "outputs": [],
   "source": []
  }
 ],
 "metadata": {
  "kernelspec": {
   "display_name": "Python 3",
   "language": "python",
   "name": "python3"
  },
  "language_info": {
   "codemirror_mode": {
    "name": "ipython",
    "version": 3
   },
   "file_extension": ".py",
   "mimetype": "text/x-python",
   "name": "python",
   "nbconvert_exporter": "python",
   "pygments_lexer": "ipython3",
   "version": "3.7.3"
  }
 },
 "nbformat": 4,
 "nbformat_minor": 4
}
